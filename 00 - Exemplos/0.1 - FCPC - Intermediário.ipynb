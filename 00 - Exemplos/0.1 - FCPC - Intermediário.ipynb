{
 "cells": [
  {
   "cell_type": "code",
   "execution_count": 1,
   "metadata": {
    "collapsed": true
   },
   "outputs": [],
   "source": [
    "%run fcpc.py"
   ]
  },
  {
   "cell_type": "markdown",
   "metadata": {},
   "source": [
    "# CLT > quando houve aumento?"
   ]
  },
  {
   "cell_type": "markdown",
   "metadata": {},
   "source": [
    "# Termos mais comuns em nomes de projetos"
   ]
  },
  {
   "cell_type": "code",
   "execution_count": 222,
   "metadata": {
    "collapsed": true
   },
   "outputs": [],
   "source": [
    "from collections import Counter\n",
    "import re\n",
    "from nltk.corpus import stopwords"
   ]
  },
  {
   "cell_type": "code",
   "execution_count": 223,
   "metadata": {
    "collapsed": false
   },
   "outputs": [
    {
     "data": {
      "text/plain": [
       "[('fcpc', 876),\n",
       " ('ufc', 506),\n",
       " ('ct', 385),\n",
       " ('cv', 347),\n",
       " ('bnb', 123),\n",
       " ('termo', 109),\n",
       " ('curso', 90),\n",
       " ('aditivo', 79),\n",
       " ('carta', 66),\n",
       " ('tc', 45)]"
      ]
     },
     "execution_count": 223,
     "metadata": {},
     "output_type": "execute_result"
    }
   ],
   "source": [
    "ci = re.compile(r\"[\\-\\s\\.,º\\d/]\")\n",
    "\n",
    "termos = [x for x in ci.split(\" \".join(fcpc.PROJETO.unique().tolist()).lower()) if x and not ci.match(x)\\\n",
    "                                                                       and not x in stopwords.words(\"portuguese\")]\n",
    "c = Counter(termos)\n",
    "\n",
    "c.most_common(10)"
   ]
  },
  {
   "cell_type": "markdown",
   "metadata": {},
   "source": [
    "# Sazonalidade dos tipos de pagamento"
   ]
  },
  {
   "cell_type": "markdown",
   "metadata": {},
   "source": [
    "# Distância entre nomes pela quantidade de projetos em comum"
   ]
  },
  {
   "cell_type": "code",
   "execution_count": 67,
   "metadata": {
    "collapsed": false
   },
   "outputs": [
    {
     "data": {
      "text/html": [
       "<div>\n",
       "<table border=\"1\" class=\"dataframe\">\n",
       "  <thead>\n",
       "    <tr style=\"text-align: right;\">\n",
       "      <th>PROJETO_ID</th>\n",
       "      <th>0101</th>\n",
       "      <th>0104</th>\n",
       "      <th>1016</th>\n",
       "      <th>1017</th>\n",
       "      <th>1019</th>\n",
       "      <th>1021</th>\n",
       "      <th>1048</th>\n",
       "      <th>1088</th>\n",
       "      <th>1089</th>\n",
       "      <th>1109</th>\n",
       "      <th>...</th>\n",
       "      <th>3227</th>\n",
       "      <th>3230</th>\n",
       "      <th>3231</th>\n",
       "      <th>3232</th>\n",
       "      <th>3235</th>\n",
       "      <th>3236</th>\n",
       "      <th>3239</th>\n",
       "      <th>3253</th>\n",
       "      <th>3255</th>\n",
       "      <th>NÃO</th>\n",
       "    </tr>\n",
       "    <tr>\n",
       "      <th>NOME</th>\n",
       "      <th></th>\n",
       "      <th></th>\n",
       "      <th></th>\n",
       "      <th></th>\n",
       "      <th></th>\n",
       "      <th></th>\n",
       "      <th></th>\n",
       "      <th></th>\n",
       "      <th></th>\n",
       "      <th></th>\n",
       "      <th></th>\n",
       "      <th></th>\n",
       "      <th></th>\n",
       "      <th></th>\n",
       "      <th></th>\n",
       "      <th></th>\n",
       "      <th></th>\n",
       "      <th></th>\n",
       "      <th></th>\n",
       "      <th></th>\n",
       "      <th></th>\n",
       "    </tr>\n",
       "  </thead>\n",
       "  <tbody>\n",
       "    <tr>\n",
       "      <th>ABDENAGO ALVES DE BARROS</th>\n",
       "      <td>False</td>\n",
       "      <td>False</td>\n",
       "      <td>False</td>\n",
       "      <td>False</td>\n",
       "      <td>False</td>\n",
       "      <td>False</td>\n",
       "      <td>False</td>\n",
       "      <td>False</td>\n",
       "      <td>False</td>\n",
       "      <td>False</td>\n",
       "      <td>...</td>\n",
       "      <td>False</td>\n",
       "      <td>False</td>\n",
       "      <td>False</td>\n",
       "      <td>False</td>\n",
       "      <td>False</td>\n",
       "      <td>False</td>\n",
       "      <td>False</td>\n",
       "      <td>False</td>\n",
       "      <td>False</td>\n",
       "      <td>False</td>\n",
       "    </tr>\n",
       "    <tr>\n",
       "      <th>ABDIAS NEVES DE MELO NETO</th>\n",
       "      <td>False</td>\n",
       "      <td>False</td>\n",
       "      <td>False</td>\n",
       "      <td>False</td>\n",
       "      <td>False</td>\n",
       "      <td>False</td>\n",
       "      <td>False</td>\n",
       "      <td>False</td>\n",
       "      <td>False</td>\n",
       "      <td>False</td>\n",
       "      <td>...</td>\n",
       "      <td>False</td>\n",
       "      <td>False</td>\n",
       "      <td>False</td>\n",
       "      <td>False</td>\n",
       "      <td>False</td>\n",
       "      <td>False</td>\n",
       "      <td>False</td>\n",
       "      <td>False</td>\n",
       "      <td>False</td>\n",
       "      <td>False</td>\n",
       "    </tr>\n",
       "  </tbody>\n",
       "</table>\n",
       "<p>2 rows × 883 columns</p>\n",
       "</div>"
      ],
      "text/plain": [
       "PROJETO_ID                  0101   0104   1016   1017   1019   1021   1048  \\\n",
       "NOME                                                                         \n",
       "ABDENAGO ALVES DE BARROS   False  False  False  False  False  False  False   \n",
       "ABDIAS NEVES DE MELO NETO  False  False  False  False  False  False  False   \n",
       "\n",
       "PROJETO_ID                  1088   1089   1109  ...     3227   3230   3231  \\\n",
       "NOME                                            ...                          \n",
       "ABDENAGO ALVES DE BARROS   False  False  False  ...    False  False  False   \n",
       "ABDIAS NEVES DE MELO NETO  False  False  False  ...    False  False  False   \n",
       "\n",
       "PROJETO_ID                  3232   3235   3236   3239   3253   3255    NÃO  \n",
       "NOME                                                                        \n",
       "ABDENAGO ALVES DE BARROS   False  False  False  False  False  False  False  \n",
       "ABDIAS NEVES DE MELO NETO  False  False  False  False  False  False  False  \n",
       "\n",
       "[2 rows x 883 columns]"
      ]
     },
     "execution_count": 67,
     "metadata": {},
     "output_type": "execute_result"
    }
   ],
   "source": [
    "m_nome_proj_id = fcpc.groupby([\"NOME\", \"PROJETO_ID\"]).size().apply(lambda x: True).unstack().fillna(False)\n",
    "m_nome_proj_id.head(2)"
   ]
  },
  {
   "cell_type": "code",
   "execution_count": 68,
   "metadata": {
    "collapsed": true
   },
   "outputs": [],
   "source": [
    "from sklearn.neighbors import NearestNeighbors\n",
    "# manhatan > quantidade de projetos da diferença simétrica\n",
    "nn = NearestNeighbors(p=1).fit(m_nome_proj_id)"
   ]
  },
  {
   "cell_type": "code",
   "execution_count": 93,
   "metadata": {
    "collapsed": false
   },
   "outputs": [
    {
     "data": {
      "text/html": [
       "\n",
       "        <style  type=\"text/css\" >\n",
       "        \n",
       "        \n",
       "            #T_5689d6ae_345a_11e7_8896_ac9e17df90earow0_col0 {\n",
       "            \n",
       "                color:  red;\n",
       "            \n",
       "            }\n",
       "        \n",
       "            #T_5689d6ae_345a_11e7_8896_ac9e17df90earow0_col1 {\n",
       "            \n",
       "                color:  red;\n",
       "            \n",
       "            }\n",
       "        \n",
       "            #T_5689d6ae_345a_11e7_8896_ac9e17df90earow3_col0 {\n",
       "            \n",
       "                color:  red;\n",
       "            \n",
       "            }\n",
       "        \n",
       "            #T_5689d6ae_345a_11e7_8896_ac9e17df90earow3_col1 {\n",
       "            \n",
       "                color:  red;\n",
       "            \n",
       "            }\n",
       "        \n",
       "            #T_5689d6ae_345a_11e7_8896_ac9e17df90earow11_col0 {\n",
       "            \n",
       "                color:  red;\n",
       "            \n",
       "            }\n",
       "        \n",
       "            #T_5689d6ae_345a_11e7_8896_ac9e17df90earow11_col1 {\n",
       "            \n",
       "                color:  red;\n",
       "            \n",
       "            }\n",
       "        \n",
       "        </style>\n",
       "\n",
       "        <table id=\"T_5689d6ae_345a_11e7_8896_ac9e17df90ea\" None>\n",
       "        \n",
       "\n",
       "        <thead>\n",
       "            \n",
       "            <tr>\n",
       "                \n",
       "                \n",
       "                <th class=\"blank level0\" >\n",
       "                  \n",
       "                \n",
       "                \n",
       "                \n",
       "                <th class=\"col_heading level0 col0\" colspan=1>\n",
       "                  distancia\n",
       "                \n",
       "                \n",
       "                \n",
       "                <th class=\"col_heading level0 col1\" colspan=1>\n",
       "                  nome\n",
       "                \n",
       "                \n",
       "            </tr>\n",
       "            \n",
       "        </thead>\n",
       "        <tbody>\n",
       "            \n",
       "            <tr>\n",
       "                \n",
       "                \n",
       "                <th id=\"T_5689d6ae_345a_11e7_8896_ac9e17df90ea\"\n",
       "                 class=\"row_heading level0 row0\" rowspan=1>\n",
       "                    10\n",
       "                \n",
       "                \n",
       "                \n",
       "                <td id=\"T_5689d6ae_345a_11e7_8896_ac9e17df90earow0_col0\"\n",
       "                 class=\"data row0 col0\" >\n",
       "                    0\n",
       "                \n",
       "                \n",
       "                \n",
       "                <td id=\"T_5689d6ae_345a_11e7_8896_ac9e17df90earow0_col1\"\n",
       "                 class=\"data row0 col1\" >\n",
       "                    ABELARDO VIEIRA MOTA\n",
       "                \n",
       "                \n",
       "            </tr>\n",
       "            \n",
       "            <tr>\n",
       "                \n",
       "                \n",
       "                <th id=\"T_5689d6ae_345a_11e7_8896_ac9e17df90ea\"\n",
       "                 class=\"row_heading level0 row1\" rowspan=1>\n",
       "                    16\n",
       "                \n",
       "                \n",
       "                \n",
       "                <td id=\"T_5689d6ae_345a_11e7_8896_ac9e17df90earow1_col0\"\n",
       "                 class=\"data row1 col0\" >\n",
       "                    0\n",
       "                \n",
       "                \n",
       "                \n",
       "                <td id=\"T_5689d6ae_345a_11e7_8896_ac9e17df90earow1_col1\"\n",
       "                 class=\"data row1 col1\" >\n",
       "                    ADYSON MAGALHAES MAIA\n",
       "                \n",
       "                \n",
       "            </tr>\n",
       "            \n",
       "            <tr>\n",
       "                \n",
       "                \n",
       "                <th id=\"T_5689d6ae_345a_11e7_8896_ac9e17df90ea\"\n",
       "                 class=\"row_heading level0 row2\" rowspan=1>\n",
       "                    14\n",
       "                \n",
       "                \n",
       "                \n",
       "                <td id=\"T_5689d6ae_345a_11e7_8896_ac9e17df90earow2_col0\"\n",
       "                 class=\"data row2 col0\" >\n",
       "                    0\n",
       "                \n",
       "                \n",
       "                \n",
       "                <td id=\"T_5689d6ae_345a_11e7_8896_ac9e17df90earow2_col1\"\n",
       "                 class=\"data row2 col1\" >\n",
       "                    BENEDITO JOSE DE ALMEIDA NETO\n",
       "                \n",
       "                \n",
       "            </tr>\n",
       "            \n",
       "            <tr>\n",
       "                \n",
       "                \n",
       "                <th id=\"T_5689d6ae_345a_11e7_8896_ac9e17df90ea\"\n",
       "                 class=\"row_heading level0 row3\" rowspan=1>\n",
       "                    7\n",
       "                \n",
       "                \n",
       "                \n",
       "                <td id=\"T_5689d6ae_345a_11e7_8896_ac9e17df90earow3_col0\"\n",
       "                 class=\"data row3 col0\" >\n",
       "                    0\n",
       "                \n",
       "                \n",
       "                \n",
       "                <td id=\"T_5689d6ae_345a_11e7_8896_ac9e17df90earow3_col1\"\n",
       "                 class=\"data row3 col1\" >\n",
       "                    ELIEZER TOME DE PAULA NETO\n",
       "                \n",
       "                \n",
       "            </tr>\n",
       "            \n",
       "            <tr>\n",
       "                \n",
       "                \n",
       "                <th id=\"T_5689d6ae_345a_11e7_8896_ac9e17df90ea\"\n",
       "                 class=\"row_heading level0 row4\" rowspan=1>\n",
       "                    15\n",
       "                \n",
       "                \n",
       "                \n",
       "                <td id=\"T_5689d6ae_345a_11e7_8896_ac9e17df90earow4_col0\"\n",
       "                 class=\"data row4 col0\" >\n",
       "                    0\n",
       "                \n",
       "                \n",
       "                \n",
       "                <td id=\"T_5689d6ae_345a_11e7_8896_ac9e17df90earow4_col1\"\n",
       "                 class=\"data row4 col1\" >\n",
       "                    FRANCISCO DOUGLAS MOURA\n",
       "                \n",
       "                \n",
       "            </tr>\n",
       "            \n",
       "            <tr>\n",
       "                \n",
       "                \n",
       "                <th id=\"T_5689d6ae_345a_11e7_8896_ac9e17df90ea\"\n",
       "                 class=\"row_heading level0 row5\" rowspan=1>\n",
       "                    2\n",
       "                \n",
       "                \n",
       "                \n",
       "                <td id=\"T_5689d6ae_345a_11e7_8896_ac9e17df90earow5_col0\"\n",
       "                 class=\"data row5 col0\" >\n",
       "                    0\n",
       "                \n",
       "                \n",
       "                \n",
       "                <td id=\"T_5689d6ae_345a_11e7_8896_ac9e17df90earow5_col1\"\n",
       "                 class=\"data row5 col1\" >\n",
       "                    IDALICE MARIA ARAGAO ROCHA COSTA\n",
       "                \n",
       "                \n",
       "            </tr>\n",
       "            \n",
       "            <tr>\n",
       "                \n",
       "                \n",
       "                <th id=\"T_5689d6ae_345a_11e7_8896_ac9e17df90ea\"\n",
       "                 class=\"row_heading level0 row6\" rowspan=1>\n",
       "                    9\n",
       "                \n",
       "                \n",
       "                \n",
       "                <td id=\"T_5689d6ae_345a_11e7_8896_ac9e17df90earow6_col0\"\n",
       "                 class=\"data row6 col0\" >\n",
       "                    0\n",
       "                \n",
       "                \n",
       "                \n",
       "                <td id=\"T_5689d6ae_345a_11e7_8896_ac9e17df90earow6_col1\"\n",
       "                 class=\"data row6 col1\" >\n",
       "                    IRLANA MARIA ROCHA COSTA\n",
       "                \n",
       "                \n",
       "            </tr>\n",
       "            \n",
       "            <tr>\n",
       "                \n",
       "                \n",
       "                <th id=\"T_5689d6ae_345a_11e7_8896_ac9e17df90ea\"\n",
       "                 class=\"row_heading level0 row7\" rowspan=1>\n",
       "                    0\n",
       "                \n",
       "                \n",
       "                \n",
       "                <td id=\"T_5689d6ae_345a_11e7_8896_ac9e17df90earow7_col0\"\n",
       "                 class=\"data row7 col0\" >\n",
       "                    0\n",
       "                \n",
       "                \n",
       "                \n",
       "                <td id=\"T_5689d6ae_345a_11e7_8896_ac9e17df90earow7_col1\"\n",
       "                 class=\"data row7 col1\" >\n",
       "                    JOSE DE RIBAMAR M. BRINGEL FILHO\n",
       "                \n",
       "                \n",
       "            </tr>\n",
       "            \n",
       "            <tr>\n",
       "                \n",
       "                \n",
       "                <th id=\"T_5689d6ae_345a_11e7_8896_ac9e17df90ea\"\n",
       "                 class=\"row_heading level0 row8\" rowspan=1>\n",
       "                    4\n",
       "                \n",
       "                \n",
       "                \n",
       "                <td id=\"T_5689d6ae_345a_11e7_8896_ac9e17df90earow8_col0\"\n",
       "                 class=\"data row8 col0\" >\n",
       "                    0\n",
       "                \n",
       "                \n",
       "                \n",
       "                <td id=\"T_5689d6ae_345a_11e7_8896_ac9e17df90earow8_col1\"\n",
       "                 class=\"data row8 col1\" >\n",
       "                    JOSE RODRIGUES DO NASCIMENTO NETO\n",
       "                \n",
       "                \n",
       "            </tr>\n",
       "            \n",
       "            <tr>\n",
       "                \n",
       "                \n",
       "                <th id=\"T_5689d6ae_345a_11e7_8896_ac9e17df90ea\"\n",
       "                 class=\"row_heading level0 row9\" rowspan=1>\n",
       "                    11\n",
       "                \n",
       "                \n",
       "                \n",
       "                <td id=\"T_5689d6ae_345a_11e7_8896_ac9e17df90earow9_col0\"\n",
       "                 class=\"data row9 col0\" >\n",
       "                    0\n",
       "                \n",
       "                \n",
       "                \n",
       "                <td id=\"T_5689d6ae_345a_11e7_8896_ac9e17df90earow9_col1\"\n",
       "                 class=\"data row9 col1\" >\n",
       "                    MARKUS ENDLER\n",
       "                \n",
       "                \n",
       "            </tr>\n",
       "            \n",
       "            <tr>\n",
       "                \n",
       "                \n",
       "                <th id=\"T_5689d6ae_345a_11e7_8896_ac9e17df90ea\"\n",
       "                 class=\"row_heading level0 row10\" rowspan=1>\n",
       "                    5\n",
       "                \n",
       "                \n",
       "                \n",
       "                <td id=\"T_5689d6ae_345a_11e7_8896_ac9e17df90earow10_col0\"\n",
       "                 class=\"data row10 col0\" >\n",
       "                    0\n",
       "                \n",
       "                \n",
       "                \n",
       "                <td id=\"T_5689d6ae_345a_11e7_8896_ac9e17df90earow10_col1\"\n",
       "                 class=\"data row10 col1\" >\n",
       "                    PAULO CESAR MASIERO\n",
       "                \n",
       "                \n",
       "            </tr>\n",
       "            \n",
       "            <tr>\n",
       "                \n",
       "                \n",
       "                <th id=\"T_5689d6ae_345a_11e7_8896_ac9e17df90ea\"\n",
       "                 class=\"row_heading level0 row11\" rowspan=1>\n",
       "                    12\n",
       "                \n",
       "                \n",
       "                \n",
       "                <td id=\"T_5689d6ae_345a_11e7_8896_ac9e17df90earow11_col0\"\n",
       "                 class=\"data row11 col0\" >\n",
       "                    0\n",
       "                \n",
       "                \n",
       "                \n",
       "                <td id=\"T_5689d6ae_345a_11e7_8896_ac9e17df90earow11_col1\"\n",
       "                 class=\"data row11 col1\" >\n",
       "                    PAULO HENRIQUE MACEDO DE ARAUJO\n",
       "                \n",
       "                \n",
       "            </tr>\n",
       "            \n",
       "        </tbody>\n",
       "        </table>\n",
       "        "
      ],
      "text/plain": [
       "<pandas.formats.style.Styler at 0x160807bab00>"
      ]
     },
     "execution_count": 93,
     "metadata": {},
     "output_type": "execute_result"
    }
   ],
   "source": [
    "distances, neighbors = nn.kneighbors([m_nome_proj_id.loc[\"ABELARDO VIEIRA MOTA\", :]], 20)\n",
    "\n",
    "def pintae(v):\n",
    "    onde_pintar = v[\"nome\"].isin([\"ABELARDO VIEIRA MOTA\",\n",
    "                        \"ELIEZER TOME DE PAULA NETO\",\n",
    "                        \"PAULO HENRIQUE MACEDO DE ARAUJO\"])\n",
    "    on = np.where(onde_pintar, \"color: red\", \"\")\n",
    "    \n",
    "    return pd.DataFrame(np.c_[on, on],\n",
    "                        index=v.index,\n",
    "                        columns=v.columns)\n",
    "    \n",
    "pd.DataFrame(list(zip(distances[0], m_nome_proj_id.index[neighbors[0]])), columns=[\"distancia\", \"nome\"])\\\n",
    ".sort_values([\"distancia\", \"nome\"]).head(12)\\\n",
    ".style.apply(pintae, axis=None)"
   ]
  },
  {
   "cell_type": "markdown",
   "metadata": {},
   "source": [
    "# Distância entre nomes pela quantidade de termos comuns"
   ]
  },
  {
   "cell_type": "code",
   "execution_count": 354,
   "metadata": {
    "collapsed": true
   },
   "outputs": [],
   "source": [
    "from sklearn.neighbors import NearestNeighbors\n",
    "from sklearn.feature_extraction.text import TfidfVectorizer\n",
    "from sklearn.feature_extraction.text import CountVectorizer\n",
    "from nltk.corpus import stopwords"
   ]
  },
  {
   "cell_type": "code",
   "execution_count": 286,
   "metadata": {
    "collapsed": false
   },
   "outputs": [],
   "source": [
    "nomes = fcpc.NOME.unique()"
   ]
  },
  {
   "cell_type": "code",
   "execution_count": 391,
   "metadata": {
    "collapsed": false
   },
   "outputs": [],
   "source": [
    "tokenizer = re.compile(' ').split\n",
    "\n",
    "cv = CountVectorizer(stop_words=stopwords.words(\"portuguese\")).fit(nomes)\n",
    "m = cv.transform(nomes)\n",
    "nn = NearestNeighbors(metric=\"manhattan\").fit(m)"
   ]
  },
  {
   "cell_type": "code",
   "execution_count": 400,
   "metadata": {
    "collapsed": true
   },
   "outputs": [],
   "source": [
    "def top_n(nome, n=3):\n",
    "    \n",
    "    ds, noms = nn.kneighbors(cv.transform([nome]), n_neighbors=n)\n",
    "    \n",
    "    return pd.DataFrame(list(zip(nomes[noms[0]], ds[0])), columns=[\"NOME\", \"DISTANCIA\"])"
   ]
  },
  {
   "cell_type": "code",
   "execution_count": 401,
   "metadata": {
    "collapsed": false
   },
   "outputs": [
    {
     "data": {
      "text/html": [
       "<div>\n",
       "<table border=\"1\" class=\"dataframe\">\n",
       "  <thead>\n",
       "    <tr style=\"text-align: right;\">\n",
       "      <th></th>\n",
       "      <th>NOME</th>\n",
       "      <th>DISTANCIA</th>\n",
       "    </tr>\n",
       "  </thead>\n",
       "  <tbody>\n",
       "    <tr>\n",
       "      <th>0</th>\n",
       "      <td>ABELARDO VIEIRA MOTA</td>\n",
       "      <td>0,00</td>\n",
       "    </tr>\n",
       "    <tr>\n",
       "      <th>1</th>\n",
       "      <td>MATILDE VIEIRA DOS SANTOS</td>\n",
       "      <td>4,00</td>\n",
       "    </tr>\n",
       "    <tr>\n",
       "      <th>2</th>\n",
       "      <td>JOAO VIEIRA CAVALCANTE</td>\n",
       "      <td>4,00</td>\n",
       "    </tr>\n",
       "  </tbody>\n",
       "</table>\n",
       "</div>"
      ],
      "text/plain": [
       "                        NOME  DISTANCIA\n",
       "0       ABELARDO VIEIRA MOTA       0,00\n",
       "1  MATILDE VIEIRA DOS SANTOS       4,00\n",
       "2     JOAO VIEIRA CAVALCANTE       4,00"
      ]
     },
     "execution_count": 401,
     "metadata": {},
     "output_type": "execute_result"
    }
   ],
   "source": [
    "top_n(\"ABELARDO VIEIRA MOTA\")"
   ]
  },
  {
   "cell_type": "code",
   "execution_count": 402,
   "metadata": {
    "collapsed": false
   },
   "outputs": [
    {
     "data": {
      "text/html": [
       "<div>\n",
       "<table border=\"1\" class=\"dataframe\">\n",
       "  <thead>\n",
       "    <tr style=\"text-align: right;\">\n",
       "      <th></th>\n",
       "      <th>NOME</th>\n",
       "      <th>DISTANCIA</th>\n",
       "    </tr>\n",
       "  </thead>\n",
       "  <tbody>\n",
       "    <tr>\n",
       "      <th>0</th>\n",
       "      <td>JOSE ANTONIO FERNANDES DE MACEDO</td>\n",
       "      <td>0,00</td>\n",
       "    </tr>\n",
       "    <tr>\n",
       "      <th>1</th>\n",
       "      <td>MARCOS ANTONIO DE MACEDO</td>\n",
       "      <td>3,00</td>\n",
       "    </tr>\n",
       "    <tr>\n",
       "      <th>2</th>\n",
       "      <td>HILDENIO JOSE MACEDO</td>\n",
       "      <td>3,00</td>\n",
       "    </tr>\n",
       "  </tbody>\n",
       "</table>\n",
       "</div>"
      ],
      "text/plain": [
       "                               NOME  DISTANCIA\n",
       "0  JOSE ANTONIO FERNANDES DE MACEDO       0,00\n",
       "1          MARCOS ANTONIO DE MACEDO       3,00\n",
       "2              HILDENIO JOSE MACEDO       3,00"
      ]
     },
     "execution_count": 402,
     "metadata": {},
     "output_type": "execute_result"
    }
   ],
   "source": [
    "top_n(\"JOSE ANTONIO FERNANDES DE MACEDO\")"
   ]
  },
  {
   "cell_type": "code",
   "execution_count": 403,
   "metadata": {
    "collapsed": false
   },
   "outputs": [
    {
     "data": {
      "text/html": [
       "<div>\n",
       "<table border=\"1\" class=\"dataframe\">\n",
       "  <thead>\n",
       "    <tr style=\"text-align: right;\">\n",
       "      <th></th>\n",
       "      <th>NOME</th>\n",
       "      <th>DISTANCIA</th>\n",
       "    </tr>\n",
       "  </thead>\n",
       "  <tbody>\n",
       "    <tr>\n",
       "      <th>0</th>\n",
       "      <td>JAVAM DE CASTRO MACHADO</td>\n",
       "      <td>0,00</td>\n",
       "    </tr>\n",
       "    <tr>\n",
       "      <th>1</th>\n",
       "      <td>ROSELIA C. DE CASTRO MACHADO</td>\n",
       "      <td>2,00</td>\n",
       "    </tr>\n",
       "    <tr>\n",
       "      <th>2</th>\n",
       "      <td>JONATHAN MACHADO DE CASTRO</td>\n",
       "      <td>2,00</td>\n",
       "    </tr>\n",
       "  </tbody>\n",
       "</table>\n",
       "</div>"
      ],
      "text/plain": [
       "                           NOME  DISTANCIA\n",
       "0       JAVAM DE CASTRO MACHADO       0,00\n",
       "1  ROSELIA C. DE CASTRO MACHADO       2,00\n",
       "2    JONATHAN MACHADO DE CASTRO       2,00"
      ]
     },
     "execution_count": 403,
     "metadata": {},
     "output_type": "execute_result"
    }
   ],
   "source": [
    "top_n(\"JAVAM DE CASTRO MACHADO\")"
   ]
  },
  {
   "cell_type": "code",
   "execution_count": 404,
   "metadata": {
    "collapsed": true
   },
   "outputs": [],
   "source": [
    "tfidf = TfidfVectorizer(stop_words=stopwords.words(\"portuguese\")).fit(nomes)\n",
    "m = tfidf.transform(nomes)\n",
    "nn = NearestNeighbors(metric=\"manhattan\").fit(m)"
   ]
  },
  {
   "cell_type": "code",
   "execution_count": 405,
   "metadata": {
    "collapsed": false
   },
   "outputs": [
    {
     "data": {
      "text/html": [
       "<div>\n",
       "<table border=\"1\" class=\"dataframe\">\n",
       "  <thead>\n",
       "    <tr style=\"text-align: right;\">\n",
       "      <th></th>\n",
       "      <th>NOME</th>\n",
       "      <th>DISTANCIA</th>\n",
       "    </tr>\n",
       "  </thead>\n",
       "  <tbody>\n",
       "    <tr>\n",
       "      <th>0</th>\n",
       "      <td>ABELARDO VIEIRA MOTA</td>\n",
       "      <td>1,34</td>\n",
       "    </tr>\n",
       "    <tr>\n",
       "      <th>1</th>\n",
       "      <td>ANTONIO ABELARDO COSTA SOUSA</td>\n",
       "      <td>3,25</td>\n",
       "    </tr>\n",
       "    <tr>\n",
       "      <th>2</th>\n",
       "      <td>JOAO VIEIRA DA SILVA</td>\n",
       "      <td>3,40</td>\n",
       "    </tr>\n",
       "  </tbody>\n",
       "</table>\n",
       "</div>"
      ],
      "text/plain": [
       "                           NOME  DISTANCIA\n",
       "0          ABELARDO VIEIRA MOTA       1,34\n",
       "1  ANTONIO ABELARDO COSTA SOUSA       3,25\n",
       "2          JOAO VIEIRA DA SILVA       3,40"
      ]
     },
     "execution_count": 405,
     "metadata": {},
     "output_type": "execute_result"
    }
   ],
   "source": [
    "top_n(\"ABELARDO VIEIRA MOTA\")"
   ]
  },
  {
   "cell_type": "code",
   "execution_count": 406,
   "metadata": {
    "collapsed": false
   },
   "outputs": [
    {
     "data": {
      "text/html": [
       "<div>\n",
       "<table border=\"1\" class=\"dataframe\">\n",
       "  <thead>\n",
       "    <tr style=\"text-align: right;\">\n",
       "      <th></th>\n",
       "      <th>NOME</th>\n",
       "      <th>DISTANCIA</th>\n",
       "    </tr>\n",
       "  </thead>\n",
       "  <tbody>\n",
       "    <tr>\n",
       "      <th>0</th>\n",
       "      <td>JOSE ANTONIO FERNANDES DE MACEDO</td>\n",
       "      <td>2,02</td>\n",
       "    </tr>\n",
       "    <tr>\n",
       "      <th>1</th>\n",
       "      <td>JOSE FERNANDES DA SILVA</td>\n",
       "      <td>3,13</td>\n",
       "    </tr>\n",
       "    <tr>\n",
       "      <th>2</th>\n",
       "      <td>ANTONIO JOSE DOS SANTOS</td>\n",
       "      <td>3,37</td>\n",
       "    </tr>\n",
       "  </tbody>\n",
       "</table>\n",
       "</div>"
      ],
      "text/plain": [
       "                               NOME  DISTANCIA\n",
       "0  JOSE ANTONIO FERNANDES DE MACEDO       2,02\n",
       "1           JOSE FERNANDES DA SILVA       3,13\n",
       "2           ANTONIO JOSE DOS SANTOS       3,37"
      ]
     },
     "execution_count": 406,
     "metadata": {},
     "output_type": "execute_result"
    }
   ],
   "source": [
    "top_n(\"JOSE ANTONIO FERNANDES DE MACEDO\")"
   ]
  },
  {
   "cell_type": "code",
   "execution_count": 407,
   "metadata": {
    "collapsed": false
   },
   "outputs": [
    {
     "data": {
      "text/html": [
       "<div>\n",
       "<table border=\"1\" class=\"dataframe\">\n",
       "  <thead>\n",
       "    <tr style=\"text-align: right;\">\n",
       "      <th></th>\n",
       "      <th>NOME</th>\n",
       "      <th>DISTANCIA</th>\n",
       "    </tr>\n",
       "  </thead>\n",
       "  <tbody>\n",
       "    <tr>\n",
       "      <th>0</th>\n",
       "      <td>JAVAM DE CASTRO MACHADO</td>\n",
       "      <td>1,34</td>\n",
       "    </tr>\n",
       "    <tr>\n",
       "      <th>1</th>\n",
       "      <td>JONATHAN MACHADO DE CASTRO</td>\n",
       "      <td>2,75</td>\n",
       "    </tr>\n",
       "    <tr>\n",
       "      <th>2</th>\n",
       "      <td>ROSELIA C. DE CASTRO MACHADO</td>\n",
       "      <td>2,85</td>\n",
       "    </tr>\n",
       "  </tbody>\n",
       "</table>\n",
       "</div>"
      ],
      "text/plain": [
       "                           NOME  DISTANCIA\n",
       "0       JAVAM DE CASTRO MACHADO       1,34\n",
       "1    JONATHAN MACHADO DE CASTRO       2,75\n",
       "2  ROSELIA C. DE CASTRO MACHADO       2,85"
      ]
     },
     "execution_count": 407,
     "metadata": {},
     "output_type": "execute_result"
    }
   ],
   "source": [
    "top_n(\"JAVAM DE CASTRO MACHADO\")"
   ]
  }
 ],
 "metadata": {
  "anaconda-cloud": {},
  "kernelspec": {
   "display_name": "Python [conda root]",
   "language": "python",
   "name": "conda-root-py"
  },
  "language_info": {
   "codemirror_mode": {
    "name": "ipython",
    "version": 3
   },
   "file_extension": ".py",
   "mimetype": "text/x-python",
   "name": "python",
   "nbconvert_exporter": "python",
   "pygments_lexer": "ipython3",
   "version": "3.5.2"
  }
 },
 "nbformat": 4,
 "nbformat_minor": 1
}
