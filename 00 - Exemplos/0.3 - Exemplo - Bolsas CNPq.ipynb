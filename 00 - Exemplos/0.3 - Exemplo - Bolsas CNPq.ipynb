{
 "cells": [
  {
   "cell_type": "markdown",
   "metadata": {},
   "source": [
    "# Bolsas CNPq\n",
    "\n",
    "https://github.com/abevieiramota/dataset-bolsas-cnpq"
   ]
  },
  {
   "cell_type": "code",
   "execution_count": 1,
   "metadata": {
    "collapsed": false
   },
   "outputs": [],
   "source": [
    "import pandas as pd\n",
    "from matplotlib import pyplot as plt\n",
    "import seaborn as sns\n",
    "import numpy as np\n",
    "\n",
    "%matplotlib inline"
   ]
  },
  {
   "cell_type": "code",
   "execution_count": 45,
   "metadata": {
    "collapsed": false
   },
   "outputs": [],
   "source": [
    "df = pd.read_csv(\"../../dataset-bolsas-cnpq/dataset.csv\")"
   ]
  },
  {
   "cell_type": "code",
   "execution_count": 4,
   "metadata": {
    "collapsed": false
   },
   "outputs": [
    {
     "data": {
      "text/plain": [
       "(2140823, 18)"
      ]
     },
     "execution_count": 4,
     "metadata": {},
     "output_type": "execute_result"
    }
   ],
   "source": [
    "df.shape"
   ]
  },
  {
   "cell_type": "code",
   "execution_count": 5,
   "metadata": {
    "collapsed": false
   },
   "outputs": [
    {
     "data": {
      "text/html": [
       "<div>\n",
       "<table border=\"1\" class=\"dataframe\">\n",
       "  <thead>\n",
       "    <tr style=\"text-align: right;\">\n",
       "      <th></th>\n",
       "      <th>805384</th>\n",
       "    </tr>\n",
       "  </thead>\n",
       "  <tbody>\n",
       "    <tr>\n",
       "      <th>ANO-PAGAMENTO</th>\n",
       "      <td>2009</td>\n",
       "    </tr>\n",
       "    <tr>\n",
       "      <th>CODIGO-DO-PROCESSO</th>\n",
       "      <td>301131/2005-8</td>\n",
       "    </tr>\n",
       "    <tr>\n",
       "      <th>QUANTIDADE-BOLSA-ANO</th>\n",
       "      <td>0.17</td>\n",
       "    </tr>\n",
       "    <tr>\n",
       "      <th>QUANTIDADE-MESES-PAGOS</th>\n",
       "      <td>2</td>\n",
       "    </tr>\n",
       "    <tr>\n",
       "      <th>SEXO</th>\n",
       "      <td>M</td>\n",
       "    </tr>\n",
       "    <tr>\n",
       "      <th>SIGLA-UF-INSTITUICAO</th>\n",
       "      <td>SC</td>\n",
       "    </tr>\n",
       "    <tr>\n",
       "      <th>VALOR-PAGO</th>\n",
       "      <td>1952</td>\n",
       "    </tr>\n",
       "    <tr>\n",
       "      <th>NOME-CURSO-ID</th>\n",
       "      <td>769</td>\n",
       "    </tr>\n",
       "    <tr>\n",
       "      <th>NOME-DA-AREA-DO-CONHECIMENTO-ID</th>\n",
       "      <td>71</td>\n",
       "    </tr>\n",
       "    <tr>\n",
       "      <th>NOME-DA-ESPECIALIDADE-ID</th>\n",
       "      <td>549</td>\n",
       "    </tr>\n",
       "    <tr>\n",
       "      <th>NOME-DA-SUB-AREA-DO-CONHECIMENTO-ID</th>\n",
       "      <td>140</td>\n",
       "    </tr>\n",
       "    <tr>\n",
       "      <th>NOME-GRANDE-AREA-DO-CONHECIMENTO-ID</th>\n",
       "      <td>1</td>\n",
       "    </tr>\n",
       "    <tr>\n",
       "      <th>PAIS-INSTITUICAO-ID</th>\n",
       "      <td>6</td>\n",
       "    </tr>\n",
       "    <tr>\n",
       "      <th>PAIS-NASCIMENTO-ID</th>\n",
       "      <td>17</td>\n",
       "    </tr>\n",
       "    <tr>\n",
       "      <th>TITULO-DO-PROCESSO-ID</th>\n",
       "      <td>351547</td>\n",
       "    </tr>\n",
       "    <tr>\n",
       "      <th>SIGLA-INSTITUICAO-ID</th>\n",
       "      <td>3769</td>\n",
       "    </tr>\n",
       "    <tr>\n",
       "      <th>MODALIDADE-DO-PROCESSO-ID</th>\n",
       "      <td>44</td>\n",
       "    </tr>\n",
       "    <tr>\n",
       "      <th>NOME-COMPLETO-ID</th>\n",
       "      <td>464307</td>\n",
       "    </tr>\n",
       "  </tbody>\n",
       "</table>\n",
       "</div>"
      ],
      "text/plain": [
       "                                            805384\n",
       "ANO-PAGAMENTO                                 2009\n",
       "CODIGO-DO-PROCESSO                   301131/2005-8\n",
       "QUANTIDADE-BOLSA-ANO                          0.17\n",
       "QUANTIDADE-MESES-PAGOS                           2\n",
       "SEXO                                             M\n",
       "SIGLA-UF-INSTITUICAO                            SC\n",
       "VALOR-PAGO                                    1952\n",
       "NOME-CURSO-ID                                  769\n",
       "NOME-DA-AREA-DO-CONHECIMENTO-ID                 71\n",
       "NOME-DA-ESPECIALIDADE-ID                       549\n",
       "NOME-DA-SUB-AREA-DO-CONHECIMENTO-ID            140\n",
       "NOME-GRANDE-AREA-DO-CONHECIMENTO-ID              1\n",
       "PAIS-INSTITUICAO-ID                              6\n",
       "PAIS-NASCIMENTO-ID                              17\n",
       "TITULO-DO-PROCESSO-ID                       351547\n",
       "SIGLA-INSTITUICAO-ID                          3769\n",
       "MODALIDADE-DO-PROCESSO-ID                       44\n",
       "NOME-COMPLETO-ID                            464307"
      ]
     },
     "execution_count": 5,
     "metadata": {},
     "output_type": "execute_result"
    }
   ],
   "source": [
    "df.sample().T"
   ]
  },
  {
   "cell_type": "markdown",
   "metadata": {},
   "source": [
    "# Identificando grande area do conhecimento"
   ]
  },
  {
   "cell_type": "code",
   "execution_count": 46,
   "metadata": {
    "collapsed": true
   },
   "outputs": [],
   "source": [
    "df = pd.merge(df, pd.read_csv(\"../../dataset-bolsas-cnpq/TITULO-DO-PROCESSO.csv\"))\n",
    "df = pd.merge(df, pd.read_csv(\"../../dataset-bolsas-cnpq/NOME-GRANDE-AREA-DO-CONHECIMENTO.csv\"))\n",
    "df[\"TITULO-DO-PROCESSO\"].fillna(\"SEM-TITULO\", inplace=True)\n",
    "df[\"NOME-GRANDE-AREA-DO-CONHECIMENTO\"].fillna(\"SEM-NOME\", inplace=True)"
   ]
  },
  {
   "cell_type": "code",
   "execution_count": 30,
   "metadata": {
    "collapsed": false
   },
   "outputs": [
    {
     "data": {
      "text/plain": [
       "Engenharias e Ciência da Computação    435857\n",
       "Ciências Exatas e da Terra             358323\n",
       "Ciências Biológicas                    315486\n",
       "Ciências Agrárias                      293807\n",
       "Ciências Humanas                       246457\n",
       "Ciências da Saúde                      218324\n",
       "Ciências Sociais Aplicadas             145837\n",
       "Lingüística, Letras e Artes             71310\n",
       "Não se aplica                           27077\n",
       "Outra                                   24623\n",
       "Não informado                            3722\n",
       "Name: NOME-GRANDE-AREA-DO-CONHECIMENTO, dtype: int64"
      ]
     },
     "execution_count": 30,
     "metadata": {},
     "output_type": "execute_result"
    }
   ],
   "source": [
    "df[\"NOME-GRANDE-AREA-DO-CONHECIMENTO\"].value_counts()"
   ]
  },
  {
   "cell_type": "code",
   "execution_count": 50,
   "metadata": {
    "collapsed": false
   },
   "outputs": [],
   "source": [
    "por_gac = df.groupby(\"NOME-GRANDE-AREA-DO-CONHECIMENTO\").apply(lambda g: g[\"TITULO-DO-PROCESSO\"].str.cat(sep=\" \"))"
   ]
  },
  {
   "cell_type": "code",
   "execution_count": 54,
   "metadata": {
    "collapsed": true
   },
   "outputs": [],
   "source": [
    "from sklearn.feature_extraction.text import TfidfVectorizer\n",
    "from sklearn.preprocessing import LabelEncoder\n",
    "from sklearn.neighbors import KNeighborsClassifier\n",
    "import nltk"
   ]
  },
  {
   "cell_type": "code",
   "execution_count": 75,
   "metadata": {
    "collapsed": false
   },
   "outputs": [],
   "source": [
    "tfidf = TfidfVectorizer(stop_words=nltk.corpus.stopwords.words(\"portuguese\"), ngram_range=(1, 2)).fit(por_gac)\n",
    "\n",
    "le = LabelEncoder().fit(df[\"NOME-GRANDE-AREA-DO-CONHECIMENTO\"])"
   ]
  },
  {
   "cell_type": "code",
   "execution_count": 76,
   "metadata": {
    "collapsed": false
   },
   "outputs": [],
   "source": [
    "kn = KNeighborsClassifier().fit(tfidf.transform(df[\"TITULO-DO-PROCESSO\"]), le.transform(df[\"NOME-GRANDE-AREA-DO-CONHECIMENTO\"]))"
   ]
  },
  {
   "cell_type": "code",
   "execution_count": 77,
   "metadata": {
    "collapsed": false
   },
   "outputs": [
    {
     "data": {
      "text/plain": [
       "array(['Lingüística, Letras e Artes'], dtype=object)"
      ]
     },
     "execution_count": 77,
     "metadata": {},
     "output_type": "execute_result"
    }
   ],
   "source": [
    "le.inverse_transform(kn.predict(tfidf.transform([\"clarice lispector\"])))"
   ]
  },
  {
   "cell_type": "code",
   "execution_count": 78,
   "metadata": {
    "collapsed": false
   },
   "outputs": [
    {
     "data": {
      "text/plain": [
       "array(['Ciências Agrárias'], dtype=object)"
      ]
     },
     "execution_count": 78,
     "metadata": {},
     "output_type": "execute_result"
    }
   ],
   "source": [
    "le.inverse_transform(kn.predict(tfidf.transform([\"os bois e as vacas são amigos\"])))"
   ]
  },
  {
   "cell_type": "code",
   "execution_count": 79,
   "metadata": {
    "collapsed": false
   },
   "outputs": [
    {
     "data": {
      "text/plain": [
       "array(['Ciências Exatas e da Terra'], dtype=object)"
      ]
     },
     "execution_count": 79,
     "metadata": {},
     "output_type": "execute_result"
    }
   ],
   "source": [
    "le.inverse_transform(kn.predict(tfidf.transform([\"mineração de dados no combate à evasão de discentes\"])))"
   ]
  },
  {
   "cell_type": "code",
   "execution_count": 82,
   "metadata": {
    "collapsed": false
   },
   "outputs": [
    {
     "data": {
      "text/plain": [
       "array(['Engenharias e Ciência da Computação'], dtype=object)"
      ]
     },
     "execution_count": 82,
     "metadata": {},
     "output_type": "execute_result"
    }
   ],
   "source": [
    "le.inverse_transform(kn.predict(tfidf.transform([\"programação orientada a objetos\"])))"
   ]
  },
  {
   "cell_type": "code",
   "execution_count": 84,
   "metadata": {
    "collapsed": false
   },
   "outputs": [
    {
     "data": {
      "text/plain": [
       "array(['Ciências Sociais Aplicadas'], dtype=object)"
      ]
     },
     "execution_count": 84,
     "metadata": {},
     "output_type": "execute_result"
    }
   ],
   "source": [
    "le.inverse_transform(kn.predict(tfidf.transform([\"a sociedade o burguês o estado e o capitalismo\"])))"
   ]
  },
  {
   "cell_type": "markdown",
   "metadata": {},
   "source": [
    "# Quantidade por estado e ano"
   ]
  },
  {
   "cell_type": "code",
   "execution_count": 81,
   "metadata": {
    "collapsed": false
   },
   "outputs": [
    {
     "data": {
      "text/html": [
       "<div>\n",
       "<table border=\"1\" class=\"dataframe\">\n",
       "  <thead>\n",
       "    <tr style=\"text-align: right;\">\n",
       "      <th>ANO-PAGAMENTO</th>\n",
       "      <th>2001</th>\n",
       "      <th>2002</th>\n",
       "      <th>2003</th>\n",
       "      <th>2004</th>\n",
       "      <th>2005</th>\n",
       "      <th>2006</th>\n",
       "      <th>2007</th>\n",
       "      <th>2008</th>\n",
       "      <th>2009</th>\n",
       "      <th>2010</th>\n",
       "      <th>2011</th>\n",
       "      <th>2012</th>\n",
       "      <th>2013</th>\n",
       "      <th>2014</th>\n",
       "      <th>2015</th>\n",
       "      <th>2016</th>\n",
       "      <th>2017</th>\n",
       "    </tr>\n",
       "    <tr>\n",
       "      <th>SIGLA-UF-INSTITUICAO</th>\n",
       "      <th></th>\n",
       "      <th></th>\n",
       "      <th></th>\n",
       "      <th></th>\n",
       "      <th></th>\n",
       "      <th></th>\n",
       "      <th></th>\n",
       "      <th></th>\n",
       "      <th></th>\n",
       "      <th></th>\n",
       "      <th></th>\n",
       "      <th></th>\n",
       "      <th></th>\n",
       "      <th></th>\n",
       "      <th></th>\n",
       "      <th></th>\n",
       "      <th></th>\n",
       "    </tr>\n",
       "  </thead>\n",
       "  <tbody>\n",
       "    <tr>\n",
       "      <th>AC</th>\n",
       "      <td>108.0</td>\n",
       "      <td>75.0</td>\n",
       "      <td>83.0</td>\n",
       "      <td>110.0</td>\n",
       "      <td>105.0</td>\n",
       "      <td>132.0</td>\n",
       "      <td>135.0</td>\n",
       "      <td>212.0</td>\n",
       "      <td>247.0</td>\n",
       "      <td>282.0</td>\n",
       "      <td>384.0</td>\n",
       "      <td>438.0</td>\n",
       "      <td>594.0</td>\n",
       "      <td>484.0</td>\n",
       "      <td>593.0</td>\n",
       "      <td>490.0</td>\n",
       "      <td>273.0</td>\n",
       "    </tr>\n",
       "    <tr>\n",
       "      <th>AL</th>\n",
       "      <td>511.0</td>\n",
       "      <td>494.0</td>\n",
       "      <td>424.0</td>\n",
       "      <td>459.0</td>\n",
       "      <td>526.0</td>\n",
       "      <td>599.0</td>\n",
       "      <td>635.0</td>\n",
       "      <td>823.0</td>\n",
       "      <td>1010.0</td>\n",
       "      <td>1208.0</td>\n",
       "      <td>1313.0</td>\n",
       "      <td>1380.0</td>\n",
       "      <td>1454.0</td>\n",
       "      <td>1718.0</td>\n",
       "      <td>1644.0</td>\n",
       "      <td>1378.0</td>\n",
       "      <td>662.0</td>\n",
       "    </tr>\n",
       "    <tr>\n",
       "      <th>AM</th>\n",
       "      <td>937.0</td>\n",
       "      <td>1028.0</td>\n",
       "      <td>1132.0</td>\n",
       "      <td>1235.0</td>\n",
       "      <td>1248.0</td>\n",
       "      <td>1592.0</td>\n",
       "      <td>1590.0</td>\n",
       "      <td>1750.0</td>\n",
       "      <td>1956.0</td>\n",
       "      <td>2089.0</td>\n",
       "      <td>2386.0</td>\n",
       "      <td>2283.0</td>\n",
       "      <td>2269.0</td>\n",
       "      <td>2147.0</td>\n",
       "      <td>2269.0</td>\n",
       "      <td>1786.0</td>\n",
       "      <td>924.0</td>\n",
       "    </tr>\n",
       "  </tbody>\n",
       "</table>\n",
       "</div>"
      ],
      "text/plain": [
       "ANO-PAGAMENTO          2001    2002    2003    2004    2005    2006    2007  \\\n",
       "SIGLA-UF-INSTITUICAO                                                          \n",
       "AC                    108.0    75.0    83.0   110.0   105.0   132.0   135.0   \n",
       "AL                    511.0   494.0   424.0   459.0   526.0   599.0   635.0   \n",
       "AM                    937.0  1028.0  1132.0  1235.0  1248.0  1592.0  1590.0   \n",
       "\n",
       "ANO-PAGAMENTO           2008    2009    2010    2011    2012    2013    2014  \\\n",
       "SIGLA-UF-INSTITUICAO                                                           \n",
       "AC                     212.0   247.0   282.0   384.0   438.0   594.0   484.0   \n",
       "AL                     823.0  1010.0  1208.0  1313.0  1380.0  1454.0  1718.0   \n",
       "AM                    1750.0  1956.0  2089.0  2386.0  2283.0  2269.0  2147.0   \n",
       "\n",
       "ANO-PAGAMENTO           2015    2016   2017  \n",
       "SIGLA-UF-INSTITUICAO                         \n",
       "AC                     593.0   490.0  273.0  \n",
       "AL                    1644.0  1378.0  662.0  \n",
       "AM                    2269.0  1786.0  924.0  "
      ]
     },
     "execution_count": 81,
     "metadata": {},
     "output_type": "execute_result"
    }
   ],
   "source": [
    "# contando a quantidade de registros por ano\n",
    "qpea = df.groupby([\"SIGLA-UF-INSTITUICAO\", \"ANO-PAGAMENTO\"]).size().unstack()\n",
    "qpea.head(3)"
   ]
  },
  {
   "cell_type": "code",
   "execution_count": 120,
   "metadata": {
    "collapsed": false
   },
   "outputs": [
    {
     "data": {
      "text/html": [
       "<div>\n",
       "<table border=\"1\" class=\"dataframe\">\n",
       "  <thead>\n",
       "    <tr>\n",
       "      <th></th>\n",
       "      <th colspan=\"3\" halign=\"left\">2001</th>\n",
       "      <th colspan=\"3\" halign=\"left\">2002</th>\n",
       "      <th colspan=\"3\" halign=\"left\">2003</th>\n",
       "      <th>2004</th>\n",
       "      <th>...</th>\n",
       "      <th>2014</th>\n",
       "      <th colspan=\"3\" halign=\"left\">2015</th>\n",
       "      <th colspan=\"3\" halign=\"left\">2016</th>\n",
       "      <th colspan=\"3\" halign=\"left\">2017</th>\n",
       "    </tr>\n",
       "    <tr>\n",
       "      <th></th>\n",
       "      <th>NOVOS</th>\n",
       "      <th>ANTIGOS</th>\n",
       "      <th>TOTAL</th>\n",
       "      <th>NOVOS</th>\n",
       "      <th>ANTIGOS</th>\n",
       "      <th>TOTAL</th>\n",
       "      <th>NOVOS</th>\n",
       "      <th>ANTIGOS</th>\n",
       "      <th>TOTAL</th>\n",
       "      <th>NOVOS</th>\n",
       "      <th>...</th>\n",
       "      <th>TOTAL</th>\n",
       "      <th>NOVOS</th>\n",
       "      <th>ANTIGOS</th>\n",
       "      <th>TOTAL</th>\n",
       "      <th>NOVOS</th>\n",
       "      <th>ANTIGOS</th>\n",
       "      <th>TOTAL</th>\n",
       "      <th>NOVOS</th>\n",
       "      <th>ANTIGOS</th>\n",
       "      <th>TOTAL</th>\n",
       "    </tr>\n",
       "    <tr>\n",
       "      <th>SIGLA-UF-INSTITUICAO</th>\n",
       "      <th></th>\n",
       "      <th></th>\n",
       "      <th></th>\n",
       "      <th></th>\n",
       "      <th></th>\n",
       "      <th></th>\n",
       "      <th></th>\n",
       "      <th></th>\n",
       "      <th></th>\n",
       "      <th></th>\n",
       "      <th></th>\n",
       "      <th></th>\n",
       "      <th></th>\n",
       "      <th></th>\n",
       "      <th></th>\n",
       "      <th></th>\n",
       "      <th></th>\n",
       "      <th></th>\n",
       "      <th></th>\n",
       "      <th></th>\n",
       "      <th></th>\n",
       "    </tr>\n",
       "  </thead>\n",
       "  <tbody>\n",
       "    <tr>\n",
       "      <th>AC</th>\n",
       "      <td>108.0</td>\n",
       "      <td>NaN</td>\n",
       "      <td>108.0</td>\n",
       "      <td>28.0</td>\n",
       "      <td>46.0</td>\n",
       "      <td>74.0</td>\n",
       "      <td>34.0</td>\n",
       "      <td>46.0</td>\n",
       "      <td>80.0</td>\n",
       "      <td>44.0</td>\n",
       "      <td>...</td>\n",
       "      <td>484.0</td>\n",
       "      <td>338.0</td>\n",
       "      <td>255.0</td>\n",
       "      <td>593.0</td>\n",
       "      <td>248.0</td>\n",
       "      <td>237.0</td>\n",
       "      <td>485.0</td>\n",
       "      <td>43.0</td>\n",
       "      <td>230.0</td>\n",
       "      <td>273.0</td>\n",
       "    </tr>\n",
       "    <tr>\n",
       "      <th>AL</th>\n",
       "      <td>511.0</td>\n",
       "      <td>NaN</td>\n",
       "      <td>511.0</td>\n",
       "      <td>159.0</td>\n",
       "      <td>301.0</td>\n",
       "      <td>460.0</td>\n",
       "      <td>168.0</td>\n",
       "      <td>249.0</td>\n",
       "      <td>417.0</td>\n",
       "      <td>195.0</td>\n",
       "      <td>...</td>\n",
       "      <td>1717.0</td>\n",
       "      <td>917.0</td>\n",
       "      <td>727.0</td>\n",
       "      <td>1644.0</td>\n",
       "      <td>646.0</td>\n",
       "      <td>614.0</td>\n",
       "      <td>1260.0</td>\n",
       "      <td>137.0</td>\n",
       "      <td>504.0</td>\n",
       "      <td>641.0</td>\n",
       "    </tr>\n",
       "    <tr>\n",
       "      <th>AM</th>\n",
       "      <td>937.0</td>\n",
       "      <td>NaN</td>\n",
       "      <td>937.0</td>\n",
       "      <td>432.0</td>\n",
       "      <td>524.0</td>\n",
       "      <td>956.0</td>\n",
       "      <td>531.0</td>\n",
       "      <td>548.0</td>\n",
       "      <td>1079.0</td>\n",
       "      <td>438.0</td>\n",
       "      <td>...</td>\n",
       "      <td>2139.0</td>\n",
       "      <td>1194.0</td>\n",
       "      <td>1072.0</td>\n",
       "      <td>2266.0</td>\n",
       "      <td>738.0</td>\n",
       "      <td>1044.0</td>\n",
       "      <td>1782.0</td>\n",
       "      <td>150.0</td>\n",
       "      <td>774.0</td>\n",
       "      <td>924.0</td>\n",
       "    </tr>\n",
       "    <tr>\n",
       "      <th>AP</th>\n",
       "      <td>24.0</td>\n",
       "      <td>NaN</td>\n",
       "      <td>24.0</td>\n",
       "      <td>7.0</td>\n",
       "      <td>14.0</td>\n",
       "      <td>21.0</td>\n",
       "      <td>15.0</td>\n",
       "      <td>8.0</td>\n",
       "      <td>23.0</td>\n",
       "      <td>8.0</td>\n",
       "      <td>...</td>\n",
       "      <td>528.0</td>\n",
       "      <td>218.0</td>\n",
       "      <td>203.0</td>\n",
       "      <td>421.0</td>\n",
       "      <td>125.0</td>\n",
       "      <td>185.0</td>\n",
       "      <td>310.0</td>\n",
       "      <td>19.0</td>\n",
       "      <td>90.0</td>\n",
       "      <td>109.0</td>\n",
       "    </tr>\n",
       "    <tr>\n",
       "      <th>BA</th>\n",
       "      <td>1770.0</td>\n",
       "      <td>NaN</td>\n",
       "      <td>1770.0</td>\n",
       "      <td>628.0</td>\n",
       "      <td>990.0</td>\n",
       "      <td>1618.0</td>\n",
       "      <td>819.0</td>\n",
       "      <td>1003.0</td>\n",
       "      <td>1822.0</td>\n",
       "      <td>890.0</td>\n",
       "      <td>...</td>\n",
       "      <td>5309.0</td>\n",
       "      <td>2860.0</td>\n",
       "      <td>2362.0</td>\n",
       "      <td>5222.0</td>\n",
       "      <td>2010.0</td>\n",
       "      <td>2562.0</td>\n",
       "      <td>4572.0</td>\n",
       "      <td>384.0</td>\n",
       "      <td>1944.0</td>\n",
       "      <td>2328.0</td>\n",
       "    </tr>\n",
       "    <tr>\n",
       "      <th>CE</th>\n",
       "      <td>2454.0</td>\n",
       "      <td>NaN</td>\n",
       "      <td>2454.0</td>\n",
       "      <td>601.0</td>\n",
       "      <td>1351.0</td>\n",
       "      <td>1952.0</td>\n",
       "      <td>894.0</td>\n",
       "      <td>1094.0</td>\n",
       "      <td>1988.0</td>\n",
       "      <td>948.0</td>\n",
       "      <td>...</td>\n",
       "      <td>6288.0</td>\n",
       "      <td>3279.0</td>\n",
       "      <td>2877.0</td>\n",
       "      <td>6156.0</td>\n",
       "      <td>2483.0</td>\n",
       "      <td>2791.0</td>\n",
       "      <td>5274.0</td>\n",
       "      <td>407.0</td>\n",
       "      <td>2083.0</td>\n",
       "      <td>2490.0</td>\n",
       "    </tr>\n",
       "    <tr>\n",
       "      <th>DF</th>\n",
       "      <td>5214.0</td>\n",
       "      <td>NaN</td>\n",
       "      <td>5214.0</td>\n",
       "      <td>2089.0</td>\n",
       "      <td>3382.0</td>\n",
       "      <td>5471.0</td>\n",
       "      <td>1890.0</td>\n",
       "      <td>3623.0</td>\n",
       "      <td>5513.0</td>\n",
       "      <td>1989.0</td>\n",
       "      <td>...</td>\n",
       "      <td>10137.0</td>\n",
       "      <td>7035.0</td>\n",
       "      <td>4584.0</td>\n",
       "      <td>11619.0</td>\n",
       "      <td>3433.0</td>\n",
       "      <td>5209.0</td>\n",
       "      <td>8642.0</td>\n",
       "      <td>542.0</td>\n",
       "      <td>3682.0</td>\n",
       "      <td>4224.0</td>\n",
       "    </tr>\n",
       "    <tr>\n",
       "      <th>ES</th>\n",
       "      <td>517.0</td>\n",
       "      <td>NaN</td>\n",
       "      <td>517.0</td>\n",
       "      <td>165.0</td>\n",
       "      <td>297.0</td>\n",
       "      <td>462.0</td>\n",
       "      <td>207.0</td>\n",
       "      <td>264.0</td>\n",
       "      <td>471.0</td>\n",
       "      <td>243.0</td>\n",
       "      <td>...</td>\n",
       "      <td>1445.0</td>\n",
       "      <td>827.0</td>\n",
       "      <td>767.0</td>\n",
       "      <td>1594.0</td>\n",
       "      <td>669.0</td>\n",
       "      <td>763.0</td>\n",
       "      <td>1432.0</td>\n",
       "      <td>119.0</td>\n",
       "      <td>609.0</td>\n",
       "      <td>728.0</td>\n",
       "    </tr>\n",
       "  </tbody>\n",
       "</table>\n",
       "<p>8 rows × 51 columns</p>\n",
       "</div>"
      ],
      "text/plain": [
       "                        2001                    2002                    2003  \\\n",
       "                       NOVOS ANTIGOS   TOTAL   NOVOS ANTIGOS   TOTAL   NOVOS   \n",
       "SIGLA-UF-INSTITUICAO                                                           \n",
       "AC                     108.0     NaN   108.0    28.0    46.0    74.0    34.0   \n",
       "AL                     511.0     NaN   511.0   159.0   301.0   460.0   168.0   \n",
       "AM                     937.0     NaN   937.0   432.0   524.0   956.0   531.0   \n",
       "AP                      24.0     NaN    24.0     7.0    14.0    21.0    15.0   \n",
       "BA                    1770.0     NaN  1770.0   628.0   990.0  1618.0   819.0   \n",
       "CE                    2454.0     NaN  2454.0   601.0  1351.0  1952.0   894.0   \n",
       "DF                    5214.0     NaN  5214.0  2089.0  3382.0  5471.0  1890.0   \n",
       "ES                     517.0     NaN   517.0   165.0   297.0   462.0   207.0   \n",
       "\n",
       "                                        2004   ...       2014    2015          \\\n",
       "                     ANTIGOS   TOTAL   NOVOS   ...      TOTAL   NOVOS ANTIGOS   \n",
       "SIGLA-UF-INSTITUICAO                           ...                              \n",
       "AC                      46.0    80.0    44.0   ...      484.0   338.0   255.0   \n",
       "AL                     249.0   417.0   195.0   ...     1717.0   917.0   727.0   \n",
       "AM                     548.0  1079.0   438.0   ...     2139.0  1194.0  1072.0   \n",
       "AP                       8.0    23.0     8.0   ...      528.0   218.0   203.0   \n",
       "BA                    1003.0  1822.0   890.0   ...     5309.0  2860.0  2362.0   \n",
       "CE                    1094.0  1988.0   948.0   ...     6288.0  3279.0  2877.0   \n",
       "DF                    3623.0  5513.0  1989.0   ...    10137.0  7035.0  4584.0   \n",
       "ES                     264.0   471.0   243.0   ...     1445.0   827.0   767.0   \n",
       "\n",
       "                                 2016                   2017                  \n",
       "                        TOTAL   NOVOS ANTIGOS   TOTAL  NOVOS ANTIGOS   TOTAL  \n",
       "SIGLA-UF-INSTITUICAO                                                          \n",
       "AC                      593.0   248.0   237.0   485.0   43.0   230.0   273.0  \n",
       "AL                     1644.0   646.0   614.0  1260.0  137.0   504.0   641.0  \n",
       "AM                     2266.0   738.0  1044.0  1782.0  150.0   774.0   924.0  \n",
       "AP                      421.0   125.0   185.0   310.0   19.0    90.0   109.0  \n",
       "BA                     5222.0  2010.0  2562.0  4572.0  384.0  1944.0  2328.0  \n",
       "CE                     6156.0  2483.0  2791.0  5274.0  407.0  2083.0  2490.0  \n",
       "DF                    11619.0  3433.0  5209.0  8642.0  542.0  3682.0  4224.0  \n",
       "ES                     1594.0   669.0   763.0  1432.0  119.0   609.0   728.0  \n",
       "\n",
       "[8 rows x 51 columns]"
      ]
     },
     "execution_count": 120,
     "metadata": {},
     "output_type": "execute_result"
    }
   ],
   "source": [
    "# contando a quantidade de processos que não existiam no ano anterior\n",
    "def calcula_qtd_novos_processos_por_ano(g):\n",
    "    \n",
    "    ggs = [group for _, group in g.groupby([\"ANO-PAGAMENTO\"])]\n",
    "    re = pd.DataFrame(np.nan, columns=[\"NOVOS\", \"ANTIGOS\", \"TOTAL\"], index=g[\"ANO-PAGAMENTO\"].unique())\n",
    "   \n",
    "    re.iloc[0, 0] = ggs[0].shape[0]\n",
    "    re.iloc[0, 1] = np.nan\n",
    "    re.iloc[0, 2] = ggs[0].shape[0]\n",
    "    \n",
    "    for i in range(0, len(ggs) - 1):\n",
    "        \n",
    "        codigos0 = set(ggs[i][\"CODIGO-DO-PROCESSO\"].unique())\n",
    "        codigos1 = set(ggs[i+1][\"CODIGO-DO-PROCESSO\"].unique())\n",
    "        \n",
    "        re.iloc[i+1, 0] = len(codigos1.difference(codigos0))\n",
    "        re.iloc[i+1, 1] = len(codigos1.intersection(codigos0))\n",
    "        re.iloc[i+1, 2] = len(codigos1)\n",
    "    \n",
    "    return re.T\n",
    "\n",
    "qpea = df.groupby([\"SIGLA-UF-INSTITUICAO\"]).apply(calcula_qtd_novos_processos_por_ano)\n",
    "qpea.unstack().head(8)"
   ]
  },
  {
   "cell_type": "code",
   "execution_count": 121,
   "metadata": {
    "collapsed": false
   },
   "outputs": [
    {
     "data": {
      "text/plain": [
       "<matplotlib.axes._subplots.AxesSubplot at 0x22561eaa860>"
      ]
     },
     "execution_count": 121,
     "metadata": {},
     "output_type": "execute_result"
    },
    {
     "data": {
      "image/png": "[encoded data removed]",
      "text/plain": [
       "<matplotlib.figure.Figure at 0x22561e8b4a8>"
      ]
     },
     "metadata": {},
     "output_type": "display_data"
    }
   ],
   "source": [
    "nordeste = ['CE', 'PE', 'RN', 'BA', 'MA', 'AL', 'PI', 'PA', 'SE']\n",
    "\n",
    "df.groupby(['ANO-PAGAMENTO', 'SIGLA-UF-INSTITUICAO'])['VALOR-PAGO'].sum()\\\n",
    ".loc[(slice(None), nordeste)]\\\n",
    ".unstack().plot(figsize=(12, 8), cmap=plt.cm.Vega20b)"
   ]
  },
  {
   "cell_type": "code",
   "execution_count": 122,
   "metadata": {
    "collapsed": false
   },
   "outputs": [],
   "source": [
    "modalidade = pd.read_csv(\"../dataset-bolsas-cnpq/MODALIDADE-DO-PROCESSO.csv\")"
   ]
  },
  {
   "cell_type": "code",
   "execution_count": 125,
   "metadata": {
    "collapsed": false
   },
   "outputs": [
    {
     "data": {
      "text/plain": [
       "<matplotlib.axes._subplots.AxesSubplot at 0x22538213b38>"
      ]
     },
     "execution_count": 125,
     "metadata": {},
     "output_type": "execute_result"
    },
    {
     "data": {
      "image/png": "[encoded data removed]",
      "text/plain": [
       "<matplotlib.figure.Figure at 0x22539b66550>"
      ]
     },
     "metadata": {},
     "output_type": "display_data"
    }
   ],
   "source": [
    "pd.merge(df, modalidade).groupby(['ANO-PAGAMENTO', 'MODALIDADE-DO-PROCESSO'])['VALOR-PAGO'].sum()\\\n",
    ".loc[(slice(None), ['Mestrado', 'Doutorado', 'Pós-Doutorado', 'Iniciação Científica'])]\\\n",
    ".unstack().plot(figsize=(12, 8), cmap=plt.cm.Vega20b)"
   ]
  },
  {
   "cell_type": "code",
   "execution_count": null,
   "metadata": {
    "collapsed": true
   },
   "outputs": [],
   "source": []
  }
 ],
 "metadata": {
  "anaconda-cloud": {},
  "kernelspec": {
   "display_name": "Python [conda root]",
   "language": "python",
   "name": "conda-root-py"
  },
  "language_info": {
   "codemirror_mode": {
    "name": "ipython",
    "version": 3
   },
   "file_extension": ".py",
   "mimetype": "text/x-python",
   "name": "python",
   "nbconvert_exporter": "python",
   "pygments_lexer": "ipython3",
   "version": "3.5.2"
  }
 },
 "nbformat": 4,
 "nbformat_minor": 1
}
