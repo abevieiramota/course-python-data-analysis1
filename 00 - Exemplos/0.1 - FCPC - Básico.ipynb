{
 "cells": [
  {
   "cell_type": "code",
   "execution_count": 1,
   "metadata": {
    "collapsed": false,
    "deletable": true,
    "editable": true
   },
   "outputs": [],
   "source": [
    "%run '../../dataset-fcpc/pagamento pessoa fisica/read_dataset.py'\n",
    "%run '../configura_display.py'"
   ]
  },
  {
   "cell_type": "code",
   "execution_count": 19,
   "metadata": {
    "collapsed": true
   },
   "outputs": [],
   "source": [
    "import pandas as pd\n",
    "from matplotlib import pyplot as plt\n",
    "%matplotlib inline"
   ]
  },
  {
   "cell_type": "markdown",
   "metadata": {
    "deletable": true,
    "editable": true,
    "extensions": {
     "jupyter_dashboards": {
      "version": 1,
      "views": {
       "grid_default": {
        "col": 0,
        "height": 4,
        "hidden": false,
        "row": 0,
        "width": 4
       },
       "report_default": {
        "hidden": false
       }
      }
     }
    }
   },
   "source": [
    "# Pagamentos a pessoas físicas da FCPC\n",
    "\n",
    "Base de dados de pagamentos a pessoas físicas da Fundação Cearense de Pesquisa e Cultura.\n",
    "\n",
    "O dataset a ser utilizado é a consolidação dos dados disponibilizados no [site da FCPC](http://www.fcpc.ufc.br/AcessoInformacao/PagamentoPessoaFisica).\n",
    "\n",
    "* **Colunas**\n",
    "  * **CPF**: mascarado\n",
    "  * **NOME**\n",
    "  * **TIPO DE PAGAMENTO**\n",
    "  * **PROJETO**\n",
    "  * **DATA**\n",
    "  * **VALOR \\(R$\\)**\n",
    "  \n",
    "obs: os dados de 2017 são os disponíveis até o momento da coleta"
   ]
  },
  {
   "cell_type": "code",
   "execution_count": 3,
   "metadata": {
    "collapsed": false
   },
   "outputs": [],
   "source": [
    "fcpc = read_fcpc(\"../../dataset-fcpc/pagamento pessoa fisica/\")"
   ]
  },
  {
   "cell_type": "code",
   "execution_count": 4,
   "metadata": {
    "collapsed": false,
    "deletable": true,
    "editable": true
   },
   "outputs": [
    {
     "data": {
      "text/html": [
       "<div>\n",
       "<style>\n",
       "    .dataframe thead tr:only-child th {\n",
       "        text-align: right;\n",
       "    }\n",
       "\n",
       "    .dataframe thead th {\n",
       "        text-align: left;\n",
       "    }\n",
       "\n",
       "    .dataframe tbody tr th {\n",
       "        vertical-align: top;\n",
       "    }\n",
       "</style>\n",
       "<table border=\"1\" class=\"dataframe\">\n",
       "  <thead>\n",
       "    <tr style=\"text-align: right;\">\n",
       "      <th></th>\n",
       "      <th>DATA</th>\n",
       "      <th>VALOR (R$)</th>\n",
       "      <th>CPF</th>\n",
       "      <th>NOME</th>\n",
       "      <th>TIPO DE PAGAMENTO</th>\n",
       "      <th>PROJETO</th>\n",
       "    </tr>\n",
       "  </thead>\n",
       "  <tbody>\n",
       "    <tr>\n",
       "      <th>0</th>\n",
       "      <td>2016-10-18</td>\n",
       "      <td>2.200,00</td>\n",
       "      <td>***.000.473-**</td>\n",
       "      <td>NILTON CESAR VIEIRA SILVA</td>\n",
       "      <td>DIÁRIAS</td>\n",
       "      <td>2776 - TERMO DE COOP.PETROBRAS/UFC/FCPC PROJET...</td>\n",
       "    </tr>\n",
       "    <tr>\n",
       "      <th>1</th>\n",
       "      <td>2016-08-22</td>\n",
       "      <td>2.200,00</td>\n",
       "      <td>***.000.473-**</td>\n",
       "      <td>NILTON CESAR VIEIRA SILVA</td>\n",
       "      <td>DIÁRIAS</td>\n",
       "      <td>2776 - TERMO DE COOP.PETROBRAS/UFC/FCPC PROJET...</td>\n",
       "    </tr>\n",
       "    <tr>\n",
       "      <th>2</th>\n",
       "      <td>2016-06-17</td>\n",
       "      <td>2.640,00</td>\n",
       "      <td>***.000.473-**</td>\n",
       "      <td>NILTON CESAR VIEIRA SILVA</td>\n",
       "      <td>DIÁRIAS</td>\n",
       "      <td>2776 - TERMO DE COOP.PETROBRAS/UFC/FCPC PROJET...</td>\n",
       "    </tr>\n",
       "    <tr>\n",
       "      <th>3</th>\n",
       "      <td>2016-10-18</td>\n",
       "      <td>2.200,00</td>\n",
       "      <td>***.031.193-**</td>\n",
       "      <td>SERGIO BEZERRA LIMA JUNIOR</td>\n",
       "      <td>DIÁRIAS</td>\n",
       "      <td>2776 - TERMO DE COOP.PETROBRAS/UFC/FCPC PROJET...</td>\n",
       "    </tr>\n",
       "    <tr>\n",
       "      <th>4</th>\n",
       "      <td>2016-12-07</td>\n",
       "      <td>1.980,00</td>\n",
       "      <td>***.031.193-**</td>\n",
       "      <td>SERGIO BEZERRA LIMA JUNIOR</td>\n",
       "      <td>DIÁRIAS</td>\n",
       "      <td>2776 - TERMO DE COOP.PETROBRAS/UFC/FCPC PROJET...</td>\n",
       "    </tr>\n",
       "  </tbody>\n",
       "</table>\n",
       "</div>"
      ],
      "text/plain": [
       "        DATA  VALOR (R$)             CPF                        NOME  \\\n",
       "0 2016-10-18    2.200,00  ***.000.473-**   NILTON CESAR VIEIRA SILVA   \n",
       "1 2016-08-22    2.200,00  ***.000.473-**   NILTON CESAR VIEIRA SILVA   \n",
       "2 2016-06-17    2.640,00  ***.000.473-**   NILTON CESAR VIEIRA SILVA   \n",
       "3 2016-10-18    2.200,00  ***.031.193-**  SERGIO BEZERRA LIMA JUNIOR   \n",
       "4 2016-12-07    1.980,00  ***.031.193-**  SERGIO BEZERRA LIMA JUNIOR   \n",
       "\n",
       "  TIPO DE PAGAMENTO                                            PROJETO  \n",
       "0           DIÁRIAS  2776 - TERMO DE COOP.PETROBRAS/UFC/FCPC PROJET...  \n",
       "1           DIÁRIAS  2776 - TERMO DE COOP.PETROBRAS/UFC/FCPC PROJET...  \n",
       "2           DIÁRIAS  2776 - TERMO DE COOP.PETROBRAS/UFC/FCPC PROJET...  \n",
       "3           DIÁRIAS  2776 - TERMO DE COOP.PETROBRAS/UFC/FCPC PROJET...  \n",
       "4           DIÁRIAS  2776 - TERMO DE COOP.PETROBRAS/UFC/FCPC PROJET...  "
      ]
     },
     "execution_count": 4,
     "metadata": {},
     "output_type": "execute_result"
    }
   ],
   "source": [
    "# estrutura de tabela\n",
    "# índices à esquerda, gerados automaticamente\n",
    "fcpc.head()"
   ]
  },
  {
   "cell_type": "code",
   "execution_count": 5,
   "metadata": {
    "collapsed": false,
    "deletable": true,
    "editable": true,
    "extensions": {
     "jupyter_dashboards": {
      "version": 1,
      "views": {
       "grid_default": {
        "col": 0,
        "height": 10,
        "hidden": false,
        "row": 8,
        "width": 4
       },
       "report_default": {
        "hidden": false
       }
      }
     }
    }
   },
   "outputs": [
    {
     "data": {
      "text/html": [
       "<div>\n",
       "<style>\n",
       "    .dataframe thead tr:only-child th {\n",
       "        text-align: right;\n",
       "    }\n",
       "\n",
       "    .dataframe thead th {\n",
       "        text-align: left;\n",
       "    }\n",
       "\n",
       "    .dataframe tbody tr th {\n",
       "        vertical-align: top;\n",
       "    }\n",
       "</style>\n",
       "<table border=\"1\" class=\"dataframe\">\n",
       "  <thead>\n",
       "    <tr style=\"text-align: right;\">\n",
       "      <th></th>\n",
       "      <th>VALOR (R$)</th>\n",
       "    </tr>\n",
       "  </thead>\n",
       "  <tbody>\n",
       "    <tr>\n",
       "      <th>count</th>\n",
       "      <td>126.680,00</td>\n",
       "    </tr>\n",
       "    <tr>\n",
       "      <th>mean</th>\n",
       "      <td>1.660,48</td>\n",
       "    </tr>\n",
       "    <tr>\n",
       "      <th>std</th>\n",
       "      <td>3.492,49</td>\n",
       "    </tr>\n",
       "    <tr>\n",
       "      <th>min</th>\n",
       "      <td>0,00</td>\n",
       "    </tr>\n",
       "    <tr>\n",
       "      <th>25%</th>\n",
       "      <td>177,00</td>\n",
       "    </tr>\n",
       "    <tr>\n",
       "      <th>50%</th>\n",
       "      <td>400,00</td>\n",
       "    </tr>\n",
       "    <tr>\n",
       "      <th>75%</th>\n",
       "      <td>2.143,22</td>\n",
       "    </tr>\n",
       "    <tr>\n",
       "      <th>max</th>\n",
       "      <td>328.428,65</td>\n",
       "    </tr>\n",
       "  </tbody>\n",
       "</table>\n",
       "</div>"
      ],
      "text/plain": [
       "       VALOR (R$)\n",
       "count  126.680,00\n",
       "mean     1.660,48\n",
       "std      3.492,49\n",
       "min          0,00\n",
       "25%        177,00\n",
       "50%        400,00\n",
       "75%      2.143,22\n",
       "max    328.428,65"
      ]
     },
     "execution_count": 5,
     "metadata": {},
     "output_type": "execute_result"
    }
   ],
   "source": [
    "# informações estatísticas sobre os campos numéricos\n",
    "# quantiles > ex: 75% valor abaixo do qual estão 75% dos dados\n",
    "# count > quantidade de valores não null\n",
    "fcpc.describe()"
   ]
  },
  {
   "cell_type": "code",
   "execution_count": 6,
   "metadata": {
    "collapsed": false,
    "deletable": true,
    "editable": true,
    "extensions": {
     "jupyter_dashboards": {
      "version": 1,
      "views": {
       "grid_default": {
        "col": 4,
        "height": 9,
        "hidden": false,
        "row": 25,
        "width": 5
       },
       "report_default": {
        "hidden": false
       }
      }
     }
    }
   },
   "outputs": [
    {
     "data": {
      "text/html": [
       "<div>\n",
       "<style>\n",
       "    .dataframe thead tr:only-child th {\n",
       "        text-align: right;\n",
       "    }\n",
       "\n",
       "    .dataframe thead th {\n",
       "        text-align: left;\n",
       "    }\n",
       "\n",
       "    .dataframe tbody tr th {\n",
       "        vertical-align: top;\n",
       "    }\n",
       "</style>\n",
       "<table border=\"1\" class=\"dataframe\">\n",
       "  <thead>\n",
       "    <tr style=\"text-align: right;\">\n",
       "      <th></th>\n",
       "      <th>CPF</th>\n",
       "      <th>NOME</th>\n",
       "      <th>TIPO DE PAGAMENTO</th>\n",
       "      <th>PROJETO</th>\n",
       "    </tr>\n",
       "  </thead>\n",
       "  <tbody>\n",
       "    <tr>\n",
       "      <th>count</th>\n",
       "      <td>126680</td>\n",
       "      <td>126680</td>\n",
       "      <td>126680</td>\n",
       "      <td>126680</td>\n",
       "    </tr>\n",
       "    <tr>\n",
       "      <th>unique</th>\n",
       "      <td>16215</td>\n",
       "      <td>17623</td>\n",
       "      <td>12</td>\n",
       "      <td>917</td>\n",
       "    </tr>\n",
       "    <tr>\n",
       "      <th>top</th>\n",
       "      <td>***.501.533-**</td>\n",
       "      <td>FRANCISCO RODRIGO PORTO CAVALCANTI</td>\n",
       "      <td>ADIANTAMENTO PARA VIAGENS</td>\n",
       "      <td>2924 - CT - UFC/FCPC - IMPLANTACAO E OFERTA DO...</td>\n",
       "    </tr>\n",
       "    <tr>\n",
       "      <th>freq</th>\n",
       "      <td>259</td>\n",
       "      <td>259</td>\n",
       "      <td>43521</td>\n",
       "      <td>13068</td>\n",
       "    </tr>\n",
       "  </tbody>\n",
       "</table>\n",
       "</div>"
      ],
      "text/plain": [
       "                   CPF                                NOME  \\\n",
       "count           126680                              126680   \n",
       "unique           16215                               17623   \n",
       "top     ***.501.533-**  FRANCISCO RODRIGO PORTO CAVALCANTI   \n",
       "freq               259                                 259   \n",
       "\n",
       "                TIPO DE PAGAMENTO  \\\n",
       "count                      126680   \n",
       "unique                         12   \n",
       "top     ADIANTAMENTO PARA VIAGENS   \n",
       "freq                        43521   \n",
       "\n",
       "                                                  PROJETO  \n",
       "count                                              126680  \n",
       "unique                                                917  \n",
       "top     2924 - CT - UFC/FCPC - IMPLANTACAO E OFERTA DO...  \n",
       "freq                                                13068  "
      ]
     },
     "execution_count": 6,
     "metadata": {},
     "output_type": "execute_result"
    }
   ],
   "source": [
    "# informações estatísticas sobre os campos não quantitativos\n",
    "# top > valor com maior qtd de ocorrências\n",
    "# freq > qtd de ocorrências do top\n",
    "fcpc.describe(include = ['O'])"
   ]
  },
  {
   "cell_type": "code",
   "execution_count": 7,
   "metadata": {
    "collapsed": false,
    "deletable": true,
    "editable": true,
    "extensions": {
     "jupyter_dashboards": {
      "version": 1,
      "views": {
       "grid_default": {
        "col": 0,
        "height": 4,
        "hidden": false,
        "row": 34,
        "width": 5
       },
       "report_default": {
        "hidden": false
       }
      }
     }
    }
   },
   "outputs": [
    {
     "data": {
      "text/html": [
       "<div>\n",
       "<style>\n",
       "    .dataframe thead tr:only-child th {\n",
       "        text-align: right;\n",
       "    }\n",
       "\n",
       "    .dataframe thead th {\n",
       "        text-align: left;\n",
       "    }\n",
       "\n",
       "    .dataframe tbody tr th {\n",
       "        vertical-align: top;\n",
       "    }\n",
       "</style>\n",
       "<table border=\"1\" class=\"dataframe\">\n",
       "  <thead>\n",
       "    <tr style=\"text-align: right;\">\n",
       "      <th></th>\n",
       "      <th>DATA</th>\n",
       "    </tr>\n",
       "  </thead>\n",
       "  <tbody>\n",
       "    <tr>\n",
       "      <th>count</th>\n",
       "      <td>126680</td>\n",
       "    </tr>\n",
       "    <tr>\n",
       "      <th>unique</th>\n",
       "      <td>1774</td>\n",
       "    </tr>\n",
       "    <tr>\n",
       "      <th>top</th>\n",
       "      <td>2015-04-20 00:00:00</td>\n",
       "    </tr>\n",
       "    <tr>\n",
       "      <th>freq</th>\n",
       "      <td>699</td>\n",
       "    </tr>\n",
       "    <tr>\n",
       "      <th>first</th>\n",
       "      <td>2010-01-02 00:00:00</td>\n",
       "    </tr>\n",
       "    <tr>\n",
       "      <th>last</th>\n",
       "      <td>2017-12-01 00:00:00</td>\n",
       "    </tr>\n",
       "  </tbody>\n",
       "</table>\n",
       "</div>"
      ],
      "text/plain": [
       "                       DATA\n",
       "count                126680\n",
       "unique                 1774\n",
       "top     2015-04-20 00:00:00\n",
       "freq                    699\n",
       "first   2010-01-02 00:00:00\n",
       "last    2017-12-01 00:00:00"
      ]
     },
     "execution_count": 7,
     "metadata": {},
     "output_type": "execute_result"
    }
   ],
   "source": [
    "# informações estatísticas sobre os campos datetime\n",
    "fcpc.describe(include = ['datetime'])"
   ]
  },
  {
   "cell_type": "code",
   "execution_count": 8,
   "metadata": {
    "collapsed": false
   },
   "outputs": [
    {
     "data": {
      "text/plain": [
       "False"
      ]
     },
     "execution_count": 8,
     "metadata": {},
     "output_type": "execute_result"
    }
   ],
   "source": [
    "# todo nome de projeto segue o padrão NNNN - XXXXXXXXXX?\n",
    "fcpc.PROJETO.str.match(r\"^\\d+\\ *\\-\\ *.+$\").all()"
   ]
  },
  {
   "cell_type": "code",
   "execution_count": 9,
   "metadata": {
    "collapsed": false
   },
   "outputs": [],
   "source": [
    "# adiciona coluna contendo o valor numérico que inicial o nome do projeto\n",
    "fcpc[\"PROJETO_ID\"] = fcpc.PROJETO.apply(lambda v: v.split(\"-\", maxsplit=1)[0].strip())"
   ]
  },
  {
   "cell_type": "code",
   "execution_count": 10,
   "metadata": {
    "collapsed": false,
    "deletable": true,
    "editable": true
   },
   "outputs": [
    {
     "data": {
      "text/plain": [
       "PROJETO_ID  PROJETO                                        \n",
       "1016        1016 - CARTA -  UFC/FCPC RADIO UNIVERSITARIA FM       4\n",
       "            1016 - CARTA - UFC/FCPC RADIO UNIVERSITARIA FM      427\n",
       "2922        2922 - CT - PETROBRAS - PROJETO AMBES             1.791\n",
       "            2922 - CT.PETROBRAS - PROJETO AMBES                  18\n",
       "2925        2925 - CT - FAIMER/FCPC - FAIMER                     23\n",
       "            2925 - CT. FAIMER/FCPC - FAIMER                       2\n",
       "dtype: int64"
      ]
     },
     "execution_count": 10,
     "metadata": {},
     "output_type": "execute_result"
    }
   ],
   "source": [
    "# há projetos com mesmo PROJETO_ID mas nomes diferentes(PROJETO)\n",
    "# assumirei que o PROJETO_ID(número no início do nome do projeto) identifica um projeto\n",
    "def mesmo_id_mais_de_um_nome(g):\n",
    "    \n",
    "    n_projeto_nome = g[\"PROJETO\"].unique()\n",
    "    \n",
    "    return len(n_projeto_nome) > 1\n",
    "    \n",
    "rp = fcpc.groupby(\"PROJETO_ID\").filter(mesmo_id_mais_de_um_nome)\\\n",
    ".groupby([\"PROJETO_ID\", \"PROJETO\"]).size()\n",
    "\n",
    "rp.head(6)"
   ]
  },
  {
   "cell_type": "code",
   "execution_count": 11,
   "metadata": {
    "collapsed": false,
    "deletable": true,
    "editable": true
   },
   "outputs": [
    {
     "data": {
      "text/plain": [
       "DATA                0\n",
       "VALOR (R$)          0\n",
       "CPF                 0\n",
       "NOME                0\n",
       "TIPO DE PAGAMENTO   0\n",
       "PROJETO             0\n",
       "PROJETO_ID          0\n",
       "dtype: int64"
      ]
     },
     "execution_count": 11,
     "metadata": {},
     "output_type": "execute_result"
    }
   ],
   "source": [
    "fcpc.isnull().sum()"
   ]
  },
  {
   "cell_type": "code",
   "execution_count": 12,
   "metadata": {
    "collapsed": false,
    "deletable": true,
    "editable": true
   },
   "outputs": [
    {
     "data": {
      "text/plain": [
       "ADIANTAMENTO PARA VIAGENS                  43.521\n",
       "SERVIÇO PRESTADO - RPA                     33.432\n",
       "FOLHA DE PAGAMENTO - CLT                   25.676\n",
       "ADIANTAMENTO PARA DESPESAS                 15.570\n",
       "BOLSA                                       5.401\n",
       "DIÁRIAS                                     1.917\n",
       "SERVIÇOS DE TERCEIROS - PESSOA FÍSICA         570\n",
       "RESSARCIMENTO DE DESPESA                      560\n",
       "ADIANTAMENTOS                                  18\n",
       "RECURSOS HUMANOS                               11\n",
       "DEVOLUÇÃO                                       2\n",
       "RESSARCIMENTO de DESPESA [ressarcimento]        2\n",
       "Name: TIPO DE PAGAMENTO, dtype: int64"
      ]
     },
     "execution_count": 12,
     "metadata": {},
     "output_type": "execute_result"
    }
   ],
   "source": [
    "fcpc[\"TIPO DE PAGAMENTO\"].value_counts()"
   ]
  },
  {
   "cell_type": "code",
   "execution_count": 13,
   "metadata": {
    "collapsed": false,
    "deletable": true,
    "editable": true
   },
   "outputs": [
    {
     "data": {
      "text/plain": [
       "TIPO DE PAGAMENTO\n",
       "SERVIÇO PRESTADO - RPA                     101.091.942,45\n",
       "FOLHA DE PAGAMENTO - CLT                    72.897.248,65\n",
       "BOLSA                                       16.937.885,34\n",
       "ADIANTAMENTO PARA VIAGENS                   14.721.161,58\n",
       "ADIANTAMENTO PARA DESPESAS                   2.474.858,72\n",
       "DIÁRIAS                                      1.184.245,02\n",
       "SERVIÇOS DE TERCEIROS - PESSOA FÍSICA          519.177,13\n",
       "RESSARCIMENTO DE DESPESA                       449.610,58\n",
       "RECURSOS HUMANOS                                49.067,77\n",
       "ADIANTAMENTOS                                   22.081,00\n",
       "DEVOLUÇÃO                                        1.996,00\n",
       "RESSARCIMENTO de DESPESA [ressarcimento]           398,34\n",
       "Name: VALOR (R$), dtype: float64"
      ]
     },
     "execution_count": 13,
     "metadata": {},
     "output_type": "execute_result"
    }
   ],
   "source": [
    "fcpc.groupby(\"TIPO DE PAGAMENTO\")[\"VALOR (R$)\"].sum().sort_values(ascending=False)"
   ]
  },
  {
   "cell_type": "code",
   "execution_count": 14,
   "metadata": {
    "collapsed": false,
    "deletable": true,
    "editable": true
   },
   "outputs": [
    {
     "data": {
      "text/plain": [
       "FRANCISCO RODRIGO PORTO CAVALCANTI   259\n",
       "RAIMUNDO MENDES DA SILVA             221\n",
       "RONALDO GLAUBER MAIA DE OLIVEIRA     215\n",
       "CARLOS CHAGAS CAVALCANTE FREIRE      193\n",
       "ANTONIO VALDO BARROS DE SOUSA        192\n",
       "Name: NOME, dtype: int64"
      ]
     },
     "execution_count": 14,
     "metadata": {},
     "output_type": "execute_result"
    }
   ],
   "source": [
    "fcpc[\"NOME\"].value_counts().nlargest(5)"
   ]
  },
  {
   "cell_type": "code",
   "execution_count": 15,
   "metadata": {
    "collapsed": false,
    "deletable": true,
    "editable": true
   },
   "outputs": [
    {
     "data": {
      "text/html": [
       "<div>\n",
       "<style>\n",
       "    .dataframe thead tr:only-child th {\n",
       "        text-align: right;\n",
       "    }\n",
       "\n",
       "    .dataframe thead th {\n",
       "        text-align: left;\n",
       "    }\n",
       "\n",
       "    .dataframe tbody tr th {\n",
       "        vertical-align: top;\n",
       "    }\n",
       "</style>\n",
       "<table border=\"1\" class=\"dataframe\">\n",
       "  <thead>\n",
       "    <tr style=\"text-align: right;\">\n",
       "      <th></th>\n",
       "      <th>DATA</th>\n",
       "      <th>VALOR (R$)</th>\n",
       "      <th>CPF</th>\n",
       "      <th>NOME</th>\n",
       "      <th>TIPO DE PAGAMENTO</th>\n",
       "      <th>PROJETO</th>\n",
       "      <th>PROJETO_ID</th>\n",
       "    </tr>\n",
       "  </thead>\n",
       "  <tbody>\n",
       "    <tr>\n",
       "      <th>26.912</th>\n",
       "      <td>2016-12-19</td>\n",
       "      <td>328.428,65</td>\n",
       "      <td>***.839.713-**</td>\n",
       "      <td>FRANCISCO EDUARDO ARAUJO SOARES</td>\n",
       "      <td>SERVIÇO PRESTADO - RPA</td>\n",
       "      <td>3098 - CT - FCPC/IPLANFOR - PLANO ESTRATÉGICO ...</td>\n",
       "      <td>3098</td>\n",
       "    </tr>\n",
       "    <tr>\n",
       "      <th>26.791</th>\n",
       "      <td>2016-12-19</td>\n",
       "      <td>212.758,81</td>\n",
       "      <td>***.468.963-**</td>\n",
       "      <td>FRANCISCO SULIANO MESQUITA DE PAULA</td>\n",
       "      <td>SERVIÇO PRESTADO - RPA</td>\n",
       "      <td>3098 - CT - FCPC/IPLANFOR - PLANO ESTRATÉGICO ...</td>\n",
       "      <td>3098</td>\n",
       "    </tr>\n",
       "    <tr>\n",
       "      <th>26.943</th>\n",
       "      <td>2016-12-19</td>\n",
       "      <td>212.391,25</td>\n",
       "      <td>***.966.093-**</td>\n",
       "      <td>FAUSTO NILO COSTA JUNIOR</td>\n",
       "      <td>SERVIÇO PRESTADO - RPA</td>\n",
       "      <td>3098 - CT - FCPC/IPLANFOR - PLANO ESTRATÉGICO ...</td>\n",
       "      <td>3098</td>\n",
       "    </tr>\n",
       "    <tr>\n",
       "      <th>26.627</th>\n",
       "      <td>2016-12-19</td>\n",
       "      <td>182.058,44</td>\n",
       "      <td>***.140.963-**</td>\n",
       "      <td>FRANCISCO QUEIROZ D. NETO</td>\n",
       "      <td>SERVIÇO PRESTADO - RPA</td>\n",
       "      <td>3098 - CT - FCPC/IPLANFOR - PLANO ESTRATÉGICO ...</td>\n",
       "      <td>3098</td>\n",
       "    </tr>\n",
       "    <tr>\n",
       "      <th>26.920</th>\n",
       "      <td>2015-02-26</td>\n",
       "      <td>154.874,13</td>\n",
       "      <td>***.839.713-**</td>\n",
       "      <td>FRANCISCO EDUARDO ARAUJO SOARES</td>\n",
       "      <td>SERVIÇO PRESTADO - RPA</td>\n",
       "      <td>3098 - CT - FCPC/IPLANFOR - PLANO ESTRATÉGICO ...</td>\n",
       "      <td>3098</td>\n",
       "    </tr>\n",
       "  </tbody>\n",
       "</table>\n",
       "</div>"
      ],
      "text/plain": [
       "             DATA  VALOR (R$)             CPF  \\\n",
       "26.912 2016-12-19  328.428,65  ***.839.713-**   \n",
       "26.791 2016-12-19  212.758,81  ***.468.963-**   \n",
       "26.943 2016-12-19  212.391,25  ***.966.093-**   \n",
       "26.627 2016-12-19  182.058,44  ***.140.963-**   \n",
       "26.920 2015-02-26  154.874,13  ***.839.713-**   \n",
       "\n",
       "                                       NOME       TIPO DE PAGAMENTO  \\\n",
       "26.912      FRANCISCO EDUARDO ARAUJO SOARES  SERVIÇO PRESTADO - RPA   \n",
       "26.791  FRANCISCO SULIANO MESQUITA DE PAULA  SERVIÇO PRESTADO - RPA   \n",
       "26.943             FAUSTO NILO COSTA JUNIOR  SERVIÇO PRESTADO - RPA   \n",
       "26.627            FRANCISCO QUEIROZ D. NETO  SERVIÇO PRESTADO - RPA   \n",
       "26.920      FRANCISCO EDUARDO ARAUJO SOARES  SERVIÇO PRESTADO - RPA   \n",
       "\n",
       "                                                  PROJETO PROJETO_ID  \n",
       "26.912  3098 - CT - FCPC/IPLANFOR - PLANO ESTRATÉGICO ...       3098  \n",
       "26.791  3098 - CT - FCPC/IPLANFOR - PLANO ESTRATÉGICO ...       3098  \n",
       "26.943  3098 - CT - FCPC/IPLANFOR - PLANO ESTRATÉGICO ...       3098  \n",
       "26.627  3098 - CT - FCPC/IPLANFOR - PLANO ESTRATÉGICO ...       3098  \n",
       "26.920  3098 - CT - FCPC/IPLANFOR - PLANO ESTRATÉGICO ...       3098  "
      ]
     },
     "execution_count": 15,
     "metadata": {},
     "output_type": "execute_result"
    }
   ],
   "source": [
    "fcpc.nlargest(5, \"VALOR (R$)\")"
   ]
  },
  {
   "cell_type": "code",
   "execution_count": 16,
   "metadata": {
    "collapsed": false,
    "deletable": true,
    "editable": true
   },
   "outputs": [
    {
     "data": {
      "text/plain": [
       "NOME\n",
       "FRANCISCO EDUARDO ARAUJO SOARES     1.009.837,94\n",
       "LEONILDO ADAO CHRISTOFOLETTI          983.093,17\n",
       "JAVAM DE CASTRO MACHADO               802.283,12\n",
       "FRANCISCO VANILSON PINHEIRO LEITE     779.393,29\n",
       "RAQUEL DE MELO ROLIM                  778.440,00\n",
       "Name: VALOR (R$), dtype: float64"
      ]
     },
     "execution_count": 16,
     "metadata": {},
     "output_type": "execute_result"
    }
   ],
   "source": [
    "top_5 = fcpc.groupby(\"NOME\")[\"VALOR (R$)\"].sum().nlargest(5)\n",
    "top_5"
   ]
  },
  {
   "cell_type": "code",
   "execution_count": 17,
   "metadata": {
    "collapsed": false,
    "deletable": true,
    "editable": true
   },
   "outputs": [
    {
     "data": {
      "text/plain": [
       "<matplotlib.axes._subplots.AxesSubplot at 0x7f7c21d336d8>"
      ]
     },
     "execution_count": 17,
     "metadata": {},
     "output_type": "execute_result"
    },
    {
     "data": {
      "image/png": "[encoded data removed]",
      "text/plain": [
       "<matplotlib.figure.Figure at 0x7f7c22750710>"
      ]
     },
     "metadata": {},
     "output_type": "display_data"
    }
   ],
   "source": [
    "top_5_ = fcpc[fcpc.NOME.isin(top_5.index)]\n",
    "\n",
    "top_5_.groupby([top_5_.DATA.dt.year, \"NOME\"])[\"VALOR (R$)\"].sum().unstack().plot(kind=\"bar\", figsize=(10, 6))"
   ]
  },
  {
   "cell_type": "code",
   "execution_count": 20,
   "metadata": {
    "collapsed": false,
    "deletable": true,
    "editable": true
   },
   "outputs": [
    {
     "data": {
      "text/plain": [
       "<matplotlib.legend.Legend at 0x7f7c221c7ba8>"
      ]
     },
     "execution_count": 20,
     "metadata": {},
     "output_type": "execute_result"
    },
    {
     "data": {
      "image/png": "[encoded data removed]",
      "text/plain": [
       "<matplotlib.figure.Figure at 0x7f7c220305f8>"
      ]
     },
     "metadata": {},
     "output_type": "display_data"
    }
   ],
   "source": [
    "top_5_tdp = top_5_.groupby([\"NOME\", \"TIPO DE PAGAMENTO\"])[\"VALOR (R$)\"].sum().unstack().fillna(0)\n",
    "\n",
    "top_5_tdp.div(top_5_tdp.sum(axis=1), axis=0).plot(kind=\"barh\", stacked=True, figsize=(10, 6))\n",
    "plt.legend(bbox_to_anchor=(1., .5))"
   ]
  },
  {
   "cell_type": "code",
   "execution_count": 21,
   "metadata": {
    "collapsed": false,
    "deletable": true,
    "editable": true
   },
   "outputs": [
    {
     "data": {
      "text/html": [
       "<div>\n",
       "<style>\n",
       "    .dataframe thead tr:only-child th {\n",
       "        text-align: right;\n",
       "    }\n",
       "\n",
       "    .dataframe thead th {\n",
       "        text-align: left;\n",
       "    }\n",
       "\n",
       "    .dataframe tbody tr th {\n",
       "        vertical-align: top;\n",
       "    }\n",
       "</style>\n",
       "<table border=\"1\" class=\"dataframe\">\n",
       "  <thead>\n",
       "    <tr style=\"text-align: right;\">\n",
       "      <th></th>\n",
       "      <th>DATA</th>\n",
       "      <th>VALOR (R$)</th>\n",
       "      <th>CPF</th>\n",
       "      <th>NOME</th>\n",
       "      <th>TIPO DE PAGAMENTO</th>\n",
       "      <th>PROJETO</th>\n",
       "      <th>PROJETO_ID</th>\n",
       "    </tr>\n",
       "  </thead>\n",
       "  <tbody>\n",
       "    <tr>\n",
       "      <th>74.956</th>\n",
       "      <td>2010-11-22</td>\n",
       "      <td>428,58</td>\n",
       "      <td>***.692.163-**</td>\n",
       "      <td>ABELARDO VIEIRA MOTA</td>\n",
       "      <td>SERVIÇO PRESTADO - RPA</td>\n",
       "      <td>2266 - CARTA LG/FCPC - OUTROS CORRELATOS</td>\n",
       "      <td>2266</td>\n",
       "    </tr>\n",
       "  </tbody>\n",
       "</table>\n",
       "</div>"
      ],
      "text/plain": [
       "             DATA  VALOR (R$)             CPF                  NOME  \\\n",
       "74.956 2010-11-22      428,58  ***.692.163-**  ABELARDO VIEIRA MOTA   \n",
       "\n",
       "             TIPO DE PAGAMENTO                                   PROJETO  \\\n",
       "74.956  SERVIÇO PRESTADO - RPA  2266 - CARTA LG/FCPC - OUTROS CORRELATOS   \n",
       "\n",
       "       PROJETO_ID  \n",
       "74.956       2266  "
      ]
     },
     "execution_count": 21,
     "metadata": {},
     "output_type": "execute_result"
    }
   ],
   "source": [
    "fcpc[fcpc.NOME == \"ABELARDO VIEIRA MOTA\"]"
   ]
  },
  {
   "cell_type": "code",
   "execution_count": 22,
   "metadata": {
    "collapsed": false,
    "deletable": true,
    "editable": true
   },
   "outputs": [
    {
     "data": {
      "text/plain": [
       "PROJETO\n",
       "0101 - FCPC                                                                           11.295.825,98\n",
       "3098 - CT - FCPC/IPLANFOR - PLANO ESTRATÉGICO FORTALEZA 2040                           7.373.401,34\n",
       "1089 - RESCISAO CONTRATUAL                                                             6.617.825,17\n",
       "2924 - CT - UFC/FCPC - IMPLANTACAO E OFERTA DOS CURSOS DE GRADUACAO DA UAB/UFC 2012    6.264.561,69\n",
       "2922 - CT - PETROBRAS - PROJETO AMBES                                                  5.753.658,23\n",
       "Name: VALOR (R$), dtype: float64"
      ]
     },
     "execution_count": 22,
     "metadata": {},
     "output_type": "execute_result"
    }
   ],
   "source": [
    "# recisão como projeto\n",
    "fcpc.groupby(\"PROJETO\")[\"VALOR (R$)\"].sum().nlargest(5)"
   ]
  },
  {
   "cell_type": "code",
   "execution_count": 23,
   "metadata": {
    "collapsed": false,
    "deletable": true,
    "editable": true
   },
   "outputs": [
    {
     "data": {
      "text/html": [
       "<div>\n",
       "<style>\n",
       "    .dataframe thead tr:only-child th {\n",
       "        text-align: right;\n",
       "    }\n",
       "\n",
       "    .dataframe thead th {\n",
       "        text-align: left;\n",
       "    }\n",
       "\n",
       "    .dataframe tbody tr th {\n",
       "        vertical-align: top;\n",
       "    }\n",
       "</style>\n",
       "<table border=\"1\" class=\"dataframe\">\n",
       "  <thead>\n",
       "    <tr style=\"text-align: right;\">\n",
       "      <th></th>\n",
       "      <th>VALOR (R$)</th>\n",
       "    </tr>\n",
       "    <tr>\n",
       "      <th>TIPO DE PAGAMENTO</th>\n",
       "      <th></th>\n",
       "    </tr>\n",
       "  </thead>\n",
       "  <tbody>\n",
       "    <tr>\n",
       "      <th>FOLHA DE PAGAMENTO - CLT</th>\n",
       "      <td>6.485.842,25</td>\n",
       "    </tr>\n",
       "    <tr>\n",
       "      <th>RECURSOS HUMANOS</th>\n",
       "      <td>19.659,97</td>\n",
       "    </tr>\n",
       "    <tr>\n",
       "      <th>SERVIÇO PRESTADO - RPA</th>\n",
       "      <td>112.322,95</td>\n",
       "    </tr>\n",
       "  </tbody>\n",
       "</table>\n",
       "</div>"
      ],
      "text/plain": [
       "                           VALOR (R$)\n",
       "TIPO DE PAGAMENTO                    \n",
       "FOLHA DE PAGAMENTO - CLT 6.485.842,25\n",
       "RECURSOS HUMANOS            19.659,97\n",
       "SERVIÇO PRESTADO - RPA     112.322,95"
      ]
     },
     "execution_count": 23,
     "metadata": {},
     "output_type": "execute_result"
    }
   ],
   "source": [
    "fcpc[fcpc.PROJETO == \"1089 - RESCISAO CONTRATUAL\"].groupby(\"TIPO DE PAGAMENTO\").sum()"
   ]
  },
  {
   "cell_type": "code",
   "execution_count": 24,
   "metadata": {
    "collapsed": false,
    "deletable": true,
    "editable": true
   },
   "outputs": [
    {
     "data": {
      "text/plain": [
       "PROJETO\n",
       "3134 - TERMO DE COOPERACAO HENRY/UFC/FCPC                    35.416,67\n",
       "2325 - CT - GAIA/FCPC - DESENVOLVIMENTO DE SOFTWARE          32.607,77\n",
       "2983 - CT - UFC/FCPC - PLANO DE BENEFICIOS DO PODER EXECUT   21.925,93\n",
       "3204 - TC - GNATUS/UFC/FCPC                                  21.844,44\n",
       "2826 - CT - BNDES/FCPC-CRESCIMENTO ECONOMICOS                20.076,95\n",
       "Name: VALOR (R$), dtype: float64"
      ]
     },
     "execution_count": 24,
     "metadata": {},
     "output_type": "execute_result"
    }
   ],
   "source": [
    "fcpc.groupby(\"PROJETO\")[\"VALOR (R$)\"].mean().nlargest(5)"
   ]
  },
  {
   "cell_type": "code",
   "execution_count": 25,
   "metadata": {
    "collapsed": false,
    "deletable": true,
    "editable": true
   },
   "outputs": [
    {
     "data": {
      "text/html": [
       "<div>\n",
       "<style>\n",
       "    .dataframe thead tr:only-child th {\n",
       "        text-align: right;\n",
       "    }\n",
       "\n",
       "    .dataframe thead th {\n",
       "        text-align: left;\n",
       "    }\n",
       "\n",
       "    .dataframe tbody tr th {\n",
       "        vertical-align: top;\n",
       "    }\n",
       "</style>\n",
       "<table border=\"1\" class=\"dataframe\">\n",
       "  <thead>\n",
       "    <tr style=\"text-align: right;\">\n",
       "      <th></th>\n",
       "      <th>DATA</th>\n",
       "      <th>VALOR (R$)</th>\n",
       "      <th>CPF</th>\n",
       "      <th>NOME</th>\n",
       "      <th>TIPO DE PAGAMENTO</th>\n",
       "      <th>PROJETO</th>\n",
       "      <th>PROJETO_ID</th>\n",
       "    </tr>\n",
       "  </thead>\n",
       "  <tbody>\n",
       "    <tr>\n",
       "      <th>119.052</th>\n",
       "      <td>2015-03-31</td>\n",
       "      <td>35.416,67</td>\n",
       "      <td>***.438.673-**</td>\n",
       "      <td>CLEITON MACIEL ROCHA DA SILVA</td>\n",
       "      <td>SERVIÇO PRESTADO - RPA</td>\n",
       "      <td>3134 - TERMO DE COOPERACAO HENRY/UFC/FCPC</td>\n",
       "      <td>3134</td>\n",
       "    </tr>\n",
       "  </tbody>\n",
       "</table>\n",
       "</div>"
      ],
      "text/plain": [
       "              DATA  VALOR (R$)             CPF                           NOME  \\\n",
       "119.052 2015-03-31   35.416,67  ***.438.673-**  CLEITON MACIEL ROCHA DA SILVA   \n",
       "\n",
       "              TIPO DE PAGAMENTO                                    PROJETO  \\\n",
       "119.052  SERVIÇO PRESTADO - RPA  3134 - TERMO DE COOPERACAO HENRY/UFC/FCPC   \n",
       "\n",
       "        PROJETO_ID  \n",
       "119.052       3134  "
      ]
     },
     "execution_count": 25,
     "metadata": {},
     "output_type": "execute_result"
    }
   ],
   "source": [
    "fcpc[fcpc.PROJETO == \"3134 - TERMO DE COOPERACAO HENRY/UFC/FCPC\"]"
   ]
  },
  {
   "cell_type": "code",
   "execution_count": 30,
   "metadata": {
    "collapsed": false,
    "deletable": true,
    "editable": true
   },
   "outputs": [
    {
     "data": {
      "image/png": "[encoded data removed]",
      "text/plain": [
       "<matplotlib.figure.Figure at 0x7f7c1c814e80>"
      ]
     },
     "metadata": {},
     "output_type": "display_data"
    }
   ],
   "source": [
    "tpv = fcpc.groupby([fcpc.DATA.dt.year, \"TIPO DE PAGAMENTO\"])[\"VALOR (R$)\"].sum().unstack().fillna(0)\n",
    "\n",
    "tpv.plot(kind=\"bar\", figsize=(16, 16), cmap=plt.cm.Vega20_r, subplots=True, layout=(4, 3))\n",
    "pass"
   ]
  }
 ],
 "metadata": {
  "anaconda-cloud": {},
  "extensions": {
   "jupyter_dashboards": {
    "activeView": "grid_default",
    "version": 1,
    "views": {
     "grid_default": {
      "cellMargin": 10,
      "defaultCellHeight": 20,
      "maxColumns": 12,
      "name": "grid",
      "type": "grid"
     },
     "report_default": {
      "name": "report",
      "type": "report"
     }
    }
   }
  },
  "kernelspec": {
   "display_name": "Python 3",
   "language": "python",
   "name": "python3"
  },
  "language_info": {
   "codemirror_mode": {
    "name": "ipython",
    "version": 3
   },
   "file_extension": ".py",
   "mimetype": "text/x-python",
   "name": "python",
   "nbconvert_exporter": "python",
   "pygments_lexer": "ipython3",
   "version": "3.6.1"
  }
 },
 "nbformat": 4,
 "nbformat_minor": 2
}
