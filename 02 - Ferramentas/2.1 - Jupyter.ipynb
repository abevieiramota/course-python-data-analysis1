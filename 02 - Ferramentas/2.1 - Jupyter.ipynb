{
 "cells": [
  {
   "cell_type": "markdown",
   "metadata": {
    "deletable": true,
    "editable": true
   },
   "source": [
    "# Anaconda\n",
    "\n",
    "https://docs.continuum.io/anaconda/\n",
    "\n",
    "Distribuição de pacotes Python voltada para as ciências de dados. \n",
    "\n",
    "Possui ferramenta para gerenciar os pacotes(instalar, atualizar, remover, resolver dependências), versões do Python e criação de ambientes virtuais. \n",
    "\n",
    "Já vem com um conjunto de pacotes instalados, dentre eles o Jupyter, numpy, pandas e spyder, e ferramentas, como o spyder(IDE) e orange(app like weka).\n",
    "\n",
    "Lista de pacotes disponíveis: https://docs.continuum.io/anaconda/pkg-docs.html"
   ]
  },
  {
   "cell_type": "markdown",
   "metadata": {
    "deletable": true,
    "editable": true
   },
   "source": [
    "## Comandos para gerenciamento de pacotes\n",
    "\n",
    "* conda list \n",
    "* conda search package_name(pode ser apenas uma parte)\n",
    "* conda update package_name\n",
    "* conda remove scikit-learn\n",
    "* conda update --all\n",
    "* conda install package_name\n",
    "\n",
    "Possui também uma interface gráfica: anaconda-navigator"
   ]
  },
  {
   "cell_type": "markdown",
   "metadata": {
    "deletable": true,
    "editable": true
   },
   "source": [
    "# Jupyter\n",
    "\n",
    "http://jupyter.org/\n",
    "\n",
    "Ambiente de desenvolvimento composto por ferramentas como Jupyter Notebook e Jupyter QtConsole, que inclui ferramentas como autocomplete, code highlight, visualização inline etc."
   ]
  },
  {
   "cell_type": "markdown",
   "metadata": {
    "deletable": true,
    "editable": true
   },
   "source": [
    "# Jupyter Notebook\n",
    "\n",
    "Aplicação web que permite desenvolver documentos(notebooks) que mesclam código, texto formatado, Latex, visualizações, HTML etc.\n",
    "\n",
    "**comando**:\n",
    "\n",
    "jupyter notebook\n",
    "\n",
    "**Shortcuts**:\n",
    "\n",
    "* **crtl+enter** -> executa a célula e mantém a célula atual selecionada\n",
    "* **shift+enter** -> executa a célula e seleciona a próxima célula\n",
    "* **esc** -> vai para o modo de comando\n",
    "* **enter** ou clicar na célula -> vai para o modo de entrada\n",
    "* **setas** para mover entre as células\n",
    "* no modo de comando:\n",
    "   * **a** -> abre uma célula acima da célula selecionada\n",
    "   * **b** -> abre uma célula abaixo da célula selecionada\n",
    "   * **m** -> altera o tipo da célula atual para markdown\n",
    "   * **y** -> altera o tipo da célula atual para código\n",
    "   * **dd** ou **x** -> exclui a célula atual -> pode ser desfeito com Edit > Undo Delete Cells\n",
    "   * **space/shift+space** -> move o notebook\n",
    "   \n",
    "**Menu**\n",
    "\n",
    "* Cell > Run All\n",
    "* Cell > Current Output/All Outputs > Clear"
   ]
  },
  {
   "cell_type": "markdown",
   "metadata": {
    "deletable": true,
    "editable": true
   },
   "source": [
    "## Output representação string do objeto"
   ]
  },
  {
   "cell_type": "code",
   "execution_count": 1,
   "metadata": {
    "collapsed": false,
    "deletable": true,
    "editable": true
   },
   "outputs": [
    {
     "data": {
      "text/plain": [
       "{'b': 'c',\n",
       " 'c': {'a': 'hehe',\n",
       "  'e': {'f': {0: -0.3683474254624129,\n",
       "    1: -0.6767237897173507,\n",
       "    2: -0.5410829488723763,\n",
       "    3: 0.2554400298478532}}},\n",
       " 'd': -1.265988328253152}"
      ]
     },
     "execution_count": 1,
     "metadata": {},
     "output_type": "execute_result"
    }
   ],
   "source": [
    "from numpy.random import randn\n",
    "\n",
    "a = {\"b\": \"c\", \"d\": randn(), \"c\": {\"a\": \"hehe\", \"e\": {\"f\": {i : randn() for i in range(4)}}}}\n",
    "\n",
    "a"
   ]
  },
  {
   "cell_type": "code",
   "execution_count": 2,
   "metadata": {
    "collapsed": false,
    "deletable": true,
    "editable": true
   },
   "outputs": [
    {
     "name": "stdout",
     "output_type": "stream",
     "text": [
      "{'b': 'c', 'c': {'a': 'hehe', 'e': {...}}, 'd': -1.265988328253152}\n"
     ]
    }
   ],
   "source": [
    "from pprint import pprint\n",
    "\n",
    "pprint(a, depth=2)"
   ]
  },
  {
   "cell_type": "markdown",
   "metadata": {
    "deletable": true,
    "editable": true
   },
   "source": [
    "## Tab completion"
   ]
  },
  {
   "cell_type": "code",
   "execution_count": 3,
   "metadata": {
    "collapsed": true,
    "deletable": true,
    "editable": true
   },
   "outputs": [],
   "source": [
    "minha_variavel = 26\n",
    "minha_variable = 27"
   ]
  },
  {
   "cell_type": "code",
   "execution_count": null,
   "metadata": {
    "collapsed": true,
    "deletable": true,
    "editable": true
   },
   "outputs": [],
   "source": [
    "minha # tab"
   ]
  },
  {
   "cell_type": "code",
   "execution_count": 4,
   "metadata": {
    "collapsed": true,
    "deletable": true,
    "editable": true
   },
   "outputs": [],
   "source": [
    "# autocomplete com objeto\n",
    "lista = [1, 2, 3]"
   ]
  },
  {
   "cell_type": "code",
   "execution_count": 20,
   "metadata": {
    "collapsed": false,
    "deletable": true,
    "editable": true
   },
   "outputs": [
    {
     "data": {
      "text/plain": [
       "[1, 2, 3]"
      ]
     },
     "execution_count": 20,
     "metadata": {},
     "output_type": "execute_result"
    }
   ],
   "source": [
    "lista. # tab"
   ]
  },
  {
   "cell_type": "code",
   "execution_count": null,
   "metadata": {
    "collapsed": true,
    "deletable": true,
    "editable": true
   },
   "outputs": [],
   "source": [
    "# autocomplete com módulos\n",
    "\n",
    "import datetime\n",
    "\n",
    "datetime. # tab\n",
    "datetime._ # por default atributos e métodos inicializados por underscore não são apresentados"
   ]
  },
  {
   "cell_type": "code",
   "execution_count": null,
   "metadata": {
    "collapsed": true,
    "deletable": true,
    "editable": true
   },
   "outputs": [],
   "source": [
    "# autocomplete com paths do filesystem\n",
    "\n",
    "../../data # tab"
   ]
  },
  {
   "cell_type": "markdown",
   "metadata": {
    "deletable": true,
    "editable": true
   },
   "source": [
    "## Introspection"
   ]
  },
  {
   "cell_type": "code",
   "execution_count": 5,
   "metadata": {
    "collapsed": true,
    "deletable": true,
    "editable": true
   },
   "outputs": [],
   "source": [
    "?lista # informações gerais sobre o objeto"
   ]
  },
  {
   "cell_type": "code",
   "execution_count": 9,
   "metadata": {
    "collapsed": true,
    "deletable": true,
    "editable": true
   },
   "outputs": [],
   "source": [
    "def soma(a, b):\n",
    "    \n",
    "    return a + b"
   ]
  },
  {
   "cell_type": "code",
   "execution_count": 16,
   "metadata": {
    "collapsed": true,
    "deletable": true,
    "editable": true
   },
   "outputs": [],
   "source": [
    "??soma # se disponível, apresenta o código"
   ]
  },
  {
   "cell_type": "markdown",
   "metadata": {
    "deletable": true,
    "editable": true
   },
   "source": [
    "## Pesquisa em métodos e atributos de um objeto/módulo"
   ]
  },
  {
   "cell_type": "code",
   "execution_count": 6,
   "metadata": {
    "collapsed": true,
    "deletable": true,
    "editable": true
   },
   "outputs": [],
   "source": [
    "import numpy as np\n",
    "\n",
    "?np.*load* # * wildcard"
   ]
  },
  {
   "cell_type": "code",
   "execution_count": 7,
   "metadata": {
    "collapsed": true,
    "deletable": true,
    "editable": true
   },
   "outputs": [],
   "source": [
    "?np.lo*"
   ]
  },
  {
   "cell_type": "markdown",
   "metadata": {
    "deletable": true,
    "editable": true
   },
   "source": [
    "## Executando script"
   ]
  },
  {
   "cell_type": "code",
   "execution_count": 8,
   "metadata": {
    "collapsed": false,
    "deletable": true,
    "editable": true
   },
   "outputs": [
    {
     "name": "stdout",
     "output_type": "stream",
     "text": [
      "\r\n",
      "print(\"Fala galera da STI!\")"
     ]
    }
   ],
   "source": [
    "!cat script1.py"
   ]
  },
  {
   "cell_type": "code",
   "execution_count": 9,
   "metadata": {
    "collapsed": false,
    "deletable": true,
    "editable": true
   },
   "outputs": [
    {
     "name": "stdout",
     "output_type": "stream",
     "text": [
      "Fala galera da STI!\n"
     ]
    }
   ],
   "source": [
    "%run script1.py # executado sem acesso às variáveis e imports dessa sessão"
   ]
  },
  {
   "cell_type": "code",
   "execution_count": 10,
   "metadata": {
    "collapsed": false,
    "deletable": true,
    "editable": true
   },
   "outputs": [
    {
     "name": "stdout",
     "output_type": "stream",
     "text": [
      "\r\n",
      "print(nome)"
     ]
    }
   ],
   "source": [
    "!cat script2.py"
   ]
  },
  {
   "cell_type": "code",
   "execution_count": 11,
   "metadata": {
    "collapsed": false,
    "deletable": true,
    "editable": true
   },
   "outputs": [
    {
     "name": "stdout",
     "output_type": "stream",
     "text": [
      "joão\n"
     ]
    }
   ],
   "source": [
    "nome = \"joão\"\n",
    "\n",
    "%run -i script2.py # executado com acesso às variáveis e imports dessa sessão"
   ]
  },
  {
   "cell_type": "markdown",
   "metadata": {
    "deletable": true,
    "editable": true
   },
   "source": [
    "## Interrompendo a execução de uma célula"
   ]
  },
  {
   "cell_type": "code",
   "execution_count": 12,
   "metadata": {
    "collapsed": true,
    "deletable": true,
    "editable": true
   },
   "outputs": [],
   "source": [
    "import time\n",
    "\n",
    "def demora_muito():\n",
    "    \n",
    "    for _ in range(100):\n",
    "        \n",
    "        time.sleep(5)"
   ]
  },
  {
   "cell_type": "code",
   "execution_count": 13,
   "metadata": {
    "collapsed": false,
    "deletable": true,
    "editable": true
   },
   "outputs": [
    {
     "ename": "KeyboardInterrupt",
     "evalue": "",
     "output_type": "error",
     "traceback": [
      "\u001b[0;31m---------------------------------------------------------------------------\u001b[0m",
      "\u001b[0;31mKeyboardInterrupt\u001b[0m                         Traceback (most recent call last)",
      "\u001b[0;32m/home/abevieiramota/Documents/github-repos/course-python-data-analysis/02 - Ferramentas/script2.py\u001b[0m in \u001b[0;36m<module>\u001b[0;34m()\u001b[0m\n\u001b[0;32m----> 1\u001b[0;31m \u001b[0mdemora_muito\u001b[0m\u001b[0;34m(\u001b[0m\u001b[0;34m)\u001b[0m \u001b[0;31m# botão interrupt kernel\u001b[0m\u001b[0;34m\u001b[0m\u001b[0m\n\u001b[0m",
      "\u001b[0;32m/home/abevieiramota/Documents/github-repos/course-python-data-analysis/02 - Ferramentas/script2.py\u001b[0m in \u001b[0;36mdemora_muito\u001b[0;34m()\u001b[0m\n\u001b[1;32m      5\u001b[0m     \u001b[0;32mfor\u001b[0m \u001b[0m_\u001b[0m \u001b[0;32min\u001b[0m \u001b[0mrange\u001b[0m\u001b[0;34m(\u001b[0m\u001b[0;36m100\u001b[0m\u001b[0;34m)\u001b[0m\u001b[0;34m:\u001b[0m\u001b[0;34m\u001b[0m\u001b[0m\n\u001b[1;32m      6\u001b[0m \u001b[0;34m\u001b[0m\u001b[0m\n\u001b[0;32m----> 7\u001b[0;31m         \u001b[0mtime\u001b[0m\u001b[0;34m.\u001b[0m\u001b[0msleep\u001b[0m\u001b[0;34m(\u001b[0m\u001b[0;36m5\u001b[0m\u001b[0;34m)\u001b[0m\u001b[0;34m\u001b[0m\u001b[0m\n\u001b[0m",
      "\u001b[0;31mKeyboardInterrupt\u001b[0m: "
     ]
    }
   ],
   "source": [
    "demora_muito() # botão interrupt kernel"
   ]
  },
  {
   "cell_type": "markdown",
   "metadata": {
    "deletable": true,
    "editable": true
   },
   "source": [
    "## Magic commands"
   ]
  },
  {
   "cell_type": "markdown",
   "metadata": {
    "deletable": true,
    "editable": true
   },
   "source": [
    "* obs: os magic commands podem ser utilizados sem % - se não houver ambiguidade"
   ]
  },
  {
   "cell_type": "code",
   "execution_count": 14,
   "metadata": {
    "collapsed": true,
    "deletable": true,
    "editable": true
   },
   "outputs": [],
   "source": [
    "%quickref"
   ]
  },
  {
   "cell_type": "code",
   "execution_count": 15,
   "metadata": {
    "collapsed": true,
    "deletable": true,
    "editable": true
   },
   "outputs": [],
   "source": [
    "import numpy as np"
   ]
  },
  {
   "cell_type": "code",
   "execution_count": 16,
   "metadata": {
    "collapsed": false,
    "deletable": true,
    "editable": true
   },
   "outputs": [
    {
     "name": "stdout",
     "output_type": "stream",
     "text": [
      "CPU times: user 0 ns, sys: 0 ns, total: 0 ns\n",
      "Wall time: 2.02 ms\n"
     ]
    },
    {
     "data": {
      "text/plain": [
       "array([[-1.12604192, -0.14631003],\n",
       "       [ 5.03126146,  0.12620347]])"
      ]
     },
     "execution_count": 16,
     "metadata": {},
     "output_type": "execute_result"
    }
   ],
   "source": [
    "%%time\n",
    "\n",
    "np.dot(np.random.randn(2, 30), np.random.randn(30, 2))\n",
    "# CPU time > tempo de execução em CPU\n",
    "# Wall time > tempo passado desde o envio do comando até a resposta"
   ]
  },
  {
   "cell_type": "code",
   "execution_count": 17,
   "metadata": {
    "collapsed": false,
    "deletable": true,
    "editable": true
   },
   "outputs": [
    {
     "name": "stdout",
     "output_type": "stream",
     "text": [
      "1000 loops, best of 3: 870 µs per loop\n"
     ]
    }
   ],
   "source": [
    "%%timeit\n",
    "\n",
    "np.dot(np.random.randn(100, 100), np.random.randn(100, 100))"
   ]
  },
  {
   "cell_type": "code",
   "execution_count": 18,
   "metadata": {
    "collapsed": false,
    "deletable": true,
    "editable": true
   },
   "outputs": [
    {
     "name": "stdout",
     "output_type": "stream",
     "text": [
      "a\t demora_muito\t lista\t minha_variable\t minha_variavel\t nome\t np\t pprint\t randn\t \n",
      "time\t \n"
     ]
    }
   ],
   "source": [
    "%who"
   ]
  },
  {
   "cell_type": "code",
   "execution_count": 19,
   "metadata": {
    "collapsed": true,
    "deletable": true,
    "editable": true
   },
   "outputs": [],
   "source": [
    "%reset -f"
   ]
  },
  {
   "cell_type": "code",
   "execution_count": 20,
   "metadata": {
    "collapsed": false,
    "deletable": true,
    "editable": true
   },
   "outputs": [
    {
     "name": "stdout",
     "output_type": "stream",
     "text": [
      "Interactive namespace is empty.\n"
     ]
    }
   ],
   "source": [
    "%who"
   ]
  },
  {
   "cell_type": "code",
   "execution_count": 21,
   "metadata": {
    "collapsed": false,
    "deletable": true,
    "editable": true
   },
   "outputs": [
    {
     "name": "stdout",
     "output_type": "stream",
     "text": [
      "from numpy.random import randn\n",
      "\n",
      "a = {\"b\": \"c\", \"d\": randn(), \"c\": {\"a\": \"hehe\", \"e\": {\"f\": {i : randn() for i in range(4)}}}}\n",
      "\n",
      "a\n",
      "from pprint import pprint\n",
      "\n",
      "pprint(a, depth=2)\n",
      "minha_variavel = 26\n",
      "minha_variable = 27\n",
      "# autocomplete com objeto\n",
      "lista = [1, 2, 3]\n",
      "?lista # informações gerais sobre o objeto\n",
      "import numpy as np\n",
      "\n",
      "?np.*load* # * wildcard\n",
      "?np.lo*\n",
      "!cat script1.py\n",
      "%run script1.py # executado sem acesso às variáveis e imports dessa sessão\n",
      "!cat script2.py\n",
      "nome = \"joão\"\n",
      "\n",
      "%run -i script2.py # executado com acesso às variáveis e imports dessa sessão\n",
      "import time\n",
      "\n",
      "def demora_muito():\n",
      "    \n",
      "    for _ in range(100):\n",
      "        \n",
      "        time.sleep(5)\n",
      "demora_muito() # botão interrupt kernel\n",
      "%quickref\n",
      "import numpy as np\n",
      "%%time\n",
      "\n",
      "np.dot(np.random.randn(2, 30), np.random.randn(30, 2))\n",
      "# CPU time > tempo de execução em CPU\n",
      "# Wall time > tempo passado desde o envio do comando até a resposta\n",
      "%%timeit\n",
      "\n",
      "np.dot(np.random.randn(100, 100), np.random.randn(100, 100))\n",
      "%who\n",
      "%reset -f\n",
      "%who\n",
      "%hist\n"
     ]
    }
   ],
   "source": [
    "%hist"
   ]
  },
  {
   "cell_type": "markdown",
   "metadata": {
    "deletable": true,
    "editable": true
   },
   "source": [
    "## Histórico de output"
   ]
  },
  {
   "cell_type": "code",
   "execution_count": 22,
   "metadata": {
    "collapsed": false,
    "deletable": true,
    "editable": true
   },
   "outputs": [
    {
     "data": {
      "text/plain": [
       "33"
      ]
     },
     "execution_count": 22,
     "metadata": {},
     "output_type": "execute_result"
    }
   ],
   "source": [
    "10 + 23"
   ]
  },
  {
   "cell_type": "code",
   "execution_count": 35,
   "metadata": {
    "collapsed": false,
    "deletable": true,
    "editable": true
   },
   "outputs": [
    {
     "data": {
      "text/plain": [
       "33"
      ]
     },
     "execution_count": 35,
     "metadata": {},
     "output_type": "execute_result"
    }
   ],
   "source": [
    "_ # último output"
   ]
  },
  {
   "cell_type": "code",
   "execution_count": 40,
   "metadata": {
    "collapsed": false,
    "deletable": true,
    "editable": true
   },
   "outputs": [
    {
     "data": {
      "text/plain": [
       "33"
      ]
     },
     "execution_count": 40,
     "metadata": {},
     "output_type": "execute_result"
    }
   ],
   "source": [
    "_22 # _X -> output, onde X é o número da célula"
   ]
  },
  {
   "cell_type": "code",
   "execution_count": 41,
   "metadata": {
    "collapsed": false,
    "deletable": true,
    "editable": true
   },
   "outputs": [
    {
     "data": {
      "text/plain": [
       "'10 + 23'"
      ]
     },
     "execution_count": 41,
     "metadata": {},
     "output_type": "execute_result"
    }
   ],
   "source": [
    "_i22 # _iX -> input, onde X é o número da célula"
   ]
  },
  {
   "cell_type": "code",
   "execution_count": 46,
   "metadata": {
    "collapsed": false,
    "deletable": true,
    "editable": true
   },
   "outputs": [
    {
     "data": {
      "text/plain": [
       "43"
      ]
     },
     "execution_count": 46,
     "metadata": {},
     "output_type": "execute_result"
    }
   ],
   "source": [
    "a = 10 + 33\n",
    "\n",
    "a"
   ]
  },
  {
   "cell_type": "code",
   "execution_count": 43,
   "metadata": {
    "collapsed": false,
    "deletable": true,
    "editable": true
   },
   "outputs": [
    {
     "data": {
      "text/plain": [
       "'a = 10 + 33\\n\\na'"
      ]
     },
     "execution_count": 43,
     "metadata": {},
     "output_type": "execute_result"
    }
   ],
   "source": [
    "_i # último input"
   ]
  },
  {
   "cell_type": "code",
   "execution_count": 47,
   "metadata": {
    "collapsed": false,
    "deletable": true,
    "editable": true
   },
   "outputs": [],
   "source": [
    "exec(_i) # reexecuta o input"
   ]
  },
  {
   "cell_type": "markdown",
   "metadata": {
    "deletable": true,
    "editable": true
   },
   "source": [
    "## Log"
   ]
  },
  {
   "cell_type": "code",
   "execution_count": 48,
   "metadata": {
    "collapsed": false,
    "deletable": true,
    "editable": true
   },
   "outputs": [
    {
     "name": "stdout",
     "output_type": "stream",
     "text": [
      "Activating auto-logging. Current session state plus future input saved.\n",
      "Filename       : ipython_log.py\n",
      "Mode           : rotate\n",
      "Output logging : False\n",
      "Raw input log  : False\n",
      "Timestamping   : False\n",
      "State          : active\n"
     ]
    }
   ],
   "source": [
    "%logstart"
   ]
  },
  {
   "cell_type": "code",
   "execution_count": 49,
   "metadata": {
    "collapsed": false,
    "deletable": true,
    "editable": true
   },
   "outputs": [
    {
     "name": "stdout",
     "output_type": "stream",
     "text": [
      "# IPython log file\r\n",
      "\r\n",
      "from numpy.random import randn\r\n",
      "\r\n",
      "a = {\"b\": \"c\", \"d\": randn(), \"c\": {\"a\": \"hehe\", \"e\": {\"f\": {i : randn() for i in range(4)}}}}\r\n",
      "\r\n",
      "a\r\n",
      "from pprint import pprint\r\n",
      "\r\n",
      "pprint(a, depth=2)\r\n"
     ]
    }
   ],
   "source": [
    "!head ipython_log.py"
   ]
  },
  {
   "cell_type": "code",
   "execution_count": 50,
   "metadata": {
    "collapsed": true,
    "deletable": true,
    "editable": true
   },
   "outputs": [],
   "source": [
    "%logstop"
   ]
  },
  {
   "cell_type": "markdown",
   "metadata": {
    "deletable": true,
    "editable": true
   },
   "source": [
    "## Execução de comandos do sistema operacional"
   ]
  },
  {
   "cell_type": "code",
   "execution_count": 51,
   "metadata": {
    "collapsed": false,
    "deletable": true,
    "editable": true
   },
   "outputs": [
    {
     "name": "stdout",
     "output_type": "stream",
     "text": [
      "2.1 - Jupyter.ipynb  ipython_log.py\t  script1.py\r\n",
      "2.2 - Spyder.ipynb   ipython_log.py.001~  script2.py\r\n"
     ]
    }
   ],
   "source": [
    "!ls"
   ]
  },
  {
   "cell_type": "code",
   "execution_count": 52,
   "metadata": {
    "collapsed": false,
    "deletable": true,
    "editable": true
   },
   "outputs": [
    {
     "data": {
      "text/plain": [
       "['2.1 - Jupyter.ipynb',\n",
       " '2.2 - Spyder.ipynb',\n",
       " 'ipython_log.py',\n",
       " 'ipython_log.py.001~',\n",
       " 'script1.py',\n",
       " 'script2.py']"
      ]
     },
     "execution_count": 52,
     "metadata": {},
     "output_type": "execute_result"
    }
   ],
   "source": [
    "arquivos = !ls\n",
    "\n",
    "arquivos"
   ]
  },
  {
   "cell_type": "code",
   "execution_count": 53,
   "metadata": {
    "collapsed": false,
    "deletable": true,
    "editable": true
   },
   "outputs": [
    {
     "data": {
      "text/plain": [
       "'/home/abevieiramota/Documents/github-repos/course-python-data-analysis/02 - Ferramentas'"
      ]
     },
     "execution_count": 53,
     "metadata": {},
     "output_type": "execute_result"
    }
   ],
   "source": [
    "%pwd"
   ]
  },
  {
   "cell_type": "code",
   "execution_count": 54,
   "metadata": {
    "collapsed": false,
    "deletable": true,
    "editable": true
   },
   "outputs": [
    {
     "name": "stdout",
     "output_type": "stream",
     "text": [
      "0.1 - FCPC - Básico.ipynb  0.1 - FCPC - Intermediário.ipynb\r\n"
     ]
    }
   ],
   "source": [
    "folder = \"../00\\ -\\ Exemplos/\"\n",
    "\n",
    "!ls $folder"
   ]
  },
  {
   "cell_type": "markdown",
   "metadata": {
    "deletable": true,
    "editable": true
   },
   "source": [
    "# Jupyter QtConsole\n",
    "\n",
    "Aplicação em Qt do Jupyter. Igual a um console Python/IPython, mas adicionado de features do Jupyter, como visualização inline e os magic commands.\n",
    "\n",
    "**comando**:\n",
    "\n",
    "jupyter qtconsole"
   ]
  }
 ],
 "metadata": {
  "kernelspec": {
   "display_name": "Python 3",
   "language": "python",
   "name": "python3"
  },
  "language_info": {
   "codemirror_mode": {
    "name": "ipython",
    "version": 3
   },
   "file_extension": ".py",
   "mimetype": "text/x-python",
   "name": "python",
   "nbconvert_exporter": "python",
   "pygments_lexer": "ipython3",
   "version": "3.6.1"
  }
 },
 "nbformat": 4,
 "nbformat_minor": 2
}
