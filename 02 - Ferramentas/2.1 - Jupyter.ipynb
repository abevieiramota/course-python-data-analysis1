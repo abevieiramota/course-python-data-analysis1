{
 "cells": [
  {
   "cell_type": "markdown",
   "metadata": {},
   "source": [
    "# Anaconda\n",
    "\n",
    "https://docs.continuum.io/anaconda/\n",
    "\n",
    "Distribuição de pacotes Python voltada para as ciências de dados. \n",
    "\n",
    "Possui ferramenta para gerenciar os pacotes(instalar, atualizar, remover, resolver dependências), versões do Python e criação de ambientes virtuais. \n",
    "\n",
    "Já vem com um conjunto de pacotes instalados, dentre eles o Jupyter, numpy, pandas e spyder.\n",
    "\n",
    "Lista de pacotes disponíveis: https://docs.continuum.io/anaconda/pkg-docs.html"
   ]
  },
  {
   "cell_type": "markdown",
   "metadata": {},
   "source": [
    "## Comandos para gerenciamento de pacotes\n",
    "\n",
    "* conda list \n",
    "* conda search pandas\n",
    "* conda update numpy\n",
    "* conda remove scikit-learn\n",
    "* conda update --all"
   ]
  },
  {
   "cell_type": "markdown",
   "metadata": {},
   "source": [
    "# Jupyter\n",
    "\n",
    "http://jupyter.org/\n",
    "\n",
    "Ambiente de desenvolvimento composto por ferramentas como Jupyter Notebook e Jupyter QtConsole que inclui ferramentas como autocomplete, code highlight, visualização inline etc."
   ]
  },
  {
   "cell_type": "markdown",
   "metadata": {},
   "source": [
    "# Jupyter Notebook\n",
    "\n",
    "Aplicação web que permite desenvolver documentos(notebooks) que mesclam código, texto formatado, Latex, visualizações, HTML etc.\n",
    "\n",
    "**comando**:\n",
    "\n",
    "jupyter notebook\n",
    "\n",
    "**Shortcuts**:\n",
    "\n",
    "* **crtl+enter** -> executa a célula e mantém a célula atual selecionada\n",
    "* **shift+enter** -> executa a célula e seleciona a próxima célula\n",
    "* **esc** -> vai para o modo de comando\n",
    "* **setas** para mover entre as células\n",
    "* no modo de comando:\n",
    "   * **a** -> abre uma célula acima da célula selecionada\n",
    "   * **b** -> abre uma célula abaixo da célula selecionada\n",
    "   * **m** -> altera o tipo da célula atual para markdown\n",
    "   * **y** -> altera o tipo da célula atual para código\n",
    "   * **dd** ou **x** -> exclui a célula atual -> pode ser desfeito com Edit > Undo Delete Cells\n",
    "   * **space/shift+space** -> move o notebook\n",
    "   \n",
    "**Menu**\n",
    "\n",
    "* Cell > Run All\n",
    "* Cell > Current Output/All Outputs > Clear"
   ]
  },
  {
   "cell_type": "markdown",
   "metadata": {},
   "source": [
    "## Output representação string do objeto"
   ]
  },
  {
   "cell_type": "code",
   "execution_count": 1,
   "metadata": {},
   "outputs": [
    {
     "data": {
      "text/plain": [
       "{'b': 'c',\n",
       " 'c': {'a': 'hehe',\n",
       "  'e': {'f': {0: 1.077773101167361,\n",
       "    1: -2.0875945011123274,\n",
       "    2: 0.846050090897087,\n",
       "    3: 2.0420880386481093}}},\n",
       " 'd': 2.59630819225166}"
      ]
     },
     "execution_count": 1,
     "metadata": {},
     "output_type": "execute_result"
    }
   ],
   "source": [
    "from numpy.random import randn\n",
    "\n",
    "a = {\"b\": \"c\", \"d\": randn(), \"c\": {\"a\": \"hehe\", \"e\": {\"f\": {i : randn() for i in range(4)}}}}\n",
    "\n",
    "a"
   ]
  },
  {
   "cell_type": "code",
   "execution_count": 2,
   "metadata": {},
   "outputs": [
    {
     "name": "stdout",
     "output_type": "stream",
     "text": [
      "{'b': 'c', 'c': {'a': 'hehe', 'e': {...}}, 'd': 2.59630819225166}\n"
     ]
    }
   ],
   "source": [
    "from pprint import pprint\n",
    "\n",
    "pprint(a, depth=2)"
   ]
  },
  {
   "cell_type": "markdown",
   "metadata": {},
   "source": [
    "## Tab completion"
   ]
  },
  {
   "cell_type": "code",
   "execution_count": 3,
   "metadata": {
    "collapsed": true
   },
   "outputs": [],
   "source": [
    "minha_variavel = 26\n",
    "minha_variable = 27"
   ]
  },
  {
   "cell_type": "code",
   "execution_count": null,
   "metadata": {},
   "outputs": [],
   "source": [
    "minha # tab"
   ]
  },
  {
   "cell_type": "code",
   "execution_count": 5,
   "metadata": {
    "collapsed": true
   },
   "outputs": [],
   "source": [
    "# autocomplete com objeto\n",
    "lista = [1, 2, 3]"
   ]
  },
  {
   "cell_type": "code",
   "execution_count": 20,
   "metadata": {},
   "outputs": [
    {
     "data": {
      "text/plain": [
       "[1, 2, 3]"
      ]
     },
     "execution_count": 20,
     "metadata": {},
     "output_type": "execute_result"
    }
   ],
   "source": [
    "lista. # tab"
   ]
  },
  {
   "cell_type": "code",
   "execution_count": null,
   "metadata": {},
   "outputs": [],
   "source": [
    "# autocomplete com módulos\n",
    "\n",
    "import datetime\n",
    "\n",
    "datetime. # tab\n",
    "datetime._ # por default atributos e métodos inicializados por underscore não são apresentados"
   ]
  },
  {
   "cell_type": "code",
   "execution_count": null,
   "metadata": {
    "collapsed": true
   },
   "outputs": [],
   "source": [
    "# autocomplete com paths do filesystem\n",
    "\n",
    "../../data # tab"
   ]
  },
  {
   "cell_type": "markdown",
   "metadata": {},
   "source": [
    "## Introspection"
   ]
  },
  {
   "cell_type": "code",
   "execution_count": 9,
   "metadata": {},
   "outputs": [],
   "source": [
    "?lista # informações gerais sobre o objeto"
   ]
  },
  {
   "cell_type": "code",
   "execution_count": 9,
   "metadata": {
    "collapsed": true
   },
   "outputs": [],
   "source": [
    "def soma(a, b):\n",
    "    \n",
    "    return a + b"
   ]
  },
  {
   "cell_type": "code",
   "execution_count": 16,
   "metadata": {},
   "outputs": [],
   "source": [
    "??soma # se disponível, apresenta o código"
   ]
  },
  {
   "cell_type": "markdown",
   "metadata": {},
   "source": [
    "## Pesquisa em métodos e atributos de um objeto/módulo"
   ]
  },
  {
   "cell_type": "code",
   "execution_count": 12,
   "metadata": {},
   "outputs": [],
   "source": [
    "import numpy as np\n",
    "\n",
    "?np.*load* # * wildcard"
   ]
  },
  {
   "cell_type": "code",
   "execution_count": 13,
   "metadata": {
    "collapsed": true
   },
   "outputs": [],
   "source": [
    "?np.lo*"
   ]
  },
  {
   "cell_type": "markdown",
   "metadata": {},
   "source": [
    "## Executando script"
   ]
  },
  {
   "cell_type": "code",
   "execution_count": 17,
   "metadata": {},
   "outputs": [
    {
     "name": "stdout",
     "output_type": "stream",
     "text": [
      "\r\n",
      "print(\"Fala galera da STI!\")"
     ]
    }
   ],
   "source": [
    "!cat script1.py"
   ]
  },
  {
   "cell_type": "code",
   "execution_count": 18,
   "metadata": {},
   "outputs": [
    {
     "name": "stdout",
     "output_type": "stream",
     "text": [
      "Fala galera da STI!\n"
     ]
    }
   ],
   "source": [
    "%run script1.py # executado sem acesso às variáveis e imports dessa sessão"
   ]
  },
  {
   "cell_type": "code",
   "execution_count": 19,
   "metadata": {},
   "outputs": [
    {
     "name": "stdout",
     "output_type": "stream",
     "text": [
      "\r\n",
      "print(nome)"
     ]
    }
   ],
   "source": [
    "!cat script2.py"
   ]
  },
  {
   "cell_type": "code",
   "execution_count": 20,
   "metadata": {},
   "outputs": [
    {
     "name": "stdout",
     "output_type": "stream",
     "text": [
      "joão\n"
     ]
    }
   ],
   "source": [
    "nome = \"joão\"\n",
    "\n",
    "%run -i script2.py # executado com acesso às variáveis e imports dessa sessão"
   ]
  },
  {
   "cell_type": "markdown",
   "metadata": {},
   "source": [
    "## Interrompendo a execução de uma célula"
   ]
  },
  {
   "cell_type": "code",
   "execution_count": 21,
   "metadata": {},
   "outputs": [],
   "source": [
    "import time\n",
    "\n",
    "def demora_muito():\n",
    "    \n",
    "    for _ in range(100):\n",
    "        \n",
    "        time.sleep(5)"
   ]
  },
  {
   "cell_type": "code",
   "execution_count": 22,
   "metadata": {},
   "outputs": [
    {
     "ename": "KeyboardInterrupt",
     "evalue": "",
     "output_type": "error",
     "traceback": [
      "\u001b[0;31m---------------------------------------------------------------------------\u001b[0m",
      "\u001b[0;31mKeyboardInterrupt\u001b[0m                         Traceback (most recent call last)",
      "\u001b[0;32m/home/abevieiramota/Documents/github-repos/course-python-data-analysis/02 - Ferramentas/script2.py\u001b[0m in \u001b[0;36m<module>\u001b[0;34m()\u001b[0m\n\u001b[0;32m----> 1\u001b[0;31m \u001b[0mdemora_muito\u001b[0m\u001b[0;34m(\u001b[0m\u001b[0;34m)\u001b[0m\u001b[0;34m\u001b[0m\u001b[0m\n\u001b[0m",
      "\u001b[0;32m/home/abevieiramota/Documents/github-repos/course-python-data-analysis/02 - Ferramentas/script2.py\u001b[0m in \u001b[0;36mdemora_muito\u001b[0;34m()\u001b[0m\n\u001b[1;32m      5\u001b[0m     \u001b[0;32mfor\u001b[0m \u001b[0m_\u001b[0m \u001b[0;32min\u001b[0m \u001b[0mrange\u001b[0m\u001b[0;34m(\u001b[0m\u001b[0;36m100\u001b[0m\u001b[0;34m)\u001b[0m\u001b[0;34m:\u001b[0m\u001b[0;34m\u001b[0m\u001b[0m\n\u001b[1;32m      6\u001b[0m \u001b[0;34m\u001b[0m\u001b[0m\n\u001b[0;32m----> 7\u001b[0;31m         \u001b[0mtime\u001b[0m\u001b[0;34m.\u001b[0m\u001b[0msleep\u001b[0m\u001b[0;34m(\u001b[0m\u001b[0;36m5\u001b[0m\u001b[0;34m)\u001b[0m\u001b[0;34m\u001b[0m\u001b[0m\n\u001b[0m",
      "\u001b[0;31mKeyboardInterrupt\u001b[0m: "
     ]
    }
   ],
   "source": [
    "demora_muito() # botão interrupt kernel"
   ]
  },
  {
   "cell_type": "markdown",
   "metadata": {},
   "source": [
    "## Magic commands"
   ]
  },
  {
   "cell_type": "markdown",
   "metadata": {},
   "source": [
    "* obs: os magic commands podem ser utilizados sem % - se não houver ambiguidade"
   ]
  },
  {
   "cell_type": "code",
   "execution_count": 23,
   "metadata": {
    "collapsed": true
   },
   "outputs": [],
   "source": [
    "%quickref"
   ]
  },
  {
   "cell_type": "code",
   "execution_count": 31,
   "metadata": {
    "collapsed": true
   },
   "outputs": [],
   "source": [
    "import numpy as np"
   ]
  },
  {
   "cell_type": "code",
   "execution_count": 32,
   "metadata": {},
   "outputs": [
    {
     "name": "stdout",
     "output_type": "stream",
     "text": [
      "CPU times: user 0 ns, sys: 0 ns, total: 0 ns\n",
      "Wall time: 468 µs\n"
     ]
    },
    {
     "data": {
      "text/plain": [
       "array([[  0.19151301,  -0.1621619 ],\n",
       "       [  1.35385381,  14.83938824]])"
      ]
     },
     "execution_count": 32,
     "metadata": {},
     "output_type": "execute_result"
    }
   ],
   "source": [
    "%%time\n",
    "\n",
    "np.dot(np.random.randn(2, 30), np.random.randn(30, 2))\n",
    "# CPU time > tempo de execução em CPU\n",
    "# Wall time > tempo passado desde o envio do comando até a resposta"
   ]
  },
  {
   "cell_type": "code",
   "execution_count": 34,
   "metadata": {},
   "outputs": [
    {
     "name": "stdout",
     "output_type": "stream",
     "text": [
      "1000 loops, best of 3: 903 µs per loop\n"
     ]
    }
   ],
   "source": [
    "%%timeit\n",
    "\n",
    "np.dot(np.random.randn(100, 100), np.random.randn(100, 100))"
   ]
  },
  {
   "cell_type": "code",
   "execution_count": 6,
   "metadata": {
    "collapsed": true
   },
   "outputs": [],
   "source": [
    "%reset -f"
   ]
  },
  {
   "cell_type": "code",
   "execution_count": 15,
   "metadata": {},
   "outputs": [
    {
     "name": "stdout",
     "output_type": "stream",
     "text": [
      "from numpy.random import randn\n",
      "\n",
      "a = {\"b\": \"c\", \"d\": randn(), \"c\": {\"a\": \"hehe\", \"e\": {\"f\": {i : randn() for i in range(4)}}}}\n",
      "\n",
      "a\n",
      "from pprint import pprint\n",
      "\n",
      "pprint(a, depth=2)\n",
      "%who\n",
      "%reset -f\n",
      "%who\n",
      "%reset -f\n",
      "%who\n",
      "%hist # histórico de código/comandos executado\n",
      "def soma(a, b):\n",
      "    \n",
      "    return a + b\n",
      "%hist # histórico de código/comandos executado\n",
      "%hist? # histórico de código/comandos executado\n",
      "%hist?\n",
      "%history\n",
      "%hist\n",
      "%hist\n"
     ]
    }
   ],
   "source": [
    "%hist"
   ]
  },
  {
   "cell_type": "code",
   "execution_count": 7,
   "metadata": {},
   "outputs": [
    {
     "name": "stdout",
     "output_type": "stream",
     "text": [
      "Interactive namespace is empty.\n"
     ]
    }
   ],
   "source": [
    "%who"
   ]
  },
  {
   "cell_type": "markdown",
   "metadata": {},
   "source": [
    "## Histórico de output"
   ]
  },
  {
   "cell_type": "code",
   "execution_count": 16,
   "metadata": {},
   "outputs": [
    {
     "data": {
      "text/plain": [
       "33"
      ]
     },
     "execution_count": 16,
     "metadata": {},
     "output_type": "execute_result"
    }
   ],
   "source": [
    "10 + 23"
   ]
  },
  {
   "cell_type": "code",
   "execution_count": 17,
   "metadata": {},
   "outputs": [
    {
     "data": {
      "text/plain": [
       "33"
      ]
     },
     "execution_count": 17,
     "metadata": {},
     "output_type": "execute_result"
    }
   ],
   "source": [
    "_ # último output"
   ]
  },
  {
   "cell_type": "code",
   "execution_count": 18,
   "metadata": {},
   "outputs": [
    {
     "ename": "NameError",
     "evalue": "name '_3' is not defined",
     "output_type": "error",
     "traceback": [
      "\u001b[0;31m---------------------------------------------------------------------------\u001b[0m",
      "\u001b[0;31mNameError\u001b[0m                                 Traceback (most recent call last)",
      "\u001b[0;32m<ipython-input-18-38bccd0ff9cb>\u001b[0m in \u001b[0;36m<module>\u001b[0;34m()\u001b[0m\n\u001b[0;32m----> 1\u001b[0;31m \u001b[0m_3\u001b[0m\u001b[0;34m\u001b[0m\u001b[0m\n\u001b[0m",
      "\u001b[0;31mNameError\u001b[0m: name '_3' is not defined"
     ]
    }
   ],
   "source": [
    "_3"
   ]
  },
  {
   "cell_type": "code",
   "execution_count": 19,
   "metadata": {},
   "outputs": [
    {
     "data": {
      "text/plain": [
       "43"
      ]
     },
     "execution_count": 19,
     "metadata": {},
     "output_type": "execute_result"
    }
   ],
   "source": [
    "a = 10 + 33\n",
    "\n",
    "a"
   ]
  },
  {
   "cell_type": "code",
   "execution_count": 20,
   "metadata": {},
   "outputs": [
    {
     "data": {
      "text/plain": [
       "'a = 10 + 33\\n\\na'"
      ]
     },
     "execution_count": 20,
     "metadata": {},
     "output_type": "execute_result"
    }
   ],
   "source": [
    "_i # último input"
   ]
  },
  {
   "cell_type": "code",
   "execution_count": 21,
   "metadata": {},
   "outputs": [
    {
     "ename": "NameError",
     "evalue": "name '_i1' is not defined",
     "output_type": "error",
     "traceback": [
      "\u001b[0;31m---------------------------------------------------------------------------\u001b[0m",
      "\u001b[0;31mNameError\u001b[0m                                 Traceback (most recent call last)",
      "\u001b[0;32m<ipython-input-21-62031dcaf61a>\u001b[0m in \u001b[0;36m<module>\u001b[0;34m()\u001b[0m\n\u001b[0;32m----> 1\u001b[0;31m \u001b[0m_i1\u001b[0m \u001b[0;31m# primeiro input\u001b[0m\u001b[0;34m\u001b[0m\u001b[0m\n\u001b[0m",
      "\u001b[0;31mNameError\u001b[0m: name '_i1' is not defined"
     ]
    }
   ],
   "source": [
    "_i1 # primeiro input"
   ]
  },
  {
   "cell_type": "code",
   "execution_count": 22,
   "metadata": {},
   "outputs": [
    {
     "ename": "NameError",
     "evalue": "name '_i1' is not defined",
     "output_type": "error",
     "traceback": [
      "\u001b[0;31m---------------------------------------------------------------------------\u001b[0m",
      "\u001b[0;31mNameError\u001b[0m                                 Traceback (most recent call last)",
      "\u001b[0;32m<ipython-input-22-f997217f0a64>\u001b[0m in \u001b[0;36m<module>\u001b[0;34m()\u001b[0m\n\u001b[0;32m----> 1\u001b[0;31m \u001b[0mexec\u001b[0m\u001b[0;34m(\u001b[0m\u001b[0m_i1\u001b[0m\u001b[0;34m)\u001b[0m \u001b[0;31m# reexecuta o primeiro input\u001b[0m\u001b[0;34m\u001b[0m\u001b[0m\n\u001b[0m",
      "\u001b[0;31mNameError\u001b[0m: name '_i1' is not defined"
     ]
    }
   ],
   "source": [
    "exec(_i1) # reexecuta o primeiro input"
   ]
  },
  {
   "cell_type": "markdown",
   "metadata": {},
   "source": [
    "## Log"
   ]
  },
  {
   "cell_type": "code",
   "execution_count": 23,
   "metadata": {},
   "outputs": [
    {
     "name": "stdout",
     "output_type": "stream",
     "text": [
      "Activating auto-logging. Current session state plus future input saved.\n",
      "Filename       : ipython_log.py\n",
      "Mode           : rotate\n",
      "Output logging : False\n",
      "Raw input log  : False\n",
      "Timestamping   : False\n",
      "State          : active\n"
     ]
    }
   ],
   "source": [
    "%logstart"
   ]
  },
  {
   "cell_type": "code",
   "execution_count": 24,
   "metadata": {},
   "outputs": [
    {
     "name": "stdout",
     "output_type": "stream",
     "text": [
      "# IPython log file\r\n",
      "\r\n",
      "from numpy.random import randn\r\n",
      "\r\n",
      "a = {\"b\": \"c\", \"d\": randn(), \"c\": {\"a\": \"hehe\", \"e\": {\"f\": {i : randn() for i in range(4)}}}}\r\n",
      "\r\n",
      "a\r\n",
      "from pprint import pprint\r\n",
      "\r\n",
      "pprint(a, depth=2)\r\n"
     ]
    }
   ],
   "source": [
    "!head ipython_log.py"
   ]
  },
  {
   "cell_type": "code",
   "execution_count": 25,
   "metadata": {},
   "outputs": [],
   "source": [
    "%logstop"
   ]
  },
  {
   "cell_type": "markdown",
   "metadata": {},
   "source": [
    "## Execução de comandos do sistema operacional"
   ]
  },
  {
   "cell_type": "code",
   "execution_count": 26,
   "metadata": {},
   "outputs": [
    {
     "name": "stdout",
     "output_type": "stream",
     "text": [
      "02 - Jupyter.ipynb  ipython_log.py  script1.py\tscript2.py\r\n"
     ]
    }
   ],
   "source": [
    "!ls"
   ]
  },
  {
   "cell_type": "code",
   "execution_count": 29,
   "metadata": {},
   "outputs": [
    {
     "data": {
      "text/plain": [
       "['02 - Jupyter.ipynb', 'ipython_log.py', 'script1.py', 'script2.py']"
      ]
     },
     "execution_count": 29,
     "metadata": {},
     "output_type": "execute_result"
    }
   ],
   "source": [
    "arquivos = !ls\n",
    "\n",
    "arquivos"
   ]
  },
  {
   "cell_type": "code",
   "execution_count": 30,
   "metadata": {},
   "outputs": [
    {
     "data": {
      "text/plain": [
       "'/home/abevieiramota/Documents/github-repos/course-python-data-analysis/02 - Ferramentas'"
      ]
     },
     "execution_count": 30,
     "metadata": {},
     "output_type": "execute_result"
    }
   ],
   "source": [
    "%pwd"
   ]
  },
  {
   "cell_type": "code",
   "execution_count": 35,
   "metadata": {},
   "outputs": [
    {
     "name": "stdout",
     "output_type": "stream",
     "text": [
      "0.1 - FCPC - Básico.ipynb\t       0.3 - Exemplo - Bolsas CNPq.ipynb\r\n",
      "0.1 - FCPC - Intermediário.ipynb       fcpc.py\r\n",
      "0.2 - Exemplo - Remuneracao UFC.ipynb\r\n"
     ]
    }
   ],
   "source": [
    "folder = \"../00\\ -\\ Exemplos/\"\n",
    "\n",
    "!ls $folder"
   ]
  },
  {
   "cell_type": "code",
   "execution_count": 13,
   "metadata": {},
   "outputs": [
    {
     "data": {
      "text/plain": [
       "<matplotlib.collections.PathCollection at 0x7f8a4e7b6358>"
      ]
     },
     "execution_count": 13,
     "metadata": {},
     "output_type": "execute_result"
    },
    {
     "data": {
      "image/png": "[encoded data removed]",
      "text/plain": [
       "<matplotlib.figure.Figure at 0x7f8a50043630>"
      ]
     },
     "metadata": {},
     "output_type": "display_data"
    }
   ],
   "source": [
    "from matplotlib import pyplot as plt\n",
    "import numpy as np\n",
    "%matplotlib inline\n",
    "\n",
    "plt.scatter(np.random.normal(size=100), np.random.normal(size=100))"
   ]
  },
  {
   "cell_type": "markdown",
   "metadata": {},
   "source": [
    "# Jupyter QtConsole\n",
    "\n",
    "Aplicação em Qt do Jupyter. Igual a um console Python/IPython, mas adicionado de features do Jupyter, como visualização inline e os magic commands.\n",
    "\n",
    "**comando**:\n",
    "\n",
    "jupyter qtconsole"
   ]
  }
 ],
 "metadata": {
  "kernelspec": {
   "display_name": "Python 3",
   "language": "python",
   "name": "python3"
  },
  "language_info": {
   "codemirror_mode": {
    "name": "ipython",
    "version": 3
   },
   "file_extension": ".py",
   "mimetype": "text/x-python",
   "name": "python",
   "nbconvert_exporter": "python",
   "pygments_lexer": "ipython3",
   "version": "3.6.1"
  }
 },
 "nbformat": 4,
 "nbformat_minor": 2
}
