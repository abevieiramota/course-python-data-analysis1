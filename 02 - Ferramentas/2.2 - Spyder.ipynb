{
 "cells": [
  {
   "cell_type": "markdown",
   "metadata": {},
   "source": [
    "# Spyder\n",
    "\n",
    "https://pythonhosted.org/spyder/\n",
    "\n",
    "IDE para desenvolvimento Python, voltada para o mundo científico.\n",
    "\n",
    "Possui ferramentas para:\n",
    "\n",
    "* Edição de scripts(autocomplete, code highlight, análise sintática)\n",
    "* Inspeção de variáveis\n",
    "* Console IPython\n",
    "* Debug\n",
    "* Visualização de documentação"
   ]
  }
 ],
 "metadata": {
  "kernelspec": {
   "display_name": "Python 3",
   "language": "python",
   "name": "python3"
  },
  "language_info": {
   "codemirror_mode": {
    "name": "ipython",
    "version": 3
   },
   "file_extension": ".py",
   "mimetype": "text/x-python",
   "name": "python",
   "nbconvert_exporter": "python",
   "pygments_lexer": "ipython3",
   "version": "3.6.0"
  }
 },
 "nbformat": 4,
 "nbformat_minor": 2
}
