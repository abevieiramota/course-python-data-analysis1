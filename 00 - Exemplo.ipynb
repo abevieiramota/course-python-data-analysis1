{
 "cells": [
  {
   "cell_type": "code",
   "execution_count": 60,
   "metadata": {
    "collapsed": false
   },
   "outputs": [],
   "source": [
    "# importa a biblioteca pandas\n",
    "import pandas as pd\n",
    "# importa a biblioteca numpy\n",
    "import numpy as np\n",
    "# importa o módulo pyplot, do matplotlib\n",
    "from matplotlib import pyplot as plt\n",
    "\n",
    "# configura o matplotlib para renderizar os plots no jupyter\n",
    "%matplotlib inline\n",
    "\n",
    "# configura a formatação de inteiros, adicionando um separador de milhares\n",
    "class _IntArrayFormatter(pd.formats.format.GenericArrayFormatter):\n",
    "\n",
    "    def _format_strings(self):\n",
    "        formatter = self.formatter or (lambda x: '{:,}'.format(x).replace(',', '.'))\n",
    "        fmt_values = [formatter(x) for x in self.values]\n",
    "        return fmt_values\n",
    "\n",
    "pd.formats.format.IntArrayFormatter = _IntArrayFormatter\n",
    "\n",
    "# função que formata float adicionando separador de milhares '.' e separador de decimal\n",
    "#   ','\n",
    "# para detalhes dos replaces, ver: \n",
    "# https://www.python.org/dev/peps/pep-0378/#main-proposal-from-nick-coghlan-originally-called-proposal-i\n",
    "def format_float(f):\n",
    "    \n",
    "    return \"{:,.2f}\".format(f).replace(\",\", \"X\").replace(\".\", \",\").replace(\"X\", \".\")\n",
    "\n",
    "# configura a formatação de decimais, adicionando um separador de milhares\n",
    "pd.set_option(\"display.float_format\", format_float)"
   ]
  },
  {
   "cell_type": "markdown",
   "metadata": {},
   "source": [
    "# Pagamentos a pessoas físicas da FCPC"
   ]
  },
  {
   "cell_type": "markdown",
   "metadata": {},
   "source": [
    "Base de dados de pagamentos a pessoas físicas da Fundação Cearense de Pesquisa e Cultura.\n",
    "\n",
    "O dataset a ser utilizado foi é a consolidação dos dados disponibilizados no [site da FCPC](http://www.fcpc.ufc.br/AcessoInformacao/PagamentoPessoaFisica), de 2010 a 19/02/2017.\n",
    "\n",
    "* **Colunas**\n",
    "  * **cpf**: CPF mascarado\n",
    "  * **nome**\n",
    "  * **tipo_pagamento**\n",
    "  * **projeto**\n",
    "  * **data**\n",
    "  * **valor**\n",
    "  * **filename**: nome do arquivo de origem do arquivo ([repositório com arquivos brutos](https://github.com/abevieiramota/analysis-ufc/tree/master/data/raw/fcpc/pagamento%20pessoa%20fisica))"
   ]
  },
  {
   "cell_type": "markdown",
   "metadata": {},
   "source": [
    "## Leitura"
   ]
  },
  {
   "cell_type": "code",
   "execution_count": 28,
   "metadata": {
    "collapsed": false
   },
   "outputs": [
    {
     "data": {
      "text/html": [
       "<div>\n",
       "<table border=\"1\" class=\"dataframe\">\n",
       "  <thead>\n",
       "    <tr style=\"text-align: right;\">\n",
       "      <th></th>\n",
       "      <th>cpf</th>\n",
       "      <th>nome</th>\n",
       "      <th>tipo_pagamento</th>\n",
       "      <th>projeto</th>\n",
       "      <th>data</th>\n",
       "      <th>valor</th>\n",
       "      <th>filename</th>\n",
       "    </tr>\n",
       "  </thead>\n",
       "  <tbody>\n",
       "    <tr>\n",
       "      <th>0</th>\n",
       "      <td>***.000.103-**</td>\n",
       "      <td>REGILDA RODRIGUES DE SOUSA</td>\n",
       "      <td>ADIANTAMENTO PARA VIAGENS</td>\n",
       "      <td>2213 - CT - UFC/FCPC - PROJETO PROJOVEM CAMPO</td>\n",
       "      <td>2010-11-22</td>\n",
       "      <td>240,00</td>\n",
       "      <td>2010.csv</td>\n",
       "    </tr>\n",
       "    <tr>\n",
       "      <th>1</th>\n",
       "      <td>***.000.103-**</td>\n",
       "      <td>REGILDA RODRIGUES DE SOUSA</td>\n",
       "      <td>ADIANTAMENTO PARA VIAGENS</td>\n",
       "      <td>2213 - CT - UFC/FCPC - PROJETO PROJOVEM CAMPO</td>\n",
       "      <td>2010-10-15</td>\n",
       "      <td>180,00</td>\n",
       "      <td>2010.csv</td>\n",
       "    </tr>\n",
       "  </tbody>\n",
       "</table>\n",
       "</div>"
      ],
      "text/plain": [
       "              cpf                        nome             tipo_pagamento  \\\n",
       "0  ***.000.103-**  REGILDA RODRIGUES DE SOUSA  ADIANTAMENTO PARA VIAGENS   \n",
       "1  ***.000.103-**  REGILDA RODRIGUES DE SOUSA  ADIANTAMENTO PARA VIAGENS   \n",
       "\n",
       "                                         projeto       data  valor  filename  \n",
       "0  2213 - CT - UFC/FCPC - PROJETO PROJOVEM CAMPO 2010-11-22 240,00  2010.csv  \n",
       "1  2213 - CT - UFC/FCPC - PROJETO PROJOVEM CAMPO 2010-10-15 180,00  2010.csv  "
      ]
     },
     "execution_count": 28,
     "metadata": {},
     "output_type": "execute_result"
    }
   ],
   "source": [
    "# leitura de arquivo .CSV\n",
    "#   parse_dates e date_parser especificam que a coluna data deve ser parseada como date, com o date_parser informado\n",
    "fcpc = pd.read_csv(\"data/pagamentos_fisica_fcpc.csv\", parse_dates=['data'],\n",
    "                   date_parser=lambda d: pd.datetime.strptime(d, \"%Y-%m-%d\"))\n",
    "\n",
    "# retorna os 3 primeiros registros\n",
    "fcpc.head(2)"
   ]
  },
  {
   "cell_type": "code",
   "execution_count": 29,
   "metadata": {
    "collapsed": false
   },
   "outputs": [
    {
     "name": "stdout",
     "output_type": "stream",
     "text": [
      "Há 126680 registros\n"
     ]
    }
   ],
   "source": [
    "# quantidade de registros\n",
    "print(\"Há {} registros\".format(len(fcpc)))"
   ]
  },
  {
   "cell_type": "markdown",
   "metadata": {},
   "source": [
    "## Informações gerais sobre as colunas"
   ]
  },
  {
   "cell_type": "code",
   "execution_count": 30,
   "metadata": {
    "collapsed": false
   },
   "outputs": [
    {
     "data": {
      "text/html": [
       "<div>\n",
       "<table border=\"1\" class=\"dataframe\">\n",
       "  <thead>\n",
       "    <tr style=\"text-align: right;\">\n",
       "      <th></th>\n",
       "      <th>count</th>\n",
       "      <th>mean</th>\n",
       "      <th>std</th>\n",
       "      <th>min</th>\n",
       "      <th>25%</th>\n",
       "      <th>50%</th>\n",
       "      <th>75%</th>\n",
       "      <th>max</th>\n",
       "    </tr>\n",
       "  </thead>\n",
       "  <tbody>\n",
       "    <tr>\n",
       "      <th>valor</th>\n",
       "      <td>126.680,00</td>\n",
       "      <td>1.660,48</td>\n",
       "      <td>3.492,49</td>\n",
       "      <td>0,00</td>\n",
       "      <td>177,00</td>\n",
       "      <td>400,00</td>\n",
       "      <td>2.143,22</td>\n",
       "      <td>328.428,65</td>\n",
       "    </tr>\n",
       "  </tbody>\n",
       "</table>\n",
       "</div>"
      ],
      "text/plain": [
       "           count     mean      std  min    25%    50%      75%        max\n",
       "valor 126.680,00 1.660,48 3.492,49 0,00 177,00 400,00 2.143,22 328.428,65"
      ]
     },
     "execution_count": 30,
     "metadata": {},
     "output_type": "execute_result"
    }
   ],
   "source": [
    "# informações estatísticas sobre os campos numéricos\n",
    "fcpc.describe().T"
   ]
  },
  {
   "cell_type": "code",
   "execution_count": 31,
   "metadata": {
    "collapsed": false
   },
   "outputs": [
    {
     "data": {
      "text/html": [
       "<div>\n",
       "<table border=\"1\" class=\"dataframe\">\n",
       "  <thead>\n",
       "    <tr style=\"text-align: right;\">\n",
       "      <th></th>\n",
       "      <th>cpf</th>\n",
       "      <th>nome</th>\n",
       "      <th>tipo_pagamento</th>\n",
       "      <th>projeto</th>\n",
       "      <th>filename</th>\n",
       "    </tr>\n",
       "  </thead>\n",
       "  <tbody>\n",
       "    <tr>\n",
       "      <th>count</th>\n",
       "      <td>126680</td>\n",
       "      <td>126680</td>\n",
       "      <td>126680</td>\n",
       "      <td>126679</td>\n",
       "      <td>126680</td>\n",
       "    </tr>\n",
       "    <tr>\n",
       "      <th>unique</th>\n",
       "      <td>16215</td>\n",
       "      <td>17623</td>\n",
       "      <td>12</td>\n",
       "      <td>916</td>\n",
       "      <td>8</td>\n",
       "    </tr>\n",
       "    <tr>\n",
       "      <th>top</th>\n",
       "      <td>***.501.533-**</td>\n",
       "      <td>FRANCISCO RODRIGO PORTO CAVALCANTI</td>\n",
       "      <td>ADIANTAMENTO PARA VIAGENS</td>\n",
       "      <td>2924 - CT - UFC/FCPC - IMPLANTACAO E OFERTA DO...</td>\n",
       "      <td>2014.csv</td>\n",
       "    </tr>\n",
       "    <tr>\n",
       "      <th>freq</th>\n",
       "      <td>259</td>\n",
       "      <td>259</td>\n",
       "      <td>43521</td>\n",
       "      <td>13068</td>\n",
       "      <td>22143</td>\n",
       "    </tr>\n",
       "  </tbody>\n",
       "</table>\n",
       "</div>"
      ],
      "text/plain": [
       "                   cpf                                nome  \\\n",
       "count           126680                              126680   \n",
       "unique           16215                               17623   \n",
       "top     ***.501.533-**  FRANCISCO RODRIGO PORTO CAVALCANTI   \n",
       "freq               259                                 259   \n",
       "\n",
       "                   tipo_pagamento  \\\n",
       "count                      126680   \n",
       "unique                         12   \n",
       "top     ADIANTAMENTO PARA VIAGENS   \n",
       "freq                        43521   \n",
       "\n",
       "                                                  projeto  filename  \n",
       "count                                              126679    126680  \n",
       "unique                                                916         8  \n",
       "top     2924 - CT - UFC/FCPC - IMPLANTACAO E OFERTA DO...  2014.csv  \n",
       "freq                                                13068     22143  "
      ]
     },
     "execution_count": 31,
     "metadata": {},
     "output_type": "execute_result"
    }
   ],
   "source": [
    "# informações estatísticas sobre os campos não quantitativos\n",
    "fcpc.describe(include = ['O'])"
   ]
  },
  {
   "cell_type": "code",
   "execution_count": 32,
   "metadata": {
    "collapsed": false
   },
   "outputs": [
    {
     "data": {
      "text/html": [
       "<div>\n",
       "<table border=\"1\" class=\"dataframe\">\n",
       "  <thead>\n",
       "    <tr style=\"text-align: right;\">\n",
       "      <th></th>\n",
       "      <th>count</th>\n",
       "      <th>unique</th>\n",
       "      <th>top</th>\n",
       "      <th>freq</th>\n",
       "      <th>first</th>\n",
       "      <th>last</th>\n",
       "    </tr>\n",
       "  </thead>\n",
       "  <tbody>\n",
       "    <tr>\n",
       "      <th>data</th>\n",
       "      <td>126680</td>\n",
       "      <td>1774</td>\n",
       "      <td>2015-04-20 00:00:00</td>\n",
       "      <td>699</td>\n",
       "      <td>2010-01-04 00:00:00</td>\n",
       "      <td>2017-02-10 00:00:00</td>\n",
       "    </tr>\n",
       "  </tbody>\n",
       "</table>\n",
       "</div>"
      ],
      "text/plain": [
       "       count unique                  top freq                first  \\\n",
       "data  126680   1774  2015-04-20 00:00:00  699  2010-01-04 00:00:00   \n",
       "\n",
       "                     last  \n",
       "data  2017-02-10 00:00:00  "
      ]
     },
     "execution_count": 32,
     "metadata": {},
     "output_type": "execute_result"
    }
   ],
   "source": [
    "# informações estatísticas sobre os campos datetime\n",
    "fcpc.describe(include = ['datetime']).T"
   ]
  },
  {
   "cell_type": "markdown",
   "metadata": {},
   "source": [
    "## Informações sobre os dados"
   ]
  },
  {
   "cell_type": "markdown",
   "metadata": {},
   "source": [
    "#### tipos de pagamentos mais frequentes"
   ]
  },
  {
   "cell_type": "code",
   "execution_count": 42,
   "metadata": {
    "collapsed": false
   },
   "outputs": [
    {
     "data": {
      "text/plain": [
       "ADIANTAMENTO PARA VIAGENS   43.521\n",
       "SERVIÇO PRESTADO - RPA      33.432\n",
       "FOLHA DE PAGAMENTO - CLT    25.676\n",
       "Name: tipo_pagamento, dtype: int64"
      ]
     },
     "execution_count": 42,
     "metadata": {},
     "output_type": "execute_result"
    }
   ],
   "source": [
    "# conta quantas ocorrências há para cada valor único em tipo_pagamento,\n",
    "#   retornando os 3 valores com maior quantidade\n",
    "fcpc.tipo_pagamento.value_counts().nlargest(3)"
   ]
  },
  {
   "cell_type": "markdown",
   "metadata": {},
   "source": [
    "#### maiores pagamentos"
   ]
  },
  {
   "cell_type": "code",
   "execution_count": 45,
   "metadata": {
    "collapsed": false
   },
   "outputs": [
    {
     "data": {
      "text/html": [
       "<div>\n",
       "<table border=\"1\" class=\"dataframe\">\n",
       "  <thead>\n",
       "    <tr style=\"text-align: right;\">\n",
       "      <th></th>\n",
       "      <th>cpf</th>\n",
       "      <th>nome</th>\n",
       "      <th>tipo_pagamento</th>\n",
       "      <th>projeto</th>\n",
       "      <th>data</th>\n",
       "      <th>valor</th>\n",
       "      <th>filename</th>\n",
       "    </tr>\n",
       "  </thead>\n",
       "  <tbody>\n",
       "    <tr>\n",
       "      <th>122.957</th>\n",
       "      <td>***.839.713-**</td>\n",
       "      <td>FRANCISCO EDUARDO ARAUJO SOARES</td>\n",
       "      <td>SERVIÇO PRESTADO - RPA</td>\n",
       "      <td>3098 - CT - FCPC/IPLANFOR - PLANO ESTRATÉGICO ...</td>\n",
       "      <td>2016-12-19</td>\n",
       "      <td>328.428,65</td>\n",
       "      <td>2016.csv</td>\n",
       "    </tr>\n",
       "    <tr>\n",
       "      <th>118.657</th>\n",
       "      <td>***.468.963-**</td>\n",
       "      <td>FRANCISCO SULIANO MESQUITA DE PAULA</td>\n",
       "      <td>SERVIÇO PRESTADO - RPA</td>\n",
       "      <td>3098 - CT - FCPC/IPLANFOR - PLANO ESTRATÉGICO ...</td>\n",
       "      <td>2016-12-19</td>\n",
       "      <td>212.758,81</td>\n",
       "      <td>2016.csv</td>\n",
       "    </tr>\n",
       "    <tr>\n",
       "      <th>124.319</th>\n",
       "      <td>***.966.093-**</td>\n",
       "      <td>FAUSTO NILO COSTA JUNIOR</td>\n",
       "      <td>SERVIÇO PRESTADO - RPA</td>\n",
       "      <td>3098 - CT - FCPC/IPLANFOR - PLANO ESTRATÉGICO ...</td>\n",
       "      <td>2016-12-19</td>\n",
       "      <td>212.391,25</td>\n",
       "      <td>2016.csv</td>\n",
       "    </tr>\n",
       "  </tbody>\n",
       "</table>\n",
       "</div>"
      ],
      "text/plain": [
       "                    cpf                                 nome  \\\n",
       "122.957  ***.839.713-**      FRANCISCO EDUARDO ARAUJO SOARES   \n",
       "118.657  ***.468.963-**  FRANCISCO SULIANO MESQUITA DE PAULA   \n",
       "124.319  ***.966.093-**             FAUSTO NILO COSTA JUNIOR   \n",
       "\n",
       "                 tipo_pagamento  \\\n",
       "122.957  SERVIÇO PRESTADO - RPA   \n",
       "118.657  SERVIÇO PRESTADO - RPA   \n",
       "124.319  SERVIÇO PRESTADO - RPA   \n",
       "\n",
       "                                                   projeto       data  \\\n",
       "122.957  3098 - CT - FCPC/IPLANFOR - PLANO ESTRATÉGICO ... 2016-12-19   \n",
       "118.657  3098 - CT - FCPC/IPLANFOR - PLANO ESTRATÉGICO ... 2016-12-19   \n",
       "124.319  3098 - CT - FCPC/IPLANFOR - PLANO ESTRATÉGICO ... 2016-12-19   \n",
       "\n",
       "             valor  filename  \n",
       "122.957 328.428,65  2016.csv  \n",
       "118.657 212.758,81  2016.csv  \n",
       "124.319 212.391,25  2016.csv  "
      ]
     },
     "execution_count": 45,
     "metadata": {},
     "output_type": "execute_result"
    }
   ],
   "source": [
    "# seleciona os 3 registros com maiores valores para a coluna valor\n",
    "fcpc.nlargest(3, \"valor\")"
   ]
  },
  {
   "cell_type": "markdown",
   "metadata": {},
   "source": [
    "#### pessoas que receberam maior soma"
   ]
  },
  {
   "cell_type": "code",
   "execution_count": 44,
   "metadata": {
    "collapsed": false
   },
   "outputs": [
    {
     "data": {
      "text/plain": [
       "nome\n",
       "FRANCISCO EDUARDO ARAUJO SOARES   1.009.837,94\n",
       "LEONILDO ADAO CHRISTOFOLETTI        983.093,17\n",
       "JAVAM DE CASTRO MACHADO             802.283,12\n",
       "Name: valor, dtype: float64"
      ]
     },
     "execution_count": 44,
     "metadata": {},
     "output_type": "execute_result"
    }
   ],
   "source": [
    "# agrupa os registros por nome e retorna os 3 nomes com maior soma de valor\n",
    "fcpc.groupby('nome').valor.sum().nlargest(3)"
   ]
  },
  {
   "cell_type": "markdown",
   "metadata": {},
   "source": [
    "#### projetos que realizaram maior soma de despesas"
   ]
  },
  {
   "cell_type": "code",
   "execution_count": 46,
   "metadata": {
    "collapsed": false
   },
   "outputs": [
    {
     "data": {
      "text/plain": [
       "projeto\n",
       "0101 - FCPC                                                                           11.295.825,98\n",
       "3098 - CT - FCPC/IPLANFOR - PLANO ESTRATÉGICO FORTALEZA 2040                           7.373.401,34\n",
       "1089 - RESCISAO CONTRATUAL                                                             6.617.825,17\n",
       "2924 - CT - UFC/FCPC - IMPLANTACAO E OFERTA DOS CURSOS DE GRADUACAO DA UAB/UFC 2012    6.264.561,69\n",
       "2922 - CT - PETROBRAS - PROJETO AMBES                                                  5.753.658,23\n",
       "Name: valor, dtype: float64"
      ]
     },
     "execution_count": 46,
     "metadata": {},
     "output_type": "execute_result"
    }
   ],
   "source": [
    "# agrupa os registros por projeto e retorna os 5 projetos com mair soma de valor\n",
    "largest_projetos = fcpc.groupby('projeto').valor.sum().nlargest(5) # maior soma de pagamentos\n",
    "largest_projetos"
   ]
  },
  {
   "cell_type": "code",
   "execution_count": 50,
   "metadata": {
    "collapsed": false
   },
   "outputs": [
    {
     "data": {
      "text/plain": [
       "<matplotlib.axes._subplots.AxesSubplot at 0x2915bebff98>"
      ]
     },
     "execution_count": 50,
     "metadata": {},
     "output_type": "execute_result"
    },
    {
     "data": {
      "image/png": "[encoded data removed]",
      "text/plain": [
       "<matplotlib.figure.Figure at 0x2915be17be0>"
      ]
     },
     "metadata": {},
     "output_type": "display_data"
    }
   ],
   "source": [
    "# plot do tipo barra horizontal dos 5 projetos com maior soma de valor\n",
    "largest_projetos.plot(kind='barh')"
   ]
  },
  {
   "cell_type": "code",
   "execution_count": 58,
   "metadata": {
    "collapsed": false
   },
   "outputs": [
    {
     "data": {
      "text/plain": [
       "<matplotlib.legend.Legend at 0x2915f0d1f28>"
      ]
     },
     "execution_count": 58,
     "metadata": {},
     "output_type": "execute_result"
    },
    {
     "data": {
      "image/png": "[encoded data removed]",
      "text/plain": [
       "<matplotlib.figure.Figure at 0x2915ec7f080>"
      ]
     },
     "metadata": {},
     "output_type": "display_data"
    }
   ],
   "source": [
    "# para os registros dos 5 projetos com maior soma de valor\n",
    "#   agrupa por projeto e tipo_pagamento e calcula a soma de valor\n",
    "#   plot do tipo barra horizontal, stacked\n",
    "fcpc[fcpc.projeto.isin(largest_projetos.index)].groupby(['projeto', 'tipo_pagamento']).valor.sum().unstack()\\\n",
    ".plot(kind = 'barh', stacked = True, figsize = (10, 8), cmap=plt.cm.Vega20b) \n",
    "# cmap alterado porque o cmap default comporta apenas 10 cores\n",
    "\n",
    "# altera o posicionamento e formatação da legenda\n",
    "plt.legend(bbox_to_anchor = (-1., 1.02, 2., .102), ncol = 3, mode = \"expand\", loc = 3)"
   ]
  },
  {
   "cell_type": "code",
   "execution_count": 59,
   "metadata": {
    "collapsed": false
   },
   "outputs": [
    {
     "data": {
      "text/plain": [
       "<matplotlib.legend.Legend at 0x2915f173eb8>"
      ]
     },
     "execution_count": 59,
     "metadata": {},
     "output_type": "execute_result"
    },
    {
     "data": {
      "image/png": "[encoded data removed]",
      "text/plain": [
       "<matplotlib.figure.Figure at 0x2915f1819e8>"
      ]
     },
     "metadata": {},
     "output_type": "display_data"
    }
   ],
   "source": [
    "# mesmo plot anterior, a menos que apresenta os dados normalizados\n",
    "count_subset = fcpc[fcpc.projeto.isin(largest_projetos.index)].groupby(['projeto', 'tipo_pagamento']).valor.sum().unstack()\n",
    "normed_subset = count_subset.div(count_subset.sum(axis = 1), axis = 0)\n",
    "\n",
    "normed_subset.plot(kind = 'barh', stacked = True, figsize = (8, 8), cmap=plt.cm.Vega20b)\n",
    "\n",
    "plt.legend(bbox_to_anchor = (-1., 1.02, 2., .102), ncol = 3, mode = \"expand\", loc = 3)"
   ]
  },
  {
   "cell_type": "markdown",
   "metadata": {},
   "source": [
    "# Dataset de servidores lotados na UFC"
   ]
  },
  {
   "cell_type": "markdown",
   "metadata": {},
   "source": [
    "Dataset gerado a partir dos [dados de cadastro e de remuneração de servidores públicos federais](http://portaldatransparencia.gov.br/downloads/servidores.asp), de fevereiro de 2017.\n",
    "\n",
    "* **Colunas**\n",
    "  * **cargo**: DESCRICAO_CARGO em 201702_Cadastro.csv\n",
    "  * **funcao**: FUNCAO em 201702_Cadastro.csv\n",
    "  * **uorg_lotacao**: UORG_LOTACAO em 201702_Cadastro.csv\n",
    "  * **uorg_exercicio**: UORG_EXERCICIO em 201702_Cadastro.csv\n",
    "  * **jornada**: JORNADA_DE_TRABALHO em 201702_Cadastro.csv\n",
    "  * **remuneracao_basica_bruta**: REMUNERAÇÃO BÁSICA BRUTA (R\\$) em 201702_Remuneracao.csv\n",
    "  * **remuneracao_pos_deducao**: REMUNERAÇÃO APÓS DEDUÇÕES OBRIGATÓRIAS (R\\$) em 201702_Remuneracao.csv\n",
    "  * **nome**: NOME em 201702_Remuneracao.csv\n",
    "  \n",
    "  \n",
    "Consulta por servidor: http://portaldatransparencia.gov.br/servidores/Servidor-ListaServidores.asp"
   ]
  },
  {
   "cell_type": "markdown",
   "metadata": {},
   "source": [
    "## Leitura"
   ]
  },
  {
   "cell_type": "code",
   "execution_count": 73,
   "metadata": {
    "collapsed": false
   },
   "outputs": [
    {
     "data": {
      "text/html": [
       "<div>\n",
       "<table border=\"1\" class=\"dataframe\">\n",
       "  <thead>\n",
       "    <tr style=\"text-align: right;\">\n",
       "      <th></th>\n",
       "      <th>cargo</th>\n",
       "      <th>funcao</th>\n",
       "      <th>uorg_lotacao</th>\n",
       "      <th>uorg_exercicio</th>\n",
       "      <th>jornada</th>\n",
       "      <th>remuneracao_basica_bruta</th>\n",
       "      <th>remuneracao_pos_deducao</th>\n",
       "      <th>nome</th>\n",
       "    </tr>\n",
       "  </thead>\n",
       "  <tbody>\n",
       "    <tr>\n",
       "      <th>0</th>\n",
       "      <td>NaN</td>\n",
       "      <td>DIRECAO E ASSESSORAMENTO SUPERIOR</td>\n",
       "      <td>UNIDADE DE LOTACAO PROVISORIA</td>\n",
       "      <td>SERVICO DIV2 COORD1 CGGA SAA</td>\n",
       "      <td>40 HORAS SEMANAIS</td>\n",
       "      <td>13.687,90</td>\n",
       "      <td>9.871,72</td>\n",
       "      <td>LENA CAVALCANTE FALCAO 1000018</td>\n",
       "    </tr>\n",
       "    <tr>\n",
       "      <th>1</th>\n",
       "      <td>ECONOMISTA</td>\n",
       "      <td>NaN</td>\n",
       "      <td>UNIDADE DE LOTACAO PROVISORIA</td>\n",
       "      <td>SERVICO DIV2 COORD1 CGGA SAA</td>\n",
       "      <td>40 HORAS SEMANAIS</td>\n",
       "      <td>13.687,90</td>\n",
       "      <td>9.871,72</td>\n",
       "      <td>LENA CAVALCANTE FALCAO 1000018</td>\n",
       "    </tr>\n",
       "    <tr>\n",
       "      <th>2</th>\n",
       "      <td>ENFERMEIRO-AREA</td>\n",
       "      <td>NaN</td>\n",
       "      <td>HOSPITAL UNIVERSITARIO WALTER CANTIDIO</td>\n",
       "      <td>HOSPITAL UNIVERSITARIO WALTER CANTIDIO</td>\n",
       "      <td>40 HORAS SEMANAIS</td>\n",
       "      <td>6.245,42</td>\n",
       "      <td>4.944,50</td>\n",
       "      <td>GERMANA PERDIGAO AMARAL 1000070</td>\n",
       "    </tr>\n",
       "  </tbody>\n",
       "</table>\n",
       "</div>"
      ],
      "text/plain": [
       "             cargo                             funcao  \\\n",
       "0              NaN  DIRECAO E ASSESSORAMENTO SUPERIOR   \n",
       "1       ECONOMISTA                                NaN   \n",
       "2  ENFERMEIRO-AREA                                NaN   \n",
       "\n",
       "                             uorg_lotacao  \\\n",
       "0           UNIDADE DE LOTACAO PROVISORIA   \n",
       "1           UNIDADE DE LOTACAO PROVISORIA   \n",
       "2  HOSPITAL UNIVERSITARIO WALTER CANTIDIO   \n",
       "\n",
       "                           uorg_exercicio            jornada  \\\n",
       "0            SERVICO DIV2 COORD1 CGGA SAA  40 HORAS SEMANAIS   \n",
       "1            SERVICO DIV2 COORD1 CGGA SAA  40 HORAS SEMANAIS   \n",
       "2  HOSPITAL UNIVERSITARIO WALTER CANTIDIO  40 HORAS SEMANAIS   \n",
       "\n",
       "   remuneracao_basica_bruta  remuneracao_pos_deducao  \\\n",
       "0                 13.687,90                 9.871,72   \n",
       "1                 13.687,90                 9.871,72   \n",
       "2                  6.245,42                 4.944,50   \n",
       "\n",
       "                              nome  \n",
       "0   LENA CAVALCANTE FALCAO 1000018  \n",
       "1   LENA CAVALCANTE FALCAO 1000018  \n",
       "2  GERMANA PERDIGAO AMARAL 1000070  "
      ]
     },
     "execution_count": 73,
     "metadata": {},
     "output_type": "execute_result"
    }
   ],
   "source": [
    "# leitura de arquivo .CSV\n",
    "ufc = pd.read_csv(\"data/hehe.csv\", decimal=\",\")\n",
    "\n",
    "# retorna os 3 primeiros registros\n",
    "ufc.head(3)"
   ]
  },
  {
   "cell_type": "code",
   "execution_count": 74,
   "metadata": {
    "collapsed": false
   },
   "outputs": [
    {
     "name": "stdout",
     "output_type": "stream",
     "text": [
      "Há 7318 registros\n"
     ]
    }
   ],
   "source": [
    "# quantidade de registros\n",
    "print(\"Há {} registros\".format(len(ufc)))"
   ]
  },
  {
   "cell_type": "code",
   "execution_count": 76,
   "metadata": {
    "collapsed": false
   },
   "outputs": [
    {
     "data": {
      "text/html": [
       "<div>\n",
       "<table border=\"1\" class=\"dataframe\">\n",
       "  <thead>\n",
       "    <tr style=\"text-align: right;\">\n",
       "      <th></th>\n",
       "      <th>2310</th>\n",
       "    </tr>\n",
       "  </thead>\n",
       "  <tbody>\n",
       "    <tr>\n",
       "      <th>cargo</th>\n",
       "      <td>ANALISTA DE TEC DA INFORMACAO</td>\n",
       "    </tr>\n",
       "    <tr>\n",
       "      <th>funcao</th>\n",
       "      <td>NaN</td>\n",
       "    </tr>\n",
       "    <tr>\n",
       "      <th>uorg_lotacao</th>\n",
       "      <td>DIVISAO DE SISTEMAS DE INFORMACAO</td>\n",
       "    </tr>\n",
       "    <tr>\n",
       "      <th>uorg_exercicio</th>\n",
       "      <td>DIVISAO DE SISTEMAS DE INFORMACAO</td>\n",
       "    </tr>\n",
       "    <tr>\n",
       "      <th>jornada</th>\n",
       "      <td>40 HORAS SEMANAIS</td>\n",
       "    </tr>\n",
       "    <tr>\n",
       "      <th>remuneracao_basica_bruta</th>\n",
       "      <td>4.513,12</td>\n",
       "    </tr>\n",
       "    <tr>\n",
       "      <th>remuneracao_pos_deducao</th>\n",
       "      <td>3.749,06</td>\n",
       "    </tr>\n",
       "    <tr>\n",
       "      <th>nome</th>\n",
       "      <td>ABELARDO VIEIRA MOTA 1372953</td>\n",
       "    </tr>\n",
       "  </tbody>\n",
       "</table>\n",
       "</div>"
      ],
      "text/plain": [
       "                                                      2.310\n",
       "cargo                         ANALISTA DE TEC DA INFORMACAO\n",
       "funcao                                                  NaN\n",
       "uorg_lotacao              DIVISAO DE SISTEMAS DE INFORMACAO\n",
       "uorg_exercicio            DIVISAO DE SISTEMAS DE INFORMACAO\n",
       "jornada                                   40 HORAS SEMANAIS\n",
       "remuneracao_basica_bruta                           4.513,12\n",
       "remuneracao_pos_deducao                            3.749,06\n",
       "nome                           ABELARDO VIEIRA MOTA 1372953"
      ]
     },
     "execution_count": 76,
     "metadata": {},
     "output_type": "execute_result"
    }
   ],
   "source": [
    "# eu\n",
    "#   .T -> transposta - melhor de visualizar\n",
    "ufc[ufc.nome.str.startswith('ABELARDO VIEIRA MOTA')].T"
   ]
  },
  {
   "cell_type": "markdown",
   "metadata": {},
   "source": [
    "## Informações gerais sobre as colunas"
   ]
  },
  {
   "cell_type": "code",
   "execution_count": 77,
   "metadata": {
    "collapsed": false
   },
   "outputs": [
    {
     "data": {
      "text/html": [
       "<div>\n",
       "<table border=\"1\" class=\"dataframe\">\n",
       "  <thead>\n",
       "    <tr style=\"text-align: right;\">\n",
       "      <th></th>\n",
       "      <th>count</th>\n",
       "      <th>mean</th>\n",
       "      <th>std</th>\n",
       "      <th>min</th>\n",
       "      <th>25%</th>\n",
       "      <th>50%</th>\n",
       "      <th>75%</th>\n",
       "      <th>max</th>\n",
       "    </tr>\n",
       "  </thead>\n",
       "  <tbody>\n",
       "    <tr>\n",
       "      <th>remuneracao_basica_bruta</th>\n",
       "      <td>7.318,00</td>\n",
       "      <td>9.290,12</td>\n",
       "      <td>6.167,52</td>\n",
       "      <td>0,00</td>\n",
       "      <td>4.601,03</td>\n",
       "      <td>7.449,46</td>\n",
       "      <td>12.132,29</td>\n",
       "      <td>44.341,22</td>\n",
       "    </tr>\n",
       "    <tr>\n",
       "      <th>remuneracao_pos_deducao</th>\n",
       "      <td>7.318,00</td>\n",
       "      <td>7.309,05</td>\n",
       "      <td>4.461,16</td>\n",
       "      <td>-3.156,16</td>\n",
       "      <td>4.039,16</td>\n",
       "      <td>6.013,76</td>\n",
       "      <td>9.148,36</td>\n",
       "      <td>40.557,40</td>\n",
       "    </tr>\n",
       "  </tbody>\n",
       "</table>\n",
       "</div>"
      ],
      "text/plain": [
       "                            count     mean      std       min      25%  \\\n",
       "remuneracao_basica_bruta 7.318,00 9.290,12 6.167,52      0,00 4.601,03   \n",
       "remuneracao_pos_deducao  7.318,00 7.309,05 4.461,16 -3.156,16 4.039,16   \n",
       "\n",
       "                              50%       75%       max  \n",
       "remuneracao_basica_bruta 7.449,46 12.132,29 44.341,22  \n",
       "remuneracao_pos_deducao  6.013,76  9.148,36 40.557,40  "
      ]
     },
     "execution_count": 77,
     "metadata": {},
     "output_type": "execute_result"
    }
   ],
   "source": [
    "# informações estatísticas sobre os campos numéricos\n",
    "ufc.describe().T"
   ]
  },
  {
   "cell_type": "code",
   "execution_count": 78,
   "metadata": {
    "collapsed": false
   },
   "outputs": [
    {
     "data": {
      "text/html": [
       "<div>\n",
       "<table border=\"1\" class=\"dataframe\">\n",
       "  <thead>\n",
       "    <tr style=\"text-align: right;\">\n",
       "      <th></th>\n",
       "      <th>cargo</th>\n",
       "      <th>funcao</th>\n",
       "      <th>uorg_lotacao</th>\n",
       "      <th>uorg_exercicio</th>\n",
       "      <th>jornada</th>\n",
       "      <th>nome</th>\n",
       "    </tr>\n",
       "  </thead>\n",
       "  <tbody>\n",
       "    <tr>\n",
       "      <th>count</th>\n",
       "      <td>6296</td>\n",
       "      <td>1008</td>\n",
       "      <td>7237</td>\n",
       "      <td>7230</td>\n",
       "      <td>7318</td>\n",
       "      <td>7318</td>\n",
       "    </tr>\n",
       "    <tr>\n",
       "      <th>unique</th>\n",
       "      <td>155</td>\n",
       "      <td>5</td>\n",
       "      <td>519</td>\n",
       "      <td>780</td>\n",
       "      <td>6</td>\n",
       "      <td>6250</td>\n",
       "    </tr>\n",
       "    <tr>\n",
       "      <th>top</th>\n",
       "      <td>PROFESSOR DO MAGISTERIO SUPERIOR</td>\n",
       "      <td>FUNCAO GRATIFICADA - IFES</td>\n",
       "      <td>HOSPITAL UNIVERSITARIO WALTER CANTIDIO</td>\n",
       "      <td>HOSPITAL UNIVERSITARIO WALTER CANTIDIO</td>\n",
       "      <td>40 HORAS SEMANAIS</td>\n",
       "      <td>LUSMAR VERAS RODRIGUES 1831879</td>\n",
       "    </tr>\n",
       "    <tr>\n",
       "      <th>freq</th>\n",
       "      <td>2299</td>\n",
       "      <td>553</td>\n",
       "      <td>762</td>\n",
       "      <td>756</td>\n",
       "      <td>4381</td>\n",
       "      <td>3</td>\n",
       "    </tr>\n",
       "  </tbody>\n",
       "</table>\n",
       "</div>"
      ],
      "text/plain": [
       "                                   cargo                     funcao  \\\n",
       "count                               6296                       1008   \n",
       "unique                               155                          5   \n",
       "top     PROFESSOR DO MAGISTERIO SUPERIOR  FUNCAO GRATIFICADA - IFES   \n",
       "freq                                2299                        553   \n",
       "\n",
       "                                  uorg_lotacao  \\\n",
       "count                                     7237   \n",
       "unique                                     519   \n",
       "top     HOSPITAL UNIVERSITARIO WALTER CANTIDIO   \n",
       "freq                                       762   \n",
       "\n",
       "                                uorg_exercicio            jornada  \\\n",
       "count                                     7230               7318   \n",
       "unique                                     780                  6   \n",
       "top     HOSPITAL UNIVERSITARIO WALTER CANTIDIO  40 HORAS SEMANAIS   \n",
       "freq                                       756               4381   \n",
       "\n",
       "                                  nome  \n",
       "count                             7318  \n",
       "unique                            6250  \n",
       "top     LUSMAR VERAS RODRIGUES 1831879  \n",
       "freq                                 3  "
      ]
     },
     "execution_count": 78,
     "metadata": {},
     "output_type": "execute_result"
    }
   ],
   "source": [
    "# informações estatísticas sobre os campos não quantitativos\n",
    "ufc.describe(include = ['O'])"
   ]
  },
  {
   "cell_type": "markdown",
   "metadata": {},
   "source": [
    "## Informações sobre os dados"
   ]
  },
  {
   "cell_type": "markdown",
   "metadata": {},
   "source": [
    "#### quantidade de funções por tipo"
   ]
  },
  {
   "cell_type": "code",
   "execution_count": 79,
   "metadata": {
    "collapsed": false
   },
   "outputs": [
    {
     "data": {
      "text/plain": [
       "FUNCAO GRATIFICADA - IFES             553\n",
       "CARGO DE  DIRECAO - CD - IFES         214\n",
       "FUNCAO COMISSIONADA DE COORD. CURSO   177\n",
       "FUNCAO GRATIFICADA                     60\n",
       "DIRECAO E ASSESSORAMENTO SUPERIOR       4\n",
       "Name: funcao, dtype: int64"
      ]
     },
     "execution_count": 79,
     "metadata": {},
     "output_type": "execute_result"
    }
   ],
   "source": [
    "ufc.funcao.value_counts()"
   ]
  },
  {
   "cell_type": "markdown",
   "metadata": {},
   "source": [
    "#### nomes que possuem mais de 2 registros"
   ]
  },
  {
   "cell_type": "code",
   "execution_count": 80,
   "metadata": {
    "collapsed": false
   },
   "outputs": [
    {
     "data": {
      "text/plain": [
       "nome\n",
       "ARNALDO AIRES PEIXOTO JUNIOR 1345763        3\n",
       "CARLOS AUGUSTO ALENCAR JUNIOR 1741074       3\n",
       "ELISETE MENDES CARVALHO 1320890             3\n",
       "FRANCISCO EDSON DE LUCENA FEITOSA 1878842   3\n",
       "HENRY DE HOLANDA CAMPOS 1325177             3\n",
       "JORGE LUIZ NOBRE RODRIGUES 1288456          3\n",
       "JOSE GLAUCO LOBO FILHO 1794329              3\n",
       "JOSENILIA MARIA ALVES GOMES 1271764         3\n",
       "LUSMAR VERAS RODRIGUES 1831879              3\n",
       "WOLNEY MATTOS OLIVEIRA 1187993              3\n",
       "dtype: int64"
      ]
     },
     "execution_count": 80,
     "metadata": {},
     "output_type": "execute_result"
    }
   ],
   "source": [
    "ufc.groupby('nome').size().loc[lambda row: row > 2]"
   ]
  },
  {
   "cell_type": "code",
   "execution_count": null,
   "metadata": {
    "collapsed": true
   },
   "outputs": [],
   "source": []
  },
  {
   "cell_type": "code",
   "execution_count": null,
   "metadata": {
    "collapsed": true
   },
   "outputs": [],
   "source": []
  },
  {
   "cell_type": "code",
   "execution_count": null,
   "metadata": {
    "collapsed": true
   },
   "outputs": [],
   "source": []
  },
  {
   "cell_type": "code",
   "execution_count": null,
   "metadata": {
    "collapsed": true
   },
   "outputs": [],
   "source": []
  },
  {
   "cell_type": "code",
   "execution_count": 70,
   "metadata": {
    "collapsed": false
   },
   "outputs": [
    {
     "data": {
      "text/html": [
       "<div>\n",
       "<table border=\"1\" class=\"dataframe\">\n",
       "  <thead>\n",
       "    <tr style=\"text-align: right;\">\n",
       "      <th></th>\n",
       "      <th>cargo</th>\n",
       "      <th>funcao</th>\n",
       "      <th>uorg_lotacao</th>\n",
       "      <th>uorg_exercicio</th>\n",
       "      <th>org_lotacao</th>\n",
       "      <th>org_exercicio</th>\n",
       "      <th>jornada</th>\n",
       "      <th>remuneracao_basica_bruta</th>\n",
       "      <th>remuneracao_pos_deducao</th>\n",
       "      <th>nome</th>\n",
       "    </tr>\n",
       "  </thead>\n",
       "  <tbody>\n",
       "    <tr>\n",
       "      <th>1.149</th>\n",
       "      <td>NaN</td>\n",
       "      <td>FUNCAO GRATIFICADA - IFES</td>\n",
       "      <td>CASA AMARELA EUSELIO OLIVEIRA</td>\n",
       "      <td>CASA AMARELA EUSELIO OLIVEIRA</td>\n",
       "      <td>UNIVERSIDADE FEDERAL DO CEARA</td>\n",
       "      <td>UNIVERSIDADE FEDERAL DO CEARA</td>\n",
       "      <td>40 HORAS SEMANAIS</td>\n",
       "      <td>14.285,02</td>\n",
       "      <td>10.157,86</td>\n",
       "      <td>WOLNEY MATTOS OLIVEIRA</td>\n",
       "    </tr>\n",
       "    <tr>\n",
       "      <th>1.150</th>\n",
       "      <td>ADMINISTRADOR</td>\n",
       "      <td>NaN</td>\n",
       "      <td>CASA AMARELA EUSELIO OLIVEIRA</td>\n",
       "      <td>CASA AMARELA EUSELIO OLIVEIRA</td>\n",
       "      <td>UNIVERSIDADE FEDERAL DO CEARA</td>\n",
       "      <td>UNIVERSIDADE FEDERAL DO CEARA</td>\n",
       "      <td>40 HORAS SEMANAIS</td>\n",
       "      <td>14.285,02</td>\n",
       "      <td>10.157,86</td>\n",
       "      <td>WOLNEY MATTOS OLIVEIRA</td>\n",
       "    </tr>\n",
       "    <tr>\n",
       "      <th>1.151</th>\n",
       "      <td>PROFESSOR ENS BASICO TECN TECNOLOGICO</td>\n",
       "      <td>NaN</td>\n",
       "      <td>INSTITUTO DE CULTURA E ARTE</td>\n",
       "      <td>INSTITUTO DE CULTURA E ARTE</td>\n",
       "      <td>UNIVERSIDADE FEDERAL DO CEARA</td>\n",
       "      <td>UNIVERSIDADE FEDERAL DO CEARA</td>\n",
       "      <td>20 HORAS SEMANAIS</td>\n",
       "      <td>14.285,02</td>\n",
       "      <td>10.157,86</td>\n",
       "      <td>WOLNEY MATTOS OLIVEIRA</td>\n",
       "    </tr>\n",
       "  </tbody>\n",
       "</table>\n",
       "</div>"
      ],
      "text/plain": [
       "                                       cargo                     funcao  \\\n",
       "1.149                                    NaN  FUNCAO GRATIFICADA - IFES   \n",
       "1.150                          ADMINISTRADOR                        NaN   \n",
       "1.151  PROFESSOR ENS BASICO TECN TECNOLOGICO                        NaN   \n",
       "\n",
       "                        uorg_lotacao                 uorg_exercicio  \\\n",
       "1.149  CASA AMARELA EUSELIO OLIVEIRA  CASA AMARELA EUSELIO OLIVEIRA   \n",
       "1.150  CASA AMARELA EUSELIO OLIVEIRA  CASA AMARELA EUSELIO OLIVEIRA   \n",
       "1.151    INSTITUTO DE CULTURA E ARTE    INSTITUTO DE CULTURA E ARTE   \n",
       "\n",
       "                         org_lotacao                  org_exercicio  \\\n",
       "1.149  UNIVERSIDADE FEDERAL DO CEARA  UNIVERSIDADE FEDERAL DO CEARA   \n",
       "1.150  UNIVERSIDADE FEDERAL DO CEARA  UNIVERSIDADE FEDERAL DO CEARA   \n",
       "1.151  UNIVERSIDADE FEDERAL DO CEARA  UNIVERSIDADE FEDERAL DO CEARA   \n",
       "\n",
       "                 jornada  remuneracao_basica_bruta  remuneracao_pos_deducao  \\\n",
       "1.149  40 HORAS SEMANAIS                 14.285,02                10.157,86   \n",
       "1.150  40 HORAS SEMANAIS                 14.285,02                10.157,86   \n",
       "1.151  20 HORAS SEMANAIS                 14.285,02                10.157,86   \n",
       "\n",
       "                         nome  \n",
       "1.149  WOLNEY MATTOS OLIVEIRA  \n",
       "1.150  WOLNEY MATTOS OLIVEIRA  \n",
       "1.151  WOLNEY MATTOS OLIVEIRA  "
      ]
     },
     "execution_count": 70,
     "metadata": {},
     "output_type": "execute_result"
    }
   ],
   "source": [
    "ufc[ufc.nome == 'WOLNEY MATTOS OLIVEIRA']"
   ]
  },
  {
   "cell_type": "code",
   "execution_count": null,
   "metadata": {
    "collapsed": true
   },
   "outputs": [],
   "source": []
  },
  {
   "cell_type": "code",
   "execution_count": null,
   "metadata": {
    "collapsed": true
   },
   "outputs": [],
   "source": []
  },
  {
   "cell_type": "code",
   "execution_count": null,
   "metadata": {
    "collapsed": true
   },
   "outputs": [],
   "source": []
  },
  {
   "cell_type": "code",
   "execution_count": null,
   "metadata": {
    "collapsed": true
   },
   "outputs": [],
   "source": []
  },
  {
   "cell_type": "code",
   "execution_count": null,
   "metadata": {
    "collapsed": true
   },
   "outputs": [],
   "source": []
  },
  {
   "cell_type": "code",
   "execution_count": null,
   "metadata": {
    "collapsed": true
   },
   "outputs": [],
   "source": []
  },
  {
   "cell_type": "code",
   "execution_count": null,
   "metadata": {
    "collapsed": true
   },
   "outputs": [],
   "source": []
  },
  {
   "cell_type": "code",
   "execution_count": null,
   "metadata": {
    "collapsed": true
   },
   "outputs": [],
   "source": []
  },
  {
   "cell_type": "code",
   "execution_count": null,
   "metadata": {
    "collapsed": true
   },
   "outputs": [],
   "source": []
  },
  {
   "cell_type": "code",
   "execution_count": 21,
   "metadata": {
    "collapsed": false
   },
   "outputs": [
    {
     "data": {
      "text/html": [
       "<div>\n",
       "<table border=\"1\" class=\"dataframe\">\n",
       "  <thead>\n",
       "    <tr style=\"text-align: right;\">\n",
       "      <th>funcao</th>\n",
       "      <th>CARGO DE  DIRECAO - CD - IFES</th>\n",
       "      <th>DIRECAO E ASSESSORAMENTO SUPERIOR</th>\n",
       "      <th>FUNCAO COMISSIONADA DE COORD. CURSO</th>\n",
       "      <th>FUNCAO GRATIFICADA - IFES</th>\n",
       "      <th>n_funcoes</th>\n",
       "      <th>n_servidores</th>\n",
       "      <th>proporcao</th>\n",
       "    </tr>\n",
       "    <tr>\n",
       "      <th>uorg_exercicio</th>\n",
       "      <th></th>\n",
       "      <th></th>\n",
       "      <th></th>\n",
       "      <th></th>\n",
       "      <th></th>\n",
       "      <th></th>\n",
       "      <th></th>\n",
       "    </tr>\n",
       "  </thead>\n",
       "  <tbody>\n",
       "    <tr>\n",
       "      <th>DIVISAO DE BENS IMOVEIS</th>\n",
       "      <td>0.0</td>\n",
       "      <td>0.0</td>\n",
       "      <td>0.0</td>\n",
       "      <td>2.0</td>\n",
       "      <td>2.0</td>\n",
       "      <td>4.0</td>\n",
       "      <td>0.500000</td>\n",
       "    </tr>\n",
       "    <tr>\n",
       "      <th>DIVISAO DE REDES DE COMPUTADORES</th>\n",
       "      <td>0.0</td>\n",
       "      <td>0.0</td>\n",
       "      <td>0.0</td>\n",
       "      <td>5.0</td>\n",
       "      <td>5.0</td>\n",
       "      <td>14.0</td>\n",
       "      <td>0.357143</td>\n",
       "    </tr>\n",
       "    <tr>\n",
       "      <th>DIVISAO DE IMPRENSA E RADIODIFUSAO</th>\n",
       "      <td>0.0</td>\n",
       "      <td>0.0</td>\n",
       "      <td>0.0</td>\n",
       "      <td>1.0</td>\n",
       "      <td>1.0</td>\n",
       "      <td>3.0</td>\n",
       "      <td>0.333333</td>\n",
       "    </tr>\n",
       "    <tr>\n",
       "      <th>DIVISAO DE NUTRICAO E ALIMENTACAO</th>\n",
       "      <td>0.0</td>\n",
       "      <td>0.0</td>\n",
       "      <td>0.0</td>\n",
       "      <td>1.0</td>\n",
       "      <td>1.0</td>\n",
       "      <td>3.0</td>\n",
       "      <td>0.333333</td>\n",
       "    </tr>\n",
       "    <tr>\n",
       "      <th>DIVISAO DE ORCAMENTO</th>\n",
       "      <td>0.0</td>\n",
       "      <td>0.0</td>\n",
       "      <td>0.0</td>\n",
       "      <td>1.0</td>\n",
       "      <td>1.0</td>\n",
       "      <td>3.0</td>\n",
       "      <td>0.333333</td>\n",
       "    </tr>\n",
       "  </tbody>\n",
       "</table>\n",
       "</div>"
      ],
      "text/plain": [
       "funcao                              CARGO DE  DIRECAO - CD - IFES  \\\n",
       "uorg_exercicio                                                      \n",
       "DIVISAO DE BENS IMOVEIS                                       0.0   \n",
       "DIVISAO DE REDES DE COMPUTADORES                              0.0   \n",
       "DIVISAO DE IMPRENSA E RADIODIFUSAO                            0.0   \n",
       "DIVISAO DE NUTRICAO E ALIMENTACAO                             0.0   \n",
       "DIVISAO DE ORCAMENTO                                          0.0   \n",
       "\n",
       "funcao                              DIRECAO E ASSESSORAMENTO SUPERIOR  \\\n",
       "uorg_exercicio                                                          \n",
       "DIVISAO DE BENS IMOVEIS                                           0.0   \n",
       "DIVISAO DE REDES DE COMPUTADORES                                  0.0   \n",
       "DIVISAO DE IMPRENSA E RADIODIFUSAO                                0.0   \n",
       "DIVISAO DE NUTRICAO E ALIMENTACAO                                 0.0   \n",
       "DIVISAO DE ORCAMENTO                                              0.0   \n",
       "\n",
       "funcao                              FUNCAO COMISSIONADA DE COORD. CURSO  \\\n",
       "uorg_exercicio                                                            \n",
       "DIVISAO DE BENS IMOVEIS                                             0.0   \n",
       "DIVISAO DE REDES DE COMPUTADORES                                    0.0   \n",
       "DIVISAO DE IMPRENSA E RADIODIFUSAO                                  0.0   \n",
       "DIVISAO DE NUTRICAO E ALIMENTACAO                                   0.0   \n",
       "DIVISAO DE ORCAMENTO                                                0.0   \n",
       "\n",
       "funcao                              FUNCAO GRATIFICADA - IFES  n_funcoes  \\\n",
       "uorg_exercicio                                                             \n",
       "DIVISAO DE BENS IMOVEIS                                   2.0        2.0   \n",
       "DIVISAO DE REDES DE COMPUTADORES                          5.0        5.0   \n",
       "DIVISAO DE IMPRENSA E RADIODIFUSAO                        1.0        1.0   \n",
       "DIVISAO DE NUTRICAO E ALIMENTACAO                         1.0        1.0   \n",
       "DIVISAO DE ORCAMENTO                                      1.0        1.0   \n",
       "\n",
       "funcao                              n_servidores  proporcao  \n",
       "uorg_exercicio                                               \n",
       "DIVISAO DE BENS IMOVEIS                      4.0   0.500000  \n",
       "DIVISAO DE REDES DE COMPUTADORES            14.0   0.357143  \n",
       "DIVISAO DE IMPRENSA E RADIODIFUSAO           3.0   0.333333  \n",
       "DIVISAO DE NUTRICAO E ALIMENTACAO            3.0   0.333333  \n",
       "DIVISAO DE ORCAMENTO                         3.0   0.333333  "
      ]
     },
     "execution_count": 21,
     "metadata": {},
     "output_type": "execute_result"
    }
   ],
   "source": [
    "def calcula_concentracao_funcao(grupo):\n",
    "    \n",
    "    funcoes = grupo.groupby('funcao').size()\n",
    "    funcoes['n_funcoes'] = funcoes.sum()\n",
    "    funcoes['n_servidores'] = len(grupo.nome.unique())\n",
    "    funcoes['proporcao'] = funcoes.n_funcoes/funcoes.n_servidores\n",
    "    \n",
    "    return funcoes\n",
    "\n",
    "conf = ufc.groupby('uorg_exercicio').apply(calcula_concentracao_funcao).unstack().fillna(0)\n",
    "\n",
    "conf[(conf.index.str.startswith(\"DIVISAO\")) & (conf.n_servidores > 2)].sort_values(\"proporcao\", ascending=False).head()"
   ]
  },
  {
   "cell_type": "code",
   "execution_count": 24,
   "metadata": {
    "collapsed": false
   },
   "outputs": [
    {
     "data": {
      "text/plain": [
       "<matplotlib.axes._subplots.AxesSubplot at 0x1c43b3d92b0>"
      ]
     },
     "execution_count": 24,
     "metadata": {},
     "output_type": "execute_result"
    },
    {
     "data": {
      "image/png": "[encoded data removed]",
      "text/plain": [
       "<matplotlib.figure.Figure at 0x1c43ac2b860>"
      ]
     },
     "metadata": {},
     "output_type": "display_data"
    }
   ],
   "source": [
    "conf.n_funcoes.plot(kind='hist', bins=20)"
   ]
  },
  {
   "cell_type": "code",
   "execution_count": 25,
   "metadata": {
    "collapsed": true
   },
   "outputs": [],
   "source": [
    "# mantenho apenas um vínculo por servidor\n",
    "ufc = ufc.drop_duplicates(\"nome\")"
   ]
  },
  {
   "cell_type": "code",
   "execution_count": 26,
   "metadata": {
    "collapsed": false
   },
   "outputs": [
    {
     "data": {
      "text/html": [
       "<div>\n",
       "<table border=\"1\" class=\"dataframe\">\n",
       "  <thead>\n",
       "    <tr style=\"text-align: right;\">\n",
       "      <th></th>\n",
       "      <th>remuneracao_basica_bruta</th>\n",
       "      <th>nome</th>\n",
       "    </tr>\n",
       "  </thead>\n",
       "  <tbody>\n",
       "    <tr>\n",
       "      <th>1972</th>\n",
       "      <td>44341.22</td>\n",
       "      <td>LUIZ BOTELHO ALBUQUERQUE</td>\n",
       "    </tr>\n",
       "    <tr>\n",
       "      <th>6438</th>\n",
       "      <td>43824.33</td>\n",
       "      <td>SEBASTIAO CARNEIRO DE ALMEIDA</td>\n",
       "    </tr>\n",
       "    <tr>\n",
       "      <th>2031</th>\n",
       "      <td>43535.89</td>\n",
       "      <td>HENRY DE HOLANDA CAMPOS</td>\n",
       "    </tr>\n",
       "    <tr>\n",
       "      <th>4688</th>\n",
       "      <td>42643.56</td>\n",
       "      <td>CARLOS AUGUSTO ALENCAR JUNIOR</td>\n",
       "    </tr>\n",
       "    <tr>\n",
       "      <th>1923</th>\n",
       "      <td>40946.95</td>\n",
       "      <td>BOANERGES FREIRE DE AQUINO</td>\n",
       "    </tr>\n",
       "  </tbody>\n",
       "</table>\n",
       "</div>"
      ],
      "text/plain": [
       "      remuneracao_basica_bruta                           nome\n",
       "1972                  44341.22       LUIZ BOTELHO ALBUQUERQUE\n",
       "6438                  43824.33  SEBASTIAO CARNEIRO DE ALMEIDA\n",
       "2031                  43535.89        HENRY DE HOLANDA CAMPOS\n",
       "4688                  42643.56  CARLOS AUGUSTO ALENCAR JUNIOR\n",
       "1923                  40946.95     BOANERGES FREIRE DE AQUINO"
      ]
     },
     "execution_count": 26,
     "metadata": {},
     "output_type": "execute_result"
    }
   ],
   "source": [
    "ufc.nlargest(5, \"remuneracao_basica_bruta\", keep=\"first\")[['remuneracao_basica_bruta', 'nome']]"
   ]
  },
  {
   "cell_type": "code",
   "execution_count": 22,
   "metadata": {
    "collapsed": false
   },
   "outputs": [
    {
     "data": {
      "text/plain": [
       "count    527.000000\n",
       "mean      11.732448\n",
       "std       39.898523\n",
       "min        1.000000\n",
       "25%        1.000000\n",
       "50%        3.000000\n",
       "75%        8.000000\n",
       "max      734.000000\n",
       "Name: uorg_lotacao, dtype: float64"
      ]
     },
     "execution_count": 22,
     "metadata": {},
     "output_type": "execute_result"
    }
   ],
   "source": [
    "ufc.uorg_lotacao.value_counts().describe()"
   ]
  },
  {
   "cell_type": "code",
   "execution_count": 23,
   "metadata": {
    "collapsed": false
   },
   "outputs": [
    {
     "data": {
      "text/plain": [
       "(165,)"
      ]
     },
     "execution_count": 23,
     "metadata": {},
     "output_type": "execute_result"
    }
   ],
   "source": [
    "ufc.uorg_lotacao.value_counts().loc[lambda x: x < 2].shape"
   ]
  },
  {
   "cell_type": "code",
   "execution_count": 24,
   "metadata": {
    "collapsed": false
   },
   "outputs": [
    {
     "data": {
      "text/plain": [
       "<matplotlib.axes._subplots.AxesSubplot at 0x27ed975d080>"
      ]
     },
     "execution_count": 24,
     "metadata": {},
     "output_type": "execute_result"
    },
    {
     "data": {
      "image/png": "[encoded data removed]",
      "text/plain": [
       "<matplotlib.figure.Figure at 0x27edbeff240>"
      ]
     },
     "metadata": {},
     "output_type": "display_data"
    }
   ],
   "source": [
    "ufc.uorg_lotacao.value_counts().nlargest(5).plot(kind='barh', figsize=(10, 6))"
   ]
  },
  {
   "cell_type": "code",
   "execution_count": 25,
   "metadata": {
    "collapsed": false
   },
   "outputs": [
    {
     "data": {
      "text/plain": [
       "<matplotlib.axes._subplots.AxesSubplot at 0x27edbf874a8>"
      ]
     },
     "execution_count": 25,
     "metadata": {},
     "output_type": "execute_result"
    },
    {
     "data": {
      "image/png": "[encoded data removed]",
      "text/plain": [
       "<matplotlib.figure.Figure at 0x27edbfd57f0>"
      ]
     },
     "metadata": {},
     "output_type": "display_data"
    }
   ],
   "source": [
    "ufc.groupby(\"uorg_exercicio\").remuneracao_basica_bruta.mean().nlargest(5).plot(kind='barh', figsize=(10, 6))"
   ]
  },
  {
   "cell_type": "code",
   "execution_count": 26,
   "metadata": {
    "collapsed": false
   },
   "outputs": [
    {
     "data": {
      "text/plain": [
       "<matplotlib.axes._subplots.AxesSubplot at 0x27edbfdf898>"
      ]
     },
     "execution_count": 26,
     "metadata": {},
     "output_type": "execute_result"
    },
    {
     "data": {
      "image/png": "[encoded data removed]",
      "text/plain": [
       "<matplotlib.figure.Figure at 0x27edbffd0b8>"
      ]
     },
     "metadata": {},
     "output_type": "display_data"
    }
   ],
   "source": [
    "ufc.groupby(\"uorg_exercicio\").remuneracao_basica_bruta.apply(lambda g: g.max() - g.min()).nlargest(5).plot(kind='barh', figsize=(10, 6))"
   ]
  },
  {
   "cell_type": "code",
   "execution_count": 27,
   "metadata": {
    "collapsed": false
   },
   "outputs": [
    {
     "data": {
      "text/html": [
       "<div>\n",
       "<table border=\"1\" class=\"dataframe\">\n",
       "  <thead>\n",
       "    <tr style=\"text-align: right;\">\n",
       "      <th></th>\n",
       "      <th>cargo</th>\n",
       "      <th>funcao</th>\n",
       "      <th>uorg_lotacao</th>\n",
       "      <th>uorg_exercicio</th>\n",
       "      <th>org_lotacao</th>\n",
       "      <th>org_exercicio</th>\n",
       "      <th>jornada</th>\n",
       "      <th>remuneracao_basica_bruta</th>\n",
       "      <th>remuneracao_pos_deducao</th>\n",
       "      <th>nome</th>\n",
       "    </tr>\n",
       "  </thead>\n",
       "  <tbody>\n",
       "    <tr>\n",
       "      <th>6438</th>\n",
       "      <td>PROFESSOR DO MAGISTERIO SUPERIOR</td>\n",
       "      <td>NaN</td>\n",
       "      <td>NaN</td>\n",
       "      <td>GABINETE DO REITOR</td>\n",
       "      <td>UNIVERSIDADE FEDERAL DO CEARA</td>\n",
       "      <td>UNIVERSIDADE FEDERAL DO CEARA</td>\n",
       "      <td>DEDICACAO EXCLUSIVA</td>\n",
       "      <td>43824.33</td>\n",
       "      <td>30163.89</td>\n",
       "      <td>SEBASTIAO CARNEIRO DE ALMEIDA</td>\n",
       "    </tr>\n",
       "    <tr>\n",
       "      <th>7340</th>\n",
       "      <td>LOCUTOR</td>\n",
       "      <td>NaN</td>\n",
       "      <td>GABINETE DO REITOR</td>\n",
       "      <td>GABINETE DO REITOR</td>\n",
       "      <td>UNIVERSIDADE FEDERAL DO CEARA</td>\n",
       "      <td>UNIVERSIDADE FEDERAL DO CEARA</td>\n",
       "      <td>40 HORAS SEMANAIS</td>\n",
       "      <td>1945.07</td>\n",
       "      <td>2010.33</td>\n",
       "      <td>PEDRO VITOR GADELHA MENDES</td>\n",
       "    </tr>\n",
       "  </tbody>\n",
       "</table>\n",
       "</div>"
      ],
      "text/plain": [
       "                                 cargo funcao        uorg_lotacao  \\\n",
       "6438  PROFESSOR DO MAGISTERIO SUPERIOR    NaN                 NaN   \n",
       "7340                           LOCUTOR    NaN  GABINETE DO REITOR   \n",
       "\n",
       "          uorg_exercicio                    org_lotacao  \\\n",
       "6438  GABINETE DO REITOR  UNIVERSIDADE FEDERAL DO CEARA   \n",
       "7340  GABINETE DO REITOR  UNIVERSIDADE FEDERAL DO CEARA   \n",
       "\n",
       "                      org_exercicio              jornada  \\\n",
       "6438  UNIVERSIDADE FEDERAL DO CEARA  DEDICACAO EXCLUSIVA   \n",
       "7340  UNIVERSIDADE FEDERAL DO CEARA    40 HORAS SEMANAIS   \n",
       "\n",
       "      remuneracao_basica_bruta  remuneracao_pos_deducao  \\\n",
       "6438                  43824.33                 30163.89   \n",
       "7340                   1945.07                  2010.33   \n",
       "\n",
       "                               nome  \n",
       "6438  SEBASTIAO CARNEIRO DE ALMEIDA  \n",
       "7340     PEDRO VITOR GADELHA MENDES  "
      ]
     },
     "execution_count": 27,
     "metadata": {},
     "output_type": "execute_result"
    }
   ],
   "source": [
    "ufc[ufc.uorg_exercicio == 'GABINETE DO REITOR']\\\n",
    ".loc[lambda x: [x.remuneracao_basica_bruta.argmax(), x.remuneracao_basica_bruta.argmin()]]"
   ]
  },
  {
   "cell_type": "code",
   "execution_count": 28,
   "metadata": {
    "collapsed": false
   },
   "outputs": [],
   "source": [
    "df = pd.merge(ufc, fcpc, left_on = \"nome\", right_on = \"nome\", how = \"outer\", indicator = True)"
   ]
  },
  {
   "cell_type": "code",
   "execution_count": 29,
   "metadata": {
    "collapsed": false
   },
   "outputs": [
    {
     "data": {
      "text/plain": [
       "(131611, 17)"
      ]
     },
     "execution_count": 29,
     "metadata": {},
     "output_type": "execute_result"
    }
   ],
   "source": [
    "df.shape"
   ]
  },
  {
   "cell_type": "code",
   "execution_count": 30,
   "metadata": {
    "collapsed": false
   },
   "outputs": [
    {
     "data": {
      "text/plain": [
       "right_only    112095\n",
       "both           14585\n",
       "left_only       4931\n",
       "Name: _merge, dtype: int64"
      ]
     },
     "execution_count": 30,
     "metadata": {},
     "output_type": "execute_result"
    }
   ],
   "source": [
    "df._merge.value_counts()"
   ]
  },
  {
   "cell_type": "code",
   "execution_count": 31,
   "metadata": {
    "collapsed": true
   },
   "outputs": [],
   "source": [
    "fcpcufc = df[df._merge == \"both\"]"
   ]
  },
  {
   "cell_type": "code",
   "execution_count": 32,
   "metadata": {
    "collapsed": false
   },
   "outputs": [
    {
     "data": {
      "text/plain": [
       "nome\n",
       "JAVAM DE CASTRO MACHADO               802283.12\n",
       "LUIZ ROBERTO DE OLIVEIRA              665245.29\n",
       "FRANCISCO RODRIGO PORTO CAVALCANTI    606908.99\n",
       "ROSSANA MARIA DE CASTRO ANDRADE       594043.50\n",
       "HELANO DE SOUSA CASTRO                579292.22\n",
       "Name: valor, dtype: float64"
      ]
     },
     "execution_count": 32,
     "metadata": {},
     "output_type": "execute_result"
    }
   ],
   "source": [
    "fcpcufc.groupby(\"nome\").valor.sum().nlargest(5)"
   ]
  },
  {
   "cell_type": "code",
   "execution_count": 33,
   "metadata": {
    "collapsed": false
   },
   "outputs": [
    {
     "data": {
      "text/plain": [
       "<matplotlib.axes._subplots.AxesSubplot at 0x27edc0696a0>"
      ]
     },
     "execution_count": 33,
     "metadata": {},
     "output_type": "execute_result"
    },
    {
     "data": {
      "image/png": "[encoded data removed]",
      "text/plain": [
       "<matplotlib.figure.Figure at 0x27edbf690f0>"
      ]
     },
     "metadata": {},
     "output_type": "display_data"
    }
   ],
   "source": [
    "top_5_pagamentos = fcpc.tipo_pagamento.value_counts().nlargest(5)\n",
    "\n",
    "fcpc[fcpc.tipo_pagamento.isin(top_5_pagamentos.index)].pivot_table(\"valor\", fcpc.data.dt.year, \"tipo_pagamento\", aggfunc=\"sum\")\\\n",
    ".plot(figsize = (10, 6))"
   ]
  },
  {
   "cell_type": "code",
   "execution_count": 34,
   "metadata": {
    "collapsed": false
   },
   "outputs": [
    {
     "data": {
      "text/plain": [
       "<matplotlib.axes._subplots.AxesSubplot at 0x27edbea4748>"
      ]
     },
     "execution_count": 34,
     "metadata": {},
     "output_type": "execute_result"
    },
    {
     "data": {
      "image/png": "[encoded data removed]",
      "text/plain": [
       "<matplotlib.figure.Figure at 0x27edc013208>"
      ]
     },
     "metadata": {},
     "output_type": "display_data"
    }
   ],
   "source": [
    "top_5_pagamentos = fcpcufc.tipo_pagamento.value_counts().nlargest(5)\n",
    "\n",
    "fcpcufc[fcpcufc.tipo_pagamento.isin(top_5_pagamentos.index)].pivot_table(\"valor\", fcpcufc.data.dt.year, \"tipo_pagamento\", aggfunc=\"sum\")\\\n",
    ".plot(figsize = (10, 6))"
   ]
  }
 ],
 "metadata": {
  "anaconda-cloud": {},
  "kernelspec": {
   "display_name": "Python [default]",
   "language": "python",
   "name": "python3"
  },
  "language_info": {
   "codemirror_mode": {
    "name": "ipython",
    "version": 3
   },
   "file_extension": ".py",
   "mimetype": "text/x-python",
   "name": "python",
   "nbconvert_exporter": "python",
   "pygments_lexer": "ipython3",
   "version": "3.5.2"
  }
 },
 "nbformat": 4,
 "nbformat_minor": 2
}
