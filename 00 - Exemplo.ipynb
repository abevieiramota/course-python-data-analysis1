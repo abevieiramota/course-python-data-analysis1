{
 "cells": [
  {
   "cell_type": "code",
   "execution_count": 89,
   "metadata": {
    "collapsed": true
   },
   "outputs": [],
   "source": [
    "import pandas as pd\n",
    "import numpy as np\n",
    "\n",
    "from matplotlib import pyplot as plt\n",
    "\n",
    "from urllib import request\n",
    "\n",
    "%matplotlib inline"
   ]
  },
  {
   "cell_type": "markdown",
   "metadata": {},
   "source": [
    "# Download do dataset"
   ]
  },
  {
   "cell_type": "markdown",
   "metadata": {},
   "source": [
    "Base de dados de pagamentos a pessoas físicas da Fundação Cearense de Pesquisa e Cultura\n",
    "\n",
    "fonte: http://www.fcpc.ufc.br/AcessoInformacao/PagamentoPessoaFisica"
   ]
  },
  {
   "cell_type": "code",
   "execution_count": 3,
   "metadata": {
    "collapsed": false
   },
   "outputs": [
    {
     "data": {
      "text/plain": [
       "('fisica.csv', <http.client.HTTPMessage at 0x7fcca29b09e8>)"
      ]
     },
     "execution_count": 3,
     "metadata": {},
     "output_type": "execute_result"
    }
   ],
   "source": [
    "url = \"https://raw.githubusercontent.com/abevieiramota/analysis-ufc/master/data/processed/fcpc/fisica.csv\"\n",
    "filename = \"fisica.csv\"\n",
    "\n",
    "request.urlretrieve(url, filename)"
   ]
  },
  {
   "cell_type": "markdown",
   "metadata": {},
   "source": [
    "# Contando projetos"
   ]
  },
  {
   "cell_type": "markdown",
   "metadata": {},
   "source": [
    "#### Python puro"
   ]
  },
  {
   "cell_type": "code",
   "execution_count": 77,
   "metadata": {
    "collapsed": false
   },
   "outputs": [
    {
     "data": {
      "text/plain": [
       "['cpf,nome,tipo_pagamento,projeto,data,valor,filename\\n',\n",
       " '***.000.103-**,REGILDA RODRIGUES DE SOUSA,ADIANTAMENTO PARA VIAGENS,2213 - CT - UFC/FCPC - PROJETO PROJOVEM CAMPO,2010-11-22,240.0,2010.csv\\n',\n",
       " '***.000.103-**,REGILDA RODRIGUES DE SOUSA,ADIANTAMENTO PARA VIAGENS,2213 - CT - UFC/FCPC - PROJETO PROJOVEM CAMPO,2010-10-15,180.0,2010.csv\\n',\n",
       " '***.000.103-**,REGILDA RODRIGUES DE SOUSA,ADIANTAMENTO PARA VIAGENS,2213 - CT - UFC/FCPC - PROJETO PROJOVEM CAMPO,2010-08-18,180.0,2010.csv\\n']"
      ]
     },
     "execution_count": 77,
     "metadata": {},
     "output_type": "execute_result"
    }
   ],
   "source": [
    "with open(\"fisica.csv\") as f:\n",
    "    \n",
    "    content = f.readlines()\n",
    "    \n",
    "content[:4]"
   ]
  },
  {
   "cell_type": "code",
   "execution_count": 11,
   "metadata": {
    "collapsed": false
   },
   "outputs": [],
   "source": [
    "projetos = [row.split(',')[3] for row in content]"
   ]
  },
  {
   "cell_type": "code",
   "execution_count": 13,
   "metadata": {
    "collapsed": false
   },
   "outputs": [
    {
     "data": {
      "text/plain": [
       "['2213 - CT - UFC/FCPC - PROJETO PROJOVEM CAMPO',\n",
       " '2213 - CT - UFC/FCPC - PROJETO PROJOVEM CAMPO',\n",
       " '2213 - CT - UFC/FCPC - PROJETO PROJOVEM CAMPO']"
      ]
     },
     "execution_count": 13,
     "metadata": {},
     "output_type": "execute_result"
    }
   ],
   "source": [
    "projetos[3:6]"
   ]
  },
  {
   "cell_type": "code",
   "execution_count": 15,
   "metadata": {
    "collapsed": false
   },
   "outputs": [
    {
     "data": {
      "text/plain": [
       "[('2924 - CT - UFC/FCPC - IMPLANTACAO E OFERTA DOS CURSOS DE GRADUACAO DA UAB/UFC 2012',\n",
       "  13068),\n",
       " ('2619 - CT - UFC/FCPC - CURSOS DE GRADUACAO UAB - 5º E 6º SEMESTRES', 5284),\n",
       " ('2390 - CT - UFC/FCPC - OFERTA DOS CURSOS DE GRADUAÇÃO DA UAB 3º E 4º SEMESTRES',\n",
       "  4760),\n",
       " ('2212 - CT - UFC/FCPC -ACOES REFERENTES AO 1º E 2º SEMESTRES', 4720),\n",
       " ('0101 - FCPC', 4591)]"
      ]
     },
     "execution_count": 15,
     "metadata": {},
     "output_type": "execute_result"
    }
   ],
   "source": [
    "from collections import Counter\n",
    "\n",
    "counts = Counter(projetos)\n",
    "\n",
    "counts.most_common(5)"
   ]
  },
  {
   "cell_type": "markdown",
   "metadata": {},
   "source": [
    "#### Pandas"
   ]
  },
  {
   "cell_type": "code",
   "execution_count": null,
   "metadata": {
    "collapsed": true
   },
   "outputs": [],
   "source": [
    "df = pd.read_csv(\"fisica.csv\")"
   ]
  },
  {
   "cell_type": "code",
   "execution_count": 78,
   "metadata": {
    "collapsed": false
   },
   "outputs": [
    {
     "data": {
      "text/html": [
       "<div>\n",
       "<table border=\"1\" class=\"dataframe\">\n",
       "  <thead>\n",
       "    <tr style=\"text-align: right;\">\n",
       "      <th></th>\n",
       "      <th>cpf</th>\n",
       "      <th>nome</th>\n",
       "      <th>tipo_pagamento</th>\n",
       "      <th>projeto</th>\n",
       "      <th>data</th>\n",
       "      <th>valor</th>\n",
       "      <th>filename</th>\n",
       "    </tr>\n",
       "  </thead>\n",
       "  <tbody>\n",
       "    <tr>\n",
       "      <th>0</th>\n",
       "      <td>***.000.103-**</td>\n",
       "      <td>REGILDA RODRIGUES DE SOUSA</td>\n",
       "      <td>ADIANTAMENTO PARA VIAGENS</td>\n",
       "      <td>2213 - CT - UFC/FCPC - PROJETO PROJOVEM CAMPO</td>\n",
       "      <td>2010-11-22</td>\n",
       "      <td>240.0</td>\n",
       "      <td>2010.csv</td>\n",
       "    </tr>\n",
       "    <tr>\n",
       "      <th>1</th>\n",
       "      <td>***.000.103-**</td>\n",
       "      <td>REGILDA RODRIGUES DE SOUSA</td>\n",
       "      <td>ADIANTAMENTO PARA VIAGENS</td>\n",
       "      <td>2213 - CT - UFC/FCPC - PROJETO PROJOVEM CAMPO</td>\n",
       "      <td>2010-10-15</td>\n",
       "      <td>180.0</td>\n",
       "      <td>2010.csv</td>\n",
       "    </tr>\n",
       "    <tr>\n",
       "      <th>2</th>\n",
       "      <td>***.000.103-**</td>\n",
       "      <td>REGILDA RODRIGUES DE SOUSA</td>\n",
       "      <td>ADIANTAMENTO PARA VIAGENS</td>\n",
       "      <td>2213 - CT - UFC/FCPC - PROJETO PROJOVEM CAMPO</td>\n",
       "      <td>2010-08-18</td>\n",
       "      <td>180.0</td>\n",
       "      <td>2010.csv</td>\n",
       "    </tr>\n",
       "  </tbody>\n",
       "</table>\n",
       "</div>"
      ],
      "text/plain": [
       "              cpf                        nome             tipo_pagamento  \\\n",
       "0  ***.000.103-**  REGILDA RODRIGUES DE SOUSA  ADIANTAMENTO PARA VIAGENS   \n",
       "1  ***.000.103-**  REGILDA RODRIGUES DE SOUSA  ADIANTAMENTO PARA VIAGENS   \n",
       "2  ***.000.103-**  REGILDA RODRIGUES DE SOUSA  ADIANTAMENTO PARA VIAGENS   \n",
       "\n",
       "                                         projeto        data  valor  filename  \n",
       "0  2213 - CT - UFC/FCPC - PROJETO PROJOVEM CAMPO  2010-11-22  240.0  2010.csv  \n",
       "1  2213 - CT - UFC/FCPC - PROJETO PROJOVEM CAMPO  2010-10-15  180.0  2010.csv  \n",
       "2  2213 - CT - UFC/FCPC - PROJETO PROJOVEM CAMPO  2010-08-18  180.0  2010.csv  "
      ]
     },
     "execution_count": 78,
     "metadata": {},
     "output_type": "execute_result"
    }
   ],
   "source": [
    "df.head(3)"
   ]
  },
  {
   "cell_type": "code",
   "execution_count": 71,
   "metadata": {
    "collapsed": false
   },
   "outputs": [
    {
     "data": {
      "text/plain": [
       "2924 - CT - UFC/FCPC - IMPLANTACAO E OFERTA DOS CURSOS DE GRADUACAO DA UAB/UFC 2012    13068\n",
       "2619 - CT - UFC/FCPC - CURSOS DE GRADUACAO UAB - 5º E 6º SEMESTRES                      5284\n",
       "2390 - CT - UFC/FCPC - OFERTA DOS CURSOS DE GRADUAÇÃO DA UAB 3º E 4º SEMESTRES          4760\n",
       "2212 - CT - UFC/FCPC -ACOES REFERENTES AO 1º E 2º SEMESTRES                             4720\n",
       "0101 - FCPC                                                                             4591\n",
       "Name: projeto, dtype: int64"
      ]
     },
     "execution_count": 71,
     "metadata": {},
     "output_type": "execute_result"
    }
   ],
   "source": [
    "largest_projetos = df.projeto.value_counts().nlargest(5)\n",
    "largest_projetos"
   ]
  },
  {
   "cell_type": "code",
   "execution_count": 72,
   "metadata": {
    "collapsed": false
   },
   "outputs": [
    {
     "data": {
      "text/plain": [
       "<matplotlib.axes._subplots.AxesSubplot at 0x7fcc9ca4f7f0>"
      ]
     },
     "execution_count": 72,
     "metadata": {},
     "output_type": "execute_result"
    },
    {
     "data": {
      "image/png": "[encoded data removed]",
      "text/plain": [
       "<matplotlib.figure.Figure at 0x7fcc9ca34390>"
      ]
     },
     "metadata": {},
     "output_type": "display_data"
    }
   ],
   "source": [
    "largest_projetos.plot(kind='barh')"
   ]
  },
  {
   "cell_type": "code",
   "execution_count": 87,
   "metadata": {
    "collapsed": false
   },
   "outputs": [
    {
     "data": {
      "text/plain": [
       "<matplotlib.axes._subplots.AxesSubplot at 0x7fcc9ff53fd0>"
      ]
     },
     "execution_count": 87,
     "metadata": {},
     "output_type": "execute_result"
    },
    {
     "data": {
      "image/png": "[encoded data removed]",
      "text/plain": [
       "<matplotlib.figure.Figure at 0x7fcca0168198>"
      ]
     },
     "metadata": {},
     "output_type": "display_data"
    }
   ],
   "source": [
    "df[df.projeto.isin(largest_projetos.index)].groupby(['projeto', 'tipo_pagamento']).size().unstack()\\\n",
    ".plot(kind = 'barh', stacked = True, figsize = (8, 8))"
   ]
  },
  {
   "cell_type": "code",
   "execution_count": 104,
   "metadata": {
    "collapsed": false
   },
   "outputs": [
    {
     "data": {
      "text/plain": [
       "<matplotlib.legend.Legend at 0x7fcc9ffa3748>"
      ]
     },
     "execution_count": 104,
     "metadata": {},
     "output_type": "execute_result"
    },
    {
     "data": {
      "image/png": "[encoded data removed]",
      "text/plain": [
       "<matplotlib.figure.Figure at 0x7fcc9364ad30>"
      ]
     },
     "metadata": {},
     "output_type": "display_data"
    }
   ],
   "source": [
    "count_subset = df[df.projeto.isin(largest_projetos.index)].groupby(['projeto', 'tipo_pagamento']).size().unstack()\n",
    "normed_subset = count_subset.div(count_subset.sum(axis = 1), axis = 0)\n",
    "\n",
    "normed_subset.plot(kind = 'barh', stacked = True, figsize = (8, 8))\n",
    "\n",
    "plt.legend(bbox_to_anchor = (-1., 1.02, 2., .102), ncol = 3, mode = \"expand\", loc = 3)"
   ]
  },
  {
   "cell_type": "markdown",
   "metadata": {},
   "source": [
    "# Missing values"
   ]
  },
  {
   "cell_type": "markdown",
   "metadata": {},
   "source": [
    "#### pesquisando"
   ]
  },
  {
   "cell_type": "code",
   "execution_count": 66,
   "metadata": {
    "collapsed": false
   },
   "outputs": [
    {
     "data": {
      "text/html": [
       "<div>\n",
       "<table border=\"1\" class=\"dataframe\">\n",
       "  <thead>\n",
       "    <tr style=\"text-align: right;\">\n",
       "      <th></th>\n",
       "      <th>cpf</th>\n",
       "      <th>nome</th>\n",
       "      <th>tipo_pagamento</th>\n",
       "      <th>projeto</th>\n",
       "      <th>data</th>\n",
       "      <th>valor</th>\n",
       "      <th>filename</th>\n",
       "    </tr>\n",
       "  </thead>\n",
       "  <tbody>\n",
       "    <tr>\n",
       "      <th>112866</th>\n",
       "      <td>***.991.143-**</td>\n",
       "      <td>TEREZINHA FREIRE DE FRANCA</td>\n",
       "      <td>FOLHA DE PAGAMENTO - CLT</td>\n",
       "      <td>NaN</td>\n",
       "      <td>2015-08-20</td>\n",
       "      <td>485.09</td>\n",
       "      <td>2015.csv</td>\n",
       "    </tr>\n",
       "  </tbody>\n",
       "</table>\n",
       "</div>"
      ],
      "text/plain": [
       "                   cpf                        nome            tipo_pagamento  \\\n",
       "112866  ***.991.143-**  TEREZINHA FREIRE DE FRANCA  FOLHA DE PAGAMENTO - CLT   \n",
       "\n",
       "       projeto        data   valor  filename  \n",
       "112866     NaN  2015-08-20  485.09  2015.csv  "
      ]
     },
     "execution_count": 66,
     "metadata": {},
     "output_type": "execute_result"
    }
   ],
   "source": [
    "df[df.isnull().any(axis = 1)]"
   ]
  },
  {
   "cell_type": "markdown",
   "metadata": {},
   "source": [
    "#### preenchendo"
   ]
  },
  {
   "cell_type": "code",
   "execution_count": 67,
   "metadata": {
    "collapsed": false
   },
   "outputs": [
    {
     "data": {
      "text/html": [
       "<div>\n",
       "<table border=\"1\" class=\"dataframe\">\n",
       "  <thead>\n",
       "    <tr style=\"text-align: right;\">\n",
       "      <th></th>\n",
       "      <th>cpf</th>\n",
       "      <th>nome</th>\n",
       "      <th>tipo_pagamento</th>\n",
       "      <th>projeto</th>\n",
       "      <th>data</th>\n",
       "      <th>valor</th>\n",
       "      <th>filename</th>\n",
       "    </tr>\n",
       "  </thead>\n",
       "  <tbody>\n",
       "    <tr>\n",
       "      <th>112866</th>\n",
       "      <td>***.991.143-**</td>\n",
       "      <td>TEREZINHA FREIRE DE FRANCA</td>\n",
       "      <td>FOLHA DE PAGAMENTO - CLT</td>\n",
       "      <td>projeto não preenchido</td>\n",
       "      <td>2015-08-20</td>\n",
       "      <td>485.09</td>\n",
       "      <td>2015.csv</td>\n",
       "    </tr>\n",
       "  </tbody>\n",
       "</table>\n",
       "</div>"
      ],
      "text/plain": [
       "                   cpf                        nome            tipo_pagamento  \\\n",
       "112866  ***.991.143-**  TEREZINHA FREIRE DE FRANCA  FOLHA DE PAGAMENTO - CLT   \n",
       "\n",
       "                       projeto        data   valor  filename  \n",
       "112866  projeto não preenchido  2015-08-20  485.09  2015.csv  "
      ]
     },
     "execution_count": 67,
     "metadata": {},
     "output_type": "execute_result"
    }
   ],
   "source": [
    "df[df.isnull().any(axis = 1)].fillna(\"projeto não preenchido\")\n",
    "# não é inplace"
   ]
  },
  {
   "cell_type": "markdown",
   "metadata": {},
   "source": [
    "# Agrupamentos e pivoteamento"
   ]
  },
  {
   "cell_type": "code",
   "execution_count": 70,
   "metadata": {
    "collapsed": false
   },
   "outputs": [
    {
     "data": {
      "text/html": [
       "<div>\n",
       "<table border=\"1\" class=\"dataframe\">\n",
       "  <thead>\n",
       "    <tr style=\"text-align: right;\">\n",
       "      <th>tipo_pagamento</th>\n",
       "      <th>ADIANTAMENTO PARA DESPESAS</th>\n",
       "      <th>ADIANTAMENTO PARA VIAGENS</th>\n",
       "      <th>ADIANTAMENTOS</th>\n",
       "      <th>BOLSA</th>\n",
       "      <th>DEVOLUÇÃO</th>\n",
       "      <th>DIÁRIAS</th>\n",
       "      <th>FOLHA DE PAGAMENTO - CLT</th>\n",
       "      <th>RECURSOS HUMANOS</th>\n",
       "      <th>RESSARCIMENTO DE DESPESA</th>\n",
       "      <th>RESSARCIMENTO de DESPESA [ressarcimento]</th>\n",
       "      <th>SERVIÇO PRESTADO - RPA</th>\n",
       "      <th>SERVIÇOS DE TERCEIROS - PESSOA FÍSICA</th>\n",
       "    </tr>\n",
       "    <tr>\n",
       "      <th>projeto</th>\n",
       "      <th></th>\n",
       "      <th></th>\n",
       "      <th></th>\n",
       "      <th></th>\n",
       "      <th></th>\n",
       "      <th></th>\n",
       "      <th></th>\n",
       "      <th></th>\n",
       "      <th></th>\n",
       "      <th></th>\n",
       "      <th></th>\n",
       "      <th></th>\n",
       "    </tr>\n",
       "  </thead>\n",
       "  <tbody>\n",
       "    <tr>\n",
       "      <th>0101 - FCPC</th>\n",
       "      <td>140.0</td>\n",
       "      <td>131.0</td>\n",
       "      <td>8.0</td>\n",
       "      <td>0.0</td>\n",
       "      <td>0.0</td>\n",
       "      <td>50.0</td>\n",
       "      <td>3430.0</td>\n",
       "      <td>0.0</td>\n",
       "      <td>51.0</td>\n",
       "      <td>1.0</td>\n",
       "      <td>762.0</td>\n",
       "      <td>18.0</td>\n",
       "    </tr>\n",
       "    <tr>\n",
       "      <th>0104 - FCPC - 124.176-1 - ENCARGOS</th>\n",
       "      <td>0.0</td>\n",
       "      <td>0.0</td>\n",
       "      <td>0.0</td>\n",
       "      <td>0.0</td>\n",
       "      <td>0.0</td>\n",
       "      <td>0.0</td>\n",
       "      <td>0.0</td>\n",
       "      <td>0.0</td>\n",
       "      <td>0.0</td>\n",
       "      <td>0.0</td>\n",
       "      <td>12.0</td>\n",
       "      <td>0.0</td>\n",
       "    </tr>\n",
       "    <tr>\n",
       "      <th>1016 - CARTA -  UFC/FCPC RADIO UNIVERSITARIA FM</th>\n",
       "      <td>0.0</td>\n",
       "      <td>0.0</td>\n",
       "      <td>0.0</td>\n",
       "      <td>0.0</td>\n",
       "      <td>0.0</td>\n",
       "      <td>0.0</td>\n",
       "      <td>4.0</td>\n",
       "      <td>0.0</td>\n",
       "      <td>0.0</td>\n",
       "      <td>0.0</td>\n",
       "      <td>0.0</td>\n",
       "      <td>0.0</td>\n",
       "    </tr>\n",
       "  </tbody>\n",
       "</table>\n",
       "</div>"
      ],
      "text/plain": [
       "tipo_pagamento                                   ADIANTAMENTO PARA DESPESAS  \\\n",
       "projeto                                                                       \n",
       "0101 - FCPC                                                           140.0   \n",
       "0104 - FCPC - 124.176-1 - ENCARGOS                                      0.0   \n",
       "1016 - CARTA -  UFC/FCPC RADIO UNIVERSITARIA FM                         0.0   \n",
       "\n",
       "tipo_pagamento                                   ADIANTAMENTO PARA VIAGENS  \\\n",
       "projeto                                                                      \n",
       "0101 - FCPC                                                          131.0   \n",
       "0104 - FCPC - 124.176-1 - ENCARGOS                                     0.0   \n",
       "1016 - CARTA -  UFC/FCPC RADIO UNIVERSITARIA FM                        0.0   \n",
       "\n",
       "tipo_pagamento                                   ADIANTAMENTOS  BOLSA  \\\n",
       "projeto                                                                 \n",
       "0101 - FCPC                                                8.0    0.0   \n",
       "0104 - FCPC - 124.176-1 - ENCARGOS                         0.0    0.0   \n",
       "1016 - CARTA -  UFC/FCPC RADIO UNIVERSITARIA FM            0.0    0.0   \n",
       "\n",
       "tipo_pagamento                                   DEVOLUÇÃO  DIÁRIAS  \\\n",
       "projeto                                                               \n",
       "0101 - FCPC                                            0.0     50.0   \n",
       "0104 - FCPC - 124.176-1 - ENCARGOS                     0.0      0.0   \n",
       "1016 - CARTA -  UFC/FCPC RADIO UNIVERSITARIA FM        0.0      0.0   \n",
       "\n",
       "tipo_pagamento                                   FOLHA DE PAGAMENTO - CLT  \\\n",
       "projeto                                                                     \n",
       "0101 - FCPC                                                        3430.0   \n",
       "0104 - FCPC - 124.176-1 - ENCARGOS                                    0.0   \n",
       "1016 - CARTA -  UFC/FCPC RADIO UNIVERSITARIA FM                       4.0   \n",
       "\n",
       "tipo_pagamento                                   RECURSOS HUMANOS  \\\n",
       "projeto                                                             \n",
       "0101 - FCPC                                                   0.0   \n",
       "0104 - FCPC - 124.176-1 - ENCARGOS                            0.0   \n",
       "1016 - CARTA -  UFC/FCPC RADIO UNIVERSITARIA FM               0.0   \n",
       "\n",
       "tipo_pagamento                                   RESSARCIMENTO DE DESPESA  \\\n",
       "projeto                                                                     \n",
       "0101 - FCPC                                                          51.0   \n",
       "0104 - FCPC - 124.176-1 - ENCARGOS                                    0.0   \n",
       "1016 - CARTA -  UFC/FCPC RADIO UNIVERSITARIA FM                       0.0   \n",
       "\n",
       "tipo_pagamento                                   RESSARCIMENTO de DESPESA [ressarcimento]  \\\n",
       "projeto                                                                                     \n",
       "0101 - FCPC                                                                           1.0   \n",
       "0104 - FCPC - 124.176-1 - ENCARGOS                                                    0.0   \n",
       "1016 - CARTA -  UFC/FCPC RADIO UNIVERSITARIA FM                                       0.0   \n",
       "\n",
       "tipo_pagamento                                   SERVIÇO PRESTADO - RPA  \\\n",
       "projeto                                                                   \n",
       "0101 - FCPC                                                       762.0   \n",
       "0104 - FCPC - 124.176-1 - ENCARGOS                                 12.0   \n",
       "1016 - CARTA -  UFC/FCPC RADIO UNIVERSITARIA FM                     0.0   \n",
       "\n",
       "tipo_pagamento                                   SERVIÇOS DE TERCEIROS - PESSOA FÍSICA  \n",
       "projeto                                                                                 \n",
       "0101 - FCPC                                                                       18.0  \n",
       "0104 - FCPC - 124.176-1 - ENCARGOS                                                 0.0  \n",
       "1016 - CARTA -  UFC/FCPC RADIO UNIVERSITARIA FM                                    0.0  "
      ]
     },
     "execution_count": 70,
     "metadata": {},
     "output_type": "execute_result"
    }
   ],
   "source": [
    "df.groupby(['projeto', 'tipo_pagamento']).size().unstack().fillna(0).head(3)"
   ]
  },
  {
   "cell_type": "code",
   "execution_count": null,
   "metadata": {
    "collapsed": true
   },
   "outputs": [],
   "source": [
    "df."
   ]
  },
  {
   "cell_type": "code",
   "execution_count": null,
   "metadata": {
    "collapsed": true
   },
   "outputs": [],
   "source": []
  },
  {
   "cell_type": "code",
   "execution_count": null,
   "metadata": {
    "collapsed": true
   },
   "outputs": [],
   "source": []
  },
  {
   "cell_type": "code",
   "execution_count": null,
   "metadata": {
    "collapsed": true
   },
   "outputs": [],
   "source": []
  },
  {
   "cell_type": "code",
   "execution_count": null,
   "metadata": {
    "collapsed": true
   },
   "outputs": [],
   "source": []
  },
  {
   "cell_type": "code",
   "execution_count": 2,
   "metadata": {
    "collapsed": true
   },
   "outputs": [],
   "source": [
    "df = pd.read_csv(\"https://raw.githubusercontent.com/abevieiramota/analysis-ufc/master/data/processed/fcpc/fisica.csv\")"
   ]
  },
  {
   "cell_type": "code",
   "execution_count": 30,
   "metadata": {
    "collapsed": false
   },
   "outputs": [],
   "source": [
    "df['data'] = pd.to_datetime(df.data, format='%Y-%m-%d')"
   ]
  },
  {
   "cell_type": "code",
   "execution_count": 3,
   "metadata": {
    "collapsed": false
   },
   "outputs": [
    {
     "data": {
      "text/plain": [
       "(126680, 7)"
      ]
     },
     "execution_count": 3,
     "metadata": {},
     "output_type": "execute_result"
    }
   ],
   "source": [
    "df.shape"
   ]
  },
  {
   "cell_type": "code",
   "execution_count": 16,
   "metadata": {
    "collapsed": false
   },
   "outputs": [
    {
     "data": {
      "text/html": [
       "<div>\n",
       "<table border=\"1\" class=\"dataframe\">\n",
       "  <thead>\n",
       "    <tr style=\"text-align: right;\">\n",
       "      <th></th>\n",
       "      <th>cpf</th>\n",
       "      <th>nome</th>\n",
       "      <th>tipo_pagamento</th>\n",
       "      <th>projeto</th>\n",
       "      <th>data</th>\n",
       "      <th>valor</th>\n",
       "      <th>filename</th>\n",
       "    </tr>\n",
       "  </thead>\n",
       "  <tbody>\n",
       "    <tr>\n",
       "      <th>0</th>\n",
       "      <td>***.000.103-**</td>\n",
       "      <td>REGILDA RODRIGUES DE SOUSA</td>\n",
       "      <td>ADIANTAMENTO PARA VIAGENS</td>\n",
       "      <td>2213 - CT - UFC/FCPC - PROJETO PROJOVEM CAMPO</td>\n",
       "      <td>2010-11-22</td>\n",
       "      <td>240.0</td>\n",
       "      <td>2010.csv</td>\n",
       "    </tr>\n",
       "    <tr>\n",
       "      <th>1</th>\n",
       "      <td>***.000.103-**</td>\n",
       "      <td>REGILDA RODRIGUES DE SOUSA</td>\n",
       "      <td>ADIANTAMENTO PARA VIAGENS</td>\n",
       "      <td>2213 - CT - UFC/FCPC - PROJETO PROJOVEM CAMPO</td>\n",
       "      <td>2010-10-15</td>\n",
       "      <td>180.0</td>\n",
       "      <td>2010.csv</td>\n",
       "    </tr>\n",
       "    <tr>\n",
       "      <th>2</th>\n",
       "      <td>***.000.103-**</td>\n",
       "      <td>REGILDA RODRIGUES DE SOUSA</td>\n",
       "      <td>ADIANTAMENTO PARA VIAGENS</td>\n",
       "      <td>2213 - CT - UFC/FCPC - PROJETO PROJOVEM CAMPO</td>\n",
       "      <td>2010-08-18</td>\n",
       "      <td>180.0</td>\n",
       "      <td>2010.csv</td>\n",
       "    </tr>\n",
       "    <tr>\n",
       "      <th>3</th>\n",
       "      <td>***.000.103-**</td>\n",
       "      <td>REGILDA RODRIGUES DE SOUSA</td>\n",
       "      <td>ADIANTAMENTO PARA VIAGENS</td>\n",
       "      <td>2213 - CT - UFC/FCPC - PROJETO PROJOVEM CAMPO</td>\n",
       "      <td>2010-05-21</td>\n",
       "      <td>300.0</td>\n",
       "      <td>2010.csv</td>\n",
       "    </tr>\n",
       "    <tr>\n",
       "      <th>4</th>\n",
       "      <td>***.000.103-**</td>\n",
       "      <td>REGILDA RODRIGUES DE SOUSA</td>\n",
       "      <td>ADIANTAMENTO PARA VIAGENS</td>\n",
       "      <td>2213 - CT - UFC/FCPC - PROJETO PROJOVEM CAMPO</td>\n",
       "      <td>2010-03-03</td>\n",
       "      <td>180.0</td>\n",
       "      <td>2010.csv</td>\n",
       "    </tr>\n",
       "  </tbody>\n",
       "</table>\n",
       "</div>"
      ],
      "text/plain": [
       "              cpf                        nome             tipo_pagamento  \\\n",
       "0  ***.000.103-**  REGILDA RODRIGUES DE SOUSA  ADIANTAMENTO PARA VIAGENS   \n",
       "1  ***.000.103-**  REGILDA RODRIGUES DE SOUSA  ADIANTAMENTO PARA VIAGENS   \n",
       "2  ***.000.103-**  REGILDA RODRIGUES DE SOUSA  ADIANTAMENTO PARA VIAGENS   \n",
       "3  ***.000.103-**  REGILDA RODRIGUES DE SOUSA  ADIANTAMENTO PARA VIAGENS   \n",
       "4  ***.000.103-**  REGILDA RODRIGUES DE SOUSA  ADIANTAMENTO PARA VIAGENS   \n",
       "\n",
       "                                         projeto        data  valor  filename  \n",
       "0  2213 - CT - UFC/FCPC - PROJETO PROJOVEM CAMPO  2010-11-22  240.0  2010.csv  \n",
       "1  2213 - CT - UFC/FCPC - PROJETO PROJOVEM CAMPO  2010-10-15  180.0  2010.csv  \n",
       "2  2213 - CT - UFC/FCPC - PROJETO PROJOVEM CAMPO  2010-08-18  180.0  2010.csv  \n",
       "3  2213 - CT - UFC/FCPC - PROJETO PROJOVEM CAMPO  2010-05-21  300.0  2010.csv  \n",
       "4  2213 - CT - UFC/FCPC - PROJETO PROJOVEM CAMPO  2010-03-03  180.0  2010.csv  "
      ]
     },
     "execution_count": 16,
     "metadata": {},
     "output_type": "execute_result"
    }
   ],
   "source": [
    "df.head()"
   ]
  },
  {
   "cell_type": "code",
   "execution_count": 17,
   "metadata": {
    "collapsed": false
   },
   "outputs": [
    {
     "data": {
      "text/html": [
       "<div>\n",
       "<table border=\"1\" class=\"dataframe\">\n",
       "  <thead>\n",
       "    <tr style=\"text-align: right;\">\n",
       "      <th></th>\n",
       "      <th>cpf</th>\n",
       "      <th>nome</th>\n",
       "      <th>tipo_pagamento</th>\n",
       "      <th>projeto</th>\n",
       "      <th>data</th>\n",
       "      <th>valor</th>\n",
       "      <th>filename</th>\n",
       "    </tr>\n",
       "  </thead>\n",
       "  <tbody>\n",
       "    <tr>\n",
       "      <th>14181</th>\n",
       "      <td>***.692.163-**</td>\n",
       "      <td>ABELARDO VIEIRA MOTA</td>\n",
       "      <td>SERVIÇO PRESTADO - RPA</td>\n",
       "      <td>2266 - CARTA LG/FCPC - OUTROS CORRELATOS</td>\n",
       "      <td>2010-11-22</td>\n",
       "      <td>428.58</td>\n",
       "      <td>2010.csv</td>\n",
       "    </tr>\n",
       "  </tbody>\n",
       "</table>\n",
       "</div>"
      ],
      "text/plain": [
       "                  cpf                  nome          tipo_pagamento  \\\n",
       "14181  ***.692.163-**  ABELARDO VIEIRA MOTA  SERVIÇO PRESTADO - RPA   \n",
       "\n",
       "                                        projeto        data   valor  filename  \n",
       "14181  2266 - CARTA LG/FCPC - OUTROS CORRELATOS  2010-11-22  428.58  2010.csv  "
      ]
     },
     "execution_count": 17,
     "metadata": {},
     "output_type": "execute_result"
    }
   ],
   "source": [
    "df[df['nome'] == 'ABELARDO VIEIRA MOTA']"
   ]
  },
  {
   "cell_type": "code",
   "execution_count": 19,
   "metadata": {
    "collapsed": false
   },
   "outputs": [
    {
     "data": {
      "text/html": [
       "<div>\n",
       "<table border=\"1\" class=\"dataframe\">\n",
       "  <thead>\n",
       "    <tr style=\"text-align: right;\">\n",
       "      <th></th>\n",
       "      <th>cpf</th>\n",
       "      <th>nome</th>\n",
       "      <th>tipo_pagamento</th>\n",
       "      <th>projeto</th>\n",
       "      <th>data</th>\n",
       "      <th>valor</th>\n",
       "      <th>filename</th>\n",
       "    </tr>\n",
       "  </thead>\n",
       "  <tbody>\n",
       "    <tr>\n",
       "      <th>122957</th>\n",
       "      <td>***.839.713-**</td>\n",
       "      <td>FRANCISCO EDUARDO ARAUJO SOARES</td>\n",
       "      <td>SERVIÇO PRESTADO - RPA</td>\n",
       "      <td>3098 - CT - FCPC/IPLANFOR - PLANO ESTRATÉGICO ...</td>\n",
       "      <td>2016-12-19</td>\n",
       "      <td>328428.65</td>\n",
       "      <td>2016.csv</td>\n",
       "    </tr>\n",
       "  </tbody>\n",
       "</table>\n",
       "</div>"
      ],
      "text/plain": [
       "                   cpf                             nome  \\\n",
       "122957  ***.839.713-**  FRANCISCO EDUARDO ARAUJO SOARES   \n",
       "\n",
       "                tipo_pagamento  \\\n",
       "122957  SERVIÇO PRESTADO - RPA   \n",
       "\n",
       "                                                  projeto        data  \\\n",
       "122957  3098 - CT - FCPC/IPLANFOR - PLANO ESTRATÉGICO ...  2016-12-19   \n",
       "\n",
       "            valor  filename  \n",
       "122957  328428.65  2016.csv  "
      ]
     },
     "execution_count": 19,
     "metadata": {},
     "output_type": "execute_result"
    }
   ],
   "source": [
    "df.nlargest(1, 'valor')"
   ]
  },
  {
   "cell_type": "code",
   "execution_count": 24,
   "metadata": {
    "collapsed": false
   },
   "outputs": [
    {
     "data": {
      "text/plain": [
       "nome\n",
       "FRANCISCO EDUARDO ARAUJO SOARES    1009837.94\n",
       "Name: valor, dtype: float64"
      ]
     },
     "execution_count": 24,
     "metadata": {},
     "output_type": "execute_result"
    }
   ],
   "source": [
    "df.groupby('nome').valor.sum().nlargest(1)"
   ]
  },
  {
   "cell_type": "code",
   "execution_count": 32,
   "metadata": {
    "collapsed": false
   },
   "outputs": [
    {
     "data": {
      "text/plain": [
       "data\n",
       "2010    2.804037e+07\n",
       "2011    2.481158e+07\n",
       "2012    2.392721e+07\n",
       "2013    2.771321e+07\n",
       "2014    3.535305e+07\n",
       "2015    3.719548e+07\n",
       "2016    3.058970e+07\n",
       "2017    2.719073e+06\n",
       "Name: valor, dtype: float64"
      ]
     },
     "execution_count": 32,
     "metadata": {},
     "output_type": "execute_result"
    }
   ],
   "source": [
    "df.groupby(df.data.dt.year).valor.sum()"
   ]
  },
  {
   "cell_type": "code",
   "execution_count": 33,
   "metadata": {
    "collapsed": false
   },
   "outputs": [
    {
     "data": {
      "text/plain": [
       "<matplotlib.axes._subplots.AxesSubplot at 0x7f852ef8ff28>"
      ]
     },
     "execution_count": 33,
     "metadata": {},
     "output_type": "execute_result"
    },
    {
     "data": {
      "image/png": "[encoded data removed]",
      "text/plain": [
       "<matplotlib.figure.Figure at 0x7f852ef8f080>"
      ]
     },
     "metadata": {},
     "output_type": "display_data"
    }
   ],
   "source": [
    "df.groupby(df.data.dt.year).valor.sum().plot()"
   ]
  },
  {
   "cell_type": "code",
   "execution_count": 34,
   "metadata": {
    "collapsed": false
   },
   "outputs": [
    {
     "data": {
      "text/plain": [
       "<matplotlib.axes._subplots.AxesSubplot at 0x7f852bc4b278>"
      ]
     },
     "execution_count": 34,
     "metadata": {},
     "output_type": "execute_result"
    },
    {
     "data": {
      "image/png": "[encoded data removed]",
      "text/plain": [
       "<matplotlib.figure.Figure at 0x7f852bbc3048>"
      ]
     },
     "metadata": {},
     "output_type": "display_data"
    }
   ],
   "source": [
    "df.groupby(df.data.dt.year).valor.sum().plot('bar')"
   ]
  },
  {
   "cell_type": "code",
   "execution_count": 50,
   "metadata": {
    "collapsed": false
   },
   "outputs": [
    {
     "data": {
      "text/plain": [
       "<matplotlib.axes._subplots.AxesSubplot at 0x7f85293d0400>"
      ]
     },
     "execution_count": 50,
     "metadata": {},
     "output_type": "execute_result"
    },
    {
     "data": {
      "image/png": "[encoded data removed]",
      "text/plain": [
       "<matplotlib.figure.Figure at 0x7f852b930fd0>"
      ]
     },
     "metadata": {},
     "output_type": "display_data"
    }
   ],
   "source": [
    "df.groupby([df.data.dt.year, df.data.dt.month]).valor.sum().unstack(0).plot(figsize=(10, 10))"
   ]
  },
  {
   "cell_type": "code",
   "execution_count": 55,
   "metadata": {
    "collapsed": false
   },
   "outputs": [
    {
     "data": {
      "text/html": [
       "<div>\n",
       "<table border=\"1\" class=\"dataframe\">\n",
       "  <thead>\n",
       "    <tr style=\"text-align: right;\">\n",
       "      <th></th>\n",
       "      <th>count</th>\n",
       "      <th>mean</th>\n",
       "      <th>std</th>\n",
       "      <th>min</th>\n",
       "      <th>25%</th>\n",
       "      <th>50%</th>\n",
       "      <th>75%</th>\n",
       "      <th>max</th>\n",
       "    </tr>\n",
       "    <tr>\n",
       "      <th>projeto</th>\n",
       "      <th></th>\n",
       "      <th></th>\n",
       "      <th></th>\n",
       "      <th></th>\n",
       "      <th></th>\n",
       "      <th></th>\n",
       "      <th></th>\n",
       "      <th></th>\n",
       "    </tr>\n",
       "  </thead>\n",
       "  <tbody>\n",
       "    <tr>\n",
       "      <th>0101 - FCPC</th>\n",
       "      <td>4591.0</td>\n",
       "      <td>2460.428225</td>\n",
       "      <td>2490.468346</td>\n",
       "      <td>0.00</td>\n",
       "      <td>1025.3100</td>\n",
       "      <td>1849.070</td>\n",
       "      <td>3271.1700</td>\n",
       "      <td>90238.33</td>\n",
       "    </tr>\n",
       "    <tr>\n",
       "      <th>0104 - FCPC - 124.176-1 - ENCARGOS</th>\n",
       "      <td>12.0</td>\n",
       "      <td>249.620833</td>\n",
       "      <td>207.864046</td>\n",
       "      <td>35.00</td>\n",
       "      <td>83.2500</td>\n",
       "      <td>137.225</td>\n",
       "      <td>480.0000</td>\n",
       "      <td>575.00</td>\n",
       "    </tr>\n",
       "    <tr>\n",
       "      <th>1016 - CARTA -  UFC/FCPC RADIO UNIVERSITARIA FM</th>\n",
       "      <td>4.0</td>\n",
       "      <td>1871.827500</td>\n",
       "      <td>18.245000</td>\n",
       "      <td>1844.46</td>\n",
       "      <td>1871.8275</td>\n",
       "      <td>1880.950</td>\n",
       "      <td>1880.9500</td>\n",
       "      <td>1880.95</td>\n",
       "    </tr>\n",
       "    <tr>\n",
       "      <th>1016 - CARTA - UFC/FCPC RADIO UNIVERSITARIA FM</th>\n",
       "      <td>427.0</td>\n",
       "      <td>1510.971499</td>\n",
       "      <td>748.859090</td>\n",
       "      <td>18.12</td>\n",
       "      <td>1100.0000</td>\n",
       "      <td>1496.000</td>\n",
       "      <td>1859.4100</td>\n",
       "      <td>5634.97</td>\n",
       "    </tr>\n",
       "    <tr>\n",
       "      <th>1017 - CT - UFC/FCPC - PROJETO DE ORIENTAÇÃO FARMACEUTICA AOS USUARIOS DA FARMÁCIA UNIVERSITÁRIA DA FARMÁCIA-ESCOLA</th>\n",
       "      <td>542.0</td>\n",
       "      <td>1084.797528</td>\n",
       "      <td>509.735417</td>\n",
       "      <td>0.00</td>\n",
       "      <td>809.1425</td>\n",
       "      <td>1041.360</td>\n",
       "      <td>1189.7575</td>\n",
       "      <td>3600.00</td>\n",
       "    </tr>\n",
       "    <tr>\n",
       "      <th>1019 - CT - RNP/INTERNET</th>\n",
       "      <td>52.0</td>\n",
       "      <td>4714.154615</td>\n",
       "      <td>3062.076641</td>\n",
       "      <td>431.30</td>\n",
       "      <td>2000.0000</td>\n",
       "      <td>5300.000</td>\n",
       "      <td>5300.0000</td>\n",
       "      <td>14133.26</td>\n",
       "    </tr>\n",
       "    <tr>\n",
       "      <th>1021 - CT/SAMEAC</th>\n",
       "      <td>154.0</td>\n",
       "      <td>773.387922</td>\n",
       "      <td>295.628355</td>\n",
       "      <td>512.29</td>\n",
       "      <td>539.6300</td>\n",
       "      <td>671.710</td>\n",
       "      <td>853.9400</td>\n",
       "      <td>2040.00</td>\n",
       "    </tr>\n",
       "    <tr>\n",
       "      <th>1048 - LEMA - LAB. ESTATISTICA E MAT. APLICADA</th>\n",
       "      <td>5.0</td>\n",
       "      <td>314.038000</td>\n",
       "      <td>294.663519</td>\n",
       "      <td>0.00</td>\n",
       "      <td>57.1500</td>\n",
       "      <td>300.000</td>\n",
       "      <td>531.0000</td>\n",
       "      <td>682.04</td>\n",
       "    </tr>\n",
       "    <tr>\n",
       "      <th>1088 - CURSO LIA-EXTENSAO</th>\n",
       "      <td>1.0</td>\n",
       "      <td>751.320000</td>\n",
       "      <td>NaN</td>\n",
       "      <td>751.32</td>\n",
       "      <td>751.3200</td>\n",
       "      <td>751.320</td>\n",
       "      <td>751.3200</td>\n",
       "      <td>751.32</td>\n",
       "    </tr>\n",
       "    <tr>\n",
       "      <th>1089 - RESCISAO CONTRATUAL</th>\n",
       "      <td>1562.0</td>\n",
       "      <td>4236.763873</td>\n",
       "      <td>5433.320660</td>\n",
       "      <td>1.00</td>\n",
       "      <td>1112.5500</td>\n",
       "      <td>2338.570</td>\n",
       "      <td>5265.1825</td>\n",
       "      <td>49822.73</td>\n",
       "    </tr>\n",
       "    <tr>\n",
       "      <th>1109 - CT - UFC/FCPC - EDIÇÕES UFC - PRESTAÇÃO DE SERVIÇOS</th>\n",
       "      <td>32.0</td>\n",
       "      <td>2268.159688</td>\n",
       "      <td>1573.436858</td>\n",
       "      <td>930.00</td>\n",
       "      <td>1162.5000</td>\n",
       "      <td>1860.000</td>\n",
       "      <td>2842.5000</td>\n",
       "      <td>8193.97</td>\n",
       "    </tr>\n",
       "    <tr>\n",
       "      <th>1299 - DOACAOAVEDA/FCPC/FARMACIAS VIVAS</th>\n",
       "      <td>38.0</td>\n",
       "      <td>1355.370526</td>\n",
       "      <td>532.734078</td>\n",
       "      <td>682.88</td>\n",
       "      <td>1152.8275</td>\n",
       "      <td>1268.750</td>\n",
       "      <td>1496.0000</td>\n",
       "      <td>2992.00</td>\n",
       "    </tr>\n",
       "    <tr>\n",
       "      <th>1341 - CARTA/BN/FCPC-PATROCINIO JORNAL DA EDUCACAO</th>\n",
       "      <td>39.0</td>\n",
       "      <td>1623.426154</td>\n",
       "      <td>451.262404</td>\n",
       "      <td>1234.37</td>\n",
       "      <td>1234.3700</td>\n",
       "      <td>1519.490</td>\n",
       "      <td>1524.4900</td>\n",
       "      <td>3038.98</td>\n",
       "    </tr>\n",
       "    <tr>\n",
       "      <th>1345 - CV ERICSSON/UFC/FCPC</th>\n",
       "      <td>2.0</td>\n",
       "      <td>11250.000000</td>\n",
       "      <td>5303.300859</td>\n",
       "      <td>7500.00</td>\n",
       "      <td>9375.0000</td>\n",
       "      <td>11250.000</td>\n",
       "      <td>13125.0000</td>\n",
       "      <td>15000.00</td>\n",
       "    </tr>\n",
       "    <tr>\n",
       "      <th>1384 - FCF/FUNDO DE CREDITO</th>\n",
       "      <td>13.0</td>\n",
       "      <td>276.923077</td>\n",
       "      <td>83.205029</td>\n",
       "      <td>0.00</td>\n",
       "      <td>300.0000</td>\n",
       "      <td>300.000</td>\n",
       "      <td>300.0000</td>\n",
       "      <td>300.00</td>\n",
       "    </tr>\n",
       "    <tr>\n",
       "      <th>1424 - DOACAO/UFC/SECRET.DE REC.HUMANOS/FESTAS</th>\n",
       "      <td>19.0</td>\n",
       "      <td>930.616842</td>\n",
       "      <td>759.074198</td>\n",
       "      <td>0.00</td>\n",
       "      <td>390.0000</td>\n",
       "      <td>1000.000</td>\n",
       "      <td>1000.0000</td>\n",
       "      <td>3000.00</td>\n",
       "    </tr>\n",
       "    <tr>\n",
       "      <th>1443 - CARTA/FCPC/LABOMAR/CEDECAM</th>\n",
       "      <td>1.0</td>\n",
       "      <td>1000.000000</td>\n",
       "      <td>NaN</td>\n",
       "      <td>1000.00</td>\n",
       "      <td>1000.0000</td>\n",
       "      <td>1000.000</td>\n",
       "      <td>1000.0000</td>\n",
       "      <td>1000.00</td>\n",
       "    </tr>\n",
       "    <tr>\n",
       "      <th>1454 - CT - FCPC/EMBRAPA/IAEA-MOSCA DAS FRUTAS</th>\n",
       "      <td>15.0</td>\n",
       "      <td>986.686000</td>\n",
       "      <td>1354.894504</td>\n",
       "      <td>132.90</td>\n",
       "      <td>150.0000</td>\n",
       "      <td>500.000</td>\n",
       "      <td>1064.3350</td>\n",
       "      <td>4405.76</td>\n",
       "    </tr>\n",
       "    <tr>\n",
       "      <th>1478 - CT - PETROBRAS/FCPC-PROJETO DSOL</th>\n",
       "      <td>1.0</td>\n",
       "      <td>6500.000000</td>\n",
       "      <td>NaN</td>\n",
       "      <td>6500.00</td>\n",
       "      <td>6500.0000</td>\n",
       "      <td>6500.000</td>\n",
       "      <td>6500.0000</td>\n",
       "      <td>6500.00</td>\n",
       "    </tr>\n",
       "    <tr>\n",
       "      <th>1500 - CARTA/FCPC-PROJETO FISICA OLIMPIADAS</th>\n",
       "      <td>2.0</td>\n",
       "      <td>550.000000</td>\n",
       "      <td>70.710678</td>\n",
       "      <td>500.00</td>\n",
       "      <td>525.0000</td>\n",
       "      <td>550.000</td>\n",
       "      <td>575.0000</td>\n",
       "      <td>600.00</td>\n",
       "    </tr>\n",
       "    <tr>\n",
       "      <th>1514 - CV - FUNCAP/FCPC - 16/2005-DCR</th>\n",
       "      <td>4.0</td>\n",
       "      <td>535.807500</td>\n",
       "      <td>402.377370</td>\n",
       "      <td>231.50</td>\n",
       "      <td>231.5000</td>\n",
       "      <td>415.750</td>\n",
       "      <td>720.0575</td>\n",
       "      <td>1080.23</td>\n",
       "    </tr>\n",
       "    <tr>\n",
       "      <th>1515 - CARTA ACORDO/UNESCO - FCPC-REDE DE HOSP. SENTINELA</th>\n",
       "      <td>17.0</td>\n",
       "      <td>998.143529</td>\n",
       "      <td>1695.822356</td>\n",
       "      <td>119.04</td>\n",
       "      <td>496.2000</td>\n",
       "      <td>520.400</td>\n",
       "      <td>851.7800</td>\n",
       "      <td>7480.00</td>\n",
       "    </tr>\n",
       "    <tr>\n",
       "      <th>1534 - CT - FCPC/LACT-LABORATORIO DE ANALISES CLINICAS E TOXICOLOGICAS</th>\n",
       "      <td>1.0</td>\n",
       "      <td>300.000000</td>\n",
       "      <td>NaN</td>\n",
       "      <td>300.00</td>\n",
       "      <td>300.0000</td>\n",
       "      <td>300.000</td>\n",
       "      <td>300.0000</td>\n",
       "      <td>300.00</td>\n",
       "    </tr>\n",
       "    <tr>\n",
       "      <th>1539 - CT - FCPC/RNP/REDECOMEP</th>\n",
       "      <td>60.0</td>\n",
       "      <td>3013.473833</td>\n",
       "      <td>4327.581929</td>\n",
       "      <td>0.00</td>\n",
       "      <td>380.7000</td>\n",
       "      <td>1291.000</td>\n",
       "      <td>3141.7200</td>\n",
       "      <td>22507.54</td>\n",
       "    </tr>\n",
       "    <tr>\n",
       "      <th>1570 - CT PETROBRAS/FCPC-PROJETO DESSALINIZADOR HIBRIDO SOLAR E GAS NATURAL</th>\n",
       "      <td>2.0</td>\n",
       "      <td>1250.000000</td>\n",
       "      <td>707.106781</td>\n",
       "      <td>750.00</td>\n",
       "      <td>1000.0000</td>\n",
       "      <td>1250.000</td>\n",
       "      <td>1500.0000</td>\n",
       "      <td>1750.00</td>\n",
       "    </tr>\n",
       "    <tr>\n",
       "      <th>1609 - CV - FINEP/FUNPEC-FCPC/GEOFAMB</th>\n",
       "      <td>16.0</td>\n",
       "      <td>1268.750000</td>\n",
       "      <td>47.871355</td>\n",
       "      <td>1200.00</td>\n",
       "      <td>1200.0000</td>\n",
       "      <td>1300.000</td>\n",
       "      <td>1300.0000</td>\n",
       "      <td>1300.00</td>\n",
       "    </tr>\n",
       "    <tr>\n",
       "      <th>1635 - CV - FNS/FCPC SAUDE PERINATAL</th>\n",
       "      <td>8.0</td>\n",
       "      <td>2811.950000</td>\n",
       "      <td>1613.148315</td>\n",
       "      <td>890.70</td>\n",
       "      <td>2073.5625</td>\n",
       "      <td>2305.295</td>\n",
       "      <td>3155.5600</td>\n",
       "      <td>5299.00</td>\n",
       "    </tr>\n",
       "    <tr>\n",
       "      <th>1648 - TERMO COOP.PETROBRAS/FCPC/ANAL.DE DADOS</th>\n",
       "      <td>1.0</td>\n",
       "      <td>601.800000</td>\n",
       "      <td>NaN</td>\n",
       "      <td>601.80</td>\n",
       "      <td>601.8000</td>\n",
       "      <td>601.800</td>\n",
       "      <td>601.8000</td>\n",
       "      <td>601.80</td>\n",
       "    </tr>\n",
       "    <tr>\n",
       "      <th>1649 - CV - BB/FCPC/UFC - ADMINISTRACAO A DISTANCIA</th>\n",
       "      <td>10.0</td>\n",
       "      <td>10261.458000</td>\n",
       "      <td>7397.732714</td>\n",
       "      <td>150.00</td>\n",
       "      <td>7200.0000</td>\n",
       "      <td>10050.000</td>\n",
       "      <td>13125.0000</td>\n",
       "      <td>21599.54</td>\n",
       "    </tr>\n",
       "    <tr>\n",
       "      <th>1650 - CV - BNB/PROD.DE JUVENIS DE CAMURIM</th>\n",
       "      <td>1.0</td>\n",
       "      <td>0.000000</td>\n",
       "      <td>NaN</td>\n",
       "      <td>0.00</td>\n",
       "      <td>0.0000</td>\n",
       "      <td>0.000</td>\n",
       "      <td>0.0000</td>\n",
       "      <td>0.00</td>\n",
       "    </tr>\n",
       "    <tr>\n",
       "      <th>...</th>\n",
       "      <td>...</td>\n",
       "      <td>...</td>\n",
       "      <td>...</td>\n",
       "      <td>...</td>\n",
       "      <td>...</td>\n",
       "      <td>...</td>\n",
       "      <td>...</td>\n",
       "      <td>...</td>\n",
       "    </tr>\n",
       "    <tr>\n",
       "      <th>3211 - CT - EVONIK/FCPC</th>\n",
       "      <td>8.0</td>\n",
       "      <td>1625.000000</td>\n",
       "      <td>1552.647509</td>\n",
       "      <td>500.00</td>\n",
       "      <td>500.0000</td>\n",
       "      <td>500.000</td>\n",
       "      <td>3500.0000</td>\n",
       "      <td>3500.00</td>\n",
       "    </tr>\n",
       "    <tr>\n",
       "      <th>3211 - CT. EVONIK/FCPC</th>\n",
       "      <td>1.0</td>\n",
       "      <td>500.000000</td>\n",
       "      <td>NaN</td>\n",
       "      <td>500.00</td>\n",
       "      <td>500.0000</td>\n",
       "      <td>500.000</td>\n",
       "      <td>500.0000</td>\n",
       "      <td>500.00</td>\n",
       "    </tr>\n",
       "    <tr>\n",
       "      <th>3212 - CT AB VISTA/FCPC</th>\n",
       "      <td>28.0</td>\n",
       "      <td>1082.640000</td>\n",
       "      <td>842.551995</td>\n",
       "      <td>500.00</td>\n",
       "      <td>500.0000</td>\n",
       "      <td>769.880</td>\n",
       "      <td>1231.4500</td>\n",
       "      <td>2500.00</td>\n",
       "    </tr>\n",
       "    <tr>\n",
       "      <th>3212 - CT AB VISTA/FCPC-PRESTAÇÃO DE SERVIÇOS</th>\n",
       "      <td>4.0</td>\n",
       "      <td>988.950000</td>\n",
       "      <td>1010.438763</td>\n",
       "      <td>382.32</td>\n",
       "      <td>470.5800</td>\n",
       "      <td>536.740</td>\n",
       "      <td>1055.1100</td>\n",
       "      <td>2500.00</td>\n",
       "    </tr>\n",
       "    <tr>\n",
       "      <th>3213 - CT - UFC/FCPC - CONCURSO PUBLICO P/ SELEÇÃO DE SERVIDORES TÉCNICO-ADMINISTRATIVO</th>\n",
       "      <td>1116.0</td>\n",
       "      <td>332.510860</td>\n",
       "      <td>811.250117</td>\n",
       "      <td>83.33</td>\n",
       "      <td>95.2400</td>\n",
       "      <td>95.240</td>\n",
       "      <td>107.1400</td>\n",
       "      <td>7810.00</td>\n",
       "    </tr>\n",
       "    <tr>\n",
       "      <th>3213 - CT. UFC/FCPC - CONCURSO PUBLICO P/ SELEÇÃO DE SERVIDORES TÉCNICO-ADMINISTRATIVO</th>\n",
       "      <td>4.0</td>\n",
       "      <td>4200.000000</td>\n",
       "      <td>0.000000</td>\n",
       "      <td>4200.00</td>\n",
       "      <td>4200.0000</td>\n",
       "      <td>4200.000</td>\n",
       "      <td>4200.0000</td>\n",
       "      <td>4200.00</td>\n",
       "    </tr>\n",
       "    <tr>\n",
       "      <th>3214 - CT UNIFOR/FCPC - PARTICIPAÇÃO NA RNP</th>\n",
       "      <td>7.0</td>\n",
       "      <td>6254.950000</td>\n",
       "      <td>1916.002257</td>\n",
       "      <td>1910.00</td>\n",
       "      <td>6965.8650</td>\n",
       "      <td>6979.480</td>\n",
       "      <td>6979.4800</td>\n",
       "      <td>7004.48</td>\n",
       "    </tr>\n",
       "    <tr>\n",
       "      <th>3216 - TC LENOVO/UFC/FCPC - DIAG CLOUD 2016</th>\n",
       "      <td>92.0</td>\n",
       "      <td>2909.240435</td>\n",
       "      <td>1269.584872</td>\n",
       "      <td>790.67</td>\n",
       "      <td>2161.0000</td>\n",
       "      <td>2761.930</td>\n",
       "      <td>3622.5000</td>\n",
       "      <td>6451.61</td>\n",
       "    </tr>\n",
       "    <tr>\n",
       "      <th>3217 -  CT. INOVAEDUC/FCPC - MAIS LEITOS - GESTÃO CLINICA DOS PACIENTES</th>\n",
       "      <td>4.0</td>\n",
       "      <td>3025.000000</td>\n",
       "      <td>1924.188140</td>\n",
       "      <td>1100.00</td>\n",
       "      <td>1775.0000</td>\n",
       "      <td>2750.000</td>\n",
       "      <td>4000.0000</td>\n",
       "      <td>5500.00</td>\n",
       "    </tr>\n",
       "    <tr>\n",
       "      <th>3217 - CT - INOVAEDUC/FCPC - MAIS LEITOS - GESTÃO CLINICA DOS PACIENTES</th>\n",
       "      <td>20.0</td>\n",
       "      <td>2589.400000</td>\n",
       "      <td>1444.913416</td>\n",
       "      <td>616.00</td>\n",
       "      <td>1775.0000</td>\n",
       "      <td>2540.000</td>\n",
       "      <td>3500.0000</td>\n",
       "      <td>5500.00</td>\n",
       "    </tr>\n",
       "    <tr>\n",
       "      <th>3218 - CT - UFC/FCPC - SELEÇÃO CASAS DE CULTURA 2016.2</th>\n",
       "      <td>347.0</td>\n",
       "      <td>298.245274</td>\n",
       "      <td>694.221703</td>\n",
       "      <td>83.33</td>\n",
       "      <td>95.2400</td>\n",
       "      <td>190.480</td>\n",
       "      <td>190.4800</td>\n",
       "      <td>6395.00</td>\n",
       "    </tr>\n",
       "    <tr>\n",
       "      <th>3219 - CARTA FCPC/PROAQUA</th>\n",
       "      <td>1.0</td>\n",
       "      <td>200.000000</td>\n",
       "      <td>NaN</td>\n",
       "      <td>200.00</td>\n",
       "      <td>200.0000</td>\n",
       "      <td>200.000</td>\n",
       "      <td>200.0000</td>\n",
       "      <td>200.00</td>\n",
       "    </tr>\n",
       "    <tr>\n",
       "      <th>3222 - CT - UFC/FCPC - CONCURSO PUBLICO P/SELEÇÃO DE SERVIDORES</th>\n",
       "      <td>87.0</td>\n",
       "      <td>943.220805</td>\n",
       "      <td>1497.684430</td>\n",
       "      <td>83.33</td>\n",
       "      <td>95.2400</td>\n",
       "      <td>107.140</td>\n",
       "      <td>778.0000</td>\n",
       "      <td>6800.00</td>\n",
       "    </tr>\n",
       "    <tr>\n",
       "      <th>3222 - CT. UFC/FCPC - CONCURSO PUBLICO P/SELEÇÃO DE SERVIDORES</th>\n",
       "      <td>1276.0</td>\n",
       "      <td>164.467108</td>\n",
       "      <td>409.726830</td>\n",
       "      <td>49.99</td>\n",
       "      <td>95.2400</td>\n",
       "      <td>95.240</td>\n",
       "      <td>95.2400</td>\n",
       "      <td>7140.00</td>\n",
       "    </tr>\n",
       "    <tr>\n",
       "      <th>3223 - CT - INOVAFIT/FCPC-PRESTAÇÃO DE SERVIÇOS P/DESELVER UMA SOLUÇÃO</th>\n",
       "      <td>12.0</td>\n",
       "      <td>1800.000000</td>\n",
       "      <td>398.816431</td>\n",
       "      <td>1440.00</td>\n",
       "      <td>1440.0000</td>\n",
       "      <td>1710.000</td>\n",
       "      <td>2070.0000</td>\n",
       "      <td>2340.00</td>\n",
       "    </tr>\n",
       "    <tr>\n",
       "      <th>3224 - TC SMART/UFC/FCPC - DESENVOLVIMENTO DE UM SISTEMA DE DETECÇÃO DE FALHA SMART RMA F_2</th>\n",
       "      <td>36.0</td>\n",
       "      <td>2580.958889</td>\n",
       "      <td>1483.883299</td>\n",
       "      <td>808.60</td>\n",
       "      <td>1870.9950</td>\n",
       "      <td>2305.300</td>\n",
       "      <td>2774.6000</td>\n",
       "      <td>6512.94</td>\n",
       "    </tr>\n",
       "    <tr>\n",
       "      <th>3225 - TC HITACHI/FCPC/UFC-HDS/OPENSTACK 2016</th>\n",
       "      <td>26.0</td>\n",
       "      <td>2367.539615</td>\n",
       "      <td>1925.375770</td>\n",
       "      <td>798.04</td>\n",
       "      <td>1790.0000</td>\n",
       "      <td>2200.000</td>\n",
       "      <td>2200.0000</td>\n",
       "      <td>11150.00</td>\n",
       "    </tr>\n",
       "    <tr>\n",
       "      <th>3226 - TC INTERMED/UFC/FCPC</th>\n",
       "      <td>4.0</td>\n",
       "      <td>5500.000000</td>\n",
       "      <td>0.000000</td>\n",
       "      <td>5500.00</td>\n",
       "      <td>5500.0000</td>\n",
       "      <td>5500.000</td>\n",
       "      <td>5500.0000</td>\n",
       "      <td>5500.00</td>\n",
       "    </tr>\n",
       "    <tr>\n",
       "      <th>3227 -  CT. UFC/FCPC - RESMULT 2016</th>\n",
       "      <td>21.0</td>\n",
       "      <td>1322.619048</td>\n",
       "      <td>2194.284769</td>\n",
       "      <td>200.00</td>\n",
       "      <td>220.0000</td>\n",
       "      <td>250.000</td>\n",
       "      <td>1090.0000</td>\n",
       "      <td>8300.00</td>\n",
       "    </tr>\n",
       "    <tr>\n",
       "      <th>3227 - CT - UFC/FCPC - RESMULT 2016</th>\n",
       "      <td>81.0</td>\n",
       "      <td>420.901235</td>\n",
       "      <td>761.702921</td>\n",
       "      <td>143.00</td>\n",
       "      <td>143.0000</td>\n",
       "      <td>143.000</td>\n",
       "      <td>294.0000</td>\n",
       "      <td>6000.00</td>\n",
       "    </tr>\n",
       "    <tr>\n",
       "      <th>3230 - TC - FURUKAWA/UFC/FCPC - SISTEMA INFORMATIZADO DE FERRAMENTAS VERSÃO II</th>\n",
       "      <td>2.0</td>\n",
       "      <td>3562.260000</td>\n",
       "      <td>1000.089405</td>\n",
       "      <td>2855.09</td>\n",
       "      <td>3208.6750</td>\n",
       "      <td>3562.260</td>\n",
       "      <td>3915.8450</td>\n",
       "      <td>4269.43</td>\n",
       "    </tr>\n",
       "    <tr>\n",
       "      <th>3230 - TC. FURUKAWA/UFC/FCPC - SISTEMA INFORMATIZADO DE FERRAMENTAS VERSÃO II</th>\n",
       "      <td>7.0</td>\n",
       "      <td>14051.790000</td>\n",
       "      <td>13095.477978</td>\n",
       "      <td>2855.09</td>\n",
       "      <td>3562.2600</td>\n",
       "      <td>4269.430</td>\n",
       "      <td>28037.8300</td>\n",
       "      <td>28037.83</td>\n",
       "    </tr>\n",
       "    <tr>\n",
       "      <th>3231 - CT. UFC/FCPC -  CURSO DE LII PITAKAJA</th>\n",
       "      <td>2.0</td>\n",
       "      <td>10032.000000</td>\n",
       "      <td>746.704761</td>\n",
       "      <td>9504.00</td>\n",
       "      <td>9768.0000</td>\n",
       "      <td>10032.000</td>\n",
       "      <td>10296.0000</td>\n",
       "      <td>10560.00</td>\n",
       "    </tr>\n",
       "    <tr>\n",
       "      <th>3232 - CT. LALLEMAND/FCPC - DESEMPENHO ZOOTÉCNICO DO CAMARÃO BRANCO</th>\n",
       "      <td>6.0</td>\n",
       "      <td>1000.000000</td>\n",
       "      <td>547.722558</td>\n",
       "      <td>500.00</td>\n",
       "      <td>500.0000</td>\n",
       "      <td>1000.000</td>\n",
       "      <td>1500.0000</td>\n",
       "      <td>1500.00</td>\n",
       "    </tr>\n",
       "    <tr>\n",
       "      <th>3235 - TC - SCHNEIDER/UFC/FCPC - ATUALIZAÇÃO TECNOLÓGICA EM NOBREAKS</th>\n",
       "      <td>4.0</td>\n",
       "      <td>3202.995000</td>\n",
       "      <td>2577.493850</td>\n",
       "      <td>500.00</td>\n",
       "      <td>1250.0000</td>\n",
       "      <td>3405.990</td>\n",
       "      <td>5358.9850</td>\n",
       "      <td>5500.00</td>\n",
       "    </tr>\n",
       "    <tr>\n",
       "      <th>3235 - TC. SCHNEIDER/UFC/FCPC - ATUALIZAÇÃO TECNOLÓGICA EM NOBREAKS</th>\n",
       "      <td>13.0</td>\n",
       "      <td>3925.757692</td>\n",
       "      <td>2360.623247</td>\n",
       "      <td>500.00</td>\n",
       "      <td>1500.0000</td>\n",
       "      <td>5363.530</td>\n",
       "      <td>5500.0000</td>\n",
       "      <td>7675.40</td>\n",
       "    </tr>\n",
       "    <tr>\n",
       "      <th>3236 - ACORDO COOPERAÇÃO BAYER/FCPC POLINIZAÇÃO DE CULTURAS AGRICOLAS NO BRASIL</th>\n",
       "      <td>4.0</td>\n",
       "      <td>2750.000000</td>\n",
       "      <td>288.675135</td>\n",
       "      <td>2500.00</td>\n",
       "      <td>2500.0000</td>\n",
       "      <td>2750.000</td>\n",
       "      <td>3000.0000</td>\n",
       "      <td>3000.00</td>\n",
       "    </tr>\n",
       "    <tr>\n",
       "      <th>3239 - CT - UFC/FCPC - PARFOR</th>\n",
       "      <td>112.0</td>\n",
       "      <td>512.000000</td>\n",
       "      <td>255.450368</td>\n",
       "      <td>88.50</td>\n",
       "      <td>449.0000</td>\n",
       "      <td>449.000</td>\n",
       "      <td>449.0000</td>\n",
       "      <td>1865.00</td>\n",
       "    </tr>\n",
       "    <tr>\n",
       "      <th>3253 - TC. LG/UFC/FCPC - MOBILE, TOOLS &amp; CAS</th>\n",
       "      <td>16.0</td>\n",
       "      <td>4037.041250</td>\n",
       "      <td>1097.508796</td>\n",
       "      <td>2630.19</td>\n",
       "      <td>3144.4650</td>\n",
       "      <td>4139.425</td>\n",
       "      <td>4945.8750</td>\n",
       "      <td>5522.30</td>\n",
       "    </tr>\n",
       "    <tr>\n",
       "      <th>3255 - CT. ICC/FCPC - ACESSO A RNP</th>\n",
       "      <td>2.0</td>\n",
       "      <td>3100.000000</td>\n",
       "      <td>0.000000</td>\n",
       "      <td>3100.00</td>\n",
       "      <td>3100.0000</td>\n",
       "      <td>3100.000</td>\n",
       "      <td>3100.0000</td>\n",
       "      <td>3100.00</td>\n",
       "    </tr>\n",
       "  </tbody>\n",
       "</table>\n",
       "<p>916 rows × 8 columns</p>\n",
       "</div>"
      ],
      "text/plain": [
       "                                                     count          mean  \\\n",
       "projeto                                                                    \n",
       "0101 - FCPC                                         4591.0   2460.428225   \n",
       "0104 - FCPC - 124.176-1 - ENCARGOS                    12.0    249.620833   \n",
       "1016 - CARTA -  UFC/FCPC RADIO UNIVERSITARIA FM        4.0   1871.827500   \n",
       "1016 - CARTA - UFC/FCPC RADIO UNIVERSITARIA FM       427.0   1510.971499   \n",
       "1017 - CT - UFC/FCPC - PROJETO DE ORIENTAÇÃO FA...   542.0   1084.797528   \n",
       "1019 - CT - RNP/INTERNET                              52.0   4714.154615   \n",
       "1021 - CT/SAMEAC                                     154.0    773.387922   \n",
       "1048 - LEMA - LAB. ESTATISTICA E MAT. APLICADA         5.0    314.038000   \n",
       "1088 - CURSO LIA-EXTENSAO                              1.0    751.320000   \n",
       "1089 - RESCISAO CONTRATUAL                          1562.0   4236.763873   \n",
       "1109 - CT - UFC/FCPC - EDIÇÕES UFC - PRESTAÇÃO ...    32.0   2268.159688   \n",
       "1299 - DOACAOAVEDA/FCPC/FARMACIAS VIVAS               38.0   1355.370526   \n",
       "1341 - CARTA/BN/FCPC-PATROCINIO JORNAL DA EDUCACAO    39.0   1623.426154   \n",
       "1345 - CV ERICSSON/UFC/FCPC                            2.0  11250.000000   \n",
       "1384 - FCF/FUNDO DE CREDITO                           13.0    276.923077   \n",
       "1424 - DOACAO/UFC/SECRET.DE REC.HUMANOS/FESTAS        19.0    930.616842   \n",
       "1443 - CARTA/FCPC/LABOMAR/CEDECAM                      1.0   1000.000000   \n",
       "1454 - CT - FCPC/EMBRAPA/IAEA-MOSCA DAS FRUTAS        15.0    986.686000   \n",
       "1478 - CT - PETROBRAS/FCPC-PROJETO DSOL                1.0   6500.000000   \n",
       "1500 - CARTA/FCPC-PROJETO FISICA OLIMPIADAS            2.0    550.000000   \n",
       "1514 - CV - FUNCAP/FCPC - 16/2005-DCR                  4.0    535.807500   \n",
       "1515 - CARTA ACORDO/UNESCO - FCPC-REDE DE HOSP....    17.0    998.143529   \n",
       "1534 - CT - FCPC/LACT-LABORATORIO DE ANALISES C...     1.0    300.000000   \n",
       "1539 - CT - FCPC/RNP/REDECOMEP                        60.0   3013.473833   \n",
       "1570 - CT PETROBRAS/FCPC-PROJETO DESSALINIZADOR...     2.0   1250.000000   \n",
       "1609 - CV - FINEP/FUNPEC-FCPC/GEOFAMB                 16.0   1268.750000   \n",
       "1635 - CV - FNS/FCPC SAUDE PERINATAL                   8.0   2811.950000   \n",
       "1648 - TERMO COOP.PETROBRAS/FCPC/ANAL.DE DADOS         1.0    601.800000   \n",
       "1649 - CV - BB/FCPC/UFC - ADMINISTRACAO A DISTA...    10.0  10261.458000   \n",
       "1650 - CV - BNB/PROD.DE JUVENIS DE CAMURIM             1.0      0.000000   \n",
       "...                                                    ...           ...   \n",
       "3211 - CT - EVONIK/FCPC                                8.0   1625.000000   \n",
       "3211 - CT. EVONIK/FCPC                                 1.0    500.000000   \n",
       "3212 - CT AB VISTA/FCPC                               28.0   1082.640000   \n",
       "3212 - CT AB VISTA/FCPC-PRESTAÇÃO DE SERVIÇOS          4.0    988.950000   \n",
       "3213 - CT - UFC/FCPC - CONCURSO PUBLICO P/ SELE...  1116.0    332.510860   \n",
       "3213 - CT. UFC/FCPC - CONCURSO PUBLICO P/ SELEÇ...     4.0   4200.000000   \n",
       "3214 - CT UNIFOR/FCPC - PARTICIPAÇÃO NA RNP            7.0   6254.950000   \n",
       "3216 - TC LENOVO/UFC/FCPC - DIAG CLOUD 2016           92.0   2909.240435   \n",
       "3217 -  CT. INOVAEDUC/FCPC - MAIS LEITOS - GEST...     4.0   3025.000000   \n",
       "3217 - CT - INOVAEDUC/FCPC - MAIS LEITOS - GEST...    20.0   2589.400000   \n",
       "3218 - CT - UFC/FCPC - SELEÇÃO CASAS DE CULTURA...   347.0    298.245274   \n",
       "3219 - CARTA FCPC/PROAQUA                              1.0    200.000000   \n",
       "3222 - CT - UFC/FCPC - CONCURSO PUBLICO P/SELEÇ...    87.0    943.220805   \n",
       "3222 - CT. UFC/FCPC - CONCURSO PUBLICO P/SELEÇÃ...  1276.0    164.467108   \n",
       "3223 - CT - INOVAFIT/FCPC-PRESTAÇÃO DE SERVIÇOS...    12.0   1800.000000   \n",
       "3224 - TC SMART/UFC/FCPC - DESENVOLVIMENTO DE U...    36.0   2580.958889   \n",
       "3225 - TC HITACHI/FCPC/UFC-HDS/OPENSTACK 2016         26.0   2367.539615   \n",
       "3226 - TC INTERMED/UFC/FCPC                            4.0   5500.000000   \n",
       "3227 -  CT. UFC/FCPC - RESMULT 2016                   21.0   1322.619048   \n",
       "3227 - CT - UFC/FCPC - RESMULT 2016                   81.0    420.901235   \n",
       "3230 - TC - FURUKAWA/UFC/FCPC - SISTEMA INFORMA...     2.0   3562.260000   \n",
       "3230 - TC. FURUKAWA/UFC/FCPC - SISTEMA INFORMAT...     7.0  14051.790000   \n",
       "3231 - CT. UFC/FCPC -  CURSO DE LII PITAKAJA           2.0  10032.000000   \n",
       "3232 - CT. LALLEMAND/FCPC - DESEMPENHO ZOOTÉCNI...     6.0   1000.000000   \n",
       "3235 - TC - SCHNEIDER/UFC/FCPC - ATUALIZAÇÃO TE...     4.0   3202.995000   \n",
       "3235 - TC. SCHNEIDER/UFC/FCPC - ATUALIZAÇÃO TEC...    13.0   3925.757692   \n",
       "3236 - ACORDO COOPERAÇÃO BAYER/FCPC POLINIZAÇÃO...     4.0   2750.000000   \n",
       "3239 - CT - UFC/FCPC - PARFOR                        112.0    512.000000   \n",
       "3253 - TC. LG/UFC/FCPC - MOBILE, TOOLS & CAS          16.0   4037.041250   \n",
       "3255 - CT. ICC/FCPC - ACESSO A RNP                     2.0   3100.000000   \n",
       "\n",
       "                                                             std      min  \\\n",
       "projeto                                                                     \n",
       "0101 - FCPC                                          2490.468346     0.00   \n",
       "0104 - FCPC - 124.176-1 - ENCARGOS                    207.864046    35.00   \n",
       "1016 - CARTA -  UFC/FCPC RADIO UNIVERSITARIA FM        18.245000  1844.46   \n",
       "1016 - CARTA - UFC/FCPC RADIO UNIVERSITARIA FM        748.859090    18.12   \n",
       "1017 - CT - UFC/FCPC - PROJETO DE ORIENTAÇÃO FA...    509.735417     0.00   \n",
       "1019 - CT - RNP/INTERNET                             3062.076641   431.30   \n",
       "1021 - CT/SAMEAC                                      295.628355   512.29   \n",
       "1048 - LEMA - LAB. ESTATISTICA E MAT. APLICADA        294.663519     0.00   \n",
       "1088 - CURSO LIA-EXTENSAO                                    NaN   751.32   \n",
       "1089 - RESCISAO CONTRATUAL                           5433.320660     1.00   \n",
       "1109 - CT - UFC/FCPC - EDIÇÕES UFC - PRESTAÇÃO ...   1573.436858   930.00   \n",
       "1299 - DOACAOAVEDA/FCPC/FARMACIAS VIVAS               532.734078   682.88   \n",
       "1341 - CARTA/BN/FCPC-PATROCINIO JORNAL DA EDUCACAO    451.262404  1234.37   \n",
       "1345 - CV ERICSSON/UFC/FCPC                          5303.300859  7500.00   \n",
       "1384 - FCF/FUNDO DE CREDITO                            83.205029     0.00   \n",
       "1424 - DOACAO/UFC/SECRET.DE REC.HUMANOS/FESTAS        759.074198     0.00   \n",
       "1443 - CARTA/FCPC/LABOMAR/CEDECAM                            NaN  1000.00   \n",
       "1454 - CT - FCPC/EMBRAPA/IAEA-MOSCA DAS FRUTAS       1354.894504   132.90   \n",
       "1478 - CT - PETROBRAS/FCPC-PROJETO DSOL                      NaN  6500.00   \n",
       "1500 - CARTA/FCPC-PROJETO FISICA OLIMPIADAS            70.710678   500.00   \n",
       "1514 - CV - FUNCAP/FCPC - 16/2005-DCR                 402.377370   231.50   \n",
       "1515 - CARTA ACORDO/UNESCO - FCPC-REDE DE HOSP....   1695.822356   119.04   \n",
       "1534 - CT - FCPC/LACT-LABORATORIO DE ANALISES C...           NaN   300.00   \n",
       "1539 - CT - FCPC/RNP/REDECOMEP                       4327.581929     0.00   \n",
       "1570 - CT PETROBRAS/FCPC-PROJETO DESSALINIZADOR...    707.106781   750.00   \n",
       "1609 - CV - FINEP/FUNPEC-FCPC/GEOFAMB                  47.871355  1200.00   \n",
       "1635 - CV - FNS/FCPC SAUDE PERINATAL                 1613.148315   890.70   \n",
       "1648 - TERMO COOP.PETROBRAS/FCPC/ANAL.DE DADOS               NaN   601.80   \n",
       "1649 - CV - BB/FCPC/UFC - ADMINISTRACAO A DISTA...   7397.732714   150.00   \n",
       "1650 - CV - BNB/PROD.DE JUVENIS DE CAMURIM                   NaN     0.00   \n",
       "...                                                          ...      ...   \n",
       "3211 - CT - EVONIK/FCPC                              1552.647509   500.00   \n",
       "3211 - CT. EVONIK/FCPC                                       NaN   500.00   \n",
       "3212 - CT AB VISTA/FCPC                               842.551995   500.00   \n",
       "3212 - CT AB VISTA/FCPC-PRESTAÇÃO DE SERVIÇOS        1010.438763   382.32   \n",
       "3213 - CT - UFC/FCPC - CONCURSO PUBLICO P/ SELE...    811.250117    83.33   \n",
       "3213 - CT. UFC/FCPC - CONCURSO PUBLICO P/ SELEÇ...      0.000000  4200.00   \n",
       "3214 - CT UNIFOR/FCPC - PARTICIPAÇÃO NA RNP          1916.002257  1910.00   \n",
       "3216 - TC LENOVO/UFC/FCPC - DIAG CLOUD 2016          1269.584872   790.67   \n",
       "3217 -  CT. INOVAEDUC/FCPC - MAIS LEITOS - GEST...   1924.188140  1100.00   \n",
       "3217 - CT - INOVAEDUC/FCPC - MAIS LEITOS - GEST...   1444.913416   616.00   \n",
       "3218 - CT - UFC/FCPC - SELEÇÃO CASAS DE CULTURA...    694.221703    83.33   \n",
       "3219 - CARTA FCPC/PROAQUA                                    NaN   200.00   \n",
       "3222 - CT - UFC/FCPC - CONCURSO PUBLICO P/SELEÇ...   1497.684430    83.33   \n",
       "3222 - CT. UFC/FCPC - CONCURSO PUBLICO P/SELEÇÃ...    409.726830    49.99   \n",
       "3223 - CT - INOVAFIT/FCPC-PRESTAÇÃO DE SERVIÇOS...    398.816431  1440.00   \n",
       "3224 - TC SMART/UFC/FCPC - DESENVOLVIMENTO DE U...   1483.883299   808.60   \n",
       "3225 - TC HITACHI/FCPC/UFC-HDS/OPENSTACK 2016        1925.375770   798.04   \n",
       "3226 - TC INTERMED/UFC/FCPC                             0.000000  5500.00   \n",
       "3227 -  CT. UFC/FCPC - RESMULT 2016                  2194.284769   200.00   \n",
       "3227 - CT - UFC/FCPC - RESMULT 2016                   761.702921   143.00   \n",
       "3230 - TC - FURUKAWA/UFC/FCPC - SISTEMA INFORMA...   1000.089405  2855.09   \n",
       "3230 - TC. FURUKAWA/UFC/FCPC - SISTEMA INFORMAT...  13095.477978  2855.09   \n",
       "3231 - CT. UFC/FCPC -  CURSO DE LII PITAKAJA          746.704761  9504.00   \n",
       "3232 - CT. LALLEMAND/FCPC - DESEMPENHO ZOOTÉCNI...    547.722558   500.00   \n",
       "3235 - TC - SCHNEIDER/UFC/FCPC - ATUALIZAÇÃO TE...   2577.493850   500.00   \n",
       "3235 - TC. SCHNEIDER/UFC/FCPC - ATUALIZAÇÃO TEC...   2360.623247   500.00   \n",
       "3236 - ACORDO COOPERAÇÃO BAYER/FCPC POLINIZAÇÃO...    288.675135  2500.00   \n",
       "3239 - CT - UFC/FCPC - PARFOR                         255.450368    88.50   \n",
       "3253 - TC. LG/UFC/FCPC - MOBILE, TOOLS & CAS         1097.508796  2630.19   \n",
       "3255 - CT. ICC/FCPC - ACESSO A RNP                      0.000000  3100.00   \n",
       "\n",
       "                                                          25%        50%  \\\n",
       "projeto                                                                    \n",
       "0101 - FCPC                                         1025.3100   1849.070   \n",
       "0104 - FCPC - 124.176-1 - ENCARGOS                    83.2500    137.225   \n",
       "1016 - CARTA -  UFC/FCPC RADIO UNIVERSITARIA FM     1871.8275   1880.950   \n",
       "1016 - CARTA - UFC/FCPC RADIO UNIVERSITARIA FM      1100.0000   1496.000   \n",
       "1017 - CT - UFC/FCPC - PROJETO DE ORIENTAÇÃO FA...   809.1425   1041.360   \n",
       "1019 - CT - RNP/INTERNET                            2000.0000   5300.000   \n",
       "1021 - CT/SAMEAC                                     539.6300    671.710   \n",
       "1048 - LEMA - LAB. ESTATISTICA E MAT. APLICADA        57.1500    300.000   \n",
       "1088 - CURSO LIA-EXTENSAO                            751.3200    751.320   \n",
       "1089 - RESCISAO CONTRATUAL                          1112.5500   2338.570   \n",
       "1109 - CT - UFC/FCPC - EDIÇÕES UFC - PRESTAÇÃO ...  1162.5000   1860.000   \n",
       "1299 - DOACAOAVEDA/FCPC/FARMACIAS VIVAS             1152.8275   1268.750   \n",
       "1341 - CARTA/BN/FCPC-PATROCINIO JORNAL DA EDUCACAO  1234.3700   1519.490   \n",
       "1345 - CV ERICSSON/UFC/FCPC                         9375.0000  11250.000   \n",
       "1384 - FCF/FUNDO DE CREDITO                          300.0000    300.000   \n",
       "1424 - DOACAO/UFC/SECRET.DE REC.HUMANOS/FESTAS       390.0000   1000.000   \n",
       "1443 - CARTA/FCPC/LABOMAR/CEDECAM                   1000.0000   1000.000   \n",
       "1454 - CT - FCPC/EMBRAPA/IAEA-MOSCA DAS FRUTAS       150.0000    500.000   \n",
       "1478 - CT - PETROBRAS/FCPC-PROJETO DSOL             6500.0000   6500.000   \n",
       "1500 - CARTA/FCPC-PROJETO FISICA OLIMPIADAS          525.0000    550.000   \n",
       "1514 - CV - FUNCAP/FCPC - 16/2005-DCR                231.5000    415.750   \n",
       "1515 - CARTA ACORDO/UNESCO - FCPC-REDE DE HOSP....   496.2000    520.400   \n",
       "1534 - CT - FCPC/LACT-LABORATORIO DE ANALISES C...   300.0000    300.000   \n",
       "1539 - CT - FCPC/RNP/REDECOMEP                       380.7000   1291.000   \n",
       "1570 - CT PETROBRAS/FCPC-PROJETO DESSALINIZADOR...  1000.0000   1250.000   \n",
       "1609 - CV - FINEP/FUNPEC-FCPC/GEOFAMB               1200.0000   1300.000   \n",
       "1635 - CV - FNS/FCPC SAUDE PERINATAL                2073.5625   2305.295   \n",
       "1648 - TERMO COOP.PETROBRAS/FCPC/ANAL.DE DADOS       601.8000    601.800   \n",
       "1649 - CV - BB/FCPC/UFC - ADMINISTRACAO A DISTA...  7200.0000  10050.000   \n",
       "1650 - CV - BNB/PROD.DE JUVENIS DE CAMURIM             0.0000      0.000   \n",
       "...                                                       ...        ...   \n",
       "3211 - CT - EVONIK/FCPC                              500.0000    500.000   \n",
       "3211 - CT. EVONIK/FCPC                               500.0000    500.000   \n",
       "3212 - CT AB VISTA/FCPC                              500.0000    769.880   \n",
       "3212 - CT AB VISTA/FCPC-PRESTAÇÃO DE SERVIÇOS        470.5800    536.740   \n",
       "3213 - CT - UFC/FCPC - CONCURSO PUBLICO P/ SELE...    95.2400     95.240   \n",
       "3213 - CT. UFC/FCPC - CONCURSO PUBLICO P/ SELEÇ...  4200.0000   4200.000   \n",
       "3214 - CT UNIFOR/FCPC - PARTICIPAÇÃO NA RNP         6965.8650   6979.480   \n",
       "3216 - TC LENOVO/UFC/FCPC - DIAG CLOUD 2016         2161.0000   2761.930   \n",
       "3217 -  CT. INOVAEDUC/FCPC - MAIS LEITOS - GEST...  1775.0000   2750.000   \n",
       "3217 - CT - INOVAEDUC/FCPC - MAIS LEITOS - GEST...  1775.0000   2540.000   \n",
       "3218 - CT - UFC/FCPC - SELEÇÃO CASAS DE CULTURA...    95.2400    190.480   \n",
       "3219 - CARTA FCPC/PROAQUA                            200.0000    200.000   \n",
       "3222 - CT - UFC/FCPC - CONCURSO PUBLICO P/SELEÇ...    95.2400    107.140   \n",
       "3222 - CT. UFC/FCPC - CONCURSO PUBLICO P/SELEÇÃ...    95.2400     95.240   \n",
       "3223 - CT - INOVAFIT/FCPC-PRESTAÇÃO DE SERVIÇOS...  1440.0000   1710.000   \n",
       "3224 - TC SMART/UFC/FCPC - DESENVOLVIMENTO DE U...  1870.9950   2305.300   \n",
       "3225 - TC HITACHI/FCPC/UFC-HDS/OPENSTACK 2016       1790.0000   2200.000   \n",
       "3226 - TC INTERMED/UFC/FCPC                         5500.0000   5500.000   \n",
       "3227 -  CT. UFC/FCPC - RESMULT 2016                  220.0000    250.000   \n",
       "3227 - CT - UFC/FCPC - RESMULT 2016                  143.0000    143.000   \n",
       "3230 - TC - FURUKAWA/UFC/FCPC - SISTEMA INFORMA...  3208.6750   3562.260   \n",
       "3230 - TC. FURUKAWA/UFC/FCPC - SISTEMA INFORMAT...  3562.2600   4269.430   \n",
       "3231 - CT. UFC/FCPC -  CURSO DE LII PITAKAJA        9768.0000  10032.000   \n",
       "3232 - CT. LALLEMAND/FCPC - DESEMPENHO ZOOTÉCNI...   500.0000   1000.000   \n",
       "3235 - TC - SCHNEIDER/UFC/FCPC - ATUALIZAÇÃO TE...  1250.0000   3405.990   \n",
       "3235 - TC. SCHNEIDER/UFC/FCPC - ATUALIZAÇÃO TEC...  1500.0000   5363.530   \n",
       "3236 - ACORDO COOPERAÇÃO BAYER/FCPC POLINIZAÇÃO...  2500.0000   2750.000   \n",
       "3239 - CT - UFC/FCPC - PARFOR                        449.0000    449.000   \n",
       "3253 - TC. LG/UFC/FCPC - MOBILE, TOOLS & CAS        3144.4650   4139.425   \n",
       "3255 - CT. ICC/FCPC - ACESSO A RNP                  3100.0000   3100.000   \n",
       "\n",
       "                                                           75%       max  \n",
       "projeto                                                                   \n",
       "0101 - FCPC                                          3271.1700  90238.33  \n",
       "0104 - FCPC - 124.176-1 - ENCARGOS                    480.0000    575.00  \n",
       "1016 - CARTA -  UFC/FCPC RADIO UNIVERSITARIA FM      1880.9500   1880.95  \n",
       "1016 - CARTA - UFC/FCPC RADIO UNIVERSITARIA FM       1859.4100   5634.97  \n",
       "1017 - CT - UFC/FCPC - PROJETO DE ORIENTAÇÃO FA...   1189.7575   3600.00  \n",
       "1019 - CT - RNP/INTERNET                             5300.0000  14133.26  \n",
       "1021 - CT/SAMEAC                                      853.9400   2040.00  \n",
       "1048 - LEMA - LAB. ESTATISTICA E MAT. APLICADA        531.0000    682.04  \n",
       "1088 - CURSO LIA-EXTENSAO                             751.3200    751.32  \n",
       "1089 - RESCISAO CONTRATUAL                           5265.1825  49822.73  \n",
       "1109 - CT - UFC/FCPC - EDIÇÕES UFC - PRESTAÇÃO ...   2842.5000   8193.97  \n",
       "1299 - DOACAOAVEDA/FCPC/FARMACIAS VIVAS              1496.0000   2992.00  \n",
       "1341 - CARTA/BN/FCPC-PATROCINIO JORNAL DA EDUCACAO   1524.4900   3038.98  \n",
       "1345 - CV ERICSSON/UFC/FCPC                         13125.0000  15000.00  \n",
       "1384 - FCF/FUNDO DE CREDITO                           300.0000    300.00  \n",
       "1424 - DOACAO/UFC/SECRET.DE REC.HUMANOS/FESTAS       1000.0000   3000.00  \n",
       "1443 - CARTA/FCPC/LABOMAR/CEDECAM                    1000.0000   1000.00  \n",
       "1454 - CT - FCPC/EMBRAPA/IAEA-MOSCA DAS FRUTAS       1064.3350   4405.76  \n",
       "1478 - CT - PETROBRAS/FCPC-PROJETO DSOL              6500.0000   6500.00  \n",
       "1500 - CARTA/FCPC-PROJETO FISICA OLIMPIADAS           575.0000    600.00  \n",
       "1514 - CV - FUNCAP/FCPC - 16/2005-DCR                 720.0575   1080.23  \n",
       "1515 - CARTA ACORDO/UNESCO - FCPC-REDE DE HOSP....    851.7800   7480.00  \n",
       "1534 - CT - FCPC/LACT-LABORATORIO DE ANALISES C...    300.0000    300.00  \n",
       "1539 - CT - FCPC/RNP/REDECOMEP                       3141.7200  22507.54  \n",
       "1570 - CT PETROBRAS/FCPC-PROJETO DESSALINIZADOR...   1500.0000   1750.00  \n",
       "1609 - CV - FINEP/FUNPEC-FCPC/GEOFAMB                1300.0000   1300.00  \n",
       "1635 - CV - FNS/FCPC SAUDE PERINATAL                 3155.5600   5299.00  \n",
       "1648 - TERMO COOP.PETROBRAS/FCPC/ANAL.DE DADOS        601.8000    601.80  \n",
       "1649 - CV - BB/FCPC/UFC - ADMINISTRACAO A DISTA...  13125.0000  21599.54  \n",
       "1650 - CV - BNB/PROD.DE JUVENIS DE CAMURIM              0.0000      0.00  \n",
       "...                                                        ...       ...  \n",
       "3211 - CT - EVONIK/FCPC                              3500.0000   3500.00  \n",
       "3211 - CT. EVONIK/FCPC                                500.0000    500.00  \n",
       "3212 - CT AB VISTA/FCPC                              1231.4500   2500.00  \n",
       "3212 - CT AB VISTA/FCPC-PRESTAÇÃO DE SERVIÇOS        1055.1100   2500.00  \n",
       "3213 - CT - UFC/FCPC - CONCURSO PUBLICO P/ SELE...    107.1400   7810.00  \n",
       "3213 - CT. UFC/FCPC - CONCURSO PUBLICO P/ SELEÇ...   4200.0000   4200.00  \n",
       "3214 - CT UNIFOR/FCPC - PARTICIPAÇÃO NA RNP          6979.4800   7004.48  \n",
       "3216 - TC LENOVO/UFC/FCPC - DIAG CLOUD 2016          3622.5000   6451.61  \n",
       "3217 -  CT. INOVAEDUC/FCPC - MAIS LEITOS - GEST...   4000.0000   5500.00  \n",
       "3217 - CT - INOVAEDUC/FCPC - MAIS LEITOS - GEST...   3500.0000   5500.00  \n",
       "3218 - CT - UFC/FCPC - SELEÇÃO CASAS DE CULTURA...    190.4800   6395.00  \n",
       "3219 - CARTA FCPC/PROAQUA                             200.0000    200.00  \n",
       "3222 - CT - UFC/FCPC - CONCURSO PUBLICO P/SELEÇ...    778.0000   6800.00  \n",
       "3222 - CT. UFC/FCPC - CONCURSO PUBLICO P/SELEÇÃ...     95.2400   7140.00  \n",
       "3223 - CT - INOVAFIT/FCPC-PRESTAÇÃO DE SERVIÇOS...   2070.0000   2340.00  \n",
       "3224 - TC SMART/UFC/FCPC - DESENVOLVIMENTO DE U...   2774.6000   6512.94  \n",
       "3225 - TC HITACHI/FCPC/UFC-HDS/OPENSTACK 2016        2200.0000  11150.00  \n",
       "3226 - TC INTERMED/UFC/FCPC                          5500.0000   5500.00  \n",
       "3227 -  CT. UFC/FCPC - RESMULT 2016                  1090.0000   8300.00  \n",
       "3227 - CT - UFC/FCPC - RESMULT 2016                   294.0000   6000.00  \n",
       "3230 - TC - FURUKAWA/UFC/FCPC - SISTEMA INFORMA...   3915.8450   4269.43  \n",
       "3230 - TC. FURUKAWA/UFC/FCPC - SISTEMA INFORMAT...  28037.8300  28037.83  \n",
       "3231 - CT. UFC/FCPC -  CURSO DE LII PITAKAJA        10296.0000  10560.00  \n",
       "3232 - CT. LALLEMAND/FCPC - DESEMPENHO ZOOTÉCNI...   1500.0000   1500.00  \n",
       "3235 - TC - SCHNEIDER/UFC/FCPC - ATUALIZAÇÃO TE...   5358.9850   5500.00  \n",
       "3235 - TC. SCHNEIDER/UFC/FCPC - ATUALIZAÇÃO TEC...   5500.0000   7675.40  \n",
       "3236 - ACORDO COOPERAÇÃO BAYER/FCPC POLINIZAÇÃO...   3000.0000   3000.00  \n",
       "3239 - CT - UFC/FCPC - PARFOR                         449.0000   1865.00  \n",
       "3253 - TC. LG/UFC/FCPC - MOBILE, TOOLS & CAS         4945.8750   5522.30  \n",
       "3255 - CT. ICC/FCPC - ACESSO A RNP                   3100.0000   3100.00  \n",
       "\n",
       "[916 rows x 8 columns]"
      ]
     },
     "execution_count": 55,
     "metadata": {},
     "output_type": "execute_result"
    }
   ],
   "source": [
    "df.groupby(\"projeto\").valor.describe().unstack()"
   ]
  },
  {
   "cell_type": "code",
   "execution_count": null,
   "metadata": {
    "collapsed": true
   },
   "outputs": [],
   "source": []
  }
 ],
 "metadata": {
  "kernelspec": {
   "display_name": "Python 3",
   "language": "python",
   "name": "python3"
  },
  "language_info": {
   "codemirror_mode": {
    "name": "ipython",
    "version": 3
   },
   "file_extension": ".py",
   "mimetype": "text/x-python",
   "name": "python",
   "nbconvert_exporter": "python",
   "pygments_lexer": "ipython3",
   "version": "3.6.0"
  }
 },
 "nbformat": 4,
 "nbformat_minor": 2
}
