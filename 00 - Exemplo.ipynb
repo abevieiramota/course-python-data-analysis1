{
 "cells": [
  {
   "cell_type": "code",
   "execution_count": 2,
   "metadata": {
    "collapsed": true
   },
   "outputs": [],
   "source": [
    "import pandas as pd\n",
    "import numpy as np\n",
    "\n",
    "from matplotlib import pyplot as plt\n",
    "\n",
    "from urllib import request\n",
    "\n",
    "%matplotlib inline"
   ]
  },
  {
   "cell_type": "markdown",
   "metadata": {},
   "source": [
    "# Dataset da FCPC"
   ]
  },
  {
   "cell_type": "markdown",
   "metadata": {},
   "source": [
    "Base de dados de pagamentos a pessoas físicas da Fundação Cearense de Pesquisa e Cultura\n",
    "\n",
    "fonte: http://www.fcpc.ufc.br/AcessoInformacao/PagamentoPessoaFisica"
   ]
  },
  {
   "cell_type": "code",
   "execution_count": 20,
   "metadata": {
    "collapsed": false
   },
   "outputs": [],
   "source": [
    "FILEPATH_FCPC = \"data/fisica.csv\""
   ]
  },
  {
   "cell_type": "markdown",
   "metadata": {},
   "source": [
    "# Contando projetos"
   ]
  },
  {
   "cell_type": "markdown",
   "metadata": {},
   "source": [
    "#### Python puro"
   ]
  },
  {
   "cell_type": "code",
   "execution_count": 21,
   "metadata": {
    "collapsed": false
   },
   "outputs": [
    {
     "data": {
      "text/plain": [
       "['cpf,nome,tipo_pagamento,projeto,data,valor,filename\\n',\n",
       " '***.000.103-**,REGILDA RODRIGUES DE SOUSA,ADIANTAMENTO PARA VIAGENS,2213 - CT - UFC/FCPC - PROJETO PROJOVEM CAMPO,2010-11-22,240.0,2010.csv\\n',\n",
       " '***.000.103-**,REGILDA RODRIGUES DE SOUSA,ADIANTAMENTO PARA VIAGENS,2213 - CT - UFC/FCPC - PROJETO PROJOVEM CAMPO,2010-10-15,180.0,2010.csv\\n',\n",
       " '***.000.103-**,REGILDA RODRIGUES DE SOUSA,ADIANTAMENTO PARA VIAGENS,2213 - CT - UFC/FCPC - PROJETO PROJOVEM CAMPO,2010-08-18,180.0,2010.csv\\n']"
      ]
     },
     "execution_count": 21,
     "metadata": {},
     "output_type": "execute_result"
    }
   ],
   "source": [
    "with open(FILEPATH_FCPC) as f:\n",
    "    \n",
    "    content = f.readlines()\n",
    "    \n",
    "content[:4]"
   ]
  },
  {
   "cell_type": "code",
   "execution_count": 11,
   "metadata": {
    "collapsed": false
   },
   "outputs": [],
   "source": [
    "projetos = [row.split(',')[3] for row in content]"
   ]
  },
  {
   "cell_type": "code",
   "execution_count": 13,
   "metadata": {
    "collapsed": false
   },
   "outputs": [
    {
     "data": {
      "text/plain": [
       "['2213 - CT - UFC/FCPC - PROJETO PROJOVEM CAMPO',\n",
       " '2213 - CT - UFC/FCPC - PROJETO PROJOVEM CAMPO',\n",
       " '2213 - CT - UFC/FCPC - PROJETO PROJOVEM CAMPO']"
      ]
     },
     "execution_count": 13,
     "metadata": {},
     "output_type": "execute_result"
    }
   ],
   "source": [
    "projetos[3:6]"
   ]
  },
  {
   "cell_type": "code",
   "execution_count": 15,
   "metadata": {
    "collapsed": false
   },
   "outputs": [
    {
     "data": {
      "text/plain": [
       "[('2924 - CT - UFC/FCPC - IMPLANTACAO E OFERTA DOS CURSOS DE GRADUACAO DA UAB/UFC 2012',\n",
       "  13068),\n",
       " ('2619 - CT - UFC/FCPC - CURSOS DE GRADUACAO UAB - 5º E 6º SEMESTRES', 5284),\n",
       " ('2390 - CT - UFC/FCPC - OFERTA DOS CURSOS DE GRADUAÇÃO DA UAB 3º E 4º SEMESTRES',\n",
       "  4760),\n",
       " ('2212 - CT - UFC/FCPC -ACOES REFERENTES AO 1º E 2º SEMESTRES', 4720),\n",
       " ('0101 - FCPC', 4591)]"
      ]
     },
     "execution_count": 15,
     "metadata": {},
     "output_type": "execute_result"
    }
   ],
   "source": [
    "from collections import Counter\n",
    "\n",
    "counts = Counter(projetos)\n",
    "\n",
    "counts.most_common(5)"
   ]
  },
  {
   "cell_type": "markdown",
   "metadata": {},
   "source": [
    "#### Pandas"
   ]
  },
  {
   "cell_type": "code",
   "execution_count": 10,
   "metadata": {
    "collapsed": false
   },
   "outputs": [
    {
     "data": {
      "text/html": [
       "<div>\n",
       "<table border=\"1\" class=\"dataframe\">\n",
       "  <thead>\n",
       "    <tr style=\"text-align: right;\">\n",
       "      <th></th>\n",
       "      <th>cpf</th>\n",
       "      <th>nome</th>\n",
       "      <th>tipo_pagamento</th>\n",
       "      <th>projeto</th>\n",
       "      <th>data</th>\n",
       "      <th>valor</th>\n",
       "      <th>filename</th>\n",
       "    </tr>\n",
       "  </thead>\n",
       "  <tbody>\n",
       "    <tr>\n",
       "      <th>0</th>\n",
       "      <td>***.000.103-**</td>\n",
       "      <td>REGILDA RODRIGUES DE SOUSA</td>\n",
       "      <td>ADIANTAMENTO PARA VIAGENS</td>\n",
       "      <td>2213 - CT - UFC/FCPC - PROJETO PROJOVEM CAMPO</td>\n",
       "      <td>2010-11-22</td>\n",
       "      <td>240.0</td>\n",
       "      <td>2010.csv</td>\n",
       "    </tr>\n",
       "    <tr>\n",
       "      <th>1</th>\n",
       "      <td>***.000.103-**</td>\n",
       "      <td>REGILDA RODRIGUES DE SOUSA</td>\n",
       "      <td>ADIANTAMENTO PARA VIAGENS</td>\n",
       "      <td>2213 - CT - UFC/FCPC - PROJETO PROJOVEM CAMPO</td>\n",
       "      <td>2010-10-15</td>\n",
       "      <td>180.0</td>\n",
       "      <td>2010.csv</td>\n",
       "    </tr>\n",
       "    <tr>\n",
       "      <th>2</th>\n",
       "      <td>***.000.103-**</td>\n",
       "      <td>REGILDA RODRIGUES DE SOUSA</td>\n",
       "      <td>ADIANTAMENTO PARA VIAGENS</td>\n",
       "      <td>2213 - CT - UFC/FCPC - PROJETO PROJOVEM CAMPO</td>\n",
       "      <td>2010-08-18</td>\n",
       "      <td>180.0</td>\n",
       "      <td>2010.csv</td>\n",
       "    </tr>\n",
       "  </tbody>\n",
       "</table>\n",
       "</div>"
      ],
      "text/plain": [
       "              cpf                        nome             tipo_pagamento  \\\n",
       "0  ***.000.103-**  REGILDA RODRIGUES DE SOUSA  ADIANTAMENTO PARA VIAGENS   \n",
       "1  ***.000.103-**  REGILDA RODRIGUES DE SOUSA  ADIANTAMENTO PARA VIAGENS   \n",
       "2  ***.000.103-**  REGILDA RODRIGUES DE SOUSA  ADIANTAMENTO PARA VIAGENS   \n",
       "\n",
       "                                         projeto        data  valor  filename  \n",
       "0  2213 - CT - UFC/FCPC - PROJETO PROJOVEM CAMPO  2010-11-22  240.0  2010.csv  \n",
       "1  2213 - CT - UFC/FCPC - PROJETO PROJOVEM CAMPO  2010-10-15  180.0  2010.csv  \n",
       "2  2213 - CT - UFC/FCPC - PROJETO PROJOVEM CAMPO  2010-08-18  180.0  2010.csv  "
      ]
     },
     "execution_count": 10,
     "metadata": {},
     "output_type": "execute_result"
    }
   ],
   "source": [
    "fcpc = pd.read_csv(FILEPATH_FCPC)\n",
    "\n",
    "fcpc.head(3)"
   ]
  },
  {
   "cell_type": "code",
   "execution_count": 16,
   "metadata": {
    "collapsed": false
   },
   "outputs": [
    {
     "data": {
      "text/html": [
       "<div>\n",
       "<table border=\"1\" class=\"dataframe\">\n",
       "  <thead>\n",
       "    <tr style=\"text-align: right;\">\n",
       "      <th></th>\n",
       "      <th>valor</th>\n",
       "    </tr>\n",
       "  </thead>\n",
       "  <tbody>\n",
       "    <tr>\n",
       "      <th>count</th>\n",
       "      <td>126680.000000</td>\n",
       "    </tr>\n",
       "    <tr>\n",
       "      <th>mean</th>\n",
       "      <td>1660.480522</td>\n",
       "    </tr>\n",
       "    <tr>\n",
       "      <th>std</th>\n",
       "      <td>3492.489457</td>\n",
       "    </tr>\n",
       "    <tr>\n",
       "      <th>min</th>\n",
       "      <td>0.000000</td>\n",
       "    </tr>\n",
       "    <tr>\n",
       "      <th>25%</th>\n",
       "      <td>177.000000</td>\n",
       "    </tr>\n",
       "    <tr>\n",
       "      <th>50%</th>\n",
       "      <td>400.000000</td>\n",
       "    </tr>\n",
       "    <tr>\n",
       "      <th>75%</th>\n",
       "      <td>2143.220000</td>\n",
       "    </tr>\n",
       "    <tr>\n",
       "      <th>max</th>\n",
       "      <td>328428.650000</td>\n",
       "    </tr>\n",
       "  </tbody>\n",
       "</table>\n",
       "</div>"
      ],
      "text/plain": [
       "               valor\n",
       "count  126680.000000\n",
       "mean     1660.480522\n",
       "std      3492.489457\n",
       "min         0.000000\n",
       "25%       177.000000\n",
       "50%       400.000000\n",
       "75%      2143.220000\n",
       "max    328428.650000"
      ]
     },
     "execution_count": 16,
     "metadata": {},
     "output_type": "execute_result"
    }
   ],
   "source": [
    "fcpc.describe()"
   ]
  },
  {
   "cell_type": "code",
   "execution_count": 15,
   "metadata": {
    "collapsed": false
   },
   "outputs": [
    {
     "data": {
      "text/html": [
       "<div>\n",
       "<table border=\"1\" class=\"dataframe\">\n",
       "  <thead>\n",
       "    <tr style=\"text-align: right;\">\n",
       "      <th></th>\n",
       "      <th>cpf</th>\n",
       "      <th>nome</th>\n",
       "      <th>tipo_pagamento</th>\n",
       "      <th>projeto</th>\n",
       "      <th>data</th>\n",
       "      <th>filename</th>\n",
       "    </tr>\n",
       "  </thead>\n",
       "  <tbody>\n",
       "    <tr>\n",
       "      <th>count</th>\n",
       "      <td>126680</td>\n",
       "      <td>126680</td>\n",
       "      <td>126680</td>\n",
       "      <td>126679</td>\n",
       "      <td>126680</td>\n",
       "      <td>126680</td>\n",
       "    </tr>\n",
       "    <tr>\n",
       "      <th>unique</th>\n",
       "      <td>16215</td>\n",
       "      <td>17623</td>\n",
       "      <td>12</td>\n",
       "      <td>916</td>\n",
       "      <td>1774</td>\n",
       "      <td>8</td>\n",
       "    </tr>\n",
       "    <tr>\n",
       "      <th>top</th>\n",
       "      <td>***.501.533-**</td>\n",
       "      <td>FRANCISCO RODRIGO PORTO CAVALCANTI</td>\n",
       "      <td>ADIANTAMENTO PARA VIAGENS</td>\n",
       "      <td>2924 - CT - UFC/FCPC - IMPLANTACAO E OFERTA DO...</td>\n",
       "      <td>2015-04-20</td>\n",
       "      <td>2014.csv</td>\n",
       "    </tr>\n",
       "    <tr>\n",
       "      <th>freq</th>\n",
       "      <td>259</td>\n",
       "      <td>259</td>\n",
       "      <td>43521</td>\n",
       "      <td>13068</td>\n",
       "      <td>699</td>\n",
       "      <td>22143</td>\n",
       "    </tr>\n",
       "  </tbody>\n",
       "</table>\n",
       "</div>"
      ],
      "text/plain": [
       "                   cpf                                nome  \\\n",
       "count           126680                              126680   \n",
       "unique           16215                               17623   \n",
       "top     ***.501.533-**  FRANCISCO RODRIGO PORTO CAVALCANTI   \n",
       "freq               259                                 259   \n",
       "\n",
       "                   tipo_pagamento  \\\n",
       "count                      126680   \n",
       "unique                         12   \n",
       "top     ADIANTAMENTO PARA VIAGENS   \n",
       "freq                        43521   \n",
       "\n",
       "                                                  projeto        data  \\\n",
       "count                                              126679      126680   \n",
       "unique                                                916        1774   \n",
       "top     2924 - CT - UFC/FCPC - IMPLANTACAO E OFERTA DO...  2015-04-20   \n",
       "freq                                                13068         699   \n",
       "\n",
       "        filename  \n",
       "count     126680  \n",
       "unique         8  \n",
       "top     2014.csv  \n",
       "freq       22143  "
      ]
     },
     "execution_count": 15,
     "metadata": {},
     "output_type": "execute_result"
    }
   ],
   "source": [
    "fcpc.describe(include = ['O'])"
   ]
  },
  {
   "cell_type": "code",
   "execution_count": 18,
   "metadata": {
    "collapsed": false
   },
   "outputs": [
    {
     "data": {
      "text/plain": [
       "ADIANTAMENTO PARA VIAGENS                   43521\n",
       "SERVIÇO PRESTADO - RPA                      33432\n",
       "FOLHA DE PAGAMENTO - CLT                    25676\n",
       "ADIANTAMENTO PARA DESPESAS                  15570\n",
       "BOLSA                                        5401\n",
       "DIÁRIAS                                      1917\n",
       "SERVIÇOS DE TERCEIROS - PESSOA FÍSICA         570\n",
       "RESSARCIMENTO DE DESPESA                      560\n",
       "ADIANTAMENTOS                                  18\n",
       "RECURSOS HUMANOS                               11\n",
       "DEVOLUÇÃO                                       2\n",
       "RESSARCIMENTO de DESPESA [ressarcimento]        2\n",
       "Name: tipo_pagamento, dtype: int64"
      ]
     },
     "execution_count": 18,
     "metadata": {},
     "output_type": "execute_result"
    }
   ],
   "source": [
    "fcpc.tipo_pagamento.value_counts()"
   ]
  },
  {
   "cell_type": "code",
   "execution_count": 71,
   "metadata": {
    "collapsed": false
   },
   "outputs": [
    {
     "data": {
      "text/plain": [
       "2924 - CT - UFC/FCPC - IMPLANTACAO E OFERTA DOS CURSOS DE GRADUACAO DA UAB/UFC 2012    13068\n",
       "2619 - CT - UFC/FCPC - CURSOS DE GRADUACAO UAB - 5º E 6º SEMESTRES                      5284\n",
       "2390 - CT - UFC/FCPC - OFERTA DOS CURSOS DE GRADUAÇÃO DA UAB 3º E 4º SEMESTRES          4760\n",
       "2212 - CT - UFC/FCPC -ACOES REFERENTES AO 1º E 2º SEMESTRES                             4720\n",
       "0101 - FCPC                                                                             4591\n",
       "Name: projeto, dtype: int64"
      ]
     },
     "execution_count": 71,
     "metadata": {},
     "output_type": "execute_result"
    }
   ],
   "source": [
    "largest_projetos = fcpc.projeto.value_counts().nlargest(5)\n",
    "largest_projetos"
   ]
  },
  {
   "cell_type": "code",
   "execution_count": 72,
   "metadata": {
    "collapsed": false
   },
   "outputs": [
    {
     "data": {
      "text/plain": [
       "<matplotlib.axes._subplots.AxesSubplot at 0x7fcc9ca4f7f0>"
      ]
     },
     "execution_count": 72,
     "metadata": {},
     "output_type": "execute_result"
    },
    {
     "data": {
      "image/png": "[encoded data removed]",
      "text/plain": [
       "<matplotlib.figure.Figure at 0x7fcc9ca34390>"
      ]
     },
     "metadata": {},
     "output_type": "display_data"
    }
   ],
   "source": [
    "largest_projetos.plot(kind='barh')"
   ]
  },
  {
   "cell_type": "code",
   "execution_count": 87,
   "metadata": {
    "collapsed": false
   },
   "outputs": [
    {
     "data": {
      "text/plain": [
       "<matplotlib.axes._subplots.AxesSubplot at 0x7fcc9ff53fd0>"
      ]
     },
     "execution_count": 87,
     "metadata": {},
     "output_type": "execute_result"
    },
    {
     "data": {
      "image/png": "[encoded data removed]",
      "text/plain": [
       "<matplotlib.figure.Figure at 0x7fcca0168198>"
      ]
     },
     "metadata": {},
     "output_type": "display_data"
    }
   ],
   "source": [
    "fcpc[fcpc.projeto.isin(largest_projetos.index)].groupby(['projeto', 'tipo_pagamento']).size().unstack()\\\n",
    ".plot(kind = 'barh', stacked = True, figsize = (8, 8))"
   ]
  },
  {
   "cell_type": "code",
   "execution_count": 104,
   "metadata": {
    "collapsed": false
   },
   "outputs": [
    {
     "data": {
      "text/plain": [
       "<matplotlib.legend.Legend at 0x7fcc9ffa3748>"
      ]
     },
     "execution_count": 104,
     "metadata": {},
     "output_type": "execute_result"
    },
    {
     "data": {
      "image/png": "[encoded data removed]",
      "text/plain": [
       "<matplotlib.figure.Figure at 0x7fcc9364ad30>"
      ]
     },
     "metadata": {},
     "output_type": "display_data"
    }
   ],
   "source": [
    "count_subset = fcpc[fcpc.projeto.isin(largest_projetos.index)].groupby(['projeto', 'tipo_pagamento']).size().unstack()\n",
    "normed_subset = count_subset.div(count_subset.sum(axis = 1), axis = 0)\n",
    "\n",
    "normed_subset.plot(kind = 'barh', stacked = True, figsize = (8, 8))\n",
    "\n",
    "plt.legend(bbox_to_anchor = (-1., 1.02, 2., .102), ncol = 3, mode = \"expand\", loc = 3)"
   ]
  },
  {
   "cell_type": "markdown",
   "metadata": {},
   "source": [
    "# Dataset de servidores da UFC"
   ]
  },
  {
   "cell_type": "markdown",
   "metadata": {},
   "source": [
    "Dataset gerado a partir dos dados de cadastro e de remuneração de servidores públicos federais, de fevereirod de 2017.\n",
    "\n",
    "Fonte: http://portaldatransparencia.gov.br/downloads/servidores.asp\n",
    "\n",
    "Consulta por servidor: http://portaldatransparencia.gov.br/servidores/Servidor-ListaServidores.asp"
   ]
  },
  {
   "cell_type": "code",
   "execution_count": 82,
   "metadata": {
    "collapsed": true
   },
   "outputs": [],
   "source": [
    "FILEPATH_UFC = \"data/remuneracao_ufc_20170228\""
   ]
  },
  {
   "cell_type": "code",
   "execution_count": 83,
   "metadata": {
    "collapsed": true
   },
   "outputs": [],
   "source": [
    "ufc = pd.read_csv(FILEPATH_UFC, decimal=\",\")"
   ]
  },
  {
   "cell_type": "code",
   "execution_count": 84,
   "metadata": {
    "collapsed": false
   },
   "outputs": [
    {
     "data": {
      "text/html": [
       "<div>\n",
       "<table border=\"1\" class=\"dataframe\">\n",
       "  <thead>\n",
       "    <tr style=\"text-align: right;\">\n",
       "      <th></th>\n",
       "      <th>2325</th>\n",
       "    </tr>\n",
       "  </thead>\n",
       "  <tbody>\n",
       "    <tr>\n",
       "      <th>cargo</th>\n",
       "      <td>ANALISTA DE TEC DA INFORMACAO</td>\n",
       "    </tr>\n",
       "    <tr>\n",
       "      <th>funcao</th>\n",
       "      <td>NaN</td>\n",
       "    </tr>\n",
       "    <tr>\n",
       "      <th>uorg_lotacao</th>\n",
       "      <td>DIVISAO DE SISTEMAS DE INFORMACAO</td>\n",
       "    </tr>\n",
       "    <tr>\n",
       "      <th>uorg_exercicio</th>\n",
       "      <td>DIVISAO DE SISTEMAS DE INFORMACAO</td>\n",
       "    </tr>\n",
       "    <tr>\n",
       "      <th>org_lotacao</th>\n",
       "      <td>UNIVERSIDADE FEDERAL DO CEARA</td>\n",
       "    </tr>\n",
       "    <tr>\n",
       "      <th>org_exercicio</th>\n",
       "      <td>UNIVERSIDADE FEDERAL DO CEARA</td>\n",
       "    </tr>\n",
       "    <tr>\n",
       "      <th>jornada</th>\n",
       "      <td>40 HORAS SEMANAIS</td>\n",
       "    </tr>\n",
       "    <tr>\n",
       "      <th>remuneracao_basica_bruta</th>\n",
       "      <td>4513.12</td>\n",
       "    </tr>\n",
       "    <tr>\n",
       "      <th>remuneracao_pos_deducao</th>\n",
       "      <td>3749.06</td>\n",
       "    </tr>\n",
       "    <tr>\n",
       "      <th>nome</th>\n",
       "      <td>ABELARDO VIEIRA MOTA</td>\n",
       "    </tr>\n",
       "  </tbody>\n",
       "</table>\n",
       "</div>"
      ],
      "text/plain": [
       "                                                       2325\n",
       "cargo                         ANALISTA DE TEC DA INFORMACAO\n",
       "funcao                                                  NaN\n",
       "uorg_lotacao              DIVISAO DE SISTEMAS DE INFORMACAO\n",
       "uorg_exercicio            DIVISAO DE SISTEMAS DE INFORMACAO\n",
       "org_lotacao                   UNIVERSIDADE FEDERAL DO CEARA\n",
       "org_exercicio                 UNIVERSIDADE FEDERAL DO CEARA\n",
       "jornada                                   40 HORAS SEMANAIS\n",
       "remuneracao_basica_bruta                            4513.12\n",
       "remuneracao_pos_deducao                             3749.06\n",
       "nome                                   ABELARDO VIEIRA MOTA"
      ]
     },
     "execution_count": 84,
     "metadata": {},
     "output_type": "execute_result"
    }
   ],
   "source": [
    "ufc[ufc.nome == 'ABELARDO VIEIRA MOTA'].T"
   ]
  },
  {
   "cell_type": "code",
   "execution_count": 88,
   "metadata": {
    "collapsed": true
   },
   "outputs": [],
   "source": [
    "# mantenho apenas um vínculo por servidor\n",
    "ufc = ufc.drop_duplicates(\"nome\")"
   ]
  },
  {
   "cell_type": "code",
   "execution_count": 89,
   "metadata": {
    "collapsed": false
   },
   "outputs": [
    {
     "data": {
      "text/html": [
       "<div>\n",
       "<table border=\"1\" class=\"dataframe\">\n",
       "  <thead>\n",
       "    <tr style=\"text-align: right;\">\n",
       "      <th></th>\n",
       "      <th>cargo</th>\n",
       "      <th>funcao</th>\n",
       "      <th>uorg_lotacao</th>\n",
       "      <th>uorg_exercicio</th>\n",
       "      <th>org_lotacao</th>\n",
       "      <th>org_exercicio</th>\n",
       "      <th>jornada</th>\n",
       "      <th>remuneracao_basica_bruta</th>\n",
       "      <th>remuneracao_pos_deducao</th>\n",
       "      <th>nome</th>\n",
       "    </tr>\n",
       "  </thead>\n",
       "  <tbody>\n",
       "    <tr>\n",
       "      <th>1972</th>\n",
       "      <td>PROFESSOR DO MAGISTERIO SUPERIOR</td>\n",
       "      <td>NaN</td>\n",
       "      <td>DEPARTAMENTO DE TEORIA E PRAT DO ENSINO</td>\n",
       "      <td>DEPARTAMENTO DE TEORIA E PRAT DO ENSINO</td>\n",
       "      <td>UNIVERSIDADE FEDERAL DO CEARA</td>\n",
       "      <td>UNIVERSIDADE FEDERAL DO CEARA</td>\n",
       "      <td>DEDICACAO EXCLUSIVA</td>\n",
       "      <td>44341.22</td>\n",
       "      <td>24179.12</td>\n",
       "      <td>LUIZ BOTELHO ALBUQUERQUE</td>\n",
       "    </tr>\n",
       "    <tr>\n",
       "      <th>6438</th>\n",
       "      <td>PROFESSOR DO MAGISTERIO SUPERIOR</td>\n",
       "      <td>NaN</td>\n",
       "      <td>NaN</td>\n",
       "      <td>GABINETE DO REITOR</td>\n",
       "      <td>UNIVERSIDADE FEDERAL DO CEARA</td>\n",
       "      <td>UNIVERSIDADE FEDERAL DO CEARA</td>\n",
       "      <td>DEDICACAO EXCLUSIVA</td>\n",
       "      <td>43824.33</td>\n",
       "      <td>30163.89</td>\n",
       "      <td>SEBASTIAO CARNEIRO DE ALMEIDA</td>\n",
       "    </tr>\n",
       "    <tr>\n",
       "      <th>2031</th>\n",
       "      <td>MEDICO-AREA</td>\n",
       "      <td>NaN</td>\n",
       "      <td>NaN</td>\n",
       "      <td>DIRETORIA ADMINISTRATIVA/HUWC</td>\n",
       "      <td>UNIVERSIDADE FEDERAL DO CEARA</td>\n",
       "      <td>UNIVERSIDADE FEDERAL DO CEARA</td>\n",
       "      <td>20 HORAS SEMANAIS</td>\n",
       "      <td>43535.89</td>\n",
       "      <td>25327.54</td>\n",
       "      <td>HENRY DE HOLANDA CAMPOS</td>\n",
       "    </tr>\n",
       "    <tr>\n",
       "      <th>4688</th>\n",
       "      <td>NaN</td>\n",
       "      <td>FUNCAO GRATIFICADA</td>\n",
       "      <td>MATERNIDADE ESCOLA ASSIS CHATEAUBRIAND</td>\n",
       "      <td>NaN</td>\n",
       "      <td>UNIVERSIDADE FEDERAL DO CEARA</td>\n",
       "      <td>EMPRESA BRAS. DE SERVICOS HOSPITALARES</td>\n",
       "      <td>40 HORAS SEMANAIS</td>\n",
       "      <td>42643.56</td>\n",
       "      <td>23203.95</td>\n",
       "      <td>CARLOS AUGUSTO ALENCAR JUNIOR</td>\n",
       "    </tr>\n",
       "    <tr>\n",
       "      <th>1923</th>\n",
       "      <td>PROFESSOR DO MAGISTERIO SUPERIOR</td>\n",
       "      <td>NaN</td>\n",
       "      <td>NaN</td>\n",
       "      <td>COORDENADORIA DE ADM DE PESSOAL</td>\n",
       "      <td>UNIVERSIDADE FEDERAL DO CEARA</td>\n",
       "      <td>UNIVERSIDADE FEDERAL DO CEARA</td>\n",
       "      <td>DEDICACAO EXCLUSIVA</td>\n",
       "      <td>40946.95</td>\n",
       "      <td>23730.87</td>\n",
       "      <td>BOANERGES FREIRE DE AQUINO</td>\n",
       "    </tr>\n",
       "  </tbody>\n",
       "</table>\n",
       "</div>"
      ],
      "text/plain": [
       "                                 cargo              funcao  \\\n",
       "1972  PROFESSOR DO MAGISTERIO SUPERIOR                 NaN   \n",
       "6438  PROFESSOR DO MAGISTERIO SUPERIOR                 NaN   \n",
       "2031                       MEDICO-AREA                 NaN   \n",
       "4688                               NaN  FUNCAO GRATIFICADA   \n",
       "1923  PROFESSOR DO MAGISTERIO SUPERIOR                 NaN   \n",
       "\n",
       "                                 uorg_lotacao  \\\n",
       "1972  DEPARTAMENTO DE TEORIA E PRAT DO ENSINO   \n",
       "6438                                      NaN   \n",
       "2031                                      NaN   \n",
       "4688   MATERNIDADE ESCOLA ASSIS CHATEAUBRIAND   \n",
       "1923                                      NaN   \n",
       "\n",
       "                               uorg_exercicio                    org_lotacao  \\\n",
       "1972  DEPARTAMENTO DE TEORIA E PRAT DO ENSINO  UNIVERSIDADE FEDERAL DO CEARA   \n",
       "6438                       GABINETE DO REITOR  UNIVERSIDADE FEDERAL DO CEARA   \n",
       "2031            DIRETORIA ADMINISTRATIVA/HUWC  UNIVERSIDADE FEDERAL DO CEARA   \n",
       "4688                                      NaN  UNIVERSIDADE FEDERAL DO CEARA   \n",
       "1923          COORDENADORIA DE ADM DE PESSOAL  UNIVERSIDADE FEDERAL DO CEARA   \n",
       "\n",
       "                               org_exercicio              jornada  \\\n",
       "1972           UNIVERSIDADE FEDERAL DO CEARA  DEDICACAO EXCLUSIVA   \n",
       "6438           UNIVERSIDADE FEDERAL DO CEARA  DEDICACAO EXCLUSIVA   \n",
       "2031           UNIVERSIDADE FEDERAL DO CEARA    20 HORAS SEMANAIS   \n",
       "4688  EMPRESA BRAS. DE SERVICOS HOSPITALARES    40 HORAS SEMANAIS   \n",
       "1923           UNIVERSIDADE FEDERAL DO CEARA  DEDICACAO EXCLUSIVA   \n",
       "\n",
       "      remuneracao_basica_bruta  remuneracao_pos_deducao  \\\n",
       "1972                  44341.22                 24179.12   \n",
       "6438                  43824.33                 30163.89   \n",
       "2031                  43535.89                 25327.54   \n",
       "4688                  42643.56                 23203.95   \n",
       "1923                  40946.95                 23730.87   \n",
       "\n",
       "                               nome  \n",
       "1972       LUIZ BOTELHO ALBUQUERQUE  \n",
       "6438  SEBASTIAO CARNEIRO DE ALMEIDA  \n",
       "2031        HENRY DE HOLANDA CAMPOS  \n",
       "4688  CARLOS AUGUSTO ALENCAR JUNIOR  \n",
       "1923     BOANERGES FREIRE DE AQUINO  "
      ]
     },
     "execution_count": 89,
     "metadata": {},
     "output_type": "execute_result"
    }
   ],
   "source": [
    "ufc.nlargest(5, \"remuneracao_basica_bruta\", keep=\"first\")"
   ]
  },
  {
   "cell_type": "code",
   "execution_count": 99,
   "metadata": {
    "collapsed": false
   },
   "outputs": [
    {
     "data": {
      "text/plain": [
       "<matplotlib.axes._subplots.AxesSubplot at 0x7fb4e61c20b8>"
      ]
     },
     "execution_count": 99,
     "metadata": {},
     "output_type": "execute_result"
    },
    {
     "data": {
      "image/png": "[encoded data removed]",
      "text/plain": [
       "<matplotlib.figure.Figure at 0x7fb4e619dc88>"
      ]
     },
     "metadata": {},
     "output_type": "display_data"
    }
   ],
   "source": [
    "ufc.uorg_lotacao.value_counts().nlargest(10).plot(kind='barh')"
   ]
  },
  {
   "cell_type": "code",
   "execution_count": 101,
   "metadata": {
    "collapsed": false
   },
   "outputs": [
    {
     "data": {
      "text/plain": [
       "<matplotlib.axes._subplots.AxesSubplot at 0x7fb4e5d76550>"
      ]
     },
     "execution_count": 101,
     "metadata": {},
     "output_type": "execute_result"
    },
    {
     "data": {
      "image/png": "[encoded data removed]",
      "text/plain": [
       "<matplotlib.figure.Figure at 0x7fb4e61c7588>"
      ]
     },
     "metadata": {},
     "output_type": "display_data"
    }
   ],
   "source": [
    "ufc.groupby(\"uorg_exercicio\").remuneracao_basica_bruta.mean().nlargest(10).plot(kind='barh')"
   ]
  },
  {
   "cell_type": "code",
   "execution_count": 103,
   "metadata": {
    "collapsed": false
   },
   "outputs": [
    {
     "data": {
      "text/plain": [
       "<matplotlib.axes._subplots.AxesSubplot at 0x7fb4e2aef898>"
      ]
     },
     "execution_count": 103,
     "metadata": {},
     "output_type": "execute_result"
    },
    {
     "data": {
      "image/png": "[encoded data removed]",
      "text/plain": [
       "<matplotlib.figure.Figure at 0x7fb4ddd06860>"
      ]
     },
     "metadata": {},
     "output_type": "display_data"
    }
   ],
   "source": [
    "ufc.groupby(\"uorg_exercicio\").remuneracao_basica_bruta.apply(lambda g: g.max() - g.min()).nlargest(10).plot(kind='barh')"
   ]
  },
  {
   "cell_type": "code",
   "execution_count": 91,
   "metadata": {
    "collapsed": true
   },
   "outputs": [],
   "source": [
    "df = pd.merge(ufc, fcpc, left_on=\"nome\", right_on=\"nome\")"
   ]
  },
  {
   "cell_type": "code",
   "execution_count": 92,
   "metadata": {
    "collapsed": false
   },
   "outputs": [
    {
     "data": {
      "text/plain": [
       "(14585, 16)"
      ]
     },
     "execution_count": 92,
     "metadata": {},
     "output_type": "execute_result"
    }
   ],
   "source": [
    "df.shape"
   ]
  },
  {
   "cell_type": "code",
   "execution_count": 96,
   "metadata": {
    "collapsed": false
   },
   "outputs": [
    {
     "data": {
      "text/plain": [
       "nome\n",
       "JAVAM DE CASTRO MACHADO               802283.12\n",
       "LUIZ ROBERTO DE OLIVEIRA              665245.29\n",
       "FRANCISCO RODRIGO PORTO CAVALCANTI    606908.99\n",
       "ROSSANA MARIA DE CASTRO ANDRADE       594043.50\n",
       "HELANO DE SOUSA CASTRO                579292.22\n",
       "LUIS PARENTE MAIA                     563431.94\n",
       "RICARDO JARDEL NUNES DA SILVEIRA      511934.98\n",
       "ANTONIO SERGIO BEZERRA SOMBRA         465700.00\n",
       "PAULO CESAR CORTEZ                    440370.45\n",
       "JOSE GILVAN RODRIGUES MAIA            430281.30\n",
       "Name: valor, dtype: float64"
      ]
     },
     "execution_count": 96,
     "metadata": {},
     "output_type": "execute_result"
    }
   ],
   "source": [
    "df.groupby(\"nome\").valor.sum().nlargest(10)"
   ]
  },
  {
   "cell_type": "code",
   "execution_count": 97,
   "metadata": {
    "collapsed": false
   },
   "outputs": [
    {
     "data": {
      "text/plain": [
       "nome\n",
       "FRANCISCO DANIEL COUTINHO MEDEIROS     235811.94\n",
       "DANILO LEAL MACIEL                     196145.22\n",
       "DEBORA CUNHA DE SOUSA                   29199.62\n",
       "MANOEL FIUZA LIMA JUNIOR                27146.67\n",
       "MARCIO ROBERTT DE ANCHIETA LOUREIRO     21505.90\n",
       "FABIANO JOSE GADELHA DE FREITAS         18054.96\n",
       "LUIS CESAR MARQUES DE VASCONCELOS        6596.00\n",
       "SILVIO ROBERTO MARTINS AMARANTE          6596.00\n",
       "TIAGO MALVEIRA CAVALCANTE                4916.54\n",
       "GABRIEL BRITO DOS SANTOS                 4593.91\n",
       "Name: valor, dtype: float64"
      ]
     },
     "execution_count": 97,
     "metadata": {},
     "output_type": "execute_result"
    }
   ],
   "source": [
    "df[df.uorg_lotacao == 'DIVISAO DE SISTEMAS DE INFORMACAO'].groupby(\"nome\").valor.sum().nlargest(10)"
   ]
  },
  {
   "cell_type": "code",
   "execution_count": null,
   "metadata": {
    "collapsed": true
   },
   "outputs": [],
   "source": []
  },
  {
   "cell_type": "code",
   "execution_count": null,
   "metadata": {
    "collapsed": true
   },
   "outputs": [],
   "source": []
  },
  {
   "cell_type": "code",
   "execution_count": null,
   "metadata": {
    "collapsed": true
   },
   "outputs": [],
   "source": []
  },
  {
   "cell_type": "code",
   "execution_count": null,
   "metadata": {
    "collapsed": true
   },
   "outputs": [],
   "source": []
  },
  {
   "cell_type": "code",
   "execution_count": null,
   "metadata": {
    "collapsed": true
   },
   "outputs": [],
   "source": []
  },
  {
   "cell_type": "code",
   "execution_count": null,
   "metadata": {
    "collapsed": true
   },
   "outputs": [],
   "source": []
  },
  {
   "cell_type": "markdown",
   "metadata": {},
   "source": [
    "# Missing values"
   ]
  },
  {
   "cell_type": "markdown",
   "metadata": {},
   "source": [
    "#### pesquisando"
   ]
  },
  {
   "cell_type": "code",
   "execution_count": 66,
   "metadata": {
    "collapsed": false
   },
   "outputs": [
    {
     "data": {
      "text/html": [
       "<div>\n",
       "<table border=\"1\" class=\"dataframe\">\n",
       "  <thead>\n",
       "    <tr style=\"text-align: right;\">\n",
       "      <th></th>\n",
       "      <th>cpf</th>\n",
       "      <th>nome</th>\n",
       "      <th>tipo_pagamento</th>\n",
       "      <th>projeto</th>\n",
       "      <th>data</th>\n",
       "      <th>valor</th>\n",
       "      <th>filename</th>\n",
       "    </tr>\n",
       "  </thead>\n",
       "  <tbody>\n",
       "    <tr>\n",
       "      <th>112866</th>\n",
       "      <td>***.991.143-**</td>\n",
       "      <td>TEREZINHA FREIRE DE FRANCA</td>\n",
       "      <td>FOLHA DE PAGAMENTO - CLT</td>\n",
       "      <td>NaN</td>\n",
       "      <td>2015-08-20</td>\n",
       "      <td>485.09</td>\n",
       "      <td>2015.csv</td>\n",
       "    </tr>\n",
       "  </tbody>\n",
       "</table>\n",
       "</div>"
      ],
      "text/plain": [
       "                   cpf                        nome            tipo_pagamento  \\\n",
       "112866  ***.991.143-**  TEREZINHA FREIRE DE FRANCA  FOLHA DE PAGAMENTO - CLT   \n",
       "\n",
       "       projeto        data   valor  filename  \n",
       "112866     NaN  2015-08-20  485.09  2015.csv  "
      ]
     },
     "execution_count": 66,
     "metadata": {},
     "output_type": "execute_result"
    }
   ],
   "source": [
    "df[df.isnull().any(axis = 1)]"
   ]
  },
  {
   "cell_type": "markdown",
   "metadata": {},
   "source": [
    "#### preenchendo"
   ]
  },
  {
   "cell_type": "code",
   "execution_count": 67,
   "metadata": {
    "collapsed": false
   },
   "outputs": [
    {
     "data": {
      "text/html": [
       "<div>\n",
       "<table border=\"1\" class=\"dataframe\">\n",
       "  <thead>\n",
       "    <tr style=\"text-align: right;\">\n",
       "      <th></th>\n",
       "      <th>cpf</th>\n",
       "      <th>nome</th>\n",
       "      <th>tipo_pagamento</th>\n",
       "      <th>projeto</th>\n",
       "      <th>data</th>\n",
       "      <th>valor</th>\n",
       "      <th>filename</th>\n",
       "    </tr>\n",
       "  </thead>\n",
       "  <tbody>\n",
       "    <tr>\n",
       "      <th>112866</th>\n",
       "      <td>***.991.143-**</td>\n",
       "      <td>TEREZINHA FREIRE DE FRANCA</td>\n",
       "      <td>FOLHA DE PAGAMENTO - CLT</td>\n",
       "      <td>projeto não preenchido</td>\n",
       "      <td>2015-08-20</td>\n",
       "      <td>485.09</td>\n",
       "      <td>2015.csv</td>\n",
       "    </tr>\n",
       "  </tbody>\n",
       "</table>\n",
       "</div>"
      ],
      "text/plain": [
       "                   cpf                        nome            tipo_pagamento  \\\n",
       "112866  ***.991.143-**  TEREZINHA FREIRE DE FRANCA  FOLHA DE PAGAMENTO - CLT   \n",
       "\n",
       "                       projeto        data   valor  filename  \n",
       "112866  projeto não preenchido  2015-08-20  485.09  2015.csv  "
      ]
     },
     "execution_count": 67,
     "metadata": {},
     "output_type": "execute_result"
    }
   ],
   "source": [
    "df[df.isnull().any(axis = 1)].fillna(\"projeto não preenchido\")\n",
    "# não é inplace"
   ]
  },
  {
   "cell_type": "markdown",
   "metadata": {},
   "source": [
    "# Agrupamentos e pivoteamento"
   ]
  },
  {
   "cell_type": "code",
   "execution_count": 70,
   "metadata": {
    "collapsed": false
   },
   "outputs": [
    {
     "data": {
      "text/html": [
       "<div>\n",
       "<table border=\"1\" class=\"dataframe\">\n",
       "  <thead>\n",
       "    <tr style=\"text-align: right;\">\n",
       "      <th>tipo_pagamento</th>\n",
       "      <th>ADIANTAMENTO PARA DESPESAS</th>\n",
       "      <th>ADIANTAMENTO PARA VIAGENS</th>\n",
       "      <th>ADIANTAMENTOS</th>\n",
       "      <th>BOLSA</th>\n",
       "      <th>DEVOLUÇÃO</th>\n",
       "      <th>DIÁRIAS</th>\n",
       "      <th>FOLHA DE PAGAMENTO - CLT</th>\n",
       "      <th>RECURSOS HUMANOS</th>\n",
       "      <th>RESSARCIMENTO DE DESPESA</th>\n",
       "      <th>RESSARCIMENTO de DESPESA [ressarcimento]</th>\n",
       "      <th>SERVIÇO PRESTADO - RPA</th>\n",
       "      <th>SERVIÇOS DE TERCEIROS - PESSOA FÍSICA</th>\n",
       "    </tr>\n",
       "    <tr>\n",
       "      <th>projeto</th>\n",
       "      <th></th>\n",
       "      <th></th>\n",
       "      <th></th>\n",
       "      <th></th>\n",
       "      <th></th>\n",
       "      <th></th>\n",
       "      <th></th>\n",
       "      <th></th>\n",
       "      <th></th>\n",
       "      <th></th>\n",
       "      <th></th>\n",
       "      <th></th>\n",
       "    </tr>\n",
       "  </thead>\n",
       "  <tbody>\n",
       "    <tr>\n",
       "      <th>0101 - FCPC</th>\n",
       "      <td>140.0</td>\n",
       "      <td>131.0</td>\n",
       "      <td>8.0</td>\n",
       "      <td>0.0</td>\n",
       "      <td>0.0</td>\n",
       "      <td>50.0</td>\n",
       "      <td>3430.0</td>\n",
       "      <td>0.0</td>\n",
       "      <td>51.0</td>\n",
       "      <td>1.0</td>\n",
       "      <td>762.0</td>\n",
       "      <td>18.0</td>\n",
       "    </tr>\n",
       "    <tr>\n",
       "      <th>0104 - FCPC - 124.176-1 - ENCARGOS</th>\n",
       "      <td>0.0</td>\n",
       "      <td>0.0</td>\n",
       "      <td>0.0</td>\n",
       "      <td>0.0</td>\n",
       "      <td>0.0</td>\n",
       "      <td>0.0</td>\n",
       "      <td>0.0</td>\n",
       "      <td>0.0</td>\n",
       "      <td>0.0</td>\n",
       "      <td>0.0</td>\n",
       "      <td>12.0</td>\n",
       "      <td>0.0</td>\n",
       "    </tr>\n",
       "    <tr>\n",
       "      <th>1016 - CARTA -  UFC/FCPC RADIO UNIVERSITARIA FM</th>\n",
       "      <td>0.0</td>\n",
       "      <td>0.0</td>\n",
       "      <td>0.0</td>\n",
       "      <td>0.0</td>\n",
       "      <td>0.0</td>\n",
       "      <td>0.0</td>\n",
       "      <td>4.0</td>\n",
       "      <td>0.0</td>\n",
       "      <td>0.0</td>\n",
       "      <td>0.0</td>\n",
       "      <td>0.0</td>\n",
       "      <td>0.0</td>\n",
       "    </tr>\n",
       "  </tbody>\n",
       "</table>\n",
       "</div>"
      ],
      "text/plain": [
       "tipo_pagamento                                   ADIANTAMENTO PARA DESPESAS  \\\n",
       "projeto                                                                       \n",
       "0101 - FCPC                                                           140.0   \n",
       "0104 - FCPC - 124.176-1 - ENCARGOS                                      0.0   \n",
       "1016 - CARTA -  UFC/FCPC RADIO UNIVERSITARIA FM                         0.0   \n",
       "\n",
       "tipo_pagamento                                   ADIANTAMENTO PARA VIAGENS  \\\n",
       "projeto                                                                      \n",
       "0101 - FCPC                                                          131.0   \n",
       "0104 - FCPC - 124.176-1 - ENCARGOS                                     0.0   \n",
       "1016 - CARTA -  UFC/FCPC RADIO UNIVERSITARIA FM                        0.0   \n",
       "\n",
       "tipo_pagamento                                   ADIANTAMENTOS  BOLSA  \\\n",
       "projeto                                                                 \n",
       "0101 - FCPC                                                8.0    0.0   \n",
       "0104 - FCPC - 124.176-1 - ENCARGOS                         0.0    0.0   \n",
       "1016 - CARTA -  UFC/FCPC RADIO UNIVERSITARIA FM            0.0    0.0   \n",
       "\n",
       "tipo_pagamento                                   DEVOLUÇÃO  DIÁRIAS  \\\n",
       "projeto                                                               \n",
       "0101 - FCPC                                            0.0     50.0   \n",
       "0104 - FCPC - 124.176-1 - ENCARGOS                     0.0      0.0   \n",
       "1016 - CARTA -  UFC/FCPC RADIO UNIVERSITARIA FM        0.0      0.0   \n",
       "\n",
       "tipo_pagamento                                   FOLHA DE PAGAMENTO - CLT  \\\n",
       "projeto                                                                     \n",
       "0101 - FCPC                                                        3430.0   \n",
       "0104 - FCPC - 124.176-1 - ENCARGOS                                    0.0   \n",
       "1016 - CARTA -  UFC/FCPC RADIO UNIVERSITARIA FM                       4.0   \n",
       "\n",
       "tipo_pagamento                                   RECURSOS HUMANOS  \\\n",
       "projeto                                                             \n",
       "0101 - FCPC                                                   0.0   \n",
       "0104 - FCPC - 124.176-1 - ENCARGOS                            0.0   \n",
       "1016 - CARTA -  UFC/FCPC RADIO UNIVERSITARIA FM               0.0   \n",
       "\n",
       "tipo_pagamento                                   RESSARCIMENTO DE DESPESA  \\\n",
       "projeto                                                                     \n",
       "0101 - FCPC                                                          51.0   \n",
       "0104 - FCPC - 124.176-1 - ENCARGOS                                    0.0   \n",
       "1016 - CARTA -  UFC/FCPC RADIO UNIVERSITARIA FM                       0.0   \n",
       "\n",
       "tipo_pagamento                                   RESSARCIMENTO de DESPESA [ressarcimento]  \\\n",
       "projeto                                                                                     \n",
       "0101 - FCPC                                                                           1.0   \n",
       "0104 - FCPC - 124.176-1 - ENCARGOS                                                    0.0   \n",
       "1016 - CARTA -  UFC/FCPC RADIO UNIVERSITARIA FM                                       0.0   \n",
       "\n",
       "tipo_pagamento                                   SERVIÇO PRESTADO - RPA  \\\n",
       "projeto                                                                   \n",
       "0101 - FCPC                                                       762.0   \n",
       "0104 - FCPC - 124.176-1 - ENCARGOS                                 12.0   \n",
       "1016 - CARTA -  UFC/FCPC RADIO UNIVERSITARIA FM                     0.0   \n",
       "\n",
       "tipo_pagamento                                   SERVIÇOS DE TERCEIROS - PESSOA FÍSICA  \n",
       "projeto                                                                                 \n",
       "0101 - FCPC                                                                       18.0  \n",
       "0104 - FCPC - 124.176-1 - ENCARGOS                                                 0.0  \n",
       "1016 - CARTA -  UFC/FCPC RADIO UNIVERSITARIA FM                                    0.0  "
      ]
     },
     "execution_count": 70,
     "metadata": {},
     "output_type": "execute_result"
    }
   ],
   "source": [
    "df.groupby(['projeto', 'tipo_pagamento']).size().unstack().fillna(0).head(3)"
   ]
  },
  {
   "cell_type": "code",
   "execution_count": null,
   "metadata": {
    "collapsed": true
   },
   "outputs": [],
   "source": [
    "df."
   ]
  },
  {
   "cell_type": "code",
   "execution_count": null,
   "metadata": {
    "collapsed": true
   },
   "outputs": [],
   "source": []
  },
  {
   "cell_type": "code",
   "execution_count": null,
   "metadata": {
    "collapsed": true
   },
   "outputs": [],
   "source": []
  },
  {
   "cell_type": "code",
   "execution_count": null,
   "metadata": {
    "collapsed": true
   },
   "outputs": [],
   "source": []
  },
  {
   "cell_type": "code",
   "execution_count": null,
   "metadata": {
    "collapsed": true
   },
   "outputs": [],
   "source": []
  },
  {
   "cell_type": "code",
   "execution_count": null,
   "metadata": {
    "collapsed": true
   },
   "outputs": [],
   "source": []
  }
 ],
 "metadata": {
  "kernelspec": {
   "display_name": "Python 3",
   "language": "python",
   "name": "python3"
  },
  "language_info": {
   "codemirror_mode": {
    "name": "ipython",
    "version": 3
   },
   "file_extension": ".py",
   "mimetype": "text/x-python",
   "name": "python",
   "nbconvert_exporter": "python",
   "pygments_lexer": "ipython3",
   "version": "3.6.0"
  }
 },
 "nbformat": 4,
 "nbformat_minor": 2
}
