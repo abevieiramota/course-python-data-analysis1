{
 "cells": [
  {
   "cell_type": "markdown",
   "metadata": {
    "deletable": true,
    "editable": true
   },
   "source": [
    "# Bolsas CNPq\n",
    "\n",
    "https://github.com/abevieiramota/dataset-bolsas-cnpq\n",
    "\n",
    "* Fazer download do repositório\n",
    "* Executar o script make_dataset.py\n",
    "\n",
    "http://estatico.cnpq.br/bi/CNPQ/DadosAbertos/Fomento/PagamentoBolsaAno/hst_pgt_bolsas_cnpq.xsd\n",
    "\n",
    "Algumas colunas não óbvias:\n",
    "\n",
    "<table>\n",
    "  <tr>\n",
    "    <th>coluna<br></th>\n",
    "    <th>significado</th>\n",
    "  </tr>\n",
    "  <tr>\n",
    "    <td>NRO-ID-CNPQ</td>\n",
    "    <td>Código de Identificação do Bolsista</td>\n",
    "  </tr>\n",
    "  <tr>\n",
    "    <td>CODIGO-DO-PROCESSO</td>\n",
    "    <td>Código do Processo da Bolsa</td>\n",
    "  </tr>\n",
    "  <tr>\n",
    "    <td>VALOR-PAGO</td>\n",
    "    <td>Valor pago no período</td>\n",
    "  </tr>\n",
    "</table>"
   ]
  },
  {
   "cell_type": "code",
   "execution_count": 1,
   "metadata": {
    "collapsed": false,
    "deletable": true,
    "editable": true
   },
   "outputs": [],
   "source": [
    "# imports\n",
    "import pandas as pd\n",
    "from matplotlib import pyplot as plt\n",
    "import seaborn as sns\n",
    "%matplotlib inline"
   ]
  },
  {
   "cell_type": "code",
   "execution_count": 2,
   "metadata": {
    "collapsed": true,
    "deletable": true,
    "editable": true
   },
   "outputs": [],
   "source": [
    "# configura formatação de inteiros/floats etc.\n",
    "%run ../configura_display.py"
   ]
  },
  {
   "cell_type": "code",
   "execution_count": 3,
   "metadata": {
    "collapsed": false,
    "deletable": true,
    "editable": true
   },
   "outputs": [],
   "source": [
    "# script de load do dataset\n",
    "%run ../../dataset-bolsas-cnpq/read_dataset.py"
   ]
  },
  {
   "cell_type": "code",
   "execution_count": 4,
   "metadata": {
    "collapsed": false,
    "deletable": true,
    "editable": true
   },
   "outputs": [],
   "source": [
    "# carrega dataset\n",
    "cnpq = read_cnpq()"
   ]
  },
  {
   "cell_type": "code",
   "execution_count": 35,
   "metadata": {
    "collapsed": false,
    "deletable": true,
    "editable": true
   },
   "outputs": [
    {
     "name": "stdout",
     "output_type": "stream",
     "text": [
      "#linhas: 2140823\n",
      "#colunas: 20\n"
     ]
    }
   ],
   "source": [
    "# dimensões do dataset\n",
    "# df.shape -> (#linhas, #colunas)\n",
    "print(\"#linhas: {}\\n#colunas: {}\".format(*cnpq.shape))"
   ]
  },
  {
   "cell_type": "code",
   "execution_count": 7,
   "metadata": {
    "collapsed": false,
    "deletable": true,
    "editable": true
   },
   "outputs": [
    {
     "data": {
      "text/html": [
       "<div>\n",
       "<style>\n",
       "    .dataframe thead tr:only-child th {\n",
       "        text-align: right;\n",
       "    }\n",
       "\n",
       "    .dataframe thead th {\n",
       "        text-align: left;\n",
       "    }\n",
       "\n",
       "    .dataframe tbody tr th {\n",
       "        vertical-align: top;\n",
       "    }\n",
       "</style>\n",
       "<table border=\"1\" class=\"dataframe\">\n",
       "  <thead>\n",
       "    <tr style=\"text-align: right;\">\n",
       "      <th></th>\n",
       "      <th>647759</th>\n",
       "    </tr>\n",
       "  </thead>\n",
       "  <tbody>\n",
       "    <tr>\n",
       "      <th>ANO-PAGAMENTO</th>\n",
       "      <td>2001</td>\n",
       "    </tr>\n",
       "    <tr>\n",
       "      <th>CODIGO-DO-PROCESSO</th>\n",
       "      <td>109872/2000-2</td>\n",
       "    </tr>\n",
       "    <tr>\n",
       "      <th>NRO-ID-CNPQ</th>\n",
       "      <td>7748323097109329</td>\n",
       "    </tr>\n",
       "    <tr>\n",
       "      <th>QUANTIDADE-BOLSA-ANO</th>\n",
       "      <td>1,00</td>\n",
       "    </tr>\n",
       "    <tr>\n",
       "      <th>QUANTIDADE-MESES-PAGOS</th>\n",
       "      <td>12,00</td>\n",
       "    </tr>\n",
       "    <tr>\n",
       "      <th>SEXO</th>\n",
       "      <td>M</td>\n",
       "    </tr>\n",
       "    <tr>\n",
       "      <th>SIGLA-UF-INSTITUICAO</th>\n",
       "      <td>RS</td>\n",
       "    </tr>\n",
       "    <tr>\n",
       "      <th>VALOR-PAGO</th>\n",
       "      <td>2.898,12</td>\n",
       "    </tr>\n",
       "    <tr>\n",
       "      <th>NOME-CURSO</th>\n",
       "      <td>NÃO-ESPECIFICADO</td>\n",
       "    </tr>\n",
       "    <tr>\n",
       "      <th>NOME-DA-AREA-DO-CONHECIMENTO</th>\n",
       "      <td>Economia</td>\n",
       "    </tr>\n",
       "    <tr>\n",
       "      <th>NOME-DA-ESPECIALIDADE</th>\n",
       "      <td>Não informado</td>\n",
       "    </tr>\n",
       "    <tr>\n",
       "      <th>NOME-DA-SUB-AREA-DO-CONHECIMENTO</th>\n",
       "      <td>Não informado</td>\n",
       "    </tr>\n",
       "    <tr>\n",
       "      <th>NOME-GRANDE-AREA-DO-CONHECIMENTO</th>\n",
       "      <td>Ciências Sociais Aplicadas</td>\n",
       "    </tr>\n",
       "    <tr>\n",
       "      <th>PAIS-INSTITUICAO</th>\n",
       "      <td>Brasil</td>\n",
       "    </tr>\n",
       "    <tr>\n",
       "      <th>PAIS-NASCIMENTO</th>\n",
       "      <td>Brasil</td>\n",
       "    </tr>\n",
       "    <tr>\n",
       "      <th>TITULO-DO-PROCESSO</th>\n",
       "      <td>INTEGRACAO REGIONAL INTERACOES ENTRE POLITICA ...</td>\n",
       "    </tr>\n",
       "    <tr>\n",
       "      <th>SIGLA-INSTITUICAO</th>\n",
       "      <td>UFRGS</td>\n",
       "    </tr>\n",
       "    <tr>\n",
       "      <th>MODALIDADE-DO-PROCESSO</th>\n",
       "      <td>Iniciação Científica/PIBIC</td>\n",
       "    </tr>\n",
       "    <tr>\n",
       "      <th>NOME-COMPLETO</th>\n",
       "      <td>Carlos Eduardo Heldt Silveira</td>\n",
       "    </tr>\n",
       "    <tr>\n",
       "      <th>NATUREZA-JURIDICA</th>\n",
       "      <td>Autarquia Federal</td>\n",
       "    </tr>\n",
       "  </tbody>\n",
       "</table>\n",
       "</div>"
      ],
      "text/plain": [
       "                                                                            647.759\n",
       "ANO-PAGAMENTO                                                                  2001\n",
       "CODIGO-DO-PROCESSO                                                    109872/2000-2\n",
       "NRO-ID-CNPQ                                                        7748323097109329\n",
       "QUANTIDADE-BOLSA-ANO                                                           1,00\n",
       "QUANTIDADE-MESES-PAGOS                                                        12,00\n",
       "SEXO                                                                              M\n",
       "SIGLA-UF-INSTITUICAO                                                             RS\n",
       "VALOR-PAGO                                                                 2.898,12\n",
       "NOME-CURSO                                                         NÃO-ESPECIFICADO\n",
       "NOME-DA-AREA-DO-CONHECIMENTO                                               Economia\n",
       "NOME-DA-ESPECIALIDADE                                                 Não informado\n",
       "NOME-DA-SUB-AREA-DO-CONHECIMENTO                                      Não informado\n",
       "NOME-GRANDE-AREA-DO-CONHECIMENTO                         Ciências Sociais Aplicadas\n",
       "PAIS-INSTITUICAO                                                             Brasil\n",
       "PAIS-NASCIMENTO                                                              Brasil\n",
       "TITULO-DO-PROCESSO                INTEGRACAO REGIONAL INTERACOES ENTRE POLITICA ...\n",
       "SIGLA-INSTITUICAO                                                             UFRGS\n",
       "MODALIDADE-DO-PROCESSO                                   Iniciação Científica/PIBIC\n",
       "NOME-COMPLETO                                         Carlos Eduardo Heldt Silveira\n",
       "NATUREZA-JURIDICA                                                 Autarquia Federal"
      ]
     },
     "execution_count": 7,
     "metadata": {},
     "output_type": "execute_result"
    }
   ],
   "source": [
    "# df.sample -> row aleatória\n",
    "# df.T -> transposta\n",
    "# no exemplo, transposta para melhorar a visualização\n",
    "cnpq.sample().T"
   ]
  },
  {
   "cell_type": "code",
   "execution_count": 5,
   "metadata": {
    "collapsed": false,
    "deletable": true,
    "editable": true
   },
   "outputs": [],
   "source": [
    "map_columns = {'ANO-PAGAMENTO': 'ano',\n",
    " 'CODIGO-DO-PROCESSO': 'codigo',\n",
    " 'MODALIDADE-DO-PROCESSO': 'modalidade',\n",
    " 'NATUREZA-JURIDICA': 'natureza_juridica',\n",
    " 'NOME-COMPLETO': 'nome',\n",
    " 'NOME-CURSO': 'curso',\n",
    " 'NOME-DA-AREA-DO-CONHECIMENTO': 'area_conhecimento',\n",
    " 'NOME-DA-ESPECIALIDADE': 'especialidade',\n",
    " 'NOME-DA-SUB-AREA-DO-CONHECIMENTO': 'sub_area_conhecimento',\n",
    " 'NOME-GRANDE-AREA-DO-CONHECIMENTO': 'grande_area_conhecimento',\n",
    " 'NRO-ID-CNPQ': 'id_bolsista',\n",
    " 'PAIS-INSTITUICAO': 'pais_instituicao',\n",
    " 'PAIS-NASCIMENTO': 'pais_nascimento',\n",
    " 'QUANTIDADE-BOLSA-ANO': 'qtd_bolsa_ano',\n",
    " 'QUANTIDADE-MESES-PAGOS': 'qtd_meses_pagos',\n",
    " 'SEXO': 'sexo',\n",
    " 'SIGLA-INSTITUICAO': 'sigla_instituicao',\n",
    " 'SIGLA-UF-INSTITUICAO': 'uf_instituicao',\n",
    " 'TITULO-DO-PROCESSO': 'titulo_bolsa',\n",
    " 'VALOR-PAGO': 'valor_total'}\n",
    "\n",
    "# renomeando colunas\n",
    "# df.rename_axis(map_antigo_novo, axis=axis_onde_mudar)\n",
    "# axis = 1 -> columns\n",
    "cnpq = cnpq.rename_axis(map_columns, axis=1)"
   ]
  },
  {
   "cell_type": "code",
   "execution_count": 67,
   "metadata": {
    "collapsed": false,
    "deletable": true,
    "editable": true
   },
   "outputs": [
    {
     "data": {
      "text/html": [
       "<div>\n",
       "<style>\n",
       "    .dataframe thead tr:only-child th {\n",
       "        text-align: right;\n",
       "    }\n",
       "\n",
       "    .dataframe thead th {\n",
       "        text-align: left;\n",
       "    }\n",
       "\n",
       "    .dataframe tbody tr th {\n",
       "        vertical-align: top;\n",
       "    }\n",
       "</style>\n",
       "<table border=\"1\" class=\"dataframe\">\n",
       "  <thead>\n",
       "    <tr style=\"text-align: right;\">\n",
       "      <th></th>\n",
       "      <th>235155</th>\n",
       "      <th>235156</th>\n",
       "      <th>235157</th>\n",
       "    </tr>\n",
       "  </thead>\n",
       "  <tbody>\n",
       "    <tr>\n",
       "      <th>ano</th>\n",
       "      <td>2012</td>\n",
       "      <td>2010</td>\n",
       "      <td>2010</td>\n",
       "    </tr>\n",
       "    <tr>\n",
       "      <th>codigo</th>\n",
       "      <td>162660/2011-1</td>\n",
       "      <td>100558/2010-0</td>\n",
       "      <td>107996/2010-3</td>\n",
       "    </tr>\n",
       "    <tr>\n",
       "      <th>id_bolsista</th>\n",
       "      <td>6784566228400048</td>\n",
       "      <td>6784566228400048</td>\n",
       "      <td>6784566228400048</td>\n",
       "    </tr>\n",
       "    <tr>\n",
       "      <th>qtd_bolsa_ano</th>\n",
       "      <td>0,42</td>\n",
       "      <td>0,58</td>\n",
       "      <td>0,42</td>\n",
       "    </tr>\n",
       "    <tr>\n",
       "      <th>qtd_meses_pagos</th>\n",
       "      <td>5,00</td>\n",
       "      <td>7,00</td>\n",
       "      <td>5,00</td>\n",
       "    </tr>\n",
       "    <tr>\n",
       "      <th>sexo</th>\n",
       "      <td>M</td>\n",
       "      <td>M</td>\n",
       "      <td>M</td>\n",
       "    </tr>\n",
       "    <tr>\n",
       "      <th>uf_instituicao</th>\n",
       "      <td>CE</td>\n",
       "      <td>CE</td>\n",
       "      <td>CE</td>\n",
       "    </tr>\n",
       "    <tr>\n",
       "      <th>valor_total</th>\n",
       "      <td>1.800,00</td>\n",
       "      <td>2.400,00</td>\n",
       "      <td>1.800,00</td>\n",
       "    </tr>\n",
       "    <tr>\n",
       "      <th>curso</th>\n",
       "      <td>NÃO-ESPECIFICADO</td>\n",
       "      <td>NÃO-ESPECIFICADO</td>\n",
       "      <td>NÃO-ESPECIFICADO</td>\n",
       "    </tr>\n",
       "    <tr>\n",
       "      <th>area_conhecimento</th>\n",
       "      <td>Ciência da Computação</td>\n",
       "      <td>Ciência da Computação</td>\n",
       "      <td>Ciência da Computação</td>\n",
       "    </tr>\n",
       "    <tr>\n",
       "      <th>especialidade</th>\n",
       "      <td>Teleinformática</td>\n",
       "      <td>Não informado</td>\n",
       "      <td>Não informado</td>\n",
       "    </tr>\n",
       "    <tr>\n",
       "      <th>sub_area_conhecimento</th>\n",
       "      <td>Sistemas de Computação</td>\n",
       "      <td>Teoria da Computação</td>\n",
       "      <td>Metodologia e Técnicas da Computação</td>\n",
       "    </tr>\n",
       "    <tr>\n",
       "      <th>grande_area_conhecimento</th>\n",
       "      <td>Engenharias e Ciência da Computação</td>\n",
       "      <td>Engenharias e Ciência da Computação</td>\n",
       "      <td>Engenharias e Ciência da Computação</td>\n",
       "    </tr>\n",
       "    <tr>\n",
       "      <th>pais_instituicao</th>\n",
       "      <td>Brasil</td>\n",
       "      <td>Brasil</td>\n",
       "      <td>Brasil</td>\n",
       "    </tr>\n",
       "    <tr>\n",
       "      <th>pais_nascimento</th>\n",
       "      <td>Brasil</td>\n",
       "      <td>Brasil</td>\n",
       "      <td>Brasil</td>\n",
       "    </tr>\n",
       "    <tr>\n",
       "      <th>titulo_bolsa</th>\n",
       "      <td>Ciberinfraestruturas em Ambientes de Simulacao...</td>\n",
       "      <td>Provas e Modelos para Logicas que Extendem ou ...</td>\n",
       "      <td>Logica Classica e suas Extensoes: Modelos Prov...</td>\n",
       "    </tr>\n",
       "    <tr>\n",
       "      <th>sigla_instituicao</th>\n",
       "      <td>UFC</td>\n",
       "      <td>UFC</td>\n",
       "      <td>UFC</td>\n",
       "    </tr>\n",
       "    <tr>\n",
       "      <th>modalidade</th>\n",
       "      <td>Iniciação Científica</td>\n",
       "      <td>Iniciação Científica/PIBIC</td>\n",
       "      <td>Iniciação Científica/PIBIC</td>\n",
       "    </tr>\n",
       "    <tr>\n",
       "      <th>nome</th>\n",
       "      <td>Abelardo Vieira Mota</td>\n",
       "      <td>Abelardo Vieira Mota</td>\n",
       "      <td>Abelardo Vieira Mota</td>\n",
       "    </tr>\n",
       "    <tr>\n",
       "      <th>natureza_juridica</th>\n",
       "      <td>Autarquia Federal</td>\n",
       "      <td>Autarquia Federal</td>\n",
       "      <td>Autarquia Federal</td>\n",
       "    </tr>\n",
       "  </tbody>\n",
       "</table>\n",
       "</div>"
      ],
      "text/plain": [
       "                                                                    235.155  \\\n",
       "ano                                                                    2012   \n",
       "codigo                                                        162660/2011-1   \n",
       "id_bolsista                                                6784566228400048   \n",
       "qtd_bolsa_ano                                                          0,42   \n",
       "qtd_meses_pagos                                                        5,00   \n",
       "sexo                                                                      M   \n",
       "uf_instituicao                                                           CE   \n",
       "valor_total                                                        1.800,00   \n",
       "curso                                                      NÃO-ESPECIFICADO   \n",
       "area_conhecimento                                     Ciência da Computação   \n",
       "especialidade                                               Teleinformática   \n",
       "sub_area_conhecimento                                Sistemas de Computação   \n",
       "grande_area_conhecimento                Engenharias e Ciência da Computação   \n",
       "pais_instituicao                                                     Brasil   \n",
       "pais_nascimento                                                      Brasil   \n",
       "titulo_bolsa              Ciberinfraestruturas em Ambientes de Simulacao...   \n",
       "sigla_instituicao                                                       UFC   \n",
       "modalidade                                             Iniciação Científica   \n",
       "nome                                                   Abelardo Vieira Mota   \n",
       "natureza_juridica                                         Autarquia Federal   \n",
       "\n",
       "                                                                    235.156  \\\n",
       "ano                                                                    2010   \n",
       "codigo                                                        100558/2010-0   \n",
       "id_bolsista                                                6784566228400048   \n",
       "qtd_bolsa_ano                                                          0,58   \n",
       "qtd_meses_pagos                                                        7,00   \n",
       "sexo                                                                      M   \n",
       "uf_instituicao                                                           CE   \n",
       "valor_total                                                        2.400,00   \n",
       "curso                                                      NÃO-ESPECIFICADO   \n",
       "area_conhecimento                                     Ciência da Computação   \n",
       "especialidade                                                 Não informado   \n",
       "sub_area_conhecimento                                  Teoria da Computação   \n",
       "grande_area_conhecimento                Engenharias e Ciência da Computação   \n",
       "pais_instituicao                                                     Brasil   \n",
       "pais_nascimento                                                      Brasil   \n",
       "titulo_bolsa              Provas e Modelos para Logicas que Extendem ou ...   \n",
       "sigla_instituicao                                                       UFC   \n",
       "modalidade                                       Iniciação Científica/PIBIC   \n",
       "nome                                                   Abelardo Vieira Mota   \n",
       "natureza_juridica                                         Autarquia Federal   \n",
       "\n",
       "                                                                    235.157  \n",
       "ano                                                                    2010  \n",
       "codigo                                                        107996/2010-3  \n",
       "id_bolsista                                                6784566228400048  \n",
       "qtd_bolsa_ano                                                          0,42  \n",
       "qtd_meses_pagos                                                        5,00  \n",
       "sexo                                                                      M  \n",
       "uf_instituicao                                                           CE  \n",
       "valor_total                                                        1.800,00  \n",
       "curso                                                      NÃO-ESPECIFICADO  \n",
       "area_conhecimento                                     Ciência da Computação  \n",
       "especialidade                                                 Não informado  \n",
       "sub_area_conhecimento                  Metodologia e Técnicas da Computação  \n",
       "grande_area_conhecimento                Engenharias e Ciência da Computação  \n",
       "pais_instituicao                                                     Brasil  \n",
       "pais_nascimento                                                      Brasil  \n",
       "titulo_bolsa              Logica Classica e suas Extensoes: Modelos Prov...  \n",
       "sigla_instituicao                                                       UFC  \n",
       "modalidade                                       Iniciação Científica/PIBIC  \n",
       "nome                                                   Abelardo Vieira Mota  \n",
       "natureza_juridica                                         Autarquia Federal  "
      ]
     },
     "execution_count": 67,
     "metadata": {},
     "output_type": "execute_result"
    }
   ],
   "source": [
    "cnpq[cnpq.nome == \"Abelardo Vieira Mota\"].T"
   ]
  },
  {
   "cell_type": "markdown",
   "metadata": {
    "deletable": true,
    "editable": true
   },
   "source": [
    "# Entendendo as colunas"
   ]
  },
  {
   "cell_type": "markdown",
   "metadata": {
    "deletable": true,
    "editable": true
   },
   "source": [
    "## coluna: ano"
   ]
  },
  {
   "cell_type": "code",
   "execution_count": 40,
   "metadata": {
    "collapsed": false,
    "deletable": true,
    "editable": true
   },
   "outputs": [
    {
     "data": {
      "text/plain": [
       "pandas.core.series.Series"
      ]
     },
     "execution_count": 40,
     "metadata": {},
     "output_type": "execute_result"
    }
   ],
   "source": [
    "# uma coluna é uma Series\n",
    "# tudo o que vimos sobre Series se aplica!\n",
    "type(cnpq.ano)"
   ]
  },
  {
   "cell_type": "code",
   "execution_count": 43,
   "metadata": {
    "collapsed": false,
    "deletable": true,
    "editable": true
   },
   "outputs": [
    {
     "data": {
      "text/plain": [
       "10        2010\n",
       "10.000    2013\n",
       "Name: ano, dtype: category\n",
       "Categories (17, object): [2001, 2002, 2003, 2004, ..., 2014, 2015, 2016, 2017]"
      ]
     },
     "execution_count": 43,
     "metadata": {},
     "output_type": "execute_result"
    }
   ],
   "source": [
    "# podendo ser acessada pelos seu index\n",
    "# o index de uma coluna em um dataframe é o index do dataframe\n",
    "# no exemplo, o índice foi gerado automaticamente, com valores [0, N-1]\n",
    "cnpq.ano[[10, 10000]]"
   ]
  },
  {
   "cell_type": "code",
   "execution_count": 45,
   "metadata": {
    "collapsed": false,
    "deletable": true,
    "editable": true
   },
   "outputs": [
    {
     "data": {
      "text/plain": [
       "1    2013\n",
       "2    2017\n",
       "3    2016\n",
       "4    2007\n",
       "Name: ano, dtype: category\n",
       "Categories (17, object): [2001, 2002, 2003, 2004, ..., 2014, 2015, 2016, 2017]"
      ]
     },
     "execution_count": 45,
     "metadata": {},
     "output_type": "execute_result"
    }
   ],
   "source": [
    "cnpq.ano.iloc[1:5]"
   ]
  },
  {
   "cell_type": "code",
   "execution_count": 48,
   "metadata": {
    "collapsed": false,
    "deletable": true,
    "editable": true
   },
   "outputs": [
    {
     "data": {
      "text/plain": [
       "1.925.976   20.140\n",
       "1.631.588   20.160\n",
       "1.631.187   20.030\n",
       "1.121.039   20.150\n",
       "1.369.835   20.010\n",
       "28.678      20.130\n",
       "990.636     20.160\n",
       "1.563.731   20.130\n",
       "861.813     20.020\n",
       "1.173.773   20.140\n",
       "Name: ano, dtype: int64"
      ]
     },
     "execution_count": 48,
     "metadata": {},
     "output_type": "execute_result"
    }
   ],
   "source": [
    "# necessária a conversão para int pois o campo ano é categórico\n",
    "(cnpq.ano.astype(\"int\") * 10).sample(10)"
   ]
  },
  {
   "cell_type": "code",
   "execution_count": 49,
   "metadata": {
    "collapsed": false,
    "deletable": true,
    "editable": true
   },
   "outputs": [
    {
     "data": {
      "text/plain": [
       "count     2140823\n",
       "unique         17\n",
       "top          2015\n",
       "freq       195966\n",
       "Name: ano, dtype: object"
      ]
     },
     "execution_count": 49,
     "metadata": {},
     "output_type": "execute_result"
    }
   ],
   "source": [
    "# describe categórico\n",
    "cnpq.ano.describe()"
   ]
  },
  {
   "cell_type": "code",
   "execution_count": 50,
   "metadata": {
    "collapsed": false,
    "deletable": true,
    "editable": true
   },
   "outputs": [
    {
     "data": {
      "text/plain": [
       "[2013, 2017, 2016, 2007, 2008, ..., 2002, 2014, 2015, 2012, 2005]\n",
       "Length: 17\n",
       "Categories (17, object): [2013, 2017, 2016, 2007, ..., 2014, 2015, 2012, 2005]"
      ]
     },
     "execution_count": 50,
     "metadata": {},
     "output_type": "execute_result"
    }
   ],
   "source": [
    "# retorna os valores únicos\n",
    "cnpq.ano.unique()"
   ]
  },
  {
   "cell_type": "code",
   "execution_count": 58,
   "metadata": {
    "collapsed": false,
    "deletable": true,
    "editable": true
   },
   "outputs": [
    {
     "data": {
      "text/plain": [
       "False"
      ]
     },
     "execution_count": 58,
     "metadata": {},
     "output_type": "execute_result"
    }
   ],
   "source": [
    "# retorna True/False de acordo com se o valor é null\n",
    "# depois pergunta se existe algum valor True\n",
    "cnpq.ano.isnull()\\\n",
    ".any()"
   ]
  },
  {
   "cell_type": "code",
   "execution_count": 11,
   "metadata": {
    "collapsed": false,
    "deletable": true,
    "editable": true
   },
   "outputs": [
    {
     "data": {
      "text/plain": [
       "2001     77228\n",
       "2002     75608\n",
       "2003     81328\n",
       "2004     89195\n",
       "2005     86987\n",
       "2006     92695\n",
       "2007     99704\n",
       "2008    108527\n",
       "2009    121040\n",
       "2010    147133\n",
       "2011    162546\n",
       "2012    172976\n",
       "2013    184983\n",
       "2014    193780\n",
       "2015    195966\n",
       "2016    167459\n",
       "2017     83668\n",
       "Name: ano, dtype: int64"
      ]
     },
     "execution_count": 11,
     "metadata": {},
     "output_type": "execute_result"
    }
   ],
   "source": [
    "# retorna a quantidade de registros para cada valor de ano\n",
    "# depois ordena pelo ano\n",
    "cnpq.ano.value_counts()\\\n",
    ".sort_index()"
   ]
  },
  {
   "cell_type": "markdown",
   "metadata": {
    "deletable": true,
    "editable": true
   },
   "source": [
    "## coluna: codigo"
   ]
  },
  {
   "cell_type": "code",
   "execution_count": 59,
   "metadata": {
    "collapsed": false,
    "deletable": true,
    "editable": true
   },
   "outputs": [
    {
     "data": {
      "text/plain": [
       "count           2140823\n",
       "unique           993008\n",
       "top       305122/1988-6\n",
       "freq                 15\n",
       "Name: codigo, dtype: object"
      ]
     },
     "execution_count": 59,
     "metadata": {},
     "output_type": "execute_result"
    }
   ],
   "source": [
    "cnpq.codigo.describe() # 993008 valores únicos!"
   ]
  },
  {
   "cell_type": "code",
   "execution_count": 70,
   "metadata": {
    "collapsed": false,
    "deletable": true,
    "editable": true
   },
   "outputs": [
    {
     "data": {
      "text/plain": [
       "<matplotlib.axes._subplots.AxesSubplot at 0x7f2a6408ada0>"
      ]
     },
     "execution_count": 70,
     "metadata": {},
     "output_type": "execute_result"
    },
    {
     "data": {
      "image/png": "[encoded data removed]",
      "text/plain": [
       "<matplotlib.figure.Figure at 0x7f2a74849e80>"
      ]
     },
     "metadata": {},
     "output_type": "display_data"
    }
   ],
   "source": [
    "# conta a quantidade de registros por codigo\n",
    "# plota um histograma com 10 bins(default) - igualmente espaçados\n",
    "cnpq.codigo.value_counts()\\\n",
    ".plot.hist()"
   ]
  },
  {
   "cell_type": "code",
   "execution_count": 71,
   "metadata": {
    "collapsed": false,
    "deletable": true,
    "editable": true
   },
   "outputs": [
    {
     "data": {
      "text/plain": [
       "2.051.872    351151/1992-3\n",
       "1.901.024    383314/2005-4\n",
       "2.059.712    152382/2010-0\n",
       "1.807.949    180420/2000-3\n",
       "767.093      106290/2008-8\n",
       "Name: codigo, dtype: object"
      ]
     },
     "execution_count": 71,
     "metadata": {},
     "output_type": "execute_result"
    }
   ],
   "source": [
    "# olhando 5 exemplos\n",
    "cnpq.codigo.sample(5)"
   ]
  },
  {
   "cell_type": "code",
   "execution_count": 72,
   "metadata": {
    "collapsed": false,
    "deletable": true,
    "editable": true
   },
   "outputs": [
    {
     "data": {
      "text/plain": [
       "True"
      ]
     },
     "execution_count": 72,
     "metadata": {},
     "output_type": "execute_result"
    }
   ],
   "source": [
    "# todos seguem o formato xxxxxxxx/xxxx-x ?\n",
    "# series.str acessa a API de processamento de string de uma series\n",
    "# str.match testa se cada valor da series match a expressão regular informada\n",
    "# para entender a regex, acessar https://regex101.com/ e informar\n",
    "# ^\\d+\\/\\d{4}\\-\\d$\n",
    "cnpq.codigo\\\n",
    ".str\\\n",
    ".match(\"^\\d+/\\d{4}\\-\\d$\")\\\n",
    ".all()"
   ]
  },
  {
   "cell_type": "code",
   "execution_count": 6,
   "metadata": {
    "collapsed": false,
    "deletable": true,
    "editable": true
   },
   "outputs": [
    {
     "data": {
      "text/plain": [
       "[{'codigo_ano': '2013', 'codigo_n': '0', 'codigo_pt1': '100001'},\n",
       " {'codigo_ano': '2013', 'codigo_n': '1', 'codigo_pt1': '116002'},\n",
       " {'codigo_ano': '2016', 'codigo_n': '4', 'codigo_pt1': '131462'},\n",
       " {'codigo_ano': '2016', 'codigo_n': '4', 'codigo_pt1': '131462'},\n",
       " {'codigo_ano': '2007', 'codigo_n': '0', 'codigo_pt1': '118246'},\n",
       " {'codigo_ano': '2007', 'codigo_n': '0', 'codigo_pt1': '118246'},\n",
       " {'codigo_ano': '2008', 'codigo_n': '0', 'codigo_pt1': '118457'},\n",
       " {'codigo_ano': '2008', 'codigo_n': '0', 'codigo_pt1': '118457'},\n",
       " {'codigo_ano': '2006', 'codigo_n': '5', 'codigo_pt1': '104113'},\n",
       " {'codigo_ano': '2006', 'codigo_n': '5', 'codigo_pt1': '104113'}]"
      ]
     },
     "execution_count": 6,
     "metadata": {},
     "output_type": "execute_result"
    }
   ],
   "source": [
    "# seleciona 10 registros aleatórios\n",
    "# extrai todos os grupos do código\n",
    "# codigo_pt1/codigo_ano-codigo_n\n",
    "# para cada conjunto de grupos, cria um dicionário\n",
    "# converte a series resultante em lista\n",
    "\n",
    "# x[0][1] -> dentro do match 0, o grupo 1\n",
    "codigos_ls = cnpq.codigo\\\n",
    ".str\\\n",
    ".findall(\"^(\\d+)/(\\d{4})\\-(\\d)$\")\\\n",
    ".apply(lambda x: {'codigo_pt1': x[0][0],\n",
    "                  'codigo_ano': x[0][1],\n",
    "                  'codigo_n': x[0][2]}\n",
    "      )\\\n",
    ".tolist()\n",
    "\n",
    "codigos_ls[:10]"
   ]
  },
  {
   "cell_type": "code",
   "execution_count": 7,
   "metadata": {
    "collapsed": false,
    "deletable": true,
    "editable": true
   },
   "outputs": [],
   "source": [
    "# cria dataframe a partir da estrutura extraída no passo anterior\n",
    "#    convertendo os valores para inteiro\n",
    "codigos_df = pd.DataFrame(codigos_ls, dtype='int')\n",
    "\n",
    "# concatena o dataframe inicial com o dataframe gerado\n",
    "# pd.concat recebe 2 parâmetros\n",
    "#    1 - lista de dataframes a serem concatenados\n",
    "#    2 - axis que deve ser utilizado na concatenação\n",
    "#      - se axis = 0, concatena linhas\n",
    "#      - se axis = 1, concatena colunas\n",
    "cnpq = pd.concat([cnpq, codigos_df], axis=1)"
   ]
  },
  {
   "cell_type": "code",
   "execution_count": 27,
   "metadata": {
    "collapsed": false,
    "deletable": true,
    "editable": true
   },
   "outputs": [
    {
     "data": {
      "text/plain": [
       "<matplotlib.axes._subplots.AxesSubplot at 0x7f6ba6de9ef0>"
      ]
     },
     "execution_count": 27,
     "metadata": {},
     "output_type": "execute_result"
    },
    {
     "data": {
      "image/png": "[encoded data removed]",
      "text/plain": [
       "<matplotlib.figure.Figure at 0x7f6ba7221d30>"
      ]
     },
     "metadata": {},
     "output_type": "display_data"
    }
   ],
   "source": [
    "# constrói uma figura com tamanhos 10x10 polegadas\n",
    "# (a visualização no notebook redimensiona para caber na tela)\n",
    "_ = plt.figure(figsize=(10, 10))\n",
    "# agrupa por codigo_ano e ano\n",
    "# conta quantos registros há em cada grupo\n",
    "# transforma o índice ano em colunas\n",
    "# preenche nulls com 0\n",
    "dd = cnpq\\\n",
    ".groupby([\"codigo_ano\", \"ano\"])\\\n",
    ".size()\\\n",
    ".unstack()\\\n",
    ".fillna(0)\n",
    "\n",
    "# outra forma\n",
    "dd = cnpq\\\n",
    ".pivot_table(index=\"codigo_ano\", columns=\"ano\", aggfunc=\"size\")\\\n",
    ".fillna(0)\n",
    "\n",
    "sns.heatmap(dd)"
   ]
  },
  {
   "cell_type": "code",
   "execution_count": 25,
   "metadata": {
    "collapsed": false,
    "deletable": true,
    "editable": true
   },
   "outputs": [
    {
     "data": {
      "text/plain": [
       "<matplotlib.axes._subplots.AxesSubplot at 0x7f6ba5c60208>"
      ]
     },
     "execution_count": 25,
     "metadata": {},
     "output_type": "execute_result"
    },
    {
     "data": {
      "image/png": "[encoded data removed]",
      "text/plain": [
       "<matplotlib.figure.Figure at 0x7f6ba572ff60>"
      ]
     },
     "metadata": {},
     "output_type": "display_data"
    }
   ],
   "source": [
    "# como a escala é muito grande, aplicar um logaritmo para poder visualizar melhor os valores extremos\n",
    "_ = plt.figure(figsize=(10, 10))\n",
    "# quantidade por grupo\n",
    "qpg = cnpq.groupby([\"codigo_ano\", \"ano\"]).size()\n",
    "# aplica log10 e constrói o dataframe\n",
    "dd = np.log10(qpg)\\\n",
    ".unstack()\\\n",
    ".fillna(0)\n",
    "\n",
    "sns.heatmap(dd)"
   ]
  },
  {
   "cell_type": "markdown",
   "metadata": {
    "deletable": true,
    "editable": true
   },
   "source": [
    "# Exercício 1"
   ]
  },
  {
   "cell_type": "markdown",
   "metadata": {
    "deletable": true,
    "editable": true
   },
   "source": [
    "<hr />"
   ]
  },
  {
   "cell_type": "markdown",
   "metadata": {
    "deletable": true,
    "editable": true
   },
   "source": [
    "## coluna: id_bolsista"
   ]
  },
  {
   "cell_type": "code",
   "execution_count": 28,
   "metadata": {
    "collapsed": false,
    "deletable": true,
    "editable": true
   },
   "outputs": [
    {
     "data": {
      "text/plain": [
       "count              2140823\n",
       "unique              652044\n",
       "top       6115379961132154\n",
       "freq                    28\n",
       "Name: id_bolsista, dtype: object"
      ]
     },
     "execution_count": 28,
     "metadata": {},
     "output_type": "execute_result"
    }
   ],
   "source": [
    "cnpq.id_bolsista.describe()"
   ]
  },
  {
   "cell_type": "code",
   "execution_count": 30,
   "metadata": {
    "collapsed": false,
    "deletable": true,
    "editable": true
   },
   "outputs": [
    {
     "data": {
      "text/plain": [
       "6115379961132154   28\n",
       "0229235513357607   28\n",
       "6098050406729323   27\n",
       "3755976581745095   27\n",
       "2558900431930326   27\n",
       "Name: id_bolsista, dtype: int64"
      ]
     },
     "execution_count": 30,
     "metadata": {},
     "output_type": "execute_result"
    }
   ],
   "source": [
    "# nlargest e nsmallest para encontrar top e bottom\n",
    "# pode ser utilizando em dataframe também\n",
    "# df.nlargest(10, \"Valor\")\n",
    "#    retorna os registros cuja coluna \"Valor\" está no top 10\n",
    "#    observar que não são os top 10 registros\n",
    "cnpq.id_bolsista.value_counts().nlargest(5)"
   ]
  },
  {
   "cell_type": "markdown",
   "metadata": {
    "deletable": true,
    "editable": true
   },
   "source": [
    "## coluna: qtd_bolsa_ano"
   ]
  },
  {
   "cell_type": "code",
   "execution_count": 33,
   "metadata": {
    "collapsed": false,
    "deletable": true,
    "editable": true
   },
   "outputs": [
    {
     "data": {
      "text/plain": [
       "count   2.140.823,00\n",
       "mean            0,56\n",
       "std             0,31\n",
       "min             0,01\n",
       "25%             0,33\n",
       "50%             0,58\n",
       "75%             0,83\n",
       "max            28,85\n",
       "Name: qtd_bolsa_ano, dtype: float64"
      ]
     },
     "execution_count": 33,
     "metadata": {},
     "output_type": "execute_result"
    }
   ],
   "source": [
    "cnpq.qtd_bolsa_ano.describe() # parece ser #qtd_bolsas/#qtd_meses\n",
    "# <xsd:element name=\"QUANTIDADE-BOLSA-ANO\" type=\"xsd:decimal\">\n",
    "#    <xsd:annotation><xsd:documentation>Quantidade de bolsa no ano</xsd:documentation>"
   ]
  },
  {
   "cell_type": "code",
   "execution_count": 40,
   "metadata": {
    "collapsed": false,
    "deletable": true,
    "editable": true
   },
   "outputs": [
    {
     "data": {
      "text/plain": [
       "<matplotlib.axes._subplots.AxesSubplot at 0x7f6baefc2eb8>"
      ]
     },
     "execution_count": 40,
     "metadata": {},
     "output_type": "execute_result"
    },
    {
     "data": {
      "image/png": "[encoded data removed]",
      "text/plain": [
       "<matplotlib.figure.Figure at 0x7f6ba5a0fa20>"
      ]
     },
     "metadata": {},
     "output_type": "display_data"
    }
   ],
   "source": [
    "# logy aplica log10 à dimensão y, diminuindo a distância entre os valores\n",
    "#    ex: o valor 10 e o valor 100 estão igualmente espaçados no gráfico\n",
    "#        assim como os valores 100 e 1000\n",
    "# bins=20 indica que devem ser utilizados 20 bins\n",
    "# sem log, o gráfico parece informar que todos os dados se concentram em [0, ~1]\n",
    "cnpq.qtd_bolsa_ano\\\n",
    ".plot.hist(bins=20, logy=True)"
   ]
  },
  {
   "cell_type": "code",
   "execution_count": 157,
   "metadata": {
    "collapsed": false,
    "deletable": true,
    "editable": true
   },
   "outputs": [
    {
     "data": {
      "text/html": [
       "<div>\n",
       "<style>\n",
       "    .dataframe thead tr:only-child th {\n",
       "        text-align: right;\n",
       "    }\n",
       "\n",
       "    .dataframe thead th {\n",
       "        text-align: left;\n",
       "    }\n",
       "\n",
       "    .dataframe tbody tr th {\n",
       "        vertical-align: top;\n",
       "    }\n",
       "</style>\n",
       "<table border=\"1\" class=\"dataframe\">\n",
       "  <thead>\n",
       "    <tr style=\"text-align: right;\">\n",
       "      <th></th>\n",
       "      <th>ano</th>\n",
       "      <th>codigo</th>\n",
       "      <th>id_bolsista</th>\n",
       "      <th>qtd_bolsa_ano</th>\n",
       "      <th>qtd_meses_pagos</th>\n",
       "      <th>sexo</th>\n",
       "      <th>uf_instituicao</th>\n",
       "      <th>valor_total</th>\n",
       "      <th>curso</th>\n",
       "      <th>area_conhecimento</th>\n",
       "      <th>...</th>\n",
       "      <th>pais_instituicao</th>\n",
       "      <th>pais_nascimento</th>\n",
       "      <th>titulo_bolsa</th>\n",
       "      <th>sigla_instituicao</th>\n",
       "      <th>modalidade</th>\n",
       "      <th>nome</th>\n",
       "      <th>natureza_juridica</th>\n",
       "      <th>codigo_pt1</th>\n",
       "      <th>codigo_pt2</th>\n",
       "      <th>codigo_pt3</th>\n",
       "    </tr>\n",
       "  </thead>\n",
       "  <tbody>\n",
       "    <tr>\n",
       "      <th>1806773</th>\n",
       "      <td>2002</td>\n",
       "      <td>381706/2002-8</td>\n",
       "      <td>9425524439998656</td>\n",
       "      <td>28.85</td>\n",
       "      <td>346.15</td>\n",
       "      <td>M</td>\n",
       "      <td>DF</td>\n",
       "      <td>18000.0</td>\n",
       "      <td>NÃO-ESPECIFICADO</td>\n",
       "      <td>Não se aplica</td>\n",
       "      <td>...</td>\n",
       "      <td>Brasil</td>\n",
       "      <td>Brasil</td>\n",
       "      <td>PROGRAMA DE INTERIORIZACAO DO TRABALHO EM SAUDE.</td>\n",
       "      <td>MS</td>\n",
       "      <td>Interiorização do Trabalho em Saúde</td>\n",
       "      <td>Marcio Ferreira da Silva</td>\n",
       "      <td>Órgão Público do Poder Executivo Federal</td>\n",
       "      <td>381706</td>\n",
       "      <td>2002</td>\n",
       "      <td>8</td>\n",
       "    </tr>\n",
       "    <tr>\n",
       "      <th>1885459</th>\n",
       "      <td>2002</td>\n",
       "      <td>380575/2001-9</td>\n",
       "      <td>5135511970975644</td>\n",
       "      <td>28.85</td>\n",
       "      <td>346.15</td>\n",
       "      <td>F</td>\n",
       "      <td>DF</td>\n",
       "      <td>18000.0</td>\n",
       "      <td>NÃO-ESPECIFICADO</td>\n",
       "      <td>Não se aplica</td>\n",
       "      <td>...</td>\n",
       "      <td>Brasil</td>\n",
       "      <td>Brasil</td>\n",
       "      <td>NÃO-ESPECIFICADO</td>\n",
       "      <td>MS</td>\n",
       "      <td>Interiorização do Trabalho em Saúde</td>\n",
       "      <td>Sirliane de Souza Paiva</td>\n",
       "      <td>Órgão Público do Poder Executivo Federal</td>\n",
       "      <td>380575</td>\n",
       "      <td>2001</td>\n",
       "      <td>9</td>\n",
       "    </tr>\n",
       "    <tr>\n",
       "      <th>1888445</th>\n",
       "      <td>2002</td>\n",
       "      <td>381705/2002-1</td>\n",
       "      <td>5080626355590266</td>\n",
       "      <td>28.85</td>\n",
       "      <td>346.15</td>\n",
       "      <td>F</td>\n",
       "      <td>DF</td>\n",
       "      <td>18000.0</td>\n",
       "      <td>NÃO-ESPECIFICADO</td>\n",
       "      <td>Não se aplica</td>\n",
       "      <td>...</td>\n",
       "      <td>Brasil</td>\n",
       "      <td>Brasil</td>\n",
       "      <td>PROGRAMA DE INTERIORIZACAO DO TRABALHO EM SAUDE.</td>\n",
       "      <td>MS</td>\n",
       "      <td>Interiorização do Trabalho em Saúde</td>\n",
       "      <td>Marilia Luz Daddario</td>\n",
       "      <td>Órgão Público do Poder Executivo Federal</td>\n",
       "      <td>381705</td>\n",
       "      <td>2002</td>\n",
       "      <td>1</td>\n",
       "    </tr>\n",
       "  </tbody>\n",
       "</table>\n",
       "<p>3 rows × 23 columns</p>\n",
       "</div>"
      ],
      "text/plain": [
       "          ano         codigo       id_bolsista  qtd_bolsa_ano  \\\n",
       "1806773  2002  381706/2002-8  9425524439998656          28.85   \n",
       "1885459  2002  380575/2001-9  5135511970975644          28.85   \n",
       "1888445  2002  381705/2002-1  5080626355590266          28.85   \n",
       "\n",
       "         qtd_meses_pagos sexo uf_instituicao  valor_total             curso  \\\n",
       "1806773           346.15    M             DF      18000.0  NÃO-ESPECIFICADO   \n",
       "1885459           346.15    F             DF      18000.0  NÃO-ESPECIFICADO   \n",
       "1888445           346.15    F             DF      18000.0  NÃO-ESPECIFICADO   \n",
       "\n",
       "        area_conhecimento    ...     pais_instituicao pais_nascimento  \\\n",
       "1806773     Não se aplica    ...               Brasil          Brasil   \n",
       "1885459     Não se aplica    ...               Brasil          Brasil   \n",
       "1888445     Não se aplica    ...               Brasil          Brasil   \n",
       "\n",
       "                                             titulo_bolsa sigla_instituicao  \\\n",
       "1806773  PROGRAMA DE INTERIORIZACAO DO TRABALHO EM SAUDE.                MS   \n",
       "1885459                                  NÃO-ESPECIFICADO                MS   \n",
       "1888445  PROGRAMA DE INTERIORIZACAO DO TRABALHO EM SAUDE.                MS   \n",
       "\n",
       "                                  modalidade                      nome  \\\n",
       "1806773  Interiorização do Trabalho em Saúde  Marcio Ferreira da Silva   \n",
       "1885459  Interiorização do Trabalho em Saúde   Sirliane de Souza Paiva   \n",
       "1888445  Interiorização do Trabalho em Saúde      Marilia Luz Daddario   \n",
       "\n",
       "                                natureza_juridica codigo_pt1 codigo_pt2  \\\n",
       "1806773  Órgão Público do Poder Executivo Federal     381706       2002   \n",
       "1885459  Órgão Público do Poder Executivo Federal     380575       2001   \n",
       "1888445  Órgão Público do Poder Executivo Federal     381705       2002   \n",
       "\n",
       "        codigo_pt3  \n",
       "1806773          8  \n",
       "1885459          9  \n",
       "1888445          1  \n",
       "\n",
       "[3 rows x 23 columns]"
      ]
     },
     "execution_count": 157,
     "metadata": {},
     "output_type": "execute_result"
    }
   ],
   "source": [
    "cnpq.nlargest(3, \"qtd_bolsa_ano\")\n",
    "# 28.85?!"
   ]
  },
  {
   "cell_type": "code",
   "execution_count": 42,
   "metadata": {
    "collapsed": false,
    "deletable": true,
    "editable": true
   },
   "outputs": [
    {
     "data": {
      "text/plain": [
       "False   1.094.627\n",
       "True    1.046.196\n",
       "Name: qtd_bolsa_ano, dtype: int64"
      ]
     },
     "execution_count": 42,
     "metadata": {},
     "output_type": "execute_result"
    }
   ],
   "source": [
    "# series que guarda, para cada registro, se o valor de qtd_bolsa_ano\n",
    "#   é menor ou igual a .5\n",
    "leleq = cnpq.qtd_bolsa_ano <= .5\n",
    "\n",
    "leleq.value_counts()"
   ]
  },
  {
   "cell_type": "markdown",
   "metadata": {
    "deletable": true,
    "editable": true
   },
   "source": [
    "# Exercício 2"
   ]
  },
  {
   "cell_type": "markdown",
   "metadata": {
    "deletable": true,
    "editable": true
   },
   "source": [
    "<hr />"
   ]
  },
  {
   "cell_type": "markdown",
   "metadata": {
    "deletable": true,
    "editable": true
   },
   "source": [
    "## coluna: qtd_meses_pagos"
   ]
  },
  {
   "cell_type": "code",
   "execution_count": 6,
   "metadata": {
    "collapsed": false,
    "deletable": true,
    "editable": true
   },
   "outputs": [
    {
     "data": {
      "text/plain": [
       "count   2.140.823,00\n",
       "mean            6,41\n",
       "std             3,67\n",
       "min             0,06\n",
       "25%             3,90\n",
       "50%             6,00\n",
       "75%            10,00\n",
       "max           346,15\n",
       "Name: qtd_meses_pagos, dtype: float64"
      ]
     },
     "execution_count": 6,
     "metadata": {},
     "output_type": "execute_result"
    }
   ],
   "source": [
    "cnpq.qtd_meses_pagos.describe() # estranho não ser inteiro..."
   ]
  },
  {
   "cell_type": "code",
   "execution_count": 38,
   "metadata": {
    "collapsed": false,
    "deletable": true,
    "editable": true
   },
   "outputs": [
    {
     "data": {
      "text/plain": [
       "(4.0, 5.0]     380.759\n",
       "(6.0, 7.0]     345.995\n",
       "(11.0, 12.0]   341.165\n",
       "(1.0, 2.0]     298.855\n",
       "(9.0, 10.0]    147.868\n",
       "Name: qtd_meses_pagos, dtype: int64"
      ]
     },
     "execution_count": 38,
     "metadata": {},
     "output_type": "execute_result"
    }
   ],
   "source": [
    "# pd.cut classifica cada valor em um bin, dentre os bins informados\n",
    "# no exemplo, utilizei np.arange(0, cnpq.qtd_meses_pagos.max() + 1)\n",
    "#    que retornará uma sequência na forma [0, 1, 2, ..., qtd_meses_pago.max()+1]\n",
    "#    contendo bins com tamanho 1, do 0 ao teto do valor máximo de qtd_meses_pago\n",
    "\n",
    "# pode passar apenas a quantidade de bins\n",
    "pd.cut(cnpq.qtd_meses_pagos, np.arange(0, cnpq.qtd_meses_pagos.max() + 1))\\\n",
    ".value_counts()\\\n",
    ".nlargest(5)"
   ]
  },
  {
   "cell_type": "code",
   "execution_count": 25,
   "metadata": {
    "collapsed": false,
    "deletable": true,
    "editable": true
   },
   "outputs": [
    {
     "data": {
      "text/plain": [
       "(0.059, 6.0]     1.120.100\n",
       "(6.0, 10.0]        626.202\n",
       "(10.0, 346.15]     394.521\n",
       "Name: qtd_meses_pagos, dtype: int64"
      ]
     },
     "execution_count": 25,
     "metadata": {},
     "output_type": "execute_result"
    }
   ],
   "source": [
    "# pd.qcut classifica em bins de acordo com as porcentagens informadas\n",
    "#    no exemplo, foram informados [0., .2, .4, ..., 1.]\n",
    "#    qcut irá classificar o valor no bin [0., .2] se ele estiver entre os primeiros 20% dos dados\n",
    "#    ordenados de forma ascendente\n",
    "pd.qcut(cnpq.qtd_meses_pagos, [.0, .5, .8, 1.])\\\n",
    ".value_counts()\\\n",
    ".sort_index()"
   ]
  },
  {
   "cell_type": "code",
   "execution_count": 28,
   "metadata": {
    "collapsed": false,
    "deletable": true,
    "editable": true
   },
   "outputs": [
    {
     "data": {
      "text/plain": [
       "False"
      ]
     },
     "execution_count": 28,
     "metadata": {},
     "output_type": "execute_result"
    }
   ],
   "source": [
    "# qtd_meses_pagos = qtd_bolsa_ano * 12 ?\n",
    "\n",
    "# divergência menor ou igual a 10% do valor\n",
    "bolsa_meses = np.isclose(cnpq.qtd_meses_pagos, cnpq.qtd_bolsa_ano * 12, rtol=0.1, atol=0.)\n",
    "bolsa_meses.all()"
   ]
  },
  {
   "cell_type": "code",
   "execution_count": 31,
   "metadata": {
    "collapsed": false,
    "deletable": true,
    "editable": true
   },
   "outputs": [
    {
     "data": {
      "text/html": [
       "<div>\n",
       "<style>\n",
       "    .dataframe thead tr:only-child th {\n",
       "        text-align: right;\n",
       "    }\n",
       "\n",
       "    .dataframe thead th {\n",
       "        text-align: left;\n",
       "    }\n",
       "\n",
       "    .dataframe tbody tr th {\n",
       "        vertical-align: top;\n",
       "    }\n",
       "</style>\n",
       "<table border=\"1\" class=\"dataframe\">\n",
       "  <thead>\n",
       "    <tr style=\"text-align: right;\">\n",
       "      <th></th>\n",
       "      <th>qtd_bolsa_ano</th>\n",
       "      <th>qtd_meses_pagos</th>\n",
       "    </tr>\n",
       "  </thead>\n",
       "  <tbody>\n",
       "    <tr>\n",
       "      <th>552.841</th>\n",
       "      <td>1,00</td>\n",
       "      <td>2,00</td>\n",
       "    </tr>\n",
       "    <tr>\n",
       "      <th>162.930</th>\n",
       "      <td>1,00</td>\n",
       "      <td>2,00</td>\n",
       "    </tr>\n",
       "    <tr>\n",
       "      <th>162.742</th>\n",
       "      <td>1,00</td>\n",
       "      <td>2,00</td>\n",
       "    </tr>\n",
       "    <tr>\n",
       "      <th>1.137.221</th>\n",
       "      <td>1,00</td>\n",
       "      <td>2,00</td>\n",
       "    </tr>\n",
       "    <tr>\n",
       "      <th>590.540</th>\n",
       "      <td>1,00</td>\n",
       "      <td>2,00</td>\n",
       "    </tr>\n",
       "  </tbody>\n",
       "</table>\n",
       "</div>"
      ],
      "text/plain": [
       "           qtd_bolsa_ano  qtd_meses_pagos\n",
       "552.841             1,00             2,00\n",
       "162.930             1,00             2,00\n",
       "162.742             1,00             2,00\n",
       "1.137.221           1,00             2,00\n",
       "590.540             1,00             2,00"
      ]
     },
     "execution_count": 31,
     "metadata": {},
     "output_type": "execute_result"
    }
   ],
   "source": [
    "# vamos ver alguns exemplos\n",
    "cnpq[~bolsa_meses].sample(5)[[\"qtd_bolsa_ano\", \"qtd_meses_pagos\"]]"
   ]
  },
  {
   "cell_type": "code",
   "execution_count": 35,
   "metadata": {
    "collapsed": false,
    "deletable": true,
    "editable": true
   },
   "outputs": [
    {
     "data": {
      "text/plain": [
       "qtd_bolsa_ano  qtd_meses_pagos\n",
       "0,62           1,24                7\n",
       "0,02           0,29                1\n",
       "0,27           0,53                1\n",
       "0,83           1,65                1\n",
       "1,80           3,58                1\n",
       "2,00           4,00                1\n",
       "1,23           2,46                4\n",
       "0,66           1,31               38\n",
       "1,31           2,62              245\n",
       "0,02           0,20                1\n",
       "dtype: int64"
      ]
     },
     "execution_count": 35,
     "metadata": {},
     "output_type": "execute_result"
    }
   ],
   "source": [
    "cnpq[~bolsa_meses].groupby([\"qtd_bolsa_ano\", \"qtd_meses_pagos\"]).size().sample(10)"
   ]
  },
  {
   "cell_type": "code",
   "execution_count": 33,
   "metadata": {
    "collapsed": true,
    "deletable": true,
    "editable": true
   },
   "outputs": [],
   "source": [
    "# OK, não sabemos o significado dessas duas colunas :)\n",
    "# imagino que qtd_meses_pagos é uma porcentagem de um total de bolsas previstas, não um percentual de bolsas por ano"
   ]
  },
  {
   "cell_type": "markdown",
   "metadata": {
    "deletable": true,
    "editable": true
   },
   "source": [
    "# Exercício 3"
   ]
  },
  {
   "cell_type": "markdown",
   "metadata": {
    "deletable": true,
    "editable": true
   },
   "source": [
    "<hr />"
   ]
  },
  {
   "cell_type": "markdown",
   "metadata": {
    "deletable": true,
    "editable": true
   },
   "source": [
    "## coluna: sexo"
   ]
  },
  {
   "cell_type": "code",
   "execution_count": 40,
   "metadata": {
    "collapsed": false,
    "deletable": true,
    "editable": true
   },
   "outputs": [
    {
     "data": {
      "text/plain": [
       "count     2140823\n",
       "unique          3\n",
       "top             F\n",
       "freq      1076992\n",
       "Name: sexo, dtype: object"
      ]
     },
     "execution_count": 40,
     "metadata": {},
     "output_type": "execute_result"
    }
   ],
   "source": [
    "cnpq.sexo.describe()"
   ]
  },
  {
   "cell_type": "code",
   "execution_count": 41,
   "metadata": {
    "collapsed": false,
    "deletable": true,
    "editable": true
   },
   "outputs": [
    {
     "data": {
      "text/plain": [
       "F                  1.076.992\n",
       "M                  1.060.288\n",
       "NÃO-ESPECIFICADO       3.543\n",
       "Name: sexo, dtype: int64"
      ]
     },
     "execution_count": 41,
     "metadata": {},
     "output_type": "execute_result"
    }
   ],
   "source": [
    "cnpq.sexo.value_counts()"
   ]
  },
  {
   "cell_type": "markdown",
   "metadata": {
    "deletable": true,
    "editable": true
   },
   "source": [
    "## coluna: uf_instituicao"
   ]
  },
  {
   "cell_type": "code",
   "execution_count": 175,
   "metadata": {
    "collapsed": false,
    "deletable": true,
    "editable": true
   },
   "outputs": [
    {
     "data": {
      "text/plain": [
       "count     2140809\n",
       "unique         29\n",
       "top            SP\n",
       "freq       483406\n",
       "Name: uf_instituicao, dtype: object"
      ]
     },
     "execution_count": 175,
     "metadata": {},
     "output_type": "execute_result"
    }
   ],
   "source": [
    "cnpq.uf_instituicao.describe()"
   ]
  },
  {
   "cell_type": "code",
   "execution_count": 176,
   "metadata": {
    "collapsed": false,
    "deletable": true,
    "editable": true
   },
   "outputs": [
    {
     "data": {
      "text/plain": [
       "SP                  483406\n",
       "RJ                  363196\n",
       "MG                  191020\n",
       "RS                  186826\n",
       "DF                  119987\n",
       "PR                   97083\n",
       "PE                   83622\n",
       "NÃO-ESPECIFICADO     79533\n",
       "SC                   79324\n",
       "CE                   68030\n",
       "BA                   60960\n",
       "PB                   53042\n",
       "PA                   44332\n",
       "RN                   40624\n",
       "GO                   30562\n",
       "AM                   28621\n",
       "MS                   21711\n",
       "MT                   16612\n",
       "AL                   16238\n",
       "ES                   15485\n",
       "SE                   15438\n",
       "MA                   11869\n",
       "PI                   11341\n",
       "TO                    6423\n",
       "RO                    5235\n",
       "AC                    4745\n",
       "AP                    2729\n",
       "RR                    2589\n",
       "NI                     226\n",
       "Name: uf_instituicao, dtype: int64"
      ]
     },
     "execution_count": 176,
     "metadata": {},
     "output_type": "execute_result"
    }
   ],
   "source": [
    "cnpq.uf_instituicao.value_counts()"
   ]
  },
  {
   "cell_type": "code",
   "execution_count": 178,
   "metadata": {
    "collapsed": false,
    "deletable": true,
    "editable": true
   },
   "outputs": [
    {
     "data": {
      "text/plain": [
       "1110398         ULETH\n",
       "1075326         UNIFE\n",
       "1102496           SHU\n",
       "1104538          LSBU\n",
       "1071519    BORDEAUX 3\n",
       "1129355         OTAGO\n",
       "1107190      UALBERTA\n",
       "1093124        LEIDEN\n",
       "1115696        MONASH\n",
       "1134975           UPC\n",
       "Name: sigla_instituicao, dtype: object"
      ]
     },
     "execution_count": 178,
     "metadata": {},
     "output_type": "execute_result"
    }
   ],
   "source": [
    "cnpq[cnpq.uf_instituicao == \"NÃO-ESPECIFICADO\"].sample(10)[\"sigla_instituicao\"]\n",
    "# parece que são do exterior"
   ]
  },
  {
   "cell_type": "code",
   "execution_count": 179,
   "metadata": {
    "collapsed": false,
    "deletable": true,
    "editable": true
   },
   "outputs": [
    {
     "data": {
      "text/plain": [
       "1088147    Não informada\n",
       "1090445    Não informada\n",
       "1080524    Não informada\n",
       "1080949    Não informada\n",
       "1090442    Não informada\n",
       "1059983    Não informada\n",
       "1086716    Não informada\n",
       "1059851    Não informada\n",
       "1083906    Não informada\n",
       "1080326    Não informada\n",
       "Name: sigla_instituicao, dtype: object"
      ]
     },
     "execution_count": 179,
     "metadata": {},
     "output_type": "execute_result"
    }
   ],
   "source": [
    "cnpq[cnpq.uf_instituicao == \"NI\"].sample(10)[\"sigla_instituicao\"]"
   ]
  },
  {
   "cell_type": "markdown",
   "metadata": {
    "deletable": true,
    "editable": true
   },
   "source": [
    "## coluna: valor_total"
   ]
  },
  {
   "cell_type": "code",
   "execution_count": 43,
   "metadata": {
    "collapsed": false,
    "deletable": true,
    "editable": true
   },
   "outputs": [
    {
     "data": {
      "text/plain": [
       "count   2.140.823,00\n",
       "mean        7.688,29\n",
       "std        11.438,46\n",
       "min             0,01\n",
       "25%         1.500,00\n",
       "50%         2.594,00\n",
       "75%        10.736,00\n",
       "max     1.523.861,58\n",
       "Name: valor_total, dtype: float64"
      ]
     },
     "execution_count": 43,
     "metadata": {},
     "output_type": "execute_result"
    }
   ],
   "source": [
    "cnpq.valor_total.describe()"
   ]
  },
  {
   "cell_type": "code",
   "execution_count": 44,
   "metadata": {
    "collapsed": false,
    "deletable": true,
    "editable": true
   },
   "outputs": [
    {
     "data": {
      "text/plain": [
       "Index(['ano', 'codigo', 'id_bolsista', 'qtd_bolsa_ano', 'qtd_meses_pagos',\n",
       "       'sexo', 'uf_instituicao', 'valor_total', 'curso', 'area_conhecimento',\n",
       "       'especialidade', 'sub_area_conhecimento', 'grande_area_conhecimento',\n",
       "       'pais_instituicao', 'pais_nascimento', 'titulo_bolsa',\n",
       "       'sigla_instituicao', 'modalidade', 'nome', 'natureza_juridica'],\n",
       "      dtype='object')"
      ]
     },
     "execution_count": 44,
     "metadata": {},
     "output_type": "execute_result"
    }
   ],
   "source": [
    "cnpq.columns"
   ]
  },
  {
   "cell_type": "markdown",
   "metadata": {
    "deletable": true,
    "editable": true
   },
   "source": [
    "# Exercício 4"
   ]
  }
 ],
 "metadata": {
  "anaconda-cloud": {},
  "kernelspec": {
   "display_name": "Python 3",
   "language": "python",
   "name": "python3"
  },
  "language_info": {
   "codemirror_mode": {
    "name": "ipython",
    "version": 3
   },
   "file_extension": ".py",
   "mimetype": "text/x-python",
   "name": "python",
   "nbconvert_exporter": "python",
   "pygments_lexer": "ipython3",
   "version": "3.6.1"
  }
 },
 "nbformat": 4,
 "nbformat_minor": 1
}
