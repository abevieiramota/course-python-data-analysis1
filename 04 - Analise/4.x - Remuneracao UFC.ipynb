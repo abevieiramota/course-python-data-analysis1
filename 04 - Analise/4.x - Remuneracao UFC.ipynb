{
 "cells": [
  {
   "cell_type": "markdown",
   "metadata": {
    "deletable": true,
    "editable": true,
    "extensions": {
     "jupyter_dashboards": {
      "version": 1,
      "views": {
       "grid_default": {
        "col": 4,
        "height": 4,
        "hidden": false,
        "row": 63,
        "width": 4
       },
       "report_default": {
        "hidden": false
       }
      }
     }
    }
   },
   "source": [
    "# Dataset de servidores lotados na UFC\n",
    "\n",
    "Dataset gerado a partir dos [dados de cadastro e de remuneração de servidores públicos federais](http://portaldatransparencia.gov.br/downloads/servidores.asp), de fevereiro de 2017.\n",
    "  \n",
    "Consulta por servidor: http://portaldatransparencia.gov.br/servidores/Servidor-ListaServidores.asp"
   ]
  },
  {
   "cell_type": "code",
   "execution_count": 34,
   "metadata": {
    "collapsed": false,
    "deletable": true,
    "editable": true,
    "extensions": {
     "jupyter_dashboards": {
      "version": 1,
      "views": {
       "grid_default": {
        "hidden": true
       },
       "report_default": {
        "hidden": true
       }
      }
     }
    }
   },
   "outputs": [],
   "source": [
    "import pandas as pd\n",
    "import numpy as np\n",
    "from numpy import dtype\n",
    "from matplotlib import pyplot as plt\n",
    "%matplotlib inline\n",
    "%run ../configura_display.py\n",
    "%run ../../dataset-remuneracao-federal/read_dataset.py"
   ]
  },
  {
   "cell_type": "code",
   "execution_count": 35,
   "metadata": {
    "collapsed": false
   },
   "outputs": [],
   "source": [
    "df = read_ufc()"
   ]
  },
  {
   "cell_type": "code",
   "execution_count": 36,
   "metadata": {
    "collapsed": false
   },
   "outputs": [
    {
     "name": "stdout",
     "output_type": "stream",
     "text": [
      "#linhas: 342200\n",
      "#colunas: 59\n"
     ]
    }
   ],
   "source": [
    "print(\"#linhas: {}\\n#colunas: {}\".format(*df.shape))"
   ]
  },
  {
   "cell_type": "code",
   "execution_count": 30,
   "metadata": {
    "collapsed": false
   },
   "outputs": [
    {
     "data": {
      "text/html": [
       "<div>\n",
       "<style>\n",
       "    .dataframe thead tr:only-child th {\n",
       "        text-align: right;\n",
       "    }\n",
       "\n",
       "    .dataframe thead th {\n",
       "        text-align: left;\n",
       "    }\n",
       "\n",
       "    .dataframe tbody tr th {\n",
       "        vertical-align: top;\n",
       "    }\n",
       "</style>\n",
       "<table border=\"1\" class=\"dataframe\">\n",
       "  <thead>\n",
       "    <tr style=\"text-align: right;\">\n",
       "      <th></th>\n",
       "      <th>268725</th>\n",
       "    </tr>\n",
       "  </thead>\n",
       "  <tbody>\n",
       "    <tr>\n",
       "      <th>MES_ANO</th>\n",
       "      <td>2016-03-01 00:00:00</td>\n",
       "    </tr>\n",
       "    <tr>\n",
       "      <th>Id_SERVIDOR_PORTAL</th>\n",
       "      <td>1139166</td>\n",
       "    </tr>\n",
       "    <tr>\n",
       "      <th>CLASSE_CARGO</th>\n",
       "      <td>7</td>\n",
       "    </tr>\n",
       "    <tr>\n",
       "      <th>REFERENCIA_CARGO</th>\n",
       "      <td>NaN</td>\n",
       "    </tr>\n",
       "    <tr>\n",
       "      <th>PADRAO_CARGO</th>\n",
       "      <td>NaN</td>\n",
       "    </tr>\n",
       "    <tr>\n",
       "      <th>NIVEL_CARGO</th>\n",
       "      <td>702,00</td>\n",
       "    </tr>\n",
       "    <tr>\n",
       "      <th>NIVEL_FUNCAO</th>\n",
       "      <td>NaN</td>\n",
       "    </tr>\n",
       "    <tr>\n",
       "      <th>FUNCAO</th>\n",
       "      <td>NaN</td>\n",
       "    </tr>\n",
       "    <tr>\n",
       "      <th>ATIVIDADE</th>\n",
       "      <td>NaN</td>\n",
       "    </tr>\n",
       "    <tr>\n",
       "      <th>TIPO_VINCULO</th>\n",
       "      <td>2</td>\n",
       "    </tr>\n",
       "    <tr>\n",
       "      <th>DATA_INICIO_AFASTAMENTO</th>\n",
       "      <td>Não informada</td>\n",
       "    </tr>\n",
       "    <tr>\n",
       "      <th>DATA_TERMINO_AFASTAMENTO</th>\n",
       "      <td>Não informada</td>\n",
       "    </tr>\n",
       "    <tr>\n",
       "      <th>DATA_INGRESSO_CARGOFUNCAO</th>\n",
       "      <td>27/02/2002</td>\n",
       "    </tr>\n",
       "    <tr>\n",
       "      <th>DATA_NOMEACAO_CARGOFUNCAO</th>\n",
       "      <td>NaN</td>\n",
       "    </tr>\n",
       "    <tr>\n",
       "      <th>DATA_INGRESSO_ORGAO</th>\n",
       "      <td>26/02/2002</td>\n",
       "    </tr>\n",
       "    <tr>\n",
       "      <th>DATA_DIPLOMA_INGRESSO_SERVICOPUBLICO</th>\n",
       "      <td>27/02/2002</td>\n",
       "    </tr>\n",
       "    <tr>\n",
       "      <th>ID_SERVIDOR_PORTAL</th>\n",
       "      <td>1139166</td>\n",
       "    </tr>\n",
       "    <tr>\n",
       "      <th>REMUNERAÇÃO BÁSICA BRUTA (R$)</th>\n",
       "      <td>14.317,50</td>\n",
       "    </tr>\n",
       "    <tr>\n",
       "      <th>REMUNERAÇÃO BÁSICA BRUTA (U$)</th>\n",
       "      <td>0,00</td>\n",
       "    </tr>\n",
       "    <tr>\n",
       "      <th>ABATE-TETO (R$)</th>\n",
       "      <td>0,00</td>\n",
       "    </tr>\n",
       "    <tr>\n",
       "      <th>ABATE-TETO (U$)</th>\n",
       "      <td>0,00</td>\n",
       "    </tr>\n",
       "    <tr>\n",
       "      <th>GRATIFICAÇÃO NATALINA (R$)</th>\n",
       "      <td>0,00</td>\n",
       "    </tr>\n",
       "    <tr>\n",
       "      <th>GRATIFICAÇÃO NATALINA (U$)</th>\n",
       "      <td>0,00</td>\n",
       "    </tr>\n",
       "    <tr>\n",
       "      <th>ABATE-TETO DA GRATIFICAÇÃO NATALINA (R$)</th>\n",
       "      <td>0,00</td>\n",
       "    </tr>\n",
       "    <tr>\n",
       "      <th>ABATE-TETO DA GRATIFICAÇÃO NATALINA (U$)</th>\n",
       "      <td>0,00</td>\n",
       "    </tr>\n",
       "    <tr>\n",
       "      <th>FÉRIAS (R$)</th>\n",
       "      <td>0,00</td>\n",
       "    </tr>\n",
       "    <tr>\n",
       "      <th>FÉRIAS (U$)</th>\n",
       "      <td>0,00</td>\n",
       "    </tr>\n",
       "    <tr>\n",
       "      <th>OUTRAS REMUNERAÇÕES EVENTUAIS (R$)</th>\n",
       "      <td>0,00</td>\n",
       "    </tr>\n",
       "    <tr>\n",
       "      <th>OUTRAS REMUNERAÇÕES EVENTUAIS (U$)</th>\n",
       "      <td>0,00</td>\n",
       "    </tr>\n",
       "    <tr>\n",
       "      <th>IRRF (R$)</th>\n",
       "      <td>-2634,84</td>\n",
       "    </tr>\n",
       "    <tr>\n",
       "      <th>IRRF (U$)</th>\n",
       "      <td>0,00</td>\n",
       "    </tr>\n",
       "    <tr>\n",
       "      <th>PSS/RPGS (R$)</th>\n",
       "      <td>-1.574,92</td>\n",
       "    </tr>\n",
       "    <tr>\n",
       "      <th>PSS/RPGS (U$)</th>\n",
       "      <td>0,00</td>\n",
       "    </tr>\n",
       "    <tr>\n",
       "      <th>PENSÃO MILITAR (R$)</th>\n",
       "      <td>0,00</td>\n",
       "    </tr>\n",
       "    <tr>\n",
       "      <th>PENSÃO MILITAR (U$)</th>\n",
       "      <td>0,00</td>\n",
       "    </tr>\n",
       "    <tr>\n",
       "      <th>FUNDO DE SAÚDE (R$)</th>\n",
       "      <td>0,00</td>\n",
       "    </tr>\n",
       "    <tr>\n",
       "      <th>FUNDO DE SAÚDE (U$)</th>\n",
       "      <td>0,00</td>\n",
       "    </tr>\n",
       "    <tr>\n",
       "      <th>DEMAIS DEDUÇÕES (R$)</th>\n",
       "      <td>0,00</td>\n",
       "    </tr>\n",
       "    <tr>\n",
       "      <th>DEMAIS DEDUÇÕES (U$)</th>\n",
       "      <td>0,00</td>\n",
       "    </tr>\n",
       "    <tr>\n",
       "      <th>REMUNERAÇÃO APÓS DEDUÇÕES OBRIGATÓRIAS (R$)</th>\n",
       "      <td>10.107,74</td>\n",
       "    </tr>\n",
       "    <tr>\n",
       "      <th>REMUNERAÇÃO APÓS DEDUÇÕES OBRIGATÓRIAS (U$)</th>\n",
       "      <td>0,00</td>\n",
       "    </tr>\n",
       "    <tr>\n",
       "      <th>VERBAS INDENIZATÓRIAS REGISTRADAS EM SISTEMAS DE PESSOAL - CIVIL (R$)(*)</th>\n",
       "      <td>579,14</td>\n",
       "    </tr>\n",
       "    <tr>\n",
       "      <th>VERBAS INDENIZATÓRIAS REGISTRADAS EM SISTEMAS DE PESSOAL - CIVIL (U$)(*)</th>\n",
       "      <td>0,00</td>\n",
       "    </tr>\n",
       "    <tr>\n",
       "      <th>VERBAS INDENIZATÓRIAS REGISTRADAS EM SISTEMAS DE PESSOAL - MILITAR (R$)(*)</th>\n",
       "      <td>0,00</td>\n",
       "    </tr>\n",
       "    <tr>\n",
       "      <th>VERBAS INDENIZATÓRIAS REGISTRADAS EM SISTEMAS DE PESSOAL - MILITAR (U$)(*)</th>\n",
       "      <td>0,00</td>\n",
       "    </tr>\n",
       "    <tr>\n",
       "      <th>TOTAL DE VERBAS INDENIZATÓRIAS (R$)(*)</th>\n",
       "      <td>579,14</td>\n",
       "    </tr>\n",
       "    <tr>\n",
       "      <th>TOTAL DE VERBAS INDENIZATÓRIAS (U$)(*)</th>\n",
       "      <td>0,00</td>\n",
       "    </tr>\n",
       "    <tr>\n",
       "      <th>NOME</th>\n",
       "      <td>HUGO OSVALDO ACOSTA REINALDO</td>\n",
       "    </tr>\n",
       "    <tr>\n",
       "      <th>DESCRICAO_CARGO</th>\n",
       "      <td>PROFESSOR DO MAGISTERIO SUPERIOR</td>\n",
       "    </tr>\n",
       "    <tr>\n",
       "      <th>UORG_LOTACAO</th>\n",
       "      <td>DEPARTAMENTO DE ADMINISTRACAO/FEAAC</td>\n",
       "    </tr>\n",
       "    <tr>\n",
       "      <th>ORG_LOTACAO</th>\n",
       "      <td>UNIVERSIDADE FEDERAL DO CEARA</td>\n",
       "    </tr>\n",
       "    <tr>\n",
       "      <th>ORGSUP_LOTACAO</th>\n",
       "      <td>MINISTERIO DA EDUCACAO</td>\n",
       "    </tr>\n",
       "    <tr>\n",
       "      <th>UORG_EXERCICIO</th>\n",
       "      <td>DEPARTAMENTO DE ADMINISTRACAO/FEAAC</td>\n",
       "    </tr>\n",
       "    <tr>\n",
       "      <th>ORG_EXERCICIO</th>\n",
       "      <td>UNIVERSIDADE FEDERAL DO CEARA</td>\n",
       "    </tr>\n",
       "    <tr>\n",
       "      <th>ORGSUP_EXERCICIO</th>\n",
       "      <td>MINISTERIO DA EDUCACAO</td>\n",
       "    </tr>\n",
       "    <tr>\n",
       "      <th>SITUACAO_VINCULO</th>\n",
       "      <td>ATIVO PERMANENTE</td>\n",
       "    </tr>\n",
       "    <tr>\n",
       "      <th>REGIME_JURIDICO</th>\n",
       "      <td>REGIME JURIDICO UNICO</td>\n",
       "    </tr>\n",
       "    <tr>\n",
       "      <th>JORNADA_DE_TRABALHO</th>\n",
       "      <td>DEDICACAO EXCLUSIVA</td>\n",
       "    </tr>\n",
       "    <tr>\n",
       "      <th>OBSERVACAO</th>\n",
       "      <td>NÃO-ESPECIFICADO</td>\n",
       "    </tr>\n",
       "  </tbody>\n",
       "</table>\n",
       "</div>"
      ],
      "text/plain": [
       "                                                                                268.725\n",
       "MES_ANO                                                             2016-03-01 00:00:00\n",
       "Id_SERVIDOR_PORTAL                                                              1139166\n",
       "CLASSE_CARGO                                                                          7\n",
       "REFERENCIA_CARGO                                                                    NaN\n",
       "PADRAO_CARGO                                                                        NaN\n",
       "NIVEL_CARGO                                                                      702,00\n",
       "NIVEL_FUNCAO                                                                        NaN\n",
       "FUNCAO                                                                              NaN\n",
       "ATIVIDADE                                                                           NaN\n",
       "TIPO_VINCULO                                                                          2\n",
       "DATA_INICIO_AFASTAMENTO                                                   Não informada\n",
       "DATA_TERMINO_AFASTAMENTO                                                  Não informada\n",
       "DATA_INGRESSO_CARGOFUNCAO                                                    27/02/2002\n",
       "DATA_NOMEACAO_CARGOFUNCAO                                                           NaN\n",
       "DATA_INGRESSO_ORGAO                                                          26/02/2002\n",
       "DATA_DIPLOMA_INGRESSO_SERVICOPUBLICO                                         27/02/2002\n",
       "ID_SERVIDOR_PORTAL                                                              1139166\n",
       "REMUNERAÇÃO BÁSICA BRUTA (R$)                                                 14.317,50\n",
       "REMUNERAÇÃO BÁSICA BRUTA (U$)                                                      0,00\n",
       "ABATE-TETO (R$)                                                                    0,00\n",
       "ABATE-TETO (U$)                                                                    0,00\n",
       "GRATIFICAÇÃO NATALINA (R$)                                                         0,00\n",
       "GRATIFICAÇÃO NATALINA (U$)                                                         0,00\n",
       "ABATE-TETO DA GRATIFICAÇÃO NATALINA (R$)                                           0,00\n",
       "ABATE-TETO DA GRATIFICAÇÃO NATALINA (U$)                                           0,00\n",
       "FÉRIAS (R$)                                                                        0,00\n",
       "FÉRIAS (U$)                                                                        0,00\n",
       "OUTRAS REMUNERAÇÕES EVENTUAIS (R$)                                                 0,00\n",
       "OUTRAS REMUNERAÇÕES EVENTUAIS (U$)                                                 0,00\n",
       "IRRF (R$)                                                                      -2634,84\n",
       "IRRF (U$)                                                                          0,00\n",
       "PSS/RPGS (R$)                                                                 -1.574,92\n",
       "PSS/RPGS (U$)                                                                      0,00\n",
       "PENSÃO MILITAR (R$)                                                                0,00\n",
       "PENSÃO MILITAR (U$)                                                                0,00\n",
       "FUNDO DE SAÚDE (R$)                                                                0,00\n",
       "FUNDO DE SAÚDE (U$)                                                                0,00\n",
       "DEMAIS DEDUÇÕES (R$)                                                               0,00\n",
       "DEMAIS DEDUÇÕES (U$)                                                               0,00\n",
       "REMUNERAÇÃO APÓS DEDUÇÕES OBRIGATÓRIAS (R$)                                   10.107,74\n",
       "REMUNERAÇÃO APÓS DEDUÇÕES OBRIGATÓRIAS (U$)                                        0,00\n",
       "VERBAS INDENIZATÓRIAS REGISTRADAS EM SISTEMAS D...                               579,14\n",
       "VERBAS INDENIZATÓRIAS REGISTRADAS EM SISTEMAS D...                                 0,00\n",
       "VERBAS INDENIZATÓRIAS REGISTRADAS EM SISTEMAS D...                                 0,00\n",
       "VERBAS INDENIZATÓRIAS REGISTRADAS EM SISTEMAS D...                                 0,00\n",
       "TOTAL DE VERBAS INDENIZATÓRIAS (R$)(*)                                           579,14\n",
       "TOTAL DE VERBAS INDENIZATÓRIAS (U$)(*)                                             0,00\n",
       "NOME                                                       HUGO OSVALDO ACOSTA REINALDO\n",
       "DESCRICAO_CARGO                                        PROFESSOR DO MAGISTERIO SUPERIOR\n",
       "UORG_LOTACAO                                        DEPARTAMENTO DE ADMINISTRACAO/FEAAC\n",
       "ORG_LOTACAO                                               UNIVERSIDADE FEDERAL DO CEARA\n",
       "ORGSUP_LOTACAO                                                   MINISTERIO DA EDUCACAO\n",
       "UORG_EXERCICIO                                      DEPARTAMENTO DE ADMINISTRACAO/FEAAC\n",
       "ORG_EXERCICIO                                             UNIVERSIDADE FEDERAL DO CEARA\n",
       "ORGSUP_EXERCICIO                                                 MINISTERIO DA EDUCACAO\n",
       "SITUACAO_VINCULO                                                       ATIVO PERMANENTE\n",
       "REGIME_JURIDICO                                                   REGIME JURIDICO UNICO\n",
       "JORNADA_DE_TRABALHO                                                 DEDICACAO EXCLUSIVA\n",
       "OBSERVACAO                                                             NÃO-ESPECIFICADO"
      ]
     },
     "execution_count": 30,
     "metadata": {},
     "output_type": "execute_result"
    }
   ],
   "source": [
    "df.sample().T"
   ]
  },
  {
   "cell_type": "code",
   "execution_count": 18,
   "metadata": {
    "collapsed": false
   },
   "outputs": [
    {
     "data": {
      "text/plain": [
       "<matplotlib.axes._subplots.AxesSubplot at 0x7fe081e34780>"
      ]
     },
     "execution_count": 18,
     "metadata": {},
     "output_type": "execute_result"
    },
    {
     "data": {
      "text/plain": [
       "(0, 5000)"
      ]
     },
     "execution_count": 18,
     "metadata": {},
     "output_type": "execute_result"
    },
    {
     "data": {
      "image/png": "[encoded data removed]",
      "text/plain": [
       "<matplotlib.figure.Figure at 0x7fe085415198>"
      ]
     },
     "metadata": {},
     "output_type": "display_data"
    }
   ],
   "source": [
    "df[df.NOME == \"ABELARDO VIEIRA MOTA\"]\\\n",
    ".plot(x=\"MES_ANO\", y=\"REMUNERAÇÃO BÁSICA BRUTA (R$)\")\n",
    "plt.ylim((0, 5000))"
   ]
  },
  {
   "cell_type": "markdown",
   "metadata": {},
   "source": [
    "# Como estão distribuídas as funções?"
   ]
  },
  {
   "cell_type": "code",
   "execution_count": 47,
   "metadata": {
    "collapsed": false
   },
   "outputs": [
    {
     "data": {
      "text/plain": [
       "<matplotlib.axes._subplots.AxesSubplot at 0x7fe082e8b860>"
      ]
     },
     "execution_count": 47,
     "metadata": {},
     "output_type": "execute_result"
    },
    {
     "data": {
      "text/plain": [
       "<matplotlib.legend.Legend at 0x7fe083113e48>"
      ]
     },
     "execution_count": 47,
     "metadata": {},
     "output_type": "execute_result"
    },
    {
     "data": {
      "image/png": "[encoded data removed]",
      "text/plain": [
       "<matplotlib.figure.Figure at 0x7fe082f54908>"
      ]
     },
     "metadata": {},
     "output_type": "display_data"
    }
   ],
   "source": [
    "df.groupby(['MES_ANO', 'FUNCAO']).size()\\\n",
    ".unstack()\\\n",
    ".plot.line(figsize=(10, 6))\n",
    "\n",
    "plt.legend(bbox_to_anchor=(.7, 1.4))"
   ]
  },
  {
   "cell_type": "code",
   "execution_count": 53,
   "metadata": {
    "collapsed": false
   },
   "outputs": [
    {
     "data": {
      "text/plain": [
       "7385"
      ]
     },
     "execution_count": 53,
     "metadata": {},
     "output_type": "execute_result"
    }
   ],
   "source": [
    "df_2017_01 = df[df.MES_ANO == '2017-01-01']\n",
    "len(df_2017_01)"
   ]
  },
  {
   "cell_type": "code",
   "execution_count": 79,
   "metadata": {
    "collapsed": false
   },
   "outputs": [
    {
     "data": {
      "text/plain": [
       "NUCLEO DE GESTAO                           15\n",
       "REITORIA                                   11\n",
       "DEPARTAMENTO DE LICITACAO                   9\n",
       "GABINETE DO REITOR                          9\n",
       "INSTITUTO DE CULTURA E ARTE                 7\n",
       "CAMPUS DA UFC EM SOBRAL/DIRETORIA           6\n",
       "CAMPUS DA UFC DE RUSSAS                     6\n",
       "CAMPUS DA UFC DE CRATEUS                    6\n",
       "INSTITUTO UNIVERSIDADE VIRTUAL              6\n",
       "NUCLEO DE PROG INST DE EXTENSAO             5\n",
       "CAMPUS DA UFC EM QUIXADA/DIRETORIA          5\n",
       "INSTITUTO DE CIENCIAS DO MAR                5\n",
       "COORDENADORIA DE LICITACOES                 5\n",
       "GABINETE DO REITOR/UFCA                     4\n",
       "INSTITUTO DE EDUCACAO FISICA E ESPORTES     4\n",
       "SUPERINTENDENCIA DE INFRAESTRUTURA          4\n",
       "DEPARTAMENTO DE ADMINISTRACAO/FEAAC         4\n",
       "PRO-REITORIA DE GESTAO DE PESSOAS           4\n",
       "PRO-REITORIA DE ADMINISTRAÇÃO               4\n",
       "PRO-REITORIA DE PLANEJAMENTO                3\n",
       "PRO-REITORIA DE ENSINO                      3\n",
       "CENTRO DE CIENCIAS                          3\n",
       "DEPARTAMENTO DE ADMINISTRAÇÃO/PRAD          3\n",
       "PRO-REITORIA DE PESQ POS-GRAD E INOVAC      3\n",
       "DIVISAO DE PAGAMENTO DE PESSOAL ATIVO       3\n",
       "DEPTO DE HISTORIA                           3\n",
       "SECRETARIA ADMINISTRATIVA/PR/EXTENSAO       3\n",
       "AUDITORIA INTERNA                           3\n",
       "DEPTO DE BIOLOGIA                           3\n",
       "DIRETORIA DO C DE CIENC E TECNOLOGIA        3\n",
       "                                           ..\n",
       "DIVISAO DE PATRIMONIO                       1\n",
       "BIBLIOTECA DA FACULDADE DE DIREITO          1\n",
       "NUCLEO DE INFORMACAO DE GESTAO              1\n",
       "COORD DE POS-GRAD EM ECON RURAL             1\n",
       "COORDENACAO DE POS-GRADUACAO EM DIREITO     1\n",
       "BIB CENTRAL C PICI PROF JOSE DE A. MATOS    1\n",
       "PROG DE POS-GRAD EM ADM E CONTROLADORIA     1\n",
       "DEPARTAMENTO DE ATIVIDADES GERAIS           1\n",
       "PROG DE PG EM ENGENHARIA DE TRANSPORTES     1\n",
       "CASA DE CULTURA PORTUGUESA                  1\n",
       "ASSESSORIA DE ORCAMENTO E FINANCAS          1\n",
       "DIV DE ACOMP E AVAL DE ACOES                1\n",
       "CURSO DE ENGENHARIA CIVIL/RUSSAS            1\n",
       "COORD DO CURSO GRAD EM MEDICINA/CARIRI      1\n",
       "COORD GERAL DAS CASAS DE CULT ESTRANG       1\n",
       "PREFEITURA DO CAMPUS DO PORANGABUSSU        1\n",
       "DIVISAO DE SEGURANCA DA INFORMACAO          1\n",
       "COORD CURSO GRAD EM AGRONOMIA/CARIRI        1\n",
       "SECAO DE GERENCIAMENTO DE FROTA             1\n",
       "DIVISAO DE APOIO ADMINISTRATIVO/STI         1\n",
       "ALMOXARIFADO CENTRAL                        1\n",
       "BIBLIOTECA DO CURSO DE MATEMATICA           1\n",
       "DIVISAO DE DESENVOLVIMENTO CURRICULAR       1\n",
       "DIVISAO DE SERVICOS OPERACIONAIS            1\n",
       "DIVISAO DE PORTAIS UNIVERSITARIOS           1\n",
       "BIB DE P GRAD EM ECONOMIA                   1\n",
       "DIVISAO DE PROJETO DE PESQUISA              1\n",
       "DIVISAO DE ARTICULACAO ARTISTICA            1\n",
       "BIB DE P GRAD EM E AGRICOLA                 1\n",
       "COORD DO REFEITORIO UNIVERSITARIO           1\n",
       "Name: UORG_EXERCICIO, Length: 695, dtype: int64"
      ]
     },
     "execution_count": 79,
     "metadata": {},
     "output_type": "execute_result"
    }
   ],
   "source": [
    "df_2017_01[df_2017_01.FUNCAO.notnull()].UORG_EXERCICIO.value_counts()"
   ]
  },
  {
   "cell_type": "code",
   "execution_count": 80,
   "metadata": {
    "collapsed": false
   },
   "outputs": [
    {
     "data": {
      "text/html": [
       "<div>\n",
       "<style>\n",
       "    .dataframe thead tr:only-child th {\n",
       "        text-align: right;\n",
       "    }\n",
       "\n",
       "    .dataframe thead th {\n",
       "        text-align: left;\n",
       "    }\n",
       "\n",
       "    .dataframe tbody tr th {\n",
       "        vertical-align: top;\n",
       "    }\n",
       "</style>\n",
       "<table border=\"1\" class=\"dataframe\">\n",
       "  <thead>\n",
       "    <tr style=\"text-align: right;\">\n",
       "      <th></th>\n",
       "      <th>MES_ANO</th>\n",
       "      <th>Id_SERVIDOR_PORTAL</th>\n",
       "      <th>CLASSE_CARGO</th>\n",
       "      <th>REFERENCIA_CARGO</th>\n",
       "      <th>PADRAO_CARGO</th>\n",
       "      <th>NIVEL_CARGO</th>\n",
       "      <th>NIVEL_FUNCAO</th>\n",
       "      <th>FUNCAO</th>\n",
       "      <th>ATIVIDADE</th>\n",
       "      <th>TIPO_VINCULO</th>\n",
       "      <th>...</th>\n",
       "      <th>UORG_LOTACAO</th>\n",
       "      <th>ORG_LOTACAO</th>\n",
       "      <th>ORGSUP_LOTACAO</th>\n",
       "      <th>UORG_EXERCICIO</th>\n",
       "      <th>ORG_EXERCICIO</th>\n",
       "      <th>ORGSUP_EXERCICIO</th>\n",
       "      <th>SITUACAO_VINCULO</th>\n",
       "      <th>REGIME_JURIDICO</th>\n",
       "      <th>JORNADA_DE_TRABALHO</th>\n",
       "      <th>OBSERVACAO</th>\n",
       "    </tr>\n",
       "  </thead>\n",
       "  <tbody>\n",
       "    <tr>\n",
       "      <th>287.981</th>\n",
       "      <td>2017-01-01</td>\n",
       "      <td>1.043.920</td>\n",
       "      <td>NaN</td>\n",
       "      <td>nan</td>\n",
       "      <td>NaN</td>\n",
       "      <td>nan</td>\n",
       "      <td>4,00</td>\n",
       "      <td>CARGO DE  DIRECAO - CD - IFES</td>\n",
       "      <td>COORDENADOR DE COORDENADORIA</td>\n",
       "      <td>1</td>\n",
       "      <td>...</td>\n",
       "      <td>DEPTO DE COMPUTACAO</td>\n",
       "      <td>UNIVERSIDADE FEDERAL DO CEARA</td>\n",
       "      <td>MINISTERIO DA EDUCACAO</td>\n",
       "      <td>COORD DE PLANEJAMENTO INFORM E COMUNIC</td>\n",
       "      <td>UNIVERSIDADE FEDERAL DO CEARA</td>\n",
       "      <td>MINISTERIO DA EDUCACAO</td>\n",
       "      <td>ATIVO PERMANENTE</td>\n",
       "      <td>REGIME JURIDICO UNICO</td>\n",
       "      <td>DEDICACAO EXCLUSIVA</td>\n",
       "      <td>NÃO-ESPECIFICADO</td>\n",
       "    </tr>\n",
       "    <tr>\n",
       "      <th>288.028</th>\n",
       "      <td>2017-01-01</td>\n",
       "      <td>1.043.920</td>\n",
       "      <td>7</td>\n",
       "      <td>nan</td>\n",
       "      <td>NaN</td>\n",
       "      <td>702,00</td>\n",
       "      <td>nan</td>\n",
       "      <td>NaN</td>\n",
       "      <td>NaN</td>\n",
       "      <td>2</td>\n",
       "      <td>...</td>\n",
       "      <td>DEPTO DE COMPUTACAO</td>\n",
       "      <td>UNIVERSIDADE FEDERAL DO CEARA</td>\n",
       "      <td>MINISTERIO DA EDUCACAO</td>\n",
       "      <td>COORD DE PLANEJAMENTO INFORM E COMUNIC</td>\n",
       "      <td>UNIVERSIDADE FEDERAL DO CEARA</td>\n",
       "      <td>MINISTERIO DA EDUCACAO</td>\n",
       "      <td>ATIVO PERMANENTE</td>\n",
       "      <td>REGIME JURIDICO UNICO</td>\n",
       "      <td>DEDICACAO EXCLUSIVA</td>\n",
       "      <td>NÃO-ESPECIFICADO</td>\n",
       "    </tr>\n",
       "  </tbody>\n",
       "</table>\n",
       "<p>2 rows × 59 columns</p>\n",
       "</div>"
      ],
      "text/plain": [
       "           MES_ANO  Id_SERVIDOR_PORTAL CLASSE_CARGO  REFERENCIA_CARGO  \\\n",
       "287.981 2017-01-01           1.043.920          NaN               nan   \n",
       "288.028 2017-01-01           1.043.920            7               nan   \n",
       "\n",
       "        PADRAO_CARGO  NIVEL_CARGO  NIVEL_FUNCAO  \\\n",
       "287.981          NaN          nan          4,00   \n",
       "288.028          NaN       702,00           nan   \n",
       "\n",
       "                                FUNCAO                     ATIVIDADE  \\\n",
       "287.981  CARGO DE  DIRECAO - CD - IFES  COORDENADOR DE COORDENADORIA   \n",
       "288.028                            NaN                           NaN   \n",
       "\n",
       "         TIPO_VINCULO        ...                UORG_LOTACAO  \\\n",
       "287.981             1        ...         DEPTO DE COMPUTACAO   \n",
       "288.028             2        ...         DEPTO DE COMPUTACAO   \n",
       "\n",
       "                           ORG_LOTACAO          ORGSUP_LOTACAO  \\\n",
       "287.981  UNIVERSIDADE FEDERAL DO CEARA  MINISTERIO DA EDUCACAO   \n",
       "288.028  UNIVERSIDADE FEDERAL DO CEARA  MINISTERIO DA EDUCACAO   \n",
       "\n",
       "                                 UORG_EXERCICIO  \\\n",
       "287.981  COORD DE PLANEJAMENTO INFORM E COMUNIC   \n",
       "288.028  COORD DE PLANEJAMENTO INFORM E COMUNIC   \n",
       "\n",
       "                         ORG_EXERCICIO        ORGSUP_EXERCICIO  \\\n",
       "287.981  UNIVERSIDADE FEDERAL DO CEARA  MINISTERIO DA EDUCACAO   \n",
       "288.028  UNIVERSIDADE FEDERAL DO CEARA  MINISTERIO DA EDUCACAO   \n",
       "\n",
       "         SITUACAO_VINCULO        REGIME_JURIDICO  JORNADA_DE_TRABALHO  \\\n",
       "287.981  ATIVO PERMANENTE  REGIME JURIDICO UNICO  DEDICACAO EXCLUSIVA   \n",
       "288.028  ATIVO PERMANENTE  REGIME JURIDICO UNICO  DEDICACAO EXCLUSIVA   \n",
       "\n",
       "               OBSERVACAO  \n",
       "287.981  NÃO-ESPECIFICADO  \n",
       "288.028  NÃO-ESPECIFICADO  \n",
       "\n",
       "[2 rows x 59 columns]"
      ]
     },
     "execution_count": 80,
     "metadata": {},
     "output_type": "execute_result"
    }
   ],
   "source": [
    "df_2017_01[df_2017_01.NOME.str.startswith(\"MIGUEL FR\")]"
   ]
  },
  {
   "cell_type": "code",
   "execution_count": 102,
   "metadata": {
    "collapsed": false
   },
   "outputs": [],
   "source": [
    "def unifica(g):\n",
    "    \n",
    "    sem_funcao = g[g.FUNCAO.isnull()]\n",
    "    com_funcao = g[g.FUNCAO.notnull()]\n",
    "    \n",
    "    if len(com_funcao):\n",
    "        sem_funcao['FUNCAO'] = com_funcao.FUNCAO.unique()[0]\n",
    "        sem_funcao['NIVEL_FUNCAO'] = com_funcao.NIVEL_FUNCAO.unique()[0]\n",
    "    \n",
    "    return sem_funcao\n",
    "\n",
    "a = df_2017_01.groupby(\"Id_SERVIDOR_PORTAL\").apply(unifica)"
   ]
  },
  {
   "cell_type": "code",
   "execution_count": 105,
   "metadata": {
    "collapsed": false
   },
   "outputs": [
    {
     "data": {
      "text/plain": [
       "FUNCAO                         NIVEL_FUNCAO  UORG_EXERCICIO                         \n",
       "CARGO DE  DIRECAO - CD - IFES  3,00          DIRETORIA DE TECNOLOGIA DA INFORMACAO     2\n",
       "                               4,00          COORD DE ANALISE DE DADOS E F DA INFORM   1\n",
       "                                             COORD DE GESTAO, GOV E SEG DA INFOR       1\n",
       "                                             COORD DE INF DE TEC DA INFORMACAO         1\n",
       "                                             COORD DE PLANEJ E GESTAO ESTRATEGICA      1\n",
       "                                             COORD DE SISTEMAS DE INFORMACAO           1\n",
       "FUNCAO GRATIFICADA - IFES      1,00          ASSESSORIA TECNICA/PRADM/UFCA             1\n",
       "                                             AUDITORIA INTERNA                         1\n",
       "                                             DIVISAO DE ESTUDOS E PROJETOS             1\n",
       "                                             DIVISAO DE REDES DE COMPUTADORES          1\n",
       "                                             DIVISAO DE SEGURANCA DA INFORMACAO        1\n",
       "                                             DIVISAO DE SISTEMAS DE INFORMACAO         1\n",
       "                                             SECRETARIA DE TECNOLOGIA DA INFORMACAO    1\n",
       "                               2,00          DIV DE ADM DE DADOS E G DE CONFIGURACAO   1\n",
       "                                             DIV DE APOIO DE TEC DA INFORMACAO         1\n",
       "                                             DIV DE PORT E SIST DE PESQ EXT CULTURA    1\n",
       "                                             DIV DE SERV DE TECNOLOGIA DA INFORMACAO   1\n",
       "                                             DIVISAO DE PROJETOS DE INFRAESTRUTURA     1\n",
       "                                             DIVISAO DE REDES DE TELEFONIA             1\n",
       "                                             DIVISAO DE SIST DE REC HUMANOS            1\n",
       "                                             DIVISAO DE SISTEMAS ADMINISTRATIVOS       1\n",
       "                                             DIVISAO DE SISTEMAS DE ENSINO             1\n",
       "                                             INSTITUTO UNIVERSIDADE VIRTUAL            1\n",
       "                               3,00          INSTITUTO UNIVERSIDADE VIRTUAL            1\n",
       "                                             PRO-REITORIA DE GESTAO DE PESSOAS         1\n",
       "                                             PRO-REITORIA DE PLANEJAMENTO              1\n",
       "                               4,00          DIVISAO DE REDES DE COMPUTADORES          1\n",
       "                                             DIVISAO DE TECNOLOGIA DA INFORMACAO       1\n",
       "dtype: int64"
      ]
     },
     "execution_count": 105,
     "metadata": {},
     "output_type": "execute_result"
    }
   ],
   "source": [
    "infor = a[a.FUNCAO.notnull() & (a.DESCRICAO_CARGO.str.endswith(\"INFORMACAO\"))]\n",
    "\n",
    "infor.groupby([\"FUNCAO\", 'NIVEL_FUNCAO', 'UORG_EXERCICIO']).size()"
   ]
  },
  {
   "cell_type": "code",
   "execution_count": 114,
   "metadata": {
    "collapsed": false
   },
   "outputs": [
    {
     "data": {
      "text/plain": [
       "Id_SERVIDOR_PORTAL         \n",
       "1.612.156           178.757    JEFESON ALVES BEZERRA DE OLIVEIRA\n",
       "Name: NOME, dtype: object"
      ]
     },
     "execution_count": 114,
     "metadata": {},
     "output_type": "execute_result"
    }
   ],
   "source": [
    "infor[infor.UORG_EXERCICIO == \"COORD DE GESTAO, GOV E SEG DA INFOR\"].NOME"
   ]
  },
  {
   "cell_type": "code",
   "execution_count": 87,
   "metadata": {
    "collapsed": false
   },
   "outputs": [
    {
     "data": {
      "text/plain": [
       "PROFESSOR DO MAGISTERIO SUPERIOR          432\n",
       "ASSISTENTE EM ADMINISTRACAO               199\n",
       "ADMINISTRADOR                              53\n",
       "SECRETARIO EXECUTIVO                       41\n",
       "BIBLIOTECARIO-DOCUMENTALISTA               39\n",
       "MEDICO-AREA                                26\n",
       "ENGENHEIRO-AREA                            21\n",
       "AUX EM ADMINISTRACAO                       21\n",
       "CONTADOR                                   19\n",
       "TEC DE TECNOLOGIA DA INFORMACAO            15\n",
       "ANALISTA DE TEC DA INFORMACAO              14\n",
       "PROFESSOR ENS BASICO TECN TECNOLOGICO      13\n",
       "ENFERMEIRO-AREA                            13\n",
       "TECNICO EM CONTABILIDADE                   12\n",
       "TECNICO DE LABORATORIO AREA                11\n",
       "PRODUTOR CULTURAL                           7\n",
       "NUTRICIONISTA-HABILITACAO                   6\n",
       "TECNICO EM ASSUNTOS EDUCACIONAIS            6\n",
       "ASSISTENTE SOCIAL                           6\n",
       "ECONOMISTA                                  5\n",
       "PEDAGOGO-AREA                               5\n",
       "PSICOLOGO-AREA                              4\n",
       "FARMACEUTICO                                4\n",
       "SERVENTE DE LIMPEZA                         3\n",
       "ARQUITETO E URBANISTA                       3\n",
       "JORNALISTA                                  3\n",
       "FARMACEUTICO-HABILITACAO                    3\n",
       "MESTRE DE EDIF E INFRAESTRUTURA             2\n",
       "AUXILIAR DE ENFERMAGEM                      2\n",
       "FOTOGRAVADOR                                2\n",
       "ENGENHEIRO AGRONOMO                         2\n",
       "AUXILIAR DE ARTES GRAFICAS                  2\n",
       "CONTINUO                                    2\n",
       "TECNICO EM ENFERMAGEM                       2\n",
       "TRADUTOR INTERPRETE DE LINGUAGEM SINAIS     2\n",
       "COPEIRO                                     2\n",
       "VIGILANTE                                   2\n",
       "ELETRICISTA                                 2\n",
       "PROGRAMADOR VISUAL                          1\n",
       "OPERADOR DE MAQ AGRICOLAS                   1\n",
       "ESTATISTICO                                 1\n",
       "TECNICO EM REFRIGERACAO                     1\n",
       "RELACOES PUBLICAS                           1\n",
       "ARMAZENISTA                                 1\n",
       "FISIOTERAPEUTA                              1\n",
       "RECEPCIONISTA                               1\n",
       "IMPRESSOR                                   1\n",
       "AUXILIAR DE AGROPECUARIA                    1\n",
       "TECNICO EM ARQUIVO                          1\n",
       "SOCIOLOGO                                   1\n",
       "TECNICO DESPORTIVO                          1\n",
       "ARQUIVISTA                                  1\n",
       "ALMOXARIFE                                  1\n",
       "GEOGRAFO                                    1\n",
       "PROFESSOR 3 GRAU                            1\n",
       "CONTRAMESTRE-OFICIO                         1\n",
       "Name: DESCRICAO_CARGO, dtype: int64"
      ]
     },
     "execution_count": 87,
     "metadata": {},
     "output_type": "execute_result"
    }
   ],
   "source": [
    "a[a.FUNCAO.notnull()].DESCRICAO_CARGO.value_counts()"
   ]
  },
  {
   "cell_type": "code",
   "execution_count": null,
   "metadata": {
    "collapsed": true
   },
   "outputs": [],
   "source": []
  },
  {
   "cell_type": "code",
   "execution_count": null,
   "metadata": {
    "collapsed": true
   },
   "outputs": [],
   "source": []
  },
  {
   "cell_type": "code",
   "execution_count": 42,
   "metadata": {
    "collapsed": false,
    "deletable": true,
    "editable": true
   },
   "outputs": [
    {
     "data": {
      "text/plain": [
       "<matplotlib.legend.Legend at 0x7f952d0414a8>"
      ]
     },
     "execution_count": 42,
     "metadata": {},
     "output_type": "execute_result"
    },
    {
     "data": {
      "image/png": "[encoded data removed]",
      "text/plain": [
       "<matplotlib.figure.Figure at 0x7f952d0b3cc0>"
      ]
     },
     "metadata": {},
     "output_type": "display_data"
    }
   ],
   "source": [
    "top_3_cargos = df[\"DESCRICAO_CARGO\"].value_counts().nlargest(3).index\n",
    "\n",
    "gg = df[df.DESCRICAO_CARGO.isin(top_3_cargos)]\\\n",
    ".groupby([\"MES_ANO\", \"DESCRICAO_CARGO\"])['REMUNERAÇÃO BÁSICA BRUTA (R$)']\\\n",
    ".mean()\\\n",
    ".unstack()\\\n",
    ".fillna(0)\n",
    "\n",
    "gg.plot()\n",
    "\n",
    "plt.legend(bbox_to_anchor=(1., .5))"
   ]
  },
  {
   "cell_type": "code",
   "execution_count": 34,
   "metadata": {
    "collapsed": true,
    "deletable": true,
    "editable": true
   },
   "outputs": [],
   "source": [
    "from sklearn.preprocessing import MinMaxScaler"
   ]
  },
  {
   "cell_type": "code",
   "execution_count": 35,
   "metadata": {
    "collapsed": true,
    "deletable": true,
    "editable": true
   },
   "outputs": [],
   "source": [
    "mms = MinMaxScaler()"
   ]
  },
  {
   "cell_type": "code",
   "execution_count": 43,
   "metadata": {
    "collapsed": false,
    "deletable": true,
    "editable": true
   },
   "outputs": [
    {
     "data": {
      "text/html": [
       "<div>\n",
       "<style>\n",
       "    .dataframe thead tr:only-child th {\n",
       "        text-align: right;\n",
       "    }\n",
       "\n",
       "    .dataframe thead th {\n",
       "        text-align: left;\n",
       "    }\n",
       "\n",
       "    .dataframe tbody tr th {\n",
       "        vertical-align: top;\n",
       "    }\n",
       "</style>\n",
       "<table border=\"1\" class=\"dataframe\">\n",
       "  <thead>\n",
       "    <tr style=\"text-align: right;\">\n",
       "      <th>DESCRICAO_CARGO</th>\n",
       "      <th>ASSISTENTE EM ADMINISTRACAO</th>\n",
       "      <th>AUXILIAR DE ENFERMAGEM</th>\n",
       "      <th>PROFESSOR DO MAGISTERIO SUPERIOR</th>\n",
       "    </tr>\n",
       "    <tr>\n",
       "      <th>MES_ANO</th>\n",
       "      <th></th>\n",
       "      <th></th>\n",
       "      <th></th>\n",
       "    </tr>\n",
       "  </thead>\n",
       "  <tbody>\n",
       "    <tr>\n",
       "      <th>2013-01-01</th>\n",
       "      <td>4071.328410</td>\n",
       "      <td>2750.385689</td>\n",
       "      <td>0.000000</td>\n",
       "    </tr>\n",
       "    <tr>\n",
       "      <th>2013-02-01</th>\n",
       "      <td>4024.559374</td>\n",
       "      <td>2744.537331</td>\n",
       "      <td>0.000000</td>\n",
       "    </tr>\n",
       "    <tr>\n",
       "      <th>2013-03-01</th>\n",
       "      <td>4231.618425</td>\n",
       "      <td>2878.620706</td>\n",
       "      <td>10672.119319</td>\n",
       "    </tr>\n",
       "    <tr>\n",
       "      <th>2013-04-01</th>\n",
       "      <td>4203.326672</td>\n",
       "      <td>2895.914294</td>\n",
       "      <td>10669.747832</td>\n",
       "    </tr>\n",
       "    <tr>\n",
       "      <th>2013-05-01</th>\n",
       "      <td>4272.848620</td>\n",
       "      <td>2892.646254</td>\n",
       "      <td>10799.730300</td>\n",
       "    </tr>\n",
       "  </tbody>\n",
       "</table>\n",
       "</div>"
      ],
      "text/plain": [
       "DESCRICAO_CARGO  ASSISTENTE EM ADMINISTRACAO  AUXILIAR DE ENFERMAGEM  \\\n",
       "MES_ANO                                                                \n",
       "2013-01-01                       4071.328410             2750.385689   \n",
       "2013-02-01                       4024.559374             2744.537331   \n",
       "2013-03-01                       4231.618425             2878.620706   \n",
       "2013-04-01                       4203.326672             2895.914294   \n",
       "2013-05-01                       4272.848620             2892.646254   \n",
       "\n",
       "DESCRICAO_CARGO  PROFESSOR DO MAGISTERIO SUPERIOR  \n",
       "MES_ANO                                            \n",
       "2013-01-01                               0.000000  \n",
       "2013-02-01                               0.000000  \n",
       "2013-03-01                           10672.119319  \n",
       "2013-04-01                           10669.747832  \n",
       "2013-05-01                           10799.730300  "
      ]
     },
     "execution_count": 43,
     "metadata": {},
     "output_type": "execute_result"
    }
   ],
   "source": [
    "gg.head()"
   ]
  },
  {
   "cell_type": "code",
   "execution_count": 44,
   "metadata": {
    "collapsed": false,
    "deletable": true,
    "editable": true
   },
   "outputs": [
    {
     "data": {
      "text/plain": [
       "[<matplotlib.lines.Line2D at 0x7f952cecbe48>,\n",
       " <matplotlib.lines.Line2D at 0x7f952cecbfd0>,\n",
       " <matplotlib.lines.Line2D at 0x7f952ced5240>]"
      ]
     },
     "execution_count": 44,
     "metadata": {},
     "output_type": "execute_result"
    },
    {
     "data": {
      "image/png": "[encoded data removed]",
      "text/plain": [
       "<matplotlib.figure.Figure at 0x7f952cf9bb70>"
      ]
     },
     "metadata": {},
     "output_type": "display_data"
    }
   ],
   "source": [
    "plt.plot(mms.fit_transform(gg))"
   ]
  },
  {
   "cell_type": "code",
   "execution_count": 20,
   "metadata": {
    "collapsed": true,
    "deletable": true,
    "editable": true
   },
   "outputs": [],
   "source": [
    "%matplotlib inline"
   ]
  },
  {
   "cell_type": "code",
   "execution_count": 23,
   "metadata": {
    "collapsed": true,
    "deletable": true,
    "editable": true
   },
   "outputs": [],
   "source": [
    "from matplotlib import pyplot as plt"
   ]
  },
  {
   "cell_type": "code",
   "execution_count": null,
   "metadata": {
    "collapsed": true,
    "deletable": true,
    "editable": true
   },
   "outputs": [],
   "source": []
  },
  {
   "cell_type": "code",
   "execution_count": 13,
   "metadata": {
    "collapsed": false,
    "deletable": true,
    "editable": true,
    "extensions": {
     "jupyter_dashboards": {
      "version": 1,
      "views": {
       "grid_default": {
        "col": 0,
        "height": 10,
        "hidden": false,
        "row": 81,
        "width": 12
       },
       "report_default": {
        "hidden": false
       }
      }
     }
    }
   },
   "outputs": [
    {
     "data": {
      "text/html": [
       "<div>\n",
       "<table border=\"1\" class=\"dataframe\">\n",
       "  <thead>\n",
       "    <tr style=\"text-align: right;\">\n",
       "      <th></th>\n",
       "      <th>MES_ANO</th>\n",
       "      <th>Id_SERVIDOR_PORTAL</th>\n",
       "      <th>CLASSE_CARGO</th>\n",
       "      <th>REFERENCIA_CARGO</th>\n",
       "      <th>PADRAO_CARGO</th>\n",
       "      <th>NIVEL_CARGO</th>\n",
       "      <th>NIVEL_FUNCAO</th>\n",
       "      <th>FUNCAO</th>\n",
       "      <th>ATIVIDADE</th>\n",
       "      <th>TIPO_VINCULO</th>\n",
       "      <th>...</th>\n",
       "      <th>UORG_LOTACAO</th>\n",
       "      <th>ORG_LOTACAO</th>\n",
       "      <th>ORGSUP_LOTACAO</th>\n",
       "      <th>UORG_EXERCICIO</th>\n",
       "      <th>ORG_EXERCICIO</th>\n",
       "      <th>ORGSUP_EXERCICIO</th>\n",
       "      <th>SITUACAO_VINCULO</th>\n",
       "      <th>REGIME_JURIDICO</th>\n",
       "      <th>JORNADA_DE_TRABALHO</th>\n",
       "      <th>OBSERVACAO</th>\n",
       "    </tr>\n",
       "  </thead>\n",
       "  <tbody>\n",
       "    <tr>\n",
       "      <th>0</th>\n",
       "      <td>2013-01-01</td>\n",
       "      <td>1.000.475</td>\n",
       "      <td>D</td>\n",
       "      <td>nan</td>\n",
       "      <td>411</td>\n",
       "      <td>nan</td>\n",
       "      <td>nan</td>\n",
       "      <td>NaN</td>\n",
       "      <td>NaN</td>\n",
       "      <td>2</td>\n",
       "      <td>...</td>\n",
       "      <td>DIVISAO DE ADMISSAO E MATRICULA</td>\n",
       "      <td>UNIVERSIDADE FEDERAL DO CEARA</td>\n",
       "      <td>MINISTERIO DA EDUCACAO</td>\n",
       "      <td>NaN</td>\n",
       "      <td>UNIVERSIDADE FEDERAL DO CEARA</td>\n",
       "      <td>MINISTERIO DA EDUCACAO</td>\n",
       "      <td>ATIVO PERMANENTE</td>\n",
       "      <td>REGIME JURIDICO UNICO</td>\n",
       "      <td>40 HORAS SEMANAIS</td>\n",
       "      <td>NÃO-ESPECIFICADO</td>\n",
       "    </tr>\n",
       "    <tr>\n",
       "      <th>1</th>\n",
       "      <td>2014-01-01</td>\n",
       "      <td>1.002.782</td>\n",
       "      <td>D</td>\n",
       "      <td>nan</td>\n",
       "      <td>412</td>\n",
       "      <td>nan</td>\n",
       "      <td>nan</td>\n",
       "      <td>NaN</td>\n",
       "      <td>NaN</td>\n",
       "      <td>2</td>\n",
       "      <td>...</td>\n",
       "      <td>DIVISAO DE ADMISSAO E MATRICULA</td>\n",
       "      <td>UNIVERSIDADE FEDERAL DO CEARA</td>\n",
       "      <td>MINISTERIO DA EDUCACAO</td>\n",
       "      <td>NaN</td>\n",
       "      <td>UNIVERSIDADE FEDERAL DO CEARA</td>\n",
       "      <td>MINISTERIO DA EDUCACAO</td>\n",
       "      <td>ATIVO PERMANENTE</td>\n",
       "      <td>REGIME JURIDICO UNICO</td>\n",
       "      <td>40 HORAS SEMANAIS</td>\n",
       "      <td>NÃO-ESPECIFICADO</td>\n",
       "    </tr>\n",
       "    <tr>\n",
       "      <th>2</th>\n",
       "      <td>2015-01-01</td>\n",
       "      <td>1.000.565</td>\n",
       "      <td>D</td>\n",
       "      <td>nan</td>\n",
       "      <td>412</td>\n",
       "      <td>nan</td>\n",
       "      <td>nan</td>\n",
       "      <td>NaN</td>\n",
       "      <td>NaN</td>\n",
       "      <td>2</td>\n",
       "      <td>...</td>\n",
       "      <td>DIVISAO DE ADMISSAO E MATRICULA</td>\n",
       "      <td>UNIVERSIDADE FEDERAL DO CEARA</td>\n",
       "      <td>MINISTERIO DA EDUCACAO</td>\n",
       "      <td>NaN</td>\n",
       "      <td>UNIVERSIDADE FEDERAL DO CEARA</td>\n",
       "      <td>MINISTERIO DA EDUCACAO</td>\n",
       "      <td>ATIVO PERMANENTE</td>\n",
       "      <td>REGIME JURIDICO UNICO</td>\n",
       "      <td>40 HORAS SEMANAIS</td>\n",
       "      <td>NÃO-ESPECIFICADO</td>\n",
       "    </tr>\n",
       "  </tbody>\n",
       "</table>\n",
       "<p>3 rows × 59 columns</p>\n",
       "</div>"
      ],
      "text/plain": [
       "     MES_ANO  Id_SERVIDOR_PORTAL CLASSE_CARGO  REFERENCIA_CARGO PADRAO_CARGO  \\\n",
       "0 2013-01-01           1.000.475            D               nan          411   \n",
       "1 2014-01-01           1.002.782            D               nan          412   \n",
       "2 2015-01-01           1.000.565            D               nan          412   \n",
       "\n",
       "   NIVEL_CARGO  NIVEL_FUNCAO FUNCAO ATIVIDADE  TIPO_VINCULO        ...         \\\n",
       "0          nan           nan    NaN       NaN             2        ...          \n",
       "1          nan           nan    NaN       NaN             2        ...          \n",
       "2          nan           nan    NaN       NaN             2        ...          \n",
       "\n",
       "                      UORG_LOTACAO                    ORG_LOTACAO  \\\n",
       "0  DIVISAO DE ADMISSAO E MATRICULA  UNIVERSIDADE FEDERAL DO CEARA   \n",
       "1  DIVISAO DE ADMISSAO E MATRICULA  UNIVERSIDADE FEDERAL DO CEARA   \n",
       "2  DIVISAO DE ADMISSAO E MATRICULA  UNIVERSIDADE FEDERAL DO CEARA   \n",
       "\n",
       "           ORGSUP_LOTACAO  UORG_EXERCICIO                  ORG_EXERCICIO  \\\n",
       "0  MINISTERIO DA EDUCACAO             NaN  UNIVERSIDADE FEDERAL DO CEARA   \n",
       "1  MINISTERIO DA EDUCACAO             NaN  UNIVERSIDADE FEDERAL DO CEARA   \n",
       "2  MINISTERIO DA EDUCACAO             NaN  UNIVERSIDADE FEDERAL DO CEARA   \n",
       "\n",
       "         ORGSUP_EXERCICIO  SITUACAO_VINCULO        REGIME_JURIDICO  \\\n",
       "0  MINISTERIO DA EDUCACAO  ATIVO PERMANENTE  REGIME JURIDICO UNICO   \n",
       "1  MINISTERIO DA EDUCACAO  ATIVO PERMANENTE  REGIME JURIDICO UNICO   \n",
       "2  MINISTERIO DA EDUCACAO  ATIVO PERMANENTE  REGIME JURIDICO UNICO   \n",
       "\n",
       "   JORNADA_DE_TRABALHO        OBSERVACAO  \n",
       "0    40 HORAS SEMANAIS  NÃO-ESPECIFICADO  \n",
       "1    40 HORAS SEMANAIS  NÃO-ESPECIFICADO  \n",
       "2    40 HORAS SEMANAIS  NÃO-ESPECIFICADO  \n",
       "\n",
       "[3 rows x 59 columns]"
      ]
     },
     "execution_count": 13,
     "metadata": {},
     "output_type": "execute_result"
    }
   ],
   "source": [
    "ufc_dtypes = {\n",
    " 'ABATE-TETO (R$)': dtype('float64'),\n",
    " 'ABATE-TETO (U$)': dtype('float64'),\n",
    " 'ABATE-TETO DA GRATIFICAÇÃO NATALINA (R$)': dtype('float64'),\n",
    " 'ABATE-TETO DA GRATIFICAÇÃO NATALINA (U$)': dtype('float64'),\n",
    " 'ANO': dtype('int64'),\n",
    " 'ATIVIDADE': dtype('O'),\n",
    " 'CLASSE_CARGO': dtype('O'),\n",
    " 'DATA_DIPLOMA_INGRESSO_SERVICOPUBLICO': dtype('O'),\n",
    " 'DATA_INGRESSO_CARGOFUNCAO': dtype('O'),\n",
    " 'DATA_INGRESSO_ORGAO': dtype('O'),\n",
    " 'DATA_INICIO_AFASTAMENTO': dtype('O'),\n",
    " 'DATA_NOMEACAO_CARGOFUNCAO': dtype('float64'),\n",
    " 'DATA_TERMINO_AFASTAMENTO': dtype('O'),\n",
    " 'DEMAIS DEDUÇÕES (R$)': dtype('float64'),\n",
    " 'DEMAIS DEDUÇÕES (U$)': dtype('float64'),\n",
    " 'DESCRICAO_CARGO-ID': dtype('int64'),\n",
    " 'FUNCAO': dtype('O'),\n",
    " 'FUNDO DE SAÚDE (R$)': dtype('float64'),\n",
    " 'FUNDO DE SAÚDE (U$)': dtype('float64'),\n",
    " 'FÉRIAS (R$)': dtype('float64'),\n",
    " 'FÉRIAS (U$)': dtype('float64'),\n",
    " 'GRATIFICAÇÃO NATALINA (R$)': dtype('float64'),\n",
    " 'GRATIFICAÇÃO NATALINA (U$)': dtype('float64'),\n",
    " 'ID_SERVIDOR_PORTAL': dtype('int64'),\n",
    " 'IRRF (R$)': dtype('O'),\n",
    " 'IRRF (U$)': dtype('O'),\n",
    " 'Id_SERVIDOR_PORTAL': dtype('int64'),\n",
    " 'JORNADA_DE_TRABALHO-ID': dtype('int64'),\n",
    " 'MES': dtype('int64'),\n",
    " 'NIVEL_CARGO': dtype('float64'),\n",
    " 'NIVEL_FUNCAO': dtype('float64'),\n",
    " 'NOME-ID': dtype('int64'),\n",
    " 'OBSERVACAO-ID': dtype('int64'),\n",
    " 'ORGSUP_EXERCICIO-ID': dtype('int64'),\n",
    " 'ORGSUP_LOTACAO-ID': dtype('int64'),\n",
    " 'ORG_EXERCICIO-ID': dtype('int64'),\n",
    " 'ORG_LOTACAO-ID': dtype('int64'),\n",
    " 'OUTRAS REMUNERAÇÕES EVENTUAIS (R$)': dtype('float64'),\n",
    " 'OUTRAS REMUNERAÇÕES EVENTUAIS (U$)': dtype('float64'),\n",
    " 'PADRAO_CARGO': dtype('O'),\n",
    " 'PENSÃO MILITAR (R$)': dtype('float64'),\n",
    " 'PENSÃO MILITAR (U$)': dtype('float64'),\n",
    " 'PSS/RPGS (R$)': dtype('float64'),\n",
    " 'PSS/RPGS (U$)': dtype('float64'),\n",
    " 'REFERENCIA_CARGO': dtype('float64'),\n",
    " 'REGIME_JURIDICO-ID': dtype('int64'),\n",
    " 'REMUNERAÇÃO APÓS DEDUÇÕES OBRIGATÓRIAS (R$)': dtype('float64'),\n",
    " 'REMUNERAÇÃO APÓS DEDUÇÕES OBRIGATÓRIAS (U$)': dtype('float64'),\n",
    " 'REMUNERAÇÃO BÁSICA BRUTA (R$)': dtype('float64'),\n",
    " 'REMUNERAÇÃO BÁSICA BRUTA (U$)': dtype('float64'),\n",
    " 'SITUACAO_VINCULO-ID': dtype('int64'),\n",
    " 'TIPO_VINCULO': dtype('int64'),\n",
    " 'TOTAL DE VERBAS INDENIZATÓRIAS (R$)(*)': dtype('float64'),\n",
    " 'TOTAL DE VERBAS INDENIZATÓRIAS (U$)(*)': dtype('float64'),\n",
    " 'UORG_EXERCICIO-ID': dtype('int64'),\n",
    " 'UORG_LOTACAO-ID': dtype('int64'),\n",
    " 'VERBAS INDENIZATÓRIAS REGISTRADAS EM SISTEMAS DE PESSOAL - CIVIL (R$)(*)': dtype('float64'),\n",
    " 'VERBAS INDENIZATÓRIAS REGISTRADAS EM SISTEMAS DE PESSOAL - CIVIL (U$)(*)': dtype('float64'),\n",
    " 'VERBAS INDENIZATÓRIAS REGISTRADAS EM SISTEMAS DE PESSOAL - MILITAR (R$)(*)': dtype('float64'),\n",
    " 'VERBAS INDENIZATÓRIAS REGISTRADAS EM SISTEMAS DE PESSOAL - MILITAR (U$)(*)': dtype('float64')}\n",
    "\n",
    "date_parser = lambda mes, ano: pd.datetime.strptime(\"{}/{}\".format(mes, ano), \"%m/%Y\")\n",
    "\n",
    "# leitura de arquivo .CSV\n",
    "ufc = pd.read_csv(\"../dataset-remuneracao-federal/dataset.csv\", decimal=\",\", dtype=ufc_dtypes,\n",
    "                  parse_dates=[['MES', 'ANO']], date_parser=date_parser)\n",
    "\n",
    "# reconstitui as colunas normalizadas\n",
    "base_path = \"../dataset-remuneracao-federal/\"\n",
    "for fk in (col for col in ufc.columns if col.endswith(\"-ID\")):\n",
    "    \n",
    "    filepath = \"{}{}.csv\".format(base_path, fk.split(\"-\")[0])\n",
    "    col_df = pd.read_csv(filepath)\n",
    "    ufc = pd.merge(ufc, col_df)\n",
    "    ufc.drop(fk, axis=1, inplace=True)\n",
    "\n",
    "# retorna os 3 primeiros registros\n",
    "ufc.head(3)"
   ]
  },
  {
   "cell_type": "code",
   "execution_count": 14,
   "metadata": {
    "collapsed": false,
    "deletable": true,
    "editable": true,
    "extensions": {
     "jupyter_dashboards": {
      "version": 1,
      "views": {
       "grid_default": {
        "col": 4,
        "height": 4,
        "hidden": false,
        "row": 77,
        "width": 4
       },
       "report_default": {
        "hidden": false
       }
      }
     }
    }
   },
   "outputs": [
    {
     "name": "stdout",
     "output_type": "stream",
     "text": [
      "Há 342200 registros\n"
     ]
    }
   ],
   "source": [
    "# quantidade de registros\n",
    "print(\"Há {} registros\".format(len(ufc)))"
   ]
  },
  {
   "cell_type": "code",
   "execution_count": 24,
   "metadata": {
    "collapsed": true,
    "deletable": true,
    "editable": true,
    "extensions": {
     "jupyter_dashboards": {
      "version": 1,
      "views": {
       "grid_default": {
        "hidden": true
       },
       "report_default": {
        "hidden": true
       }
      }
     }
    }
   },
   "outputs": [],
   "source": [
    "def plot_remuneracao(nome):\n",
    "    \n",
    "    registros_do_nome = ufc[ufc.NOME == nome]\n",
    "    if not len(registros_do_nome):\n",
    "        \n",
    "        print(\"Nome não encontrado: {}\".format(nome))\n",
    "        return\n",
    "    \n",
    "    _, (ax1, ax2) = plt.subplots(2, 1, sharex=True, figsize=(10, 8))\n",
    "        \n",
    "    apenas_nao_funcao = registros_do_nome[registros_do_nome['FUNCAO'].isnull()]\n",
    "    piece = apenas_nao_funcao.sort_values('MES_ANO')\n",
    "    \n",
    "    piece['pct_change'] = piece['REMUNERAÇÃO BÁSICA BRUTA (R$)'].pct_change()\n",
    "\n",
    "    piece.plot(x='MES_ANO', y='pct_change', ax=ax1, ylim=(-.5, .5))\n",
    "    ax1.axhline(0, linewidth=.5, c='r')\n",
    "    \n",
    "    piece.plot(x='MES_ANO', y='REMUNERAÇÃO BÁSICA BRUTA (R$)', ax=ax2)"
   ]
  },
  {
   "cell_type": "markdown",
   "metadata": {
    "deletable": true,
    "editable": true,
    "extensions": {
     "jupyter_dashboards": {
      "version": 1,
      "views": {
       "grid_default": {
        "col": 0,
        "height": 4,
        "hidden": false,
        "row": 95,
        "width": 4
       },
       "report_default": {
        "hidden": false
       }
      }
     }
    }
   },
   "source": [
    "<script src=\"https://npmcdn.com/jupyter-js-widgets@~1.2.0/dist/embed.js\"></script><script type=\"application/vnd.jupyter-embedded-widgets\">{}</script>"
   ]
  },
  {
   "cell_type": "code",
   "execution_count": 25,
   "metadata": {
    "collapsed": false,
    "deletable": true,
    "editable": true,
    "extensions": {
     "jupyter_dashboards": {
      "version": 1,
      "views": {
       "grid_default": {
        "col": 0,
        "height": 23,
        "hidden": false,
        "row": 245,
        "width": 4
       },
       "report_default": {
        "hidden": false
       }
      }
     }
    }
   },
   "outputs": [
    {
     "name": "stdout",
     "output_type": "stream",
     "text": [
      "Nome não encontrado: GIL DE AQUINO\n"
     ]
    },
    {
     "data": {
      "image/png": "[encoded data removed]",
      "text/plain": [
       "<matplotlib.figure.Figure at 0x21900e8cc50>"
      ]
     },
     "metadata": {},
     "output_type": "display_data"
    },
    {
     "data": {
      "image/png": "[encoded data removed]",
      "text/plain": [
       "<matplotlib.figure.Figure at 0x21901b5e240>"
      ]
     },
     "metadata": {},
     "output_type": "display_data"
    },
    {
     "data": {
      "image/png": "[encoded data removed]",
      "text/plain": [
       "<matplotlib.figure.Figure at 0x21901b72898>"
      ]
     },
     "metadata": {},
     "output_type": "display_data"
    },
    {
     "data": {
      "image/png": "[encoded data removed]",
      "text/plain": [
       "<matplotlib.figure.Figure at 0x21901b56668>"
      ]
     },
     "metadata": {},
     "output_type": "display_data"
    }
   ],
   "source": [
    "# https://blog.dominodatalab.com/interactive-dashboards-in-jupyter/\n",
    "from ipywidgets import widgets\n",
    "from IPython.display import display\n",
    "nome = widgets.Text()\n",
    "display(nome)\n",
    "\n",
    "def handle_submit(sender):\n",
    "    plot_remuneracao(nome.value)\n",
    "    \n",
    "nome.on_submit(handle_submit)"
   ]
  },
  {
   "cell_type": "markdown",
   "metadata": {
    "deletable": true,
    "editable": true,
    "extensions": {
     "jupyter_dashboards": {
      "version": 1,
      "views": {
       "grid_default": {
        "col": 8,
        "height": 4,
        "hidden": false,
        "row": 77,
        "width": 4
       },
       "report_default": {
        "hidden": false
       }
      }
     }
    }
   },
   "source": [
    "## Informações gerais sobre as colunas"
   ]
  },
  {
   "cell_type": "code",
   "execution_count": 151,
   "metadata": {
    "collapsed": false,
    "deletable": true,
    "editable": true,
    "extensions": {
     "jupyter_dashboards": {
      "version": 1,
      "views": {
       "grid_default": {
        "col": 0,
        "height": 48,
        "hidden": false,
        "row": 99,
        "width": 11
       },
       "report_default": {
        "hidden": false
       }
      }
     }
    }
   },
   "outputs": [
    {
     "data": {
      "text/html": [
       "<div>\n",
       "<table border=\"1\" class=\"dataframe\">\n",
       "  <thead>\n",
       "    <tr style=\"text-align: right;\">\n",
       "      <th></th>\n",
       "      <th>count</th>\n",
       "      <th>mean</th>\n",
       "      <th>std</th>\n",
       "      <th>min</th>\n",
       "      <th>25%</th>\n",
       "      <th>50%</th>\n",
       "      <th>75%</th>\n",
       "      <th>max</th>\n",
       "    </tr>\n",
       "  </thead>\n",
       "  <tbody>\n",
       "    <tr>\n",
       "      <th>Id_SERVIDOR_PORTAL</th>\n",
       "      <td>342.200,00</td>\n",
       "      <td>1.543.724,95</td>\n",
       "      <td>311.577,36</td>\n",
       "      <td>1.000.014,00</td>\n",
       "      <td>1.277.001,50</td>\n",
       "      <td>1.543.966,00</td>\n",
       "      <td>1.810.485,25</td>\n",
       "      <td>2.259.860,00</td>\n",
       "    </tr>\n",
       "    <tr>\n",
       "      <th>REFERENCIA_CARGO</th>\n",
       "      <td>0,00</td>\n",
       "      <td>nan</td>\n",
       "      <td>nan</td>\n",
       "      <td>nan</td>\n",
       "      <td>nan</td>\n",
       "      <td>nan</td>\n",
       "      <td>nan</td>\n",
       "      <td>nan</td>\n",
       "    </tr>\n",
       "    <tr>\n",
       "      <th>NIVEL_CARGO</th>\n",
       "      <td>119.588,00</td>\n",
       "      <td>557,46</td>\n",
       "      <td>171,45</td>\n",
       "      <td>1,00</td>\n",
       "      <td>501,00</td>\n",
       "      <td>602,00</td>\n",
       "      <td>701,00</td>\n",
       "      <td>801,00</td>\n",
       "    </tr>\n",
       "    <tr>\n",
       "      <th>NIVEL_FUNCAO</th>\n",
       "      <td>41.260,00</td>\n",
       "      <td>7,30</td>\n",
       "      <td>59,48</td>\n",
       "      <td>1,00</td>\n",
       "      <td>1,00</td>\n",
       "      <td>2,00</td>\n",
       "      <td>4,00</td>\n",
       "      <td>1.025,00</td>\n",
       "    </tr>\n",
       "    <tr>\n",
       "      <th>TIPO_VINCULO</th>\n",
       "      <td>342.200,00</td>\n",
       "      <td>1,88</td>\n",
       "      <td>0,33</td>\n",
       "      <td>1,00</td>\n",
       "      <td>2,00</td>\n",
       "      <td>2,00</td>\n",
       "      <td>2,00</td>\n",
       "      <td>3,00</td>\n",
       "    </tr>\n",
       "    <tr>\n",
       "      <th>DATA_NOMEACAO_CARGOFUNCAO</th>\n",
       "      <td>0,00</td>\n",
       "      <td>nan</td>\n",
       "      <td>nan</td>\n",
       "      <td>nan</td>\n",
       "      <td>nan</td>\n",
       "      <td>nan</td>\n",
       "      <td>nan</td>\n",
       "      <td>nan</td>\n",
       "    </tr>\n",
       "    <tr>\n",
       "      <th>ID_SERVIDOR_PORTAL</th>\n",
       "      <td>342.200,00</td>\n",
       "      <td>1.543.724,95</td>\n",
       "      <td>311.577,36</td>\n",
       "      <td>1.000.014,00</td>\n",
       "      <td>1.277.001,50</td>\n",
       "      <td>1.543.966,00</td>\n",
       "      <td>1.810.485,25</td>\n",
       "      <td>2.259.860,00</td>\n",
       "    </tr>\n",
       "    <tr>\n",
       "      <th>REMUNERAÇÃO BÁSICA BRUTA (R$)</th>\n",
       "      <td>342.200,00</td>\n",
       "      <td>8.417,67</td>\n",
       "      <td>6.290,60</td>\n",
       "      <td>0,00</td>\n",
       "      <td>3.992,25</td>\n",
       "      <td>6.442,83</td>\n",
       "      <td>10.818,04</td>\n",
       "      <td>69.972,10</td>\n",
       "    </tr>\n",
       "    <tr>\n",
       "      <th>REMUNERAÇÃO BÁSICA BRUTA (U$)</th>\n",
       "      <td>342.200,00</td>\n",
       "      <td>0,00</td>\n",
       "      <td>0,00</td>\n",
       "      <td>0,00</td>\n",
       "      <td>0,00</td>\n",
       "      <td>0,00</td>\n",
       "      <td>0,00</td>\n",
       "      <td>0,00</td>\n",
       "    </tr>\n",
       "    <tr>\n",
       "      <th>ABATE-TETO (R$)</th>\n",
       "      <td>342.200,00</td>\n",
       "      <td>-78,77</td>\n",
       "      <td>823,22</td>\n",
       "      <td>-36.596,37</td>\n",
       "      <td>0,00</td>\n",
       "      <td>0,00</td>\n",
       "      <td>0,00</td>\n",
       "      <td>0,00</td>\n",
       "    </tr>\n",
       "    <tr>\n",
       "      <th>ABATE-TETO (U$)</th>\n",
       "      <td>342.200,00</td>\n",
       "      <td>0,00</td>\n",
       "      <td>0,00</td>\n",
       "      <td>0,00</td>\n",
       "      <td>0,00</td>\n",
       "      <td>0,00</td>\n",
       "      <td>0,00</td>\n",
       "      <td>0,00</td>\n",
       "    </tr>\n",
       "    <tr>\n",
       "      <th>GRATIFICAÇÃO NATALINA (R$)</th>\n",
       "      <td>342.200,00</td>\n",
       "      <td>1.026,78</td>\n",
       "      <td>3.306,26</td>\n",
       "      <td>0,00</td>\n",
       "      <td>0,00</td>\n",
       "      <td>0,00</td>\n",
       "      <td>0,00</td>\n",
       "      <td>53.626,75</td>\n",
       "    </tr>\n",
       "    <tr>\n",
       "      <th>GRATIFICAÇÃO NATALINA (U$)</th>\n",
       "      <td>342.200,00</td>\n",
       "      <td>0,00</td>\n",
       "      <td>0,00</td>\n",
       "      <td>0,00</td>\n",
       "      <td>0,00</td>\n",
       "      <td>0,00</td>\n",
       "      <td>0,00</td>\n",
       "      <td>0,00</td>\n",
       "    </tr>\n",
       "    <tr>\n",
       "      <th>ABATE-TETO DA GRATIFICAÇÃO NATALINA (R$)</th>\n",
       "      <td>342.200,00</td>\n",
       "      <td>-9,10</td>\n",
       "      <td>277,30</td>\n",
       "      <td>-19.553,32</td>\n",
       "      <td>0,00</td>\n",
       "      <td>0,00</td>\n",
       "      <td>0,00</td>\n",
       "      <td>0,00</td>\n",
       "    </tr>\n",
       "    <tr>\n",
       "      <th>ABATE-TETO DA GRATIFICAÇÃO NATALINA (U$)</th>\n",
       "      <td>342.200,00</td>\n",
       "      <td>0,00</td>\n",
       "      <td>0,00</td>\n",
       "      <td>0,00</td>\n",
       "      <td>0,00</td>\n",
       "      <td>0,00</td>\n",
       "      <td>0,00</td>\n",
       "      <td>0,00</td>\n",
       "    </tr>\n",
       "    <tr>\n",
       "      <th>FÉRIAS (R$)</th>\n",
       "      <td>342.200,00</td>\n",
       "      <td>296,82</td>\n",
       "      <td>1.297,26</td>\n",
       "      <td>0,00</td>\n",
       "      <td>0,00</td>\n",
       "      <td>0,00</td>\n",
       "      <td>0,00</td>\n",
       "      <td>30.389,40</td>\n",
       "    </tr>\n",
       "    <tr>\n",
       "      <th>FÉRIAS (U$)</th>\n",
       "      <td>342.200,00</td>\n",
       "      <td>0,00</td>\n",
       "      <td>0,00</td>\n",
       "      <td>0,00</td>\n",
       "      <td>0,00</td>\n",
       "      <td>0,00</td>\n",
       "      <td>0,00</td>\n",
       "      <td>0,00</td>\n",
       "    </tr>\n",
       "    <tr>\n",
       "      <th>OUTRAS REMUNERAÇÕES EVENTUAIS (R$)</th>\n",
       "      <td>342.200,00</td>\n",
       "      <td>344,40</td>\n",
       "      <td>1.276,42</td>\n",
       "      <td>0,00</td>\n",
       "      <td>0,00</td>\n",
       "      <td>0,00</td>\n",
       "      <td>135,63</td>\n",
       "      <td>81.271,65</td>\n",
       "    </tr>\n",
       "    <tr>\n",
       "      <th>OUTRAS REMUNERAÇÕES EVENTUAIS (U$)</th>\n",
       "      <td>342.200,00</td>\n",
       "      <td>0,00</td>\n",
       "      <td>0,00</td>\n",
       "      <td>0,00</td>\n",
       "      <td>0,00</td>\n",
       "      <td>0,00</td>\n",
       "      <td>0,00</td>\n",
       "      <td>0,00</td>\n",
       "    </tr>\n",
       "    <tr>\n",
       "      <th>PSS/RPGS (R$)</th>\n",
       "      <td>342.200,00</td>\n",
       "      <td>-903,19</td>\n",
       "      <td>695,92</td>\n",
       "      <td>-11.944,07</td>\n",
       "      <td>-1.162,77</td>\n",
       "      <td>-672,75</td>\n",
       "      <td>-436,97</td>\n",
       "      <td>0,00</td>\n",
       "    </tr>\n",
       "    <tr>\n",
       "      <th>PSS/RPGS (U$)</th>\n",
       "      <td>342.200,00</td>\n",
       "      <td>0,00</td>\n",
       "      <td>0,00</td>\n",
       "      <td>0,00</td>\n",
       "      <td>0,00</td>\n",
       "      <td>0,00</td>\n",
       "      <td>0,00</td>\n",
       "      <td>0,00</td>\n",
       "    </tr>\n",
       "    <tr>\n",
       "      <th>PENSÃO MILITAR (R$)</th>\n",
       "      <td>342.200,00</td>\n",
       "      <td>-0,00</td>\n",
       "      <td>0,86</td>\n",
       "      <td>-501,76</td>\n",
       "      <td>0,00</td>\n",
       "      <td>0,00</td>\n",
       "      <td>0,00</td>\n",
       "      <td>0,00</td>\n",
       "    </tr>\n",
       "    <tr>\n",
       "      <th>PENSÃO MILITAR (U$)</th>\n",
       "      <td>342.200,00</td>\n",
       "      <td>0,00</td>\n",
       "      <td>0,00</td>\n",
       "      <td>0,00</td>\n",
       "      <td>0,00</td>\n",
       "      <td>0,00</td>\n",
       "      <td>0,00</td>\n",
       "      <td>0,00</td>\n",
       "    </tr>\n",
       "    <tr>\n",
       "      <th>FUNDO DE SAÚDE (R$)</th>\n",
       "      <td>342.200,00</td>\n",
       "      <td>-0,00</td>\n",
       "      <td>0,15</td>\n",
       "      <td>-86,97</td>\n",
       "      <td>0,00</td>\n",
       "      <td>0,00</td>\n",
       "      <td>0,00</td>\n",
       "      <td>0,00</td>\n",
       "    </tr>\n",
       "    <tr>\n",
       "      <th>FUNDO DE SAÚDE (U$)</th>\n",
       "      <td>342.200,00</td>\n",
       "      <td>0,00</td>\n",
       "      <td>0,00</td>\n",
       "      <td>0,00</td>\n",
       "      <td>0,00</td>\n",
       "      <td>0,00</td>\n",
       "      <td>0,00</td>\n",
       "      <td>0,00</td>\n",
       "    </tr>\n",
       "    <tr>\n",
       "      <th>DEMAIS DEDUÇÕES (R$)</th>\n",
       "      <td>342.200,00</td>\n",
       "      <td>-438,37</td>\n",
       "      <td>1.590,34</td>\n",
       "      <td>-29.724,29</td>\n",
       "      <td>-3,70</td>\n",
       "      <td>0,00</td>\n",
       "      <td>0,00</td>\n",
       "      <td>0,00</td>\n",
       "    </tr>\n",
       "    <tr>\n",
       "      <th>DEMAIS DEDUÇÕES (U$)</th>\n",
       "      <td>342.200,00</td>\n",
       "      <td>0,00</td>\n",
       "      <td>0,00</td>\n",
       "      <td>0,00</td>\n",
       "      <td>0,00</td>\n",
       "      <td>0,00</td>\n",
       "      <td>0,00</td>\n",
       "      <td>0,00</td>\n",
       "    </tr>\n",
       "    <tr>\n",
       "      <th>REMUNERAÇÃO APÓS DEDUÇÕES OBRIGATÓRIAS (R$)</th>\n",
       "      <td>342.200,00</td>\n",
       "      <td>7.296,83</td>\n",
       "      <td>5.302,61</td>\n",
       "      <td>-6.193,00</td>\n",
       "      <td>3.788,62</td>\n",
       "      <td>5.677,12</td>\n",
       "      <td>9.028,68</td>\n",
       "      <td>87.162,71</td>\n",
       "    </tr>\n",
       "    <tr>\n",
       "      <th>REMUNERAÇÃO APÓS DEDUÇÕES OBRIGATÓRIAS (U$)</th>\n",
       "      <td>342.200,00</td>\n",
       "      <td>0,00</td>\n",
       "      <td>0,00</td>\n",
       "      <td>0,00</td>\n",
       "      <td>0,00</td>\n",
       "      <td>0,00</td>\n",
       "      <td>0,00</td>\n",
       "      <td>0,00</td>\n",
       "    </tr>\n",
       "    <tr>\n",
       "      <th>VERBAS INDENIZATÓRIAS REGISTRADAS EM SISTEMAS DE PESSOAL - CIVIL (R$)(*)</th>\n",
       "      <td>342.200,00</td>\n",
       "      <td>567,77</td>\n",
       "      <td>384,24</td>\n",
       "      <td>0,00</td>\n",
       "      <td>458,00</td>\n",
       "      <td>502,28</td>\n",
       "      <td>669,23</td>\n",
       "      <td>60.930,24</td>\n",
       "    </tr>\n",
       "    <tr>\n",
       "      <th>VERBAS INDENIZATÓRIAS REGISTRADAS EM SISTEMAS DE PESSOAL - CIVIL (U$)(*)</th>\n",
       "      <td>342.200,00</td>\n",
       "      <td>0,00</td>\n",
       "      <td>0,00</td>\n",
       "      <td>0,00</td>\n",
       "      <td>0,00</td>\n",
       "      <td>0,00</td>\n",
       "      <td>0,00</td>\n",
       "      <td>0,00</td>\n",
       "    </tr>\n",
       "    <tr>\n",
       "      <th>VERBAS INDENIZATÓRIAS REGISTRADAS EM SISTEMAS DE PESSOAL - MILITAR (R$)(*)</th>\n",
       "      <td>342.200,00</td>\n",
       "      <td>0,02</td>\n",
       "      <td>9,61</td>\n",
       "      <td>0,00</td>\n",
       "      <td>0,00</td>\n",
       "      <td>0,00</td>\n",
       "      <td>0,00</td>\n",
       "      <td>5.622,00</td>\n",
       "    </tr>\n",
       "    <tr>\n",
       "      <th>VERBAS INDENIZATÓRIAS REGISTRADAS EM SISTEMAS DE PESSOAL - MILITAR (U$)(*)</th>\n",
       "      <td>342.200,00</td>\n",
       "      <td>0,00</td>\n",
       "      <td>0,00</td>\n",
       "      <td>0,00</td>\n",
       "      <td>0,00</td>\n",
       "      <td>0,00</td>\n",
       "      <td>0,00</td>\n",
       "      <td>0,00</td>\n",
       "    </tr>\n",
       "    <tr>\n",
       "      <th>TOTAL DE VERBAS INDENIZATÓRIAS (R$)(*)</th>\n",
       "      <td>342.200,00</td>\n",
       "      <td>567,78</td>\n",
       "      <td>384,49</td>\n",
       "      <td>0,00</td>\n",
       "      <td>458,00</td>\n",
       "      <td>502,28</td>\n",
       "      <td>669,23</td>\n",
       "      <td>60.930,24</td>\n",
       "    </tr>\n",
       "    <tr>\n",
       "      <th>TOTAL DE VERBAS INDENIZATÓRIAS (U$)(*)</th>\n",
       "      <td>342.200,00</td>\n",
       "      <td>0,00</td>\n",
       "      <td>0,00</td>\n",
       "      <td>0,00</td>\n",
       "      <td>0,00</td>\n",
       "      <td>0,00</td>\n",
       "      <td>0,00</td>\n",
       "      <td>0,00</td>\n",
       "    </tr>\n",
       "  </tbody>\n",
       "</table>\n",
       "</div>"
      ],
      "text/plain": [
       "                                                        count         mean  \\\n",
       "Id_SERVIDOR_PORTAL                                 342.200,00 1.543.724,95   \n",
       "REFERENCIA_CARGO                                         0,00          nan   \n",
       "NIVEL_CARGO                                        119.588,00       557,46   \n",
       "NIVEL_FUNCAO                                        41.260,00         7,30   \n",
       "TIPO_VINCULO                                       342.200,00         1,88   \n",
       "DATA_NOMEACAO_CARGOFUNCAO                                0,00          nan   \n",
       "ID_SERVIDOR_PORTAL                                 342.200,00 1.543.724,95   \n",
       "REMUNERAÇÃO BÁSICA BRUTA (R$)                      342.200,00     8.417,67   \n",
       "REMUNERAÇÃO BÁSICA BRUTA (U$)                      342.200,00         0,00   \n",
       "ABATE-TETO (R$)                                    342.200,00       -78,77   \n",
       "ABATE-TETO (U$)                                    342.200,00         0,00   \n",
       "GRATIFICAÇÃO NATALINA (R$)                         342.200,00     1.026,78   \n",
       "GRATIFICAÇÃO NATALINA (U$)                         342.200,00         0,00   \n",
       "ABATE-TETO DA GRATIFICAÇÃO NATALINA (R$)           342.200,00        -9,10   \n",
       "ABATE-TETO DA GRATIFICAÇÃO NATALINA (U$)           342.200,00         0,00   \n",
       "FÉRIAS (R$)                                        342.200,00       296,82   \n",
       "FÉRIAS (U$)                                        342.200,00         0,00   \n",
       "OUTRAS REMUNERAÇÕES EVENTUAIS (R$)                 342.200,00       344,40   \n",
       "OUTRAS REMUNERAÇÕES EVENTUAIS (U$)                 342.200,00         0,00   \n",
       "PSS/RPGS (R$)                                      342.200,00      -903,19   \n",
       "PSS/RPGS (U$)                                      342.200,00         0,00   \n",
       "PENSÃO MILITAR (R$)                                342.200,00        -0,00   \n",
       "PENSÃO MILITAR (U$)                                342.200,00         0,00   \n",
       "FUNDO DE SAÚDE (R$)                                342.200,00        -0,00   \n",
       "FUNDO DE SAÚDE (U$)                                342.200,00         0,00   \n",
       "DEMAIS DEDUÇÕES (R$)                               342.200,00      -438,37   \n",
       "DEMAIS DEDUÇÕES (U$)                               342.200,00         0,00   \n",
       "REMUNERAÇÃO APÓS DEDUÇÕES OBRIGATÓRIAS (R$)        342.200,00     7.296,83   \n",
       "REMUNERAÇÃO APÓS DEDUÇÕES OBRIGATÓRIAS (U$)        342.200,00         0,00   \n",
       "VERBAS INDENIZATÓRIAS REGISTRADAS EM SISTEMAS D... 342.200,00       567,77   \n",
       "VERBAS INDENIZATÓRIAS REGISTRADAS EM SISTEMAS D... 342.200,00         0,00   \n",
       "VERBAS INDENIZATÓRIAS REGISTRADAS EM SISTEMAS D... 342.200,00         0,02   \n",
       "VERBAS INDENIZATÓRIAS REGISTRADAS EM SISTEMAS D... 342.200,00         0,00   \n",
       "TOTAL DE VERBAS INDENIZATÓRIAS (R$)(*)             342.200,00       567,78   \n",
       "TOTAL DE VERBAS INDENIZATÓRIAS (U$)(*)             342.200,00         0,00   \n",
       "\n",
       "                                                          std          min  \\\n",
       "Id_SERVIDOR_PORTAL                                 311.577,36 1.000.014,00   \n",
       "REFERENCIA_CARGO                                          nan          nan   \n",
       "NIVEL_CARGO                                            171,45         1,00   \n",
       "NIVEL_FUNCAO                                            59,48         1,00   \n",
       "TIPO_VINCULO                                             0,33         1,00   \n",
       "DATA_NOMEACAO_CARGOFUNCAO                                 nan          nan   \n",
       "ID_SERVIDOR_PORTAL                                 311.577,36 1.000.014,00   \n",
       "REMUNERAÇÃO BÁSICA BRUTA (R$)                        6.290,60         0,00   \n",
       "REMUNERAÇÃO BÁSICA BRUTA (U$)                            0,00         0,00   \n",
       "ABATE-TETO (R$)                                        823,22   -36.596,37   \n",
       "ABATE-TETO (U$)                                          0,00         0,00   \n",
       "GRATIFICAÇÃO NATALINA (R$)                           3.306,26         0,00   \n",
       "GRATIFICAÇÃO NATALINA (U$)                               0,00         0,00   \n",
       "ABATE-TETO DA GRATIFICAÇÃO NATALINA (R$)               277,30   -19.553,32   \n",
       "ABATE-TETO DA GRATIFICAÇÃO NATALINA (U$)                 0,00         0,00   \n",
       "FÉRIAS (R$)                                          1.297,26         0,00   \n",
       "FÉRIAS (U$)                                              0,00         0,00   \n",
       "OUTRAS REMUNERAÇÕES EVENTUAIS (R$)                   1.276,42         0,00   \n",
       "OUTRAS REMUNERAÇÕES EVENTUAIS (U$)                       0,00         0,00   \n",
       "PSS/RPGS (R$)                                          695,92   -11.944,07   \n",
       "PSS/RPGS (U$)                                            0,00         0,00   \n",
       "PENSÃO MILITAR (R$)                                      0,86      -501,76   \n",
       "PENSÃO MILITAR (U$)                                      0,00         0,00   \n",
       "FUNDO DE SAÚDE (R$)                                      0,15       -86,97   \n",
       "FUNDO DE SAÚDE (U$)                                      0,00         0,00   \n",
       "DEMAIS DEDUÇÕES (R$)                                 1.590,34   -29.724,29   \n",
       "DEMAIS DEDUÇÕES (U$)                                     0,00         0,00   \n",
       "REMUNERAÇÃO APÓS DEDUÇÕES OBRIGATÓRIAS (R$)          5.302,61    -6.193,00   \n",
       "REMUNERAÇÃO APÓS DEDUÇÕES OBRIGATÓRIAS (U$)              0,00         0,00   \n",
       "VERBAS INDENIZATÓRIAS REGISTRADAS EM SISTEMAS D...     384,24         0,00   \n",
       "VERBAS INDENIZATÓRIAS REGISTRADAS EM SISTEMAS D...       0,00         0,00   \n",
       "VERBAS INDENIZATÓRIAS REGISTRADAS EM SISTEMAS D...       9,61         0,00   \n",
       "VERBAS INDENIZATÓRIAS REGISTRADAS EM SISTEMAS D...       0,00         0,00   \n",
       "TOTAL DE VERBAS INDENIZATÓRIAS (R$)(*)                 384,49         0,00   \n",
       "TOTAL DE VERBAS INDENIZATÓRIAS (U$)(*)                   0,00         0,00   \n",
       "\n",
       "                                                            25%          50%  \\\n",
       "Id_SERVIDOR_PORTAL                                 1.277.001,50 1.543.966,00   \n",
       "REFERENCIA_CARGO                                            nan          nan   \n",
       "NIVEL_CARGO                                              501,00       602,00   \n",
       "NIVEL_FUNCAO                                               1,00         2,00   \n",
       "TIPO_VINCULO                                               2,00         2,00   \n",
       "DATA_NOMEACAO_CARGOFUNCAO                                   nan          nan   \n",
       "ID_SERVIDOR_PORTAL                                 1.277.001,50 1.543.966,00   \n",
       "REMUNERAÇÃO BÁSICA BRUTA (R$)                          3.992,25     6.442,83   \n",
       "REMUNERAÇÃO BÁSICA BRUTA (U$)                              0,00         0,00   \n",
       "ABATE-TETO (R$)                                            0,00         0,00   \n",
       "ABATE-TETO (U$)                                            0,00         0,00   \n",
       "GRATIFICAÇÃO NATALINA (R$)                                 0,00         0,00   \n",
       "GRATIFICAÇÃO NATALINA (U$)                                 0,00         0,00   \n",
       "ABATE-TETO DA GRATIFICAÇÃO NATALINA (R$)                   0,00         0,00   \n",
       "ABATE-TETO DA GRATIFICAÇÃO NATALINA (U$)                   0,00         0,00   \n",
       "FÉRIAS (R$)                                                0,00         0,00   \n",
       "FÉRIAS (U$)                                                0,00         0,00   \n",
       "OUTRAS REMUNERAÇÕES EVENTUAIS (R$)                         0,00         0,00   \n",
       "OUTRAS REMUNERAÇÕES EVENTUAIS (U$)                         0,00         0,00   \n",
       "PSS/RPGS (R$)                                         -1.162,77      -672,75   \n",
       "PSS/RPGS (U$)                                              0,00         0,00   \n",
       "PENSÃO MILITAR (R$)                                        0,00         0,00   \n",
       "PENSÃO MILITAR (U$)                                        0,00         0,00   \n",
       "FUNDO DE SAÚDE (R$)                                        0,00         0,00   \n",
       "FUNDO DE SAÚDE (U$)                                        0,00         0,00   \n",
       "DEMAIS DEDUÇÕES (R$)                                      -3,70         0,00   \n",
       "DEMAIS DEDUÇÕES (U$)                                       0,00         0,00   \n",
       "REMUNERAÇÃO APÓS DEDUÇÕES OBRIGATÓRIAS (R$)            3.788,62     5.677,12   \n",
       "REMUNERAÇÃO APÓS DEDUÇÕES OBRIGATÓRIAS (U$)                0,00         0,00   \n",
       "VERBAS INDENIZATÓRIAS REGISTRADAS EM SISTEMAS D...       458,00       502,28   \n",
       "VERBAS INDENIZATÓRIAS REGISTRADAS EM SISTEMAS D...         0,00         0,00   \n",
       "VERBAS INDENIZATÓRIAS REGISTRADAS EM SISTEMAS D...         0,00         0,00   \n",
       "VERBAS INDENIZATÓRIAS REGISTRADAS EM SISTEMAS D...         0,00         0,00   \n",
       "TOTAL DE VERBAS INDENIZATÓRIAS (R$)(*)                   458,00       502,28   \n",
       "TOTAL DE VERBAS INDENIZATÓRIAS (U$)(*)                     0,00         0,00   \n",
       "\n",
       "                                                            75%          max  \n",
       "Id_SERVIDOR_PORTAL                                 1.810.485,25 2.259.860,00  \n",
       "REFERENCIA_CARGO                                            nan          nan  \n",
       "NIVEL_CARGO                                              701,00       801,00  \n",
       "NIVEL_FUNCAO                                               4,00     1.025,00  \n",
       "TIPO_VINCULO                                               2,00         3,00  \n",
       "DATA_NOMEACAO_CARGOFUNCAO                                   nan          nan  \n",
       "ID_SERVIDOR_PORTAL                                 1.810.485,25 2.259.860,00  \n",
       "REMUNERAÇÃO BÁSICA BRUTA (R$)                         10.818,04    69.972,10  \n",
       "REMUNERAÇÃO BÁSICA BRUTA (U$)                              0,00         0,00  \n",
       "ABATE-TETO (R$)                                            0,00         0,00  \n",
       "ABATE-TETO (U$)                                            0,00         0,00  \n",
       "GRATIFICAÇÃO NATALINA (R$)                                 0,00    53.626,75  \n",
       "GRATIFICAÇÃO NATALINA (U$)                                 0,00         0,00  \n",
       "ABATE-TETO DA GRATIFICAÇÃO NATALINA (R$)                   0,00         0,00  \n",
       "ABATE-TETO DA GRATIFICAÇÃO NATALINA (U$)                   0,00         0,00  \n",
       "FÉRIAS (R$)                                                0,00    30.389,40  \n",
       "FÉRIAS (U$)                                                0,00         0,00  \n",
       "OUTRAS REMUNERAÇÕES EVENTUAIS (R$)                       135,63    81.271,65  \n",
       "OUTRAS REMUNERAÇÕES EVENTUAIS (U$)                         0,00         0,00  \n",
       "PSS/RPGS (R$)                                           -436,97         0,00  \n",
       "PSS/RPGS (U$)                                              0,00         0,00  \n",
       "PENSÃO MILITAR (R$)                                        0,00         0,00  \n",
       "PENSÃO MILITAR (U$)                                        0,00         0,00  \n",
       "FUNDO DE SAÚDE (R$)                                        0,00         0,00  \n",
       "FUNDO DE SAÚDE (U$)                                        0,00         0,00  \n",
       "DEMAIS DEDUÇÕES (R$)                                       0,00         0,00  \n",
       "DEMAIS DEDUÇÕES (U$)                                       0,00         0,00  \n",
       "REMUNERAÇÃO APÓS DEDUÇÕES OBRIGATÓRIAS (R$)            9.028,68    87.162,71  \n",
       "REMUNERAÇÃO APÓS DEDUÇÕES OBRIGATÓRIAS (U$)                0,00         0,00  \n",
       "VERBAS INDENIZATÓRIAS REGISTRADAS EM SISTEMAS D...       669,23    60.930,24  \n",
       "VERBAS INDENIZATÓRIAS REGISTRADAS EM SISTEMAS D...         0,00         0,00  \n",
       "VERBAS INDENIZATÓRIAS REGISTRADAS EM SISTEMAS D...         0,00     5.622,00  \n",
       "VERBAS INDENIZATÓRIAS REGISTRADAS EM SISTEMAS D...         0,00         0,00  \n",
       "TOTAL DE VERBAS INDENIZATÓRIAS (R$)(*)                   669,23    60.930,24  \n",
       "TOTAL DE VERBAS INDENIZATÓRIAS (U$)(*)                     0,00         0,00  "
      ]
     },
     "execution_count": 151,
     "metadata": {},
     "output_type": "execute_result"
    }
   ],
   "source": [
    "# informações estatísticas sobre os campos numéricos\n",
    "ufc.describe().T"
   ]
  },
  {
   "cell_type": "code",
   "execution_count": 154,
   "metadata": {
    "collapsed": false,
    "deletable": true,
    "editable": true,
    "extensions": {
     "jupyter_dashboards": {
      "version": 1,
      "views": {
       "grid_default": {
        "col": 0,
        "height": 41,
        "hidden": false,
        "row": 147,
        "width": 7
       },
       "report_default": {
        "hidden": false
       }
      }
     }
    }
   },
   "outputs": [
    {
     "data": {
      "text/html": [
       "<div>\n",
       "<table border=\"1\" class=\"dataframe\">\n",
       "  <thead>\n",
       "    <tr style=\"text-align: right;\">\n",
       "      <th></th>\n",
       "      <th>count</th>\n",
       "      <th>unique</th>\n",
       "      <th>top</th>\n",
       "      <th>freq</th>\n",
       "    </tr>\n",
       "  </thead>\n",
       "  <tbody>\n",
       "    <tr>\n",
       "      <th>CLASSE_CARGO</th>\n",
       "      <td>300445</td>\n",
       "      <td>12</td>\n",
       "      <td>D</td>\n",
       "      <td>75003</td>\n",
       "    </tr>\n",
       "    <tr>\n",
       "      <th>PADRAO_CARGO</th>\n",
       "      <td>180857</td>\n",
       "      <td>64</td>\n",
       "      <td>416</td>\n",
       "      <td>34154</td>\n",
       "    </tr>\n",
       "    <tr>\n",
       "      <th>FUNCAO</th>\n",
       "      <td>41260</td>\n",
       "      <td>7</td>\n",
       "      <td>FUNCAO GRATIFICADA - IFES</td>\n",
       "      <td>21067</td>\n",
       "    </tr>\n",
       "    <tr>\n",
       "      <th>ATIVIDADE</th>\n",
       "      <td>41253</td>\n",
       "      <td>73</td>\n",
       "      <td>COORDENADOR DE CURSO</td>\n",
       "      <td>5464</td>\n",
       "    </tr>\n",
       "    <tr>\n",
       "      <th>DATA_INICIO_AFASTAMENTO</th>\n",
       "      <td>342200</td>\n",
       "      <td>747</td>\n",
       "      <td>Não informada</td>\n",
       "      <td>335904</td>\n",
       "    </tr>\n",
       "    <tr>\n",
       "      <th>DATA_TERMINO_AFASTAMENTO</th>\n",
       "      <td>342200</td>\n",
       "      <td>799</td>\n",
       "      <td>Não informada</td>\n",
       "      <td>336140</td>\n",
       "    </tr>\n",
       "    <tr>\n",
       "      <th>DATA_INGRESSO_CARGOFUNCAO</th>\n",
       "      <td>341705</td>\n",
       "      <td>2378</td>\n",
       "      <td>01/03/2005</td>\n",
       "      <td>68775</td>\n",
       "    </tr>\n",
       "    <tr>\n",
       "      <th>DATA_INGRESSO_ORGAO</th>\n",
       "      <td>342178</td>\n",
       "      <td>2321</td>\n",
       "      <td>29/12/2008</td>\n",
       "      <td>7496</td>\n",
       "    </tr>\n",
       "    <tr>\n",
       "      <th>DATA_DIPLOMA_INGRESSO_SERVICOPUBLICO</th>\n",
       "      <td>342200</td>\n",
       "      <td>2420</td>\n",
       "      <td>29/12/2008</td>\n",
       "      <td>7587</td>\n",
       "    </tr>\n",
       "    <tr>\n",
       "      <th>IRRF (R$)</th>\n",
       "      <td>342200</td>\n",
       "      <td>87860</td>\n",
       "      <td>0,00</td>\n",
       "      <td>13863</td>\n",
       "    </tr>\n",
       "    <tr>\n",
       "      <th>IRRF (U$)</th>\n",
       "      <td>342200</td>\n",
       "      <td>2</td>\n",
       "      <td>0,00</td>\n",
       "      <td>342197</td>\n",
       "    </tr>\n",
       "    <tr>\n",
       "      <th>NOME</th>\n",
       "      <td>342200</td>\n",
       "      <td>8057</td>\n",
       "      <td>ROSALICE NOGUEIRA ANDRADE</td>\n",
       "      <td>298</td>\n",
       "    </tr>\n",
       "    <tr>\n",
       "      <th>DESCRICAO_CARGO</th>\n",
       "      <td>300445</td>\n",
       "      <td>175</td>\n",
       "      <td>PROFESSOR DO MAGISTERIO SUPERIOR</td>\n",
       "      <td>103974</td>\n",
       "    </tr>\n",
       "    <tr>\n",
       "      <th>UORG_LOTACAO</th>\n",
       "      <td>337458</td>\n",
       "      <td>733</td>\n",
       "      <td>HOSPITAL UNIVERSITARIO WALTER CANTIDIO</td>\n",
       "      <td>40480</td>\n",
       "    </tr>\n",
       "    <tr>\n",
       "      <th>ORG_LOTACAO</th>\n",
       "      <td>342200</td>\n",
       "      <td>1</td>\n",
       "      <td>UNIVERSIDADE FEDERAL DO CEARA</td>\n",
       "      <td>342200</td>\n",
       "    </tr>\n",
       "    <tr>\n",
       "      <th>ORGSUP_LOTACAO</th>\n",
       "      <td>342200</td>\n",
       "      <td>1</td>\n",
       "      <td>MINISTERIO DA EDUCACAO</td>\n",
       "      <td>342200</td>\n",
       "    </tr>\n",
       "    <tr>\n",
       "      <th>UORG_EXERCICIO</th>\n",
       "      <td>196619</td>\n",
       "      <td>1182</td>\n",
       "      <td>HOSPITAL UNIVERSITARIO WALTER CANTIDIO</td>\n",
       "      <td>19919</td>\n",
       "    </tr>\n",
       "    <tr>\n",
       "      <th>ORG_EXERCICIO</th>\n",
       "      <td>342200</td>\n",
       "      <td>46</td>\n",
       "      <td>UNIVERSIDADE FEDERAL DO CEARA</td>\n",
       "      <td>333284</td>\n",
       "    </tr>\n",
       "    <tr>\n",
       "      <th>ORGSUP_EXERCICIO</th>\n",
       "      <td>342200</td>\n",
       "      <td>20</td>\n",
       "      <td>MINISTERIO DA EDUCACAO</td>\n",
       "      <td>338973</td>\n",
       "    </tr>\n",
       "    <tr>\n",
       "      <th>SITUACAO_VINCULO</th>\n",
       "      <td>342200</td>\n",
       "      <td>14</td>\n",
       "      <td>ATIVO PERMANENTE</td>\n",
       "      <td>318116</td>\n",
       "    </tr>\n",
       "    <tr>\n",
       "      <th>REGIME_JURIDICO</th>\n",
       "      <td>342200</td>\n",
       "      <td>5</td>\n",
       "      <td>REGIME JURIDICO UNICO</td>\n",
       "      <td>331609</td>\n",
       "    </tr>\n",
       "    <tr>\n",
       "      <th>JORNADA_DE_TRABALHO</th>\n",
       "      <td>342200</td>\n",
       "      <td>7</td>\n",
       "      <td>40 HORAS SEMANAIS</td>\n",
       "      <td>203524</td>\n",
       "    </tr>\n",
       "    <tr>\n",
       "      <th>OBSERVACAO</th>\n",
       "      <td>342200</td>\n",
       "      <td>9</td>\n",
       "      <td>NÃO-ESPECIFICADO</td>\n",
       "      <td>327618</td>\n",
       "    </tr>\n",
       "  </tbody>\n",
       "</table>\n",
       "</div>"
      ],
      "text/plain": [
       "                                       count unique  \\\n",
       "CLASSE_CARGO                          300445     12   \n",
       "PADRAO_CARGO                          180857     64   \n",
       "FUNCAO                                 41260      7   \n",
       "ATIVIDADE                              41253     73   \n",
       "DATA_INICIO_AFASTAMENTO               342200    747   \n",
       "DATA_TERMINO_AFASTAMENTO              342200    799   \n",
       "DATA_INGRESSO_CARGOFUNCAO             341705   2378   \n",
       "DATA_INGRESSO_ORGAO                   342178   2321   \n",
       "DATA_DIPLOMA_INGRESSO_SERVICOPUBLICO  342200   2420   \n",
       "IRRF (R$)                             342200  87860   \n",
       "IRRF (U$)                             342200      2   \n",
       "NOME                                  342200   8057   \n",
       "DESCRICAO_CARGO                       300445    175   \n",
       "UORG_LOTACAO                          337458    733   \n",
       "ORG_LOTACAO                           342200      1   \n",
       "ORGSUP_LOTACAO                        342200      1   \n",
       "UORG_EXERCICIO                        196619   1182   \n",
       "ORG_EXERCICIO                         342200     46   \n",
       "ORGSUP_EXERCICIO                      342200     20   \n",
       "SITUACAO_VINCULO                      342200     14   \n",
       "REGIME_JURIDICO                       342200      5   \n",
       "JORNADA_DE_TRABALHO                   342200      7   \n",
       "OBSERVACAO                            342200      9   \n",
       "\n",
       "                                                                         top  \\\n",
       "CLASSE_CARGO                                                               D   \n",
       "PADRAO_CARGO                                                             416   \n",
       "FUNCAO                                             FUNCAO GRATIFICADA - IFES   \n",
       "ATIVIDADE                                               COORDENADOR DE CURSO   \n",
       "DATA_INICIO_AFASTAMENTO                                        Não informada   \n",
       "DATA_TERMINO_AFASTAMENTO                                       Não informada   \n",
       "DATA_INGRESSO_CARGOFUNCAO                                         01/03/2005   \n",
       "DATA_INGRESSO_ORGAO                                               29/12/2008   \n",
       "DATA_DIPLOMA_INGRESSO_SERVICOPUBLICO                              29/12/2008   \n",
       "IRRF (R$)                                                               0,00   \n",
       "IRRF (U$)                                                               0,00   \n",
       "NOME                                               ROSALICE NOGUEIRA ANDRADE   \n",
       "DESCRICAO_CARGO                             PROFESSOR DO MAGISTERIO SUPERIOR   \n",
       "UORG_LOTACAO                          HOSPITAL UNIVERSITARIO WALTER CANTIDIO   \n",
       "ORG_LOTACAO                                    UNIVERSIDADE FEDERAL DO CEARA   \n",
       "ORGSUP_LOTACAO                                        MINISTERIO DA EDUCACAO   \n",
       "UORG_EXERCICIO                        HOSPITAL UNIVERSITARIO WALTER CANTIDIO   \n",
       "ORG_EXERCICIO                                  UNIVERSIDADE FEDERAL DO CEARA   \n",
       "ORGSUP_EXERCICIO                                      MINISTERIO DA EDUCACAO   \n",
       "SITUACAO_VINCULO                                            ATIVO PERMANENTE   \n",
       "REGIME_JURIDICO                                        REGIME JURIDICO UNICO   \n",
       "JORNADA_DE_TRABALHO                                        40 HORAS SEMANAIS   \n",
       "OBSERVACAO                                                  NÃO-ESPECIFICADO   \n",
       "\n",
       "                                        freq  \n",
       "CLASSE_CARGO                           75003  \n",
       "PADRAO_CARGO                           34154  \n",
       "FUNCAO                                 21067  \n",
       "ATIVIDADE                               5464  \n",
       "DATA_INICIO_AFASTAMENTO               335904  \n",
       "DATA_TERMINO_AFASTAMENTO              336140  \n",
       "DATA_INGRESSO_CARGOFUNCAO              68775  \n",
       "DATA_INGRESSO_ORGAO                     7496  \n",
       "DATA_DIPLOMA_INGRESSO_SERVICOPUBLICO    7587  \n",
       "IRRF (R$)                              13863  \n",
       "IRRF (U$)                             342197  \n",
       "NOME                                     298  \n",
       "DESCRICAO_CARGO                       103974  \n",
       "UORG_LOTACAO                           40480  \n",
       "ORG_LOTACAO                           342200  \n",
       "ORGSUP_LOTACAO                        342200  \n",
       "UORG_EXERCICIO                         19919  \n",
       "ORG_EXERCICIO                         333284  \n",
       "ORGSUP_EXERCICIO                      338973  \n",
       "SITUACAO_VINCULO                      318116  \n",
       "REGIME_JURIDICO                       331609  \n",
       "JORNADA_DE_TRABALHO                   203524  \n",
       "OBSERVACAO                            327618  "
      ]
     },
     "execution_count": 154,
     "metadata": {},
     "output_type": "execute_result"
    }
   ],
   "source": [
    "# informações estatísticas sobre os campos não quantitativos\n",
    "ufc.describe(include = ['O']).T"
   ]
  },
  {
   "cell_type": "markdown",
   "metadata": {
    "deletable": true,
    "editable": true,
    "extensions": {
     "jupyter_dashboards": {
      "version": 1,
      "views": {
       "grid_default": {
        "col": 8,
        "height": 4,
        "hidden": false,
        "row": 91,
        "width": 4
       },
       "report_default": {
        "hidden": false
       }
      }
     }
    }
   },
   "source": [
    "## Informações sobre os dados"
   ]
  },
  {
   "cell_type": "code",
   "execution_count": 175,
   "metadata": {
    "collapsed": true,
    "deletable": true,
    "editable": true,
    "extensions": {
     "jupyter_dashboards": {
      "version": 1,
      "views": {
       "grid_default": {
        "hidden": true
       },
       "report_default": {
        "hidden": true
       }
      }
     }
    }
   },
   "outputs": [],
   "source": [
    "#### quem já mudou de jornada de trabalho\n",
    "\n",
    "jornadas_a_considerar = ['40 HORAS SEMANAIS', '20 HORAS SEMANAIS',\n",
    "       '30 HORAS SEMANAIS', '25 HORAS SEMANAIS', '24 HORAS SEMANAIS',\n",
    "       '60 HORAS SEMANAIS']\n",
    "\n",
    "def filtro_apenas_mudou_funcao(g):\n",
    "    \n",
    "    jornadas = g['JORNADA_DE_TRABALHO']\n",
    "    jornadas_consideradas = jornadas[jornadas.isin(jornadas_a_considerar)]\n",
    "    \n",
    "    n_jornadas = len(jornadas_consideradas)\n",
    "    \n",
    "    return n_jornadas > 1\n",
    "\n",
    "qm_mudou_jornada = ufc[ufc['FUNCAO'].isnull()].groupby('Id_SERVIDOR_PORTAL').filter(filtro_apenas_mudou_funcao)"
   ]
  },
  {
   "cell_type": "code",
   "execution_count": 176,
   "metadata": {
    "collapsed": false,
    "deletable": true,
    "editable": true,
    "extensions": {
     "jupyter_dashboards": {
      "version": 1,
      "views": {
       "grid_default": {
        "col": 8,
        "height": 4,
        "hidden": false,
        "row": 95,
        "width": 4
       },
       "report_default": {
        "hidden": false
       }
      }
     }
    }
   },
   "outputs": [
    {
     "data": {
      "text/plain": [
       "12146"
      ]
     },
     "execution_count": 176,
     "metadata": {},
     "output_type": "execute_result"
    }
   ],
   "source": [
    "len(qm_mudou_jornada.Id_SERVIDOR_PORTAL.unique())"
   ]
  },
  {
   "cell_type": "code",
   "execution_count": 177,
   "metadata": {
    "collapsed": false,
    "deletable": true,
    "editable": true,
    "extensions": {
     "jupyter_dashboards": {
      "version": 1,
      "views": {
       "grid_default": {
        "col": 7,
        "height": 4,
        "hidden": false,
        "row": 147,
        "width": 4
       },
       "report_default": {
        "hidden": false
       }
      }
     }
    }
   },
   "outputs": [
    {
     "data": {
      "text/plain": [
       "327.005   1.177.331\n",
       "Name: Id_SERVIDOR_PORTAL, dtype: int64"
      ]
     },
     "execution_count": 177,
     "metadata": {},
     "output_type": "execute_result"
    }
   ],
   "source": [
    "qm_mudou_jornada.Id_SERVIDOR_PORTAL.sample()"
   ]
  },
  {
   "cell_type": "code",
   "execution_count": 178,
   "metadata": {
    "collapsed": false,
    "deletable": true,
    "editable": true,
    "extensions": {
     "jupyter_dashboards": {
      "version": 1,
      "views": {
       "grid_default": {
        "col": 7,
        "height": 4,
        "hidden": false,
        "row": 151,
        "width": 4
       },
       "report_default": {
        "hidden": false
       }
      }
     }
    }
   },
   "outputs": [
    {
     "data": {
      "text/plain": [
       "24 HORAS SEMANAIS   19\n",
       "40 HORAS SEMANAIS    1\n",
       "Name: JORNADA_DE_TRABALHO, dtype: int64"
      ]
     },
     "execution_count": 178,
     "metadata": {},
     "output_type": "execute_result"
    }
   ],
   "source": [
    "ufc.loc[lambda row: row.Id_SERVIDOR_PORTAL == 1177331]['JORNADA_DE_TRABALHO'].value_counts()"
   ]
  },
  {
   "cell_type": "markdown",
   "metadata": {
    "deletable": true,
    "editable": true,
    "extensions": {
     "jupyter_dashboards": {
      "version": 1,
      "views": {
       "grid_default": {
        "col": 7,
        "height": 4,
        "hidden": false,
        "row": 155,
        "width": 4
       },
       "report_default": {
        "hidden": false
       }
      }
     }
    }
   },
   "source": [
    "#### quantidade de funções por tipo"
   ]
  },
  {
   "cell_type": "code",
   "execution_count": 23,
   "metadata": {
    "collapsed": false,
    "deletable": true,
    "editable": true,
    "extensions": {
     "jupyter_dashboards": {
      "version": 1,
      "views": {
       "grid_default": {
        "col": 7,
        "height": 5,
        "hidden": false,
        "row": 159,
        "width": 4
       },
       "report_default": {
        "hidden": false
       }
      }
     }
    }
   },
   "outputs": [
    {
     "data": {
      "text/plain": [
       "FUNCAO GRATIFICADA - IFES             553\n",
       "CARGO DE  DIRECAO - CD - IFES         214\n",
       "FUNCAO COMISSIONADA DE COORD. CURSO   177\n",
       "FUNCAO GRATIFICADA                     60\n",
       "DIRECAO E ASSESSORAMENTO SUPERIOR       4\n",
       "Name: funcao, dtype: int64"
      ]
     },
     "execution_count": 23,
     "metadata": {},
     "output_type": "execute_result"
    }
   ],
   "source": [
    "ufc.funcao.value_counts()"
   ]
  },
  {
   "cell_type": "markdown",
   "metadata": {
    "deletable": true,
    "editable": true,
    "extensions": {
     "jupyter_dashboards": {
      "version": 1,
      "views": {
       "grid_default": {
        "col": 7,
        "height": 4,
        "hidden": false,
        "row": 164,
        "width": 4
       },
       "report_default": {
        "hidden": false
       }
      }
     }
    }
   },
   "source": [
    "#### nomes que possuem mais de 2 registros"
   ]
  },
  {
   "cell_type": "code",
   "execution_count": 24,
   "metadata": {
    "collapsed": false,
    "deletable": true,
    "editable": true,
    "extensions": {
     "jupyter_dashboards": {
      "version": 1,
      "views": {
       "grid_default": {
        "col": 7,
        "height": 8,
        "hidden": false,
        "row": 168,
        "width": 4
       },
       "report_default": {
        "hidden": false
       }
      }
     }
    }
   },
   "outputs": [
    {
     "data": {
      "text/plain": [
       "nome\n",
       "ARNALDO AIRES PEIXOTO JUNIOR 1345763        3\n",
       "CARLOS AUGUSTO ALENCAR JUNIOR 1741074       3\n",
       "ELISETE MENDES CARVALHO 1320890             3\n",
       "FRANCISCO EDSON DE LUCENA FEITOSA 1878842   3\n",
       "HENRY DE HOLANDA CAMPOS 1325177             3\n",
       "JORGE LUIZ NOBRE RODRIGUES 1288456          3\n",
       "JOSE GLAUCO LOBO FILHO 1794329              3\n",
       "JOSENILIA MARIA ALVES GOMES 1271764         3\n",
       "LUSMAR VERAS RODRIGUES 1831879              3\n",
       "WOLNEY MATTOS OLIVEIRA 1187993              3\n",
       "dtype: int64"
      ]
     },
     "execution_count": 24,
     "metadata": {},
     "output_type": "execute_result"
    }
   ],
   "source": [
    "ufc.groupby('nome').size().loc[lambda row: row > 2]"
   ]
  },
  {
   "cell_type": "code",
   "execution_count": null,
   "metadata": {
    "collapsed": true,
    "deletable": true,
    "editable": true,
    "extensions": {
     "jupyter_dashboards": {
      "version": 1,
      "views": {
       "grid_default": {
        "hidden": true
       },
       "report_default": {
        "hidden": true
       }
      }
     }
    }
   },
   "outputs": [],
   "source": []
  },
  {
   "cell_type": "code",
   "execution_count": null,
   "metadata": {
    "collapsed": true,
    "deletable": true,
    "editable": true,
    "extensions": {
     "jupyter_dashboards": {
      "version": 1,
      "views": {
       "grid_default": {
        "hidden": true
       },
       "report_default": {
        "hidden": true
       }
      }
     }
    }
   },
   "outputs": [],
   "source": []
  },
  {
   "cell_type": "code",
   "execution_count": null,
   "metadata": {
    "collapsed": true,
    "deletable": true,
    "editable": true,
    "extensions": {
     "jupyter_dashboards": {
      "version": 1,
      "views": {
       "grid_default": {
        "hidden": true
       },
       "report_default": {
        "hidden": true
       }
      }
     }
    }
   },
   "outputs": [],
   "source": []
  },
  {
   "cell_type": "code",
   "execution_count": null,
   "metadata": {
    "collapsed": true,
    "deletable": true,
    "editable": true,
    "extensions": {
     "jupyter_dashboards": {
      "version": 1,
      "views": {
       "grid_default": {
        "hidden": true
       },
       "report_default": {
        "hidden": true
       }
      }
     }
    }
   },
   "outputs": [],
   "source": []
  },
  {
   "cell_type": "code",
   "execution_count": 25,
   "metadata": {
    "collapsed": false,
    "deletable": true,
    "editable": true,
    "extensions": {
     "jupyter_dashboards": {
      "version": 1,
      "views": {
       "grid_default": {
        "col": 0,
        "height": 4,
        "hidden": false,
        "row": 188,
        "width": 9
       },
       "report_default": {
        "hidden": false
       }
      }
     }
    }
   },
   "outputs": [
    {
     "data": {
      "text/html": [
       "<div>\n",
       "<table border=\"1\" class=\"dataframe\">\n",
       "  <thead>\n",
       "    <tr style=\"text-align: right;\">\n",
       "      <th></th>\n",
       "      <th>cargo</th>\n",
       "      <th>funcao</th>\n",
       "      <th>uorg_lotacao</th>\n",
       "      <th>uorg_exercicio</th>\n",
       "      <th>jornada</th>\n",
       "      <th>remuneracao_basica_bruta</th>\n",
       "      <th>remuneracao_pos_deducao</th>\n",
       "      <th>nome</th>\n",
       "    </tr>\n",
       "  </thead>\n",
       "  <tbody>\n",
       "  </tbody>\n",
       "</table>\n",
       "</div>"
      ],
      "text/plain": [
       "Empty DataFrame\n",
       "Columns: [cargo, funcao, uorg_lotacao, uorg_exercicio, jornada, remuneracao_basica_bruta, remuneracao_pos_deducao, nome]\n",
       "Index: []"
      ]
     },
     "execution_count": 25,
     "metadata": {},
     "output_type": "execute_result"
    }
   ],
   "source": [
    "ufc[ufc.nome == 'WOLNEY MATTOS OLIVEIRA']"
   ]
  },
  {
   "cell_type": "code",
   "execution_count": null,
   "metadata": {
    "collapsed": true,
    "deletable": true,
    "editable": true,
    "extensions": {
     "jupyter_dashboards": {
      "version": 1,
      "views": {
       "grid_default": {
        "hidden": true
       },
       "report_default": {
        "hidden": true
       }
      }
     }
    }
   },
   "outputs": [],
   "source": []
  },
  {
   "cell_type": "code",
   "execution_count": null,
   "metadata": {
    "collapsed": true,
    "deletable": true,
    "editable": true,
    "extensions": {
     "jupyter_dashboards": {
      "version": 1,
      "views": {
       "grid_default": {
        "hidden": true
       },
       "report_default": {
        "hidden": true
       }
      }
     }
    }
   },
   "outputs": [],
   "source": []
  },
  {
   "cell_type": "code",
   "execution_count": null,
   "metadata": {
    "collapsed": true,
    "deletable": true,
    "editable": true,
    "extensions": {
     "jupyter_dashboards": {
      "version": 1,
      "views": {
       "grid_default": {
        "hidden": true
       },
       "report_default": {
        "hidden": true
       }
      }
     }
    }
   },
   "outputs": [],
   "source": []
  },
  {
   "cell_type": "code",
   "execution_count": null,
   "metadata": {
    "collapsed": true,
    "deletable": true,
    "editable": true,
    "extensions": {
     "jupyter_dashboards": {
      "version": 1,
      "views": {
       "grid_default": {
        "hidden": true
       },
       "report_default": {
        "hidden": true
       }
      }
     }
    }
   },
   "outputs": [],
   "source": []
  },
  {
   "cell_type": "code",
   "execution_count": null,
   "metadata": {
    "collapsed": true,
    "deletable": true,
    "editable": true,
    "extensions": {
     "jupyter_dashboards": {
      "version": 1,
      "views": {
       "grid_default": {
        "hidden": true
       },
       "report_default": {
        "hidden": true
       }
      }
     }
    }
   },
   "outputs": [],
   "source": []
  },
  {
   "cell_type": "code",
   "execution_count": null,
   "metadata": {
    "collapsed": true,
    "deletable": true,
    "editable": true,
    "extensions": {
     "jupyter_dashboards": {
      "version": 1,
      "views": {
       "grid_default": {
        "hidden": true
       },
       "report_default": {
        "hidden": true
       }
      }
     }
    }
   },
   "outputs": [],
   "source": []
  },
  {
   "cell_type": "code",
   "execution_count": null,
   "metadata": {
    "collapsed": true,
    "deletable": true,
    "editable": true,
    "extensions": {
     "jupyter_dashboards": {
      "version": 1,
      "views": {
       "grid_default": {
        "hidden": true
       },
       "report_default": {
        "hidden": true
       }
      }
     }
    }
   },
   "outputs": [],
   "source": []
  },
  {
   "cell_type": "code",
   "execution_count": null,
   "metadata": {
    "collapsed": true,
    "deletable": true,
    "editable": true,
    "extensions": {
     "jupyter_dashboards": {
      "version": 1,
      "views": {
       "grid_default": {
        "hidden": true
       },
       "report_default": {
        "hidden": true
       }
      }
     }
    }
   },
   "outputs": [],
   "source": []
  },
  {
   "cell_type": "code",
   "execution_count": null,
   "metadata": {
    "collapsed": true,
    "deletable": true,
    "editable": true,
    "extensions": {
     "jupyter_dashboards": {
      "version": 1,
      "views": {
       "grid_default": {
        "hidden": true
       },
       "report_default": {
        "hidden": true
       }
      }
     }
    }
   },
   "outputs": [],
   "source": []
  },
  {
   "cell_type": "code",
   "execution_count": 26,
   "metadata": {
    "collapsed": false,
    "deletable": true,
    "editable": true,
    "extensions": {
     "jupyter_dashboards": {
      "version": 1,
      "views": {
       "grid_default": {
        "col": 0,
        "height": 16,
        "hidden": false,
        "row": 192,
        "width": 9
       },
       "report_default": {
        "hidden": false
       }
      }
     }
    }
   },
   "outputs": [
    {
     "data": {
      "text/html": [
       "<div>\n",
       "<table border=\"1\" class=\"dataframe\">\n",
       "  <thead>\n",
       "    <tr style=\"text-align: right;\">\n",
       "      <th>funcao</th>\n",
       "      <th>CARGO DE  DIRECAO - CD - IFES</th>\n",
       "      <th>DIRECAO E ASSESSORAMENTO SUPERIOR</th>\n",
       "      <th>FUNCAO COMISSIONADA DE COORD. CURSO</th>\n",
       "      <th>FUNCAO GRATIFICADA - IFES</th>\n",
       "      <th>n_funcoes</th>\n",
       "      <th>n_servidores</th>\n",
       "      <th>proporcao</th>\n",
       "    </tr>\n",
       "    <tr>\n",
       "      <th>uorg_exercicio</th>\n",
       "      <th></th>\n",
       "      <th></th>\n",
       "      <th></th>\n",
       "      <th></th>\n",
       "      <th></th>\n",
       "      <th></th>\n",
       "      <th></th>\n",
       "    </tr>\n",
       "  </thead>\n",
       "  <tbody>\n",
       "    <tr>\n",
       "      <th>DIVISAO DE BENS IMOVEIS</th>\n",
       "      <td>0,00</td>\n",
       "      <td>0,00</td>\n",
       "      <td>0,00</td>\n",
       "      <td>2,00</td>\n",
       "      <td>2,00</td>\n",
       "      <td>4,00</td>\n",
       "      <td>0,50</td>\n",
       "    </tr>\n",
       "    <tr>\n",
       "      <th>DIVISAO DE REDES DE COMPUTADORES</th>\n",
       "      <td>0,00</td>\n",
       "      <td>0,00</td>\n",
       "      <td>0,00</td>\n",
       "      <td>5,00</td>\n",
       "      <td>5,00</td>\n",
       "      <td>14,00</td>\n",
       "      <td>0,36</td>\n",
       "    </tr>\n",
       "    <tr>\n",
       "      <th>DIVISAO DE IMPRENSA E RADIODIFUSAO</th>\n",
       "      <td>0,00</td>\n",
       "      <td>0,00</td>\n",
       "      <td>0,00</td>\n",
       "      <td>1,00</td>\n",
       "      <td>1,00</td>\n",
       "      <td>3,00</td>\n",
       "      <td>0,33</td>\n",
       "    </tr>\n",
       "    <tr>\n",
       "      <th>DIVISAO DE NUTRICAO E ALIMENTACAO</th>\n",
       "      <td>0,00</td>\n",
       "      <td>0,00</td>\n",
       "      <td>0,00</td>\n",
       "      <td>1,00</td>\n",
       "      <td>1,00</td>\n",
       "      <td>3,00</td>\n",
       "      <td>0,33</td>\n",
       "    </tr>\n",
       "    <tr>\n",
       "      <th>DIVISAO DE ORCAMENTO</th>\n",
       "      <td>0,00</td>\n",
       "      <td>0,00</td>\n",
       "      <td>0,00</td>\n",
       "      <td>1,00</td>\n",
       "      <td>1,00</td>\n",
       "      <td>3,00</td>\n",
       "      <td>0,33</td>\n",
       "    </tr>\n",
       "  </tbody>\n",
       "</table>\n",
       "</div>"
      ],
      "text/plain": [
       "funcao                              CARGO DE  DIRECAO - CD - IFES  \\\n",
       "uorg_exercicio                                                      \n",
       "DIVISAO DE BENS IMOVEIS                                      0,00   \n",
       "DIVISAO DE REDES DE COMPUTADORES                             0,00   \n",
       "DIVISAO DE IMPRENSA E RADIODIFUSAO                           0,00   \n",
       "DIVISAO DE NUTRICAO E ALIMENTACAO                            0,00   \n",
       "DIVISAO DE ORCAMENTO                                         0,00   \n",
       "\n",
       "funcao                              DIRECAO E ASSESSORAMENTO SUPERIOR  \\\n",
       "uorg_exercicio                                                          \n",
       "DIVISAO DE BENS IMOVEIS                                          0,00   \n",
       "DIVISAO DE REDES DE COMPUTADORES                                 0,00   \n",
       "DIVISAO DE IMPRENSA E RADIODIFUSAO                               0,00   \n",
       "DIVISAO DE NUTRICAO E ALIMENTACAO                                0,00   \n",
       "DIVISAO DE ORCAMENTO                                             0,00   \n",
       "\n",
       "funcao                              FUNCAO COMISSIONADA DE COORD. CURSO  \\\n",
       "uorg_exercicio                                                            \n",
       "DIVISAO DE BENS IMOVEIS                                            0,00   \n",
       "DIVISAO DE REDES DE COMPUTADORES                                   0,00   \n",
       "DIVISAO DE IMPRENSA E RADIODIFUSAO                                 0,00   \n",
       "DIVISAO DE NUTRICAO E ALIMENTACAO                                  0,00   \n",
       "DIVISAO DE ORCAMENTO                                               0,00   \n",
       "\n",
       "funcao                              FUNCAO GRATIFICADA - IFES  n_funcoes  \\\n",
       "uorg_exercicio                                                             \n",
       "DIVISAO DE BENS IMOVEIS                                  2,00       2,00   \n",
       "DIVISAO DE REDES DE COMPUTADORES                         5,00       5,00   \n",
       "DIVISAO DE IMPRENSA E RADIODIFUSAO                       1,00       1,00   \n",
       "DIVISAO DE NUTRICAO E ALIMENTACAO                        1,00       1,00   \n",
       "DIVISAO DE ORCAMENTO                                     1,00       1,00   \n",
       "\n",
       "funcao                              n_servidores  proporcao  \n",
       "uorg_exercicio                                               \n",
       "DIVISAO DE BENS IMOVEIS                     4,00       0,50  \n",
       "DIVISAO DE REDES DE COMPUTADORES           14,00       0,36  \n",
       "DIVISAO DE IMPRENSA E RADIODIFUSAO          3,00       0,33  \n",
       "DIVISAO DE NUTRICAO E ALIMENTACAO           3,00       0,33  \n",
       "DIVISAO DE ORCAMENTO                        3,00       0,33  "
      ]
     },
     "execution_count": 26,
     "metadata": {},
     "output_type": "execute_result"
    }
   ],
   "source": [
    "def calcula_concentracao_funcao(grupo):\n",
    "    \n",
    "    funcoes = grupo.groupby('funcao').size()\n",
    "    funcoes['n_funcoes'] = funcoes.sum()\n",
    "    funcoes['n_servidores'] = len(grupo.nome.unique())\n",
    "    funcoes['proporcao'] = funcoes.n_funcoes/funcoes.n_servidores\n",
    "    \n",
    "    return funcoes\n",
    "\n",
    "conf = ufc.groupby('uorg_exercicio').apply(calcula_concentracao_funcao).unstack().fillna(0)\n",
    "\n",
    "conf[(conf.index.str.startswith(\"DIVISAO\")) & (conf.n_servidores > 2)].sort_values(\"proporcao\", ascending=False).head()"
   ]
  },
  {
   "cell_type": "code",
   "execution_count": 27,
   "metadata": {
    "collapsed": false,
    "deletable": true,
    "editable": true,
    "extensions": {
     "jupyter_dashboards": {
      "version": 1,
      "views": {
       "grid_default": {
        "col": 7,
        "height": 10,
        "hidden": false,
        "row": 176,
        "width": 4
       },
       "report_default": {
        "hidden": false
       }
      }
     }
    }
   },
   "outputs": [
    {
     "data": {
      "text/plain": [
       "<matplotlib.axes._subplots.AxesSubplot at 0x2c3e964d198>"
      ]
     },
     "execution_count": 27,
     "metadata": {},
     "output_type": "execute_result"
    },
    {
     "data": {
      "image/png": "[encoded data removed]",
      "text/plain": [
       "<matplotlib.figure.Figure at 0x2c3eb1becf8>"
      ]
     },
     "metadata": {},
     "output_type": "display_data"
    }
   ],
   "source": [
    "conf.n_funcoes.plot(kind='hist', bins=20)"
   ]
  },
  {
   "cell_type": "code",
   "execution_count": 28,
   "metadata": {
    "collapsed": true,
    "deletable": true,
    "editable": true,
    "extensions": {
     "jupyter_dashboards": {
      "version": 1,
      "views": {
       "grid_default": {
        "hidden": true
       },
       "report_default": {
        "hidden": true
       }
      }
     }
    }
   },
   "outputs": [],
   "source": [
    "# mantenho apenas um vínculo por servidor\n",
    "ufc = ufc.drop_duplicates(\"nome\")"
   ]
  },
  {
   "cell_type": "code",
   "execution_count": 29,
   "metadata": {
    "collapsed": false,
    "deletable": true,
    "editable": true,
    "extensions": {
     "jupyter_dashboards": {
      "version": 1,
      "views": {
       "grid_default": {
        "col": 0,
        "height": 17,
        "hidden": false,
        "row": 208,
        "width": 4
       },
       "report_default": {
        "hidden": false
       }
      }
     }
    }
   },
   "outputs": [
    {
     "data": {
      "text/html": [
       "<div>\n",
       "<table border=\"1\" class=\"dataframe\">\n",
       "  <thead>\n",
       "    <tr style=\"text-align: right;\">\n",
       "      <th></th>\n",
       "      <th>remuneracao_basica_bruta</th>\n",
       "      <th>nome</th>\n",
       "    </tr>\n",
       "  </thead>\n",
       "  <tbody>\n",
       "    <tr>\n",
       "      <th>1.960</th>\n",
       "      <td>44.341,22</td>\n",
       "      <td>LUIZ BOTELHO ALBUQUERQUE 1317416</td>\n",
       "    </tr>\n",
       "    <tr>\n",
       "      <th>6.401</th>\n",
       "      <td>43.824,33</td>\n",
       "      <td>SEBASTIAO CARNEIRO DE ALMEIDA 2010301</td>\n",
       "    </tr>\n",
       "    <tr>\n",
       "      <th>2.018</th>\n",
       "      <td>43.535,89</td>\n",
       "      <td>HENRY DE HOLANDA CAMPOS 1325177</td>\n",
       "    </tr>\n",
       "    <tr>\n",
       "      <th>4.663</th>\n",
       "      <td>42.643,56</td>\n",
       "      <td>CARLOS AUGUSTO ALENCAR JUNIOR 1741074</td>\n",
       "    </tr>\n",
       "    <tr>\n",
       "      <th>1.911</th>\n",
       "      <td>40.946,95</td>\n",
       "      <td>BOANERGES FREIRE DE AQUINO 1309902</td>\n",
       "    </tr>\n",
       "  </tbody>\n",
       "</table>\n",
       "</div>"
      ],
      "text/plain": [
       "       remuneracao_basica_bruta                                   nome\n",
       "1.960                 44.341,22       LUIZ BOTELHO ALBUQUERQUE 1317416\n",
       "6.401                 43.824,33  SEBASTIAO CARNEIRO DE ALMEIDA 2010301\n",
       "2.018                 43.535,89        HENRY DE HOLANDA CAMPOS 1325177\n",
       "4.663                 42.643,56  CARLOS AUGUSTO ALENCAR JUNIOR 1741074\n",
       "1.911                 40.946,95     BOANERGES FREIRE DE AQUINO 1309902"
      ]
     },
     "execution_count": 29,
     "metadata": {},
     "output_type": "execute_result"
    }
   ],
   "source": [
    "ufc.nlargest(5, \"remuneracao_basica_bruta\", keep=\"first\")[['remuneracao_basica_bruta', 'nome']]"
   ]
  },
  {
   "cell_type": "code",
   "execution_count": 30,
   "metadata": {
    "collapsed": false,
    "deletable": true,
    "editable": true,
    "extensions": {
     "jupyter_dashboards": {
      "version": 1,
      "views": {
       "grid_default": {
        "col": 4,
        "height": 6,
        "hidden": false,
        "row": 208,
        "width": 4
       },
       "report_default": {
        "hidden": false
       }
      }
     }
    }
   },
   "outputs": [
    {
     "data": {
      "text/plain": [
       "count   519,00\n",
       "mean     11,90\n",
       "std      40,22\n",
       "min       1,00\n",
       "25%       1,00\n",
       "50%       3,00\n",
       "75%       9,00\n",
       "max     735,00\n",
       "Name: uorg_lotacao, dtype: float64"
      ]
     },
     "execution_count": 30,
     "metadata": {},
     "output_type": "execute_result"
    }
   ],
   "source": [
    "ufc.uorg_lotacao.value_counts().describe()"
   ]
  },
  {
   "cell_type": "code",
   "execution_count": 31,
   "metadata": {
    "collapsed": false,
    "deletable": true,
    "editable": true,
    "extensions": {
     "jupyter_dashboards": {
      "version": 1,
      "views": {
       "grid_default": {
        "col": 8,
        "height": 4,
        "hidden": false,
        "row": 208,
        "width": 4
       },
       "report_default": {
        "hidden": false
       }
      }
     }
    }
   },
   "outputs": [
    {
     "data": {
      "text/plain": [
       "(158,)"
      ]
     },
     "execution_count": 31,
     "metadata": {},
     "output_type": "execute_result"
    }
   ],
   "source": [
    "ufc.uorg_lotacao.value_counts().loc[lambda x: x < 2].shape"
   ]
  },
  {
   "cell_type": "code",
   "execution_count": 32,
   "metadata": {
    "collapsed": false,
    "deletable": true,
    "editable": true,
    "extensions": {
     "jupyter_dashboards": {
      "version": 1,
      "views": {
       "grid_default": {
        "col": 8,
        "height": 8,
        "hidden": false,
        "row": 212,
        "width": 4
       },
       "report_default": {
        "hidden": false
       }
      }
     }
    }
   },
   "outputs": [
    {
     "data": {
      "text/plain": [
       "<matplotlib.axes._subplots.AxesSubplot at 0x2c3ebf59ac8>"
      ]
     },
     "execution_count": 32,
     "metadata": {},
     "output_type": "execute_result"
    },
    {
     "data": {
      "image/png": "[encoded data removed]",
      "text/plain": [
       "<matplotlib.figure.Figure at 0x2c3ebfbb0b8>"
      ]
     },
     "metadata": {},
     "output_type": "display_data"
    }
   ],
   "source": [
    "ufc.uorg_lotacao.value_counts().nlargest(5).plot(kind='barh', figsize=(10, 6))"
   ]
  },
  {
   "cell_type": "code",
   "execution_count": 33,
   "metadata": {
    "collapsed": false,
    "deletable": true,
    "editable": true,
    "extensions": {
     "jupyter_dashboards": {
      "version": 1,
      "views": {
       "grid_default": {
        "col": 4,
        "height": 8,
        "hidden": false,
        "row": 214,
        "width": 4
       },
       "report_default": {
        "hidden": false
       }
      }
     }
    }
   },
   "outputs": [
    {
     "data": {
      "text/plain": [
       "<matplotlib.axes._subplots.AxesSubplot at 0x2c3ebff5668>"
      ]
     },
     "execution_count": 33,
     "metadata": {},
     "output_type": "execute_result"
    },
    {
     "data": {
      "image/png": "[encoded data removed]",
      "text/plain": [
       "<matplotlib.figure.Figure at 0x2c3ec035a58>"
      ]
     },
     "metadata": {},
     "output_type": "display_data"
    }
   ],
   "source": [
    "ufc.groupby(\"uorg_exercicio\").remuneracao_basica_bruta.mean().nlargest(5).plot(kind='barh', figsize=(10, 6))"
   ]
  },
  {
   "cell_type": "code",
   "execution_count": 34,
   "metadata": {
    "collapsed": false,
    "deletable": true,
    "editable": true,
    "extensions": {
     "jupyter_dashboards": {
      "version": 1,
      "views": {
       "grid_default": {
        "col": 8,
        "height": 8,
        "hidden": false,
        "row": 220,
        "width": 4
       },
       "report_default": {
        "hidden": false
       }
      }
     }
    }
   },
   "outputs": [
    {
     "data": {
      "text/plain": [
       "<matplotlib.axes._subplots.AxesSubplot at 0x2c3ebf20a20>"
      ]
     },
     "execution_count": 34,
     "metadata": {},
     "output_type": "execute_result"
    },
    {
     "data": {
      "image/png": "[encoded data removed]",
      "text/plain": [
       "<matplotlib.figure.Figure at 0x2c3ebf1b518>"
      ]
     },
     "metadata": {},
     "output_type": "display_data"
    }
   ],
   "source": [
    "ufc.groupby(\"uorg_exercicio\").remuneracao_basica_bruta.apply(lambda g: g.max() - g.min()).nlargest(5).plot(kind='barh', figsize=(10, 6))"
   ]
  },
  {
   "cell_type": "code",
   "execution_count": 35,
   "metadata": {
    "collapsed": false,
    "deletable": true,
    "editable": true,
    "extensions": {
     "jupyter_dashboards": {
      "version": 1,
      "views": {
       "grid_default": {
        "col": 0,
        "height": 9,
        "hidden": false,
        "row": 228,
        "width": 11
       },
       "report_default": {
        "hidden": false
       }
      }
     }
    }
   },
   "outputs": [
    {
     "data": {
      "text/html": [
       "<div>\n",
       "<table border=\"1\" class=\"dataframe\">\n",
       "  <thead>\n",
       "    <tr style=\"text-align: right;\">\n",
       "      <th></th>\n",
       "      <th>cargo</th>\n",
       "      <th>funcao</th>\n",
       "      <th>uorg_lotacao</th>\n",
       "      <th>uorg_exercicio</th>\n",
       "      <th>jornada</th>\n",
       "      <th>remuneracao_basica_bruta</th>\n",
       "      <th>remuneracao_pos_deducao</th>\n",
       "      <th>nome</th>\n",
       "    </tr>\n",
       "  </thead>\n",
       "  <tbody>\n",
       "    <tr>\n",
       "      <th>6.401</th>\n",
       "      <td>PROFESSOR DO MAGISTERIO SUPERIOR</td>\n",
       "      <td>NaN</td>\n",
       "      <td>NaN</td>\n",
       "      <td>GABINETE DO REITOR</td>\n",
       "      <td>DEDICACAO EXCLUSIVA</td>\n",
       "      <td>43.824,33</td>\n",
       "      <td>30.163,89</td>\n",
       "      <td>SEBASTIAO CARNEIRO DE ALMEIDA 2010301</td>\n",
       "    </tr>\n",
       "    <tr>\n",
       "      <th>7.299</th>\n",
       "      <td>LOCUTOR</td>\n",
       "      <td>NaN</td>\n",
       "      <td>GABINETE DO REITOR</td>\n",
       "      <td>GABINETE DO REITOR</td>\n",
       "      <td>40 HORAS SEMANAIS</td>\n",
       "      <td>1.945,07</td>\n",
       "      <td>2.010,33</td>\n",
       "      <td>PEDRO VITOR GADELHA MENDES 2242956</td>\n",
       "    </tr>\n",
       "  </tbody>\n",
       "</table>\n",
       "</div>"
      ],
      "text/plain": [
       "                                  cargo funcao        uorg_lotacao  \\\n",
       "6.401  PROFESSOR DO MAGISTERIO SUPERIOR    NaN                 NaN   \n",
       "7.299                           LOCUTOR    NaN  GABINETE DO REITOR   \n",
       "\n",
       "           uorg_exercicio              jornada  remuneracao_basica_bruta  \\\n",
       "6.401  GABINETE DO REITOR  DEDICACAO EXCLUSIVA                 43.824,33   \n",
       "7.299  GABINETE DO REITOR    40 HORAS SEMANAIS                  1.945,07   \n",
       "\n",
       "       remuneracao_pos_deducao                                   nome  \n",
       "6.401                30.163,89  SEBASTIAO CARNEIRO DE ALMEIDA 2010301  \n",
       "7.299                 2.010,33     PEDRO VITOR GADELHA MENDES 2242956  "
      ]
     },
     "execution_count": 35,
     "metadata": {},
     "output_type": "execute_result"
    }
   ],
   "source": [
    "ufc[ufc.uorg_exercicio == 'GABINETE DO REITOR']\\\n",
    ".loc[lambda x: [x.remuneracao_basica_bruta.argmax(), x.remuneracao_basica_bruta.argmin()]]"
   ]
  },
  {
   "cell_type": "code",
   "execution_count": 48,
   "metadata": {
    "collapsed": true,
    "deletable": true,
    "editable": true,
    "extensions": {
     "jupyter_dashboards": {
      "version": 1,
      "views": {
       "grid_default": {
        "hidden": true
       },
       "report_default": {
        "hidden": true
       }
      }
     }
    }
   },
   "outputs": [],
   "source": [
    "ufc['nome_sem_id'] = ufc.nome.str.rsplit(' ', n=1).apply(lambda x: x[0])"
   ]
  },
  {
   "cell_type": "code",
   "execution_count": 50,
   "metadata": {
    "collapsed": true,
    "deletable": true,
    "editable": true,
    "extensions": {
     "jupyter_dashboards": {
      "version": 1,
      "views": {
       "grid_default": {
        "hidden": true
       },
       "report_default": {
        "hidden": true
       }
      }
     }
    }
   },
   "outputs": [],
   "source": [
    "df = pd.merge(ufc, fcpc, left_on = \"nome_sem_id\", right_on = \"nome\", how = \"outer\", indicator = True)"
   ]
  },
  {
   "cell_type": "code",
   "execution_count": 51,
   "metadata": {
    "collapsed": false,
    "deletable": true,
    "editable": true,
    "extensions": {
     "jupyter_dashboards": {
      "version": 1,
      "views": {
       "grid_default": {
        "col": 4,
        "height": 4,
        "hidden": false,
        "row": 222,
        "width": 4
       },
       "report_default": {
        "hidden": false
       }
      }
     }
    }
   },
   "outputs": [
    {
     "data": {
      "text/plain": [
       "right_only   112.109\n",
       "both          14.572\n",
       "left_only      4.914\n",
       "Name: _merge, dtype: int64"
      ]
     },
     "execution_count": 51,
     "metadata": {},
     "output_type": "execute_result"
    }
   ],
   "source": [
    "df._merge.value_counts()"
   ]
  },
  {
   "cell_type": "code",
   "execution_count": 52,
   "metadata": {
    "collapsed": true,
    "deletable": true,
    "editable": true,
    "extensions": {
     "jupyter_dashboards": {
      "version": 1,
      "views": {
       "grid_default": {
        "hidden": true
       },
       "report_default": {
        "hidden": true
       }
      }
     }
    }
   },
   "outputs": [],
   "source": [
    "fcpcufc = df[df._merge == \"both\"]"
   ]
  },
  {
   "cell_type": "code",
   "execution_count": 55,
   "metadata": {
    "collapsed": false,
    "deletable": true,
    "editable": true,
    "extensions": {
     "jupyter_dashboards": {
      "version": 1,
      "views": {
       "grid_default": {
        "col": 0,
        "height": 8,
        "hidden": false,
        "row": 237,
        "width": 4
       },
       "report_default": {
        "hidden": false
       }
      }
     }
    }
   },
   "outputs": [
    {
     "data": {
      "text/plain": [
       "nome_sem_id\n",
       "JAVAM DE CASTRO MACHADO              802.283,12\n",
       "LUIZ ROBERTO DE OLIVEIRA             665.245,29\n",
       "FRANCISCO RODRIGO PORTO CAVALCANTI   606.908,99\n",
       "ROSSANA MARIA DE CASTRO ANDRADE      594.043,50\n",
       "HELANO DE SOUSA CASTRO               579.292,22\n",
       "Name: valor, dtype: float64"
      ]
     },
     "execution_count": 55,
     "metadata": {},
     "output_type": "execute_result"
    }
   ],
   "source": [
    "fcpcufc.groupby(\"nome_sem_id\").valor.sum().nlargest(5)"
   ]
  },
  {
   "cell_type": "code",
   "execution_count": 56,
   "metadata": {
    "collapsed": false,
    "deletable": true,
    "editable": true,
    "extensions": {
     "jupyter_dashboards": {
      "version": 1,
      "views": {
       "grid_default": {
        "col": 4,
        "height": 10,
        "hidden": false,
        "row": 237,
        "width": 4
       },
       "report_default": {
        "hidden": false
       }
      }
     }
    }
   },
   "outputs": [
    {
     "data": {
      "text/plain": [
       "<matplotlib.axes._subplots.AxesSubplot at 0x2c3e5f12518>"
      ]
     },
     "execution_count": 56,
     "metadata": {},
     "output_type": "execute_result"
    },
    {
     "data": {
      "image/png": "[encoded data removed]",
      "text/plain": [
       "<matplotlib.figure.Figure at 0x2c3ebcb6c50>"
      ]
     },
     "metadata": {},
     "output_type": "display_data"
    }
   ],
   "source": [
    "top_5_pagamentos = fcpc.tipo_pagamento.value_counts().nlargest(5)\n",
    "\n",
    "fcpc[fcpc.tipo_pagamento.isin(top_5_pagamentos.index)].pivot_table(\"valor\", fcpc.data.dt.year, \"tipo_pagamento\", aggfunc=\"sum\")\\\n",
    ".plot(figsize = (10, 6))"
   ]
  },
  {
   "cell_type": "code",
   "execution_count": 57,
   "metadata": {
    "collapsed": false,
    "deletable": true,
    "editable": true,
    "extensions": {
     "jupyter_dashboards": {
      "version": 1,
      "views": {
       "grid_default": {
        "col": 8,
        "height": 10,
        "hidden": false,
        "row": 237,
        "width": 4
       },
       "report_default": {
        "hidden": false
       }
      }
     }
    }
   },
   "outputs": [
    {
     "data": {
      "text/plain": [
       "<matplotlib.axes._subplots.AxesSubplot at 0x2c3ec54dc88>"
      ]
     },
     "execution_count": 57,
     "metadata": {},
     "output_type": "execute_result"
    },
    {
     "data": {
      "image/png": "[encoded data removed]",
      "text/plain": [
       "<matplotlib.figure.Figure at 0x2c3ec035c18>"
      ]
     },
     "metadata": {},
     "output_type": "display_data"
    }
   ],
   "source": [
    "top_5_pagamentos = fcpcufc.tipo_pagamento.value_counts().nlargest(5)\n",
    "\n",
    "fcpcufc[fcpcufc.tipo_pagamento.isin(top_5_pagamentos.index)].pivot_table(\"valor\", fcpcufc.data.dt.year, \"tipo_pagamento\", aggfunc=\"sum\")\\\n",
    ".plot(figsize = (10, 6))"
   ]
  }
 ],
 "metadata": {
  "anaconda-cloud": {},
  "extensions": {
   "jupyter_dashboards": {
    "activeView": "grid_default",
    "version": 1,
    "views": {
     "grid_default": {
      "cellMargin": 10,
      "defaultCellHeight": 20,
      "maxColumns": 12,
      "name": "grid",
      "type": "grid"
     },
     "report_default": {
      "name": "report",
      "type": "report"
     }
    }
   }
  },
  "kernelspec": {
   "display_name": "Python 3",
   "language": "python",
   "name": "python3"
  },
  "language_info": {
   "codemirror_mode": {
    "name": "ipython",
    "version": 3
   },
   "file_extension": ".py",
   "mimetype": "text/x-python",
   "name": "python",
   "nbconvert_exporter": "python",
   "pygments_lexer": "ipython3",
   "version": "3.6.1"
  }
 },
 "nbformat": 4,
 "nbformat_minor": 2
}
