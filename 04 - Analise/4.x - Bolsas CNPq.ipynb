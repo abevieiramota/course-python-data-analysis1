{
 "cells": [
  {
   "cell_type": "markdown",
   "metadata": {
    "deletable": true,
    "editable": true
   },
   "source": [
    "# Bolsas CNPq\n",
    "\n",
    "https://github.com/abevieiramota/dataset-bolsas-cnpq\n",
    "\n",
    "* Fazer download do repositório\n",
    "* Executar o script make_dataset.py\n",
    "\n",
    "http://estatico.cnpq.br/bi/CNPQ/DadosAbertos/Fomento/PagamentoBolsaAno/hst_pgt_bolsas_cnpq.xsd\n",
    "\n",
    "Algumas colunas não óbvias:\n",
    "\n",
    "<table>\n",
    "  <tr>\n",
    "    <th>coluna<br></th>\n",
    "    <th>significado</th>\n",
    "  </tr>\n",
    "  <tr>\n",
    "    <td>NRO-ID-CNPQ</td>\n",
    "    <td>Código de Identificação do Bolsista</td>\n",
    "  </tr>\n",
    "  <tr>\n",
    "    <td>CODIGO-DO-PROCESSO</td>\n",
    "    <td>Código do Processo da Bolsa</td>\n",
    "  </tr>\n",
    "  <tr>\n",
    "    <td>VALOR-PAGO</td>\n",
    "    <td>Valor pago no período</td>\n",
    "  </tr>\n",
    "</table>"
   ]
  },
  {
   "cell_type": "code",
   "execution_count": 1,
   "metadata": {
    "collapsed": false,
    "deletable": true,
    "editable": true
   },
   "outputs": [],
   "source": [
    "# imports\n",
    "import pandas as pd\n",
    "from matplotlib import pyplot as plt\n",
    "import seaborn as sns\n",
    "%matplotlib inline"
   ]
  },
  {
   "cell_type": "code",
   "execution_count": 2,
   "metadata": {
    "collapsed": true
   },
   "outputs": [],
   "source": [
    "# configura formatação de inteiros/floats etc.\n",
    "%run ../configura_display.py"
   ]
  },
  {
   "cell_type": "code",
   "execution_count": 3,
   "metadata": {
    "collapsed": false,
    "deletable": true,
    "editable": true
   },
   "outputs": [],
   "source": [
    "# script de load do dataset\n",
    "%run ../../dataset-bolsas-cnpq/read_dataset.py"
   ]
  },
  {
   "cell_type": "code",
   "execution_count": 4,
   "metadata": {
    "collapsed": false,
    "deletable": true,
    "editable": true
   },
   "outputs": [],
   "source": [
    "# carrega dataset\n",
    "cnpq = read_cnpq()"
   ]
  },
  {
   "cell_type": "code",
   "execution_count": 35,
   "metadata": {
    "collapsed": false,
    "deletable": true,
    "editable": true
   },
   "outputs": [
    {
     "name": "stdout",
     "output_type": "stream",
     "text": [
      "#linhas: 2140823\n",
      "#colunas: 20\n"
     ]
    }
   ],
   "source": [
    "# dimensões do dataset\n",
    "# df.shape -> (#linhas, #colunas)\n",
    "print(\"#linhas: {}\\n#colunas: {}\".format(*cnpq.shape))"
   ]
  },
  {
   "cell_type": "code",
   "execution_count": 7,
   "metadata": {
    "collapsed": false,
    "deletable": true,
    "editable": true
   },
   "outputs": [
    {
     "data": {
      "text/html": [
       "<div>\n",
       "<style>\n",
       "    .dataframe thead tr:only-child th {\n",
       "        text-align: right;\n",
       "    }\n",
       "\n",
       "    .dataframe thead th {\n",
       "        text-align: left;\n",
       "    }\n",
       "\n",
       "    .dataframe tbody tr th {\n",
       "        vertical-align: top;\n",
       "    }\n",
       "</style>\n",
       "<table border=\"1\" class=\"dataframe\">\n",
       "  <thead>\n",
       "    <tr style=\"text-align: right;\">\n",
       "      <th></th>\n",
       "      <th>647759</th>\n",
       "    </tr>\n",
       "  </thead>\n",
       "  <tbody>\n",
       "    <tr>\n",
       "      <th>ANO-PAGAMENTO</th>\n",
       "      <td>2001</td>\n",
       "    </tr>\n",
       "    <tr>\n",
       "      <th>CODIGO-DO-PROCESSO</th>\n",
       "      <td>109872/2000-2</td>\n",
       "    </tr>\n",
       "    <tr>\n",
       "      <th>NRO-ID-CNPQ</th>\n",
       "      <td>7748323097109329</td>\n",
       "    </tr>\n",
       "    <tr>\n",
       "      <th>QUANTIDADE-BOLSA-ANO</th>\n",
       "      <td>1,00</td>\n",
       "    </tr>\n",
       "    <tr>\n",
       "      <th>QUANTIDADE-MESES-PAGOS</th>\n",
       "      <td>12,00</td>\n",
       "    </tr>\n",
       "    <tr>\n",
       "      <th>SEXO</th>\n",
       "      <td>M</td>\n",
       "    </tr>\n",
       "    <tr>\n",
       "      <th>SIGLA-UF-INSTITUICAO</th>\n",
       "      <td>RS</td>\n",
       "    </tr>\n",
       "    <tr>\n",
       "      <th>VALOR-PAGO</th>\n",
       "      <td>2.898,12</td>\n",
       "    </tr>\n",
       "    <tr>\n",
       "      <th>NOME-CURSO</th>\n",
       "      <td>NÃO-ESPECIFICADO</td>\n",
       "    </tr>\n",
       "    <tr>\n",
       "      <th>NOME-DA-AREA-DO-CONHECIMENTO</th>\n",
       "      <td>Economia</td>\n",
       "    </tr>\n",
       "    <tr>\n",
       "      <th>NOME-DA-ESPECIALIDADE</th>\n",
       "      <td>Não informado</td>\n",
       "    </tr>\n",
       "    <tr>\n",
       "      <th>NOME-DA-SUB-AREA-DO-CONHECIMENTO</th>\n",
       "      <td>Não informado</td>\n",
       "    </tr>\n",
       "    <tr>\n",
       "      <th>NOME-GRANDE-AREA-DO-CONHECIMENTO</th>\n",
       "      <td>Ciências Sociais Aplicadas</td>\n",
       "    </tr>\n",
       "    <tr>\n",
       "      <th>PAIS-INSTITUICAO</th>\n",
       "      <td>Brasil</td>\n",
       "    </tr>\n",
       "    <tr>\n",
       "      <th>PAIS-NASCIMENTO</th>\n",
       "      <td>Brasil</td>\n",
       "    </tr>\n",
       "    <tr>\n",
       "      <th>TITULO-DO-PROCESSO</th>\n",
       "      <td>INTEGRACAO REGIONAL INTERACOES ENTRE POLITICA ...</td>\n",
       "    </tr>\n",
       "    <tr>\n",
       "      <th>SIGLA-INSTITUICAO</th>\n",
       "      <td>UFRGS</td>\n",
       "    </tr>\n",
       "    <tr>\n",
       "      <th>MODALIDADE-DO-PROCESSO</th>\n",
       "      <td>Iniciação Científica/PIBIC</td>\n",
       "    </tr>\n",
       "    <tr>\n",
       "      <th>NOME-COMPLETO</th>\n",
       "      <td>Carlos Eduardo Heldt Silveira</td>\n",
       "    </tr>\n",
       "    <tr>\n",
       "      <th>NATUREZA-JURIDICA</th>\n",
       "      <td>Autarquia Federal</td>\n",
       "    </tr>\n",
       "  </tbody>\n",
       "</table>\n",
       "</div>"
      ],
      "text/plain": [
       "                                                                            647.759\n",
       "ANO-PAGAMENTO                                                                  2001\n",
       "CODIGO-DO-PROCESSO                                                    109872/2000-2\n",
       "NRO-ID-CNPQ                                                        7748323097109329\n",
       "QUANTIDADE-BOLSA-ANO                                                           1,00\n",
       "QUANTIDADE-MESES-PAGOS                                                        12,00\n",
       "SEXO                                                                              M\n",
       "SIGLA-UF-INSTITUICAO                                                             RS\n",
       "VALOR-PAGO                                                                 2.898,12\n",
       "NOME-CURSO                                                         NÃO-ESPECIFICADO\n",
       "NOME-DA-AREA-DO-CONHECIMENTO                                               Economia\n",
       "NOME-DA-ESPECIALIDADE                                                 Não informado\n",
       "NOME-DA-SUB-AREA-DO-CONHECIMENTO                                      Não informado\n",
       "NOME-GRANDE-AREA-DO-CONHECIMENTO                         Ciências Sociais Aplicadas\n",
       "PAIS-INSTITUICAO                                                             Brasil\n",
       "PAIS-NASCIMENTO                                                              Brasil\n",
       "TITULO-DO-PROCESSO                INTEGRACAO REGIONAL INTERACOES ENTRE POLITICA ...\n",
       "SIGLA-INSTITUICAO                                                             UFRGS\n",
       "MODALIDADE-DO-PROCESSO                                   Iniciação Científica/PIBIC\n",
       "NOME-COMPLETO                                         Carlos Eduardo Heldt Silveira\n",
       "NATUREZA-JURIDICA                                                 Autarquia Federal"
      ]
     },
     "execution_count": 7,
     "metadata": {},
     "output_type": "execute_result"
    }
   ],
   "source": [
    "# df.sample -> row aleatória\n",
    "# df.T -> transposta\n",
    "# no exemplo, transposta para melhorar a visualização\n",
    "cnpq.sample().T"
   ]
  },
  {
   "cell_type": "code",
   "execution_count": 5,
   "metadata": {
    "collapsed": false,
    "deletable": true,
    "editable": true
   },
   "outputs": [],
   "source": [
    "map_columns = {'ANO-PAGAMENTO': 'ano',\n",
    " 'CODIGO-DO-PROCESSO': 'codigo',\n",
    " 'MODALIDADE-DO-PROCESSO': 'modalidade',\n",
    " 'NATUREZA-JURIDICA': 'natureza_juridica',\n",
    " 'NOME-COMPLETO': 'nome',\n",
    " 'NOME-CURSO': 'curso',\n",
    " 'NOME-DA-AREA-DO-CONHECIMENTO': 'area_conhecimento',\n",
    " 'NOME-DA-ESPECIALIDADE': 'especialidade',\n",
    " 'NOME-DA-SUB-AREA-DO-CONHECIMENTO': 'sub_area_conhecimento',\n",
    " 'NOME-GRANDE-AREA-DO-CONHECIMENTO': 'grande_area_conhecimento',\n",
    " 'NRO-ID-CNPQ': 'id_bolsista',\n",
    " 'PAIS-INSTITUICAO': 'pais_instituicao',\n",
    " 'PAIS-NASCIMENTO': 'pais_nascimento',\n",
    " 'QUANTIDADE-BOLSA-ANO': 'qtd_bolsa_ano',\n",
    " 'QUANTIDADE-MESES-PAGOS': 'qtd_meses_pagos',\n",
    " 'SEXO': 'sexo',\n",
    " 'SIGLA-INSTITUICAO': 'sigla_instituicao',\n",
    " 'SIGLA-UF-INSTITUICAO': 'uf_instituicao',\n",
    " 'TITULO-DO-PROCESSO': 'titulo_bolsa',\n",
    " 'VALOR-PAGO': 'valor_total'}\n",
    "\n",
    "# renomeando colunas\n",
    "# df.rename_axis(map_antigo_novo, axis=axis_onde_mudar)\n",
    "# axis = 1 -> columns\n",
    "cnpq = cnpq.rename_axis(map_columns, axis=1)"
   ]
  },
  {
   "cell_type": "code",
   "execution_count": 67,
   "metadata": {
    "collapsed": false,
    "deletable": true,
    "editable": true
   },
   "outputs": [
    {
     "data": {
      "text/html": [
       "<div>\n",
       "<style>\n",
       "    .dataframe thead tr:only-child th {\n",
       "        text-align: right;\n",
       "    }\n",
       "\n",
       "    .dataframe thead th {\n",
       "        text-align: left;\n",
       "    }\n",
       "\n",
       "    .dataframe tbody tr th {\n",
       "        vertical-align: top;\n",
       "    }\n",
       "</style>\n",
       "<table border=\"1\" class=\"dataframe\">\n",
       "  <thead>\n",
       "    <tr style=\"text-align: right;\">\n",
       "      <th></th>\n",
       "      <th>235155</th>\n",
       "      <th>235156</th>\n",
       "      <th>235157</th>\n",
       "    </tr>\n",
       "  </thead>\n",
       "  <tbody>\n",
       "    <tr>\n",
       "      <th>ano</th>\n",
       "      <td>2012</td>\n",
       "      <td>2010</td>\n",
       "      <td>2010</td>\n",
       "    </tr>\n",
       "    <tr>\n",
       "      <th>codigo</th>\n",
       "      <td>162660/2011-1</td>\n",
       "      <td>100558/2010-0</td>\n",
       "      <td>107996/2010-3</td>\n",
       "    </tr>\n",
       "    <tr>\n",
       "      <th>id_bolsista</th>\n",
       "      <td>6784566228400048</td>\n",
       "      <td>6784566228400048</td>\n",
       "      <td>6784566228400048</td>\n",
       "    </tr>\n",
       "    <tr>\n",
       "      <th>qtd_bolsa_ano</th>\n",
       "      <td>0,42</td>\n",
       "      <td>0,58</td>\n",
       "      <td>0,42</td>\n",
       "    </tr>\n",
       "    <tr>\n",
       "      <th>qtd_meses_pagos</th>\n",
       "      <td>5,00</td>\n",
       "      <td>7,00</td>\n",
       "      <td>5,00</td>\n",
       "    </tr>\n",
       "    <tr>\n",
       "      <th>sexo</th>\n",
       "      <td>M</td>\n",
       "      <td>M</td>\n",
       "      <td>M</td>\n",
       "    </tr>\n",
       "    <tr>\n",
       "      <th>uf_instituicao</th>\n",
       "      <td>CE</td>\n",
       "      <td>CE</td>\n",
       "      <td>CE</td>\n",
       "    </tr>\n",
       "    <tr>\n",
       "      <th>valor_total</th>\n",
       "      <td>1.800,00</td>\n",
       "      <td>2.400,00</td>\n",
       "      <td>1.800,00</td>\n",
       "    </tr>\n",
       "    <tr>\n",
       "      <th>curso</th>\n",
       "      <td>NÃO-ESPECIFICADO</td>\n",
       "      <td>NÃO-ESPECIFICADO</td>\n",
       "      <td>NÃO-ESPECIFICADO</td>\n",
       "    </tr>\n",
       "    <tr>\n",
       "      <th>area_conhecimento</th>\n",
       "      <td>Ciência da Computação</td>\n",
       "      <td>Ciência da Computação</td>\n",
       "      <td>Ciência da Computação</td>\n",
       "    </tr>\n",
       "    <tr>\n",
       "      <th>especialidade</th>\n",
       "      <td>Teleinformática</td>\n",
       "      <td>Não informado</td>\n",
       "      <td>Não informado</td>\n",
       "    </tr>\n",
       "    <tr>\n",
       "      <th>sub_area_conhecimento</th>\n",
       "      <td>Sistemas de Computação</td>\n",
       "      <td>Teoria da Computação</td>\n",
       "      <td>Metodologia e Técnicas da Computação</td>\n",
       "    </tr>\n",
       "    <tr>\n",
       "      <th>grande_area_conhecimento</th>\n",
       "      <td>Engenharias e Ciência da Computação</td>\n",
       "      <td>Engenharias e Ciência da Computação</td>\n",
       "      <td>Engenharias e Ciência da Computação</td>\n",
       "    </tr>\n",
       "    <tr>\n",
       "      <th>pais_instituicao</th>\n",
       "      <td>Brasil</td>\n",
       "      <td>Brasil</td>\n",
       "      <td>Brasil</td>\n",
       "    </tr>\n",
       "    <tr>\n",
       "      <th>pais_nascimento</th>\n",
       "      <td>Brasil</td>\n",
       "      <td>Brasil</td>\n",
       "      <td>Brasil</td>\n",
       "    </tr>\n",
       "    <tr>\n",
       "      <th>titulo_bolsa</th>\n",
       "      <td>Ciberinfraestruturas em Ambientes de Simulacao...</td>\n",
       "      <td>Provas e Modelos para Logicas que Extendem ou ...</td>\n",
       "      <td>Logica Classica e suas Extensoes: Modelos Prov...</td>\n",
       "    </tr>\n",
       "    <tr>\n",
       "      <th>sigla_instituicao</th>\n",
       "      <td>UFC</td>\n",
       "      <td>UFC</td>\n",
       "      <td>UFC</td>\n",
       "    </tr>\n",
       "    <tr>\n",
       "      <th>modalidade</th>\n",
       "      <td>Iniciação Científica</td>\n",
       "      <td>Iniciação Científica/PIBIC</td>\n",
       "      <td>Iniciação Científica/PIBIC</td>\n",
       "    </tr>\n",
       "    <tr>\n",
       "      <th>nome</th>\n",
       "      <td>Abelardo Vieira Mota</td>\n",
       "      <td>Abelardo Vieira Mota</td>\n",
       "      <td>Abelardo Vieira Mota</td>\n",
       "    </tr>\n",
       "    <tr>\n",
       "      <th>natureza_juridica</th>\n",
       "      <td>Autarquia Federal</td>\n",
       "      <td>Autarquia Federal</td>\n",
       "      <td>Autarquia Federal</td>\n",
       "    </tr>\n",
       "  </tbody>\n",
       "</table>\n",
       "</div>"
      ],
      "text/plain": [
       "                                                                    235.155  \\\n",
       "ano                                                                    2012   \n",
       "codigo                                                        162660/2011-1   \n",
       "id_bolsista                                                6784566228400048   \n",
       "qtd_bolsa_ano                                                          0,42   \n",
       "qtd_meses_pagos                                                        5,00   \n",
       "sexo                                                                      M   \n",
       "uf_instituicao                                                           CE   \n",
       "valor_total                                                        1.800,00   \n",
       "curso                                                      NÃO-ESPECIFICADO   \n",
       "area_conhecimento                                     Ciência da Computação   \n",
       "especialidade                                               Teleinformática   \n",
       "sub_area_conhecimento                                Sistemas de Computação   \n",
       "grande_area_conhecimento                Engenharias e Ciência da Computação   \n",
       "pais_instituicao                                                     Brasil   \n",
       "pais_nascimento                                                      Brasil   \n",
       "titulo_bolsa              Ciberinfraestruturas em Ambientes de Simulacao...   \n",
       "sigla_instituicao                                                       UFC   \n",
       "modalidade                                             Iniciação Científica   \n",
       "nome                                                   Abelardo Vieira Mota   \n",
       "natureza_juridica                                         Autarquia Federal   \n",
       "\n",
       "                                                                    235.156  \\\n",
       "ano                                                                    2010   \n",
       "codigo                                                        100558/2010-0   \n",
       "id_bolsista                                                6784566228400048   \n",
       "qtd_bolsa_ano                                                          0,58   \n",
       "qtd_meses_pagos                                                        7,00   \n",
       "sexo                                                                      M   \n",
       "uf_instituicao                                                           CE   \n",
       "valor_total                                                        2.400,00   \n",
       "curso                                                      NÃO-ESPECIFICADO   \n",
       "area_conhecimento                                     Ciência da Computação   \n",
       "especialidade                                                 Não informado   \n",
       "sub_area_conhecimento                                  Teoria da Computação   \n",
       "grande_area_conhecimento                Engenharias e Ciência da Computação   \n",
       "pais_instituicao                                                     Brasil   \n",
       "pais_nascimento                                                      Brasil   \n",
       "titulo_bolsa              Provas e Modelos para Logicas que Extendem ou ...   \n",
       "sigla_instituicao                                                       UFC   \n",
       "modalidade                                       Iniciação Científica/PIBIC   \n",
       "nome                                                   Abelardo Vieira Mota   \n",
       "natureza_juridica                                         Autarquia Federal   \n",
       "\n",
       "                                                                    235.157  \n",
       "ano                                                                    2010  \n",
       "codigo                                                        107996/2010-3  \n",
       "id_bolsista                                                6784566228400048  \n",
       "qtd_bolsa_ano                                                          0,42  \n",
       "qtd_meses_pagos                                                        5,00  \n",
       "sexo                                                                      M  \n",
       "uf_instituicao                                                           CE  \n",
       "valor_total                                                        1.800,00  \n",
       "curso                                                      NÃO-ESPECIFICADO  \n",
       "area_conhecimento                                     Ciência da Computação  \n",
       "especialidade                                                 Não informado  \n",
       "sub_area_conhecimento                  Metodologia e Técnicas da Computação  \n",
       "grande_area_conhecimento                Engenharias e Ciência da Computação  \n",
       "pais_instituicao                                                     Brasil  \n",
       "pais_nascimento                                                      Brasil  \n",
       "titulo_bolsa              Logica Classica e suas Extensoes: Modelos Prov...  \n",
       "sigla_instituicao                                                       UFC  \n",
       "modalidade                                       Iniciação Científica/PIBIC  \n",
       "nome                                                   Abelardo Vieira Mota  \n",
       "natureza_juridica                                         Autarquia Federal  "
      ]
     },
     "execution_count": 67,
     "metadata": {},
     "output_type": "execute_result"
    }
   ],
   "source": [
    "cnpq[cnpq.nome == \"Abelardo Vieira Mota\"].T"
   ]
  },
  {
   "cell_type": "markdown",
   "metadata": {
    "deletable": true,
    "editable": true
   },
   "source": [
    "# Entendendo as colunas"
   ]
  },
  {
   "cell_type": "markdown",
   "metadata": {
    "deletable": true,
    "editable": true
   },
   "source": [
    "## coluna: ano"
   ]
  },
  {
   "cell_type": "code",
   "execution_count": 40,
   "metadata": {
    "collapsed": false
   },
   "outputs": [
    {
     "data": {
      "text/plain": [
       "pandas.core.series.Series"
      ]
     },
     "execution_count": 40,
     "metadata": {},
     "output_type": "execute_result"
    }
   ],
   "source": [
    "# uma coluna é uma Series\n",
    "# tudo o que vimos sobre Series se aplica!\n",
    "type(cnpq.ano)"
   ]
  },
  {
   "cell_type": "code",
   "execution_count": 43,
   "metadata": {
    "collapsed": false
   },
   "outputs": [
    {
     "data": {
      "text/plain": [
       "10        2010\n",
       "10.000    2013\n",
       "Name: ano, dtype: category\n",
       "Categories (17, object): [2001, 2002, 2003, 2004, ..., 2014, 2015, 2016, 2017]"
      ]
     },
     "execution_count": 43,
     "metadata": {},
     "output_type": "execute_result"
    }
   ],
   "source": [
    "# podendo ser acessada pelos seu index\n",
    "# o index de uma coluna em um dataframe é o index do dataframe\n",
    "# no exemplo, o índice foi gerado automaticamente, com valores [0, N-1]\n",
    "cnpq.ano[[10, 10000]]"
   ]
  },
  {
   "cell_type": "code",
   "execution_count": 45,
   "metadata": {
    "collapsed": false
   },
   "outputs": [
    {
     "data": {
      "text/plain": [
       "1    2013\n",
       "2    2017\n",
       "3    2016\n",
       "4    2007\n",
       "Name: ano, dtype: category\n",
       "Categories (17, object): [2001, 2002, 2003, 2004, ..., 2014, 2015, 2016, 2017]"
      ]
     },
     "execution_count": 45,
     "metadata": {},
     "output_type": "execute_result"
    }
   ],
   "source": [
    "cnpq.ano.iloc[1:5]"
   ]
  },
  {
   "cell_type": "code",
   "execution_count": 48,
   "metadata": {
    "collapsed": false
   },
   "outputs": [
    {
     "data": {
      "text/plain": [
       "1.925.976   20.140\n",
       "1.631.588   20.160\n",
       "1.631.187   20.030\n",
       "1.121.039   20.150\n",
       "1.369.835   20.010\n",
       "28.678      20.130\n",
       "990.636     20.160\n",
       "1.563.731   20.130\n",
       "861.813     20.020\n",
       "1.173.773   20.140\n",
       "Name: ano, dtype: int64"
      ]
     },
     "execution_count": 48,
     "metadata": {},
     "output_type": "execute_result"
    }
   ],
   "source": [
    "# necessária a conversão para int pois o campo ano é categórico\n",
    "(cnpq.ano.astype(\"int\") * 10).sample(10)"
   ]
  },
  {
   "cell_type": "code",
   "execution_count": 49,
   "metadata": {
    "collapsed": false,
    "deletable": true,
    "editable": true
   },
   "outputs": [
    {
     "data": {
      "text/plain": [
       "count     2140823\n",
       "unique         17\n",
       "top          2015\n",
       "freq       195966\n",
       "Name: ano, dtype: object"
      ]
     },
     "execution_count": 49,
     "metadata": {},
     "output_type": "execute_result"
    }
   ],
   "source": [
    "# describe categórico\n",
    "cnpq.ano.describe()"
   ]
  },
  {
   "cell_type": "code",
   "execution_count": 50,
   "metadata": {
    "collapsed": false,
    "deletable": true,
    "editable": true
   },
   "outputs": [
    {
     "data": {
      "text/plain": [
       "[2013, 2017, 2016, 2007, 2008, ..., 2002, 2014, 2015, 2012, 2005]\n",
       "Length: 17\n",
       "Categories (17, object): [2013, 2017, 2016, 2007, ..., 2014, 2015, 2012, 2005]"
      ]
     },
     "execution_count": 50,
     "metadata": {},
     "output_type": "execute_result"
    }
   ],
   "source": [
    "# retorna os valores únicos\n",
    "cnpq.ano.unique()"
   ]
  },
  {
   "cell_type": "code",
   "execution_count": 58,
   "metadata": {
    "collapsed": false,
    "deletable": true,
    "editable": true
   },
   "outputs": [
    {
     "data": {
      "text/plain": [
       "False"
      ]
     },
     "execution_count": 58,
     "metadata": {},
     "output_type": "execute_result"
    }
   ],
   "source": [
    "# retorna True/False de acordo com se o valor é null\n",
    "# depois pergunta se existe algum valor True\n",
    "cnpq.ano.isnull()\\\n",
    ".any()"
   ]
  },
  {
   "cell_type": "code",
   "execution_count": 11,
   "metadata": {
    "collapsed": false,
    "deletable": true,
    "editable": true
   },
   "outputs": [
    {
     "data": {
      "text/plain": [
       "2001     77228\n",
       "2002     75608\n",
       "2003     81328\n",
       "2004     89195\n",
       "2005     86987\n",
       "2006     92695\n",
       "2007     99704\n",
       "2008    108527\n",
       "2009    121040\n",
       "2010    147133\n",
       "2011    162546\n",
       "2012    172976\n",
       "2013    184983\n",
       "2014    193780\n",
       "2015    195966\n",
       "2016    167459\n",
       "2017     83668\n",
       "Name: ano, dtype: int64"
      ]
     },
     "execution_count": 11,
     "metadata": {},
     "output_type": "execute_result"
    }
   ],
   "source": [
    "# retorna a quantidade de registros para cada valor de ano\n",
    "# depois ordena pelo ano\n",
    "cnpq.ano.value_counts()\\\n",
    ".sort_index()"
   ]
  },
  {
   "cell_type": "markdown",
   "metadata": {
    "deletable": true,
    "editable": true
   },
   "source": [
    "## coluna: codigo"
   ]
  },
  {
   "cell_type": "code",
   "execution_count": 59,
   "metadata": {
    "collapsed": false,
    "deletable": true,
    "editable": true
   },
   "outputs": [
    {
     "data": {
      "text/plain": [
       "count           2140823\n",
       "unique           993008\n",
       "top       305122/1988-6\n",
       "freq                 15\n",
       "Name: codigo, dtype: object"
      ]
     },
     "execution_count": 59,
     "metadata": {},
     "output_type": "execute_result"
    }
   ],
   "source": [
    "cnpq.codigo.describe() # 993008 valores únicos!"
   ]
  },
  {
   "cell_type": "code",
   "execution_count": 70,
   "metadata": {
    "collapsed": false,
    "deletable": true,
    "editable": true
   },
   "outputs": [
    {
     "data": {
      "text/plain": [
       "<matplotlib.axes._subplots.AxesSubplot at 0x7f2a6408ada0>"
      ]
     },
     "execution_count": 70,
     "metadata": {},
     "output_type": "execute_result"
    },
    {
     "data": {
      "image/png": "[encoded data removed]",
      "text/plain": [
       "<matplotlib.figure.Figure at 0x7f2a74849e80>"
      ]
     },
     "metadata": {},
     "output_type": "display_data"
    }
   ],
   "source": [
    "# conta a quantidade de registros por codigo\n",
    "# plota um histograma com 10 bins(default) - igualmente espaçados\n",
    "cnpq.codigo.value_counts()\\\n",
    ".plot.hist()"
   ]
  },
  {
   "cell_type": "code",
   "execution_count": 71,
   "metadata": {
    "collapsed": false
   },
   "outputs": [
    {
     "data": {
      "text/plain": [
       "2.051.872    351151/1992-3\n",
       "1.901.024    383314/2005-4\n",
       "2.059.712    152382/2010-0\n",
       "1.807.949    180420/2000-3\n",
       "767.093      106290/2008-8\n",
       "Name: codigo, dtype: object"
      ]
     },
     "execution_count": 71,
     "metadata": {},
     "output_type": "execute_result"
    }
   ],
   "source": [
    "# olhando 5 exemplos\n",
    "cnpq.codigo.sample(5)"
   ]
  },
  {
   "cell_type": "code",
   "execution_count": 72,
   "metadata": {
    "collapsed": false,
    "deletable": true,
    "editable": true
   },
   "outputs": [
    {
     "data": {
      "text/plain": [
       "True"
      ]
     },
     "execution_count": 72,
     "metadata": {},
     "output_type": "execute_result"
    }
   ],
   "source": [
    "# todos seguem o formato xxxxxxxx/xxxx-x ?\n",
    "# series.str acessa a API de processamento de string de uma series\n",
    "# str.match testa se cada valor da series match a expressão regular informada\n",
    "# para entender a regex, acessar https://regex101.com/ e informar\n",
    "# ^\\d+\\/\\d{4}\\-\\d$\n",
    "cnpq.codigo\\\n",
    ".str\\\n",
    ".match(\"^\\d+/\\d{4}\\-\\d$\")\\\n",
    ".all()"
   ]
  },
  {
   "cell_type": "code",
   "execution_count": 6,
   "metadata": {
    "collapsed": false,
    "deletable": true,
    "editable": true
   },
   "outputs": [
    {
     "data": {
      "text/plain": [
       "[{'codigo_ano': '2013', 'codigo_n': '0', 'codigo_pt1': '100001'},\n",
       " {'codigo_ano': '2013', 'codigo_n': '1', 'codigo_pt1': '116002'},\n",
       " {'codigo_ano': '2016', 'codigo_n': '4', 'codigo_pt1': '131462'},\n",
       " {'codigo_ano': '2016', 'codigo_n': '4', 'codigo_pt1': '131462'},\n",
       " {'codigo_ano': '2007', 'codigo_n': '0', 'codigo_pt1': '118246'},\n",
       " {'codigo_ano': '2007', 'codigo_n': '0', 'codigo_pt1': '118246'},\n",
       " {'codigo_ano': '2008', 'codigo_n': '0', 'codigo_pt1': '118457'},\n",
       " {'codigo_ano': '2008', 'codigo_n': '0', 'codigo_pt1': '118457'},\n",
       " {'codigo_ano': '2006', 'codigo_n': '5', 'codigo_pt1': '104113'},\n",
       " {'codigo_ano': '2006', 'codigo_n': '5', 'codigo_pt1': '104113'}]"
      ]
     },
     "execution_count": 6,
     "metadata": {},
     "output_type": "execute_result"
    }
   ],
   "source": [
    "# seleciona 10 registros aleatórios\n",
    "# extrai todos os grupos do código\n",
    "# codigo_pt1/codigo_ano-codigo_n\n",
    "# para cada conjunto de grupos, cria um dicionário\n",
    "# converte a series resultante em lista\n",
    "codigos_ls = cnpq.codigo\\\n",
    ".str\\\n",
    ".findall(\"^(\\d+)/(\\d{4})\\-(\\d)$\")\\\n",
    ".apply(lambda x: {'codigo_pt1': x[0][0],\n",
    "                  'codigo_ano': x[0][1],\n",
    "                  'codigo_n': x[0][2]}\n",
    "      )\\\n",
    ".tolist()\n",
    "\n",
    "codigos_ls[:10]"
   ]
  },
  {
   "cell_type": "code",
   "execution_count": 7,
   "metadata": {
    "collapsed": false,
    "deletable": true,
    "editable": true
   },
   "outputs": [],
   "source": [
    "# cria dataframe a partir da estrutura extraída no passo anterior\n",
    "#    convertendo os valores para inteiro\n",
    "codigos_df = pd.DataFrame(codigos_ls, dtype='int')\n",
    "\n",
    "# concatena o dataframe inicial com o dataframe gerado\n",
    "# pd.concat recebe 2 parâmetros\n",
    "#    1 - lista de dataframes a serem concatenados\n",
    "#    2 - axis que deve ser utilizado na concatenação\n",
    "#      - se axis = 0, concatena linhas\n",
    "#      - se axis = 1, concatena colunas\n",
    "cnpq = pd.concat([cnpq, codigos_df], axis=1)"
   ]
  },
  {
   "cell_type": "code",
   "execution_count": 27,
   "metadata": {
    "collapsed": false,
    "deletable": true,
    "editable": true
   },
   "outputs": [
    {
     "data": {
      "text/plain": [
       "<matplotlib.axes._subplots.AxesSubplot at 0x7f6ba6de9ef0>"
      ]
     },
     "execution_count": 27,
     "metadata": {},
     "output_type": "execute_result"
    },
    {
     "data": {
      "image/png": "[encoded data removed]",
      "text/plain": [
       "<matplotlib.figure.Figure at 0x7f6ba7221d30>"
      ]
     },
     "metadata": {},
     "output_type": "display_data"
    }
   ],
   "source": [
    "# constrói uma figura com tamanhos 10x10 polegadas\n",
    "# (a visualização no notebook redimensiona para caber na tela)\n",
    "_ = plt.figure(figsize=(10, 10))\n",
    "# agrupa por codigo_ano e ano\n",
    "# conta quantos registros há em cada grupo\n",
    "# transforma o índice ano em colunas\n",
    "# preenche nulls com 0\n",
    "dd = cnpq\\\n",
    ".groupby([\"codigo_ano\", \"ano\"])\\\n",
    ".size()\\\n",
    ".unstack()\\\n",
    ".fillna(0)\n",
    "\n",
    "# outra forma\n",
    "dd = cnpq\\\n",
    ".pivot_table(index=\"codigo_ano\", columns=\"ano\", aggfunc=\"size\")\\\n",
    ".fillna(0)\n",
    "\n",
    "sns.heatmap(dd)"
   ]
  },
  {
   "cell_type": "code",
   "execution_count": 25,
   "metadata": {
    "collapsed": false,
    "deletable": true,
    "editable": true
   },
   "outputs": [
    {
     "data": {
      "text/plain": [
       "<matplotlib.axes._subplots.AxesSubplot at 0x7f6ba5c60208>"
      ]
     },
     "execution_count": 25,
     "metadata": {},
     "output_type": "execute_result"
    },
    {
     "data": {
      "image/png": "[encoded data removed]",
      "text/plain": [
       "<matplotlib.figure.Figure at 0x7f6ba572ff60>"
      ]
     },
     "metadata": {},
     "output_type": "display_data"
    }
   ],
   "source": [
    "# como a escala é muito grande, aplicar um logaritmo para poder visualizar melhor os valores extremos\n",
    "_ = plt.figure(figsize=(10, 10))\n",
    "# quantidade por grupo\n",
    "qpg = cnpq.groupby([\"codigo_ano\", \"ano\"]).size()\n",
    "# aplica log10 e constrói o dataframe\n",
    "dd = np.log10(qpg)\\\n",
    ".unstack()\\\n",
    ".fillna(0)\n",
    "\n",
    "sns.heatmap(dd)"
   ]
  },
  {
   "cell_type": "markdown",
   "metadata": {},
   "source": [
    "# Exercício 1"
   ]
  },
  {
   "cell_type": "markdown",
   "metadata": {},
   "source": [
    "<hr />"
   ]
  },
  {
   "cell_type": "markdown",
   "metadata": {
    "deletable": true,
    "editable": true
   },
   "source": [
    "## coluna: id_bolsista"
   ]
  },
  {
   "cell_type": "code",
   "execution_count": 28,
   "metadata": {
    "collapsed": false,
    "deletable": true,
    "editable": true
   },
   "outputs": [
    {
     "data": {
      "text/plain": [
       "count              2140823\n",
       "unique              652044\n",
       "top       6115379961132154\n",
       "freq                    28\n",
       "Name: id_bolsista, dtype: object"
      ]
     },
     "execution_count": 28,
     "metadata": {},
     "output_type": "execute_result"
    }
   ],
   "source": [
    "cnpq.id_bolsista.describe()"
   ]
  },
  {
   "cell_type": "code",
   "execution_count": 30,
   "metadata": {
    "collapsed": false
   },
   "outputs": [
    {
     "data": {
      "text/plain": [
       "6115379961132154   28\n",
       "0229235513357607   28\n",
       "6098050406729323   27\n",
       "3755976581745095   27\n",
       "2558900431930326   27\n",
       "Name: id_bolsista, dtype: int64"
      ]
     },
     "execution_count": 30,
     "metadata": {},
     "output_type": "execute_result"
    }
   ],
   "source": [
    "# nlargest e nsmallest para encontrar top e bottom\n",
    "# pode ser utilizando em dataframe também\n",
    "# df.nlargest(10, \"Valor\")\n",
    "#    retorna os registros cuja coluna \"Valor\" está no top 10\n",
    "#    observar que não são os top 10 registros\n",
    "cnpq.id_bolsista.value_counts().nlargest(5)"
   ]
  },
  {
   "cell_type": "markdown",
   "metadata": {
    "deletable": true,
    "editable": true
   },
   "source": [
    "## coluna: qtd_bolsa_ano"
   ]
  },
  {
   "cell_type": "code",
   "execution_count": 33,
   "metadata": {
    "collapsed": false,
    "deletable": true,
    "editable": true
   },
   "outputs": [
    {
     "data": {
      "text/plain": [
       "count   2.140.823,00\n",
       "mean            0,56\n",
       "std             0,31\n",
       "min             0,01\n",
       "25%             0,33\n",
       "50%             0,58\n",
       "75%             0,83\n",
       "max            28,85\n",
       "Name: qtd_bolsa_ano, dtype: float64"
      ]
     },
     "execution_count": 33,
     "metadata": {},
     "output_type": "execute_result"
    }
   ],
   "source": [
    "cnpq.qtd_bolsa_ano.describe() # parece ser #qtd_bolsas/#qtd_meses\n",
    "# <xsd:element name=\"QUANTIDADE-BOLSA-ANO\" type=\"xsd:decimal\">\n",
    "#    <xsd:annotation><xsd:documentation>Quantidade de bolsa no ano</xsd:documentation>"
   ]
  },
  {
   "cell_type": "code",
   "execution_count": 40,
   "metadata": {
    "collapsed": false,
    "deletable": true,
    "editable": true
   },
   "outputs": [
    {
     "data": {
      "text/plain": [
       "<matplotlib.axes._subplots.AxesSubplot at 0x7f6baefc2eb8>"
      ]
     },
     "execution_count": 40,
     "metadata": {},
     "output_type": "execute_result"
    },
    {
     "data": {
      "image/png": "[encoded data removed]",
      "text/plain": [
       "<matplotlib.figure.Figure at 0x7f6ba5a0fa20>"
      ]
     },
     "metadata": {},
     "output_type": "display_data"
    }
   ],
   "source": [
    "# logy aplica log10 à dimensão y, diminuindo a distância entre os valores\n",
    "#    ex: o valor 10 e o valor 100 estão igualmente espaçados no gráfico\n",
    "#        assim como os valores 100 e 1000\n",
    "# bins=20 indica que devem ser utilizados 20 bins\n",
    "# sem log, o gráfico parece informar que todos os dados se concentram em [0, ~1]\n",
    "cnpq.qtd_bolsa_ano\\\n",
    ".plot.hist(bins=20, logy=True)"
   ]
  },
  {
   "cell_type": "code",
   "execution_count": 157,
   "metadata": {
    "collapsed": false,
    "deletable": true,
    "editable": true
   },
   "outputs": [
    {
     "data": {
      "text/html": [
       "<div>\n",
       "<style>\n",
       "    .dataframe thead tr:only-child th {\n",
       "        text-align: right;\n",
       "    }\n",
       "\n",
       "    .dataframe thead th {\n",
       "        text-align: left;\n",
       "    }\n",
       "\n",
       "    .dataframe tbody tr th {\n",
       "        vertical-align: top;\n",
       "    }\n",
       "</style>\n",
       "<table border=\"1\" class=\"dataframe\">\n",
       "  <thead>\n",
       "    <tr style=\"text-align: right;\">\n",
       "      <th></th>\n",
       "      <th>ano</th>\n",
       "      <th>codigo</th>\n",
       "      <th>id_bolsista</th>\n",
       "      <th>qtd_bolsa_ano</th>\n",
       "      <th>qtd_meses_pagos</th>\n",
       "      <th>sexo</th>\n",
       "      <th>uf_instituicao</th>\n",
       "      <th>valor_total</th>\n",
       "      <th>curso</th>\n",
       "      <th>area_conhecimento</th>\n",
       "      <th>...</th>\n",
       "      <th>pais_instituicao</th>\n",
       "      <th>pais_nascimento</th>\n",
       "      <th>titulo_bolsa</th>\n",
       "      <th>sigla_instituicao</th>\n",
       "      <th>modalidade</th>\n",
       "      <th>nome</th>\n",
       "      <th>natureza_juridica</th>\n",
       "      <th>codigo_pt1</th>\n",
       "      <th>codigo_pt2</th>\n",
       "      <th>codigo_pt3</th>\n",
       "    </tr>\n",
       "  </thead>\n",
       "  <tbody>\n",
       "    <tr>\n",
       "      <th>1806773</th>\n",
       "      <td>2002</td>\n",
       "      <td>381706/2002-8</td>\n",
       "      <td>9425524439998656</td>\n",
       "      <td>28.85</td>\n",
       "      <td>346.15</td>\n",
       "      <td>M</td>\n",
       "      <td>DF</td>\n",
       "      <td>18000.0</td>\n",
       "      <td>NÃO-ESPECIFICADO</td>\n",
       "      <td>Não se aplica</td>\n",
       "      <td>...</td>\n",
       "      <td>Brasil</td>\n",
       "      <td>Brasil</td>\n",
       "      <td>PROGRAMA DE INTERIORIZACAO DO TRABALHO EM SAUDE.</td>\n",
       "      <td>MS</td>\n",
       "      <td>Interiorização do Trabalho em Saúde</td>\n",
       "      <td>Marcio Ferreira da Silva</td>\n",
       "      <td>Órgão Público do Poder Executivo Federal</td>\n",
       "      <td>381706</td>\n",
       "      <td>2002</td>\n",
       "      <td>8</td>\n",
       "    </tr>\n",
       "    <tr>\n",
       "      <th>1885459</th>\n",
       "      <td>2002</td>\n",
       "      <td>380575/2001-9</td>\n",
       "      <td>5135511970975644</td>\n",
       "      <td>28.85</td>\n",
       "      <td>346.15</td>\n",
       "      <td>F</td>\n",
       "      <td>DF</td>\n",
       "      <td>18000.0</td>\n",
       "      <td>NÃO-ESPECIFICADO</td>\n",
       "      <td>Não se aplica</td>\n",
       "      <td>...</td>\n",
       "      <td>Brasil</td>\n",
       "      <td>Brasil</td>\n",
       "      <td>NÃO-ESPECIFICADO</td>\n",
       "      <td>MS</td>\n",
       "      <td>Interiorização do Trabalho em Saúde</td>\n",
       "      <td>Sirliane de Souza Paiva</td>\n",
       "      <td>Órgão Público do Poder Executivo Federal</td>\n",
       "      <td>380575</td>\n",
       "      <td>2001</td>\n",
       "      <td>9</td>\n",
       "    </tr>\n",
       "    <tr>\n",
       "      <th>1888445</th>\n",
       "      <td>2002</td>\n",
       "      <td>381705/2002-1</td>\n",
       "      <td>5080626355590266</td>\n",
       "      <td>28.85</td>\n",
       "      <td>346.15</td>\n",
       "      <td>F</td>\n",
       "      <td>DF</td>\n",
       "      <td>18000.0</td>\n",
       "      <td>NÃO-ESPECIFICADO</td>\n",
       "      <td>Não se aplica</td>\n",
       "      <td>...</td>\n",
       "      <td>Brasil</td>\n",
       "      <td>Brasil</td>\n",
       "      <td>PROGRAMA DE INTERIORIZACAO DO TRABALHO EM SAUDE.</td>\n",
       "      <td>MS</td>\n",
       "      <td>Interiorização do Trabalho em Saúde</td>\n",
       "      <td>Marilia Luz Daddario</td>\n",
       "      <td>Órgão Público do Poder Executivo Federal</td>\n",
       "      <td>381705</td>\n",
       "      <td>2002</td>\n",
       "      <td>1</td>\n",
       "    </tr>\n",
       "  </tbody>\n",
       "</table>\n",
       "<p>3 rows × 23 columns</p>\n",
       "</div>"
      ],
      "text/plain": [
       "          ano         codigo       id_bolsista  qtd_bolsa_ano  \\\n",
       "1806773  2002  381706/2002-8  9425524439998656          28.85   \n",
       "1885459  2002  380575/2001-9  5135511970975644          28.85   \n",
       "1888445  2002  381705/2002-1  5080626355590266          28.85   \n",
       "\n",
       "         qtd_meses_pagos sexo uf_instituicao  valor_total             curso  \\\n",
       "1806773           346.15    M             DF      18000.0  NÃO-ESPECIFICADO   \n",
       "1885459           346.15    F             DF      18000.0  NÃO-ESPECIFICADO   \n",
       "1888445           346.15    F             DF      18000.0  NÃO-ESPECIFICADO   \n",
       "\n",
       "        area_conhecimento    ...     pais_instituicao pais_nascimento  \\\n",
       "1806773     Não se aplica    ...               Brasil          Brasil   \n",
       "1885459     Não se aplica    ...               Brasil          Brasil   \n",
       "1888445     Não se aplica    ...               Brasil          Brasil   \n",
       "\n",
       "                                             titulo_bolsa sigla_instituicao  \\\n",
       "1806773  PROGRAMA DE INTERIORIZACAO DO TRABALHO EM SAUDE.                MS   \n",
       "1885459                                  NÃO-ESPECIFICADO                MS   \n",
       "1888445  PROGRAMA DE INTERIORIZACAO DO TRABALHO EM SAUDE.                MS   \n",
       "\n",
       "                                  modalidade                      nome  \\\n",
       "1806773  Interiorização do Trabalho em Saúde  Marcio Ferreira da Silva   \n",
       "1885459  Interiorização do Trabalho em Saúde   Sirliane de Souza Paiva   \n",
       "1888445  Interiorização do Trabalho em Saúde      Marilia Luz Daddario   \n",
       "\n",
       "                                natureza_juridica codigo_pt1 codigo_pt2  \\\n",
       "1806773  Órgão Público do Poder Executivo Federal     381706       2002   \n",
       "1885459  Órgão Público do Poder Executivo Federal     380575       2001   \n",
       "1888445  Órgão Público do Poder Executivo Federal     381705       2002   \n",
       "\n",
       "        codigo_pt3  \n",
       "1806773          8  \n",
       "1885459          9  \n",
       "1888445          1  \n",
       "\n",
       "[3 rows x 23 columns]"
      ]
     },
     "execution_count": 157,
     "metadata": {},
     "output_type": "execute_result"
    }
   ],
   "source": [
    "cnpq.nlargest(3, \"qtd_bolsa_ano\")\n",
    "# 28.85?!"
   ]
  },
  {
   "cell_type": "code",
   "execution_count": 42,
   "metadata": {
    "collapsed": false
   },
   "outputs": [
    {
     "data": {
      "text/plain": [
       "False   1.094.627\n",
       "True    1.046.196\n",
       "Name: qtd_bolsa_ano, dtype: int64"
      ]
     },
     "execution_count": 42,
     "metadata": {},
     "output_type": "execute_result"
    }
   ],
   "source": [
    "# series que guarda, para cada registro, se o valor de qtd_bolsa_ano\n",
    "#   é menor ou igual a .5\n",
    "leleq = cnpq.qtd_bolsa_ano <= .5\n",
    "\n",
    "leleq.value_counts()"
   ]
  },
  {
   "cell_type": "markdown",
   "metadata": {},
   "source": [
    "# Exercício 2"
   ]
  },
  {
   "cell_type": "markdown",
   "metadata": {},
   "source": [
    "<hr />"
   ]
  },
  {
   "cell_type": "markdown",
   "metadata": {
    "deletable": true,
    "editable": true
   },
   "source": [
    "## coluna: qtd_meses_pagos"
   ]
  },
  {
   "cell_type": "code",
   "execution_count": 169,
   "metadata": {
    "collapsed": false,
    "deletable": true,
    "editable": true
   },
   "outputs": [
    {
     "data": {
      "text/plain": [
       "count    2.140823e+06\n",
       "mean     6.409418e+00\n",
       "std      3.669190e+00\n",
       "min      6.000000e-02\n",
       "25%      3.900000e+00\n",
       "50%      6.000000e+00\n",
       "75%      1.000000e+01\n",
       "max      3.461500e+02\n",
       "Name: qtd_meses_pagos, dtype: float64"
      ]
     },
     "execution_count": 169,
     "metadata": {},
     "output_type": "execute_result"
    }
   ],
   "source": [
    "cnpq.qtd_meses_pagos.describe() # estranho não ser inteiro..."
   ]
  },
  {
   "cell_type": "code",
   "execution_count": 161,
   "metadata": {
    "collapsed": false,
    "deletable": true,
    "editable": true
   },
   "outputs": [
    {
     "data": {
      "text/plain": [
       "<matplotlib.axes._subplots.AxesSubplot at 0x7efedd4a0f60>"
      ]
     },
     "execution_count": 161,
     "metadata": {},
     "output_type": "execute_result"
    },
    {
     "data": {
      "image/png": "[encoded data removed]",
      "text/plain": [
       "<matplotlib.figure.Figure at 0x7eff2b700f98>"
      ]
     },
     "metadata": {},
     "output_type": "display_data"
    }
   ],
   "source": [
    "cnpq.qtd_meses_pagos.plot.hist(bins=20, logy=True)"
   ]
  },
  {
   "cell_type": "code",
   "execution_count": 167,
   "metadata": {
    "collapsed": false,
    "deletable": true,
    "editable": true
   },
   "outputs": [
    {
     "data": {
      "text/plain": [
       "array([ True,  True, False, ...,  True,  True,  True], dtype=bool)"
      ]
     },
     "execution_count": 167,
     "metadata": {},
     "output_type": "execute_result"
    }
   ],
   "source": [
    "# qtd_meses_pagos = qtd_bolsa_ano * 12 ?\n",
    "\n",
    "# divergência menor ou igual a 10% do valor\n",
    "np.isclose(cnpq.qtd_meses_pagos, cnpq.qtd_bolsa_ano * 12, rtol=0.1, atol=0.)"
   ]
  },
  {
   "cell_type": "code",
   "execution_count": 168,
   "metadata": {
    "collapsed": false,
    "deletable": true,
    "editable": true
   },
   "outputs": [
    {
     "data": {
      "text/html": [
       "<div>\n",
       "<style>\n",
       "    .dataframe thead tr:only-child th {\n",
       "        text-align: right;\n",
       "    }\n",
       "\n",
       "    .dataframe thead th {\n",
       "        text-align: left;\n",
       "    }\n",
       "\n",
       "    .dataframe tbody tr th {\n",
       "        vertical-align: top;\n",
       "    }\n",
       "</style>\n",
       "<table border=\"1\" class=\"dataframe\">\n",
       "  <thead>\n",
       "    <tr style=\"text-align: right;\">\n",
       "      <th></th>\n",
       "      <th>ano</th>\n",
       "      <th>codigo</th>\n",
       "      <th>id_bolsista</th>\n",
       "      <th>qtd_bolsa_ano</th>\n",
       "      <th>qtd_meses_pagos</th>\n",
       "      <th>sexo</th>\n",
       "      <th>uf_instituicao</th>\n",
       "      <th>valor_total</th>\n",
       "      <th>curso</th>\n",
       "      <th>area_conhecimento</th>\n",
       "      <th>...</th>\n",
       "      <th>pais_instituicao</th>\n",
       "      <th>pais_nascimento</th>\n",
       "      <th>titulo_bolsa</th>\n",
       "      <th>sigla_instituicao</th>\n",
       "      <th>modalidade</th>\n",
       "      <th>nome</th>\n",
       "      <th>natureza_juridica</th>\n",
       "      <th>codigo_pt1</th>\n",
       "      <th>codigo_pt2</th>\n",
       "      <th>codigo_pt3</th>\n",
       "    </tr>\n",
       "  </thead>\n",
       "  <tbody>\n",
       "    <tr>\n",
       "      <th>0</th>\n",
       "      <td>2013</td>\n",
       "      <td>100001/2013-0</td>\n",
       "      <td>2635190685410547</td>\n",
       "      <td>0.42</td>\n",
       "      <td>5.0</td>\n",
       "      <td>M</td>\n",
       "      <td>RJ</td>\n",
       "      <td>2000.0</td>\n",
       "      <td>NÃO-ESPECIFICADO</td>\n",
       "      <td>Engenharia Mecânica</td>\n",
       "      <td>...</td>\n",
       "      <td>Brasil</td>\n",
       "      <td>Brasil</td>\n",
       "      <td>Mecanica Estocastica e Incertezas: aplicacoes ...</td>\n",
       "      <td>PUC-Rio</td>\n",
       "      <td>Iniciação Científica</td>\n",
       "      <td>William Buschle Romariz Inacio</td>\n",
       "      <td>Associação Privada</td>\n",
       "      <td>100001</td>\n",
       "      <td>2013</td>\n",
       "      <td>0</td>\n",
       "    </tr>\n",
       "    <tr>\n",
       "      <th>1</th>\n",
       "      <td>2013</td>\n",
       "      <td>116002/2013-1</td>\n",
       "      <td>7611577803635849</td>\n",
       "      <td>0.50</td>\n",
       "      <td>6.0</td>\n",
       "      <td>M</td>\n",
       "      <td>RJ</td>\n",
       "      <td>2400.0</td>\n",
       "      <td>NÃO-ESPECIFICADO</td>\n",
       "      <td>Engenharia Mecânica</td>\n",
       "      <td>...</td>\n",
       "      <td>Brasil</td>\n",
       "      <td>Brasil</td>\n",
       "      <td>Mecanica Estocastica e Incertezas: aplicacoes ...</td>\n",
       "      <td>PUC-Rio</td>\n",
       "      <td>Iniciação Científica</td>\n",
       "      <td>Gustavo Brattstroem Wagner</td>\n",
       "      <td>Associação Privada</td>\n",
       "      <td>116002</td>\n",
       "      <td>2013</td>\n",
       "      <td>1</td>\n",
       "    </tr>\n",
       "    <tr>\n",
       "      <th>2</th>\n",
       "      <td>2017</td>\n",
       "      <td>131462/2016-4</td>\n",
       "      <td>7611577803635849</td>\n",
       "      <td>1.00</td>\n",
       "      <td>2.0</td>\n",
       "      <td>M</td>\n",
       "      <td>RJ</td>\n",
       "      <td>3000.0</td>\n",
       "      <td>Engenharia Mecânica</td>\n",
       "      <td>Engenharia Mecânica</td>\n",
       "      <td>...</td>\n",
       "      <td>Brasil</td>\n",
       "      <td>Brasil</td>\n",
       "      <td>NÃO-ESPECIFICADO</td>\n",
       "      <td>PUC-Rio</td>\n",
       "      <td>Mestrado</td>\n",
       "      <td>Gustavo Brattstroem Wagner</td>\n",
       "      <td>Associação Privada</td>\n",
       "      <td>131462</td>\n",
       "      <td>2016</td>\n",
       "      <td>4</td>\n",
       "    </tr>\n",
       "  </tbody>\n",
       "</table>\n",
       "<p>3 rows × 23 columns</p>\n",
       "</div>"
      ],
      "text/plain": [
       "    ano         codigo       id_bolsista  qtd_bolsa_ano  qtd_meses_pagos sexo  \\\n",
       "0  2013  100001/2013-0  2635190685410547           0.42              5.0    M   \n",
       "1  2013  116002/2013-1  7611577803635849           0.50              6.0    M   \n",
       "2  2017  131462/2016-4  7611577803635849           1.00              2.0    M   \n",
       "\n",
       "  uf_instituicao  valor_total                curso    area_conhecimento  \\\n",
       "0             RJ       2000.0     NÃO-ESPECIFICADO  Engenharia Mecânica   \n",
       "1             RJ       2400.0     NÃO-ESPECIFICADO  Engenharia Mecânica   \n",
       "2             RJ       3000.0  Engenharia Mecânica  Engenharia Mecânica   \n",
       "\n",
       "     ...     pais_instituicao pais_nascimento  \\\n",
       "0    ...               Brasil          Brasil   \n",
       "1    ...               Brasil          Brasil   \n",
       "2    ...               Brasil          Brasil   \n",
       "\n",
       "                                        titulo_bolsa sigla_instituicao  \\\n",
       "0  Mecanica Estocastica e Incertezas: aplicacoes ...           PUC-Rio   \n",
       "1  Mecanica Estocastica e Incertezas: aplicacoes ...           PUC-Rio   \n",
       "2                                   NÃO-ESPECIFICADO           PUC-Rio   \n",
       "\n",
       "             modalidade                            nome   natureza_juridica  \\\n",
       "0  Iniciação Científica  William Buschle Romariz Inacio  Associação Privada   \n",
       "1  Iniciação Científica      Gustavo Brattstroem Wagner  Associação Privada   \n",
       "2              Mestrado      Gustavo Brattstroem Wagner  Associação Privada   \n",
       "\n",
       "  codigo_pt1 codigo_pt2 codigo_pt3  \n",
       "0     100001       2013          0  \n",
       "1     116002       2013          1  \n",
       "2     131462       2016          4  \n",
       "\n",
       "[3 rows x 23 columns]"
      ]
     },
     "execution_count": 168,
     "metadata": {},
     "output_type": "execute_result"
    }
   ],
   "source": [
    "cnpq.head(3)"
   ]
  },
  {
   "cell_type": "markdown",
   "metadata": {
    "deletable": true,
    "editable": true
   },
   "source": [
    "## coluna: sexo"
   ]
  },
  {
   "cell_type": "code",
   "execution_count": 171,
   "metadata": {
    "collapsed": false,
    "deletable": true,
    "editable": true
   },
   "outputs": [
    {
     "data": {
      "text/plain": [
       "count     2140823\n",
       "unique          3\n",
       "top             F\n",
       "freq      1076992\n",
       "Name: sexo, dtype: object"
      ]
     },
     "execution_count": 171,
     "metadata": {},
     "output_type": "execute_result"
    }
   ],
   "source": [
    "cnpq.sexo.describe()"
   ]
  },
  {
   "cell_type": "code",
   "execution_count": 172,
   "metadata": {
    "collapsed": false,
    "deletable": true,
    "editable": true
   },
   "outputs": [
    {
     "data": {
      "text/plain": [
       "F                   1076992\n",
       "M                   1060288\n",
       "NÃO-ESPECIFICADO       3543\n",
       "Name: sexo, dtype: int64"
      ]
     },
     "execution_count": 172,
     "metadata": {},
     "output_type": "execute_result"
    }
   ],
   "source": [
    "cnpq.sexo.value_counts()"
   ]
  },
  {
   "cell_type": "code",
   "execution_count": 174,
   "metadata": {
    "collapsed": false,
    "deletable": true,
    "editable": true
   },
   "outputs": [
    {
     "data": {
      "text/plain": [
       "Index(['ano', 'codigo', 'id_bolsista', 'qtd_bolsa_ano', 'qtd_meses_pagos',\n",
       "       'sexo', 'uf_instituicao', 'valor_total', 'curso', 'area_conhecimento',\n",
       "       'especialidade', 'sub_area_conhecimento', 'grande_area_conhecimento',\n",
       "       'pais_instituicao', 'pais_nascimento', 'titulo_bolsa',\n",
       "       'sigla_instituicao', 'modalidade', 'nome', 'natureza_juridica',\n",
       "       'codigo_pt1', 'codigo_pt2', 'codigo_pt3'],\n",
       "      dtype='object')"
      ]
     },
     "execution_count": 174,
     "metadata": {},
     "output_type": "execute_result"
    }
   ],
   "source": [
    "cnpq.columns"
   ]
  },
  {
   "cell_type": "markdown",
   "metadata": {
    "deletable": true,
    "editable": true
   },
   "source": [
    "## coluna: uf_instituicao"
   ]
  },
  {
   "cell_type": "code",
   "execution_count": 175,
   "metadata": {
    "collapsed": false,
    "deletable": true,
    "editable": true
   },
   "outputs": [
    {
     "data": {
      "text/plain": [
       "count     2140809\n",
       "unique         29\n",
       "top            SP\n",
       "freq       483406\n",
       "Name: uf_instituicao, dtype: object"
      ]
     },
     "execution_count": 175,
     "metadata": {},
     "output_type": "execute_result"
    }
   ],
   "source": [
    "cnpq.uf_instituicao.describe()"
   ]
  },
  {
   "cell_type": "code",
   "execution_count": 176,
   "metadata": {
    "collapsed": false,
    "deletable": true,
    "editable": true
   },
   "outputs": [
    {
     "data": {
      "text/plain": [
       "SP                  483406\n",
       "RJ                  363196\n",
       "MG                  191020\n",
       "RS                  186826\n",
       "DF                  119987\n",
       "PR                   97083\n",
       "PE                   83622\n",
       "NÃO-ESPECIFICADO     79533\n",
       "SC                   79324\n",
       "CE                   68030\n",
       "BA                   60960\n",
       "PB                   53042\n",
       "PA                   44332\n",
       "RN                   40624\n",
       "GO                   30562\n",
       "AM                   28621\n",
       "MS                   21711\n",
       "MT                   16612\n",
       "AL                   16238\n",
       "ES                   15485\n",
       "SE                   15438\n",
       "MA                   11869\n",
       "PI                   11341\n",
       "TO                    6423\n",
       "RO                    5235\n",
       "AC                    4745\n",
       "AP                    2729\n",
       "RR                    2589\n",
       "NI                     226\n",
       "Name: uf_instituicao, dtype: int64"
      ]
     },
     "execution_count": 176,
     "metadata": {},
     "output_type": "execute_result"
    }
   ],
   "source": [
    "cnpq.uf_instituicao.value_counts()"
   ]
  },
  {
   "cell_type": "code",
   "execution_count": 178,
   "metadata": {
    "collapsed": false,
    "deletable": true,
    "editable": true
   },
   "outputs": [
    {
     "data": {
      "text/plain": [
       "1110398         ULETH\n",
       "1075326         UNIFE\n",
       "1102496           SHU\n",
       "1104538          LSBU\n",
       "1071519    BORDEAUX 3\n",
       "1129355         OTAGO\n",
       "1107190      UALBERTA\n",
       "1093124        LEIDEN\n",
       "1115696        MONASH\n",
       "1134975           UPC\n",
       "Name: sigla_instituicao, dtype: object"
      ]
     },
     "execution_count": 178,
     "metadata": {},
     "output_type": "execute_result"
    }
   ],
   "source": [
    "cnpq[cnpq.uf_instituicao == \"NÃO-ESPECIFICADO\"].sample(10)[\"sigla_instituicao\"]\n",
    "# parece que são do exterior"
   ]
  },
  {
   "cell_type": "code",
   "execution_count": 179,
   "metadata": {
    "collapsed": false,
    "deletable": true,
    "editable": true
   },
   "outputs": [
    {
     "data": {
      "text/plain": [
       "1088147    Não informada\n",
       "1090445    Não informada\n",
       "1080524    Não informada\n",
       "1080949    Não informada\n",
       "1090442    Não informada\n",
       "1059983    Não informada\n",
       "1086716    Não informada\n",
       "1059851    Não informada\n",
       "1083906    Não informada\n",
       "1080326    Não informada\n",
       "Name: sigla_instituicao, dtype: object"
      ]
     },
     "execution_count": 179,
     "metadata": {},
     "output_type": "execute_result"
    }
   ],
   "source": [
    "cnpq[cnpq.uf_instituicao == \"NI\"].sample(10)[\"sigla_instituicao\"]"
   ]
  },
  {
   "cell_type": "code",
   "execution_count": 180,
   "metadata": {
    "collapsed": false,
    "deletable": true,
    "editable": true
   },
   "outputs": [
    {
     "data": {
      "text/plain": [
       "Index(['ano', 'codigo', 'id_bolsista', 'qtd_bolsa_ano', 'qtd_meses_pagos',\n",
       "       'sexo', 'uf_instituicao', 'valor_total', 'curso', 'area_conhecimento',\n",
       "       'especialidade', 'sub_area_conhecimento', 'grande_area_conhecimento',\n",
       "       'pais_instituicao', 'pais_nascimento', 'titulo_bolsa',\n",
       "       'sigla_instituicao', 'modalidade', 'nome', 'natureza_juridica',\n",
       "       'codigo_pt1', 'codigo_pt2', 'codigo_pt3'],\n",
       "      dtype='object')"
      ]
     },
     "execution_count": 180,
     "metadata": {},
     "output_type": "execute_result"
    }
   ],
   "source": [
    "cnpq.columns"
   ]
  },
  {
   "cell_type": "markdown",
   "metadata": {
    "deletable": true,
    "editable": true
   },
   "source": [
    "## coluna: valor_total"
   ]
  },
  {
   "cell_type": "code",
   "execution_count": 181,
   "metadata": {
    "collapsed": false,
    "deletable": true,
    "editable": true
   },
   "outputs": [
    {
     "data": {
      "text/plain": [
       "count    2.140823e+06\n",
       "mean     7.688285e+03\n",
       "std      1.143846e+04\n",
       "min      1.000000e-02\n",
       "25%      1.500000e+03\n",
       "50%      2.594000e+03\n",
       "75%      1.073600e+04\n",
       "max      1.523862e+06\n",
       "Name: valor_total, dtype: float64"
      ]
     },
     "execution_count": 181,
     "metadata": {},
     "output_type": "execute_result"
    }
   ],
   "source": [
    "cnpq.valor_total.describe()"
   ]
  },
  {
   "cell_type": "code",
   "execution_count": 183,
   "metadata": {
    "collapsed": false,
    "deletable": true,
    "editable": true
   },
   "outputs": [
    {
     "data": {
      "text/plain": [
       "<matplotlib.axes._subplots.AxesSubplot at 0x7efed4541390>"
      ]
     },
     "execution_count": 183,
     "metadata": {},
     "output_type": "execute_result"
    },
    {
     "data": {
      "image/png": "[encoded data removed]",
      "text/plain": [
       "<matplotlib.figure.Figure at 0x7efedd92e128>"
      ]
     },
     "metadata": {},
     "output_type": "display_data"
    }
   ],
   "source": [
    "cnpq.valor_total.plot.hist(bins=20, logy=True)"
   ]
  },
  {
   "cell_type": "markdown",
   "metadata": {
    "deletable": true,
    "editable": true
   },
   "source": [
    "## coluna: curso"
   ]
  },
  {
   "cell_type": "code",
   "execution_count": 185,
   "metadata": {
    "collapsed": false,
    "deletable": true,
    "editable": true
   },
   "outputs": [
    {
     "data": {
      "text/plain": [
       "count              2140823\n",
       "unique                 977\n",
       "top       NÃO-ESPECIFICADO\n",
       "freq               1732319\n",
       "Name: curso, dtype: object"
      ]
     },
     "execution_count": 185,
     "metadata": {},
     "output_type": "execute_result"
    }
   ],
   "source": [
    "cnpq.curso.describe()"
   ]
  },
  {
   "cell_type": "code",
   "execution_count": 186,
   "metadata": {
    "collapsed": false,
    "deletable": true,
    "editable": true
   },
   "outputs": [
    {
     "data": {
      "text/plain": [
       "NÃO-ESPECIFICADO                                      1732319\n",
       "Química                                                 17562\n",
       "Física                                                  16818\n",
       "Engenharia Elétrica                                     13694\n",
       "Engenharia Mecânica                                      9120\n",
       "Engenharia Química                                       8214\n",
       "Educação                                                 7835\n",
       "Matemática                                               7726\n",
       "Zootecnia                                                7174\n",
       "História                                                 7166\n",
       "Engenharia Civil                                         6737\n",
       "Sociologia                                               4431\n",
       "Administração                                            3794\n",
       "Economia                                                 3739\n",
       "Engenharia Agrícola                                      3570\n",
       "Filosofia                                                3540\n",
       "Agronomia                                                3471\n",
       "Letras                                                   3450\n",
       "Engenharia de Produção                                   3443\n",
       "Geografia                                                3395\n",
       "Psicologia                                               3359\n",
       "Ciências da Computação                                   3300\n",
       "Ciências Sociais                                         2756\n",
       "Genética e Biologia Molecular                            2684\n",
       "Farmacologia                                             2658\n",
       "Lingüística                                              2625\n",
       "Direito                                                  2571\n",
       "Ciências Biológicas (Zoologia)                           2488\n",
       "Medicina Veterinária                                     2474\n",
       "Geociências                                              2344\n",
       "                                                       ...   \n",
       "Gastroenterologia Clínica                                   2\n",
       "Geomática                                                   2\n",
       "RECURSOS HÍDRICOS EM SISTEMAS AGRÍCOLAS                     2\n",
       "Ciências Biológicas (Anatomia) [Botucatu]                   2\n",
       "Divulgação Científica e Cultural                            2\n",
       "Integridade de Materiais da Engenharia                      2\n",
       "Recursos Naturais do Semiárido                              2\n",
       "Desenvolvimento e Planejamento Territorial                  2\n",
       "BIODIVERSIDADE E CONSERVAÇÃO                                2\n",
       "Psicologia Educacional                                      2\n",
       "Medicina (Cirurgia Cardiovascular)                          2\n",
       "Engenharia de Reservatorio e de Exploracao                  1\n",
       "Comunicacao Social - Jornalismo                             1\n",
       "Neurociência e Cognição                                     1\n",
       "Medicina (Tocoginecologia)                                  1\n",
       "Extensão Universitária em Webdesign                         1\n",
       "Ensino de Ciências                                          1\n",
       "Interdisciplinar em Modelagem Computacional                 1\n",
       "Teatro                                                      1\n",
       "QUÍMICA                                                     1\n",
       "Pesquisa Clinica em Doenças Infecciosas                     1\n",
       "Medicina (Reumatologia)                                     1\n",
       "Multiunidades em Ensino de Ciências e Matemática            1\n",
       "ENGENHARIA CIVIL E AMBIENTAL                                1\n",
       "Biotecnociência                                             1\n",
       "Sanidade e Produção Animal Sustentável na Amazônia          1\n",
       "ENGENHARIA DE MATERIAIS E NANOTECNOLOGIA                    1\n",
       "CIÊNCIAS BIOLÓGICAS (BIODIVERSIDADE NEOTROPICAL)            1\n",
       "Programa de Pós-Graduação em Engenharia Mecânica            1\n",
       "Psicologia da Saúde                                         1\n",
       "Name: curso, Length: 977, dtype: int64"
      ]
     },
     "execution_count": 186,
     "metadata": {},
     "output_type": "execute_result"
    }
   ],
   "source": [
    "cnpq.curso.value_counts()"
   ]
  },
  {
   "cell_type": "code",
   "execution_count": 200,
   "metadata": {
    "collapsed": false,
    "deletable": true,
    "editable": true
   },
   "outputs": [
    {
     "data": {
      "text/plain": [
       "80"
      ]
     },
     "execution_count": 200,
     "metadata": {},
     "output_type": "execute_result"
    }
   ],
   "source": [
    "cursos = pd.Series(cnpq.curso.str.lower().unique()) # to lower\n",
    "\n",
    "engenharias = cursos[cursos.str.lower().str.contains(\"engenharia\")]\n",
    "\n",
    "len(engenharias)"
   ]
  },
  {
   "cell_type": "code",
   "execution_count": 201,
   "metadata": {
    "collapsed": false,
    "deletable": true,
    "editable": true
   },
   "outputs": [
    {
     "data": {
      "text/plain": [
       "1                                    engenharia mecânica\n",
       "2                                       engenharia civil\n",
       "3      engenharia materiais e de processos químicos e...\n",
       "4                                    engenharia elétrica\n",
       "25                                engenharia de produção\n",
       "35                  engenharia e tecnologia de materiais\n",
       "56                                    engenharia química\n",
       "75              engenharia de materiais e nanotecnologia\n",
       "82                               engenharia de processos\n",
       "99                   engenharia de sistemas e computação\n",
       "107                    engenharia metalúrgica e de minas\n",
       "121                engenharia metalúrgica e de materiais\n",
       "122                               engenharia metalúrgica\n",
       "123                                   engenharia nuclear\n",
       "130                    ciência e engenharia de materiais\n",
       "132                                 engenharia ambiental\n",
       "134                   engenharia de automação e sistemas\n",
       "155                              engenharia de alimentos\n",
       "156                  engenharia e gestão do conhecimento\n",
       "159                          engenharia do meio ambiente\n",
       "177                            engenharia de transportes\n",
       "179      engenharia de minas, metalúrgica e de materiais\n",
       "180                             engenharia de estruturas\n",
       "192                                  engenharia oceânica\n",
       "197                                  engenharia agrícola\n",
       "203                                 engenharia biomédica\n",
       "233                  engenharia elétrica e de computação\n",
       "237                     ciência e engenharia de petróleo\n",
       "246                                 engenharia florestal\n",
       "251                        engenharia de teleinformática\n",
       "                             ...                        \n",
       "479                                  engenharia de minas\n",
       "533                   engenharia hidráulica e saneamento\n",
       "537                   ciências e engenharia de materiais\n",
       "546          engenharia civil (engenharia de estruturas)\n",
       "586                     ciências da engenharia ambiental\n",
       "618                    ciências e engenharia de petróleo\n",
       "620                     engenharia de sistemas agrícolas\n",
       "639                    engenharia e ciência de alimentos\n",
       "645                                        bioengenharia\n",
       "663                  engenharia (engenharia de produção)\n",
       "682               engenharia de edificações e saneamento\n",
       "714                                  engenharia eletrica\n",
       "723                          engenharia naval e oceânica\n",
       "739                               engenharia de petróleo\n",
       "750            recursos pesqueiros e engenharia de pesca\n",
       "763                   ciência e engenharia dos materiais\n",
       "769    engenharia de sistemas eletrônicos e de automação\n",
       "814               integridade de materiais da engenharia\n",
       "823                   engenharia de recursos da amazônia\n",
       "834                             engenharia de computação\n",
       "839                             engenharia da informação\n",
       "844                engenharia elétrica (ufsj / cefet-mg)\n",
       "857                    engenharia aeronâutica e mecânica\n",
       "858                   engenharia eletrônica e computação\n",
       "863                    engenharia e tecnologia espaciais\n",
       "865                           engenharia de eletricidade\n",
       "871            engenharia de infra-estrutura aeronáutica\n",
       "910                                engenharia eletrônica\n",
       "917           engenharia de reservatorio e de exploracao\n",
       "920                             engenharia da computação\n",
       "Length: 80, dtype: object"
      ]
     },
     "execution_count": 201,
     "metadata": {},
     "output_type": "execute_result"
    }
   ],
   "source": [
    "engenharias"
   ]
  },
  {
   "cell_type": "code",
   "execution_count": 202,
   "metadata": {
    "collapsed": false,
    "deletable": true,
    "editable": true
   },
   "outputs": [
    {
     "data": {
      "text/plain": [
       "Index(['ano', 'codigo', 'id_bolsista', 'qtd_bolsa_ano', 'qtd_meses_pagos',\n",
       "       'sexo', 'uf_instituicao', 'valor_total', 'curso', 'area_conhecimento',\n",
       "       'especialidade', 'sub_area_conhecimento', 'grande_area_conhecimento',\n",
       "       'pais_instituicao', 'pais_nascimento', 'titulo_bolsa',\n",
       "       'sigla_instituicao', 'modalidade', 'nome', 'natureza_juridica',\n",
       "       'codigo_pt1', 'codigo_pt2', 'codigo_pt3'],\n",
       "      dtype='object')"
      ]
     },
     "execution_count": 202,
     "metadata": {},
     "output_type": "execute_result"
    }
   ],
   "source": [
    "cnpq.columns"
   ]
  },
  {
   "cell_type": "markdown",
   "metadata": {
    "deletable": true,
    "editable": true
   },
   "source": [
    "## coluna: area_conhecimento"
   ]
  },
  {
   "cell_type": "code",
   "execution_count": 203,
   "metadata": {
    "collapsed": false,
    "deletable": true,
    "editable": true
   },
   "outputs": [
    {
     "data": {
      "text/plain": [
       "count       2140823\n",
       "unique          129\n",
       "top       Agronomia\n",
       "freq         129011\n",
       "Name: area_conhecimento, dtype: object"
      ]
     },
     "execution_count": 203,
     "metadata": {},
     "output_type": "execute_result"
    }
   ],
   "source": [
    "cnpq.area_conhecimento.describe()"
   ]
  },
  {
   "cell_type": "code",
   "execution_count": 204,
   "metadata": {
    "collapsed": false,
    "deletable": true,
    "editable": true
   },
   "outputs": [
    {
     "data": {
      "text/plain": [
       "Agronomia                                           129011\n",
       "Química                                              99684\n",
       "Matemática                                           96713\n",
       "Ciência da Computação                                84919\n",
       "Educação                                             74404\n",
       "Física                                               73869\n",
       "Medicina                                             70740\n",
       "Engenharia Elétrica                                  63098\n",
       "Geociências                                          51737\n",
       "Engenharia Química                                   45601\n",
       "Engenharia Civil                                     43156\n",
       "Psicologia                                           42612\n",
       "Engenharia Mecânica                                  42420\n",
       "Bioquímica                                           41774\n",
       "Administração                                        39469\n",
       "Engenharia de Materiais e Metalúrgica                39453\n",
       "Medicina Veterinária                                 38968\n",
       "Zootecnia                                            36673\n",
       "Ciência e Tecnologia de Alimentos                    36059\n",
       "Genética                                             35178\n",
       "Ecologia                                             34851\n",
       "História                                             34790\n",
       "Letras                                               31024\n",
       "Saúde Coletiva                                       30563\n",
       "Botânica                                             27549\n",
       "Não se aplica                                        27077\n",
       "Odontologia                                          26738\n",
       "Engenharia Sanitária                                 26552\n",
       "Farmácia                                             26522\n",
       "Microbiologia                                        26302\n",
       "                                                     ...  \n",
       "Nanotecnologia e Novos Materiais                       645\n",
       "Economia Doméstica                                     605\n",
       "Engenharia Mecatrônica                                 533\n",
       "Áreas Tecnológicas de Química e Geociências            475\n",
       "Mudanças Climáticas                                    452\n",
       "Relações Internacionais                                392\n",
       "Defesa                                                 237\n",
       "Química Industrial                                     191\n",
       "Áreas Tecnológicas de Física e Matemática              190\n",
       "Tecnologias nas áreas Aeronáutica e Aeroespacial       173\n",
       "Desenho de Projetos                                    105\n",
       "Administração Hospitalar                                97\n",
       "Bioética                                                66\n",
       "Estudos Sociais                                         45\n",
       "Desenho de Moda                                         32\n",
       "Engenharia Textil                                       27\n",
       "Administração Rural                                     27\n",
       "Ciências Atuarias                                       27\n",
       "Historia Natural                                        22\n",
       "Carreira Religiosa                                      20\n",
       "Engenharia de Agrimensura                               20\n",
       "Tecnologias Naval e Marítima                            18\n",
       "Fontes Alternativas de Energia                          12\n",
       "Secretariado Executivo                                  12\n",
       "Relações Públicas                                        9\n",
       "Engenharia Cartografica                                  9\n",
       "Carreira Militar                                         8\n",
       "Engenharia de Armamentos                                 7\n",
       "Diplomacia                                               3\n",
       "Decoração                                                1\n",
       "Name: area_conhecimento, Length: 129, dtype: int64"
      ]
     },
     "execution_count": 204,
     "metadata": {},
     "output_type": "execute_result"
    }
   ],
   "source": [
    "cnpq.area_conhecimento.value_counts()"
   ]
  },
  {
   "cell_type": "code",
   "execution_count": 215,
   "metadata": {
    "collapsed": false,
    "deletable": true,
    "editable": true
   },
   "outputs": [
    {
     "data": {
      "text/html": [
       "<div>\n",
       "<style>\n",
       "    .dataframe thead tr:only-child th {\n",
       "        text-align: right;\n",
       "    }\n",
       "\n",
       "    .dataframe thead th {\n",
       "        text-align: left;\n",
       "    }\n",
       "\n",
       "    .dataframe tbody tr th {\n",
       "        vertical-align: top;\n",
       "    }\n",
       "</style>\n",
       "<table border=\"1\" class=\"dataframe\">\n",
       "  <thead>\n",
       "    <tr style=\"text-align: right;\">\n",
       "      <th></th>\n",
       "      <th>titulo_bolsa</th>\n",
       "      <th>valor_total</th>\n",
       "    </tr>\n",
       "  </thead>\n",
       "  <tbody>\n",
       "    <tr>\n",
       "      <th>671904</th>\n",
       "      <td>Das Emissoes Poluentes a Producao de Petroleo via Alternativas Biotecnologicas Sustentaveis</td>\n",
       "      <td>2000.0</td>\n",
       "    </tr>\n",
       "    <tr>\n",
       "      <th>671905</th>\n",
       "      <td>Das Emissoes Poluentes a Producao de Petroleo via Alternativas Biotecnologicas Sustentaveis</td>\n",
       "      <td>2800.0</td>\n",
       "    </tr>\n",
       "    <tr>\n",
       "      <th>671909</th>\n",
       "      <td>Das Emissoes Poluentes a Producao de Petroleo via Alternativas Biotecnologicas Sustentaveis</td>\n",
       "      <td>2000.0</td>\n",
       "    </tr>\n",
       "    <tr>\n",
       "      <th>671910</th>\n",
       "      <td>Das Emissoes Poluentes a Producao de Petroleo via Alternativas Biotecnologicas Sustentaveis</td>\n",
       "      <td>2800.0</td>\n",
       "    </tr>\n",
       "    <tr>\n",
       "      <th>671913</th>\n",
       "      <td>Das Emissoes Poluentes a Producao de Petroleo via Alternativas Biotecnologicas Sustentaveis</td>\n",
       "      <td>2000.0</td>\n",
       "    </tr>\n",
       "    <tr>\n",
       "      <th>671914</th>\n",
       "      <td>Das Emissoes Poluentes a Producao de Petroleo via Alternativas Biotecnologicas Sustentaveis</td>\n",
       "      <td>2800.0</td>\n",
       "    </tr>\n",
       "    <tr>\n",
       "      <th>671923</th>\n",
       "      <td>Purificacao e imobilizacao simultaneas de enzimas para fins industriais: lipase B de Pseudozyma antarctica como modelo</td>\n",
       "      <td>2000.0</td>\n",
       "    </tr>\n",
       "    <tr>\n",
       "      <th>671924</th>\n",
       "      <td>Purificacao e imobilizacao simultaneas de enzimas para fins industriais: lipase B de Pseudozyma antarctica como modelo</td>\n",
       "      <td>2800.0</td>\n",
       "    </tr>\n",
       "    <tr>\n",
       "      <th>671925</th>\n",
       "      <td>Prospeccao de Bioativos com potencial Biotecnologico a partir de Fungos Endofiticos de Manilkara salzmannii planta da Restinga de Salvador BA</td>\n",
       "      <td>2000.0</td>\n",
       "    </tr>\n",
       "    <tr>\n",
       "      <th>671926</th>\n",
       "      <td>Prospeccao de Bioativos com potencial Biotecnologico a partir de Fungos Endofiticos de Manilkara salzmannii planta da Restinga de Salvador BA</td>\n",
       "      <td>2800.0</td>\n",
       "    </tr>\n",
       "    <tr>\n",
       "      <th>671927</th>\n",
       "      <td>Caracterizacao integrada e avancada de acessos visando qualidade de sementes em suporte a programas de melhoramento genetico e a cadeia de producao de mamona (Ricinus communis) no semiarido</td>\n",
       "      <td>2000.0</td>\n",
       "    </tr>\n",
       "    <tr>\n",
       "      <th>671928</th>\n",
       "      <td>Caracterizacao integrada e avancada de acessos visando qualidade de sementes em suporte a programas de melhoramento genetico e a cadeia de producao de mamona (Ricinus communis) no semiarido</td>\n",
       "      <td>2800.0</td>\n",
       "    </tr>\n",
       "    <tr>\n",
       "      <th>671929</th>\n",
       "      <td>Bioenergia e fertilizantes produzidos a partir da digestao anaerobia da vinhaca enriquecida com celulose</td>\n",
       "      <td>2800.0</td>\n",
       "    </tr>\n",
       "    <tr>\n",
       "      <th>671930</th>\n",
       "      <td>Bioenergia e fertilizantes produzidos a partir da digestao anaerobia da vinhaca enriquecida com celulose</td>\n",
       "      <td>2000.0</td>\n",
       "    </tr>\n",
       "    <tr>\n",
       "      <th>671933</th>\n",
       "      <td>Bioenergia e fertilizantes produzidos a partir da digestao anaerobia da vinhaca enriquecida com celulose</td>\n",
       "      <td>2800.0</td>\n",
       "    </tr>\n",
       "    <tr>\n",
       "      <th>671934</th>\n",
       "      <td>Bioenergia e fertilizantes produzidos a partir da digestao anaerobia da vinhaca enriquecida com celulose</td>\n",
       "      <td>2000.0</td>\n",
       "    </tr>\n",
       "    <tr>\n",
       "      <th>671938</th>\n",
       "      <td>EFEITO DO SOBRENADANTE DE CULTURA DE CELULAS-TRONCO NA DOR NEUROPATICA EXPERIMENTAL</td>\n",
       "      <td>2800.0</td>\n",
       "    </tr>\n",
       "    <tr>\n",
       "      <th>671939</th>\n",
       "      <td>EFEITO DO SOBRENADANTE DE CULTURA DE CELULAS-TRONCO NA DOR NEUROPATICA EXPERIMENTAL</td>\n",
       "      <td>2000.0</td>\n",
       "    </tr>\n",
       "    <tr>\n",
       "      <th>671942</th>\n",
       "      <td>Avaliacao da atividade antimicrobiana das fracoes de Anadenanthera macrocarpa (Angico) Tabebuia impetiginosa (Pau d arco) e Aspidospherma australe (Peroba) sobre Streptococcus mutans</td>\n",
       "      <td>2800.0</td>\n",
       "    </tr>\n",
       "    <tr>\n",
       "      <th>671943</th>\n",
       "      <td>Avaliacao da atividade antimicrobiana das fracoes de Anadenanthera macrocarpa (Angico) Tabebuia impetiginosa (Pau d arco) e Aspidospherma australe (Peroba) sobre Streptococcus mutans</td>\n",
       "      <td>2000.0</td>\n",
       "    </tr>\n",
       "  </tbody>\n",
       "</table>\n",
       "</div>"
      ],
      "text/plain": [
       "                                                                                                                                                                                         titulo_bolsa  valor_total\n",
       "671904                                                                                                    Das Emissoes Poluentes a Producao de Petroleo via Alternativas Biotecnologicas Sustentaveis       2000.0\n",
       "671905                                                                                                    Das Emissoes Poluentes a Producao de Petroleo via Alternativas Biotecnologicas Sustentaveis       2800.0\n",
       "671909                                                                                                    Das Emissoes Poluentes a Producao de Petroleo via Alternativas Biotecnologicas Sustentaveis       2000.0\n",
       "671910                                                                                                    Das Emissoes Poluentes a Producao de Petroleo via Alternativas Biotecnologicas Sustentaveis       2800.0\n",
       "671913                                                                                                    Das Emissoes Poluentes a Producao de Petroleo via Alternativas Biotecnologicas Sustentaveis       2000.0\n",
       "671914                                                                                                    Das Emissoes Poluentes a Producao de Petroleo via Alternativas Biotecnologicas Sustentaveis       2800.0\n",
       "671923                                                                         Purificacao e imobilizacao simultaneas de enzimas para fins industriais: lipase B de Pseudozyma antarctica como modelo       2000.0\n",
       "671924                                                                         Purificacao e imobilizacao simultaneas de enzimas para fins industriais: lipase B de Pseudozyma antarctica como modelo       2800.0\n",
       "671925                                                  Prospeccao de Bioativos com potencial Biotecnologico a partir de Fungos Endofiticos de Manilkara salzmannii planta da Restinga de Salvador BA       2000.0\n",
       "671926                                                  Prospeccao de Bioativos com potencial Biotecnologico a partir de Fungos Endofiticos de Manilkara salzmannii planta da Restinga de Salvador BA       2800.0\n",
       "671927  Caracterizacao integrada e avancada de acessos visando qualidade de sementes em suporte a programas de melhoramento genetico e a cadeia de producao de mamona (Ricinus communis) no semiarido       2000.0\n",
       "671928  Caracterizacao integrada e avancada de acessos visando qualidade de sementes em suporte a programas de melhoramento genetico e a cadeia de producao de mamona (Ricinus communis) no semiarido       2800.0\n",
       "671929                                                                                       Bioenergia e fertilizantes produzidos a partir da digestao anaerobia da vinhaca enriquecida com celulose       2800.0\n",
       "671930                                                                                       Bioenergia e fertilizantes produzidos a partir da digestao anaerobia da vinhaca enriquecida com celulose       2000.0\n",
       "671933                                                                                       Bioenergia e fertilizantes produzidos a partir da digestao anaerobia da vinhaca enriquecida com celulose       2800.0\n",
       "671934                                                                                       Bioenergia e fertilizantes produzidos a partir da digestao anaerobia da vinhaca enriquecida com celulose       2000.0\n",
       "671938                                                                                                            EFEITO DO SOBRENADANTE DE CULTURA DE CELULAS-TRONCO NA DOR NEUROPATICA EXPERIMENTAL       2800.0\n",
       "671939                                                                                                            EFEITO DO SOBRENADANTE DE CULTURA DE CELULAS-TRONCO NA DOR NEUROPATICA EXPERIMENTAL       2000.0\n",
       "671942         Avaliacao da atividade antimicrobiana das fracoes de Anadenanthera macrocarpa (Angico) Tabebuia impetiginosa (Pau d arco) e Aspidospherma australe (Peroba) sobre Streptococcus mutans       2800.0\n",
       "671943         Avaliacao da atividade antimicrobiana das fracoes de Anadenanthera macrocarpa (Angico) Tabebuia impetiginosa (Pau d arco) e Aspidospherma australe (Peroba) sobre Streptococcus mutans       2000.0"
      ]
     },
     "execution_count": 215,
     "metadata": {},
     "output_type": "execute_result"
    }
   ],
   "source": [
    "cnpq[cnpq.area_conhecimento == \"Carreira Religiosa\"][[\"titulo_bolsa\", \"valor_total\"]] # :("
   ]
  },
  {
   "cell_type": "code",
   "execution_count": 216,
   "metadata": {
    "collapsed": false,
    "deletable": true,
    "editable": true
   },
   "outputs": [
    {
     "data": {
      "text/plain": [
       "Index(['ano', 'codigo', 'id_bolsista', 'qtd_bolsa_ano', 'qtd_meses_pagos', 'sexo', 'uf_instituicao', 'valor_total', 'curso', 'area_conhecimento', 'especialidade', 'sub_area_conhecimento', 'grande_area_conhecimento', 'pais_instituicao', 'pais_nascimento', 'titulo_bolsa', 'sigla_instituicao', 'modalidade', 'nome', 'natureza_juridica', 'codigo_pt1', 'codigo_pt2', 'codigo_pt3'], dtype='object')"
      ]
     },
     "execution_count": 216,
     "metadata": {},
     "output_type": "execute_result"
    }
   ],
   "source": [
    "cnpq.columns"
   ]
  },
  {
   "cell_type": "markdown",
   "metadata": {
    "deletable": true,
    "editable": true
   },
   "source": [
    "## coluna: especialidade"
   ]
  },
  {
   "cell_type": "code",
   "execution_count": 217,
   "metadata": {
    "collapsed": false,
    "deletable": true,
    "editable": true
   },
   "outputs": [
    {
     "data": {
      "text/plain": [
       "count           2140823\n",
       "unique              879\n",
       "top       Não informado\n",
       "freq            1649765\n",
       "Name: especialidade, dtype: object"
      ]
     },
     "execution_count": 217,
     "metadata": {},
     "output_type": "execute_result"
    }
   ],
   "source": [
    "cnpq.especialidade.describe()"
   ]
  },
  {
   "cell_type": "code",
   "execution_count": 218,
   "metadata": {
    "collapsed": false,
    "deletable": true,
    "editable": true
   },
   "outputs": [
    {
     "data": {
      "text/plain": [
       "Não informado                                                                         1649765\n",
       "Não se aplica                                                                           27077\n",
       "Teleinformática                                                                         10212\n",
       "Melhoramento Vegetal                                                                     8486\n",
       "Fitopatologia                                                                            8020\n",
       "Operações de Separação e Mistura                                                         6771\n",
       "Sistemas de Informação                                                                   6743\n",
       "Química dos Produtos Naturais                                                            6187\n",
       "Engenharia de Software                                                                   5612\n",
       "Entomologia Agrícola                                                                     5278\n",
       "Cerâmicos                                                                                4532\n",
       "Polímeros, Aplicações                                                                    4400\n",
       "Tecnologia Educacional                                                                   3969\n",
       "Arquitetura de Sistemas de Computação                                                    3921\n",
       "Fertilidade do Solo e Adubação                                                           3826\n",
       "Manejo e Tratos Culturais                                                                3769\n",
       "Análise de Traços e Química Ambiental                                                    3507\n",
       "Doenças Infecciosas e Parasitárias                                                       3467\n",
       "Prop. Óticas e Espectrosc. da Mat. Condens; Outras Inter. da Mat. com Rad. e Part.       3059\n",
       "Síntese Orgânica                                                                         3034\n",
       "Automação Eletrônica de Processos Elétricos e Industriais                                2931\n",
       "Microbiologia e Bioquímica do Solo                                                       2852\n",
       "Manejo e Conservação do Solo                                                             2771\n",
       "Cardiologia                                                                              2770\n",
       "Sistemas deTelecomunicações                                                              2668\n",
       "Processamento Gráfico (Graphics)                                                         2653\n",
       "Avaliação de Alimentos para Animais                                                      2642\n",
       "Processos Bioquímicos                                                                    2639\n",
       "Piscicultura                                                                             2568\n",
       "Neurologia                                                                               2551\n",
       "                                                                                       ...   \n",
       "Vacinas e Kits para Diagnósticos                                                            8\n",
       "Cenografia                                                                                  8\n",
       "Regência                                                                                    8\n",
       "Xisto                                                                                       8\n",
       "Teoria Geral e Fundamentos da Probabilidade                                                 8\n",
       "Organização Comercial de Jornais                                                            8\n",
       "Taxas e Estimativas Correntes                                                               7\n",
       "Biodiversidade                                                                              7\n",
       "Melhoramento de Plantas                                                                     6\n",
       "Motor de Propulsão                                                                          6\n",
       "Métodos e Técnicas de Demografia Histórica                                                  6\n",
       "Novas Drogas Terapêuticas                                                                   6\n",
       "Distúrbios da Linguagem                                                                     5\n",
       "Vida Econômica dos Equipamentos                                                             5\n",
       "Estação de Transporte                                                                       5\n",
       "Micro-centrais Hidrelétricas                                                                5\n",
       "Síntese Estrutural Naval e Oceânica                                                         4\n",
       "Recrutamento e Seleção de Pessoal                                                           4\n",
       "Movimento da Terra                                                                          4\n",
       "Layout de Processos Industriais                                                             4\n",
       "Distribuição Espacial Rural                                                                 3\n",
       "Tecnologia de Processos e Produtos                                                          3\n",
       "Detergentes                                                                                 3\n",
       "Tendências Passadas                                                                         2\n",
       "Propulsão de Navios                                                                         2\n",
       "Vias de Transporte                                                                          2\n",
       "Tratamento Biológico de Residuos                                                            2\n",
       "Teoria Política Clássica                                                                    1\n",
       "Ciências de Animais de Laboratórios                                                         1\n",
       "Técnicas de Antecipação                                                                     1\n",
       "Name: especialidade, Length: 879, dtype: int64"
      ]
     },
     "execution_count": 218,
     "metadata": {},
     "output_type": "execute_result"
    }
   ],
   "source": [
    "cnpq.especialidade.value_counts()"
   ]
  },
  {
   "cell_type": "code",
   "execution_count": 219,
   "metadata": {
    "collapsed": false,
    "deletable": true,
    "editable": true
   },
   "outputs": [
    {
     "data": {
      "text/html": [
       "<div>\n",
       "<style>\n",
       "    .dataframe thead tr:only-child th {\n",
       "        text-align: right;\n",
       "    }\n",
       "\n",
       "    .dataframe thead th {\n",
       "        text-align: left;\n",
       "    }\n",
       "\n",
       "    .dataframe tbody tr th {\n",
       "        vertical-align: top;\n",
       "    }\n",
       "</style>\n",
       "<table border=\"1\" class=\"dataframe\">\n",
       "  <thead>\n",
       "    <tr style=\"text-align: right;\">\n",
       "      <th></th>\n",
       "      <th>titulo_bolsa</th>\n",
       "      <th>valor_total</th>\n",
       "    </tr>\n",
       "  </thead>\n",
       "  <tbody>\n",
       "    <tr>\n",
       "      <th>1842591</th>\n",
       "      <td>Avaliacao da atividade larvicida do extrato metanoica e hexanico de Piper alatipetiolatum (Piperaceae) contra Aedes aegypti (Linnaeus 1762) (Diptera: Culicidae)</td>\n",
       "      <td>400.0</td>\n",
       "    </tr>\n",
       "  </tbody>\n",
       "</table>\n",
       "</div>"
      ],
      "text/plain": [
       "                                                                                                                                                             titulo_bolsa  valor_total\n",
       "1842591  Avaliacao da atividade larvicida do extrato metanoica e hexanico de Piper alatipetiolatum (Piperaceae) contra Aedes aegypti (Linnaeus 1762) (Diptera: Culicidae)        400.0"
      ]
     },
     "execution_count": 219,
     "metadata": {},
     "output_type": "execute_result"
    }
   ],
   "source": [
    "cnpq[cnpq.especialidade == 'Ciências de Animais de Laboratórios'][[\"titulo_bolsa\", \"valor_total\"]]"
   ]
  },
  {
   "cell_type": "code",
   "execution_count": 220,
   "metadata": {
    "collapsed": false,
    "deletable": true,
    "editable": true
   },
   "outputs": [
    {
     "data": {
      "text/plain": [
       "Index(['ano', 'codigo', 'id_bolsista', 'qtd_bolsa_ano', 'qtd_meses_pagos', 'sexo', 'uf_instituicao', 'valor_total', 'curso', 'area_conhecimento', 'especialidade', 'sub_area_conhecimento', 'grande_area_conhecimento', 'pais_instituicao', 'pais_nascimento', 'titulo_bolsa', 'sigla_instituicao', 'modalidade', 'nome', 'natureza_juridica', 'codigo_pt1', 'codigo_pt2', 'codigo_pt3'], dtype='object')"
      ]
     },
     "execution_count": 220,
     "metadata": {},
     "output_type": "execute_result"
    }
   ],
   "source": [
    "cnpq.columns"
   ]
  },
  {
   "cell_type": "markdown",
   "metadata": {
    "deletable": true,
    "editable": true
   },
   "source": [
    "## coluna: sub_area_conhecimento"
   ]
  },
  {
   "cell_type": "code",
   "execution_count": 221,
   "metadata": {
    "collapsed": false,
    "deletable": true,
    "editable": true
   },
   "outputs": [
    {
     "data": {
      "text/plain": [
       "count           2140823\n",
       "unique              363\n",
       "top       Não informado\n",
       "freq             481757\n",
       "Name: sub_area_conhecimento, dtype: object"
      ]
     },
     "execution_count": 221,
     "metadata": {},
     "output_type": "execute_result"
    }
   ],
   "source": [
    "cnpq.sub_area_conhecimento.describe()"
   ]
  },
  {
   "cell_type": "code",
   "execution_count": 222,
   "metadata": {
    "collapsed": false,
    "deletable": true,
    "editable": true
   },
   "outputs": [
    {
     "data": {
      "text/plain": [
       "Não informado                                            481757\n",
       "Geometria e Topologia                                     53352\n",
       "Fitotecnia                                                39331\n",
       "Clínica Médica                                            38891\n",
       "Sistemas de Computação                                    35309\n",
       "Física da Matéria Condensada                              29453\n",
       "Química Orgânica                                          29160\n",
       "Ciência do Solo                                           28319\n",
       "Metodologia e Técnicas da Computação                      27807\n",
       "Não se aplica                                             27077\n",
       "Fitossanidade                                             24001\n",
       "Matemática Aplicada                                       23420\n",
       "Geologia                                                  22173\n",
       "Físico-Química                                            21769\n",
       "Química Analítica                                         21286\n",
       "Ensino-Aprendizagem                                       20190\n",
       "Tópicos Específicos de Educação                           17986\n",
       "Materiais Não-Metálicos                                   16697\n",
       "História do Brasil                                        15582\n",
       "Saúde Pública                                             15140\n",
       "Ciência de Alimentos                                      14276\n",
       "Administração de Setores Específicos                      14103\n",
       "Ecologia de Ecossistemas                                  13847\n",
       "Física Geral                                              13802\n",
       "Microbiologia Aplicada                                    13699\n",
       "Geografia Humana                                          12943\n",
       "Biologia Molecular                                        12730\n",
       "Administração de Empresas                                 12665\n",
       "Construção Civil                                          12535\n",
       "Medicina Veterinária Preventiva                           12456\n",
       "                                                          ...  \n",
       "Fotografia                                                  268\n",
       "Teologia Prática                                            217\n",
       "Nupcialidade e Família                                      202\n",
       "Máquinas Marítimas                                          188\n",
       "Línguas Clássicas                                           185\n",
       "Línguas Indígenas                                           182\n",
       "Demografia Histórica                                        177\n",
       "Farmácia clínica, assistência e atenção farmacêuticas       125\n",
       "Biotecnologia em Saúde Humana e Animal                      124\n",
       "Teologia Sistemática                                        122\n",
       "Dispositivos                                                111\n",
       "Tendência Populacional                                      111\n",
       "Paleobotânica                                               107\n",
       "Biotecnologia Ambiental e Recursos Naturais                  99\n",
       "Química Farmacêutica Medicinal                               94\n",
       "Fontes de Dados Demográficos                                 67\n",
       "Enfermagem na Gestão e Gerenciamento                         63\n",
       "Biotecnologia Vegetal                                        57\n",
       "Biotecnologia Industrial                                     55\n",
       "Estética e Filosofia da Arte                                 51\n",
       "Teologia Moral                                               48\n",
       "EDA                                                          42\n",
       "Ciências Empíricas da Religião                               38\n",
       "Ciências da Religião Aplicada                                35\n",
       "Teste e Tolerância a Falhas                                  33\n",
       "Fusão Controlada                                             32\n",
       "Fisiopatologia e diagnóstico laboratorial                    22\n",
       "Tradições e Escrituras Sagradas                              18\n",
       "Ciências da Linguagem Religiosa                              17\n",
       "Ópera                                                         5\n",
       "Name: sub_area_conhecimento, Length: 363, dtype: int64"
      ]
     },
     "execution_count": 222,
     "metadata": {},
     "output_type": "execute_result"
    }
   ],
   "source": [
    "cnpq.sub_area_conhecimento.value_counts()"
   ]
  },
  {
   "cell_type": "code",
   "execution_count": 223,
   "metadata": {
    "collapsed": false,
    "deletable": true,
    "editable": true
   },
   "outputs": [
    {
     "data": {
      "text/html": [
       "<div>\n",
       "<style>\n",
       "    .dataframe thead tr:only-child th {\n",
       "        text-align: right;\n",
       "    }\n",
       "\n",
       "    .dataframe thead th {\n",
       "        text-align: left;\n",
       "    }\n",
       "\n",
       "    .dataframe tbody tr th {\n",
       "        vertical-align: top;\n",
       "    }\n",
       "</style>\n",
       "<table border=\"1\" class=\"dataframe\">\n",
       "  <thead>\n",
       "    <tr style=\"text-align: right;\">\n",
       "      <th></th>\n",
       "      <th>titulo_bolsa</th>\n",
       "      <th>valor_total</th>\n",
       "    </tr>\n",
       "  </thead>\n",
       "  <tbody>\n",
       "    <tr>\n",
       "      <th>415582</th>\n",
       "      <td>Projeto Carlos Gomes 2016</td>\n",
       "      <td>1100.0</td>\n",
       "    </tr>\n",
       "    <tr>\n",
       "      <th>415583</th>\n",
       "      <td>Projeto Carlos Gomes 2016</td>\n",
       "      <td>6600.0</td>\n",
       "    </tr>\n",
       "    <tr>\n",
       "      <th>415584</th>\n",
       "      <td>Projeto Carlos Gomes 2016</td>\n",
       "      <td>2750.0</td>\n",
       "    </tr>\n",
       "    <tr>\n",
       "      <th>1323873</th>\n",
       "      <td>Estudos Cenicos com cantores Eruditos no Opera Estudio</td>\n",
       "      <td>1500.0</td>\n",
       "    </tr>\n",
       "    <tr>\n",
       "      <th>1323874</th>\n",
       "      <td>Estudos Cenicos com cantores Eruditos no Opera Estudio</td>\n",
       "      <td>2400.0</td>\n",
       "    </tr>\n",
       "  </tbody>\n",
       "</table>\n",
       "</div>"
      ],
      "text/plain": [
       "                                                   titulo_bolsa  valor_total\n",
       "415582                                Projeto Carlos Gomes 2016       1100.0\n",
       "415583                                Projeto Carlos Gomes 2016       6600.0\n",
       "415584                                Projeto Carlos Gomes 2016       2750.0\n",
       "1323873  Estudos Cenicos com cantores Eruditos no Opera Estudio       1500.0\n",
       "1323874  Estudos Cenicos com cantores Eruditos no Opera Estudio       2400.0"
      ]
     },
     "execution_count": 223,
     "metadata": {},
     "output_type": "execute_result"
    }
   ],
   "source": [
    "cnpq[cnpq.sub_area_conhecimento == \"Ópera\"][[\"titulo_bolsa\", \"valor_total\"]]"
   ]
  },
  {
   "cell_type": "markdown",
   "metadata": {
    "deletable": true,
    "editable": true
   },
   "source": [
    "## coluna: grande_area_conhecimento"
   ]
  },
  {
   "cell_type": "code",
   "execution_count": 225,
   "metadata": {
    "collapsed": false,
    "deletable": true,
    "editable": true
   },
   "outputs": [
    {
     "data": {
      "text/plain": [
       "count                                 2140823\n",
       "unique                                     11\n",
       "top       Engenharias e Ciência da Computação\n",
       "freq                                   435857\n",
       "Name: grande_area_conhecimento, dtype: object"
      ]
     },
     "execution_count": 225,
     "metadata": {},
     "output_type": "execute_result"
    }
   ],
   "source": [
    "cnpq.grande_area_conhecimento.describe()"
   ]
  },
  {
   "cell_type": "code",
   "execution_count": 226,
   "metadata": {
    "collapsed": false,
    "deletable": true,
    "editable": true
   },
   "outputs": [
    {
     "data": {
      "text/plain": [
       "Engenharias e Ciência da Computação    435857\n",
       "Ciências Exatas e da Terra             358323\n",
       "Ciências Biológicas                    315486\n",
       "Ciências Agrárias                      293807\n",
       "Ciências Humanas                       246457\n",
       "Ciências da Saúde                      218324\n",
       "Ciências Sociais Aplicadas             145837\n",
       "Lingüística, Letras e Artes             71310\n",
       "Não se aplica                           27077\n",
       "Outra                                   24623\n",
       "Não informado                            3722\n",
       "Name: grande_area_conhecimento, dtype: int64"
      ]
     },
     "execution_count": 226,
     "metadata": {},
     "output_type": "execute_result"
    }
   ],
   "source": [
    "cnpq.grande_area_conhecimento.value_counts()"
   ]
  },
  {
   "cell_type": "code",
   "execution_count": 228,
   "metadata": {
    "collapsed": false,
    "deletable": true,
    "editable": true
   },
   "outputs": [
    {
     "data": {
      "text/html": [
       "<div>\n",
       "<style>\n",
       "    .dataframe thead tr:only-child th {\n",
       "        text-align: right;\n",
       "    }\n",
       "\n",
       "    .dataframe thead th {\n",
       "        text-align: left;\n",
       "    }\n",
       "\n",
       "    .dataframe tbody tr th {\n",
       "        vertical-align: top;\n",
       "    }\n",
       "</style>\n",
       "<table border=\"1\" class=\"dataframe\">\n",
       "  <thead>\n",
       "    <tr style=\"text-align: right;\">\n",
       "      <th></th>\n",
       "      <th>titulo_bolsa</th>\n",
       "      <th>valor_total</th>\n",
       "    </tr>\n",
       "  </thead>\n",
       "  <tbody>\n",
       "    <tr>\n",
       "      <th>182325</th>\n",
       "      <td>DESENVOLVIMENTO DE SOFTWARE PARA APLICACAO EM DINAMICA DOS FLUIDOS.</td>\n",
       "      <td>26242.44</td>\n",
       "    </tr>\n",
       "    <tr>\n",
       "      <th>1814417</th>\n",
       "      <td>Modelagem e Simulacao Computacional de Sistemas Complexos</td>\n",
       "      <td>2200.00</td>\n",
       "    </tr>\n",
       "    <tr>\n",
       "      <th>1860528</th>\n",
       "      <td>Historia memoria documental e divulgacao da ciencia e tecnologia</td>\n",
       "      <td>48000.00</td>\n",
       "    </tr>\n",
       "  </tbody>\n",
       "</table>\n",
       "</div>"
      ],
      "text/plain": [
       "                                                                titulo_bolsa  valor_total\n",
       "182325   DESENVOLVIMENTO DE SOFTWARE PARA APLICACAO EM DINAMICA DOS FLUIDOS.     26242.44\n",
       "1814417            Modelagem e Simulacao Computacional de Sistemas Complexos      2200.00\n",
       "1860528     Historia memoria documental e divulgacao da ciencia e tecnologia     48000.00"
      ]
     },
     "execution_count": 228,
     "metadata": {},
     "output_type": "execute_result"
    }
   ],
   "source": [
    "cnpq[cnpq.grande_area_conhecimento == \"Não se aplica\"][[\"titulo_bolsa\", \"valor_total\"]].sample(3)"
   ]
  },
  {
   "cell_type": "markdown",
   "metadata": {
    "deletable": true,
    "editable": true
   },
   "source": [
    "## coluna: pais_instituicao"
   ]
  },
  {
   "cell_type": "code",
   "execution_count": 229,
   "metadata": {
    "collapsed": false,
    "deletable": true,
    "editable": true
   },
   "outputs": [
    {
     "data": {
      "text/plain": [
       "count     2140823\n",
       "unique         62\n",
       "top        Brasil\n",
       "freq      2061050\n",
       "Name: pais_instituicao, dtype: object"
      ]
     },
     "execution_count": 229,
     "metadata": {},
     "output_type": "execute_result"
    }
   ],
   "source": [
    "cnpq.pais_instituicao.describe()"
   ]
  },
  {
   "cell_type": "code",
   "execution_count": 230,
   "metadata": {
    "collapsed": false,
    "deletable": true,
    "editable": true
   },
   "outputs": [
    {
     "data": {
      "text/plain": [
       "Brasil              2061050\n",
       "Inglaterra            15041\n",
       "Austrália             10658\n",
       "Canadá                10366\n",
       "Espanha                8920\n",
       "Estados Unidos         8882\n",
       "Portugal               5147\n",
       "Holanda                3926\n",
       "França                 3402\n",
       "Alemanha               2996\n",
       "Escócia                2357\n",
       "Itália                 1223\n",
       "Bélgica                1149\n",
       "Coréia do Sul          1048\n",
       "Gales                   946\n",
       "Nova Zelândia           556\n",
       "Finlândia               505\n",
       "Irlanda do Norte        395\n",
       "Suécia                  357\n",
       "Suiça                   327\n",
       "Dinamarca               286\n",
       "NÃO-ESPECIFICADO        240\n",
       "Irlanda                 189\n",
       "Chile                   133\n",
       "Austria                 125\n",
       "Japão                    90\n",
       "Polônia                  74\n",
       "Argentina                67\n",
       "México                   65\n",
       "Noruega                  55\n",
       "                     ...   \n",
       "República Tcheca         20\n",
       "Índia                    18\n",
       "Cingapura                17\n",
       "Uruguai                  16\n",
       "Cuba                     13\n",
       "Israel                   11\n",
       "Rússia                   10\n",
       "Colômbia                 10\n",
       "Moçambique               10\n",
       "Eslovênia                 8\n",
       "Nigéria                   8\n",
       "Grécia                    8\n",
       "Costa Rica                6\n",
       "Hungria                   6\n",
       "Panamá                    5\n",
       "Bulgária                  4\n",
       "Bolívia                   4\n",
       "Luxemburgo                4\n",
       "Paquistão                 3\n",
       "Malásia                   3\n",
       "Peru                      2\n",
       "Síria                     2\n",
       "Tailândia                 2\n",
       "Etiópia                   2\n",
       "Camarões                  2\n",
       "Turquia                   2\n",
       "Estônia                   1\n",
       "Croácia                   1\n",
       "Angola                    1\n",
       "Equador                   1\n",
       "Name: pais_instituicao, Length: 62, dtype: int64"
      ]
     },
     "execution_count": 230,
     "metadata": {},
     "output_type": "execute_result"
    }
   ],
   "source": [
    "cnpq.pais_instituicao.value_counts()"
   ]
  },
  {
   "cell_type": "code",
   "execution_count": 241,
   "metadata": {
    "collapsed": false,
    "deletable": true,
    "editable": true
   },
   "outputs": [
    {
     "data": {
      "text/html": [
       "<div>\n",
       "<style>\n",
       "    .dataframe thead tr:only-child th {\n",
       "        text-align: right;\n",
       "    }\n",
       "\n",
       "    .dataframe thead th {\n",
       "        text-align: left;\n",
       "    }\n",
       "\n",
       "    .dataframe tbody tr th {\n",
       "        vertical-align: top;\n",
       "    }\n",
       "</style>\n",
       "<table border=\"1\" class=\"dataframe\">\n",
       "  <thead>\n",
       "    <tr style=\"text-align: right;\">\n",
       "      <th></th>\n",
       "      <th>titulo_bolsa</th>\n",
       "      <th>valor_total</th>\n",
       "    </tr>\n",
       "  </thead>\n",
       "  <tbody>\n",
       "    <tr>\n",
       "      <th>1062025</th>\n",
       "      <td>NÃO-ESPECIFICADO</td>\n",
       "      <td>36964.30</td>\n",
       "    </tr>\n",
       "    <tr>\n",
       "      <th>1084877</th>\n",
       "      <td>Morfologia polinica da flora moderna e holocenica de Amacayacu (Amazonia Ocidental Colombia) e suas contribuicoes na evolucao da floresta Amazonica durante o Neogeno</td>\n",
       "      <td>65497.83</td>\n",
       "    </tr>\n",
       "    <tr>\n",
       "      <th>1061367</th>\n",
       "      <td>VARIACAO INTRA- E INTER-ESPECIFICA DE ANELIDEOS POLIQUETAS DA PROVINCIA BIOGEOGRAFICA MARINHA CARIBENHA</td>\n",
       "      <td>33851.27</td>\n",
       "    </tr>\n",
       "  </tbody>\n",
       "</table>\n",
       "</div>"
      ],
      "text/plain": [
       "                                                                                                                                                                  titulo_bolsa  valor_total\n",
       "1062025                                                                                                                                                       NÃO-ESPECIFICADO     36964.30\n",
       "1084877  Morfologia polinica da flora moderna e holocenica de Amacayacu (Amazonia Ocidental Colombia) e suas contribuicoes na evolucao da floresta Amazonica durante o Neogeno     65497.83\n",
       "1061367                                                                VARIACAO INTRA- E INTER-ESPECIFICA DE ANELIDEOS POLIQUETAS DA PROVINCIA BIOGEOGRAFICA MARINHA CARIBENHA     33851.27"
      ]
     },
     "execution_count": 241,
     "metadata": {},
     "output_type": "execute_result"
    }
   ],
   "source": [
    "cnpq[cnpq.pais_instituicao == \"Panamá\"][[\"titulo_bolsa\", \"valor_total\"]].sample(3)"
   ]
  },
  {
   "cell_type": "markdown",
   "metadata": {
    "deletable": true,
    "editable": true
   },
   "source": [
    "## coluna: pais_nascimento"
   ]
  },
  {
   "cell_type": "code",
   "execution_count": 243,
   "metadata": {
    "collapsed": false,
    "deletable": true,
    "editable": true
   },
   "outputs": [
    {
     "data": {
      "text/plain": [
       "count     2140823\n",
       "unique        155\n",
       "top        Brasil\n",
       "freq      2073653\n",
       "Name: pais_nascimento, dtype: object"
      ]
     },
     "execution_count": 243,
     "metadata": {},
     "output_type": "execute_result"
    }
   ],
   "source": [
    "cnpq.pais_nascimento.describe()"
   ]
  },
  {
   "cell_type": "code",
   "execution_count": 244,
   "metadata": {
    "collapsed": false,
    "deletable": true,
    "editable": true
   },
   "outputs": [
    {
     "data": {
      "text/plain": [
       "Brasil                 2073653\n",
       "Peru                      8728\n",
       "Colômbia                  8150\n",
       "Argentina                 6784\n",
       "Estados Unidos            3352\n",
       "Alemanha                  2516\n",
       "França                    2504\n",
       "Cuba                      2350\n",
       "Chile                     2215\n",
       "Itália                    2135\n",
       "Portugal                  2123\n",
       "Uruguai                   1843\n",
       "Moçambique                1585\n",
       "Espanha                   1470\n",
       "Rússia                    1359\n",
       "Inglaterra                1285\n",
       "Japão                     1160\n",
       "Índia                     1073\n",
       "Bolívia                   1030\n",
       "China                     1009\n",
       "Venezuela                  900\n",
       "Equador                    869\n",
       "Paraguai                   807\n",
       "México                     708\n",
       "Paquistão                  527\n",
       "Cabo Verde                 485\n",
       "Angola                     474\n",
       "Bélgica                    470\n",
       "Irã                        427\n",
       "Canadá                     421\n",
       "                        ...   \n",
       "Jamaica                      8\n",
       "Niger                        8\n",
       "Trinidad e Tobago            7\n",
       "Uganda                       6\n",
       "Guiana Francesa              6\n",
       "Bangladesh                   6\n",
       "Zimbabue                     6\n",
       "Bahamas                      6\n",
       "Brunei                       5\n",
       "Mauritânia                   5\n",
       "Barbados                     5\n",
       "Botsuana                     5\n",
       "Tailândia                    5\n",
       "Andorra                      4\n",
       "Iêmem                        4\n",
       "Ilhas Vírgens EUA            4\n",
       "Ilhas Vírgens GBR            4\n",
       "Guiné Equatorial             3\n",
       "Antartida                    3\n",
       "Maurício                     3\n",
       "Gales                        2\n",
       "Bósnia                       2\n",
       "Cingapura                    2\n",
       "Montserrat                   2\n",
       "Ilhas Santa Helena           1\n",
       "Luxemburgo                   1\n",
       "Britsh Indian Ocean          1\n",
       "Santa Lúcia                  1\n",
       "Serra Leoa                   1\n",
       "Guadalupe                    1\n",
       "Name: pais_nascimento, Length: 155, dtype: int64"
      ]
     },
     "execution_count": 244,
     "metadata": {},
     "output_type": "execute_result"
    }
   ],
   "source": [
    "cnpq.pais_nascimento.value_counts()"
   ]
  },
  {
   "cell_type": "code",
   "execution_count": 248,
   "metadata": {
    "collapsed": false,
    "deletable": true,
    "editable": true
   },
   "outputs": [
    {
     "data": {
      "text/html": [
       "<div>\n",
       "<style>\n",
       "    .dataframe thead tr:only-child th {\n",
       "        text-align: right;\n",
       "    }\n",
       "\n",
       "    .dataframe thead th {\n",
       "        text-align: left;\n",
       "    }\n",
       "\n",
       "    .dataframe tbody tr th {\n",
       "        vertical-align: top;\n",
       "    }\n",
       "</style>\n",
       "<table border=\"1\" class=\"dataframe\">\n",
       "  <thead>\n",
       "    <tr style=\"text-align: right;\">\n",
       "      <th></th>\n",
       "      <th>titulo_bolsa</th>\n",
       "      <th>valor_total</th>\n",
       "    </tr>\n",
       "  </thead>\n",
       "  <tbody>\n",
       "    <tr>\n",
       "      <th>1524062</th>\n",
       "      <td>DISTRIBUTION ORGANIZATION AND EVOLUTION OF CENTROMERIC CHROMATIN OF NOBLE SUGARCANE (SACCHARUM OFFICINARUM)</td>\n",
       "      <td>42000.0</td>\n",
       "    </tr>\n",
       "    <tr>\n",
       "      <th>1181492</th>\n",
       "      <td>Participacao de citocinas induzidas por componentes de alto peso molecular de Ascaris suum na sua atividade imunossupressora e na sintese de anticorpos anafilaticos</td>\n",
       "      <td>24468.4</td>\n",
       "    </tr>\n",
       "    <tr>\n",
       "      <th>1740262</th>\n",
       "      <td>Efeito da deficiencia de vitamina A no metabolismo de Ferro</td>\n",
       "      <td>10770.0</td>\n",
       "    </tr>\n",
       "  </tbody>\n",
       "</table>\n",
       "</div>"
      ],
      "text/plain": [
       "                                                                                                                                                                 titulo_bolsa  valor_total\n",
       "1524062                                                           DISTRIBUTION ORGANIZATION AND EVOLUTION OF CENTROMERIC CHROMATIN OF NOBLE SUGARCANE (SACCHARUM OFFICINARUM)      42000.0\n",
       "1181492  Participacao de citocinas induzidas por componentes de alto peso molecular de Ascaris suum na sua atividade imunossupressora e na sintese de anticorpos anafilaticos      24468.4\n",
       "1740262                                                                                                           Efeito da deficiencia de vitamina A no metabolismo de Ferro      10770.0"
      ]
     },
     "execution_count": 248,
     "metadata": {},
     "output_type": "execute_result"
    }
   ],
   "source": [
    "cnpq[cnpq.pais_nascimento == \"Irã\"][[\"titulo_bolsa\", \"valor_total\"]].sample(3)"
   ]
  },
  {
   "cell_type": "code",
   "execution_count": 252,
   "metadata": {
    "collapsed": false,
    "deletable": true,
    "editable": true
   },
   "outputs": [
    {
     "data": {
      "text/html": [
       "<div>\n",
       "<style>\n",
       "    .dataframe thead tr:only-child th {\n",
       "        text-align: right;\n",
       "    }\n",
       "\n",
       "    .dataframe thead th {\n",
       "        text-align: left;\n",
       "    }\n",
       "\n",
       "    .dataframe tbody tr th {\n",
       "        vertical-align: top;\n",
       "    }\n",
       "</style>\n",
       "<table border=\"1\" class=\"dataframe\">\n",
       "  <thead>\n",
       "    <tr style=\"text-align: right;\">\n",
       "      <th></th>\n",
       "      <th>titulo_bolsa</th>\n",
       "      <th>pais_nascimento</th>\n",
       "      <th>valor_total</th>\n",
       "    </tr>\n",
       "  </thead>\n",
       "  <tbody>\n",
       "    <tr>\n",
       "      <th>1084784</th>\n",
       "      <td>Factores de riscos incidencia e agravo do cancro do colo do utero em mulheres na fase reprodutiva</td>\n",
       "      <td>Moçambique</td>\n",
       "      <td>18000.00</td>\n",
       "    </tr>\n",
       "    <tr>\n",
       "      <th>1063191</th>\n",
       "      <td>Hiperbolicidade nao-uniforme: centralizadores e cociclos</td>\n",
       "      <td>Portugal</td>\n",
       "      <td>55157.03</td>\n",
       "    </tr>\n",
       "    <tr>\n",
       "      <th>1092220</th>\n",
       "      <td>Movimentos de reforma psiquiatrica e seus usos dos processos de comunicacao: um estudo comparativo</td>\n",
       "      <td>Inglaterra</td>\n",
       "      <td>11004.00</td>\n",
       "    </tr>\n",
       "  </tbody>\n",
       "</table>\n",
       "</div>"
      ],
      "text/plain": [
       "                                                                                               titulo_bolsa pais_nascimento  valor_total\n",
       "1084784   Factores de riscos incidencia e agravo do cancro do colo do utero em mulheres na fase reprodutiva      Moçambique     18000.00\n",
       "1063191                                            Hiperbolicidade nao-uniforme: centralizadores e cociclos        Portugal     55157.03\n",
       "1092220  Movimentos de reforma psiquiatrica e seus usos dos processos de comunicacao: um estudo comparativo      Inglaterra     11004.00"
      ]
     },
     "execution_count": 252,
     "metadata": {},
     "output_type": "execute_result"
    }
   ],
   "source": [
    "# voltei para minha terra!\n",
    "cnpq[(cnpq.pais_nascimento == cnpq.pais_instituicao) & (cnpq.pais_nascimento != \"Brasil\")]\\\n",
    "[[\"titulo_bolsa\", \"pais_nascimento\", \"valor_total\"]].sample(3)"
   ]
  },
  {
   "cell_type": "code",
   "execution_count": 253,
   "metadata": {
    "collapsed": false,
    "deletable": true,
    "editable": true
   },
   "outputs": [
    {
     "data": {
      "text/plain": [
       "Index(['ano', 'codigo', 'id_bolsista', 'qtd_bolsa_ano', 'qtd_meses_pagos', 'sexo', 'uf_instituicao', 'valor_total', 'curso', 'area_conhecimento', 'especialidade', 'sub_area_conhecimento', 'grande_area_conhecimento', 'pais_instituicao', 'pais_nascimento', 'titulo_bolsa', 'sigla_instituicao', 'modalidade', 'nome', 'natureza_juridica', 'codigo_pt1', 'codigo_pt2', 'codigo_pt3'], dtype='object')"
      ]
     },
     "execution_count": 253,
     "metadata": {},
     "output_type": "execute_result"
    }
   ],
   "source": [
    "cnpq.columns"
   ]
  },
  {
   "cell_type": "markdown",
   "metadata": {
    "deletable": true,
    "editable": true
   },
   "source": [
    "## coluna: titulo_bolsa"
   ]
  },
  {
   "cell_type": "code",
   "execution_count": 254,
   "metadata": {
    "collapsed": false,
    "deletable": true,
    "editable": true
   },
   "outputs": [
    {
     "data": {
      "text/plain": [
       "count              2140814\n",
       "unique              506659\n",
       "top       NÃO-ESPECIFICADO\n",
       "freq                250882\n",
       "Name: titulo_bolsa, dtype: object"
      ]
     },
     "execution_count": 254,
     "metadata": {},
     "output_type": "execute_result"
    }
   ],
   "source": [
    "cnpq.titulo_bolsa.describe()"
   ]
  },
  {
   "cell_type": "code",
   "execution_count": 257,
   "metadata": {
    "collapsed": false,
    "deletable": true,
    "editable": true
   },
   "outputs": [
    {
     "data": {
      "text/plain": [
       "1321     Transformacoes juridicas das relacoes privadas: a construcao de marcos regulatorios e a revisao de categorias tradicionais do Direito como condicao de possibilidade para atender os desafios das mutacoes juridicas contemporaneas geradas pelas novas tecnolo\n",
       "2908     Estudo da adesividade de diferentes tipos de cimento obturador endodontico utilizando diferentes metodologias e tratamentos da superficie dentinaria.Contribuicao para o entendimento do papel desta propriedade fisico-quimica no resultado final da obturacao\n",
       "8009     Estudo para o desenvolvimento de metodologias para estimar o tempo de vida e efeito do envelhecimento termico em componentes polimericos utilizando analises termicas e mecanicas e validacao de calculos estruturais mecanicos atraves da caracterizacao do fe\n",
       "13311    Nanotoxicologia ocupacional e ambiental de nanomateriais organicos e inorganicos utilizados em nanotecnologias: em busca de pressupostos cientificos para a criacao dos marcos regulatorios e de metodologia cientifico-socialmente adequada a avaliacao dos ri\n",
       "18323    Dever de protecao estatal e proibicao e protecao insuficiente como criterios para o controle jurisdicional (qualitativo) de politicas publicas: possibilidades teoricas e analise critica de sua utilizacao pelo STF e pela Corte Interamericana de Dir Humanos\n",
       "20701    Fatores associados aos casos de transmissao vertical do HIV remanescentes apesar das medidas de prevencao de transmissao mae-filho em lactentes acompanhadas no Servico de Atendimento Especializado do Instituto de Medicina Integral Professor Fernando Figue\n",
       "23408    Implementacao e estruturacao do Nucleo de Inovacao Tecnologica do Instituto de Tecnologia de Pernambuco-ITEP: desenvolvimento de boas praticas para protecao e transferencia de tecnologia objetivando o desenvolvimento institucional e estadual na area da PI\n",
       "23545    ...............................................................................................................................................................................................................................................................\n",
       "32221    Implementacao de metodologias de especiacao nos laboratorios dos grupos de pesquisa em espectrometria atomica e de massa e de pesquisas em cromatografica e espectrometria atomica do departamento de quimica da ufsc: aplicacao a especies de arsenio e mercur\n",
       "33046    ESTUDOS DE EMBRIOGENESE COMO SUBSIDIOS PARA ESTRATEGIAS DE REPRODUCAO E PRESERVACAO DE ESPECIES ARBOREAS: SUBPROJETO EMBRIOGENESE SOMATIA EM OCOTEA CATHARINENSIS MEZ. (LAURACEAE): CONSERVACAO IN VITRO DE EMBRIOES SOMATICOS E PRODUCAO DE METABOLITOS SECUND\n",
       "dtype: object"
      ]
     },
     "execution_count": 257,
     "metadata": {},
     "output_type": "execute_result"
    }
   ],
   "source": [
    "titulos = pd.Series(cnpq.titulo_bolsa.unique())\n",
    "\n",
    "maiores_titulos = titulos[titulos.str.len().nlargest(10).index]\n",
    "\n",
    "maiores_titulos"
   ]
  },
  {
   "cell_type": "code",
   "execution_count": 258,
   "metadata": {
    "collapsed": true,
    "deletable": true,
    "editable": true
   },
   "outputs": [],
   "source": [
    "# TODO: análise de frequência de termos não stop words\n",
    "# TODO: fazer uma matriz de busca por termos"
   ]
  },
  {
   "cell_type": "code",
   "execution_count": null,
   "metadata": {
    "collapsed": true,
    "deletable": true,
    "editable": true
   },
   "outputs": [],
   "source": []
  },
  {
   "cell_type": "code",
   "execution_count": null,
   "metadata": {
    "collapsed": true,
    "deletable": true,
    "editable": true
   },
   "outputs": [],
   "source": []
  },
  {
   "cell_type": "markdown",
   "metadata": {
    "deletable": true,
    "editable": true
   },
   "source": [
    "# Descrição"
   ]
  },
  {
   "cell_type": "code",
   "execution_count": 32,
   "metadata": {
    "collapsed": false,
    "deletable": true,
    "editable": true
   },
   "outputs": [
    {
     "data": {
      "text/html": [
       "<div>\n",
       "<style>\n",
       "    .dataframe thead tr:only-child th {\n",
       "        text-align: right;\n",
       "    }\n",
       "\n",
       "    .dataframe thead th {\n",
       "        text-align: left;\n",
       "    }\n",
       "\n",
       "    .dataframe tbody tr th {\n",
       "        vertical-align: top;\n",
       "    }\n",
       "</style>\n",
       "<table border=\"1\" class=\"dataframe\">\n",
       "  <thead>\n",
       "    <tr style=\"text-align: right;\">\n",
       "      <th></th>\n",
       "      <th>count</th>\n",
       "      <th>mean</th>\n",
       "      <th>std</th>\n",
       "      <th>min</th>\n",
       "      <th>25%</th>\n",
       "      <th>50%</th>\n",
       "      <th>75%</th>\n",
       "      <th>max</th>\n",
       "    </tr>\n",
       "  </thead>\n",
       "  <tbody>\n",
       "    <tr>\n",
       "      <th>ANO-PAGAMENTO</th>\n",
       "      <td>2140823.0</td>\n",
       "      <td>2010.262294</td>\n",
       "      <td>4.528404</td>\n",
       "      <td>2001.00</td>\n",
       "      <td>2007.00</td>\n",
       "      <td>2011.00</td>\n",
       "      <td>2014.00</td>\n",
       "      <td>2017.00</td>\n",
       "    </tr>\n",
       "    <tr>\n",
       "      <th>QUANTIDADE-BOLSA-ANO</th>\n",
       "      <td>2140823.0</td>\n",
       "      <td>0.564604</td>\n",
       "      <td>0.307004</td>\n",
       "      <td>0.01</td>\n",
       "      <td>0.33</td>\n",
       "      <td>0.58</td>\n",
       "      <td>0.83</td>\n",
       "      <td>28.85</td>\n",
       "    </tr>\n",
       "    <tr>\n",
       "      <th>QUANTIDADE-MESES-PAGOS</th>\n",
       "      <td>2140823.0</td>\n",
       "      <td>6.409418</td>\n",
       "      <td>3.669190</td>\n",
       "      <td>0.06</td>\n",
       "      <td>3.90</td>\n",
       "      <td>6.00</td>\n",
       "      <td>10.00</td>\n",
       "      <td>346.15</td>\n",
       "    </tr>\n",
       "    <tr>\n",
       "      <th>VALOR-PAGO</th>\n",
       "      <td>2140823.0</td>\n",
       "      <td>7688.285373</td>\n",
       "      <td>11438.457434</td>\n",
       "      <td>0.01</td>\n",
       "      <td>1500.00</td>\n",
       "      <td>2594.00</td>\n",
       "      <td>10736.00</td>\n",
       "      <td>1523861.58</td>\n",
       "    </tr>\n",
       "  </tbody>\n",
       "</table>\n",
       "</div>"
      ],
      "text/plain": [
       "                            count         mean           std      min  \\\n",
       "ANO-PAGAMENTO           2140823.0  2010.262294      4.528404  2001.00   \n",
       "QUANTIDADE-BOLSA-ANO    2140823.0     0.564604      0.307004     0.01   \n",
       "QUANTIDADE-MESES-PAGOS  2140823.0     6.409418      3.669190     0.06   \n",
       "VALOR-PAGO              2140823.0  7688.285373  11438.457434     0.01   \n",
       "\n",
       "                            25%      50%       75%         max  \n",
       "ANO-PAGAMENTO           2007.00  2011.00   2014.00     2017.00  \n",
       "QUANTIDADE-BOLSA-ANO       0.33     0.58      0.83       28.85  \n",
       "QUANTIDADE-MESES-PAGOS     3.90     6.00     10.00      346.15  \n",
       "VALOR-PAGO              1500.00  2594.00  10736.00  1523861.58  "
      ]
     },
     "execution_count": 32,
     "metadata": {},
     "output_type": "execute_result"
    }
   ],
   "source": [
    "cnpq.describe().T"
   ]
  },
  {
   "cell_type": "code",
   "execution_count": 42,
   "metadata": {
    "collapsed": false,
    "deletable": true,
    "editable": true
   },
   "outputs": [
    {
     "data": {
      "text/html": [
       "<div>\n",
       "<style>\n",
       "    .dataframe thead tr:only-child th {\n",
       "        text-align: right;\n",
       "    }\n",
       "\n",
       "    .dataframe thead th {\n",
       "        text-align: left;\n",
       "    }\n",
       "\n",
       "    .dataframe tbody tr th {\n",
       "        vertical-align: top;\n",
       "    }\n",
       "</style>\n",
       "<table border=\"1\" class=\"dataframe\">\n",
       "  <thead>\n",
       "    <tr style=\"text-align: right;\">\n",
       "      <th></th>\n",
       "      <th>MODALIDADE-DO-PROCESSO</th>\n",
       "      <th>PAIS-INSTITUICAO</th>\n",
       "      <th>ANO-PAGAMENTO</th>\n",
       "      <th>QUANTIDADE-MESES-PAGOS</th>\n",
       "      <th>VALOR-PAGO</th>\n",
       "    </tr>\n",
       "  </thead>\n",
       "  <tbody>\n",
       "    <tr>\n",
       "      <th>2076147</th>\n",
       "      <td>Doutorado no Exterior</td>\n",
       "      <td>Dinamarca</td>\n",
       "      <td>2015</td>\n",
       "      <td>6.00</td>\n",
       "      <td>1523861.58</td>\n",
       "    </tr>\n",
       "    <tr>\n",
       "      <th>2076127</th>\n",
       "      <td>Doutorado no Exterior</td>\n",
       "      <td>Dinamarca</td>\n",
       "      <td>2015</td>\n",
       "      <td>10.05</td>\n",
       "      <td>1514439.75</td>\n",
       "    </tr>\n",
       "    <tr>\n",
       "      <th>792435</th>\n",
       "      <td>Doutorado no Exterior</td>\n",
       "      <td>Dinamarca</td>\n",
       "      <td>2015</td>\n",
       "      <td>10.48</td>\n",
       "      <td>1506133.00</td>\n",
       "    </tr>\n",
       "    <tr>\n",
       "      <th>934476</th>\n",
       "      <td>Pós-Doutorado no Exterior</td>\n",
       "      <td>Dinamarca</td>\n",
       "      <td>2015</td>\n",
       "      <td>7.14</td>\n",
       "      <td>1087927.84</td>\n",
       "    </tr>\n",
       "    <tr>\n",
       "      <th>1739315</th>\n",
       "      <td>Doutorado Sanduíche no Exterior</td>\n",
       "      <td>Dinamarca</td>\n",
       "      <td>2015</td>\n",
       "      <td>5.24</td>\n",
       "      <td>622408.73</td>\n",
       "    </tr>\n",
       "    <tr>\n",
       "      <th>2139672</th>\n",
       "      <td>Pós-Doutorado no Exterior</td>\n",
       "      <td>Suécia</td>\n",
       "      <td>2003</td>\n",
       "      <td>3.00</td>\n",
       "      <td>446813.87</td>\n",
       "    </tr>\n",
       "    <tr>\n",
       "      <th>2074536</th>\n",
       "      <td>Doutorado no Exterior</td>\n",
       "      <td>Inglaterra</td>\n",
       "      <td>2002</td>\n",
       "      <td>3.00</td>\n",
       "      <td>360339.59</td>\n",
       "    </tr>\n",
       "    <tr>\n",
       "      <th>832872</th>\n",
       "      <td>Doutorado no Exterior</td>\n",
       "      <td>Inglaterra</td>\n",
       "      <td>2016</td>\n",
       "      <td>11.00</td>\n",
       "      <td>344595.50</td>\n",
       "    </tr>\n",
       "    <tr>\n",
       "      <th>551719</th>\n",
       "      <td>Doutorado no Exterior</td>\n",
       "      <td>Estados Unidos</td>\n",
       "      <td>2015</td>\n",
       "      <td>15.72</td>\n",
       "      <td>335273.16</td>\n",
       "    </tr>\n",
       "    <tr>\n",
       "      <th>1849838</th>\n",
       "      <td>Doutorado no Exterior</td>\n",
       "      <td>Inglaterra</td>\n",
       "      <td>2016</td>\n",
       "      <td>11.00</td>\n",
       "      <td>325955.63</td>\n",
       "    </tr>\n",
       "  </tbody>\n",
       "</table>\n",
       "</div>"
      ],
      "text/plain": [
       "                  MODALIDADE-DO-PROCESSO PAIS-INSTITUICAO  ANO-PAGAMENTO  \\\n",
       "2076147            Doutorado no Exterior        Dinamarca           2015   \n",
       "2076127            Doutorado no Exterior        Dinamarca           2015   \n",
       "792435             Doutorado no Exterior        Dinamarca           2015   \n",
       "934476         Pós-Doutorado no Exterior        Dinamarca           2015   \n",
       "1739315  Doutorado Sanduíche no Exterior        Dinamarca           2015   \n",
       "2139672        Pós-Doutorado no Exterior           Suécia           2003   \n",
       "2074536            Doutorado no Exterior       Inglaterra           2002   \n",
       "832872             Doutorado no Exterior       Inglaterra           2016   \n",
       "551719             Doutorado no Exterior   Estados Unidos           2015   \n",
       "1849838            Doutorado no Exterior       Inglaterra           2016   \n",
       "\n",
       "         QUANTIDADE-MESES-PAGOS  VALOR-PAGO  \n",
       "2076147                    6.00  1523861.58  \n",
       "2076127                   10.05  1514439.75  \n",
       "792435                    10.48  1506133.00  \n",
       "934476                     7.14  1087927.84  \n",
       "1739315                    5.24   622408.73  \n",
       "2139672                    3.00   446813.87  \n",
       "2074536                    3.00   360339.59  \n",
       "832872                    11.00   344595.50  \n",
       "551719                    15.72   335273.16  \n",
       "1849838                   11.00   325955.63  "
      ]
     },
     "execution_count": 42,
     "metadata": {},
     "output_type": "execute_result"
    }
   ],
   "source": [
    "cnpq.nlargest(10, 'VALOR-PAGO')[['MODALIDADE-DO-PROCESSO', 'PAIS-INSTITUICAO', 'ANO-PAGAMENTO', \n",
    "                                 'QUANTIDADE-MESES-PAGOS', 'VALOR-PAGO']]"
   ]
  },
  {
   "cell_type": "code",
   "execution_count": null,
   "metadata": {
    "collapsed": true,
    "deletable": true,
    "editable": true
   },
   "outputs": [],
   "source": []
  },
  {
   "cell_type": "code",
   "execution_count": null,
   "metadata": {
    "collapsed": true,
    "deletable": true,
    "editable": true
   },
   "outputs": [],
   "source": []
  },
  {
   "cell_type": "markdown",
   "metadata": {
    "deletable": true,
    "editable": true
   },
   "source": [
    "# Bolsas por ANO-PAGAMENTO"
   ]
  },
  {
   "cell_type": "markdown",
   "metadata": {
    "deletable": true,
    "editable": true
   },
   "source": [
    "#### Quantidade de processos"
   ]
  },
  {
   "cell_type": "code",
   "execution_count": 26,
   "metadata": {
    "collapsed": false,
    "deletable": true,
    "editable": true
   },
   "outputs": [
    {
     "data": {
      "image/png": "[encoded data removed]",
      "text/plain": [
       "<matplotlib.figure.Figure at 0x7fb8dc57bf28>"
      ]
     },
     "metadata": {},
     "output_type": "display_data"
    }
   ],
   "source": [
    "# coluna ANO-PAGAMENTO\n",
    "# group by count\n",
    "# order by index\n",
    "# plot kind=bar\n",
    "cnpq['ANO-PAGAMENTO'].\\\n",
    "value_counts().\\\n",
    "sort_index().\\\n",
    "plot('bar', figsize=(10, 5)); \n",
    "# obs: o que há aqui é quantidade de registros(processos de bolsa)"
   ]
  },
  {
   "cell_type": "markdown",
   "metadata": {
    "deletable": true,
    "editable": true
   },
   "source": [
    "#### Quantidade de pagamentos mensais"
   ]
  },
  {
   "cell_type": "code",
   "execution_count": 27,
   "metadata": {
    "collapsed": false,
    "deletable": true,
    "editable": true
   },
   "outputs": [
    {
     "data": {
      "text/plain": [
       "<matplotlib.axes._subplots.AxesSubplot at 0x7fb8dc4bc748>"
      ]
     },
     "execution_count": 27,
     "metadata": {},
     "output_type": "execute_result"
    },
    {
     "data": {
      "image/png": "[encoded data removed]",
      "text/plain": [
       "<matplotlib.figure.Figure at 0x7fb8dc482ef0>"
      ]
     },
     "metadata": {},
     "output_type": "display_data"
    }
   ],
   "source": [
    "cnpq.\\\n",
    "groupby(\"ANO-PAGAMENTO\")\\\n",
    "[\"QUANTIDADE-MESES-PAGOS\"].\\\n",
    "sum().\\\n",
    "sort_index().\\\n",
    "plot('bar', figsize=(10, 5))"
   ]
  },
  {
   "cell_type": "markdown",
   "metadata": {
    "deletable": true,
    "editable": true
   },
   "source": [
    "#### Soma dos valores pagos"
   ]
  },
  {
   "cell_type": "code",
   "execution_count": 28,
   "metadata": {
    "collapsed": false,
    "deletable": true,
    "editable": true
   },
   "outputs": [
    {
     "data": {
      "text/plain": [
       "<matplotlib.axes._subplots.AxesSubplot at 0x7fb8dc4b55c0>"
      ]
     },
     "execution_count": 28,
     "metadata": {},
     "output_type": "execute_result"
    },
    {
     "data": {
      "image/png": "[encoded data removed]",
      "text/plain": [
       "<matplotlib.figure.Figure at 0x7fb8dc3e20f0>"
      ]
     },
     "metadata": {},
     "output_type": "display_data"
    }
   ],
   "source": [
    "cnpq.\\\n",
    "groupby(\"ANO-PAGAMENTO\")\\\n",
    "[\"VALOR-PAGO\"].\\\n",
    "sum().\\\n",
    "sort_index().\\\n",
    "plot('bar', figsize=(10, 5))"
   ]
  },
  {
   "cell_type": "markdown",
   "metadata": {
    "deletable": true,
    "editable": true
   },
   "source": [
    "#### Maior valor pago"
   ]
  },
  {
   "cell_type": "code",
   "execution_count": 33,
   "metadata": {
    "collapsed": false,
    "deletable": true,
    "editable": true
   },
   "outputs": [
    {
     "data": {
      "text/html": [
       "<div>\n",
       "<style>\n",
       "    .dataframe thead tr:only-child th {\n",
       "        text-align: right;\n",
       "    }\n",
       "\n",
       "    .dataframe thead th {\n",
       "        text-align: left;\n",
       "    }\n",
       "\n",
       "    .dataframe tbody tr th {\n",
       "        vertical-align: top;\n",
       "    }\n",
       "</style>\n",
       "<table border=\"1\" class=\"dataframe\">\n",
       "  <thead>\n",
       "    <tr style=\"text-align: right;\">\n",
       "      <th></th>\n",
       "      <th>count</th>\n",
       "      <th>mean</th>\n",
       "      <th>std</th>\n",
       "      <th>min</th>\n",
       "      <th>25%</th>\n",
       "      <th>50%</th>\n",
       "      <th>75%</th>\n",
       "      <th>max</th>\n",
       "    </tr>\n",
       "    <tr>\n",
       "      <th>ANO-PAGAMENTO</th>\n",
       "      <th></th>\n",
       "      <th></th>\n",
       "      <th></th>\n",
       "      <th></th>\n",
       "      <th></th>\n",
       "      <th></th>\n",
       "      <th></th>\n",
       "      <th></th>\n",
       "    </tr>\n",
       "  </thead>\n",
       "  <tbody>\n",
       "    <tr>\n",
       "      <th>2001</th>\n",
       "      <td>77228.0</td>\n",
       "      <td>5237.173664</td>\n",
       "      <td>6977.324526</td>\n",
       "      <td>161.00</td>\n",
       "      <td>1207.55</td>\n",
       "      <td>2145.78</td>\n",
       "      <td>7543.13</td>\n",
       "      <td>133686.80</td>\n",
       "    </tr>\n",
       "    <tr>\n",
       "      <th>2002</th>\n",
       "      <td>75608.0</td>\n",
       "      <td>5831.662308</td>\n",
       "      <td>8713.666406</td>\n",
       "      <td>161.00</td>\n",
       "      <td>1449.06</td>\n",
       "      <td>2800.00</td>\n",
       "      <td>8694.24</td>\n",
       "      <td>360339.59</td>\n",
       "    </tr>\n",
       "    <tr>\n",
       "      <th>2003</th>\n",
       "      <td>81328.0</td>\n",
       "      <td>5941.446799</td>\n",
       "      <td>8497.065095</td>\n",
       "      <td>1.00</td>\n",
       "      <td>1449.04</td>\n",
       "      <td>2415.10</td>\n",
       "      <td>8240.40</td>\n",
       "      <td>446813.87</td>\n",
       "    </tr>\n",
       "    <tr>\n",
       "      <th>2004</th>\n",
       "      <td>89195.0</td>\n",
       "      <td>6292.276913</td>\n",
       "      <td>8511.370345</td>\n",
       "      <td>3.34</td>\n",
       "      <td>1207.55</td>\n",
       "      <td>2415.10</td>\n",
       "      <td>8874.20</td>\n",
       "      <td>246515.45</td>\n",
       "    </tr>\n",
       "    <tr>\n",
       "      <th>2005</th>\n",
       "      <td>86987.0</td>\n",
       "      <td>6666.727417</td>\n",
       "      <td>8272.206142</td>\n",
       "      <td>116.99</td>\n",
       "      <td>1500.00</td>\n",
       "      <td>3190.57</td>\n",
       "      <td>9405.00</td>\n",
       "      <td>207310.78</td>\n",
       "    </tr>\n",
       "    <tr>\n",
       "      <th>2006</th>\n",
       "      <td>92695.0</td>\n",
       "      <td>7072.944347</td>\n",
       "      <td>8263.181325</td>\n",
       "      <td>161.00</td>\n",
       "      <td>1500.00</td>\n",
       "      <td>3300.00</td>\n",
       "      <td>10770.00</td>\n",
       "      <td>131517.44</td>\n",
       "    </tr>\n",
       "    <tr>\n",
       "      <th>2007</th>\n",
       "      <td>99704.0</td>\n",
       "      <td>7024.908742</td>\n",
       "      <td>8336.133548</td>\n",
       "      <td>44.00</td>\n",
       "      <td>1500.00</td>\n",
       "      <td>2820.00</td>\n",
       "      <td>9900.00</td>\n",
       "      <td>130198.43</td>\n",
       "    </tr>\n",
       "    <tr>\n",
       "      <th>2008</th>\n",
       "      <td>108527.0</td>\n",
       "      <td>7016.198125</td>\n",
       "      <td>8596.003693</td>\n",
       "      <td>100.00</td>\n",
       "      <td>1500.00</td>\n",
       "      <td>2100.00</td>\n",
       "      <td>10970.00</td>\n",
       "      <td>137418.69</td>\n",
       "    </tr>\n",
       "    <tr>\n",
       "      <th>2009</th>\n",
       "      <td>121040.0</td>\n",
       "      <td>7162.511278</td>\n",
       "      <td>8739.049094</td>\n",
       "      <td>66.00</td>\n",
       "      <td>1500.00</td>\n",
       "      <td>2400.00</td>\n",
       "      <td>11414.36</td>\n",
       "      <td>108392.96</td>\n",
       "    </tr>\n",
       "    <tr>\n",
       "      <th>2010</th>\n",
       "      <td>147133.0</td>\n",
       "      <td>6695.895383</td>\n",
       "      <td>8504.833855</td>\n",
       "      <td>60.00</td>\n",
       "      <td>1800.00</td>\n",
       "      <td>2400.00</td>\n",
       "      <td>10800.00</td>\n",
       "      <td>153380.19</td>\n",
       "    </tr>\n",
       "    <tr>\n",
       "      <th>2011</th>\n",
       "      <td>162546.0</td>\n",
       "      <td>6859.962141</td>\n",
       "      <td>8757.287964</td>\n",
       "      <td>100.00</td>\n",
       "      <td>1800.00</td>\n",
       "      <td>2520.00</td>\n",
       "      <td>10934.35</td>\n",
       "      <td>132000.00</td>\n",
       "    </tr>\n",
       "    <tr>\n",
       "      <th>2012</th>\n",
       "      <td>172976.0</td>\n",
       "      <td>7726.763420</td>\n",
       "      <td>10251.437447</td>\n",
       "      <td>47.00</td>\n",
       "      <td>1840.00</td>\n",
       "      <td>2560.00</td>\n",
       "      <td>12900.00</td>\n",
       "      <td>252000.00</td>\n",
       "    </tr>\n",
       "    <tr>\n",
       "      <th>2013</th>\n",
       "      <td>184983.0</td>\n",
       "      <td>8946.272199</td>\n",
       "      <td>12363.516052</td>\n",
       "      <td>100.00</td>\n",
       "      <td>2000.00</td>\n",
       "      <td>2800.00</td>\n",
       "      <td>13200.00</td>\n",
       "      <td>225871.97</td>\n",
       "    </tr>\n",
       "    <tr>\n",
       "      <th>2014</th>\n",
       "      <td>193780.0</td>\n",
       "      <td>10104.442484</td>\n",
       "      <td>14430.978459</td>\n",
       "      <td>25.51</td>\n",
       "      <td>2000.00</td>\n",
       "      <td>2800.00</td>\n",
       "      <td>15000.00</td>\n",
       "      <td>230287.53</td>\n",
       "    </tr>\n",
       "    <tr>\n",
       "      <th>2015</th>\n",
       "      <td>195966.0</td>\n",
       "      <td>10465.111374</td>\n",
       "      <td>16860.113227</td>\n",
       "      <td>59.63</td>\n",
       "      <td>2000.00</td>\n",
       "      <td>2800.00</td>\n",
       "      <td>13950.00</td>\n",
       "      <td>1523861.58</td>\n",
       "    </tr>\n",
       "    <tr>\n",
       "      <th>2016</th>\n",
       "      <td>167459.0</td>\n",
       "      <td>10088.367690</td>\n",
       "      <td>16799.389564</td>\n",
       "      <td>0.01</td>\n",
       "      <td>1500.00</td>\n",
       "      <td>2800.00</td>\n",
       "      <td>13200.00</td>\n",
       "      <td>344595.50</td>\n",
       "    </tr>\n",
       "    <tr>\n",
       "      <th>2017</th>\n",
       "      <td>83668.0</td>\n",
       "      <td>2571.466269</td>\n",
       "      <td>3733.794299</td>\n",
       "      <td>100.00</td>\n",
       "      <td>800.00</td>\n",
       "      <td>800.00</td>\n",
       "      <td>4400.00</td>\n",
       "      <td>131850.37</td>\n",
       "    </tr>\n",
       "  </tbody>\n",
       "</table>\n",
       "</div>"
      ],
      "text/plain": [
       "                  count          mean           std     min      25%      50%  \\\n",
       "ANO-PAGAMENTO                                                                   \n",
       "2001            77228.0   5237.173664   6977.324526  161.00  1207.55  2145.78   \n",
       "2002            75608.0   5831.662308   8713.666406  161.00  1449.06  2800.00   \n",
       "2003            81328.0   5941.446799   8497.065095    1.00  1449.04  2415.10   \n",
       "2004            89195.0   6292.276913   8511.370345    3.34  1207.55  2415.10   \n",
       "2005            86987.0   6666.727417   8272.206142  116.99  1500.00  3190.57   \n",
       "2006            92695.0   7072.944347   8263.181325  161.00  1500.00  3300.00   \n",
       "2007            99704.0   7024.908742   8336.133548   44.00  1500.00  2820.00   \n",
       "2008           108527.0   7016.198125   8596.003693  100.00  1500.00  2100.00   \n",
       "2009           121040.0   7162.511278   8739.049094   66.00  1500.00  2400.00   \n",
       "2010           147133.0   6695.895383   8504.833855   60.00  1800.00  2400.00   \n",
       "2011           162546.0   6859.962141   8757.287964  100.00  1800.00  2520.00   \n",
       "2012           172976.0   7726.763420  10251.437447   47.00  1840.00  2560.00   \n",
       "2013           184983.0   8946.272199  12363.516052  100.00  2000.00  2800.00   \n",
       "2014           193780.0  10104.442484  14430.978459   25.51  2000.00  2800.00   \n",
       "2015           195966.0  10465.111374  16860.113227   59.63  2000.00  2800.00   \n",
       "2016           167459.0  10088.367690  16799.389564    0.01  1500.00  2800.00   \n",
       "2017            83668.0   2571.466269   3733.794299  100.00   800.00   800.00   \n",
       "\n",
       "                    75%         max  \n",
       "ANO-PAGAMENTO                        \n",
       "2001            7543.13   133686.80  \n",
       "2002            8694.24   360339.59  \n",
       "2003            8240.40   446813.87  \n",
       "2004            8874.20   246515.45  \n",
       "2005            9405.00   207310.78  \n",
       "2006           10770.00   131517.44  \n",
       "2007            9900.00   130198.43  \n",
       "2008           10970.00   137418.69  \n",
       "2009           11414.36   108392.96  \n",
       "2010           10800.00   153380.19  \n",
       "2011           10934.35   132000.00  \n",
       "2012           12900.00   252000.00  \n",
       "2013           13200.00   225871.97  \n",
       "2014           15000.00   230287.53  \n",
       "2015           13950.00  1523861.58  \n",
       "2016           13200.00   344595.50  \n",
       "2017            4400.00   131850.37  "
      ]
     },
     "execution_count": 33,
     "metadata": {},
     "output_type": "execute_result"
    }
   ],
   "source": [
    "cnpq.\\\n",
    "groupby(\"ANO-PAGAMENTO\")\\\n",
    "[\"VALOR-PAGO\"].\\\n",
    "describe()"
   ]
  },
  {
   "cell_type": "code",
   "execution_count": null,
   "metadata": {
    "collapsed": true,
    "deletable": true,
    "editable": true
   },
   "outputs": [],
   "source": []
  },
  {
   "cell_type": "code",
   "execution_count": null,
   "metadata": {
    "collapsed": true,
    "deletable": true,
    "editable": true
   },
   "outputs": [],
   "source": []
  },
  {
   "cell_type": "code",
   "execution_count": null,
   "metadata": {
    "collapsed": true,
    "deletable": true,
    "editable": true
   },
   "outputs": [],
   "source": []
  },
  {
   "cell_type": "code",
   "execution_count": null,
   "metadata": {
    "collapsed": true,
    "deletable": true,
    "editable": true
   },
   "outputs": [],
   "source": []
  },
  {
   "cell_type": "code",
   "execution_count": null,
   "metadata": {
    "collapsed": true,
    "deletable": true,
    "editable": true
   },
   "outputs": [],
   "source": []
  },
  {
   "cell_type": "code",
   "execution_count": null,
   "metadata": {
    "collapsed": true,
    "deletable": true,
    "editable": true
   },
   "outputs": [],
   "source": []
  },
  {
   "cell_type": "code",
   "execution_count": null,
   "metadata": {
    "collapsed": true,
    "deletable": true,
    "editable": true
   },
   "outputs": [],
   "source": []
  },
  {
   "cell_type": "code",
   "execution_count": null,
   "metadata": {
    "collapsed": true,
    "deletable": true,
    "editable": true
   },
   "outputs": [],
   "source": []
  },
  {
   "cell_type": "code",
   "execution_count": null,
   "metadata": {
    "collapsed": true,
    "deletable": true,
    "editable": true
   },
   "outputs": [],
   "source": []
  },
  {
   "cell_type": "code",
   "execution_count": null,
   "metadata": {
    "collapsed": true,
    "deletable": true,
    "editable": true
   },
   "outputs": [],
   "source": []
  },
  {
   "cell_type": "code",
   "execution_count": null,
   "metadata": {
    "collapsed": true,
    "deletable": true,
    "editable": true
   },
   "outputs": [],
   "source": []
  },
  {
   "cell_type": "code",
   "execution_count": null,
   "metadata": {
    "collapsed": true,
    "deletable": true,
    "editable": true
   },
   "outputs": [],
   "source": []
  },
  {
   "cell_type": "code",
   "execution_count": null,
   "metadata": {
    "collapsed": true,
    "deletable": true,
    "editable": true
   },
   "outputs": [],
   "source": []
  },
  {
   "cell_type": "code",
   "execution_count": null,
   "metadata": {
    "collapsed": true,
    "deletable": true,
    "editable": true
   },
   "outputs": [],
   "source": []
  },
  {
   "cell_type": "code",
   "execution_count": null,
   "metadata": {
    "collapsed": true,
    "deletable": true,
    "editable": true
   },
   "outputs": [],
   "source": []
  },
  {
   "cell_type": "code",
   "execution_count": null,
   "metadata": {
    "collapsed": true,
    "deletable": true,
    "editable": true
   },
   "outputs": [],
   "source": []
  },
  {
   "cell_type": "markdown",
   "metadata": {
    "deletable": true,
    "editable": true
   },
   "source": [
    "# Identificando grande area do conhecimento"
   ]
  },
  {
   "cell_type": "code",
   "execution_count": 10,
   "metadata": {
    "collapsed": false,
    "deletable": true,
    "editable": true
   },
   "outputs": [],
   "source": [
    "from sklearn.feature_extraction.text import TfidfVectorizer\n",
    "from sklearn.preprocessing import LabelEncoder\n",
    "from sklearn.neighbors import KNeighborsClassifier\n",
    "from sklearn.model_selection import StratifiedKFold\n",
    "from sklearn.model_selection import GridSearchCV\n",
    "from sklearn.metrics import classification_report\n",
    "from sklearn.cross_validation import train_test_split\n",
    "import nltk"
   ]
  },
  {
   "cell_type": "code",
   "execution_count": 5,
   "metadata": {
    "collapsed": false,
    "deletable": true,
    "editable": true
   },
   "outputs": [],
   "source": [
    "df = pd.merge(df, pd.read_csv(\"../../dataset-bolsas-cnpq/TITULO-DO-PROCESSO.csv\"))\n",
    "df = pd.merge(df, pd.read_csv(\"../../dataset-bolsas-cnpq/NOME-GRANDE-AREA-DO-CONHECIMENTO.csv\"))\n",
    "df = df[(df[\"TITULO-DO-PROCESSO\"].notnull()) &\\\n",
    "        (df[\"TITULO-DO-PROCESSO\"] != \"NÃO-ESPECIFICADO\") &\\\n",
    "        (~df[\"NOME-GRANDE-AREA-DO-CONHECIMENTO\"].isin([\n",
    "                \"Não se aplica\",\n",
    "                \"Outra\",\n",
    "                \"Não informado\"\n",
    "            ]))]"
   ]
  },
  {
   "cell_type": "code",
   "execution_count": 6,
   "metadata": {
    "collapsed": false,
    "deletable": true,
    "editable": true
   },
   "outputs": [
    {
     "data": {
      "text/plain": [
       "Engenharias e Ciência da Computação    379910\n",
       "Ciências Exatas e da Terra             323148\n",
       "Ciências Biológicas                    277491\n",
       "Ciências Agrárias                      258678\n",
       "Ciências Humanas                       217373\n",
       "Ciências da Saúde                      198707\n",
       "Ciências Sociais Aplicadas             130438\n",
       "Lingüística, Letras e Artes             63385\n",
       "Name: NOME-GRANDE-AREA-DO-CONHECIMENTO, dtype: int64"
      ]
     },
     "execution_count": 6,
     "metadata": {},
     "output_type": "execute_result"
    }
   ],
   "source": [
    "df[\"NOME-GRANDE-AREA-DO-CONHECIMENTO\"].value_counts()"
   ]
  },
  {
   "cell_type": "code",
   "execution_count": 7,
   "metadata": {
    "collapsed": false,
    "deletable": true,
    "editable": true
   },
   "outputs": [],
   "source": [
    "por_gac = df.groupby(\"NOME-GRANDE-AREA-DO-CONHECIMENTO\").apply(lambda g: g[\"TITULO-DO-PROCESSO\"].str.cat(sep=\" \"))"
   ]
  },
  {
   "cell_type": "code",
   "execution_count": 11,
   "metadata": {
    "collapsed": false,
    "deletable": true,
    "editable": true
   },
   "outputs": [
    {
     "ename": "KeyboardInterrupt",
     "evalue": "",
     "output_type": "error",
     "traceback": [
      "\u001b[0;31m---------------------------------------------------------------------------\u001b[0m",
      "\u001b[0;31mKeyboardInterrupt\u001b[0m                         Traceback (most recent call last)",
      "\u001b[0;32m<ipython-input-11-475a1a161ae1>\u001b[0m in \u001b[0;36m<module>\u001b[0;34m()\u001b[0m\n\u001b[1;32m      7\u001b[0m     \u001b[1;32mreturn\u001b[0m \u001b[0mc\u001b[0m\u001b[1;33m.\u001b[0m\u001b[0mmost_common\u001b[0m\u001b[1;33m(\u001b[0m\u001b[1;36m2\u001b[0m\u001b[1;33m)\u001b[0m\u001b[1;33m\u001b[0m\u001b[0m\n\u001b[1;32m      8\u001b[0m \u001b[1;33m\u001b[0m\u001b[0m\n\u001b[0;32m----> 9\u001b[0;31m \u001b[0mpor_gac\u001b[0m\u001b[1;33m.\u001b[0m\u001b[0mstr\u001b[0m\u001b[1;33m.\u001b[0m\u001b[0mlower\u001b[0m\u001b[1;33m(\u001b[0m\u001b[1;33m)\u001b[0m\u001b[1;33m.\u001b[0m\u001b[0mstr\u001b[0m\u001b[1;33m.\u001b[0m\u001b[0msplit\u001b[0m\u001b[1;33m(\u001b[0m\u001b[1;34mr\"\\s+\"\u001b[0m\u001b[1;33m)\u001b[0m\u001b[1;33m.\u001b[0m\u001b[0mapply\u001b[0m\u001b[1;33m(\u001b[0m\u001b[0mmost_common\u001b[0m\u001b[1;33m)\u001b[0m\u001b[1;33m\u001b[0m\u001b[0m\n\u001b[0m",
      "\u001b[0;32mC:\\Users\\abevi\\Anaconda3\\lib\\site-packages\\pandas\\core\\series.py\u001b[0m in \u001b[0;36mapply\u001b[0;34m(self, func, convert_dtype, args, **kwds)\u001b[0m\n\u001b[1;32m   2292\u001b[0m             \u001b[1;32melse\u001b[0m\u001b[1;33m:\u001b[0m\u001b[1;33m\u001b[0m\u001b[0m\n\u001b[1;32m   2293\u001b[0m                 \u001b[0mvalues\u001b[0m \u001b[1;33m=\u001b[0m \u001b[0mself\u001b[0m\u001b[1;33m.\u001b[0m\u001b[0masobject\u001b[0m\u001b[1;33m\u001b[0m\u001b[0m\n\u001b[0;32m-> 2294\u001b[0;31m                 \u001b[0mmapped\u001b[0m \u001b[1;33m=\u001b[0m \u001b[0mlib\u001b[0m\u001b[1;33m.\u001b[0m\u001b[0mmap_infer\u001b[0m\u001b[1;33m(\u001b[0m\u001b[0mvalues\u001b[0m\u001b[1;33m,\u001b[0m \u001b[0mf\u001b[0m\u001b[1;33m,\u001b[0m \u001b[0mconvert\u001b[0m\u001b[1;33m=\u001b[0m\u001b[0mconvert_dtype\u001b[0m\u001b[1;33m)\u001b[0m\u001b[1;33m\u001b[0m\u001b[0m\n\u001b[0m\u001b[1;32m   2295\u001b[0m \u001b[1;33m\u001b[0m\u001b[0m\n\u001b[1;32m   2296\u001b[0m         \u001b[1;32mif\u001b[0m \u001b[0mlen\u001b[0m\u001b[1;33m(\u001b[0m\u001b[0mmapped\u001b[0m\u001b[1;33m)\u001b[0m \u001b[1;32mand\u001b[0m \u001b[0misinstance\u001b[0m\u001b[1;33m(\u001b[0m\u001b[0mmapped\u001b[0m\u001b[1;33m[\u001b[0m\u001b[1;36m0\u001b[0m\u001b[1;33m]\u001b[0m\u001b[1;33m,\u001b[0m \u001b[0mSeries\u001b[0m\u001b[1;33m)\u001b[0m\u001b[1;33m:\u001b[0m\u001b[1;33m\u001b[0m\u001b[0m\n",
      "\u001b[0;32mpandas\\src\\inference.pyx\u001b[0m in \u001b[0;36mpandas.lib.map_infer (pandas\\lib.c:66124)\u001b[0;34m()\u001b[0m\n",
      "\u001b[0;32m<ipython-input-11-475a1a161ae1>\u001b[0m in \u001b[0;36mmost_common\u001b[0;34m(ss)\u001b[0m\n\u001b[1;32m      1\u001b[0m \u001b[1;32mdef\u001b[0m \u001b[0mmost_common\u001b[0m\u001b[1;33m(\u001b[0m\u001b[0mss\u001b[0m\u001b[1;33m)\u001b[0m\u001b[1;33m:\u001b[0m\u001b[1;33m\u001b[0m\u001b[0m\n\u001b[1;32m      2\u001b[0m \u001b[1;33m\u001b[0m\u001b[0m\n\u001b[0;32m----> 3\u001b[0;31m     \u001b[0mfiltrado\u001b[0m \u001b[1;33m=\u001b[0m \u001b[1;33m[\u001b[0m\u001b[0ms\u001b[0m \u001b[1;32mfor\u001b[0m \u001b[0ms\u001b[0m \u001b[1;32min\u001b[0m \u001b[0mss\u001b[0m \u001b[1;32mif\u001b[0m \u001b[0ms\u001b[0m \u001b[1;32mnot\u001b[0m \u001b[1;32min\u001b[0m \u001b[0mnltk\u001b[0m\u001b[1;33m.\u001b[0m\u001b[0mcorpus\u001b[0m\u001b[1;33m.\u001b[0m\u001b[0mstopwords\u001b[0m\u001b[1;33m.\u001b[0m\u001b[0mwords\u001b[0m\u001b[1;33m(\u001b[0m\u001b[1;34m\"portuguese\"\u001b[0m\u001b[1;33m)\u001b[0m\u001b[1;33m]\u001b[0m\u001b[1;33m\u001b[0m\u001b[0m\n\u001b[0m\u001b[1;32m      4\u001b[0m \u001b[1;33m\u001b[0m\u001b[0m\n\u001b[1;32m      5\u001b[0m     \u001b[0mc\u001b[0m \u001b[1;33m=\u001b[0m \u001b[0mCounter\u001b[0m\u001b[1;33m(\u001b[0m\u001b[0mfiltrado\u001b[0m\u001b[1;33m)\u001b[0m\u001b[1;33m\u001b[0m\u001b[0m\n",
      "\u001b[0;32m<ipython-input-11-475a1a161ae1>\u001b[0m in \u001b[0;36m<listcomp>\u001b[0;34m(.0)\u001b[0m\n\u001b[1;32m      1\u001b[0m \u001b[1;32mdef\u001b[0m \u001b[0mmost_common\u001b[0m\u001b[1;33m(\u001b[0m\u001b[0mss\u001b[0m\u001b[1;33m)\u001b[0m\u001b[1;33m:\u001b[0m\u001b[1;33m\u001b[0m\u001b[0m\n\u001b[1;32m      2\u001b[0m \u001b[1;33m\u001b[0m\u001b[0m\n\u001b[0;32m----> 3\u001b[0;31m     \u001b[0mfiltrado\u001b[0m \u001b[1;33m=\u001b[0m \u001b[1;33m[\u001b[0m\u001b[0ms\u001b[0m \u001b[1;32mfor\u001b[0m \u001b[0ms\u001b[0m \u001b[1;32min\u001b[0m \u001b[0mss\u001b[0m \u001b[1;32mif\u001b[0m \u001b[0ms\u001b[0m \u001b[1;32mnot\u001b[0m \u001b[1;32min\u001b[0m \u001b[0mnltk\u001b[0m\u001b[1;33m.\u001b[0m\u001b[0mcorpus\u001b[0m\u001b[1;33m.\u001b[0m\u001b[0mstopwords\u001b[0m\u001b[1;33m.\u001b[0m\u001b[0mwords\u001b[0m\u001b[1;33m(\u001b[0m\u001b[1;34m\"portuguese\"\u001b[0m\u001b[1;33m)\u001b[0m\u001b[1;33m]\u001b[0m\u001b[1;33m\u001b[0m\u001b[0m\n\u001b[0m\u001b[1;32m      4\u001b[0m \u001b[1;33m\u001b[0m\u001b[0m\n\u001b[1;32m      5\u001b[0m     \u001b[0mc\u001b[0m \u001b[1;33m=\u001b[0m \u001b[0mCounter\u001b[0m\u001b[1;33m(\u001b[0m\u001b[0mfiltrado\u001b[0m\u001b[1;33m)\u001b[0m\u001b[1;33m\u001b[0m\u001b[0m\n",
      "\u001b[0;32mC:\\Users\\abevi\\Anaconda3\\lib\\site-packages\\nltk\\corpus\\reader\\wordlist.py\u001b[0m in \u001b[0;36mwords\u001b[0;34m(self, fileids)\u001b[0m\n\u001b[1;32m     18\u001b[0m     \"\"\"\n\u001b[1;32m     19\u001b[0m     \u001b[1;32mdef\u001b[0m \u001b[0mwords\u001b[0m\u001b[1;33m(\u001b[0m\u001b[0mself\u001b[0m\u001b[1;33m,\u001b[0m \u001b[0mfileids\u001b[0m\u001b[1;33m=\u001b[0m\u001b[1;32mNone\u001b[0m\u001b[1;33m)\u001b[0m\u001b[1;33m:\u001b[0m\u001b[1;33m\u001b[0m\u001b[0m\n\u001b[0;32m---> 20\u001b[0;31m         \u001b[1;32mreturn\u001b[0m \u001b[0mline_tokenize\u001b[0m\u001b[1;33m(\u001b[0m\u001b[0mself\u001b[0m\u001b[1;33m.\u001b[0m\u001b[0mraw\u001b[0m\u001b[1;33m(\u001b[0m\u001b[0mfileids\u001b[0m\u001b[1;33m)\u001b[0m\u001b[1;33m)\u001b[0m\u001b[1;33m\u001b[0m\u001b[0m\n\u001b[0m\u001b[1;32m     21\u001b[0m \u001b[1;33m\u001b[0m\u001b[0m\n\u001b[1;32m     22\u001b[0m     \u001b[1;32mdef\u001b[0m \u001b[0mraw\u001b[0m\u001b[1;33m(\u001b[0m\u001b[0mself\u001b[0m\u001b[1;33m,\u001b[0m \u001b[0mfileids\u001b[0m\u001b[1;33m=\u001b[0m\u001b[1;32mNone\u001b[0m\u001b[1;33m)\u001b[0m\u001b[1;33m:\u001b[0m\u001b[1;33m\u001b[0m\u001b[0m\n",
      "\u001b[0;32mC:\\Users\\abevi\\Anaconda3\\lib\\site-packages\\nltk\\corpus\\reader\\wordlist.py\u001b[0m in \u001b[0;36mraw\u001b[0;34m(self, fileids)\u001b[0m\n\u001b[1;32m     23\u001b[0m         \u001b[1;32mif\u001b[0m \u001b[0mfileids\u001b[0m \u001b[1;32mis\u001b[0m \u001b[1;32mNone\u001b[0m\u001b[1;33m:\u001b[0m \u001b[0mfileids\u001b[0m \u001b[1;33m=\u001b[0m \u001b[0mself\u001b[0m\u001b[1;33m.\u001b[0m\u001b[0m_fileids\u001b[0m\u001b[1;33m\u001b[0m\u001b[0m\n\u001b[1;32m     24\u001b[0m         \u001b[1;32melif\u001b[0m \u001b[0misinstance\u001b[0m\u001b[1;33m(\u001b[0m\u001b[0mfileids\u001b[0m\u001b[1;33m,\u001b[0m \u001b[0mcompat\u001b[0m\u001b[1;33m.\u001b[0m\u001b[0mstring_types\u001b[0m\u001b[1;33m)\u001b[0m\u001b[1;33m:\u001b[0m \u001b[0mfileids\u001b[0m \u001b[1;33m=\u001b[0m \u001b[1;33m[\u001b[0m\u001b[0mfileids\u001b[0m\u001b[1;33m]\u001b[0m\u001b[1;33m\u001b[0m\u001b[0m\n\u001b[0;32m---> 25\u001b[0;31m         \u001b[1;32mreturn\u001b[0m \u001b[0mconcat\u001b[0m\u001b[1;33m(\u001b[0m\u001b[1;33m[\u001b[0m\u001b[0mself\u001b[0m\u001b[1;33m.\u001b[0m\u001b[0mopen\u001b[0m\u001b[1;33m(\u001b[0m\u001b[0mf\u001b[0m\u001b[1;33m)\u001b[0m\u001b[1;33m.\u001b[0m\u001b[0mread\u001b[0m\u001b[1;33m(\u001b[0m\u001b[1;33m)\u001b[0m \u001b[1;32mfor\u001b[0m \u001b[0mf\u001b[0m \u001b[1;32min\u001b[0m \u001b[0mfileids\u001b[0m\u001b[1;33m]\u001b[0m\u001b[1;33m)\u001b[0m\u001b[1;33m\u001b[0m\u001b[0m\n\u001b[0m\u001b[1;32m     26\u001b[0m \u001b[1;33m\u001b[0m\u001b[0m\n\u001b[1;32m     27\u001b[0m \u001b[1;33m\u001b[0m\u001b[0m\n",
      "\u001b[0;32mC:\\Users\\abevi\\Anaconda3\\lib\\site-packages\\nltk\\corpus\\reader\\wordlist.py\u001b[0m in \u001b[0;36m<listcomp>\u001b[0;34m(.0)\u001b[0m\n\u001b[1;32m     23\u001b[0m         \u001b[1;32mif\u001b[0m \u001b[0mfileids\u001b[0m \u001b[1;32mis\u001b[0m \u001b[1;32mNone\u001b[0m\u001b[1;33m:\u001b[0m \u001b[0mfileids\u001b[0m \u001b[1;33m=\u001b[0m \u001b[0mself\u001b[0m\u001b[1;33m.\u001b[0m\u001b[0m_fileids\u001b[0m\u001b[1;33m\u001b[0m\u001b[0m\n\u001b[1;32m     24\u001b[0m         \u001b[1;32melif\u001b[0m \u001b[0misinstance\u001b[0m\u001b[1;33m(\u001b[0m\u001b[0mfileids\u001b[0m\u001b[1;33m,\u001b[0m \u001b[0mcompat\u001b[0m\u001b[1;33m.\u001b[0m\u001b[0mstring_types\u001b[0m\u001b[1;33m)\u001b[0m\u001b[1;33m:\u001b[0m \u001b[0mfileids\u001b[0m \u001b[1;33m=\u001b[0m \u001b[1;33m[\u001b[0m\u001b[0mfileids\u001b[0m\u001b[1;33m]\u001b[0m\u001b[1;33m\u001b[0m\u001b[0m\n\u001b[0;32m---> 25\u001b[0;31m         \u001b[1;32mreturn\u001b[0m \u001b[0mconcat\u001b[0m\u001b[1;33m(\u001b[0m\u001b[1;33m[\u001b[0m\u001b[0mself\u001b[0m\u001b[1;33m.\u001b[0m\u001b[0mopen\u001b[0m\u001b[1;33m(\u001b[0m\u001b[0mf\u001b[0m\u001b[1;33m)\u001b[0m\u001b[1;33m.\u001b[0m\u001b[0mread\u001b[0m\u001b[1;33m(\u001b[0m\u001b[1;33m)\u001b[0m \u001b[1;32mfor\u001b[0m \u001b[0mf\u001b[0m \u001b[1;32min\u001b[0m \u001b[0mfileids\u001b[0m\u001b[1;33m]\u001b[0m\u001b[1;33m)\u001b[0m\u001b[1;33m\u001b[0m\u001b[0m\n\u001b[0m\u001b[1;32m     26\u001b[0m \u001b[1;33m\u001b[0m\u001b[0m\n\u001b[1;32m     27\u001b[0m \u001b[1;33m\u001b[0m\u001b[0m\n",
      "\u001b[0;32mC:\\Users\\abevi\\Anaconda3\\lib\\site-packages\\nltk\\data.py\u001b[0m in \u001b[0;36mread\u001b[0;34m(self, size)\u001b[0m\n\u001b[1;32m   1095\u001b[0m         \u001b[1;33m:\u001b[0m\u001b[0mrtype\u001b[0m\u001b[1;33m:\u001b[0m \u001b[0municode\u001b[0m\u001b[1;33m\u001b[0m\u001b[0m\n\u001b[1;32m   1096\u001b[0m         \"\"\"\n\u001b[0;32m-> 1097\u001b[0;31m         \u001b[0mchars\u001b[0m \u001b[1;33m=\u001b[0m \u001b[0mself\u001b[0m\u001b[1;33m.\u001b[0m\u001b[0m_read\u001b[0m\u001b[1;33m(\u001b[0m\u001b[0msize\u001b[0m\u001b[1;33m)\u001b[0m\u001b[1;33m\u001b[0m\u001b[0m\n\u001b[0m\u001b[1;32m   1098\u001b[0m \u001b[1;33m\u001b[0m\u001b[0m\n\u001b[1;32m   1099\u001b[0m         \u001b[1;31m# If linebuffer is not empty, then include it in the result\u001b[0m\u001b[1;33m\u001b[0m\u001b[1;33m\u001b[0m\u001b[0m\n",
      "\u001b[0;32mC:\\Users\\abevi\\Anaconda3\\lib\\site-packages\\nltk\\data.py\u001b[0m in \u001b[0;36m_read\u001b[0;34m(self, size)\u001b[0m\n\u001b[1;32m   1359\u001b[0m         \u001b[1;31m# Read the requested number of bytes.\u001b[0m\u001b[1;33m\u001b[0m\u001b[1;33m\u001b[0m\u001b[0m\n\u001b[1;32m   1360\u001b[0m         \u001b[1;32mif\u001b[0m \u001b[0msize\u001b[0m \u001b[1;32mis\u001b[0m \u001b[1;32mNone\u001b[0m\u001b[1;33m:\u001b[0m\u001b[1;33m\u001b[0m\u001b[0m\n\u001b[0;32m-> 1361\u001b[0;31m             \u001b[0mnew_bytes\u001b[0m \u001b[1;33m=\u001b[0m \u001b[0mself\u001b[0m\u001b[1;33m.\u001b[0m\u001b[0mstream\u001b[0m\u001b[1;33m.\u001b[0m\u001b[0mread\u001b[0m\u001b[1;33m(\u001b[0m\u001b[1;33m)\u001b[0m\u001b[1;33m\u001b[0m\u001b[0m\n\u001b[0m\u001b[1;32m   1362\u001b[0m         \u001b[1;32melse\u001b[0m\u001b[1;33m:\u001b[0m\u001b[1;33m\u001b[0m\u001b[0m\n\u001b[1;32m   1363\u001b[0m             \u001b[0mnew_bytes\u001b[0m \u001b[1;33m=\u001b[0m \u001b[0mself\u001b[0m\u001b[1;33m.\u001b[0m\u001b[0mstream\u001b[0m\u001b[1;33m.\u001b[0m\u001b[0mread\u001b[0m\u001b[1;33m(\u001b[0m\u001b[0msize\u001b[0m\u001b[1;33m)\u001b[0m\u001b[1;33m\u001b[0m\u001b[0m\n",
      "\u001b[0;31mKeyboardInterrupt\u001b[0m: "
     ]
    }
   ],
   "source": [
    "def most_common(ss):\n",
    "    \n",
    "    filtrado = [s for s in ss if s not in nltk.corpus.stopwords.words(\"portuguese\")]\n",
    "    \n",
    "    c = Counter(filtrado)\n",
    "    \n",
    "    return c.most_common(2)\n",
    "\n",
    "por_gac\\\n",
    ".str.lower()\\\n",
    ".str.split(r\"\\s+\")\\\n",
    ".apply(most_common)"
   ]
  },
  {
   "cell_type": "code",
   "execution_count": null,
   "metadata": {
    "collapsed": true,
    "deletable": true,
    "editable": true
   },
   "outputs": [],
   "source": [
    "por_gac.str.split()"
   ]
  },
  {
   "cell_type": "code",
   "execution_count": 13,
   "metadata": {
    "collapsed": false,
    "deletable": true,
    "editable": true
   },
   "outputs": [],
   "source": [
    "tfidf = TfidfVectorizer(stop_words=nltk.corpus.stopwords.words(\"portuguese\")).fit(por_gac)\n",
    "\n",
    "le = LabelEncoder().fit(df[\"NOME-GRANDE-AREA-DO-CONHECIMENTO\"])"
   ]
  },
  {
   "cell_type": "code",
   "execution_count": 17,
   "metadata": {
    "collapsed": true,
    "deletable": true,
    "editable": true
   },
   "outputs": [],
   "source": [
    "X, y = tfidf.transform(df[\"TITULO-DO-PROCESSO\"]), le.transform(df[\"NOME-GRANDE-AREA-DO-CONHECIMENTO\"])"
   ]
  },
  {
   "cell_type": "code",
   "execution_count": 18,
   "metadata": {
    "collapsed": true,
    "deletable": true,
    "editable": true
   },
   "outputs": [],
   "source": [
    "X_train, X_test, y_train, y_test = train_test_split(X, y, test_size=.3)"
   ]
  },
  {
   "cell_type": "code",
   "execution_count": 21,
   "metadata": {
    "collapsed": false,
    "deletable": true,
    "editable": true
   },
   "outputs": [
    {
     "data": {
      "text/plain": [
       "(1498576, 175356)"
      ]
     },
     "execution_count": 21,
     "metadata": {},
     "output_type": "execute_result"
    }
   ],
   "source": [
    "X_train.shape"
   ]
  },
  {
   "cell_type": "code",
   "execution_count": 20,
   "metadata": {
    "collapsed": false,
    "deletable": true,
    "editable": true
   },
   "outputs": [
    {
     "ename": "MemoryError",
     "evalue": "",
     "output_type": "error",
     "traceback": [
      "\u001b[0;31m---------------------------------------------------------------------------\u001b[0m",
      "\u001b[0;31mMemoryError\u001b[0m                               Traceback (most recent call last)",
      "\u001b[0;32m<ipython-input-20-334b6d8dd712>\u001b[0m in \u001b[0;36m<module>\u001b[0;34m()\u001b[0m\n\u001b[1;32m      4\u001b[0m               'metric': ['minkowski', 'manhattan']}\n\u001b[1;32m      5\u001b[0m \u001b[1;33m\u001b[0m\u001b[0m\n\u001b[0;32m----> 6\u001b[0;31m \u001b[0mcv\u001b[0m \u001b[1;33m=\u001b[0m \u001b[0mGridSearchCV\u001b[0m\u001b[1;33m(\u001b[0m\u001b[0mknn\u001b[0m\u001b[1;33m,\u001b[0m \u001b[0mparam_grid\u001b[0m\u001b[1;33m=\u001b[0m\u001b[0mparam_grid\u001b[0m\u001b[1;33m,\u001b[0m \u001b[0mcv\u001b[0m\u001b[1;33m=\u001b[0m\u001b[0mskf\u001b[0m\u001b[1;33m)\u001b[0m\u001b[1;33m.\u001b[0m\u001b[0mfit\u001b[0m\u001b[1;33m(\u001b[0m\u001b[0mX_train\u001b[0m\u001b[1;33m,\u001b[0m \u001b[0my_train\u001b[0m\u001b[1;33m)\u001b[0m\u001b[1;33m\u001b[0m\u001b[0m\n\u001b[0m\u001b[1;32m      7\u001b[0m \u001b[1;33m\u001b[0m\u001b[0m\n\u001b[1;32m      8\u001b[0m \u001b[0mcv_final\u001b[0m \u001b[1;33m=\u001b[0m \u001b[0mcv\u001b[0m\u001b[1;33m.\u001b[0m\u001b[0mbest_estimator_\u001b[0m\u001b[1;33m\u001b[0m\u001b[0m\n",
      "\u001b[0;32mC:\\Users\\abevi\\Anaconda3\\lib\\site-packages\\sklearn\\model_selection\\_search.py\u001b[0m in \u001b[0;36mfit\u001b[0;34m(self, X, y, groups)\u001b[0m\n\u001b[1;32m    943\u001b[0m             \u001b[0mtrain\u001b[0m\u001b[1;33m/\u001b[0m\u001b[0mtest\u001b[0m \u001b[0mset\u001b[0m\u001b[1;33m.\u001b[0m\u001b[1;33m\u001b[0m\u001b[0m\n\u001b[1;32m    944\u001b[0m         \"\"\"\n\u001b[0;32m--> 945\u001b[0;31m         \u001b[1;32mreturn\u001b[0m \u001b[0mself\u001b[0m\u001b[1;33m.\u001b[0m\u001b[0m_fit\u001b[0m\u001b[1;33m(\u001b[0m\u001b[0mX\u001b[0m\u001b[1;33m,\u001b[0m \u001b[0my\u001b[0m\u001b[1;33m,\u001b[0m \u001b[0mgroups\u001b[0m\u001b[1;33m,\u001b[0m \u001b[0mParameterGrid\u001b[0m\u001b[1;33m(\u001b[0m\u001b[0mself\u001b[0m\u001b[1;33m.\u001b[0m\u001b[0mparam_grid\u001b[0m\u001b[1;33m)\u001b[0m\u001b[1;33m)\u001b[0m\u001b[1;33m\u001b[0m\u001b[0m\n\u001b[0m\u001b[1;32m    946\u001b[0m \u001b[1;33m\u001b[0m\u001b[0m\n\u001b[1;32m    947\u001b[0m \u001b[1;33m\u001b[0m\u001b[0m\n",
      "\u001b[0;32mC:\\Users\\abevi\\Anaconda3\\lib\\site-packages\\sklearn\\model_selection\\_search.py\u001b[0m in \u001b[0;36m_fit\u001b[0;34m(self, X, y, groups, parameter_iterable)\u001b[0m\n\u001b[1;32m    562\u001b[0m                                   \u001b[0mreturn_times\u001b[0m\u001b[1;33m=\u001b[0m\u001b[1;32mTrue\u001b[0m\u001b[1;33m,\u001b[0m \u001b[0mreturn_parameters\u001b[0m\u001b[1;33m=\u001b[0m\u001b[1;32mTrue\u001b[0m\u001b[1;33m,\u001b[0m\u001b[1;33m\u001b[0m\u001b[0m\n\u001b[1;32m    563\u001b[0m                                   error_score=self.error_score)\n\u001b[0;32m--> 564\u001b[0;31m           \u001b[1;32mfor\u001b[0m \u001b[0mparameters\u001b[0m \u001b[1;32min\u001b[0m \u001b[0mparameter_iterable\u001b[0m\u001b[1;33m\u001b[0m\u001b[0m\n\u001b[0m\u001b[1;32m    565\u001b[0m           for train, test in cv_iter)\n\u001b[1;32m    566\u001b[0m \u001b[1;33m\u001b[0m\u001b[0m\n",
      "\u001b[0;32mC:\\Users\\abevi\\Anaconda3\\lib\\site-packages\\sklearn\\externals\\joblib\\parallel.py\u001b[0m in \u001b[0;36m__call__\u001b[0;34m(self, iterable)\u001b[0m\n\u001b[1;32m    756\u001b[0m             \u001b[1;31m# was dispatched. In particular this covers the edge\u001b[0m\u001b[1;33m\u001b[0m\u001b[1;33m\u001b[0m\u001b[0m\n\u001b[1;32m    757\u001b[0m             \u001b[1;31m# case of Parallel used with an exhausted iterator.\u001b[0m\u001b[1;33m\u001b[0m\u001b[1;33m\u001b[0m\u001b[0m\n\u001b[0;32m--> 758\u001b[0;31m             \u001b[1;32mwhile\u001b[0m \u001b[0mself\u001b[0m\u001b[1;33m.\u001b[0m\u001b[0mdispatch_one_batch\u001b[0m\u001b[1;33m(\u001b[0m\u001b[0miterator\u001b[0m\u001b[1;33m)\u001b[0m\u001b[1;33m:\u001b[0m\u001b[1;33m\u001b[0m\u001b[0m\n\u001b[0m\u001b[1;32m    759\u001b[0m                 \u001b[0mself\u001b[0m\u001b[1;33m.\u001b[0m\u001b[0m_iterating\u001b[0m \u001b[1;33m=\u001b[0m \u001b[1;32mTrue\u001b[0m\u001b[1;33m\u001b[0m\u001b[0m\n\u001b[1;32m    760\u001b[0m             \u001b[1;32melse\u001b[0m\u001b[1;33m:\u001b[0m\u001b[1;33m\u001b[0m\u001b[0m\n",
      "\u001b[0;32mC:\\Users\\abevi\\Anaconda3\\lib\\site-packages\\sklearn\\externals\\joblib\\parallel.py\u001b[0m in \u001b[0;36mdispatch_one_batch\u001b[0;34m(self, iterator)\u001b[0m\n\u001b[1;32m    606\u001b[0m                 \u001b[1;32mreturn\u001b[0m \u001b[1;32mFalse\u001b[0m\u001b[1;33m\u001b[0m\u001b[0m\n\u001b[1;32m    607\u001b[0m             \u001b[1;32melse\u001b[0m\u001b[1;33m:\u001b[0m\u001b[1;33m\u001b[0m\u001b[0m\n\u001b[0;32m--> 608\u001b[0;31m                 \u001b[0mself\u001b[0m\u001b[1;33m.\u001b[0m\u001b[0m_dispatch\u001b[0m\u001b[1;33m(\u001b[0m\u001b[0mtasks\u001b[0m\u001b[1;33m)\u001b[0m\u001b[1;33m\u001b[0m\u001b[0m\n\u001b[0m\u001b[1;32m    609\u001b[0m                 \u001b[1;32mreturn\u001b[0m \u001b[1;32mTrue\u001b[0m\u001b[1;33m\u001b[0m\u001b[0m\n\u001b[1;32m    610\u001b[0m \u001b[1;33m\u001b[0m\u001b[0m\n",
      "\u001b[0;32mC:\\Users\\abevi\\Anaconda3\\lib\\site-packages\\sklearn\\externals\\joblib\\parallel.py\u001b[0m in \u001b[0;36m_dispatch\u001b[0;34m(self, batch)\u001b[0m\n\u001b[1;32m    569\u001b[0m         \u001b[0mdispatch_timestamp\u001b[0m \u001b[1;33m=\u001b[0m \u001b[0mtime\u001b[0m\u001b[1;33m.\u001b[0m\u001b[0mtime\u001b[0m\u001b[1;33m(\u001b[0m\u001b[1;33m)\u001b[0m\u001b[1;33m\u001b[0m\u001b[0m\n\u001b[1;32m    570\u001b[0m         \u001b[0mcb\u001b[0m \u001b[1;33m=\u001b[0m \u001b[0mBatchCompletionCallBack\u001b[0m\u001b[1;33m(\u001b[0m\u001b[0mdispatch_timestamp\u001b[0m\u001b[1;33m,\u001b[0m \u001b[0mlen\u001b[0m\u001b[1;33m(\u001b[0m\u001b[0mbatch\u001b[0m\u001b[1;33m)\u001b[0m\u001b[1;33m,\u001b[0m \u001b[0mself\u001b[0m\u001b[1;33m)\u001b[0m\u001b[1;33m\u001b[0m\u001b[0m\n\u001b[0;32m--> 571\u001b[0;31m         \u001b[0mjob\u001b[0m \u001b[1;33m=\u001b[0m \u001b[0mself\u001b[0m\u001b[1;33m.\u001b[0m\u001b[0m_backend\u001b[0m\u001b[1;33m.\u001b[0m\u001b[0mapply_async\u001b[0m\u001b[1;33m(\u001b[0m\u001b[0mbatch\u001b[0m\u001b[1;33m,\u001b[0m \u001b[0mcallback\u001b[0m\u001b[1;33m=\u001b[0m\u001b[0mcb\u001b[0m\u001b[1;33m)\u001b[0m\u001b[1;33m\u001b[0m\u001b[0m\n\u001b[0m\u001b[1;32m    572\u001b[0m         \u001b[0mself\u001b[0m\u001b[1;33m.\u001b[0m\u001b[0m_jobs\u001b[0m\u001b[1;33m.\u001b[0m\u001b[0mappend\u001b[0m\u001b[1;33m(\u001b[0m\u001b[0mjob\u001b[0m\u001b[1;33m)\u001b[0m\u001b[1;33m\u001b[0m\u001b[0m\n\u001b[1;32m    573\u001b[0m \u001b[1;33m\u001b[0m\u001b[0m\n",
      "\u001b[0;32mC:\\Users\\abevi\\Anaconda3\\lib\\site-packages\\sklearn\\externals\\joblib\\_parallel_backends.py\u001b[0m in \u001b[0;36mapply_async\u001b[0;34m(self, func, callback)\u001b[0m\n\u001b[1;32m    107\u001b[0m     \u001b[1;32mdef\u001b[0m \u001b[0mapply_async\u001b[0m\u001b[1;33m(\u001b[0m\u001b[0mself\u001b[0m\u001b[1;33m,\u001b[0m \u001b[0mfunc\u001b[0m\u001b[1;33m,\u001b[0m \u001b[0mcallback\u001b[0m\u001b[1;33m=\u001b[0m\u001b[1;32mNone\u001b[0m\u001b[1;33m)\u001b[0m\u001b[1;33m:\u001b[0m\u001b[1;33m\u001b[0m\u001b[0m\n\u001b[1;32m    108\u001b[0m         \u001b[1;34m\"\"\"Schedule a func to be run\"\"\"\u001b[0m\u001b[1;33m\u001b[0m\u001b[0m\n\u001b[0;32m--> 109\u001b[0;31m         \u001b[0mresult\u001b[0m \u001b[1;33m=\u001b[0m \u001b[0mImmediateResult\u001b[0m\u001b[1;33m(\u001b[0m\u001b[0mfunc\u001b[0m\u001b[1;33m)\u001b[0m\u001b[1;33m\u001b[0m\u001b[0m\n\u001b[0m\u001b[1;32m    110\u001b[0m         \u001b[1;32mif\u001b[0m \u001b[0mcallback\u001b[0m\u001b[1;33m:\u001b[0m\u001b[1;33m\u001b[0m\u001b[0m\n\u001b[1;32m    111\u001b[0m             \u001b[0mcallback\u001b[0m\u001b[1;33m(\u001b[0m\u001b[0mresult\u001b[0m\u001b[1;33m)\u001b[0m\u001b[1;33m\u001b[0m\u001b[0m\n",
      "\u001b[0;32mC:\\Users\\abevi\\Anaconda3\\lib\\site-packages\\sklearn\\externals\\joblib\\_parallel_backends.py\u001b[0m in \u001b[0;36m__init__\u001b[0;34m(self, batch)\u001b[0m\n\u001b[1;32m    324\u001b[0m         \u001b[1;31m# Don't delay the application, to avoid keeping the input\u001b[0m\u001b[1;33m\u001b[0m\u001b[1;33m\u001b[0m\u001b[0m\n\u001b[1;32m    325\u001b[0m         \u001b[1;31m# arguments in memory\u001b[0m\u001b[1;33m\u001b[0m\u001b[1;33m\u001b[0m\u001b[0m\n\u001b[0;32m--> 326\u001b[0;31m         \u001b[0mself\u001b[0m\u001b[1;33m.\u001b[0m\u001b[0mresults\u001b[0m \u001b[1;33m=\u001b[0m \u001b[0mbatch\u001b[0m\u001b[1;33m(\u001b[0m\u001b[1;33m)\u001b[0m\u001b[1;33m\u001b[0m\u001b[0m\n\u001b[0m\u001b[1;32m    327\u001b[0m \u001b[1;33m\u001b[0m\u001b[0m\n\u001b[1;32m    328\u001b[0m     \u001b[1;32mdef\u001b[0m \u001b[0mget\u001b[0m\u001b[1;33m(\u001b[0m\u001b[0mself\u001b[0m\u001b[1;33m)\u001b[0m\u001b[1;33m:\u001b[0m\u001b[1;33m\u001b[0m\u001b[0m\n",
      "\u001b[0;32mC:\\Users\\abevi\\Anaconda3\\lib\\site-packages\\sklearn\\externals\\joblib\\parallel.py\u001b[0m in \u001b[0;36m__call__\u001b[0;34m(self)\u001b[0m\n\u001b[1;32m    129\u001b[0m \u001b[1;33m\u001b[0m\u001b[0m\n\u001b[1;32m    130\u001b[0m     \u001b[1;32mdef\u001b[0m \u001b[0m__call__\u001b[0m\u001b[1;33m(\u001b[0m\u001b[0mself\u001b[0m\u001b[1;33m)\u001b[0m\u001b[1;33m:\u001b[0m\u001b[1;33m\u001b[0m\u001b[0m\n\u001b[0;32m--> 131\u001b[0;31m         \u001b[1;32mreturn\u001b[0m \u001b[1;33m[\u001b[0m\u001b[0mfunc\u001b[0m\u001b[1;33m(\u001b[0m\u001b[1;33m*\u001b[0m\u001b[0margs\u001b[0m\u001b[1;33m,\u001b[0m \u001b[1;33m**\u001b[0m\u001b[0mkwargs\u001b[0m\u001b[1;33m)\u001b[0m \u001b[1;32mfor\u001b[0m \u001b[0mfunc\u001b[0m\u001b[1;33m,\u001b[0m \u001b[0margs\u001b[0m\u001b[1;33m,\u001b[0m \u001b[0mkwargs\u001b[0m \u001b[1;32min\u001b[0m \u001b[0mself\u001b[0m\u001b[1;33m.\u001b[0m\u001b[0mitems\u001b[0m\u001b[1;33m]\u001b[0m\u001b[1;33m\u001b[0m\u001b[0m\n\u001b[0m\u001b[1;32m    132\u001b[0m \u001b[1;33m\u001b[0m\u001b[0m\n\u001b[1;32m    133\u001b[0m     \u001b[1;32mdef\u001b[0m \u001b[0m__len__\u001b[0m\u001b[1;33m(\u001b[0m\u001b[0mself\u001b[0m\u001b[1;33m)\u001b[0m\u001b[1;33m:\u001b[0m\u001b[1;33m\u001b[0m\u001b[0m\n",
      "\u001b[0;32mC:\\Users\\abevi\\Anaconda3\\lib\\site-packages\\sklearn\\externals\\joblib\\parallel.py\u001b[0m in \u001b[0;36m<listcomp>\u001b[0;34m(.0)\u001b[0m\n\u001b[1;32m    129\u001b[0m \u001b[1;33m\u001b[0m\u001b[0m\n\u001b[1;32m    130\u001b[0m     \u001b[1;32mdef\u001b[0m \u001b[0m__call__\u001b[0m\u001b[1;33m(\u001b[0m\u001b[0mself\u001b[0m\u001b[1;33m)\u001b[0m\u001b[1;33m:\u001b[0m\u001b[1;33m\u001b[0m\u001b[0m\n\u001b[0;32m--> 131\u001b[0;31m         \u001b[1;32mreturn\u001b[0m \u001b[1;33m[\u001b[0m\u001b[0mfunc\u001b[0m\u001b[1;33m(\u001b[0m\u001b[1;33m*\u001b[0m\u001b[0margs\u001b[0m\u001b[1;33m,\u001b[0m \u001b[1;33m**\u001b[0m\u001b[0mkwargs\u001b[0m\u001b[1;33m)\u001b[0m \u001b[1;32mfor\u001b[0m \u001b[0mfunc\u001b[0m\u001b[1;33m,\u001b[0m \u001b[0margs\u001b[0m\u001b[1;33m,\u001b[0m \u001b[0mkwargs\u001b[0m \u001b[1;32min\u001b[0m \u001b[0mself\u001b[0m\u001b[1;33m.\u001b[0m\u001b[0mitems\u001b[0m\u001b[1;33m]\u001b[0m\u001b[1;33m\u001b[0m\u001b[0m\n\u001b[0m\u001b[1;32m    132\u001b[0m \u001b[1;33m\u001b[0m\u001b[0m\n\u001b[1;32m    133\u001b[0m     \u001b[1;32mdef\u001b[0m \u001b[0m__len__\u001b[0m\u001b[1;33m(\u001b[0m\u001b[0mself\u001b[0m\u001b[1;33m)\u001b[0m\u001b[1;33m:\u001b[0m\u001b[1;33m\u001b[0m\u001b[0m\n",
      "\u001b[0;32mC:\\Users\\abevi\\Anaconda3\\lib\\site-packages\\sklearn\\model_selection\\_validation.py\u001b[0m in \u001b[0;36m_fit_and_score\u001b[0;34m(estimator, X, y, scorer, train, test, verbose, parameters, fit_params, return_train_score, return_parameters, return_n_test_samples, return_times, error_score)\u001b[0m\n\u001b[1;32m    258\u001b[0m     \u001b[1;32melse\u001b[0m\u001b[1;33m:\u001b[0m\u001b[1;33m\u001b[0m\u001b[0m\n\u001b[1;32m    259\u001b[0m         \u001b[0mfit_time\u001b[0m \u001b[1;33m=\u001b[0m \u001b[0mtime\u001b[0m\u001b[1;33m.\u001b[0m\u001b[0mtime\u001b[0m\u001b[1;33m(\u001b[0m\u001b[1;33m)\u001b[0m \u001b[1;33m-\u001b[0m \u001b[0mstart_time\u001b[0m\u001b[1;33m\u001b[0m\u001b[0m\n\u001b[0;32m--> 260\u001b[0;31m         \u001b[0mtest_score\u001b[0m \u001b[1;33m=\u001b[0m \u001b[0m_score\u001b[0m\u001b[1;33m(\u001b[0m\u001b[0mestimator\u001b[0m\u001b[1;33m,\u001b[0m \u001b[0mX_test\u001b[0m\u001b[1;33m,\u001b[0m \u001b[0my_test\u001b[0m\u001b[1;33m,\u001b[0m \u001b[0mscorer\u001b[0m\u001b[1;33m)\u001b[0m\u001b[1;33m\u001b[0m\u001b[0m\n\u001b[0m\u001b[1;32m    261\u001b[0m         \u001b[0mscore_time\u001b[0m \u001b[1;33m=\u001b[0m \u001b[0mtime\u001b[0m\u001b[1;33m.\u001b[0m\u001b[0mtime\u001b[0m\u001b[1;33m(\u001b[0m\u001b[1;33m)\u001b[0m \u001b[1;33m-\u001b[0m \u001b[0mstart_time\u001b[0m \u001b[1;33m-\u001b[0m \u001b[0mfit_time\u001b[0m\u001b[1;33m\u001b[0m\u001b[0m\n\u001b[1;32m    262\u001b[0m         \u001b[1;32mif\u001b[0m \u001b[0mreturn_train_score\u001b[0m\u001b[1;33m:\u001b[0m\u001b[1;33m\u001b[0m\u001b[0m\n",
      "\u001b[0;32mC:\\Users\\abevi\\Anaconda3\\lib\\site-packages\\sklearn\\model_selection\\_validation.py\u001b[0m in \u001b[0;36m_score\u001b[0;34m(estimator, X_test, y_test, scorer)\u001b[0m\n\u001b[1;32m    286\u001b[0m         \u001b[0mscore\u001b[0m \u001b[1;33m=\u001b[0m \u001b[0mscorer\u001b[0m\u001b[1;33m(\u001b[0m\u001b[0mestimator\u001b[0m\u001b[1;33m,\u001b[0m \u001b[0mX_test\u001b[0m\u001b[1;33m)\u001b[0m\u001b[1;33m\u001b[0m\u001b[0m\n\u001b[1;32m    287\u001b[0m     \u001b[1;32melse\u001b[0m\u001b[1;33m:\u001b[0m\u001b[1;33m\u001b[0m\u001b[0m\n\u001b[0;32m--> 288\u001b[0;31m         \u001b[0mscore\u001b[0m \u001b[1;33m=\u001b[0m \u001b[0mscorer\u001b[0m\u001b[1;33m(\u001b[0m\u001b[0mestimator\u001b[0m\u001b[1;33m,\u001b[0m \u001b[0mX_test\u001b[0m\u001b[1;33m,\u001b[0m \u001b[0my_test\u001b[0m\u001b[1;33m)\u001b[0m\u001b[1;33m\u001b[0m\u001b[0m\n\u001b[0m\u001b[1;32m    289\u001b[0m     \u001b[1;32mif\u001b[0m \u001b[0mhasattr\u001b[0m\u001b[1;33m(\u001b[0m\u001b[0mscore\u001b[0m\u001b[1;33m,\u001b[0m \u001b[1;34m'item'\u001b[0m\u001b[1;33m)\u001b[0m\u001b[1;33m:\u001b[0m\u001b[1;33m\u001b[0m\u001b[0m\n\u001b[1;32m    290\u001b[0m         \u001b[1;32mtry\u001b[0m\u001b[1;33m:\u001b[0m\u001b[1;33m\u001b[0m\u001b[0m\n",
      "\u001b[0;32mC:\\Users\\abevi\\Anaconda3\\lib\\site-packages\\sklearn\\metrics\\scorer.py\u001b[0m in \u001b[0;36m_passthrough_scorer\u001b[0;34m(estimator, *args, **kwargs)\u001b[0m\n\u001b[1;32m    217\u001b[0m \u001b[1;32mdef\u001b[0m \u001b[0m_passthrough_scorer\u001b[0m\u001b[1;33m(\u001b[0m\u001b[0mestimator\u001b[0m\u001b[1;33m,\u001b[0m \u001b[1;33m*\u001b[0m\u001b[0margs\u001b[0m\u001b[1;33m,\u001b[0m \u001b[1;33m**\u001b[0m\u001b[0mkwargs\u001b[0m\u001b[1;33m)\u001b[0m\u001b[1;33m:\u001b[0m\u001b[1;33m\u001b[0m\u001b[0m\n\u001b[1;32m    218\u001b[0m     \u001b[1;34m\"\"\"Function that wraps estimator.score\"\"\"\u001b[0m\u001b[1;33m\u001b[0m\u001b[0m\n\u001b[0;32m--> 219\u001b[0;31m     \u001b[1;32mreturn\u001b[0m \u001b[0mestimator\u001b[0m\u001b[1;33m.\u001b[0m\u001b[0mscore\u001b[0m\u001b[1;33m(\u001b[0m\u001b[1;33m*\u001b[0m\u001b[0margs\u001b[0m\u001b[1;33m,\u001b[0m \u001b[1;33m**\u001b[0m\u001b[0mkwargs\u001b[0m\u001b[1;33m)\u001b[0m\u001b[1;33m\u001b[0m\u001b[0m\n\u001b[0m\u001b[1;32m    220\u001b[0m \u001b[1;33m\u001b[0m\u001b[0m\n\u001b[1;32m    221\u001b[0m \u001b[1;33m\u001b[0m\u001b[0m\n",
      "\u001b[0;32mC:\\Users\\abevi\\Anaconda3\\lib\\site-packages\\sklearn\\base.py\u001b[0m in \u001b[0;36mscore\u001b[0;34m(self, X, y, sample_weight)\u001b[0m\n\u001b[1;32m    347\u001b[0m         \"\"\"\n\u001b[1;32m    348\u001b[0m         \u001b[1;32mfrom\u001b[0m \u001b[1;33m.\u001b[0m\u001b[0mmetrics\u001b[0m \u001b[1;32mimport\u001b[0m \u001b[0maccuracy_score\u001b[0m\u001b[1;33m\u001b[0m\u001b[0m\n\u001b[0;32m--> 349\u001b[0;31m         \u001b[1;32mreturn\u001b[0m \u001b[0maccuracy_score\u001b[0m\u001b[1;33m(\u001b[0m\u001b[0my\u001b[0m\u001b[1;33m,\u001b[0m \u001b[0mself\u001b[0m\u001b[1;33m.\u001b[0m\u001b[0mpredict\u001b[0m\u001b[1;33m(\u001b[0m\u001b[0mX\u001b[0m\u001b[1;33m)\u001b[0m\u001b[1;33m,\u001b[0m \u001b[0msample_weight\u001b[0m\u001b[1;33m=\u001b[0m\u001b[0msample_weight\u001b[0m\u001b[1;33m)\u001b[0m\u001b[1;33m\u001b[0m\u001b[0m\n\u001b[0m\u001b[1;32m    350\u001b[0m \u001b[1;33m\u001b[0m\u001b[0m\n\u001b[1;32m    351\u001b[0m \u001b[1;33m\u001b[0m\u001b[0m\n",
      "\u001b[0;32mC:\\Users\\abevi\\Anaconda3\\lib\\site-packages\\sklearn\\neighbors\\classification.py\u001b[0m in \u001b[0;36mpredict\u001b[0;34m(self, X)\u001b[0m\n\u001b[1;32m    143\u001b[0m         \u001b[0mX\u001b[0m \u001b[1;33m=\u001b[0m \u001b[0mcheck_array\u001b[0m\u001b[1;33m(\u001b[0m\u001b[0mX\u001b[0m\u001b[1;33m,\u001b[0m \u001b[0maccept_sparse\u001b[0m\u001b[1;33m=\u001b[0m\u001b[1;34m'csr'\u001b[0m\u001b[1;33m)\u001b[0m\u001b[1;33m\u001b[0m\u001b[0m\n\u001b[1;32m    144\u001b[0m \u001b[1;33m\u001b[0m\u001b[0m\n\u001b[0;32m--> 145\u001b[0;31m         \u001b[0mneigh_dist\u001b[0m\u001b[1;33m,\u001b[0m \u001b[0mneigh_ind\u001b[0m \u001b[1;33m=\u001b[0m \u001b[0mself\u001b[0m\u001b[1;33m.\u001b[0m\u001b[0mkneighbors\u001b[0m\u001b[1;33m(\u001b[0m\u001b[0mX\u001b[0m\u001b[1;33m)\u001b[0m\u001b[1;33m\u001b[0m\u001b[0m\n\u001b[0m\u001b[1;32m    146\u001b[0m \u001b[1;33m\u001b[0m\u001b[0m\n\u001b[1;32m    147\u001b[0m         \u001b[0mclasses_\u001b[0m \u001b[1;33m=\u001b[0m \u001b[0mself\u001b[0m\u001b[1;33m.\u001b[0m\u001b[0mclasses_\u001b[0m\u001b[1;33m\u001b[0m\u001b[0m\n",
      "\u001b[0;32mC:\\Users\\abevi\\Anaconda3\\lib\\site-packages\\sklearn\\neighbors\\base.py\u001b[0m in \u001b[0;36mkneighbors\u001b[0;34m(self, X, n_neighbors, return_distance)\u001b[0m\n\u001b[1;32m    351\u001b[0m             \u001b[1;32mif\u001b[0m \u001b[0mself\u001b[0m\u001b[1;33m.\u001b[0m\u001b[0meffective_metric_\u001b[0m \u001b[1;33m==\u001b[0m \u001b[1;34m'euclidean'\u001b[0m\u001b[1;33m:\u001b[0m\u001b[1;33m\u001b[0m\u001b[0m\n\u001b[1;32m    352\u001b[0m                 dist = pairwise_distances(X, self._fit_X, 'euclidean',\n\u001b[0;32m--> 353\u001b[0;31m                                           n_jobs=n_jobs, squared=True)\n\u001b[0m\u001b[1;32m    354\u001b[0m             \u001b[1;32melse\u001b[0m\u001b[1;33m:\u001b[0m\u001b[1;33m\u001b[0m\u001b[0m\n\u001b[1;32m    355\u001b[0m                 dist = pairwise_distances(\n",
      "\u001b[0;32mC:\\Users\\abevi\\Anaconda3\\lib\\site-packages\\sklearn\\metrics\\pairwise.py\u001b[0m in \u001b[0;36mpairwise_distances\u001b[0;34m(X, Y, metric, n_jobs, **kwds)\u001b[0m\n\u001b[1;32m   1238\u001b[0m         \u001b[0mfunc\u001b[0m \u001b[1;33m=\u001b[0m \u001b[0mpartial\u001b[0m\u001b[1;33m(\u001b[0m\u001b[0mdistance\u001b[0m\u001b[1;33m.\u001b[0m\u001b[0mcdist\u001b[0m\u001b[1;33m,\u001b[0m \u001b[0mmetric\u001b[0m\u001b[1;33m=\u001b[0m\u001b[0mmetric\u001b[0m\u001b[1;33m,\u001b[0m \u001b[1;33m**\u001b[0m\u001b[0mkwds\u001b[0m\u001b[1;33m)\u001b[0m\u001b[1;33m\u001b[0m\u001b[0m\n\u001b[1;32m   1239\u001b[0m \u001b[1;33m\u001b[0m\u001b[0m\n\u001b[0;32m-> 1240\u001b[0;31m     \u001b[1;32mreturn\u001b[0m \u001b[0m_parallel_pairwise\u001b[0m\u001b[1;33m(\u001b[0m\u001b[0mX\u001b[0m\u001b[1;33m,\u001b[0m \u001b[0mY\u001b[0m\u001b[1;33m,\u001b[0m \u001b[0mfunc\u001b[0m\u001b[1;33m,\u001b[0m \u001b[0mn_jobs\u001b[0m\u001b[1;33m,\u001b[0m \u001b[1;33m**\u001b[0m\u001b[0mkwds\u001b[0m\u001b[1;33m)\u001b[0m\u001b[1;33m\u001b[0m\u001b[0m\n\u001b[0m\u001b[1;32m   1241\u001b[0m \u001b[1;33m\u001b[0m\u001b[0m\n\u001b[1;32m   1242\u001b[0m \u001b[1;33m\u001b[0m\u001b[0m\n",
      "\u001b[0;32mC:\\Users\\abevi\\Anaconda3\\lib\\site-packages\\sklearn\\metrics\\pairwise.py\u001b[0m in \u001b[0;36m_parallel_pairwise\u001b[0;34m(X, Y, func, n_jobs, **kwds)\u001b[0m\n\u001b[1;32m   1081\u001b[0m     \u001b[1;32mif\u001b[0m \u001b[0mn_jobs\u001b[0m \u001b[1;33m==\u001b[0m \u001b[1;36m1\u001b[0m\u001b[1;33m:\u001b[0m\u001b[1;33m\u001b[0m\u001b[0m\n\u001b[1;32m   1082\u001b[0m         \u001b[1;31m# Special case to avoid picklability checks in delayed\u001b[0m\u001b[1;33m\u001b[0m\u001b[1;33m\u001b[0m\u001b[0m\n\u001b[0;32m-> 1083\u001b[0;31m         \u001b[1;32mreturn\u001b[0m \u001b[0mfunc\u001b[0m\u001b[1;33m(\u001b[0m\u001b[0mX\u001b[0m\u001b[1;33m,\u001b[0m \u001b[0mY\u001b[0m\u001b[1;33m,\u001b[0m \u001b[1;33m**\u001b[0m\u001b[0mkwds\u001b[0m\u001b[1;33m)\u001b[0m\u001b[1;33m\u001b[0m\u001b[0m\n\u001b[0m\u001b[1;32m   1084\u001b[0m \u001b[1;33m\u001b[0m\u001b[0m\n\u001b[1;32m   1085\u001b[0m     \u001b[1;31m# TODO: in some cases, backend='threading' may be appropriate\u001b[0m\u001b[1;33m\u001b[0m\u001b[1;33m\u001b[0m\u001b[0m\n",
      "\u001b[0;32mC:\\Users\\abevi\\Anaconda3\\lib\\site-packages\\sklearn\\metrics\\pairwise.py\u001b[0m in \u001b[0;36meuclidean_distances\u001b[0;34m(X, Y, Y_norm_squared, squared, X_norm_squared)\u001b[0m\n\u001b[1;32m    243\u001b[0m         \u001b[0mYY\u001b[0m \u001b[1;33m=\u001b[0m \u001b[0mrow_norms\u001b[0m\u001b[1;33m(\u001b[0m\u001b[0mY\u001b[0m\u001b[1;33m,\u001b[0m \u001b[0msquared\u001b[0m\u001b[1;33m=\u001b[0m\u001b[1;32mTrue\u001b[0m\u001b[1;33m)\u001b[0m\u001b[1;33m[\u001b[0m\u001b[0mnp\u001b[0m\u001b[1;33m.\u001b[0m\u001b[0mnewaxis\u001b[0m\u001b[1;33m,\u001b[0m \u001b[1;33m:\u001b[0m\u001b[1;33m]\u001b[0m\u001b[1;33m\u001b[0m\u001b[0m\n\u001b[1;32m    244\u001b[0m \u001b[1;33m\u001b[0m\u001b[0m\n\u001b[0;32m--> 245\u001b[0;31m     \u001b[0mdistances\u001b[0m \u001b[1;33m=\u001b[0m \u001b[0msafe_sparse_dot\u001b[0m\u001b[1;33m(\u001b[0m\u001b[0mX\u001b[0m\u001b[1;33m,\u001b[0m \u001b[0mY\u001b[0m\u001b[1;33m.\u001b[0m\u001b[0mT\u001b[0m\u001b[1;33m,\u001b[0m \u001b[0mdense_output\u001b[0m\u001b[1;33m=\u001b[0m\u001b[1;32mTrue\u001b[0m\u001b[1;33m)\u001b[0m\u001b[1;33m\u001b[0m\u001b[0m\n\u001b[0m\u001b[1;32m    246\u001b[0m     \u001b[0mdistances\u001b[0m \u001b[1;33m*=\u001b[0m \u001b[1;33m-\u001b[0m\u001b[1;36m2\u001b[0m\u001b[1;33m\u001b[0m\u001b[0m\n\u001b[1;32m    247\u001b[0m     \u001b[0mdistances\u001b[0m \u001b[1;33m+=\u001b[0m \u001b[0mXX\u001b[0m\u001b[1;33m\u001b[0m\u001b[0m\n",
      "\u001b[0;32mC:\\Users\\abevi\\Anaconda3\\lib\\site-packages\\sklearn\\utils\\extmath.py\u001b[0m in \u001b[0;36msafe_sparse_dot\u001b[0;34m(a, b, dense_output)\u001b[0m\n\u001b[1;32m    182\u001b[0m     \"\"\"\n\u001b[1;32m    183\u001b[0m     \u001b[1;32mif\u001b[0m \u001b[0missparse\u001b[0m\u001b[1;33m(\u001b[0m\u001b[0ma\u001b[0m\u001b[1;33m)\u001b[0m \u001b[1;32mor\u001b[0m \u001b[0missparse\u001b[0m\u001b[1;33m(\u001b[0m\u001b[0mb\u001b[0m\u001b[1;33m)\u001b[0m\u001b[1;33m:\u001b[0m\u001b[1;33m\u001b[0m\u001b[0m\n\u001b[0;32m--> 184\u001b[0;31m         \u001b[0mret\u001b[0m \u001b[1;33m=\u001b[0m \u001b[0ma\u001b[0m \u001b[1;33m*\u001b[0m \u001b[0mb\u001b[0m\u001b[1;33m\u001b[0m\u001b[0m\n\u001b[0m\u001b[1;32m    185\u001b[0m         \u001b[1;32mif\u001b[0m \u001b[0mdense_output\u001b[0m \u001b[1;32mand\u001b[0m \u001b[0mhasattr\u001b[0m\u001b[1;33m(\u001b[0m\u001b[0mret\u001b[0m\u001b[1;33m,\u001b[0m \u001b[1;34m\"toarray\"\u001b[0m\u001b[1;33m)\u001b[0m\u001b[1;33m:\u001b[0m\u001b[1;33m\u001b[0m\u001b[0m\n\u001b[1;32m    186\u001b[0m             \u001b[0mret\u001b[0m \u001b[1;33m=\u001b[0m \u001b[0mret\u001b[0m\u001b[1;33m.\u001b[0m\u001b[0mtoarray\u001b[0m\u001b[1;33m(\u001b[0m\u001b[1;33m)\u001b[0m\u001b[1;33m\u001b[0m\u001b[0m\n",
      "\u001b[0;32mC:\\Users\\abevi\\Anaconda3\\lib\\site-packages\\scipy\\sparse\\base.py\u001b[0m in \u001b[0;36m__mul__\u001b[0;34m(self, other)\u001b[0m\n\u001b[1;32m    351\u001b[0m             \u001b[1;32mif\u001b[0m \u001b[0mself\u001b[0m\u001b[1;33m.\u001b[0m\u001b[0mshape\u001b[0m\u001b[1;33m[\u001b[0m\u001b[1;36m1\u001b[0m\u001b[1;33m]\u001b[0m \u001b[1;33m!=\u001b[0m \u001b[0mother\u001b[0m\u001b[1;33m.\u001b[0m\u001b[0mshape\u001b[0m\u001b[1;33m[\u001b[0m\u001b[1;36m0\u001b[0m\u001b[1;33m]\u001b[0m\u001b[1;33m:\u001b[0m\u001b[1;33m\u001b[0m\u001b[0m\n\u001b[1;32m    352\u001b[0m                 \u001b[1;32mraise\u001b[0m \u001b[0mValueError\u001b[0m\u001b[1;33m(\u001b[0m\u001b[1;34m'dimension mismatch'\u001b[0m\u001b[1;33m)\u001b[0m\u001b[1;33m\u001b[0m\u001b[0m\n\u001b[0;32m--> 353\u001b[0;31m             \u001b[1;32mreturn\u001b[0m \u001b[0mself\u001b[0m\u001b[1;33m.\u001b[0m\u001b[0m_mul_sparse_matrix\u001b[0m\u001b[1;33m(\u001b[0m\u001b[0mother\u001b[0m\u001b[1;33m)\u001b[0m\u001b[1;33m\u001b[0m\u001b[0m\n\u001b[0m\u001b[1;32m    354\u001b[0m \u001b[1;33m\u001b[0m\u001b[0m\n\u001b[1;32m    355\u001b[0m         \u001b[1;32mtry\u001b[0m\u001b[1;33m:\u001b[0m\u001b[1;33m\u001b[0m\u001b[0m\n",
      "\u001b[0;32mC:\\Users\\abevi\\Anaconda3\\lib\\site-packages\\scipy\\sparse\\compressed.py\u001b[0m in \u001b[0;36m_mul_sparse_matrix\u001b[0;34m(self, other)\u001b[0m\n\u001b[1;32m    494\u001b[0m                                     maxval=nnz)\n\u001b[1;32m    495\u001b[0m         \u001b[0mindptr\u001b[0m \u001b[1;33m=\u001b[0m \u001b[0mnp\u001b[0m\u001b[1;33m.\u001b[0m\u001b[0masarray\u001b[0m\u001b[1;33m(\u001b[0m\u001b[0mindptr\u001b[0m\u001b[1;33m,\u001b[0m \u001b[0mdtype\u001b[0m\u001b[1;33m=\u001b[0m\u001b[0midx_dtype\u001b[0m\u001b[1;33m)\u001b[0m\u001b[1;33m\u001b[0m\u001b[0m\n\u001b[0;32m--> 496\u001b[0;31m         \u001b[0mindices\u001b[0m \u001b[1;33m=\u001b[0m \u001b[0mnp\u001b[0m\u001b[1;33m.\u001b[0m\u001b[0mempty\u001b[0m\u001b[1;33m(\u001b[0m\u001b[0mnnz\u001b[0m\u001b[1;33m,\u001b[0m \u001b[0mdtype\u001b[0m\u001b[1;33m=\u001b[0m\u001b[0midx_dtype\u001b[0m\u001b[1;33m)\u001b[0m\u001b[1;33m\u001b[0m\u001b[0m\n\u001b[0m\u001b[1;32m    497\u001b[0m         \u001b[0mdata\u001b[0m \u001b[1;33m=\u001b[0m \u001b[0mnp\u001b[0m\u001b[1;33m.\u001b[0m\u001b[0mempty\u001b[0m\u001b[1;33m(\u001b[0m\u001b[0mnnz\u001b[0m\u001b[1;33m,\u001b[0m \u001b[0mdtype\u001b[0m\u001b[1;33m=\u001b[0m\u001b[0mupcast\u001b[0m\u001b[1;33m(\u001b[0m\u001b[0mself\u001b[0m\u001b[1;33m.\u001b[0m\u001b[0mdtype\u001b[0m\u001b[1;33m,\u001b[0m \u001b[0mother\u001b[0m\u001b[1;33m.\u001b[0m\u001b[0mdtype\u001b[0m\u001b[1;33m)\u001b[0m\u001b[1;33m)\u001b[0m\u001b[1;33m\u001b[0m\u001b[0m\n\u001b[1;32m    498\u001b[0m \u001b[1;33m\u001b[0m\u001b[0m\n",
      "\u001b[0;31mMemoryError\u001b[0m: "
     ]
    }
   ],
   "source": [
    "skf = StratifiedKFold(y_train, random_state=0)\n",
    "knn = KNeighborsClassifier()\n",
    "param_grid = {'n_neighbors': [5, 10],\n",
    "              'metric': ['minkowski', 'manhattan']}\n",
    "\n",
    "cv = GridSearchCV(knn, param_grid=param_grid, cv=skf).fit(X_train, y_train)\n",
    "\n",
    "cv_final = cv.best_estimator_\n",
    "cv.fit(X, y)"
   ]
  },
  {
   "cell_type": "code",
   "execution_count": null,
   "metadata": {
    "collapsed": true,
    "deletable": true,
    "editable": true
   },
   "outputs": [],
   "source": [
    "print(classification_report(y, cv.predict(X)))"
   ]
  },
  {
   "cell_type": "code",
   "execution_count": null,
   "metadata": {
    "collapsed": true,
    "deletable": true,
    "editable": true
   },
   "outputs": [],
   "source": []
  },
  {
   "cell_type": "code",
   "execution_count": null,
   "metadata": {
    "collapsed": true,
    "deletable": true,
    "editable": true
   },
   "outputs": [],
   "source": []
  },
  {
   "cell_type": "code",
   "execution_count": null,
   "metadata": {
    "collapsed": true,
    "deletable": true,
    "editable": true
   },
   "outputs": [],
   "source": []
  },
  {
   "cell_type": "code",
   "execution_count": 77,
   "metadata": {
    "collapsed": false,
    "deletable": true,
    "editable": true
   },
   "outputs": [
    {
     "data": {
      "text/plain": [
       "array(['Lingüística, Letras e Artes'], dtype=object)"
      ]
     },
     "execution_count": 77,
     "metadata": {},
     "output_type": "execute_result"
    }
   ],
   "source": [
    "le.inverse_transform(kn.predict(tfidf.transform([\"clarice lispector\"])))"
   ]
  },
  {
   "cell_type": "code",
   "execution_count": 78,
   "metadata": {
    "collapsed": false,
    "deletable": true,
    "editable": true
   },
   "outputs": [
    {
     "data": {
      "text/plain": [
       "array(['Ciências Agrárias'], dtype=object)"
      ]
     },
     "execution_count": 78,
     "metadata": {},
     "output_type": "execute_result"
    }
   ],
   "source": [
    "le.inverse_transform(kn.predict(tfidf.transform([\"os bois e as vacas são amigos\"])))"
   ]
  },
  {
   "cell_type": "code",
   "execution_count": 79,
   "metadata": {
    "collapsed": false,
    "deletable": true,
    "editable": true
   },
   "outputs": [
    {
     "data": {
      "text/plain": [
       "array(['Ciências Exatas e da Terra'], dtype=object)"
      ]
     },
     "execution_count": 79,
     "metadata": {},
     "output_type": "execute_result"
    }
   ],
   "source": [
    "le.inverse_transform(kn.predict(tfidf.transform([\"mineração de dados no combate à evasão de discentes\"])))"
   ]
  },
  {
   "cell_type": "code",
   "execution_count": 82,
   "metadata": {
    "collapsed": false,
    "deletable": true,
    "editable": true
   },
   "outputs": [
    {
     "data": {
      "text/plain": [
       "array(['Engenharias e Ciência da Computação'], dtype=object)"
      ]
     },
     "execution_count": 82,
     "metadata": {},
     "output_type": "execute_result"
    }
   ],
   "source": [
    "le.inverse_transform(kn.predict(tfidf.transform([\"programação orientada a objetos\"])))"
   ]
  },
  {
   "cell_type": "code",
   "execution_count": 84,
   "metadata": {
    "collapsed": false,
    "deletable": true,
    "editable": true
   },
   "outputs": [
    {
     "data": {
      "text/plain": [
       "array(['Ciências Sociais Aplicadas'], dtype=object)"
      ]
     },
     "execution_count": 84,
     "metadata": {},
     "output_type": "execute_result"
    }
   ],
   "source": [
    "le.inverse_transform(kn.predict(tfidf.transform([\"a sociedade o burguês o estado e o capitalismo\"])))"
   ]
  },
  {
   "cell_type": "markdown",
   "metadata": {
    "deletable": true,
    "editable": true
   },
   "source": [
    "# Quantidade por estado e ano"
   ]
  },
  {
   "cell_type": "code",
   "execution_count": 81,
   "metadata": {
    "collapsed": false,
    "deletable": true,
    "editable": true
   },
   "outputs": [
    {
     "data": {
      "text/html": [
       "<div>\n",
       "<table border=\"1\" class=\"dataframe\">\n",
       "  <thead>\n",
       "    <tr style=\"text-align: right;\">\n",
       "      <th>ANO-PAGAMENTO</th>\n",
       "      <th>2001</th>\n",
       "      <th>2002</th>\n",
       "      <th>2003</th>\n",
       "      <th>2004</th>\n",
       "      <th>2005</th>\n",
       "      <th>2006</th>\n",
       "      <th>2007</th>\n",
       "      <th>2008</th>\n",
       "      <th>2009</th>\n",
       "      <th>2010</th>\n",
       "      <th>2011</th>\n",
       "      <th>2012</th>\n",
       "      <th>2013</th>\n",
       "      <th>2014</th>\n",
       "      <th>2015</th>\n",
       "      <th>2016</th>\n",
       "      <th>2017</th>\n",
       "    </tr>\n",
       "    <tr>\n",
       "      <th>SIGLA-UF-INSTITUICAO</th>\n",
       "      <th></th>\n",
       "      <th></th>\n",
       "      <th></th>\n",
       "      <th></th>\n",
       "      <th></th>\n",
       "      <th></th>\n",
       "      <th></th>\n",
       "      <th></th>\n",
       "      <th></th>\n",
       "      <th></th>\n",
       "      <th></th>\n",
       "      <th></th>\n",
       "      <th></th>\n",
       "      <th></th>\n",
       "      <th></th>\n",
       "      <th></th>\n",
       "      <th></th>\n",
       "    </tr>\n",
       "  </thead>\n",
       "  <tbody>\n",
       "    <tr>\n",
       "      <th>AC</th>\n",
       "      <td>108.0</td>\n",
       "      <td>75.0</td>\n",
       "      <td>83.0</td>\n",
       "      <td>110.0</td>\n",
       "      <td>105.0</td>\n",
       "      <td>132.0</td>\n",
       "      <td>135.0</td>\n",
       "      <td>212.0</td>\n",
       "      <td>247.0</td>\n",
       "      <td>282.0</td>\n",
       "      <td>384.0</td>\n",
       "      <td>438.0</td>\n",
       "      <td>594.0</td>\n",
       "      <td>484.0</td>\n",
       "      <td>593.0</td>\n",
       "      <td>490.0</td>\n",
       "      <td>273.0</td>\n",
       "    </tr>\n",
       "    <tr>\n",
       "      <th>AL</th>\n",
       "      <td>511.0</td>\n",
       "      <td>494.0</td>\n",
       "      <td>424.0</td>\n",
       "      <td>459.0</td>\n",
       "      <td>526.0</td>\n",
       "      <td>599.0</td>\n",
       "      <td>635.0</td>\n",
       "      <td>823.0</td>\n",
       "      <td>1010.0</td>\n",
       "      <td>1208.0</td>\n",
       "      <td>1313.0</td>\n",
       "      <td>1380.0</td>\n",
       "      <td>1454.0</td>\n",
       "      <td>1718.0</td>\n",
       "      <td>1644.0</td>\n",
       "      <td>1378.0</td>\n",
       "      <td>662.0</td>\n",
       "    </tr>\n",
       "    <tr>\n",
       "      <th>AM</th>\n",
       "      <td>937.0</td>\n",
       "      <td>1028.0</td>\n",
       "      <td>1132.0</td>\n",
       "      <td>1235.0</td>\n",
       "      <td>1248.0</td>\n",
       "      <td>1592.0</td>\n",
       "      <td>1590.0</td>\n",
       "      <td>1750.0</td>\n",
       "      <td>1956.0</td>\n",
       "      <td>2089.0</td>\n",
       "      <td>2386.0</td>\n",
       "      <td>2283.0</td>\n",
       "      <td>2269.0</td>\n",
       "      <td>2147.0</td>\n",
       "      <td>2269.0</td>\n",
       "      <td>1786.0</td>\n",
       "      <td>924.0</td>\n",
       "    </tr>\n",
       "  </tbody>\n",
       "</table>\n",
       "</div>"
      ],
      "text/plain": [
       "ANO-PAGAMENTO          2001    2002    2003    2004    2005    2006    2007  \\\n",
       "SIGLA-UF-INSTITUICAO                                                          \n",
       "AC                    108.0    75.0    83.0   110.0   105.0   132.0   135.0   \n",
       "AL                    511.0   494.0   424.0   459.0   526.0   599.0   635.0   \n",
       "AM                    937.0  1028.0  1132.0  1235.0  1248.0  1592.0  1590.0   \n",
       "\n",
       "ANO-PAGAMENTO           2008    2009    2010    2011    2012    2013    2014  \\\n",
       "SIGLA-UF-INSTITUICAO                                                           \n",
       "AC                     212.0   247.0   282.0   384.0   438.0   594.0   484.0   \n",
       "AL                     823.0  1010.0  1208.0  1313.0  1380.0  1454.0  1718.0   \n",
       "AM                    1750.0  1956.0  2089.0  2386.0  2283.0  2269.0  2147.0   \n",
       "\n",
       "ANO-PAGAMENTO           2015    2016   2017  \n",
       "SIGLA-UF-INSTITUICAO                         \n",
       "AC                     593.0   490.0  273.0  \n",
       "AL                    1644.0  1378.0  662.0  \n",
       "AM                    2269.0  1786.0  924.0  "
      ]
     },
     "execution_count": 81,
     "metadata": {},
     "output_type": "execute_result"
    }
   ],
   "source": [
    "# contando a quantidade de registros por ano\n",
    "qpea = df.groupby([\"SIGLA-UF-INSTITUICAO\", \"ANO-PAGAMENTO\"]).size().unstack()\n",
    "qpea.head(3)"
   ]
  },
  {
   "cell_type": "code",
   "execution_count": 120,
   "metadata": {
    "collapsed": false,
    "deletable": true,
    "editable": true
   },
   "outputs": [
    {
     "data": {
      "text/html": [
       "<div>\n",
       "<table border=\"1\" class=\"dataframe\">\n",
       "  <thead>\n",
       "    <tr>\n",
       "      <th></th>\n",
       "      <th colspan=\"3\" halign=\"left\">2001</th>\n",
       "      <th colspan=\"3\" halign=\"left\">2002</th>\n",
       "      <th colspan=\"3\" halign=\"left\">2003</th>\n",
       "      <th>2004</th>\n",
       "      <th>...</th>\n",
       "      <th>2014</th>\n",
       "      <th colspan=\"3\" halign=\"left\">2015</th>\n",
       "      <th colspan=\"3\" halign=\"left\">2016</th>\n",
       "      <th colspan=\"3\" halign=\"left\">2017</th>\n",
       "    </tr>\n",
       "    <tr>\n",
       "      <th></th>\n",
       "      <th>NOVOS</th>\n",
       "      <th>ANTIGOS</th>\n",
       "      <th>TOTAL</th>\n",
       "      <th>NOVOS</th>\n",
       "      <th>ANTIGOS</th>\n",
       "      <th>TOTAL</th>\n",
       "      <th>NOVOS</th>\n",
       "      <th>ANTIGOS</th>\n",
       "      <th>TOTAL</th>\n",
       "      <th>NOVOS</th>\n",
       "      <th>...</th>\n",
       "      <th>TOTAL</th>\n",
       "      <th>NOVOS</th>\n",
       "      <th>ANTIGOS</th>\n",
       "      <th>TOTAL</th>\n",
       "      <th>NOVOS</th>\n",
       "      <th>ANTIGOS</th>\n",
       "      <th>TOTAL</th>\n",
       "      <th>NOVOS</th>\n",
       "      <th>ANTIGOS</th>\n",
       "      <th>TOTAL</th>\n",
       "    </tr>\n",
       "    <tr>\n",
       "      <th>SIGLA-UF-INSTITUICAO</th>\n",
       "      <th></th>\n",
       "      <th></th>\n",
       "      <th></th>\n",
       "      <th></th>\n",
       "      <th></th>\n",
       "      <th></th>\n",
       "      <th></th>\n",
       "      <th></th>\n",
       "      <th></th>\n",
       "      <th></th>\n",
       "      <th></th>\n",
       "      <th></th>\n",
       "      <th></th>\n",
       "      <th></th>\n",
       "      <th></th>\n",
       "      <th></th>\n",
       "      <th></th>\n",
       "      <th></th>\n",
       "      <th></th>\n",
       "      <th></th>\n",
       "      <th></th>\n",
       "    </tr>\n",
       "  </thead>\n",
       "  <tbody>\n",
       "    <tr>\n",
       "      <th>AC</th>\n",
       "      <td>108.0</td>\n",
       "      <td>NaN</td>\n",
       "      <td>108.0</td>\n",
       "      <td>28.0</td>\n",
       "      <td>46.0</td>\n",
       "      <td>74.0</td>\n",
       "      <td>34.0</td>\n",
       "      <td>46.0</td>\n",
       "      <td>80.0</td>\n",
       "      <td>44.0</td>\n",
       "      <td>...</td>\n",
       "      <td>484.0</td>\n",
       "      <td>338.0</td>\n",
       "      <td>255.0</td>\n",
       "      <td>593.0</td>\n",
       "      <td>248.0</td>\n",
       "      <td>237.0</td>\n",
       "      <td>485.0</td>\n",
       "      <td>43.0</td>\n",
       "      <td>230.0</td>\n",
       "      <td>273.0</td>\n",
       "    </tr>\n",
       "    <tr>\n",
       "      <th>AL</th>\n",
       "      <td>511.0</td>\n",
       "      <td>NaN</td>\n",
       "      <td>511.0</td>\n",
       "      <td>159.0</td>\n",
       "      <td>301.0</td>\n",
       "      <td>460.0</td>\n",
       "      <td>168.0</td>\n",
       "      <td>249.0</td>\n",
       "      <td>417.0</td>\n",
       "      <td>195.0</td>\n",
       "      <td>...</td>\n",
       "      <td>1717.0</td>\n",
       "      <td>917.0</td>\n",
       "      <td>727.0</td>\n",
       "      <td>1644.0</td>\n",
       "      <td>646.0</td>\n",
       "      <td>614.0</td>\n",
       "      <td>1260.0</td>\n",
       "      <td>137.0</td>\n",
       "      <td>504.0</td>\n",
       "      <td>641.0</td>\n",
       "    </tr>\n",
       "    <tr>\n",
       "      <th>AM</th>\n",
       "      <td>937.0</td>\n",
       "      <td>NaN</td>\n",
       "      <td>937.0</td>\n",
       "      <td>432.0</td>\n",
       "      <td>524.0</td>\n",
       "      <td>956.0</td>\n",
       "      <td>531.0</td>\n",
       "      <td>548.0</td>\n",
       "      <td>1079.0</td>\n",
       "      <td>438.0</td>\n",
       "      <td>...</td>\n",
       "      <td>2139.0</td>\n",
       "      <td>1194.0</td>\n",
       "      <td>1072.0</td>\n",
       "      <td>2266.0</td>\n",
       "      <td>738.0</td>\n",
       "      <td>1044.0</td>\n",
       "      <td>1782.0</td>\n",
       "      <td>150.0</td>\n",
       "      <td>774.0</td>\n",
       "      <td>924.0</td>\n",
       "    </tr>\n",
       "    <tr>\n",
       "      <th>AP</th>\n",
       "      <td>24.0</td>\n",
       "      <td>NaN</td>\n",
       "      <td>24.0</td>\n",
       "      <td>7.0</td>\n",
       "      <td>14.0</td>\n",
       "      <td>21.0</td>\n",
       "      <td>15.0</td>\n",
       "      <td>8.0</td>\n",
       "      <td>23.0</td>\n",
       "      <td>8.0</td>\n",
       "      <td>...</td>\n",
       "      <td>528.0</td>\n",
       "      <td>218.0</td>\n",
       "      <td>203.0</td>\n",
       "      <td>421.0</td>\n",
       "      <td>125.0</td>\n",
       "      <td>185.0</td>\n",
       "      <td>310.0</td>\n",
       "      <td>19.0</td>\n",
       "      <td>90.0</td>\n",
       "      <td>109.0</td>\n",
       "    </tr>\n",
       "    <tr>\n",
       "      <th>BA</th>\n",
       "      <td>1770.0</td>\n",
       "      <td>NaN</td>\n",
       "      <td>1770.0</td>\n",
       "      <td>628.0</td>\n",
       "      <td>990.0</td>\n",
       "      <td>1618.0</td>\n",
       "      <td>819.0</td>\n",
       "      <td>1003.0</td>\n",
       "      <td>1822.0</td>\n",
       "      <td>890.0</td>\n",
       "      <td>...</td>\n",
       "      <td>5309.0</td>\n",
       "      <td>2860.0</td>\n",
       "      <td>2362.0</td>\n",
       "      <td>5222.0</td>\n",
       "      <td>2010.0</td>\n",
       "      <td>2562.0</td>\n",
       "      <td>4572.0</td>\n",
       "      <td>384.0</td>\n",
       "      <td>1944.0</td>\n",
       "      <td>2328.0</td>\n",
       "    </tr>\n",
       "    <tr>\n",
       "      <th>CE</th>\n",
       "      <td>2454.0</td>\n",
       "      <td>NaN</td>\n",
       "      <td>2454.0</td>\n",
       "      <td>601.0</td>\n",
       "      <td>1351.0</td>\n",
       "      <td>1952.0</td>\n",
       "      <td>894.0</td>\n",
       "      <td>1094.0</td>\n",
       "      <td>1988.0</td>\n",
       "      <td>948.0</td>\n",
       "      <td>...</td>\n",
       "      <td>6288.0</td>\n",
       "      <td>3279.0</td>\n",
       "      <td>2877.0</td>\n",
       "      <td>6156.0</td>\n",
       "      <td>2483.0</td>\n",
       "      <td>2791.0</td>\n",
       "      <td>5274.0</td>\n",
       "      <td>407.0</td>\n",
       "      <td>2083.0</td>\n",
       "      <td>2490.0</td>\n",
       "    </tr>\n",
       "    <tr>\n",
       "      <th>DF</th>\n",
       "      <td>5214.0</td>\n",
       "      <td>NaN</td>\n",
       "      <td>5214.0</td>\n",
       "      <td>2089.0</td>\n",
       "      <td>3382.0</td>\n",
       "      <td>5471.0</td>\n",
       "      <td>1890.0</td>\n",
       "      <td>3623.0</td>\n",
       "      <td>5513.0</td>\n",
       "      <td>1989.0</td>\n",
       "      <td>...</td>\n",
       "      <td>10137.0</td>\n",
       "      <td>7035.0</td>\n",
       "      <td>4584.0</td>\n",
       "      <td>11619.0</td>\n",
       "      <td>3433.0</td>\n",
       "      <td>5209.0</td>\n",
       "      <td>8642.0</td>\n",
       "      <td>542.0</td>\n",
       "      <td>3682.0</td>\n",
       "      <td>4224.0</td>\n",
       "    </tr>\n",
       "    <tr>\n",
       "      <th>ES</th>\n",
       "      <td>517.0</td>\n",
       "      <td>NaN</td>\n",
       "      <td>517.0</td>\n",
       "      <td>165.0</td>\n",
       "      <td>297.0</td>\n",
       "      <td>462.0</td>\n",
       "      <td>207.0</td>\n",
       "      <td>264.0</td>\n",
       "      <td>471.0</td>\n",
       "      <td>243.0</td>\n",
       "      <td>...</td>\n",
       "      <td>1445.0</td>\n",
       "      <td>827.0</td>\n",
       "      <td>767.0</td>\n",
       "      <td>1594.0</td>\n",
       "      <td>669.0</td>\n",
       "      <td>763.0</td>\n",
       "      <td>1432.0</td>\n",
       "      <td>119.0</td>\n",
       "      <td>609.0</td>\n",
       "      <td>728.0</td>\n",
       "    </tr>\n",
       "  </tbody>\n",
       "</table>\n",
       "<p>8 rows × 51 columns</p>\n",
       "</div>"
      ],
      "text/plain": [
       "                        2001                    2002                    2003  \\\n",
       "                       NOVOS ANTIGOS   TOTAL   NOVOS ANTIGOS   TOTAL   NOVOS   \n",
       "SIGLA-UF-INSTITUICAO                                                           \n",
       "AC                     108.0     NaN   108.0    28.0    46.0    74.0    34.0   \n",
       "AL                     511.0     NaN   511.0   159.0   301.0   460.0   168.0   \n",
       "AM                     937.0     NaN   937.0   432.0   524.0   956.0   531.0   \n",
       "AP                      24.0     NaN    24.0     7.0    14.0    21.0    15.0   \n",
       "BA                    1770.0     NaN  1770.0   628.0   990.0  1618.0   819.0   \n",
       "CE                    2454.0     NaN  2454.0   601.0  1351.0  1952.0   894.0   \n",
       "DF                    5214.0     NaN  5214.0  2089.0  3382.0  5471.0  1890.0   \n",
       "ES                     517.0     NaN   517.0   165.0   297.0   462.0   207.0   \n",
       "\n",
       "                                        2004   ...       2014    2015          \\\n",
       "                     ANTIGOS   TOTAL   NOVOS   ...      TOTAL   NOVOS ANTIGOS   \n",
       "SIGLA-UF-INSTITUICAO                           ...                              \n",
       "AC                      46.0    80.0    44.0   ...      484.0   338.0   255.0   \n",
       "AL                     249.0   417.0   195.0   ...     1717.0   917.0   727.0   \n",
       "AM                     548.0  1079.0   438.0   ...     2139.0  1194.0  1072.0   \n",
       "AP                       8.0    23.0     8.0   ...      528.0   218.0   203.0   \n",
       "BA                    1003.0  1822.0   890.0   ...     5309.0  2860.0  2362.0   \n",
       "CE                    1094.0  1988.0   948.0   ...     6288.0  3279.0  2877.0   \n",
       "DF                    3623.0  5513.0  1989.0   ...    10137.0  7035.0  4584.0   \n",
       "ES                     264.0   471.0   243.0   ...     1445.0   827.0   767.0   \n",
       "\n",
       "                                 2016                   2017                  \n",
       "                        TOTAL   NOVOS ANTIGOS   TOTAL  NOVOS ANTIGOS   TOTAL  \n",
       "SIGLA-UF-INSTITUICAO                                                          \n",
       "AC                      593.0   248.0   237.0   485.0   43.0   230.0   273.0  \n",
       "AL                     1644.0   646.0   614.0  1260.0  137.0   504.0   641.0  \n",
       "AM                     2266.0   738.0  1044.0  1782.0  150.0   774.0   924.0  \n",
       "AP                      421.0   125.0   185.0   310.0   19.0    90.0   109.0  \n",
       "BA                     5222.0  2010.0  2562.0  4572.0  384.0  1944.0  2328.0  \n",
       "CE                     6156.0  2483.0  2791.0  5274.0  407.0  2083.0  2490.0  \n",
       "DF                    11619.0  3433.0  5209.0  8642.0  542.0  3682.0  4224.0  \n",
       "ES                     1594.0   669.0   763.0  1432.0  119.0   609.0   728.0  \n",
       "\n",
       "[8 rows x 51 columns]"
      ]
     },
     "execution_count": 120,
     "metadata": {},
     "output_type": "execute_result"
    }
   ],
   "source": [
    "# contando a quantidade de processos que não existiam no ano anterior\n",
    "def calcula_qtd_novos_processos_por_ano(g):\n",
    "    \n",
    "    ggs = [group for _, group in g.groupby([\"ANO-PAGAMENTO\"])]\n",
    "    re = pd.DataFrame(np.nan, columns=[\"NOVOS\", \"ANTIGOS\", \"TOTAL\"], index=g[\"ANO-PAGAMENTO\"].unique())\n",
    "   \n",
    "    re.iloc[0, 0] = ggs[0].shape[0]\n",
    "    re.iloc[0, 1] = np.nan\n",
    "    re.iloc[0, 2] = ggs[0].shape[0]\n",
    "    \n",
    "    for i in range(0, len(ggs) - 1):\n",
    "        \n",
    "        codigos0 = set(ggs[i][\"CODIGO-DO-PROCESSO\"].unique())\n",
    "        codigos1 = set(ggs[i+1][\"CODIGO-DO-PROCESSO\"].unique())\n",
    "        \n",
    "        re.iloc[i+1, 0] = len(codigos1.difference(codigos0))\n",
    "        re.iloc[i+1, 1] = len(codigos1.intersection(codigos0))\n",
    "        re.iloc[i+1, 2] = len(codigos1)\n",
    "    \n",
    "    return re.T\n",
    "\n",
    "qpea = df.groupby([\"SIGLA-UF-INSTITUICAO\"]).apply(calcula_qtd_novos_processos_por_ano)\n",
    "qpea.unstack().head(8)"
   ]
  },
  {
   "cell_type": "code",
   "execution_count": 121,
   "metadata": {
    "collapsed": false,
    "deletable": true,
    "editable": true
   },
   "outputs": [
    {
     "data": {
      "text/plain": [
       "<matplotlib.axes._subplots.AxesSubplot at 0x22561eaa860>"
      ]
     },
     "execution_count": 121,
     "metadata": {},
     "output_type": "execute_result"
    },
    {
     "data": {
      "image/png": "[encoded data removed]",
      "text/plain": [
       "<matplotlib.figure.Figure at 0x22561e8b4a8>"
      ]
     },
     "metadata": {},
     "output_type": "display_data"
    }
   ],
   "source": [
    "nordeste = ['CE', 'PE', 'RN', 'BA', 'MA', 'AL', 'PI', 'PA', 'SE']\n",
    "\n",
    "df.groupby(['ANO-PAGAMENTO', 'SIGLA-UF-INSTITUICAO'])['VALOR-PAGO'].sum()\\\n",
    ".loc[(slice(None), nordeste)]\\\n",
    ".unstack().plot(figsize=(12, 8), cmap=plt.cm.Vega20b)"
   ]
  },
  {
   "cell_type": "code",
   "execution_count": 122,
   "metadata": {
    "collapsed": false,
    "deletable": true,
    "editable": true
   },
   "outputs": [],
   "source": [
    "modalidade = pd.read_csv(\"../dataset-bolsas-cnpq/MODALIDADE-DO-PROCESSO.csv\")"
   ]
  },
  {
   "cell_type": "code",
   "execution_count": 125,
   "metadata": {
    "collapsed": false,
    "deletable": true,
    "editable": true
   },
   "outputs": [
    {
     "data": {
      "text/plain": [
       "<matplotlib.axes._subplots.AxesSubplot at 0x22538213b38>"
      ]
     },
     "execution_count": 125,
     "metadata": {},
     "output_type": "execute_result"
    },
    {
     "data": {
      "image/png": "[encoded data removed]",
      "text/plain": [
       "<matplotlib.figure.Figure at 0x22539b66550>"
      ]
     },
     "metadata": {},
     "output_type": "display_data"
    }
   ],
   "source": [
    "pd.merge(df, modalidade).groupby(['ANO-PAGAMENTO', 'MODALIDADE-DO-PROCESSO'])['VALOR-PAGO'].sum()\\\n",
    ".loc[(slice(None), ['Mestrado', 'Doutorado', 'Pós-Doutorado', 'Iniciação Científica'])]\\\n",
    ".unstack().plot(figsize=(12, 8), cmap=plt.cm.Vega20b)"
   ]
  },
  {
   "cell_type": "code",
   "execution_count": null,
   "metadata": {
    "collapsed": true,
    "deletable": true,
    "editable": true
   },
   "outputs": [],
   "source": []
  }
 ],
 "metadata": {
  "anaconda-cloud": {},
  "kernelspec": {
   "display_name": "Python 3",
   "language": "python",
   "name": "python3"
  },
  "language_info": {
   "codemirror_mode": {
    "name": "ipython",
    "version": 3
   },
   "file_extension": ".py",
   "mimetype": "text/x-python",
   "name": "python",
   "nbconvert_exporter": "python",
   "pygments_lexer": "ipython3",
   "version": "3.6.1"
  }
 },
 "nbformat": 4,
 "nbformat_minor": 1
}
