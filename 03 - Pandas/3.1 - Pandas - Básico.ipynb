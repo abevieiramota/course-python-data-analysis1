{
 "cells": [
  {
   "cell_type": "code",
   "execution_count": 1,
   "metadata": {
    "collapsed": true,
    "deletable": true,
    "editable": true
   },
   "outputs": [],
   "source": [
    "%run ../configura_display.py"
   ]
  },
  {
   "cell_type": "markdown",
   "metadata": {
    "collapsed": true,
    "deletable": true,
    "editable": true
   },
   "source": [
    "# Pandas\n",
    "\n",
    "http://pandas.pydata.org/\n",
    "\n",
    "https://github.com/pandas-dev/pandas/raw/master/doc/cheatsheet/Pandas_Cheat_Sheet.pdf\n",
    "\n",
    "Biblioteca que contém estruturas de dados e ferramentas para análise de dados.\n",
    "\n",
    "Por default utiliza as estruturas de dados do numpy(arrays), que são otimizadas para processmento de dados."
   ]
  },
  {
   "cell_type": "code",
   "execution_count": 4,
   "metadata": {
    "collapsed": true,
    "deletable": true,
    "editable": true
   },
   "outputs": [],
   "source": [
    "# alias normalmente utilizados\n",
    "import pandas as pd\n",
    "import numpy as np\n",
    "from datetime import datetime"
   ]
  },
  {
   "cell_type": "markdown",
   "metadata": {
    "deletable": true,
    "editable": true
   },
   "source": [
    "# Estruturas de dados\n",
    "\n",
    "Muito do que vai ser visto aqui com as estruturas de dados do Pandas se aplica às estruturas de dados do numpy, que é utilizado por baixo dos panos pelo Pandas."
   ]
  },
  {
   "cell_type": "markdown",
   "metadata": {
    "deletable": true,
    "editable": true
   },
   "source": [
    "## Series\n",
    "\n",
    "http://pandas.pydata.org/pandas-docs/stable/generated/pandas.Series.html\n",
    "\n",
    "Lista de dados associados a labels, denominados *index*.\n",
    "\n",
    "Outra forma de pensar sobre uma Series é que ela é um dicionário ordenado de tamanho fixo."
   ]
  },
  {
   "cell_type": "code",
   "execution_count": 201,
   "metadata": {
    "collapsed": false,
    "deletable": true,
    "editable": true
   },
   "outputs": [
    {
     "data": {
      "text/plain": [
       "0     1\n",
       "1     5\n",
       "2   -10\n",
       "3     9\n",
       "dtype: int64"
      ]
     },
     "execution_count": 201,
     "metadata": {},
     "output_type": "execute_result"
    }
   ],
   "source": [
    "serie = pd.Series([1, 5, -10, 9])\n",
    "\n",
    "serie\n",
    "# labels default [0, N-1]"
   ]
  },
  {
   "cell_type": "code",
   "execution_count": 202,
   "metadata": {
    "collapsed": false,
    "deletable": true,
    "editable": true
   },
   "outputs": [
    {
     "data": {
      "text/plain": [
       "array([  1,   5, -10,   9])"
      ]
     },
     "execution_count": 202,
     "metadata": {},
     "output_type": "execute_result"
    }
   ],
   "source": [
    "serie.values"
   ]
  },
  {
   "cell_type": "code",
   "execution_count": 203,
   "metadata": {
    "collapsed": false,
    "deletable": true,
    "editable": true
   },
   "outputs": [
    {
     "data": {
      "text/plain": [
       "RangeIndex(start=0, stop=4, step=1)"
      ]
     },
     "execution_count": 203,
     "metadata": {},
     "output_type": "execute_result"
    }
   ],
   "source": [
    "serie.index"
   ]
  },
  {
   "cell_type": "code",
   "execution_count": 204,
   "metadata": {
    "collapsed": false,
    "deletable": true,
    "editable": true
   },
   "outputs": [
    {
     "data": {
      "text/plain": [
       "letras\n",
       "a     1\n",
       "c     5\n",
       "d   -10\n",
       "g     9\n",
       "Name: Série legal, dtype: int64"
      ]
     },
     "execution_count": 204,
     "metadata": {},
     "output_type": "execute_result"
    }
   ],
   "source": [
    "serie = pd.Series(data=[1, 5, -10, 9], # dados\n",
    "                  index=[\"a\", \"c\", \"d\", \"g\"], # index\n",
    "                  name=\"Série legal\", # nome da series\n",
    "                  dtype=\"int\") # tipo dos dados > se não especificado, é inferido\n",
    "\n",
    "serie.index.name = \"letras\" # index name\n",
    "\n",
    "serie"
   ]
  },
  {
   "cell_type": "code",
   "execution_count": 205,
   "metadata": {
    "collapsed": false,
    "deletable": true,
    "editable": true
   },
   "outputs": [
    {
     "data": {
      "text/plain": [
       "9"
      ]
     },
     "execution_count": 205,
     "metadata": {},
     "output_type": "execute_result"
    }
   ],
   "source": [
    "serie['g'] # selecionando valor por índice"
   ]
  },
  {
   "cell_type": "code",
   "execution_count": 206,
   "metadata": {
    "collapsed": false,
    "deletable": true,
    "editable": true
   },
   "outputs": [
    {
     "data": {
      "text/plain": [
       "numpy.int64"
      ]
     },
     "execution_count": 206,
     "metadata": {},
     "output_type": "execute_result"
    }
   ],
   "source": [
    "type(serie['g']) # tipo de um valor"
   ]
  },
  {
   "cell_type": "code",
   "execution_count": 207,
   "metadata": {
    "collapsed": false,
    "deletable": true,
    "editable": true
   },
   "outputs": [
    {
     "data": {
      "text/plain": [
       "letras\n",
       "a    1\n",
       "g    9\n",
       "Name: Série legal, dtype: int64"
      ]
     },
     "execution_count": 207,
     "metadata": {},
     "output_type": "execute_result"
    }
   ],
   "source": [
    "serie[['a', 'g']] # selecionando valores por índices"
   ]
  },
  {
   "cell_type": "code",
   "execution_count": 208,
   "metadata": {
    "collapsed": false,
    "deletable": true,
    "editable": true
   },
   "outputs": [
    {
     "data": {
      "text/plain": [
       "pandas.core.series.Series"
      ]
     },
     "execution_count": 208,
     "metadata": {},
     "output_type": "execute_result"
    }
   ],
   "source": [
    "type(serie[['a', 'g']]) # tipo da estrutura com os valores"
   ]
  },
  {
   "cell_type": "code",
   "execution_count": 209,
   "metadata": {
    "collapsed": false,
    "deletable": true,
    "editable": true
   },
   "outputs": [
    {
     "data": {
      "text/plain": [
       "letras\n",
       "a     1\n",
       "c     5\n",
       "d   -10\n",
       "g    10\n",
       "Name: Série legal, dtype: int64"
      ]
     },
     "execution_count": 209,
     "metadata": {},
     "output_type": "execute_result"
    }
   ],
   "source": [
    "serie['g'] = 10 # update\n",
    "\n",
    "serie"
   ]
  },
  {
   "cell_type": "code",
   "execution_count": 210,
   "metadata": {
    "collapsed": false,
    "deletable": true,
    "editable": true
   },
   "outputs": [
    {
     "data": {
      "text/plain": [
       "True"
      ]
     },
     "execution_count": 210,
     "metadata": {},
     "output_type": "execute_result"
    }
   ],
   "source": [
    "'g' in serie # pertinência"
   ]
  },
  {
   "cell_type": "markdown",
   "metadata": {
    "deletable": true,
    "editable": true
   },
   "source": [
    "# Exercício 1"
   ]
  },
  {
   "cell_type": "markdown",
   "metadata": {
    "deletable": true,
    "editable": true
   },
   "source": [
    "<hr />"
   ]
  },
  {
   "cell_type": "markdown",
   "metadata": {
    "deletable": true,
    "editable": true
   },
   "source": [
    "### Indexando\n",
    "\n",
    "http://pandas.pydata.org/pandas-docs/stable/api.html#indexing-iteration"
   ]
  },
  {
   "cell_type": "code",
   "execution_count": 213,
   "metadata": {
    "collapsed": false,
    "deletable": true,
    "editable": true
   },
   "outputs": [
    {
     "data": {
      "text/plain": [
       "10"
      ]
     },
     "execution_count": 213,
     "metadata": {},
     "output_type": "execute_result"
    }
   ],
   "source": [
    "s['z'] # label indexing"
   ]
  },
  {
   "cell_type": "code",
   "execution_count": 214,
   "metadata": {
    "collapsed": false,
    "deletable": true,
    "editable": true
   },
   "outputs": [
    {
     "data": {
      "text/plain": [
       "30"
      ]
     },
     "execution_count": 214,
     "metadata": {},
     "output_type": "execute_result"
    }
   ],
   "source": [
    "s.iloc[1] # integer indexing"
   ]
  },
  {
   "cell_type": "code",
   "execution_count": 215,
   "metadata": {
    "collapsed": false,
    "deletable": true,
    "editable": true
   },
   "outputs": [
    {
     "data": {
      "text/plain": [
       "b    30\n",
       "z    10\n",
       "dtype: int64"
      ]
     },
     "execution_count": 215,
     "metadata": {},
     "output_type": "execute_result"
    }
   ],
   "source": [
    "s.iloc[[1, 0]] # mais de um valor"
   ]
  },
  {
   "cell_type": "code",
   "execution_count": 216,
   "metadata": {
    "collapsed": false,
    "deletable": true,
    "editable": true
   },
   "outputs": [
    {
     "data": {
      "text/plain": [
       "z    10\n",
       "a    45\n",
       "dtype: int64"
      ]
     },
     "execution_count": 216,
     "metadata": {},
     "output_type": "execute_result"
    }
   ],
   "source": [
    "s[[True, False, True, False]] # boolean indexing"
   ]
  },
  {
   "cell_type": "code",
   "execution_count": 217,
   "metadata": {
    "collapsed": false,
    "deletable": true,
    "editable": true
   },
   "outputs": [
    {
     "data": {
      "text/plain": [
       "b    30\n",
       "a    45\n",
       "dtype: int64"
      ]
     },
     "execution_count": 217,
     "metadata": {},
     "output_type": "execute_result"
    }
   ],
   "source": [
    "s.iloc[1:3] # do índice 1 ao índice 3 - 1 = 2"
   ]
  },
  {
   "cell_type": "code",
   "execution_count": 218,
   "metadata": {
    "collapsed": false,
    "deletable": true,
    "editable": true
   },
   "outputs": [
    {
     "data": {
      "text/plain": [
       "a    45\n",
       "x     4\n",
       "dtype: int64"
      ]
     },
     "execution_count": 218,
     "metadata": {},
     "output_type": "execute_result"
    }
   ],
   "source": [
    "s.iloc[2:] # até o fim"
   ]
  },
  {
   "cell_type": "code",
   "execution_count": 219,
   "metadata": {
    "collapsed": false,
    "deletable": true,
    "editable": true
   },
   "outputs": [
    {
     "data": {
      "text/plain": [
       "z    10\n",
       "b    30\n",
       "dtype: int64"
      ]
     },
     "execution_count": 219,
     "metadata": {},
     "output_type": "execute_result"
    }
   ],
   "source": [
    "s.iloc[:2] # até o 2 - 1"
   ]
  },
  {
   "cell_type": "code",
   "execution_count": 220,
   "metadata": {
    "collapsed": false,
    "deletable": true,
    "editable": true
   },
   "outputs": [
    {
     "data": {
      "text/plain": [
       "b    30\n",
       "a    45\n",
       "dtype: int64"
      ]
     },
     "execution_count": 220,
     "metadata": {},
     "output_type": "execute_result"
    }
   ],
   "source": [
    "s['b':'a'] # label slice inclui ambos os extremos!"
   ]
  },
  {
   "cell_type": "code",
   "execution_count": 221,
   "metadata": {
    "collapsed": false,
    "deletable": true,
    "editable": true
   },
   "outputs": [
    {
     "data": {
      "text/plain": [
       "x     4\n",
       "a    45\n",
       "b    30\n",
       "z    10\n",
       "dtype: int64"
      ]
     },
     "execution_count": 221,
     "metadata": {},
     "output_type": "execute_result"
    }
   ],
   "source": [
    "s[::-1]"
   ]
  },
  {
   "cell_type": "markdown",
   "metadata": {
    "deletable": true,
    "editable": true
   },
   "source": [
    "# Exercício 2"
   ]
  },
  {
   "cell_type": "markdown",
   "metadata": {
    "deletable": true,
    "editable": true
   },
   "source": [
    "<hr />"
   ]
  },
  {
   "cell_type": "markdown",
   "metadata": {
    "deletable": true,
    "editable": true
   },
   "source": [
    "### Operações com primitivas"
   ]
  },
  {
   "cell_type": "code",
   "execution_count": 222,
   "metadata": {
    "collapsed": false,
    "deletable": true,
    "editable": true
   },
   "outputs": [
    {
     "data": {
      "text/plain": [
       "z    10\n",
       "b    30\n",
       "a    45\n",
       "x     4\n",
       "dtype: int64"
      ]
     },
     "execution_count": 222,
     "metadata": {},
     "output_type": "execute_result"
    }
   ],
   "source": [
    "s"
   ]
  },
  {
   "cell_type": "code",
   "execution_count": 223,
   "metadata": {
    "collapsed": false,
    "deletable": true,
    "editable": true
   },
   "outputs": [
    {
     "data": {
      "text/plain": [
       "z    20\n",
       "b    40\n",
       "a    55\n",
       "x    14\n",
       "dtype: int64"
      ]
     },
     "execution_count": 223,
     "metadata": {},
     "output_type": "execute_result"
    }
   ],
   "source": [
    "s + 10"
   ]
  },
  {
   "cell_type": "code",
   "execution_count": 224,
   "metadata": {
    "collapsed": false,
    "deletable": true,
    "editable": true
   },
   "outputs": [
    {
     "data": {
      "text/plain": [
       "z     5\n",
       "b    25\n",
       "a    40\n",
       "x    -1\n",
       "dtype: int64"
      ]
     },
     "execution_count": 224,
     "metadata": {},
     "output_type": "execute_result"
    }
   ],
   "source": [
    "s - 5"
   ]
  },
  {
   "cell_type": "code",
   "execution_count": 225,
   "metadata": {
    "collapsed": false,
    "deletable": true,
    "editable": true
   },
   "outputs": [
    {
     "data": {
      "text/plain": [
       "z    20\n",
       "b    60\n",
       "a    90\n",
       "x     8\n",
       "dtype: int64"
      ]
     },
     "execution_count": 225,
     "metadata": {},
     "output_type": "execute_result"
    }
   ],
   "source": [
    "s * 2"
   ]
  },
  {
   "cell_type": "code",
   "execution_count": 226,
   "metadata": {
    "collapsed": false,
    "deletable": true,
    "editable": true
   },
   "outputs": [
    {
     "data": {
      "text/plain": [
       "z     True\n",
       "b    False\n",
       "a    False\n",
       "x     True\n",
       "dtype: bool"
      ]
     },
     "execution_count": 226,
     "metadata": {},
     "output_type": "execute_result"
    }
   ],
   "source": [
    "s < 20 # ver que é retornada series de boolean > pode ser utilizada como indexador!"
   ]
  },
  {
   "cell_type": "markdown",
   "metadata": {
    "deletable": true,
    "editable": true
   },
   "source": [
    "### Operações entre series"
   ]
  },
  {
   "cell_type": "code",
   "execution_count": 227,
   "metadata": {
    "collapsed": false,
    "deletable": true,
    "editable": true
   },
   "outputs": [
    {
     "data": {
      "text/plain": [
       "0    0\n",
       "1    1\n",
       "2    2\n",
       "3    3\n",
       "4    4\n",
       "dtype: int64"
      ]
     },
     "execution_count": 227,
     "metadata": {},
     "output_type": "execute_result"
    },
    {
     "data": {
      "text/plain": [
       "0    10\n",
       "1    11\n",
       "2    12\n",
       "3    13\n",
       "4    14\n",
       "dtype: int64"
      ]
     },
     "execution_count": 227,
     "metadata": {},
     "output_type": "execute_result"
    }
   ],
   "source": [
    "a = pd.Series(np.arange(0, 5))\n",
    "b = pd.Series(np.arange(10, 15))\n",
    "\n",
    "a\n",
    "b"
   ]
  },
  {
   "cell_type": "code",
   "execution_count": 228,
   "metadata": {
    "collapsed": false,
    "deletable": true,
    "editable": true
   },
   "outputs": [
    {
     "data": {
      "text/plain": [
       "0    10\n",
       "1    12\n",
       "2    14\n",
       "3    16\n",
       "4    18\n",
       "dtype: int64"
      ]
     },
     "execution_count": 228,
     "metadata": {},
     "output_type": "execute_result"
    }
   ],
   "source": [
    "a + b"
   ]
  },
  {
   "cell_type": "code",
   "execution_count": 229,
   "metadata": {
    "collapsed": false,
    "deletable": true,
    "editable": true
   },
   "outputs": [
    {
     "data": {
      "text/plain": [
       "0     0\n",
       "1    11\n",
       "2    24\n",
       "3    39\n",
       "4    56\n",
       "dtype: int64"
      ]
     },
     "execution_count": 229,
     "metadata": {},
     "output_type": "execute_result"
    }
   ],
   "source": [
    "a * b"
   ]
  },
  {
   "cell_type": "markdown",
   "metadata": {
    "deletable": true,
    "editable": true
   },
   "source": [
    "### Filtrando"
   ]
  },
  {
   "cell_type": "code",
   "execution_count": 230,
   "metadata": {
    "collapsed": false,
    "deletable": true,
    "editable": true
   },
   "outputs": [
    {
     "data": {
      "text/plain": [
       "z     True\n",
       "b    False\n",
       "a    False\n",
       "x     True\n",
       "dtype: bool"
      ]
     },
     "execution_count": 230,
     "metadata": {},
     "output_type": "execute_result"
    }
   ],
   "source": [
    "s < 20"
   ]
  },
  {
   "cell_type": "code",
   "execution_count": 231,
   "metadata": {
    "collapsed": false,
    "deletable": true,
    "editable": true
   },
   "outputs": [
    {
     "data": {
      "text/plain": [
       "z    10\n",
       "x     4\n",
       "dtype: int64"
      ]
     },
     "execution_count": 231,
     "metadata": {},
     "output_type": "execute_result"
    }
   ],
   "source": [
    "s[s < 20]"
   ]
  },
  {
   "cell_type": "markdown",
   "metadata": {
    "deletable": true,
    "editable": true
   },
   "source": [
    "# Exercício 3"
   ]
  },
  {
   "cell_type": "markdown",
   "metadata": {
    "deletable": true,
    "editable": true
   },
   "source": [
    "<hr />"
   ]
  },
  {
   "cell_type": "markdown",
   "metadata": {
    "deletable": true,
    "editable": true
   },
   "source": [
    "### Alinhamento"
   ]
  },
  {
   "cell_type": "code",
   "execution_count": 232,
   "metadata": {
    "collapsed": false,
    "deletable": true,
    "editable": true
   },
   "outputs": [
    {
     "data": {
      "text/plain": [
       "a     NaN\n",
       "b    80.0\n",
       "c     NaN\n",
       "dtype: float64"
      ]
     },
     "execution_count": 232,
     "metadata": {},
     "output_type": "execute_result"
    }
   ],
   "source": [
    "a = pd.Series({\"a\": 10, \n",
    "               \"b\": 30})\n",
    "b = pd.Series({\"b\": 50, \n",
    "               \"c\": 10})\n",
    "\n",
    "a + b"
   ]
  },
  {
   "cell_type": "markdown",
   "metadata": {
    "deletable": true,
    "editable": true
   },
   "source": [
    "### UFuncs\n",
    "\n",
    "Funções que são aplicadas a todos elementos de um array."
   ]
  },
  {
   "cell_type": "code",
   "execution_count": 233,
   "metadata": {
    "collapsed": false,
    "deletable": true,
    "editable": true
   },
   "outputs": [
    {
     "data": {
      "text/plain": [
       "0    32\n",
       "1     8\n",
       "2   -18\n",
       "3    62\n",
       "4   -89\n",
       "5   -66\n",
       "6   -27\n",
       "7    34\n",
       "8    68\n",
       "9   -81\n",
       "dtype: int64"
      ]
     },
     "execution_count": 233,
     "metadata": {},
     "output_type": "execute_result"
    }
   ],
   "source": [
    "a = pd.Series(np.random.randint(-100, 100, 10))\n",
    "\n",
    "a"
   ]
  },
  {
   "cell_type": "code",
   "execution_count": 234,
   "metadata": {
    "collapsed": false,
    "deletable": true,
    "editable": true
   },
   "outputs": [
    {
     "data": {
      "text/plain": [
       "-77"
      ]
     },
     "execution_count": 234,
     "metadata": {},
     "output_type": "execute_result"
    }
   ],
   "source": [
    "# soma dos valores\n",
    "a.sum()"
   ]
  },
  {
   "cell_type": "code",
   "execution_count": 235,
   "metadata": {
    "collapsed": false,
    "deletable": true,
    "editable": true
   },
   "outputs": [
    {
     "data": {
      "text/plain": [
       "-7.7"
      ]
     },
     "execution_count": 235,
     "metadata": {},
     "output_type": "execute_result"
    }
   ],
   "source": [
    "# média dos valores\n",
    "a.mean()"
   ]
  },
  {
   "cell_type": "code",
   "execution_count": 236,
   "metadata": {
    "collapsed": false,
    "deletable": true,
    "editable": true
   },
   "outputs": [
    {
     "data": {
      "text/plain": [
       "count    10.000000\n",
       "mean     -7.700000\n",
       "std      57.744745\n",
       "min     -89.000000\n",
       "25%     -56.250000\n",
       "50%      -5.000000\n",
       "75%      33.500000\n",
       "max      68.000000\n",
       "dtype: float64"
      ]
     },
     "execution_count": 236,
     "metadata": {},
     "output_type": "execute_result"
    }
   ],
   "source": [
    "# informações dos valores, de acordo com o tipo\n",
    "a.describe()"
   ]
  },
  {
   "cell_type": "code",
   "execution_count": 237,
   "metadata": {
    "collapsed": false,
    "deletable": true,
    "editable": true
   },
   "outputs": [
    {
     "data": {
      "text/plain": [
       "0    32\n",
       "1     8\n",
       "2    18\n",
       "3    62\n",
       "4    89\n",
       "5    66\n",
       "6    27\n",
       "7    34\n",
       "8    68\n",
       "9    81\n",
       "dtype: int64"
      ]
     },
     "execution_count": 237,
     "metadata": {},
     "output_type": "execute_result"
    }
   ],
   "source": [
    "# valor absoluto dos valores\n",
    "a.abs()"
   ]
  },
  {
   "cell_type": "markdown",
   "metadata": {
    "deletable": true,
    "editable": true
   },
   "source": [
    "# Exercício 4"
   ]
  },
  {
   "cell_type": "markdown",
   "metadata": {
    "deletable": true,
    "editable": true
   },
   "source": [
    "<hr />"
   ]
  },
  {
   "cell_type": "markdown",
   "metadata": {
    "deletable": true,
    "editable": true
   },
   "source": [
    "## DataFrame\n",
    "\n",
    "http://pandas.pydata.org/pandas-docs/stable/generated/pandas.DataFrame.html\n",
    "\n",
    "Estrutura similar a um dicionário de Series. Possui tanto um índice para linhas quanto para colunas."
   ]
  },
  {
   "cell_type": "code",
   "execution_count": 70,
   "metadata": {
    "collapsed": false,
    "deletable": true,
    "editable": true
   },
   "outputs": [
    {
     "data": {
      "text/html": [
       "<div>\n",
       "<style>\n",
       "    .dataframe thead tr:only-child th {\n",
       "        text-align: right;\n",
       "    }\n",
       "\n",
       "    .dataframe thead th {\n",
       "        text-align: left;\n",
       "    }\n",
       "\n",
       "    .dataframe tbody tr th {\n",
       "        vertical-align: top;\n",
       "    }\n",
       "</style>\n",
       "<table border=\"1\" class=\"dataframe\">\n",
       "  <thead>\n",
       "    <tr style=\"text-align: right;\">\n",
       "      <th></th>\n",
       "      <th>idade</th>\n",
       "      <th>nome</th>\n",
       "      <th>profissão</th>\n",
       "    </tr>\n",
       "  </thead>\n",
       "  <tbody>\n",
       "    <tr>\n",
       "      <th>0</th>\n",
       "      <td>27</td>\n",
       "      <td>Abelardo</td>\n",
       "      <td>Anapropégua</td>\n",
       "    </tr>\n",
       "    <tr>\n",
       "      <th>1</th>\n",
       "      <td>29</td>\n",
       "      <td>Juliana</td>\n",
       "      <td>Médico</td>\n",
       "    </tr>\n",
       "    <tr>\n",
       "      <th>2</th>\n",
       "      <td>88</td>\n",
       "      <td>Rodesbaldo</td>\n",
       "      <td>Ditador</td>\n",
       "    </tr>\n",
       "  </tbody>\n",
       "</table>\n",
       "</div>"
      ],
      "text/plain": [
       "   idade        nome    profissão\n",
       "0     27    Abelardo  Anapropégua\n",
       "1     29     Juliana       Médico\n",
       "2     88  Rodesbaldo      Ditador"
      ]
     },
     "execution_count": 70,
     "metadata": {},
     "output_type": "execute_result"
    }
   ],
   "source": [
    "# dicionário, as chaves se tornam colunas e seus valores, listas, se tornam\n",
    "#    os valores das colunas\n",
    "# outras formas de inicializar um data frame:\n",
    "# http://pbpython.com/pandas-list-dict.html\n",
    "data = {\"nome\": [\"Abelardo\", \"Juliana\", \"Rodesbaldo\"],\n",
    "        \"idade\": [27, 29, 88],\n",
    "        \"profissão\": [\"Anapropégua\", \"Médico\", \"Ditador\"]}\n",
    "\n",
    "df = pd.DataFrame(data)\n",
    "\n",
    "df\n",
    "# colunas em ordem natural"
   ]
  },
  {
   "cell_type": "code",
   "execution_count": 71,
   "metadata": {
    "collapsed": false,
    "deletable": true,
    "editable": true
   },
   "outputs": [
    {
     "data": {
      "text/html": [
       "<div>\n",
       "<style>\n",
       "    .dataframe thead tr:only-child th {\n",
       "        text-align: right;\n",
       "    }\n",
       "\n",
       "    .dataframe thead th {\n",
       "        text-align: left;\n",
       "    }\n",
       "\n",
       "    .dataframe tbody tr th {\n",
       "        vertical-align: top;\n",
       "    }\n",
       "</style>\n",
       "<table border=\"1\" class=\"dataframe\">\n",
       "  <thead>\n",
       "    <tr style=\"text-align: right;\">\n",
       "      <th></th>\n",
       "      <th>0</th>\n",
       "      <th>1</th>\n",
       "      <th>2</th>\n",
       "    </tr>\n",
       "  </thead>\n",
       "  <tbody>\n",
       "    <tr>\n",
       "      <th>idade</th>\n",
       "      <td>27</td>\n",
       "      <td>29</td>\n",
       "      <td>88</td>\n",
       "    </tr>\n",
       "    <tr>\n",
       "      <th>nome</th>\n",
       "      <td>Abelardo</td>\n",
       "      <td>Juliana</td>\n",
       "      <td>Rodesbaldo</td>\n",
       "    </tr>\n",
       "    <tr>\n",
       "      <th>profissão</th>\n",
       "      <td>Anapropégua</td>\n",
       "      <td>Médico</td>\n",
       "      <td>Ditador</td>\n",
       "    </tr>\n",
       "  </tbody>\n",
       "</table>\n",
       "</div>"
      ],
      "text/plain": [
       "                     0        1           2\n",
       "idade               27       29          88\n",
       "nome          Abelardo  Juliana  Rodesbaldo\n",
       "profissão  Anapropégua   Médico     Ditador"
      ]
     },
     "execution_count": 71,
     "metadata": {},
     "output_type": "execute_result"
    }
   ],
   "source": [
    "df.T # transposta"
   ]
  },
  {
   "cell_type": "code",
   "execution_count": 101,
   "metadata": {
    "collapsed": false,
    "deletable": true,
    "editable": true
   },
   "outputs": [
    {
     "data": {
      "text/html": [
       "<div>\n",
       "<style>\n",
       "    .dataframe thead tr:only-child th {\n",
       "        text-align: right;\n",
       "    }\n",
       "\n",
       "    .dataframe thead th {\n",
       "        text-align: left;\n",
       "    }\n",
       "\n",
       "    .dataframe tbody tr th {\n",
       "        vertical-align: top;\n",
       "    }\n",
       "</style>\n",
       "<table border=\"1\" class=\"dataframe\">\n",
       "  <thead>\n",
       "    <tr style=\"text-align: right;\">\n",
       "      <th></th>\n",
       "      <th>nome</th>\n",
       "      <th>idade</th>\n",
       "      <th>profissão</th>\n",
       "      <th>salário</th>\n",
       "    </tr>\n",
       "  </thead>\n",
       "  <tbody>\n",
       "    <tr>\n",
       "      <th>um</th>\n",
       "      <td>Abelardo</td>\n",
       "      <td>27</td>\n",
       "      <td>Anapropégua</td>\n",
       "      <td>NaN</td>\n",
       "    </tr>\n",
       "    <tr>\n",
       "      <th>dois</th>\n",
       "      <td>Juliana</td>\n",
       "      <td>29</td>\n",
       "      <td>Médico</td>\n",
       "      <td>NaN</td>\n",
       "    </tr>\n",
       "    <tr>\n",
       "      <th>três</th>\n",
       "      <td>Rodesbaldo</td>\n",
       "      <td>88</td>\n",
       "      <td>Ditador</td>\n",
       "      <td>NaN</td>\n",
       "    </tr>\n",
       "  </tbody>\n",
       "</table>\n",
       "</div>"
      ],
      "text/plain": [
       "            nome  idade    profissão salário\n",
       "um      Abelardo     27  Anapropégua     NaN\n",
       "dois     Juliana     29       Médico     NaN\n",
       "três  Rodesbaldo     88      Ditador     NaN"
      ]
     },
     "execution_count": 101,
     "metadata": {},
     "output_type": "execute_result"
    }
   ],
   "source": [
    "# ordem de colunas = especificada\n",
    "# as colunas utilizadas serão apenas as passadas em columns\n",
    "# se não houver dados em data, é criada com valores NaN\n",
    "df = pd.DataFrame(data, \n",
    "             columns=[\"nome\", \"idade\", \"profissão\", \"salário\"], \n",
    "             index=[\"um\", \"dois\", \"três\"])\n",
    "\n",
    "df"
   ]
  },
  {
   "cell_type": "code",
   "execution_count": 102,
   "metadata": {
    "collapsed": false,
    "deletable": true,
    "editable": true
   },
   "outputs": [
    {
     "data": {
      "text/plain": [
       "um        Abelardo\n",
       "dois       Juliana\n",
       "três    Rodesbaldo\n",
       "Name: nome, dtype: object"
      ]
     },
     "execution_count": 102,
     "metadata": {},
     "output_type": "execute_result"
    }
   ],
   "source": [
    "# selecionando coluna\n",
    "# retorna uma Series com index igual ao index do dataframe e valores \n",
    "#    iguais aos valores da coluna\n",
    "# notação df.column_name válida apenas se o nome da coluna for um identificador válido python\n",
    "df.nome"
   ]
  },
  {
   "cell_type": "code",
   "execution_count": 103,
   "metadata": {
    "collapsed": false,
    "deletable": true,
    "editable": true
   },
   "outputs": [
    {
     "data": {
      "text/plain": [
       "um        Abelardo\n",
       "dois       Juliana\n",
       "três    Rodesbaldo\n",
       "Name: nome, dtype: object"
      ]
     },
     "execution_count": 103,
     "metadata": {},
     "output_type": "execute_result"
    }
   ],
   "source": [
    "# selecionando coluna\n",
    "#   notação válida com qualquer identificador de coluna\n",
    "df['nome']"
   ]
  },
  {
   "cell_type": "code",
   "execution_count": 104,
   "metadata": {
    "collapsed": false,
    "deletable": true,
    "editable": true
   },
   "outputs": [
    {
     "data": {
      "text/html": [
       "<div>\n",
       "<style>\n",
       "    .dataframe thead tr:only-child th {\n",
       "        text-align: right;\n",
       "    }\n",
       "\n",
       "    .dataframe thead th {\n",
       "        text-align: left;\n",
       "    }\n",
       "\n",
       "    .dataframe tbody tr th {\n",
       "        vertical-align: top;\n",
       "    }\n",
       "</style>\n",
       "<table border=\"1\" class=\"dataframe\">\n",
       "  <thead>\n",
       "    <tr style=\"text-align: right;\">\n",
       "      <th></th>\n",
       "      <th>nome</th>\n",
       "      <th>idade</th>\n",
       "      <th>profissão</th>\n",
       "      <th>salário</th>\n",
       "    </tr>\n",
       "  </thead>\n",
       "  <tbody>\n",
       "    <tr>\n",
       "      <th>dois</th>\n",
       "      <td>Juliana</td>\n",
       "      <td>29</td>\n",
       "      <td>Médico</td>\n",
       "      <td>NaN</td>\n",
       "    </tr>\n",
       "  </tbody>\n",
       "</table>\n",
       "</div>"
      ],
      "text/plain": [
       "         nome  idade profissão salário\n",
       "dois  Juliana     29    Médico     NaN"
      ]
     },
     "execution_count": 104,
     "metadata": {},
     "output_type": "execute_result"
    },
    {
     "data": {
      "text/html": [
       "<div>\n",
       "<style>\n",
       "    .dataframe thead tr:only-child th {\n",
       "        text-align: right;\n",
       "    }\n",
       "\n",
       "    .dataframe thead th {\n",
       "        text-align: left;\n",
       "    }\n",
       "\n",
       "    .dataframe tbody tr th {\n",
       "        vertical-align: top;\n",
       "    }\n",
       "</style>\n",
       "<table border=\"1\" class=\"dataframe\">\n",
       "  <thead>\n",
       "    <tr style=\"text-align: right;\">\n",
       "      <th></th>\n",
       "      <th>nome</th>\n",
       "      <th>idade</th>\n",
       "      <th>profissão</th>\n",
       "      <th>salário</th>\n",
       "    </tr>\n",
       "  </thead>\n",
       "  <tbody>\n",
       "    <tr>\n",
       "      <th>dois</th>\n",
       "      <td>Juliana</td>\n",
       "      <td>29</td>\n",
       "      <td>Médico</td>\n",
       "      <td>NaN</td>\n",
       "    </tr>\n",
       "  </tbody>\n",
       "</table>\n",
       "</div>"
      ],
      "text/plain": [
       "         nome  idade profissão salário\n",
       "dois  Juliana     29    Médico     NaN"
      ]
     },
     "execution_count": 104,
     "metadata": {},
     "output_type": "execute_result"
    }
   ],
   "source": [
    "# um dataframe pode ser indexado com o operador []\n",
    "#    passando tanto labels quanto índices posicionais\n",
    "#    o ideal é ser explícito, utilizando os operadores\n",
    "#    loc[] para indexação por label\n",
    "#    iloc[] para indexação por índice posicional\n",
    "df[1:2]\n",
    "df.iloc[1:2, :]"
   ]
  },
  {
   "cell_type": "code",
   "execution_count": 105,
   "metadata": {
    "collapsed": false,
    "deletable": true,
    "editable": true
   },
   "outputs": [
    {
     "data": {
      "text/plain": [
       "nome         Rodesbaldo\n",
       "idade                88\n",
       "profissão       Ditador\n",
       "salário             NaN\n",
       "Name: três, dtype: object"
      ]
     },
     "execution_count": 105,
     "metadata": {},
     "output_type": "execute_result"
    }
   ],
   "source": [
    "# iloc também recebe índices negativos\n",
    "df.iloc[-1]"
   ]
  },
  {
   "cell_type": "code",
   "execution_count": 76,
   "metadata": {
    "collapsed": false,
    "deletable": true,
    "editable": true
   },
   "outputs": [
    {
     "data": {
      "text/html": [
       "<div>\n",
       "<style>\n",
       "    .dataframe thead tr:only-child th {\n",
       "        text-align: right;\n",
       "    }\n",
       "\n",
       "    .dataframe thead th {\n",
       "        text-align: left;\n",
       "    }\n",
       "\n",
       "    .dataframe tbody tr th {\n",
       "        vertical-align: top;\n",
       "    }\n",
       "</style>\n",
       "<table border=\"1\" class=\"dataframe\">\n",
       "  <thead>\n",
       "    <tr style=\"text-align: right;\">\n",
       "      <th></th>\n",
       "      <th>nome</th>\n",
       "      <th>idade</th>\n",
       "      <th>profissão</th>\n",
       "      <th>salário</th>\n",
       "    </tr>\n",
       "  </thead>\n",
       "  <tbody>\n",
       "    <tr>\n",
       "      <th>um</th>\n",
       "      <td>Abelardo</td>\n",
       "      <td>27</td>\n",
       "      <td>Anapropégua</td>\n",
       "      <td>NaN</td>\n",
       "    </tr>\n",
       "    <tr>\n",
       "      <th>três</th>\n",
       "      <td>Rodesbaldo</td>\n",
       "      <td>88</td>\n",
       "      <td>Ditador</td>\n",
       "      <td>NaN</td>\n",
       "    </tr>\n",
       "  </tbody>\n",
       "</table>\n",
       "</div>"
      ],
      "text/plain": [
       "            nome  idade    profissão salário\n",
       "um      Abelardo     27  Anapropégua     NaN\n",
       "três  Rodesbaldo     88      Ditador     NaN"
      ]
     },
     "execution_count": 76,
     "metadata": {},
     "output_type": "execute_result"
    },
    {
     "data": {
      "text/html": [
       "<div>\n",
       "<style>\n",
       "    .dataframe thead tr:only-child th {\n",
       "        text-align: right;\n",
       "    }\n",
       "\n",
       "    .dataframe thead th {\n",
       "        text-align: left;\n",
       "    }\n",
       "\n",
       "    .dataframe tbody tr th {\n",
       "        vertical-align: top;\n",
       "    }\n",
       "</style>\n",
       "<table border=\"1\" class=\"dataframe\">\n",
       "  <thead>\n",
       "    <tr style=\"text-align: right;\">\n",
       "      <th></th>\n",
       "      <th>nome</th>\n",
       "      <th>idade</th>\n",
       "      <th>profissão</th>\n",
       "      <th>salário</th>\n",
       "    </tr>\n",
       "  </thead>\n",
       "  <tbody>\n",
       "    <tr>\n",
       "      <th>um</th>\n",
       "      <td>Abelardo</td>\n",
       "      <td>27</td>\n",
       "      <td>Anapropégua</td>\n",
       "      <td>NaN</td>\n",
       "    </tr>\n",
       "    <tr>\n",
       "      <th>três</th>\n",
       "      <td>Rodesbaldo</td>\n",
       "      <td>88</td>\n",
       "      <td>Ditador</td>\n",
       "      <td>NaN</td>\n",
       "    </tr>\n",
       "  </tbody>\n",
       "</table>\n",
       "</div>"
      ],
      "text/plain": [
       "            nome  idade    profissão salário\n",
       "um      Abelardo     27  Anapropégua     NaN\n",
       "três  Rodesbaldo     88      Ditador     NaN"
      ]
     },
     "execution_count": 76,
     "metadata": {},
     "output_type": "execute_result"
    }
   ],
   "source": [
    "# mesmo funcionamento de slice de lista\n",
    "df[::2]\n",
    "df.iloc[::2, :]"
   ]
  },
  {
   "cell_type": "code",
   "execution_count": 78,
   "metadata": {
    "collapsed": false,
    "deletable": true,
    "editable": true
   },
   "outputs": [
    {
     "data": {
      "text/plain": [
       "'Abelardo'"
      ]
     },
     "execution_count": 78,
     "metadata": {},
     "output_type": "execute_result"
    }
   ],
   "source": [
    "# como passei a localização de uma célula, retorna um valor\n",
    "df.loc[\"um\", \"nome\"]"
   ]
  },
  {
   "cell_type": "code",
   "execution_count": 79,
   "metadata": {
    "collapsed": false,
    "deletable": true,
    "editable": true
   },
   "outputs": [
    {
     "data": {
      "text/plain": [
       "um    Abelardo\n",
       "Name: nome, dtype: object"
      ]
     },
     "execution_count": 79,
     "metadata": {},
     "output_type": "execute_result"
    }
   ],
   "source": [
    "# como pedi para todas as linhas em [\"um\"] o único atributo \"nome\"\n",
    "#    retorna uma Series\n",
    "df.loc[[\"um\"], \"nome\"]"
   ]
  },
  {
   "cell_type": "code",
   "execution_count": 80,
   "metadata": {
    "collapsed": false,
    "deletable": true,
    "editable": true
   },
   "outputs": [
    {
     "data": {
      "text/html": [
       "<div>\n",
       "<style>\n",
       "    .dataframe thead tr:only-child th {\n",
       "        text-align: right;\n",
       "    }\n",
       "\n",
       "    .dataframe thead th {\n",
       "        text-align: left;\n",
       "    }\n",
       "\n",
       "    .dataframe tbody tr th {\n",
       "        vertical-align: top;\n",
       "    }\n",
       "</style>\n",
       "<table border=\"1\" class=\"dataframe\">\n",
       "  <thead>\n",
       "    <tr style=\"text-align: right;\">\n",
       "      <th></th>\n",
       "      <th>nome</th>\n",
       "    </tr>\n",
       "  </thead>\n",
       "  <tbody>\n",
       "    <tr>\n",
       "      <th>um</th>\n",
       "      <td>Abelardo</td>\n",
       "    </tr>\n",
       "  </tbody>\n",
       "</table>\n",
       "</div>"
      ],
      "text/plain": [
       "        nome\n",
       "um  Abelardo"
      ]
     },
     "execution_count": 80,
     "metadata": {},
     "output_type": "execute_result"
    }
   ],
   "source": [
    "# como pedi para todas as linhas em [\"um\"] todos os atributos em [\"nome\"]\n",
    "#    retorna um DataFrame\n",
    "df.loc[[\"um\"], [\"nome\"]]"
   ]
  },
  {
   "cell_type": "markdown",
   "metadata": {
    "deletable": true,
    "editable": true
   },
   "source": [
    "### Alterando o dataframe"
   ]
  },
  {
   "cell_type": "code",
   "execution_count": 50,
   "metadata": {
    "collapsed": false,
    "deletable": true,
    "editable": true
   },
   "outputs": [
    {
     "data": {
      "text/html": [
       "<div>\n",
       "<style>\n",
       "    .dataframe thead tr:only-child th {\n",
       "        text-align: right;\n",
       "    }\n",
       "\n",
       "    .dataframe thead th {\n",
       "        text-align: left;\n",
       "    }\n",
       "\n",
       "    .dataframe tbody tr th {\n",
       "        vertical-align: top;\n",
       "    }\n",
       "</style>\n",
       "<table border=\"1\" class=\"dataframe\">\n",
       "  <thead>\n",
       "    <tr style=\"text-align: right;\">\n",
       "      <th></th>\n",
       "      <th>nome</th>\n",
       "      <th>idade</th>\n",
       "      <th>random</th>\n",
       "    </tr>\n",
       "  </thead>\n",
       "  <tbody>\n",
       "    <tr>\n",
       "      <th>um</th>\n",
       "      <td>Abelardo</td>\n",
       "      <td>27</td>\n",
       "      <td>0,50</td>\n",
       "    </tr>\n",
       "    <tr>\n",
       "      <th>dois</th>\n",
       "      <td>Juliana</td>\n",
       "      <td>29</td>\n",
       "      <td>-1,22</td>\n",
       "    </tr>\n",
       "    <tr>\n",
       "      <th>três</th>\n",
       "      <td>Rodesbaldo</td>\n",
       "      <td>88</td>\n",
       "      <td>1,34</td>\n",
       "    </tr>\n",
       "  </tbody>\n",
       "</table>\n",
       "</div>"
      ],
      "text/plain": [
       "            nome  idade  random\n",
       "um      Abelardo     27    0,50\n",
       "dois     Juliana     29   -1,22\n",
       "três  Rodesbaldo     88    1,34"
      ]
     },
     "execution_count": 50,
     "metadata": {},
     "output_type": "execute_result"
    }
   ],
   "source": [
    "# criação de nova coluna\n",
    "# df[\"nome_da_coluna\"] = series_com_valores_da_coluna\n",
    "df[\"random\"] = pd.Series(np.random.randn(3), index=df.index)\n",
    "\n",
    "df"
   ]
  },
  {
   "cell_type": "code",
   "execution_count": 33,
   "metadata": {
    "collapsed": false,
    "deletable": true,
    "editable": true
   },
   "outputs": [
    {
     "data": {
      "text/html": [
       "<div>\n",
       "<style>\n",
       "    .dataframe thead tr:only-child th {\n",
       "        text-align: right;\n",
       "    }\n",
       "\n",
       "    .dataframe thead th {\n",
       "        text-align: left;\n",
       "    }\n",
       "\n",
       "    .dataframe tbody tr th {\n",
       "        vertical-align: top;\n",
       "    }\n",
       "</style>\n",
       "<table border=\"1\" class=\"dataframe\">\n",
       "  <thead>\n",
       "    <tr style=\"text-align: right;\">\n",
       "      <th></th>\n",
       "      <th>nome</th>\n",
       "      <th>idade</th>\n",
       "      <th>profissão</th>\n",
       "      <th>salário</th>\n",
       "    </tr>\n",
       "  </thead>\n",
       "  <tbody>\n",
       "    <tr>\n",
       "      <th>um</th>\n",
       "      <td>Abelardo</td>\n",
       "      <td>27</td>\n",
       "      <td>Anapropégua</td>\n",
       "      <td>NaN</td>\n",
       "    </tr>\n",
       "    <tr>\n",
       "      <th>dois</th>\n",
       "      <td>Juliana</td>\n",
       "      <td>29</td>\n",
       "      <td>Médico</td>\n",
       "      <td>NaN</td>\n",
       "    </tr>\n",
       "    <tr>\n",
       "      <th>três</th>\n",
       "      <td>Rodesbaldo</td>\n",
       "      <td>45</td>\n",
       "      <td>Ditador</td>\n",
       "      <td>NaN</td>\n",
       "    </tr>\n",
       "  </tbody>\n",
       "</table>\n",
       "</div>"
      ],
      "text/plain": [
       "            nome  idade    profissão salário\n",
       "um      Abelardo     27  Anapropégua     NaN\n",
       "dois     Juliana     29       Médico     NaN\n",
       "três  Rodesbaldo     45      Ditador     NaN"
      ]
     },
     "execution_count": 33,
     "metadata": {},
     "output_type": "execute_result"
    }
   ],
   "source": [
    "# atribui à coluna \"idade\" da linha de índice \"três\" o valor 45\n",
    "df.loc[\"três\", \"idade\"] = 45\n",
    "\n",
    "df"
   ]
  },
  {
   "cell_type": "code",
   "execution_count": 34,
   "metadata": {
    "collapsed": false,
    "deletable": true,
    "editable": true
   },
   "outputs": [
    {
     "data": {
      "text/html": [
       "<div>\n",
       "<style>\n",
       "    .dataframe thead tr:only-child th {\n",
       "        text-align: right;\n",
       "    }\n",
       "\n",
       "    .dataframe thead th {\n",
       "        text-align: left;\n",
       "    }\n",
       "\n",
       "    .dataframe tbody tr th {\n",
       "        vertical-align: top;\n",
       "    }\n",
       "</style>\n",
       "<table border=\"1\" class=\"dataframe\">\n",
       "  <thead>\n",
       "    <tr style=\"text-align: right;\">\n",
       "      <th></th>\n",
       "      <th>nome</th>\n",
       "      <th>idade</th>\n",
       "      <th>profissão</th>\n",
       "      <th>salário</th>\n",
       "    </tr>\n",
       "  </thead>\n",
       "  <tbody>\n",
       "    <tr>\n",
       "      <th>um</th>\n",
       "      <td>Josberto</td>\n",
       "      <td>99</td>\n",
       "      <td>faz tudo</td>\n",
       "      <td>NaN</td>\n",
       "    </tr>\n",
       "    <tr>\n",
       "      <th>dois</th>\n",
       "      <td>Juliana</td>\n",
       "      <td>29</td>\n",
       "      <td>Médico</td>\n",
       "      <td>NaN</td>\n",
       "    </tr>\n",
       "    <tr>\n",
       "      <th>três</th>\n",
       "      <td>Rodesbaldo</td>\n",
       "      <td>45</td>\n",
       "      <td>Ditador</td>\n",
       "      <td>NaN</td>\n",
       "    </tr>\n",
       "  </tbody>\n",
       "</table>\n",
       "</div>"
      ],
      "text/plain": [
       "            nome  idade profissão salário\n",
       "um      Josberto     99  faz tudo     NaN\n",
       "dois     Juliana     29    Médico     NaN\n",
       "três  Rodesbaldo     45   Ditador     NaN"
      ]
     },
     "execution_count": 34,
     "metadata": {},
     "output_type": "execute_result"
    }
   ],
   "source": [
    "# altera a linha de índice posicional 0\n",
    "df.iloc[0] = pd.Series({\"nome\": \"Josberto\", \n",
    "              \"idade\": 99, \n",
    "              \"profissão\": \"faz tudo\",\n",
    "              \"random\": .4})\n",
    "\n",
    "df"
   ]
  },
  {
   "cell_type": "code",
   "execution_count": 44,
   "metadata": {
    "collapsed": false,
    "deletable": true,
    "editable": true
   },
   "outputs": [
    {
     "data": {
      "text/html": [
       "<div>\n",
       "<style>\n",
       "    .dataframe thead tr:only-child th {\n",
       "        text-align: right;\n",
       "    }\n",
       "\n",
       "    .dataframe thead th {\n",
       "        text-align: left;\n",
       "    }\n",
       "\n",
       "    .dataframe tbody tr th {\n",
       "        vertical-align: top;\n",
       "    }\n",
       "</style>\n",
       "<table border=\"1\" class=\"dataframe\">\n",
       "  <thead>\n",
       "    <tr style=\"text-align: right;\">\n",
       "      <th></th>\n",
       "      <th>nome</th>\n",
       "      <th>idade</th>\n",
       "      <th>profissão</th>\n",
       "      <th>salário</th>\n",
       "    </tr>\n",
       "  </thead>\n",
       "  <tbody>\n",
       "    <tr>\n",
       "      <th>um</th>\n",
       "      <td>Abelardo</td>\n",
       "      <td>27</td>\n",
       "      <td>Anapropégua</td>\n",
       "      <td>10.000.000,00</td>\n",
       "    </tr>\n",
       "    <tr>\n",
       "      <th>dois</th>\n",
       "      <td>Juliana</td>\n",
       "      <td>29</td>\n",
       "      <td>Médico</td>\n",
       "      <td>nan</td>\n",
       "    </tr>\n",
       "    <tr>\n",
       "      <th>três</th>\n",
       "      <td>Rodesbaldo</td>\n",
       "      <td>88</td>\n",
       "      <td>Ditador</td>\n",
       "      <td>nan</td>\n",
       "    </tr>\n",
       "  </tbody>\n",
       "</table>\n",
       "</div>"
      ],
      "text/plain": [
       "            nome  idade    profissão       salário\n",
       "um      Abelardo     27  Anapropégua 10.000.000,00\n",
       "dois     Juliana     29       Médico           nan\n",
       "três  Rodesbaldo     88      Ditador           nan"
      ]
     },
     "execution_count": 44,
     "metadata": {},
     "output_type": "execute_result"
    }
   ],
   "source": [
    "# na atribuição de valores a uma coluna\n",
    "#    os valores são atribuídos de acordo com o índice\n",
    "#    no exemplo, como apenas o índice \"um\" está contido nos novos valores\n",
    "#    apenas ele é atualizado\n",
    "df['salário'] = pd.Series([0, 20000, 10**7], index = [0, 1, \"um\"])\n",
    "\n",
    "df"
   ]
  },
  {
   "cell_type": "code",
   "execution_count": 45,
   "metadata": {
    "collapsed": false,
    "deletable": true,
    "editable": true
   },
   "outputs": [
    {
     "data": {
      "text/html": [
       "<div>\n",
       "<style>\n",
       "    .dataframe thead tr:only-child th {\n",
       "        text-align: right;\n",
       "    }\n",
       "\n",
       "    .dataframe thead th {\n",
       "        text-align: left;\n",
       "    }\n",
       "\n",
       "    .dataframe tbody tr th {\n",
       "        vertical-align: top;\n",
       "    }\n",
       "</style>\n",
       "<table border=\"1\" class=\"dataframe\">\n",
       "  <thead>\n",
       "    <tr style=\"text-align: right;\">\n",
       "      <th></th>\n",
       "      <th>nome</th>\n",
       "      <th>idade</th>\n",
       "      <th>profissão</th>\n",
       "    </tr>\n",
       "  </thead>\n",
       "  <tbody>\n",
       "    <tr>\n",
       "      <th>um</th>\n",
       "      <td>Abelardo</td>\n",
       "      <td>27</td>\n",
       "      <td>Anapropégua</td>\n",
       "    </tr>\n",
       "    <tr>\n",
       "      <th>dois</th>\n",
       "      <td>Juliana</td>\n",
       "      <td>29</td>\n",
       "      <td>Médico</td>\n",
       "    </tr>\n",
       "    <tr>\n",
       "      <th>três</th>\n",
       "      <td>Rodesbaldo</td>\n",
       "      <td>88</td>\n",
       "      <td>Ditador</td>\n",
       "    </tr>\n",
       "  </tbody>\n",
       "</table>\n",
       "</div>"
      ],
      "text/plain": [
       "            nome  idade    profissão\n",
       "um      Abelardo     27  Anapropégua\n",
       "dois     Juliana     29       Médico\n",
       "três  Rodesbaldo     88      Ditador"
      ]
     },
     "execution_count": 45,
     "metadata": {},
     "output_type": "execute_result"
    },
    {
     "data": {
      "text/html": [
       "<div>\n",
       "<style>\n",
       "    .dataframe thead tr:only-child th {\n",
       "        text-align: right;\n",
       "    }\n",
       "\n",
       "    .dataframe thead th {\n",
       "        text-align: left;\n",
       "    }\n",
       "\n",
       "    .dataframe tbody tr th {\n",
       "        vertical-align: top;\n",
       "    }\n",
       "</style>\n",
       "<table border=\"1\" class=\"dataframe\">\n",
       "  <thead>\n",
       "    <tr style=\"text-align: right;\">\n",
       "      <th></th>\n",
       "      <th>nome</th>\n",
       "      <th>idade</th>\n",
       "    </tr>\n",
       "  </thead>\n",
       "  <tbody>\n",
       "    <tr>\n",
       "      <th>um</th>\n",
       "      <td>Abelardo</td>\n",
       "      <td>27</td>\n",
       "    </tr>\n",
       "    <tr>\n",
       "      <th>dois</th>\n",
       "      <td>Juliana</td>\n",
       "      <td>29</td>\n",
       "    </tr>\n",
       "    <tr>\n",
       "      <th>três</th>\n",
       "      <td>Rodesbaldo</td>\n",
       "      <td>88</td>\n",
       "    </tr>\n",
       "  </tbody>\n",
       "</table>\n",
       "</div>"
      ],
      "text/plain": [
       "            nome  idade\n",
       "um      Abelardo     27\n",
       "dois     Juliana     29\n",
       "três  Rodesbaldo     88"
      ]
     },
     "execution_count": 45,
     "metadata": {},
     "output_type": "execute_result"
    }
   ],
   "source": [
    "# para remover uma coluna, utilizar o operador del\n",
    "del df['salário']\n",
    "df\n",
    "\n",
    "# ou utilizar o método drop\n",
    "#    informando axis=1, indicando que deve ser dropando das colunas\n",
    "\n",
    "df = df.drop(\"profissão\", axis=1)\n",
    "df"
   ]
  },
  {
   "cell_type": "code",
   "execution_count": 58,
   "metadata": {
    "collapsed": false,
    "deletable": true,
    "editable": true
   },
   "outputs": [
    {
     "data": {
      "text/html": [
       "<div>\n",
       "<style>\n",
       "    .dataframe thead tr:only-child th {\n",
       "        text-align: right;\n",
       "    }\n",
       "\n",
       "    .dataframe thead th {\n",
       "        text-align: left;\n",
       "    }\n",
       "\n",
       "    .dataframe tbody tr th {\n",
       "        vertical-align: top;\n",
       "    }\n",
       "</style>\n",
       "<table border=\"1\" class=\"dataframe\">\n",
       "  <thead>\n",
       "    <tr style=\"text-align: right;\">\n",
       "      <th></th>\n",
       "      <th>nome</th>\n",
       "      <th>idade</th>\n",
       "      <th>random</th>\n",
       "      <th>is_random_gt_0</th>\n",
       "    </tr>\n",
       "  </thead>\n",
       "  <tbody>\n",
       "    <tr>\n",
       "      <th>um</th>\n",
       "      <td>Abelardo</td>\n",
       "      <td>27</td>\n",
       "      <td>0,50</td>\n",
       "      <td>True</td>\n",
       "    </tr>\n",
       "    <tr>\n",
       "      <th>dois</th>\n",
       "      <td>Juliana</td>\n",
       "      <td>29</td>\n",
       "      <td>-1,22</td>\n",
       "      <td>False</td>\n",
       "    </tr>\n",
       "    <tr>\n",
       "      <th>três</th>\n",
       "      <td>Rodesbaldo</td>\n",
       "      <td>88</td>\n",
       "      <td>1,34</td>\n",
       "      <td>True</td>\n",
       "    </tr>\n",
       "  </tbody>\n",
       "</table>\n",
       "</div>"
      ],
      "text/plain": [
       "            nome  idade  random  is_random_gt_0\n",
       "um      Abelardo     27    0,50            True\n",
       "dois     Juliana     29   -1,22           False\n",
       "três  Rodesbaldo     88    1,34            True"
      ]
     },
     "execution_count": 58,
     "metadata": {},
     "output_type": "execute_result"
    }
   ],
   "source": [
    "# criação de coluna em função de outra coluna\n",
    "df['is_random_gt_0'] = df.random > 0\n",
    "df"
   ]
  },
  {
   "cell_type": "markdown",
   "metadata": {
    "deletable": true,
    "editable": true
   },
   "source": [
    "## Axis\n",
    "\n",
    "Axis = 0 -> rows\n",
    "\n",
    "Axis = 1 -> columns"
   ]
  },
  {
   "cell_type": "code",
   "execution_count": 60,
   "metadata": {
    "collapsed": false,
    "deletable": true,
    "editable": true
   },
   "outputs": [
    {
     "data": {
      "text/html": [
       "<div>\n",
       "<style>\n",
       "    .dataframe thead tr:only-child th {\n",
       "        text-align: right;\n",
       "    }\n",
       "\n",
       "    .dataframe thead th {\n",
       "        text-align: left;\n",
       "    }\n",
       "\n",
       "    .dataframe tbody tr th {\n",
       "        vertical-align: top;\n",
       "    }\n",
       "</style>\n",
       "<table border=\"1\" class=\"dataframe\">\n",
       "  <thead>\n",
       "    <tr style=\"text-align: right;\">\n",
       "      <th></th>\n",
       "      <th>nome</th>\n",
       "      <th>idade</th>\n",
       "      <th>random</th>\n",
       "      <th>is_random_gt_0</th>\n",
       "    </tr>\n",
       "  </thead>\n",
       "  <tbody>\n",
       "    <tr>\n",
       "      <th>dois</th>\n",
       "      <td>Juliana</td>\n",
       "      <td>29</td>\n",
       "      <td>-1,22</td>\n",
       "      <td>False</td>\n",
       "    </tr>\n",
       "    <tr>\n",
       "      <th>três</th>\n",
       "      <td>Rodesbaldo</td>\n",
       "      <td>88</td>\n",
       "      <td>1,34</td>\n",
       "      <td>True</td>\n",
       "    </tr>\n",
       "  </tbody>\n",
       "</table>\n",
       "</div>"
      ],
      "text/plain": [
       "            nome  idade  random  is_random_gt_0\n",
       "dois     Juliana     29   -1,22           False\n",
       "três  Rodesbaldo     88    1,34            True"
      ]
     },
     "execution_count": 60,
     "metadata": {},
     "output_type": "execute_result"
    }
   ],
   "source": [
    "df.drop('um', axis=0) # 0=label, não inplace\n",
    "# axis=0 default"
   ]
  },
  {
   "cell_type": "code",
   "execution_count": 61,
   "metadata": {
    "collapsed": false,
    "deletable": true,
    "editable": true
   },
   "outputs": [
    {
     "data": {
      "text/html": [
       "<div>\n",
       "<style>\n",
       "    .dataframe thead tr:only-child th {\n",
       "        text-align: right;\n",
       "    }\n",
       "\n",
       "    .dataframe thead th {\n",
       "        text-align: left;\n",
       "    }\n",
       "\n",
       "    .dataframe tbody tr th {\n",
       "        vertical-align: top;\n",
       "    }\n",
       "</style>\n",
       "<table border=\"1\" class=\"dataframe\">\n",
       "  <thead>\n",
       "    <tr style=\"text-align: right;\">\n",
       "      <th></th>\n",
       "      <th>idade</th>\n",
       "      <th>random</th>\n",
       "      <th>is_random_gt_0</th>\n",
       "    </tr>\n",
       "  </thead>\n",
       "  <tbody>\n",
       "    <tr>\n",
       "      <th>um</th>\n",
       "      <td>27</td>\n",
       "      <td>0,50</td>\n",
       "      <td>True</td>\n",
       "    </tr>\n",
       "    <tr>\n",
       "      <th>dois</th>\n",
       "      <td>29</td>\n",
       "      <td>-1,22</td>\n",
       "      <td>False</td>\n",
       "    </tr>\n",
       "    <tr>\n",
       "      <th>três</th>\n",
       "      <td>88</td>\n",
       "      <td>1,34</td>\n",
       "      <td>True</td>\n",
       "    </tr>\n",
       "  </tbody>\n",
       "</table>\n",
       "</div>"
      ],
      "text/plain": [
       "      idade  random  is_random_gt_0\n",
       "um       27    0,50            True\n",
       "dois     29   -1,22           False\n",
       "três     88    1,34            True"
      ]
     },
     "execution_count": 61,
     "metadata": {},
     "output_type": "execute_result"
    }
   ],
   "source": [
    "df.drop(\"nome\", axis=1)"
   ]
  },
  {
   "cell_type": "code",
   "execution_count": 62,
   "metadata": {
    "collapsed": false,
    "deletable": true,
    "editable": true
   },
   "outputs": [
    {
     "data": {
      "text/html": [
       "<div>\n",
       "<style>\n",
       "    .dataframe thead tr:only-child th {\n",
       "        text-align: right;\n",
       "    }\n",
       "\n",
       "    .dataframe thead th {\n",
       "        text-align: left;\n",
       "    }\n",
       "\n",
       "    .dataframe tbody tr th {\n",
       "        vertical-align: top;\n",
       "    }\n",
       "</style>\n",
       "<table border=\"1\" class=\"dataframe\">\n",
       "  <thead>\n",
       "    <tr style=\"text-align: right;\">\n",
       "      <th></th>\n",
       "      <th>x</th>\n",
       "      <th>y</th>\n",
       "      <th>z</th>\n",
       "    </tr>\n",
       "  </thead>\n",
       "  <tbody>\n",
       "    <tr>\n",
       "      <th>a</th>\n",
       "      <td>0</td>\n",
       "      <td>1</td>\n",
       "      <td>2</td>\n",
       "    </tr>\n",
       "    <tr>\n",
       "      <th>b</th>\n",
       "      <td>3</td>\n",
       "      <td>4</td>\n",
       "      <td>5</td>\n",
       "    </tr>\n",
       "    <tr>\n",
       "      <th>c</th>\n",
       "      <td>6</td>\n",
       "      <td>7</td>\n",
       "      <td>8</td>\n",
       "    </tr>\n",
       "  </tbody>\n",
       "</table>\n",
       "</div>"
      ],
      "text/plain": [
       "   x  y  z\n",
       "a  0  1  2\n",
       "b  3  4  5\n",
       "c  6  7  8"
      ]
     },
     "execution_count": 62,
     "metadata": {},
     "output_type": "execute_result"
    }
   ],
   "source": [
    "nuns = pd.DataFrame(np.arange(9).reshape(3, 3), index=['a', 'b', 'c'], columns=['x', 'y', 'z'])\n",
    "\n",
    "nuns"
   ]
  },
  {
   "cell_type": "code",
   "execution_count": 63,
   "metadata": {
    "collapsed": false,
    "deletable": true,
    "editable": true
   },
   "outputs": [
    {
     "data": {
      "text/plain": [
       "x    9\n",
       "y   12\n",
       "z   15\n",
       "dtype: int64"
      ]
     },
     "execution_count": 63,
     "metadata": {},
     "output_type": "execute_result"
    }
   ],
   "source": [
    "nuns.sum(axis=0) # soma as linhas"
   ]
  },
  {
   "cell_type": "code",
   "execution_count": 64,
   "metadata": {
    "collapsed": false,
    "deletable": true,
    "editable": true
   },
   "outputs": [
    {
     "data": {
      "text/plain": [
       "a    3\n",
       "b   12\n",
       "c   21\n",
       "dtype: int64"
      ]
     },
     "execution_count": 64,
     "metadata": {},
     "output_type": "execute_result"
    }
   ],
   "source": [
    "nuns.sum(axis=1) # soma as colunas"
   ]
  },
  {
   "cell_type": "code",
   "execution_count": 255,
   "metadata": {
    "collapsed": false,
    "deletable": true,
    "editable": true
   },
   "outputs": [
    {
     "data": {
      "text/plain": [
       "x     9\n",
       "y    12\n",
       "z    15\n",
       "dtype: int64"
      ]
     },
     "execution_count": 255,
     "metadata": {},
     "output_type": "execute_result"
    },
    {
     "data": {
      "text/plain": [
       "a     3\n",
       "b    12\n",
       "c    21\n",
       "dtype: int64"
      ]
     },
     "execution_count": 255,
     "metadata": {},
     "output_type": "execute_result"
    }
   ],
   "source": [
    "# nova versão do pandas permite passar o nome do axis\n",
    "nuns.sum(axis=\"index\")\n",
    "nuns.sum(axis=\"columns\")"
   ]
  },
  {
   "cell_type": "markdown",
   "metadata": {
    "deletable": true,
    "editable": true
   },
   "source": [
    "# Exercício 5"
   ]
  },
  {
   "cell_type": "markdown",
   "metadata": {
    "deletable": true,
    "editable": true
   },
   "source": [
    "<hr />"
   ]
  },
  {
   "cell_type": "markdown",
   "metadata": {
    "deletable": true,
    "editable": true
   },
   "source": [
    "## Filtrando"
   ]
  },
  {
   "cell_type": "code",
   "execution_count": 5,
   "metadata": {
    "collapsed": false,
    "deletable": true,
    "editable": true
   },
   "outputs": [
    {
     "data": {
      "text/html": [
       "<div>\n",
       "<style>\n",
       "    .dataframe thead tr:only-child th {\n",
       "        text-align: right;\n",
       "    }\n",
       "\n",
       "    .dataframe thead th {\n",
       "        text-align: left;\n",
       "    }\n",
       "\n",
       "    .dataframe tbody tr th {\n",
       "        vertical-align: top;\n",
       "    }\n",
       "</style>\n",
       "<table border=\"1\" class=\"dataframe\">\n",
       "  <thead>\n",
       "    <tr style=\"text-align: right;\">\n",
       "      <th></th>\n",
       "      <th>CNPJ</th>\n",
       "      <th>NOME</th>\n",
       "      <th>PROJETO</th>\n",
       "      <th>DATA</th>\n",
       "      <th>VALOR (R$)</th>\n",
       "    </tr>\n",
       "  </thead>\n",
       "  <tbody>\n",
       "    <tr>\n",
       "      <th>0</th>\n",
       "      <td>***.00.000/****-90</td>\n",
       "      <td>BANCO DO BRASIL SA</td>\n",
       "      <td>0101 - FCPC</td>\n",
       "      <td>2017-01-13</td>\n",
       "      <td>6.694,90</td>\n",
       "    </tr>\n",
       "    <tr>\n",
       "      <th>1</th>\n",
       "      <td>***.00.071/****-21</td>\n",
       "      <td>LUREX DISTRIBUIDORA DE BATERIAS LTDA</td>\n",
       "      <td>0101 - FCPC</td>\n",
       "      <td>2017-01-06</td>\n",
       "      <td>453,00</td>\n",
       "    </tr>\n",
       "    <tr>\n",
       "      <th>2</th>\n",
       "      <td>***.00.125/****-52</td>\n",
       "      <td>BONTEMPO REFRIGERACAO LTDA</td>\n",
       "      <td>3224 - TC SMART/UFC/FCPC - DESENVOLVIMENTO DE ...</td>\n",
       "      <td>2017-01-03</td>\n",
       "      <td>1.360,00</td>\n",
       "    </tr>\n",
       "    <tr>\n",
       "      <th>3</th>\n",
       "      <td>***.00.204/****-20</td>\n",
       "      <td>NONO TABELIONATO DE NOTAS</td>\n",
       "      <td>0101 - FCPC</td>\n",
       "      <td>2017-02-01</td>\n",
       "      <td>396,27</td>\n",
       "    </tr>\n",
       "    <tr>\n",
       "      <th>4</th>\n",
       "      <td>***.00.204/****-20</td>\n",
       "      <td>NONO TABELIONATO DE NOTAS</td>\n",
       "      <td>0101 - FCPC</td>\n",
       "      <td>2017-01-02</td>\n",
       "      <td>24,81</td>\n",
       "    </tr>\n",
       "  </tbody>\n",
       "</table>\n",
       "</div>"
      ],
      "text/plain": [
       "                 CNPJ                                  NOME  \\\n",
       "0  ***.00.000/****-90                    BANCO DO BRASIL SA   \n",
       "1  ***.00.071/****-21  LUREX DISTRIBUIDORA DE BATERIAS LTDA   \n",
       "2  ***.00.125/****-52            BONTEMPO REFRIGERACAO LTDA   \n",
       "3  ***.00.204/****-20             NONO TABELIONATO DE NOTAS   \n",
       "4  ***.00.204/****-20             NONO TABELIONATO DE NOTAS   \n",
       "\n",
       "                                             PROJETO       DATA  VALOR (R$)  \n",
       "0                                        0101 - FCPC 2017-01-13    6.694,90  \n",
       "1                                        0101 - FCPC 2017-01-06      453,00  \n",
       "2  3224 - TC SMART/UFC/FCPC - DESENVOLVIMENTO DE ... 2017-01-03    1.360,00  \n",
       "3                                        0101 - FCPC 2017-02-01      396,27  \n",
       "4                                        0101 - FCPC 2017-01-02       24,81  "
      ]
     },
     "execution_count": 5,
     "metadata": {},
     "output_type": "execute_result"
    }
   ],
   "source": [
    "fcpc = pd.read_csv(\"2017 - 19-02.csv\", \n",
    "                   thousands=\".\", \n",
    "                   decimal=\",\",\n",
    "                   parse_dates=[\"DATA\"],\n",
    "                   date_parser=lambda x: datetime.strptime(x, \"%d/%m/%Y\"))\n",
    "\n",
    "fcpc.head()"
   ]
  },
  {
   "cell_type": "code",
   "execution_count": 6,
   "metadata": {
    "collapsed": false,
    "deletable": true,
    "editable": true
   },
   "outputs": [
    {
     "data": {
      "text/plain": [
       "0    False\n",
       "1     True\n",
       "2    False\n",
       "3     True\n",
       "4     True\n",
       "Name: VALOR (R$), dtype: bool"
      ]
     },
     "execution_count": 6,
     "metadata": {},
     "output_type": "execute_result"
    }
   ],
   "source": [
    "(fcpc[\"VALOR (R$)\"] < 1000).head() # head apenas para encurtar o output"
   ]
  },
  {
   "cell_type": "code",
   "execution_count": 7,
   "metadata": {
    "collapsed": false,
    "deletable": true,
    "editable": true
   },
   "outputs": [
    {
     "data": {
      "text/html": [
       "<div>\n",
       "<style>\n",
       "    .dataframe thead tr:only-child th {\n",
       "        text-align: right;\n",
       "    }\n",
       "\n",
       "    .dataframe thead th {\n",
       "        text-align: left;\n",
       "    }\n",
       "\n",
       "    .dataframe tbody tr th {\n",
       "        vertical-align: top;\n",
       "    }\n",
       "</style>\n",
       "<table border=\"1\" class=\"dataframe\">\n",
       "  <thead>\n",
       "    <tr style=\"text-align: right;\">\n",
       "      <th></th>\n",
       "      <th>CNPJ</th>\n",
       "      <th>NOME</th>\n",
       "      <th>PROJETO</th>\n",
       "      <th>DATA</th>\n",
       "      <th>VALOR (R$)</th>\n",
       "    </tr>\n",
       "  </thead>\n",
       "  <tbody>\n",
       "    <tr>\n",
       "      <th>354</th>\n",
       "      <td>***.07.272/****-31</td>\n",
       "      <td>UNIVERSIDADE FEDERAL DO CEARA</td>\n",
       "      <td>0101 - FCPC</td>\n",
       "      <td>2017-01-05</td>\n",
       "      <td>142.017,21</td>\n",
       "    </tr>\n",
       "    <tr>\n",
       "      <th>412</th>\n",
       "      <td>***.10.352/****-69</td>\n",
       "      <td>ENPECEL ENGENHARIA LTDA</td>\n",
       "      <td>2585 - CV.FINEP/UFC/FCPC-CTINFRA 09</td>\n",
       "      <td>2017-01-06</td>\n",
       "      <td>471.982,89</td>\n",
       "    </tr>\n",
       "  </tbody>\n",
       "</table>\n",
       "</div>"
      ],
      "text/plain": [
       "                   CNPJ                           NOME  \\\n",
       "354  ***.07.272/****-31  UNIVERSIDADE FEDERAL DO CEARA   \n",
       "412  ***.10.352/****-69        ENPECEL ENGENHARIA LTDA   \n",
       "\n",
       "                                 PROJETO       DATA  VALOR (R$)  \n",
       "354                          0101 - FCPC 2017-01-05  142.017,21  \n",
       "412  2585 - CV.FINEP/UFC/FCPC-CTINFRA 09 2017-01-06  471.982,89  "
      ]
     },
     "execution_count": 7,
     "metadata": {},
     "output_type": "execute_result"
    }
   ],
   "source": [
    "fcpc[fcpc[\"VALOR (R$)\"] > 100000]"
   ]
  },
  {
   "cell_type": "code",
   "execution_count": 8,
   "metadata": {
    "collapsed": false,
    "deletable": true,
    "editable": true
   },
   "outputs": [
    {
     "data": {
      "text/html": [
       "<div>\n",
       "<style>\n",
       "    .dataframe thead tr:only-child th {\n",
       "        text-align: right;\n",
       "    }\n",
       "\n",
       "    .dataframe thead th {\n",
       "        text-align: left;\n",
       "    }\n",
       "\n",
       "    .dataframe tbody tr th {\n",
       "        vertical-align: top;\n",
       "    }\n",
       "</style>\n",
       "<table border=\"1\" class=\"dataframe\">\n",
       "  <thead>\n",
       "    <tr style=\"text-align: right;\">\n",
       "      <th></th>\n",
       "      <th>CNPJ</th>\n",
       "      <th>NOME</th>\n",
       "      <th>PROJETO</th>\n",
       "      <th>DATA</th>\n",
       "      <th>VALOR (R$)</th>\n",
       "    </tr>\n",
       "  </thead>\n",
       "  <tbody>\n",
       "    <tr>\n",
       "      <th>354</th>\n",
       "      <td>***.07.272/****-31</td>\n",
       "      <td>UNIVERSIDADE FEDERAL DO CEARA</td>\n",
       "      <td>0101 - FCPC</td>\n",
       "      <td>2017-01-05</td>\n",
       "      <td>142.017,21</td>\n",
       "    </tr>\n",
       "    <tr>\n",
       "      <th>412</th>\n",
       "      <td>***.10.352/****-69</td>\n",
       "      <td>ENPECEL ENGENHARIA LTDA</td>\n",
       "      <td>2585 - CV.FINEP/UFC/FCPC-CTINFRA 09</td>\n",
       "      <td>2017-01-06</td>\n",
       "      <td>471.982,89</td>\n",
       "    </tr>\n",
       "  </tbody>\n",
       "</table>\n",
       "</div>"
      ],
      "text/plain": [
       "                   CNPJ                           NOME  \\\n",
       "354  ***.07.272/****-31  UNIVERSIDADE FEDERAL DO CEARA   \n",
       "412  ***.10.352/****-69        ENPECEL ENGENHARIA LTDA   \n",
       "\n",
       "                                 PROJETO       DATA  VALOR (R$)  \n",
       "354                          0101 - FCPC 2017-01-05  142.017,21  \n",
       "412  2585 - CV.FINEP/UFC/FCPC-CTINFRA 09 2017-01-06  471.982,89  "
      ]
     },
     "execution_count": 8,
     "metadata": {},
     "output_type": "execute_result"
    }
   ],
   "source": [
    "# outra forma de se filtrar uma Series/DataFrame é passar\n",
    "#    uma função para o .loc[] que receba um valor/series e retorne um booleano\n",
    "#    indicando se aquele valor/series deve ser retornado\n",
    "fcpc.loc[lambda row: row[\"VALOR (R$)\"] > 100000, :] # útil para quando não se quer guardar um df temporário em uma variável"
   ]
  },
  {
   "cell_type": "code",
   "execution_count": 99,
   "metadata": {
    "collapsed": false,
    "deletable": true,
    "editable": true
   },
   "outputs": [
    {
     "data": {
      "text/html": [
       "<div>\n",
       "<style>\n",
       "    .dataframe thead tr:only-child th {\n",
       "        text-align: right;\n",
       "    }\n",
       "\n",
       "    .dataframe thead th {\n",
       "        text-align: left;\n",
       "    }\n",
       "\n",
       "    .dataframe tbody tr th {\n",
       "        vertical-align: top;\n",
       "    }\n",
       "</style>\n",
       "<table border=\"1\" class=\"dataframe\">\n",
       "  <thead>\n",
       "    <tr style=\"text-align: right;\">\n",
       "      <th></th>\n",
       "      <th>NOME</th>\n",
       "      <th>VALOR (R$)</th>\n",
       "    </tr>\n",
       "  </thead>\n",
       "  <tbody>\n",
       "    <tr>\n",
       "      <th>354</th>\n",
       "      <td>UNIVERSIDADE FEDERAL DO CEARA</td>\n",
       "      <td>142.017,21</td>\n",
       "    </tr>\n",
       "    <tr>\n",
       "      <th>412</th>\n",
       "      <td>ENPECEL ENGENHARIA LTDA</td>\n",
       "      <td>471.982,89</td>\n",
       "    </tr>\n",
       "  </tbody>\n",
       "</table>\n",
       "</div>"
      ],
      "text/plain": [
       "                              NOME  VALOR (R$)\n",
       "354  UNIVERSIDADE FEDERAL DO CEARA  142.017,21\n",
       "412        ENPECEL ENGENHARIA LTDA  471.982,89"
      ]
     },
     "execution_count": 99,
     "metadata": {},
     "output_type": "execute_result"
    }
   ],
   "source": [
    "# filtrando e retornando apenas algumas colunas\n",
    "fcpc.loc[lambda row: row[\"VALOR (R$)\"] > 100000, [\"NOME\", \"VALOR (R$)\"]]"
   ]
  },
  {
   "cell_type": "code",
   "execution_count": 100,
   "metadata": {
    "collapsed": false,
    "deletable": true,
    "editable": true
   },
   "outputs": [
    {
     "data": {
      "text/html": [
       "<div>\n",
       "<style>\n",
       "    .dataframe thead tr:only-child th {\n",
       "        text-align: right;\n",
       "    }\n",
       "\n",
       "    .dataframe thead th {\n",
       "        text-align: left;\n",
       "    }\n",
       "\n",
       "    .dataframe tbody tr th {\n",
       "        vertical-align: top;\n",
       "    }\n",
       "</style>\n",
       "<table border=\"1\" class=\"dataframe\">\n",
       "  <thead>\n",
       "    <tr style=\"text-align: right;\">\n",
       "      <th></th>\n",
       "      <th>CNPJ</th>\n",
       "      <th>NOME</th>\n",
       "      <th>PROJETO</th>\n",
       "      <th>DATA</th>\n",
       "      <th>VALOR (R$)</th>\n",
       "    </tr>\n",
       "  </thead>\n",
       "  <tbody>\n",
       "    <tr>\n",
       "      <th>10</th>\n",
       "      <td>***.00.360/****-04</td>\n",
       "      <td>CAIXA ECONOMICA FEDERAL</td>\n",
       "      <td>3191 - TC FURUKAWA/UFC/FCPC - SISTEMA DE GESTÃ...</td>\n",
       "      <td>01/02/2017</td>\n",
       "      <td>120,00</td>\n",
       "    </tr>\n",
       "    <tr>\n",
       "      <th>11</th>\n",
       "      <td>***.00.360/****-04</td>\n",
       "      <td>CAIXA ECONOMICA FEDERAL</td>\n",
       "      <td>3191 - TC FURUKAWA/UFC/FCPC - SISTEMA DE GESTÃ...</td>\n",
       "      <td>01/02/2017</td>\n",
       "      <td>259,52</td>\n",
       "    </tr>\n",
       "    <tr>\n",
       "      <th>12</th>\n",
       "      <td>***.00.360/****-04</td>\n",
       "      <td>CAIXA ECONOMICA FEDERAL</td>\n",
       "      <td>3191 - TC FURUKAWA/UFC/FCPC - SISTEMA DE GESTÃ...</td>\n",
       "      <td>01/02/2017</td>\n",
       "      <td>351,84</td>\n",
       "    </tr>\n",
       "  </tbody>\n",
       "</table>\n",
       "</div>"
      ],
      "text/plain": [
       "                  CNPJ                     NOME  \\\n",
       "10  ***.00.360/****-04  CAIXA ECONOMICA FEDERAL   \n",
       "11  ***.00.360/****-04  CAIXA ECONOMICA FEDERAL   \n",
       "12  ***.00.360/****-04  CAIXA ECONOMICA FEDERAL   \n",
       "\n",
       "                                              PROJETO        DATA  VALOR (R$)  \n",
       "10  3191 - TC FURUKAWA/UFC/FCPC - SISTEMA DE GESTÃ...  01/02/2017      120,00  \n",
       "11  3191 - TC FURUKAWA/UFC/FCPC - SISTEMA DE GESTÃ...  01/02/2017      259,52  \n",
       "12  3191 - TC FURUKAWA/UFC/FCPC - SISTEMA DE GESTÃ...  01/02/2017      351,84  "
      ]
     },
     "execution_count": 100,
     "metadata": {},
     "output_type": "execute_result"
    }
   ],
   "source": [
    "# retornando valores com labels em um slice\n",
    "fcpc.loc[10:12] # lembrar que o loc inclui ambos os limites do slice"
   ]
  },
  {
   "cell_type": "code",
   "execution_count": 108,
   "metadata": {
    "collapsed": false,
    "deletable": true,
    "editable": true
   },
   "outputs": [
    {
     "name": "stdout",
     "output_type": "stream",
     "text": [
      "The slowest run took 199.76 times longer than the fastest. This could mean that an intermediate result is being cached.\n",
      "100000 loops, best of 3: 2.26 µs per loop\n"
     ]
    }
   ],
   "source": [
    "%%timeit \n",
    "\n",
    "# para captura de um valor, df.get_value é mais performático\n",
    "fcpc.get_value(100, 'PROJETO')"
   ]
  },
  {
   "cell_type": "code",
   "execution_count": 110,
   "metadata": {
    "collapsed": false,
    "deletable": true,
    "editable": true
   },
   "outputs": [
    {
     "name": "stdout",
     "output_type": "stream",
     "text": [
      "The slowest run took 7.27 times longer than the fastest. This could mean that an intermediate result is being cached.\n",
      "100000 loops, best of 3: 7.77 µs per loop\n"
     ]
    }
   ],
   "source": [
    "%%timeit\n",
    "\n",
    "fcpc.loc[100, 'PROJETO']"
   ]
  },
  {
   "cell_type": "code",
   "execution_count": 113,
   "metadata": {
    "collapsed": false,
    "deletable": true,
    "editable": true
   },
   "outputs": [
    {
     "data": {
      "text/html": [
       "<div>\n",
       "<style>\n",
       "    .dataframe thead tr:only-child th {\n",
       "        text-align: right;\n",
       "    }\n",
       "\n",
       "    .dataframe thead th {\n",
       "        text-align: left;\n",
       "    }\n",
       "\n",
       "    .dataframe tbody tr th {\n",
       "        vertical-align: top;\n",
       "    }\n",
       "</style>\n",
       "<table border=\"1\" class=\"dataframe\">\n",
       "  <thead>\n",
       "    <tr style=\"text-align: right;\">\n",
       "      <th></th>\n",
       "      <th>CNPJ</th>\n",
       "      <th>NOME</th>\n",
       "      <th>PROJETO</th>\n",
       "      <th>DATA</th>\n",
       "      <th>VALOR (R$)</th>\n",
       "    </tr>\n",
       "  </thead>\n",
       "  <tbody>\n",
       "    <tr>\n",
       "      <th>0</th>\n",
       "      <td>***.00.000/****-90</td>\n",
       "      <td>Bar do Zé</td>\n",
       "      <td>0101 - FCPC</td>\n",
       "      <td>13/01/2017</td>\n",
       "      <td>6.694,90</td>\n",
       "    </tr>\n",
       "    <tr>\n",
       "      <th>1</th>\n",
       "      <td>***.00.071/****-21</td>\n",
       "      <td>LUREX DISTRIBUIDORA DE BATERIAS LTDA</td>\n",
       "      <td>0101 - FCPC</td>\n",
       "      <td>06/01/2017</td>\n",
       "      <td>453,00</td>\n",
       "    </tr>\n",
       "    <tr>\n",
       "      <th>2</th>\n",
       "      <td>***.00.125/****-52</td>\n",
       "      <td>BONTEMPO REFRIGERACAO LTDA</td>\n",
       "      <td>3224 - TC SMART/UFC/FCPC - DESENVOLVIMENTO DE ...</td>\n",
       "      <td>03/01/2017</td>\n",
       "      <td>1.360,00</td>\n",
       "    </tr>\n",
       "    <tr>\n",
       "      <th>3</th>\n",
       "      <td>***.00.204/****-20</td>\n",
       "      <td>NONO TABELIONATO DE NOTAS</td>\n",
       "      <td>0101 - FCPC</td>\n",
       "      <td>01/02/2017</td>\n",
       "      <td>396,27</td>\n",
       "    </tr>\n",
       "    <tr>\n",
       "      <th>4</th>\n",
       "      <td>***.00.204/****-20</td>\n",
       "      <td>NONO TABELIONATO DE NOTAS</td>\n",
       "      <td>0101 - FCPC</td>\n",
       "      <td>02/01/2017</td>\n",
       "      <td>24,81</td>\n",
       "    </tr>\n",
       "  </tbody>\n",
       "</table>\n",
       "</div>"
      ],
      "text/plain": [
       "                 CNPJ                                  NOME  \\\n",
       "0  ***.00.000/****-90                             Bar do Zé   \n",
       "1  ***.00.071/****-21  LUREX DISTRIBUIDORA DE BATERIAS LTDA   \n",
       "2  ***.00.125/****-52            BONTEMPO REFRIGERACAO LTDA   \n",
       "3  ***.00.204/****-20             NONO TABELIONATO DE NOTAS   \n",
       "4  ***.00.204/****-20             NONO TABELIONATO DE NOTAS   \n",
       "\n",
       "                                             PROJETO        DATA  VALOR (R$)  \n",
       "0                                        0101 - FCPC  13/01/2017    6.694,90  \n",
       "1                                        0101 - FCPC  06/01/2017      453,00  \n",
       "2  3224 - TC SMART/UFC/FCPC - DESENVOLVIMENTO DE ...  03/01/2017    1.360,00  \n",
       "3                                        0101 - FCPC  01/02/2017      396,27  \n",
       "4                                        0101 - FCPC  02/01/2017       24,81  "
      ]
     },
     "execution_count": 113,
     "metadata": {},
     "output_type": "execute_result"
    }
   ],
   "source": [
    "# para alterar um valor, df.set_value é mais performático\n",
    "fcpc_ = fcpc.set_value(0, 'NOME', 'Bar do Zé')\n",
    "\n",
    "fcpc_.head()"
   ]
  },
  {
   "cell_type": "markdown",
   "metadata": {
    "deletable": true,
    "editable": true
   },
   "source": [
    "## Aritmética"
   ]
  },
  {
   "cell_type": "code",
   "execution_count": 114,
   "metadata": {
    "collapsed": false,
    "deletable": true,
    "editable": true
   },
   "outputs": [
    {
     "data": {
      "text/plain": [
       "0   65\n",
       "1   64\n",
       "2   89\n",
       "3   64\n",
       "4   66\n",
       "dtype: int64"
      ]
     },
     "execution_count": 114,
     "metadata": {},
     "output_type": "execute_result"
    },
    {
     "data": {
      "text/plain": [
       "0   -10\n",
       "2    -3\n",
       "4    -4\n",
       "6    -6\n",
       "8    -8\n",
       "dtype: int64"
      ]
     },
     "execution_count": 114,
     "metadata": {},
     "output_type": "execute_result"
    }
   ],
   "source": [
    "s1 = pd.Series(np.random.randint(0, 100, 5), index=range(5))\n",
    "s2 = pd.Series(np.random.randint(-10, 0, 5), index=range(0, 10, 2))\n",
    "\n",
    "s1\n",
    "s2"
   ]
  },
  {
   "cell_type": "code",
   "execution_count": 115,
   "metadata": {
    "collapsed": false,
    "deletable": true,
    "editable": true
   },
   "outputs": [
    {
     "data": {
      "text/plain": [
       "0   55,00\n",
       "1     nan\n",
       "2   86,00\n",
       "3     nan\n",
       "4   62,00\n",
       "6     nan\n",
       "8     nan\n",
       "dtype: float64"
      ]
     },
     "execution_count": 115,
     "metadata": {},
     "output_type": "execute_result"
    }
   ],
   "source": [
    "s1+s2"
   ]
  },
  {
   "cell_type": "code",
   "execution_count": 116,
   "metadata": {
    "collapsed": false,
    "deletable": true,
    "editable": true
   },
   "outputs": [
    {
     "data": {
      "text/html": [
       "<div>\n",
       "<style>\n",
       "    .dataframe thead tr:only-child th {\n",
       "        text-align: right;\n",
       "    }\n",
       "\n",
       "    .dataframe thead th {\n",
       "        text-align: left;\n",
       "    }\n",
       "\n",
       "    .dataframe tbody tr th {\n",
       "        vertical-align: top;\n",
       "    }\n",
       "</style>\n",
       "<table border=\"1\" class=\"dataframe\">\n",
       "  <thead>\n",
       "    <tr style=\"text-align: right;\">\n",
       "      <th></th>\n",
       "      <th>b</th>\n",
       "      <th>c</th>\n",
       "      <th>d</th>\n",
       "    </tr>\n",
       "  </thead>\n",
       "  <tbody>\n",
       "    <tr>\n",
       "      <th>Fortaleza</th>\n",
       "      <td>0,00</td>\n",
       "      <td>1,00</td>\n",
       "      <td>2,00</td>\n",
       "    </tr>\n",
       "    <tr>\n",
       "      <th>São Paulo</th>\n",
       "      <td>3,00</td>\n",
       "      <td>4,00</td>\n",
       "      <td>5,00</td>\n",
       "    </tr>\n",
       "    <tr>\n",
       "      <th>Rio de Janeiro</th>\n",
       "      <td>6,00</td>\n",
       "      <td>7,00</td>\n",
       "      <td>8,00</td>\n",
       "    </tr>\n",
       "  </tbody>\n",
       "</table>\n",
       "</div>"
      ],
      "text/plain": [
       "                  b    c    d\n",
       "Fortaleza      0,00 1,00 2,00\n",
       "São Paulo      3,00 4,00 5,00\n",
       "Rio de Janeiro 6,00 7,00 8,00"
      ]
     },
     "execution_count": 116,
     "metadata": {},
     "output_type": "execute_result"
    },
    {
     "data": {
      "text/html": [
       "<div>\n",
       "<style>\n",
       "    .dataframe thead tr:only-child th {\n",
       "        text-align: right;\n",
       "    }\n",
       "\n",
       "    .dataframe thead th {\n",
       "        text-align: left;\n",
       "    }\n",
       "\n",
       "    .dataframe tbody tr th {\n",
       "        vertical-align: top;\n",
       "    }\n",
       "</style>\n",
       "<table border=\"1\" class=\"dataframe\">\n",
       "  <thead>\n",
       "    <tr style=\"text-align: right;\">\n",
       "      <th></th>\n",
       "      <th>b</th>\n",
       "      <th>d</th>\n",
       "      <th>e</th>\n",
       "    </tr>\n",
       "  </thead>\n",
       "  <tbody>\n",
       "    <tr>\n",
       "      <th>Utah</th>\n",
       "      <td>0,00</td>\n",
       "      <td>1,00</td>\n",
       "      <td>2,00</td>\n",
       "    </tr>\n",
       "    <tr>\n",
       "      <th>Fortaleza</th>\n",
       "      <td>3,00</td>\n",
       "      <td>4,00</td>\n",
       "      <td>5,00</td>\n",
       "    </tr>\n",
       "    <tr>\n",
       "      <th>São Paulo</th>\n",
       "      <td>6,00</td>\n",
       "      <td>7,00</td>\n",
       "      <td>8,00</td>\n",
       "    </tr>\n",
       "    <tr>\n",
       "      <th>Crateús</th>\n",
       "      <td>9,00</td>\n",
       "      <td>10,00</td>\n",
       "      <td>11,00</td>\n",
       "    </tr>\n",
       "  </tbody>\n",
       "</table>\n",
       "</div>"
      ],
      "text/plain": [
       "             b     d     e\n",
       "Utah      0,00  1,00  2,00\n",
       "Fortaleza 3,00  4,00  5,00\n",
       "São Paulo 6,00  7,00  8,00\n",
       "Crateús   9,00 10,00 11,00"
      ]
     },
     "execution_count": 116,
     "metadata": {},
     "output_type": "execute_result"
    }
   ],
   "source": [
    "df1 = pd.DataFrame(np.arange(9.).reshape((3, 3)), columns=list('bcd'), \n",
    "                   index=['Fortaleza', 'São Paulo', 'Rio de Janeiro'])\n",
    "df2 = pd.DataFrame(np.arange(12.).reshape((4, 3)), columns=list('bde'), \n",
    "                   index=['Utah', 'Fortaleza', 'São Paulo', 'Crateús'])\n",
    "\n",
    "df1\n",
    "df2"
   ]
  },
  {
   "cell_type": "code",
   "execution_count": 117,
   "metadata": {
    "collapsed": false,
    "deletable": true,
    "editable": true
   },
   "outputs": [
    {
     "data": {
      "text/html": [
       "<div>\n",
       "<style>\n",
       "    .dataframe thead tr:only-child th {\n",
       "        text-align: right;\n",
       "    }\n",
       "\n",
       "    .dataframe thead th {\n",
       "        text-align: left;\n",
       "    }\n",
       "\n",
       "    .dataframe tbody tr th {\n",
       "        vertical-align: top;\n",
       "    }\n",
       "</style>\n",
       "<table border=\"1\" class=\"dataframe\">\n",
       "  <thead>\n",
       "    <tr style=\"text-align: right;\">\n",
       "      <th></th>\n",
       "      <th>b</th>\n",
       "      <th>c</th>\n",
       "      <th>d</th>\n",
       "      <th>e</th>\n",
       "    </tr>\n",
       "  </thead>\n",
       "  <tbody>\n",
       "    <tr>\n",
       "      <th>Crateús</th>\n",
       "      <td>nan</td>\n",
       "      <td>nan</td>\n",
       "      <td>nan</td>\n",
       "      <td>nan</td>\n",
       "    </tr>\n",
       "    <tr>\n",
       "      <th>Fortaleza</th>\n",
       "      <td>3,00</td>\n",
       "      <td>nan</td>\n",
       "      <td>6,00</td>\n",
       "      <td>nan</td>\n",
       "    </tr>\n",
       "    <tr>\n",
       "      <th>Rio de Janeiro</th>\n",
       "      <td>nan</td>\n",
       "      <td>nan</td>\n",
       "      <td>nan</td>\n",
       "      <td>nan</td>\n",
       "    </tr>\n",
       "    <tr>\n",
       "      <th>São Paulo</th>\n",
       "      <td>9,00</td>\n",
       "      <td>nan</td>\n",
       "      <td>12,00</td>\n",
       "      <td>nan</td>\n",
       "    </tr>\n",
       "    <tr>\n",
       "      <th>Utah</th>\n",
       "      <td>nan</td>\n",
       "      <td>nan</td>\n",
       "      <td>nan</td>\n",
       "      <td>nan</td>\n",
       "    </tr>\n",
       "  </tbody>\n",
       "</table>\n",
       "</div>"
      ],
      "text/plain": [
       "                  b   c     d   e\n",
       "Crateús         nan nan   nan nan\n",
       "Fortaleza      3,00 nan  6,00 nan\n",
       "Rio de Janeiro  nan nan   nan nan\n",
       "São Paulo      9,00 nan 12,00 nan\n",
       "Utah            nan nan   nan nan"
      ]
     },
     "execution_count": 117,
     "metadata": {},
     "output_type": "execute_result"
    }
   ],
   "source": [
    "df1+df2 # op(x, y) = NaN if x = NaN or y = NaN\n",
    "# - * /"
   ]
  },
  {
   "cell_type": "code",
   "execution_count": 118,
   "metadata": {
    "collapsed": false,
    "deletable": true,
    "editable": true
   },
   "outputs": [
    {
     "data": {
      "text/html": [
       "<div>\n",
       "<style>\n",
       "    .dataframe thead tr:only-child th {\n",
       "        text-align: right;\n",
       "    }\n",
       "\n",
       "    .dataframe thead th {\n",
       "        text-align: left;\n",
       "    }\n",
       "\n",
       "    .dataframe tbody tr th {\n",
       "        vertical-align: top;\n",
       "    }\n",
       "</style>\n",
       "<table border=\"1\" class=\"dataframe\">\n",
       "  <thead>\n",
       "    <tr style=\"text-align: right;\">\n",
       "      <th></th>\n",
       "      <th>b</th>\n",
       "      <th>c</th>\n",
       "      <th>d</th>\n",
       "      <th>e</th>\n",
       "    </tr>\n",
       "  </thead>\n",
       "  <tbody>\n",
       "    <tr>\n",
       "      <th>Crateús</th>\n",
       "      <td>9,00</td>\n",
       "      <td>nan</td>\n",
       "      <td>10,00</td>\n",
       "      <td>11,00</td>\n",
       "    </tr>\n",
       "    <tr>\n",
       "      <th>Fortaleza</th>\n",
       "      <td>3,00</td>\n",
       "      <td>1,00</td>\n",
       "      <td>6,00</td>\n",
       "      <td>5,00</td>\n",
       "    </tr>\n",
       "    <tr>\n",
       "      <th>Rio de Janeiro</th>\n",
       "      <td>6,00</td>\n",
       "      <td>7,00</td>\n",
       "      <td>8,00</td>\n",
       "      <td>nan</td>\n",
       "    </tr>\n",
       "    <tr>\n",
       "      <th>São Paulo</th>\n",
       "      <td>9,00</td>\n",
       "      <td>4,00</td>\n",
       "      <td>12,00</td>\n",
       "      <td>8,00</td>\n",
       "    </tr>\n",
       "    <tr>\n",
       "      <th>Utah</th>\n",
       "      <td>0,00</td>\n",
       "      <td>nan</td>\n",
       "      <td>1,00</td>\n",
       "      <td>2,00</td>\n",
       "    </tr>\n",
       "  </tbody>\n",
       "</table>\n",
       "</div>"
      ],
      "text/plain": [
       "                  b    c     d     e\n",
       "Crateús        9,00  nan 10,00 11,00\n",
       "Fortaleza      3,00 1,00  6,00  5,00\n",
       "Rio de Janeiro 6,00 7,00  8,00   nan\n",
       "São Paulo      9,00 4,00 12,00  8,00\n",
       "Utah           0,00  nan  1,00  2,00"
      ]
     },
     "execution_count": 118,
     "metadata": {},
     "output_type": "execute_result"
    }
   ],
   "source": [
    "df1.add(df2, fill_value=0) # usa 0 para missing values\n",
    "# sub, div, mul, add"
   ]
  },
  {
   "cell_type": "markdown",
   "metadata": {
    "deletable": true,
    "editable": true
   },
   "source": [
    "# Exercício 6"
   ]
  },
  {
   "cell_type": "markdown",
   "metadata": {
    "deletable": true,
    "editable": true
   },
   "source": [
    "<hr />"
   ]
  },
  {
   "cell_type": "markdown",
   "metadata": {
    "deletable": true,
    "editable": true
   },
   "source": [
    "## Functions"
   ]
  },
  {
   "cell_type": "code",
   "execution_count": 9,
   "metadata": {
    "collapsed": false,
    "deletable": true,
    "editable": true
   },
   "outputs": [
    {
     "data": {
      "text/html": [
       "<div>\n",
       "<style>\n",
       "    .dataframe thead tr:only-child th {\n",
       "        text-align: right;\n",
       "    }\n",
       "\n",
       "    .dataframe thead th {\n",
       "        text-align: left;\n",
       "    }\n",
       "\n",
       "    .dataframe tbody tr th {\n",
       "        vertical-align: top;\n",
       "    }\n",
       "</style>\n",
       "<table border=\"1\" class=\"dataframe\">\n",
       "  <thead>\n",
       "    <tr style=\"text-align: right;\">\n",
       "      <th></th>\n",
       "      <th>CNPJ</th>\n",
       "      <th>NOME</th>\n",
       "      <th>PROJETO</th>\n",
       "      <th>DATA</th>\n",
       "      <th>VALOR (R$)</th>\n",
       "    </tr>\n",
       "  </thead>\n",
       "  <tbody>\n",
       "    <tr>\n",
       "      <th>0</th>\n",
       "      <td>***.00.000/****-90</td>\n",
       "      <td>BANCO DO BRASIL SA</td>\n",
       "      <td>0101 - FCPC</td>\n",
       "      <td>2017-01-13</td>\n",
       "      <td>6.694,90</td>\n",
       "    </tr>\n",
       "    <tr>\n",
       "      <th>1</th>\n",
       "      <td>***.00.071/****-21</td>\n",
       "      <td>LUREX DISTRIBUIDORA DE BATERIAS LTDA</td>\n",
       "      <td>0101 - FCPC</td>\n",
       "      <td>2017-01-06</td>\n",
       "      <td>453,00</td>\n",
       "    </tr>\n",
       "    <tr>\n",
       "      <th>2</th>\n",
       "      <td>***.00.125/****-52</td>\n",
       "      <td>BONTEMPO REFRIGERACAO LTDA</td>\n",
       "      <td>3224 - TC SMART/UFC/FCPC - DESENVOLVIMENTO DE ...</td>\n",
       "      <td>2017-01-03</td>\n",
       "      <td>1.360,00</td>\n",
       "    </tr>\n",
       "    <tr>\n",
       "      <th>3</th>\n",
       "      <td>***.00.204/****-20</td>\n",
       "      <td>NONO TABELIONATO DE NOTAS</td>\n",
       "      <td>0101 - FCPC</td>\n",
       "      <td>2017-02-01</td>\n",
       "      <td>396,27</td>\n",
       "    </tr>\n",
       "    <tr>\n",
       "      <th>4</th>\n",
       "      <td>***.00.204/****-20</td>\n",
       "      <td>NONO TABELIONATO DE NOTAS</td>\n",
       "      <td>0101 - FCPC</td>\n",
       "      <td>2017-01-02</td>\n",
       "      <td>24,81</td>\n",
       "    </tr>\n",
       "  </tbody>\n",
       "</table>\n",
       "</div>"
      ],
      "text/plain": [
       "                 CNPJ                                  NOME  \\\n",
       "0  ***.00.000/****-90                    BANCO DO BRASIL SA   \n",
       "1  ***.00.071/****-21  LUREX DISTRIBUIDORA DE BATERIAS LTDA   \n",
       "2  ***.00.125/****-52            BONTEMPO REFRIGERACAO LTDA   \n",
       "3  ***.00.204/****-20             NONO TABELIONATO DE NOTAS   \n",
       "4  ***.00.204/****-20             NONO TABELIONATO DE NOTAS   \n",
       "\n",
       "                                             PROJETO       DATA  VALOR (R$)  \n",
       "0                                        0101 - FCPC 2017-01-13    6.694,90  \n",
       "1                                        0101 - FCPC 2017-01-06      453,00  \n",
       "2  3224 - TC SMART/UFC/FCPC - DESENVOLVIMENTO DE ... 2017-01-03    1.360,00  \n",
       "3                                        0101 - FCPC 2017-02-01      396,27  \n",
       "4                                        0101 - FCPC 2017-01-02       24,81  "
      ]
     },
     "execution_count": 9,
     "metadata": {},
     "output_type": "execute_result"
    }
   ],
   "source": [
    "fcpc.head()"
   ]
  },
  {
   "cell_type": "code",
   "execution_count": 10,
   "metadata": {
    "collapsed": false,
    "deletable": true,
    "editable": true
   },
   "outputs": [
    {
     "data": {
      "text/plain": [
       "1      0101\n",
       "135    2924\n",
       "207    1016\n",
       "32     3253\n",
       "68     3205\n",
       "472    2925\n",
       "992    0101\n",
       "49     3143\n",
       "111    3224\n",
       "329    0101\n",
       "Name: PROJETO_ID, dtype: object"
      ]
     },
     "execution_count": 10,
     "metadata": {},
     "output_type": "execute_result"
    }
   ],
   "source": [
    "# captura o valor numérico que inicia os valores em PROJETO\n",
    "#    considera que são os 4 primeiros caracteres\n",
    "fcpc[\"PROJETO_ID\"] = fcpc.PROJETO.apply(lambda p: p[:4])\n",
    "fcpc.PROJETO_ID.sample(10)"
   ]
  },
  {
   "cell_type": "code",
   "execution_count": 124,
   "metadata": {
    "collapsed": false,
    "deletable": true,
    "editable": true
   },
   "outputs": [
    {
     "data": {
      "text/html": [
       "<div>\n",
       "<style>\n",
       "    .dataframe thead tr:only-child th {\n",
       "        text-align: right;\n",
       "    }\n",
       "\n",
       "    .dataframe thead th {\n",
       "        text-align: left;\n",
       "    }\n",
       "\n",
       "    .dataframe tbody tr th {\n",
       "        vertical-align: top;\n",
       "    }\n",
       "</style>\n",
       "<table border=\"1\" class=\"dataframe\">\n",
       "  <thead>\n",
       "    <tr style=\"text-align: right;\">\n",
       "      <th></th>\n",
       "      <th>a</th>\n",
       "      <th>b</th>\n",
       "      <th>c</th>\n",
       "    </tr>\n",
       "  </thead>\n",
       "  <tbody>\n",
       "    <tr>\n",
       "      <th>DSI</th>\n",
       "      <td>-0,91</td>\n",
       "      <td>0,91</td>\n",
       "      <td>1,15</td>\n",
       "    </tr>\n",
       "    <tr>\n",
       "      <th>DADM</th>\n",
       "      <td>0,45</td>\n",
       "      <td>-2,00</td>\n",
       "      <td>-1,34</td>\n",
       "    </tr>\n",
       "    <tr>\n",
       "      <th>DSM</th>\n",
       "      <td>-0,20</td>\n",
       "      <td>1,98</td>\n",
       "      <td>0,07</td>\n",
       "    </tr>\n",
       "    <tr>\n",
       "      <th>DPU</th>\n",
       "      <td>0,68</td>\n",
       "      <td>0,90</td>\n",
       "      <td>0,03</td>\n",
       "    </tr>\n",
       "  </tbody>\n",
       "</table>\n",
       "</div>"
      ],
      "text/plain": [
       "         a     b     c\n",
       "DSI  -0,91  0,91  1,15\n",
       "DADM  0,45 -2,00 -1,34\n",
       "DSM  -0,20  1,98  0,07\n",
       "DPU   0,68  0,90  0,03"
      ]
     },
     "execution_count": 124,
     "metadata": {},
     "output_type": "execute_result"
    }
   ],
   "source": [
    "df = pd.DataFrame(np.random.randn(4, 3), \n",
    "                  columns=list('abc'), \n",
    "                  index=['DSI', 'DADM', 'DSM', 'DPU'])\n",
    "\n",
    "df"
   ]
  },
  {
   "cell_type": "code",
   "execution_count": 125,
   "metadata": {
    "collapsed": false,
    "deletable": true,
    "editable": true
   },
   "outputs": [
    {
     "data": {
      "text/plain": [
       "a   1,59\n",
       "b   3,98\n",
       "c   2,49\n",
       "dtype: float64"
      ]
     },
     "execution_count": 125,
     "metadata": {},
     "output_type": "execute_result"
    }
   ],
   "source": [
    "# por default axis = 0\n",
    "#    axis indica qual índice da estrutura que será passada para a função\n",
    "#    axis = 0 é o índice das linhas\n",
    "#    logo serão passadas colunas para a função\n",
    "#    é a forma mais intuitiva que achei até o momento :)\n",
    "df.apply(lambda x: x.max() - x.min())"
   ]
  },
  {
   "cell_type": "code",
   "execution_count": 126,
   "metadata": {
    "collapsed": false,
    "deletable": true,
    "editable": true
   },
   "outputs": [
    {
     "data": {
      "text/plain": [
       "DSI    2,06\n",
       "DADM   2,44\n",
       "DSM    2,18\n",
       "DPU    0,86\n",
       "dtype: float64"
      ]
     },
     "execution_count": 126,
     "metadata": {},
     "output_type": "execute_result"
    }
   ],
   "source": [
    "# com axis = 1, são passadas as linhas\n",
    "#    axis = 1 -> índice das colunas\n",
    "df.apply(lambda x: x.max() - x.min(), axis=1)"
   ]
  },
  {
   "cell_type": "code",
   "execution_count": 129,
   "metadata": {
    "collapsed": false,
    "deletable": true,
    "editable": true
   },
   "outputs": [
    {
     "data": {
      "text/html": [
       "<div>\n",
       "<style>\n",
       "    .dataframe thead tr:only-child th {\n",
       "        text-align: right;\n",
       "    }\n",
       "\n",
       "    .dataframe thead th {\n",
       "        text-align: left;\n",
       "    }\n",
       "\n",
       "    .dataframe tbody tr th {\n",
       "        vertical-align: top;\n",
       "    }\n",
       "</style>\n",
       "<table border=\"1\" class=\"dataframe\">\n",
       "  <thead>\n",
       "    <tr style=\"text-align: right;\">\n",
       "      <th></th>\n",
       "      <th>a</th>\n",
       "      <th>b</th>\n",
       "      <th>c</th>\n",
       "    </tr>\n",
       "  </thead>\n",
       "  <tbody>\n",
       "    <tr>\n",
       "      <th>min</th>\n",
       "      <td>-0,91</td>\n",
       "      <td>-2,00</td>\n",
       "      <td>-1,34</td>\n",
       "    </tr>\n",
       "    <tr>\n",
       "      <th>max</th>\n",
       "      <td>0,68</td>\n",
       "      <td>1,98</td>\n",
       "      <td>1,15</td>\n",
       "    </tr>\n",
       "    <tr>\n",
       "      <th>range</th>\n",
       "      <td>1,59</td>\n",
       "      <td>3,98</td>\n",
       "      <td>2,49</td>\n",
       "    </tr>\n",
       "  </tbody>\n",
       "</table>\n",
       "</div>"
      ],
      "text/plain": [
       "          a     b     c\n",
       "min   -0,91 -2,00 -1,34\n",
       "max    0,68  1,98  1,15\n",
       "range  1,59  3,98  2,49"
      ]
     },
     "execution_count": 129,
     "metadata": {},
     "output_type": "execute_result"
    },
    {
     "data": {
      "text/html": [
       "<div>\n",
       "<style>\n",
       "    .dataframe thead tr:only-child th {\n",
       "        text-align: right;\n",
       "    }\n",
       "\n",
       "    .dataframe thead th {\n",
       "        text-align: left;\n",
       "    }\n",
       "\n",
       "    .dataframe tbody tr th {\n",
       "        vertical-align: top;\n",
       "    }\n",
       "</style>\n",
       "<table border=\"1\" class=\"dataframe\">\n",
       "  <thead>\n",
       "    <tr style=\"text-align: right;\">\n",
       "      <th></th>\n",
       "      <th>min</th>\n",
       "      <th>max</th>\n",
       "      <th>range</th>\n",
       "    </tr>\n",
       "  </thead>\n",
       "  <tbody>\n",
       "    <tr>\n",
       "      <th>DSI</th>\n",
       "      <td>-0,91</td>\n",
       "      <td>1,15</td>\n",
       "      <td>2,06</td>\n",
       "    </tr>\n",
       "    <tr>\n",
       "      <th>DADM</th>\n",
       "      <td>-2,00</td>\n",
       "      <td>0,45</td>\n",
       "      <td>2,44</td>\n",
       "    </tr>\n",
       "    <tr>\n",
       "      <th>DSM</th>\n",
       "      <td>-0,20</td>\n",
       "      <td>1,98</td>\n",
       "      <td>2,18</td>\n",
       "    </tr>\n",
       "    <tr>\n",
       "      <th>DPU</th>\n",
       "      <td>0,03</td>\n",
       "      <td>0,90</td>\n",
       "      <td>0,86</td>\n",
       "    </tr>\n",
       "  </tbody>\n",
       "</table>\n",
       "</div>"
      ],
      "text/plain": [
       "       min  max  range\n",
       "DSI  -0,91 1,15   2,06\n",
       "DADM -2,00 0,45   2,44\n",
       "DSM  -0,20 1,98   2,18\n",
       "DPU   0,03 0,90   0,86"
      ]
     },
     "execution_count": 129,
     "metadata": {},
     "output_type": "execute_result"
    }
   ],
   "source": [
    "# é possível retornar mais de um valor\n",
    "# para isso, deve-se retornar uma Series\n",
    "# o resultado será um dataframe com estrutura similar\n",
    "#    à do df, a menos que a dimensão que foi reduzida\n",
    "#    é substituída pela nova dimensão retornada, indicada\n",
    "#    pelo index da Series retornada\n",
    "#    chega a parecer um poema\n",
    "df.apply(lambda x: pd.Series([x.min(), x.max(), x.max() - x.min()], \n",
    "                             index=['min', 'max', 'range']))\n",
    "df.apply(lambda x: pd.Series([x.min(), x.max(), x.max() - x.min()], \n",
    "                             index=['min', 'max', 'range']),\n",
    "        axis=1)"
   ]
  },
  {
   "cell_type": "code",
   "execution_count": 133,
   "metadata": {
    "collapsed": false,
    "deletable": true,
    "editable": true
   },
   "outputs": [
    {
     "data": {
      "text/html": [
       "<div>\n",
       "<style>\n",
       "    .dataframe thead tr:only-child th {\n",
       "        text-align: right;\n",
       "    }\n",
       "\n",
       "    .dataframe thead th {\n",
       "        text-align: left;\n",
       "    }\n",
       "\n",
       "    .dataframe tbody tr th {\n",
       "        vertical-align: top;\n",
       "    }\n",
       "</style>\n",
       "<table border=\"1\" class=\"dataframe\">\n",
       "  <thead>\n",
       "    <tr style=\"text-align: right;\">\n",
       "      <th></th>\n",
       "      <th>a</th>\n",
       "      <th>b</th>\n",
       "      <th>c</th>\n",
       "    </tr>\n",
       "  </thead>\n",
       "  <tbody>\n",
       "    <tr>\n",
       "      <th>DSI</th>\n",
       "      <td>00000-0.91</td>\n",
       "      <td>0000000.91</td>\n",
       "      <td>0000001.15</td>\n",
       "    </tr>\n",
       "    <tr>\n",
       "      <th>DADM</th>\n",
       "      <td>0000000.45</td>\n",
       "      <td>00000-2.00</td>\n",
       "      <td>00000-1.34</td>\n",
       "    </tr>\n",
       "    <tr>\n",
       "      <th>DSM</th>\n",
       "      <td>00000-0.20</td>\n",
       "      <td>0000001.98</td>\n",
       "      <td>0000000.07</td>\n",
       "    </tr>\n",
       "    <tr>\n",
       "      <th>DPU</th>\n",
       "      <td>0000000.68</td>\n",
       "      <td>0000000.90</td>\n",
       "      <td>0000000.03</td>\n",
       "    </tr>\n",
       "  </tbody>\n",
       "</table>\n",
       "</div>"
      ],
      "text/plain": [
       "               a           b           c\n",
       "DSI   00000-0.91  0000000.91  0000001.15\n",
       "DADM  0000000.45  00000-2.00  00000-1.34\n",
       "DSM   00000-0.20  0000001.98  0000000.07\n",
       "DPU   0000000.68  0000000.90  0000000.03"
      ]
     },
     "execution_count": 133,
     "metadata": {},
     "output_type": "execute_result"
    }
   ],
   "source": [
    "# o df.applymap recebe uma função e a aplica a todos os elementos\n",
    "#    do dataframe\n",
    "#    retornando um dataframe com mesmos índices do dataframe original\n",
    "df.applymap(lambda x: \"{0:0>10.2f}\".format(x))"
   ]
  },
  {
   "cell_type": "code",
   "execution_count": 137,
   "metadata": {
    "collapsed": false,
    "deletable": true,
    "editable": true
   },
   "outputs": [
    {
     "data": {
      "text/html": [
       "<div>\n",
       "<style>\n",
       "    .dataframe thead tr:only-child th {\n",
       "        text-align: right;\n",
       "    }\n",
       "\n",
       "    .dataframe thead th {\n",
       "        text-align: left;\n",
       "    }\n",
       "\n",
       "    .dataframe tbody tr th {\n",
       "        vertical-align: top;\n",
       "    }\n",
       "</style>\n",
       "<table border=\"1\" class=\"dataframe\">\n",
       "  <thead>\n",
       "    <tr style=\"text-align: right;\">\n",
       "      <th></th>\n",
       "      <th>0</th>\n",
       "    </tr>\n",
       "  </thead>\n",
       "  <tbody>\n",
       "    <tr>\n",
       "      <th>DSI</th>\n",
       "      <td>-0,91</td>\n",
       "    </tr>\n",
       "    <tr>\n",
       "      <th>DADM</th>\n",
       "      <td>0,45</td>\n",
       "    </tr>\n",
       "    <tr>\n",
       "      <th>DSM</th>\n",
       "      <td>-0,20</td>\n",
       "    </tr>\n",
       "    <tr>\n",
       "      <th>DPU</th>\n",
       "      <td>0,68</td>\n",
       "    </tr>\n",
       "  </tbody>\n",
       "</table>\n",
       "</div>"
      ],
      "text/plain": [
       "         0\n",
       "DSI  -0,91\n",
       "DADM  0,45\n",
       "DSM  -0,20\n",
       "DPU   0,68"
      ]
     },
     "execution_count": 137,
     "metadata": {},
     "output_type": "execute_result"
    },
    {
     "data": {
      "text/plain": [
       "DSI     0   -0,91\n",
       "dtype: float64\n",
       "DADM     0   0,45\n",
       "dtype: float64\n",
       "DSM     0   -0,20\n",
       "dtype: float64\n",
       "DPU      0   0,68\n",
       "dtype: float64\n",
       "Name: a, dtype: object"
      ]
     },
     "execution_count": 137,
     "metadata": {},
     "output_type": "execute_result"
    }
   ],
   "source": [
    "# diferença entre Series.map e Series.apply\n",
    "# apply constrói um dataframe do resultado\n",
    "df.a.apply(lambda x: pd.Series(x))\n",
    "df.a.map(lambda x: pd.Series(x))"
   ]
  },
  {
   "cell_type": "code",
   "execution_count": 139,
   "metadata": {
    "collapsed": false,
    "deletable": true,
    "editable": true
   },
   "outputs": [
    {
     "data": {
      "text/plain": [
       "a    A\n",
       "b    B\n",
       "c    C\n",
       "dtype: object"
      ]
     },
     "execution_count": 139,
     "metadata": {},
     "output_type": "execute_result"
    }
   ],
   "source": [
    "# map permite passar também dict\n",
    "df.columns.to_series().map({'a': 'A', 'b': 'B', 'c': 'C'})"
   ]
  },
  {
   "cell_type": "markdown",
   "metadata": {
    "deletable": true,
    "editable": true
   },
   "source": [
    "## Sorting"
   ]
  },
  {
   "cell_type": "code",
   "execution_count": 140,
   "metadata": {
    "collapsed": false,
    "deletable": true,
    "editable": true
   },
   "outputs": [
    {
     "data": {
      "text/plain": [
       "d   -3\n",
       "a    9\n",
       "b    8\n",
       "c    6\n",
       "dtype: int64"
      ]
     },
     "execution_count": 140,
     "metadata": {},
     "output_type": "execute_result"
    }
   ],
   "source": [
    "s = pd.Series(np.random.randint(-10, 10, 4), index=list('dabc'))\n",
    "\n",
    "s"
   ]
  },
  {
   "cell_type": "code",
   "execution_count": 141,
   "metadata": {
    "collapsed": false,
    "deletable": true,
    "editable": true
   },
   "outputs": [
    {
     "data": {
      "text/plain": [
       "a    9\n",
       "b    8\n",
       "c    6\n",
       "d   -3\n",
       "dtype: int64"
      ]
     },
     "execution_count": 141,
     "metadata": {},
     "output_type": "execute_result"
    }
   ],
   "source": [
    "# retorna uma view da series, ordenada pelo índice -> ordem natural\n",
    "s.sort_index()"
   ]
  },
  {
   "cell_type": "code",
   "execution_count": 143,
   "metadata": {
    "collapsed": false,
    "deletable": true,
    "editable": true
   },
   "outputs": [
    {
     "data": {
      "text/plain": [
       "d   -3\n",
       "c    6\n",
       "b    8\n",
       "a    9\n",
       "dtype: int64"
      ]
     },
     "execution_count": 143,
     "metadata": {},
     "output_type": "execute_result"
    }
   ],
   "source": [
    "# retorna uma view da series, ordenada pelos valores\n",
    "# ascending indica a ordem, default é True\n",
    "s.sort_values()"
   ]
  },
  {
   "cell_type": "code",
   "execution_count": 144,
   "metadata": {
    "collapsed": false,
    "deletable": true,
    "editable": true
   },
   "outputs": [
    {
     "data": {
      "text/html": [
       "<div>\n",
       "<style>\n",
       "    .dataframe thead tr:only-child th {\n",
       "        text-align: right;\n",
       "    }\n",
       "\n",
       "    .dataframe thead th {\n",
       "        text-align: left;\n",
       "    }\n",
       "\n",
       "    .dataframe tbody tr th {\n",
       "        vertical-align: top;\n",
       "    }\n",
       "</style>\n",
       "<table border=\"1\" class=\"dataframe\">\n",
       "  <thead>\n",
       "    <tr style=\"text-align: right;\">\n",
       "      <th></th>\n",
       "      <th>d</th>\n",
       "      <th>a</th>\n",
       "      <th>b</th>\n",
       "      <th>c</th>\n",
       "    </tr>\n",
       "  </thead>\n",
       "  <tbody>\n",
       "    <tr>\n",
       "      <th>três</th>\n",
       "      <td>0</td>\n",
       "      <td>1</td>\n",
       "      <td>2</td>\n",
       "      <td>3</td>\n",
       "    </tr>\n",
       "    <tr>\n",
       "      <th>dois</th>\n",
       "      <td>4</td>\n",
       "      <td>5</td>\n",
       "      <td>6</td>\n",
       "      <td>7</td>\n",
       "    </tr>\n",
       "    <tr>\n",
       "      <th>sete</th>\n",
       "      <td>8</td>\n",
       "      <td>9</td>\n",
       "      <td>10</td>\n",
       "      <td>11</td>\n",
       "    </tr>\n",
       "  </tbody>\n",
       "</table>\n",
       "</div>"
      ],
      "text/plain": [
       "      d  a  b  c\n",
       "três  0  1  2  3\n",
       "dois  4  5  6  7\n",
       "sete  8  9 10 11"
      ]
     },
     "execution_count": 144,
     "metadata": {},
     "output_type": "execute_result"
    }
   ],
   "source": [
    "df = pd.DataFrame(np.arange(12).reshape((3, 4)), \n",
    "                  index=['três', 'dois', 'sete'], \n",
    "                  columns=list('dabc'))\n",
    "\n",
    "df"
   ]
  },
  {
   "cell_type": "code",
   "execution_count": 145,
   "metadata": {
    "collapsed": false,
    "deletable": true,
    "editable": true
   },
   "outputs": [
    {
     "data": {
      "text/html": [
       "<div>\n",
       "<style>\n",
       "    .dataframe thead tr:only-child th {\n",
       "        text-align: right;\n",
       "    }\n",
       "\n",
       "    .dataframe thead th {\n",
       "        text-align: left;\n",
       "    }\n",
       "\n",
       "    .dataframe tbody tr th {\n",
       "        vertical-align: top;\n",
       "    }\n",
       "</style>\n",
       "<table border=\"1\" class=\"dataframe\">\n",
       "  <thead>\n",
       "    <tr style=\"text-align: right;\">\n",
       "      <th></th>\n",
       "      <th>d</th>\n",
       "      <th>a</th>\n",
       "      <th>b</th>\n",
       "      <th>c</th>\n",
       "    </tr>\n",
       "  </thead>\n",
       "  <tbody>\n",
       "    <tr>\n",
       "      <th>dois</th>\n",
       "      <td>4</td>\n",
       "      <td>5</td>\n",
       "      <td>6</td>\n",
       "      <td>7</td>\n",
       "    </tr>\n",
       "    <tr>\n",
       "      <th>sete</th>\n",
       "      <td>8</td>\n",
       "      <td>9</td>\n",
       "      <td>10</td>\n",
       "      <td>11</td>\n",
       "    </tr>\n",
       "    <tr>\n",
       "      <th>três</th>\n",
       "      <td>0</td>\n",
       "      <td>1</td>\n",
       "      <td>2</td>\n",
       "      <td>3</td>\n",
       "    </tr>\n",
       "  </tbody>\n",
       "</table>\n",
       "</div>"
      ],
      "text/plain": [
       "      d  a  b  c\n",
       "dois  4  5  6  7\n",
       "sete  8  9 10 11\n",
       "três  0  1  2  3"
      ]
     },
     "execution_count": 145,
     "metadata": {},
     "output_type": "execute_result"
    }
   ],
   "source": [
    "df.sort_index()"
   ]
  },
  {
   "cell_type": "code",
   "execution_count": 146,
   "metadata": {
    "collapsed": false,
    "deletable": true,
    "editable": true
   },
   "outputs": [
    {
     "data": {
      "text/html": [
       "<div>\n",
       "<style>\n",
       "    .dataframe thead tr:only-child th {\n",
       "        text-align: right;\n",
       "    }\n",
       "\n",
       "    .dataframe thead th {\n",
       "        text-align: left;\n",
       "    }\n",
       "\n",
       "    .dataframe tbody tr th {\n",
       "        vertical-align: top;\n",
       "    }\n",
       "</style>\n",
       "<table border=\"1\" class=\"dataframe\">\n",
       "  <thead>\n",
       "    <tr style=\"text-align: right;\">\n",
       "      <th></th>\n",
       "      <th>a</th>\n",
       "      <th>b</th>\n",
       "      <th>c</th>\n",
       "      <th>d</th>\n",
       "    </tr>\n",
       "  </thead>\n",
       "  <tbody>\n",
       "    <tr>\n",
       "      <th>três</th>\n",
       "      <td>1</td>\n",
       "      <td>2</td>\n",
       "      <td>3</td>\n",
       "      <td>0</td>\n",
       "    </tr>\n",
       "    <tr>\n",
       "      <th>dois</th>\n",
       "      <td>5</td>\n",
       "      <td>6</td>\n",
       "      <td>7</td>\n",
       "      <td>4</td>\n",
       "    </tr>\n",
       "    <tr>\n",
       "      <th>sete</th>\n",
       "      <td>9</td>\n",
       "      <td>10</td>\n",
       "      <td>11</td>\n",
       "      <td>8</td>\n",
       "    </tr>\n",
       "  </tbody>\n",
       "</table>\n",
       "</div>"
      ],
      "text/plain": [
       "      a  b  c  d\n",
       "três  1  2  3  0\n",
       "dois  5  6  7  4\n",
       "sete  9 10 11  8"
      ]
     },
     "execution_count": 146,
     "metadata": {},
     "output_type": "execute_result"
    }
   ],
   "source": [
    "# como tem 2 index, pode-se especificar o index das colunas\n",
    "df.sort_index(axis=1)"
   ]
  },
  {
   "cell_type": "code",
   "execution_count": 147,
   "metadata": {
    "collapsed": false,
    "deletable": true,
    "editable": true
   },
   "outputs": [
    {
     "data": {
      "text/html": [
       "<div>\n",
       "<style>\n",
       "    .dataframe thead tr:only-child th {\n",
       "        text-align: right;\n",
       "    }\n",
       "\n",
       "    .dataframe thead th {\n",
       "        text-align: left;\n",
       "    }\n",
       "\n",
       "    .dataframe tbody tr th {\n",
       "        vertical-align: top;\n",
       "    }\n",
       "</style>\n",
       "<table border=\"1\" class=\"dataframe\">\n",
       "  <thead>\n",
       "    <tr style=\"text-align: right;\">\n",
       "      <th></th>\n",
       "      <th>d</th>\n",
       "      <th>c</th>\n",
       "      <th>b</th>\n",
       "      <th>a</th>\n",
       "    </tr>\n",
       "  </thead>\n",
       "  <tbody>\n",
       "    <tr>\n",
       "      <th>três</th>\n",
       "      <td>0</td>\n",
       "      <td>3</td>\n",
       "      <td>2</td>\n",
       "      <td>1</td>\n",
       "    </tr>\n",
       "    <tr>\n",
       "      <th>dois</th>\n",
       "      <td>4</td>\n",
       "      <td>7</td>\n",
       "      <td>6</td>\n",
       "      <td>5</td>\n",
       "    </tr>\n",
       "    <tr>\n",
       "      <th>sete</th>\n",
       "      <td>8</td>\n",
       "      <td>11</td>\n",
       "      <td>10</td>\n",
       "      <td>9</td>\n",
       "    </tr>\n",
       "  </tbody>\n",
       "</table>\n",
       "</div>"
      ],
      "text/plain": [
       "      d  c  b  a\n",
       "três  0  3  2  1\n",
       "dois  4  7  6  5\n",
       "sete  8 11 10  9"
      ]
     },
     "execution_count": 147,
     "metadata": {},
     "output_type": "execute_result"
    }
   ],
   "source": [
    "df.sort_index(axis=1, ascending=False)"
   ]
  },
  {
   "cell_type": "code",
   "execution_count": 148,
   "metadata": {
    "collapsed": false,
    "deletable": true,
    "editable": true
   },
   "outputs": [
    {
     "data": {
      "text/html": [
       "<div>\n",
       "<style>\n",
       "    .dataframe thead tr:only-child th {\n",
       "        text-align: right;\n",
       "    }\n",
       "\n",
       "    .dataframe thead th {\n",
       "        text-align: left;\n",
       "    }\n",
       "\n",
       "    .dataframe tbody tr th {\n",
       "        vertical-align: top;\n",
       "    }\n",
       "</style>\n",
       "<table border=\"1\" class=\"dataframe\">\n",
       "  <thead>\n",
       "    <tr style=\"text-align: right;\">\n",
       "      <th></th>\n",
       "      <th>d</th>\n",
       "      <th>a</th>\n",
       "      <th>b</th>\n",
       "      <th>c</th>\n",
       "    </tr>\n",
       "  </thead>\n",
       "  <tbody>\n",
       "    <tr>\n",
       "      <th>sete</th>\n",
       "      <td>8</td>\n",
       "      <td>9</td>\n",
       "      <td>10</td>\n",
       "      <td>11</td>\n",
       "    </tr>\n",
       "    <tr>\n",
       "      <th>dois</th>\n",
       "      <td>4</td>\n",
       "      <td>5</td>\n",
       "      <td>6</td>\n",
       "      <td>7</td>\n",
       "    </tr>\n",
       "    <tr>\n",
       "      <th>três</th>\n",
       "      <td>0</td>\n",
       "      <td>1</td>\n",
       "      <td>2</td>\n",
       "      <td>3</td>\n",
       "    </tr>\n",
       "  </tbody>\n",
       "</table>\n",
       "</div>"
      ],
      "text/plain": [
       "      d  a  b  c\n",
       "sete  8  9 10 11\n",
       "dois  4  5  6  7\n",
       "três  0  1  2  3"
      ]
     },
     "execution_count": 148,
     "metadata": {},
     "output_type": "execute_result"
    }
   ],
   "source": [
    "# ordenar pela coluna 'a' ascending=False\n",
    "df.sort_values('a', ascending=False)"
   ]
  },
  {
   "cell_type": "code",
   "execution_count": 149,
   "metadata": {
    "collapsed": false,
    "deletable": true,
    "editable": true
   },
   "outputs": [
    {
     "data": {
      "text/html": [
       "<div>\n",
       "<style>\n",
       "    .dataframe thead tr:only-child th {\n",
       "        text-align: right;\n",
       "    }\n",
       "\n",
       "    .dataframe thead th {\n",
       "        text-align: left;\n",
       "    }\n",
       "\n",
       "    .dataframe tbody tr th {\n",
       "        vertical-align: top;\n",
       "    }\n",
       "</style>\n",
       "<table border=\"1\" class=\"dataframe\">\n",
       "  <thead>\n",
       "    <tr style=\"text-align: right;\">\n",
       "      <th></th>\n",
       "      <th>d</th>\n",
       "      <th>a</th>\n",
       "      <th>b</th>\n",
       "      <th>c</th>\n",
       "    </tr>\n",
       "  </thead>\n",
       "  <tbody>\n",
       "    <tr>\n",
       "      <th>sete</th>\n",
       "      <td>8</td>\n",
       "      <td>9</td>\n",
       "      <td>10</td>\n",
       "      <td>11</td>\n",
       "    </tr>\n",
       "    <tr>\n",
       "      <th>dois</th>\n",
       "      <td>4</td>\n",
       "      <td>5</td>\n",
       "      <td>6</td>\n",
       "      <td>7</td>\n",
       "    </tr>\n",
       "    <tr>\n",
       "      <th>três</th>\n",
       "      <td>0</td>\n",
       "      <td>1</td>\n",
       "      <td>2</td>\n",
       "      <td>3</td>\n",
       "    </tr>\n",
       "  </tbody>\n",
       "</table>\n",
       "</div>"
      ],
      "text/plain": [
       "      d  a  b  c\n",
       "sete  8  9 10 11\n",
       "dois  4  5  6  7\n",
       "três  0  1  2  3"
      ]
     },
     "execution_count": 149,
     "metadata": {},
     "output_type": "execute_result"
    }
   ],
   "source": [
    "# ordenar pelas colunas 'a' e 'b', desc, asc\n",
    "df.sort_values(['a', 'b'], ascending=[False, True])"
   ]
  },
  {
   "cell_type": "markdown",
   "metadata": {
    "deletable": true,
    "editable": true
   },
   "source": [
    "# Exercício 7"
   ]
  },
  {
   "cell_type": "markdown",
   "metadata": {
    "deletable": true,
    "editable": true
   },
   "source": [
    "<hr />"
   ]
  },
  {
   "cell_type": "markdown",
   "metadata": {
    "deletable": true,
    "editable": true
   },
   "source": [
    "## Summarizing"
   ]
  },
  {
   "cell_type": "code",
   "execution_count": 11,
   "metadata": {
    "collapsed": false,
    "deletable": true,
    "editable": true
   },
   "outputs": [
    {
     "data": {
      "text/html": [
       "<div>\n",
       "<style>\n",
       "    .dataframe thead tr:only-child th {\n",
       "        text-align: right;\n",
       "    }\n",
       "\n",
       "    .dataframe thead th {\n",
       "        text-align: left;\n",
       "    }\n",
       "\n",
       "    .dataframe tbody tr th {\n",
       "        vertical-align: top;\n",
       "    }\n",
       "</style>\n",
       "<table border=\"1\" class=\"dataframe\">\n",
       "  <thead>\n",
       "    <tr style=\"text-align: right;\">\n",
       "      <th></th>\n",
       "      <th>1</th>\n",
       "      <th>2</th>\n",
       "      <th>3</th>\n",
       "    </tr>\n",
       "  </thead>\n",
       "  <tbody>\n",
       "    <tr>\n",
       "      <th>a</th>\n",
       "      <td>1,40</td>\n",
       "      <td>nan</td>\n",
       "      <td>True</td>\n",
       "    </tr>\n",
       "    <tr>\n",
       "      <th>b</th>\n",
       "      <td>7,10</td>\n",
       "      <td>-4,50</td>\n",
       "      <td>False</td>\n",
       "    </tr>\n",
       "    <tr>\n",
       "      <th>c</th>\n",
       "      <td>nan</td>\n",
       "      <td>nan</td>\n",
       "      <td>True</td>\n",
       "    </tr>\n",
       "    <tr>\n",
       "      <th>d</th>\n",
       "      <td>0,75</td>\n",
       "      <td>-1,30</td>\n",
       "      <td>True</td>\n",
       "    </tr>\n",
       "  </tbody>\n",
       "</table>\n",
       "</div>"
      ],
      "text/plain": [
       "     1     2      3\n",
       "a 1,40   nan   True\n",
       "b 7,10 -4,50  False\n",
       "c  nan   nan   True\n",
       "d 0,75 -1,30   True"
      ]
     },
     "execution_count": 11,
     "metadata": {},
     "output_type": "execute_result"
    }
   ],
   "source": [
    "df = pd.DataFrame({'1': [1.4, 7.1, np.nan, .75], \n",
    "                   '2': [np.nan, -4.5, np.nan, -1.3],\n",
    "                   '3': [True, False, True, True]},\n",
    "                  index=list('abcd'))\n",
    "\n",
    "df"
   ]
  },
  {
   "cell_type": "code",
   "execution_count": 12,
   "metadata": {
    "collapsed": false,
    "deletable": true,
    "editable": true
   },
   "outputs": [
    {
     "data": {
      "text/plain": [
       "1    9,25\n",
       "2   -5,80\n",
       "3    3,00\n",
       "dtype: float64"
      ]
     },
     "execution_count": 12,
     "metadata": {},
     "output_type": "execute_result"
    }
   ],
   "source": [
    "# soma uma dimensão\n",
    "# por default, soma as linhas(axis = 0)\n",
    "# por default, ignora valores NaN\n",
    "df.sum()"
   ]
  },
  {
   "cell_type": "code",
   "execution_count": 14,
   "metadata": {
    "collapsed": false,
    "deletable": true,
    "editable": true
   },
   "outputs": [
    {
     "data": {
      "text/plain": [
       "a   2,40\n",
       "b   2,60\n",
       "c   1,00\n",
       "d   0,45\n",
       "dtype: float64"
      ]
     },
     "execution_count": 14,
     "metadata": {},
     "output_type": "execute_result"
    }
   ],
   "source": [
    "# soma colunas(axis = 1)\n",
    "df.sum(axis=1)"
   ]
  },
  {
   "cell_type": "code",
   "execution_count": 16,
   "metadata": {
    "collapsed": false,
    "deletable": true,
    "editable": true
   },
   "outputs": [
    {
     "data": {
      "text/plain": [
       "a    nan\n",
       "b   0,87\n",
       "c    nan\n",
       "d   0,15\n",
       "dtype: float64"
      ]
     },
     "execution_count": 16,
     "metadata": {},
     "output_type": "execute_result"
    }
   ],
   "source": [
    "# média dos valores das linhas\n",
    "# observar que se skipna=True(default)\n",
    "#    os valores NaN são ignorados, sendo \n",
    "#    N = #valores não NaN\n",
    "\n",
    "# há também .median, que retorna o valor abaixo do qual\n",
    "#    50% dos dados se concentram\n",
    "df.mean(axis=1, skipna=False)"
   ]
  },
  {
   "cell_type": "code",
   "execution_count": 18,
   "metadata": {
    "collapsed": false,
    "deletable": true,
    "editable": true
   },
   "outputs": [
    {
     "data": {
      "text/plain": [
       "1    b\n",
       "2    d\n",
       "3    a\n",
       "dtype: object"
      ]
     },
     "execution_count": 18,
     "metadata": {},
     "output_type": "execute_result"
    }
   ],
   "source": [
    "# para cada coluna(axis = 0), índice do registro com maior valor\n",
    "df.idxmax()"
   ]
  },
  {
   "cell_type": "code",
   "execution_count": 20,
   "metadata": {
    "collapsed": false
   },
   "outputs": [
    {
     "data": {
      "text/plain": [
       "a    1\n",
       "b    1\n",
       "c    3\n",
       "d    3\n",
       "dtype: object"
      ]
     },
     "execution_count": 20,
     "metadata": {},
     "output_type": "execute_result"
    }
   ],
   "source": [
    "# para cada linha(axis = 1), índice do registro com maior valor\n",
    "df.idxmax(axis=1)"
   ]
  },
  {
   "cell_type": "code",
   "execution_count": 21,
   "metadata": {
    "collapsed": false,
    "deletable": true,
    "editable": true
   },
   "outputs": [
    {
     "data": {
      "text/plain": [
       "'d'"
      ]
     },
     "execution_count": 21,
     "metadata": {},
     "output_type": "execute_result"
    }
   ],
   "source": [
    "# mesmo para Series\n",
    "df['1'].argmin()"
   ]
  },
  {
   "cell_type": "code",
   "execution_count": 23,
   "metadata": {
    "collapsed": false,
    "deletable": true,
    "editable": true
   },
   "outputs": [
    {
     "data": {
      "text/html": [
       "<div>\n",
       "<style>\n",
       "    .dataframe thead tr:only-child th {\n",
       "        text-align: right;\n",
       "    }\n",
       "\n",
       "    .dataframe thead th {\n",
       "        text-align: left;\n",
       "    }\n",
       "\n",
       "    .dataframe tbody tr th {\n",
       "        vertical-align: top;\n",
       "    }\n",
       "</style>\n",
       "<table border=\"1\" class=\"dataframe\">\n",
       "  <thead>\n",
       "    <tr style=\"text-align: right;\">\n",
       "      <th></th>\n",
       "      <th>1</th>\n",
       "      <th>2</th>\n",
       "      <th>3</th>\n",
       "    </tr>\n",
       "  </thead>\n",
       "  <tbody>\n",
       "    <tr>\n",
       "      <th>a</th>\n",
       "      <td>1,40</td>\n",
       "      <td>NaN</td>\n",
       "      <td>True</td>\n",
       "    </tr>\n",
       "    <tr>\n",
       "      <th>b</th>\n",
       "      <td>8,50</td>\n",
       "      <td>-4,50</td>\n",
       "      <td>1</td>\n",
       "    </tr>\n",
       "    <tr>\n",
       "      <th>c</th>\n",
       "      <td>NaN</td>\n",
       "      <td>NaN</td>\n",
       "      <td>2</td>\n",
       "    </tr>\n",
       "    <tr>\n",
       "      <th>d</th>\n",
       "      <td>9,25</td>\n",
       "      <td>-5,80</td>\n",
       "      <td>3</td>\n",
       "    </tr>\n",
       "  </tbody>\n",
       "</table>\n",
       "</div>"
      ],
      "text/plain": [
       "     1     2     3\n",
       "a 1,40   NaN  True\n",
       "b 8,50 -4,50     1\n",
       "c  NaN   NaN     2\n",
       "d 9,25 -5,80     3"
      ]
     },
     "execution_count": 23,
     "metadata": {},
     "output_type": "execute_result"
    }
   ],
   "source": [
    "# soma cumulativa sobre linhas, ignorando NaN\n",
    "df.cumsum()"
   ]
  },
  {
   "cell_type": "code",
   "execution_count": 24,
   "metadata": {
    "collapsed": false,
    "deletable": true,
    "editable": true
   },
   "outputs": [
    {
     "data": {
      "text/html": [
       "<div>\n",
       "<style>\n",
       "    .dataframe thead tr:only-child th {\n",
       "        text-align: right;\n",
       "    }\n",
       "\n",
       "    .dataframe thead th {\n",
       "        text-align: left;\n",
       "    }\n",
       "\n",
       "    .dataframe tbody tr th {\n",
       "        vertical-align: top;\n",
       "    }\n",
       "</style>\n",
       "<table border=\"1\" class=\"dataframe\">\n",
       "  <thead>\n",
       "    <tr style=\"text-align: right;\">\n",
       "      <th></th>\n",
       "      <th>1</th>\n",
       "      <th>2</th>\n",
       "      <th>3</th>\n",
       "    </tr>\n",
       "  </thead>\n",
       "  <tbody>\n",
       "    <tr>\n",
       "      <th>a</th>\n",
       "      <td>1,40</td>\n",
       "      <td>NaN</td>\n",
       "      <td>True</td>\n",
       "    </tr>\n",
       "    <tr>\n",
       "      <th>b</th>\n",
       "      <td>8,50</td>\n",
       "      <td>NaN</td>\n",
       "      <td>1</td>\n",
       "    </tr>\n",
       "    <tr>\n",
       "      <th>c</th>\n",
       "      <td>NaN</td>\n",
       "      <td>NaN</td>\n",
       "      <td>2</td>\n",
       "    </tr>\n",
       "    <tr>\n",
       "      <th>d</th>\n",
       "      <td>NaN</td>\n",
       "      <td>NaN</td>\n",
       "      <td>3</td>\n",
       "    </tr>\n",
       "  </tbody>\n",
       "</table>\n",
       "</div>"
      ],
      "text/plain": [
       "     1    2     3\n",
       "a 1,40  NaN  True\n",
       "b 8,50  NaN     1\n",
       "c  NaN  NaN     2\n",
       "d  NaN  NaN     3"
      ]
     },
     "execution_count": 24,
     "metadata": {},
     "output_type": "execute_result"
    }
   ],
   "source": [
    "# soma cumulativa sobre linhas, não ignorando NaN\n",
    "# há também cummin, cummax, cumprod\n",
    "df.cumsum(skipna=False)"
   ]
  },
  {
   "cell_type": "code",
   "execution_count": 26,
   "metadata": {
    "collapsed": false,
    "deletable": true,
    "editable": true
   },
   "outputs": [
    {
     "data": {
      "text/html": [
       "<div>\n",
       "<style>\n",
       "    .dataframe thead tr:only-child th {\n",
       "        text-align: right;\n",
       "    }\n",
       "\n",
       "    .dataframe thead th {\n",
       "        text-align: left;\n",
       "    }\n",
       "\n",
       "    .dataframe tbody tr th {\n",
       "        vertical-align: top;\n",
       "    }\n",
       "</style>\n",
       "<table border=\"1\" class=\"dataframe\">\n",
       "  <thead>\n",
       "    <tr style=\"text-align: right;\">\n",
       "      <th></th>\n",
       "      <th>1</th>\n",
       "      <th>2</th>\n",
       "    </tr>\n",
       "  </thead>\n",
       "  <tbody>\n",
       "    <tr>\n",
       "      <th>count</th>\n",
       "      <td>3,00</td>\n",
       "      <td>2,00</td>\n",
       "    </tr>\n",
       "    <tr>\n",
       "      <th>mean</th>\n",
       "      <td>3,08</td>\n",
       "      <td>-2,90</td>\n",
       "    </tr>\n",
       "    <tr>\n",
       "      <th>std</th>\n",
       "      <td>3,49</td>\n",
       "      <td>2,26</td>\n",
       "    </tr>\n",
       "    <tr>\n",
       "      <th>min</th>\n",
       "      <td>0,75</td>\n",
       "      <td>-4,50</td>\n",
       "    </tr>\n",
       "    <tr>\n",
       "      <th>25%</th>\n",
       "      <td>1,07</td>\n",
       "      <td>-3,70</td>\n",
       "    </tr>\n",
       "    <tr>\n",
       "      <th>50%</th>\n",
       "      <td>1,40</td>\n",
       "      <td>-2,90</td>\n",
       "    </tr>\n",
       "    <tr>\n",
       "      <th>75%</th>\n",
       "      <td>4,25</td>\n",
       "      <td>-2,10</td>\n",
       "    </tr>\n",
       "    <tr>\n",
       "      <th>max</th>\n",
       "      <td>7,10</td>\n",
       "      <td>-1,30</td>\n",
       "    </tr>\n",
       "  </tbody>\n",
       "</table>\n",
       "</div>"
      ],
      "text/plain": [
       "         1     2\n",
       "count 3,00  2,00\n",
       "mean  3,08 -2,90\n",
       "std   3,49  2,26\n",
       "min   0,75 -4,50\n",
       "25%   1,07 -3,70\n",
       "50%   1,40 -2,90\n",
       "75%   4,25 -2,10\n",
       "max   7,10 -1,30"
      ]
     },
     "execution_count": 26,
     "metadata": {},
     "output_type": "execute_result"
    }
   ],
   "source": [
    "# método que retorna valores estatísticos\n",
    "#    caso queira das linhas, usar a transposta do dataframe\n",
    "df.describe()"
   ]
  },
  {
   "cell_type": "code",
   "execution_count": 30,
   "metadata": {
    "collapsed": false,
    "deletable": true,
    "editable": true
   },
   "outputs": [
    {
     "data": {
      "text/plain": [
       "True"
      ]
     },
     "execution_count": 30,
     "metadata": {},
     "output_type": "execute_result"
    }
   ],
   "source": [
    "# True se existe um True\n",
    "df['3'].any()"
   ]
  },
  {
   "cell_type": "code",
   "execution_count": 31,
   "metadata": {
    "collapsed": false,
    "deletable": true,
    "editable": true
   },
   "outputs": [
    {
     "data": {
      "text/plain": [
       "False"
      ]
     },
     "execution_count": 31,
     "metadata": {},
     "output_type": "execute_result"
    }
   ],
   "source": [
    "# True se all True\n",
    "df['3'].all()"
   ]
  },
  {
   "cell_type": "code",
   "execution_count": 35,
   "metadata": {
    "collapsed": false,
    "deletable": true,
    "editable": true
   },
   "outputs": [
    {
     "data": {
      "text/html": [
       "<div>\n",
       "<style>\n",
       "    .dataframe thead tr:only-child th {\n",
       "        text-align: right;\n",
       "    }\n",
       "\n",
       "    .dataframe thead th {\n",
       "        text-align: left;\n",
       "    }\n",
       "\n",
       "    .dataframe tbody tr th {\n",
       "        vertical-align: top;\n",
       "    }\n",
       "</style>\n",
       "<table border=\"1\" class=\"dataframe\">\n",
       "  <thead>\n",
       "    <tr style=\"text-align: right;\">\n",
       "      <th></th>\n",
       "      <th>0</th>\n",
       "      <th>1</th>\n",
       "    </tr>\n",
       "  </thead>\n",
       "  <tbody>\n",
       "    <tr>\n",
       "      <th>0</th>\n",
       "      <td>0</td>\n",
       "      <td>1</td>\n",
       "    </tr>\n",
       "    <tr>\n",
       "      <th>1</th>\n",
       "      <td>2</td>\n",
       "      <td>3</td>\n",
       "    </tr>\n",
       "    <tr>\n",
       "      <th>2</th>\n",
       "      <td>4</td>\n",
       "      <td>5</td>\n",
       "    </tr>\n",
       "    <tr>\n",
       "      <th>3</th>\n",
       "      <td>6</td>\n",
       "      <td>7</td>\n",
       "    </tr>\n",
       "    <tr>\n",
       "      <th>4</th>\n",
       "      <td>8</td>\n",
       "      <td>9</td>\n",
       "    </tr>\n",
       "  </tbody>\n",
       "</table>\n",
       "</div>"
      ],
      "text/plain": [
       "   0  1\n",
       "0  0  1\n",
       "1  2  3\n",
       "2  4  5\n",
       "3  6  7\n",
       "4  8  9"
      ]
     },
     "execution_count": 35,
     "metadata": {},
     "output_type": "execute_result"
    }
   ],
   "source": [
    "df = pd.DataFrame(np.arange(10).reshape((5, 2)))\n",
    "\n",
    "df"
   ]
  },
  {
   "cell_type": "markdown",
   "metadata": {},
   "source": [
    "Mais em: https://pandas.pydata.org/pandas-docs/stable/basics.html#descriptive-statistics"
   ]
  },
  {
   "cell_type": "markdown",
   "metadata": {},
   "source": [
    "# Exercício 8"
   ]
  },
  {
   "cell_type": "markdown",
   "metadata": {},
   "source": [
    "<hr />"
   ]
  },
  {
   "cell_type": "markdown",
   "metadata": {},
   "source": [
    "# Group by"
   ]
  },
  {
   "cell_type": "code",
   "execution_count": 37,
   "metadata": {
    "collapsed": false
   },
   "outputs": [
    {
     "data": {
      "text/html": [
       "<div>\n",
       "<style>\n",
       "    .dataframe thead tr:only-child th {\n",
       "        text-align: right;\n",
       "    }\n",
       "\n",
       "    .dataframe thead th {\n",
       "        text-align: left;\n",
       "    }\n",
       "\n",
       "    .dataframe tbody tr th {\n",
       "        vertical-align: top;\n",
       "    }\n",
       "</style>\n",
       "<table border=\"1\" class=\"dataframe\">\n",
       "  <thead>\n",
       "    <tr style=\"text-align: right;\">\n",
       "      <th></th>\n",
       "      <th>CNPJ</th>\n",
       "      <th>NOME</th>\n",
       "      <th>PROJETO</th>\n",
       "      <th>DATA</th>\n",
       "      <th>VALOR (R$)</th>\n",
       "      <th>PROJETO_ID</th>\n",
       "    </tr>\n",
       "  </thead>\n",
       "  <tbody>\n",
       "    <tr>\n",
       "      <th>0</th>\n",
       "      <td>***.00.000/****-90</td>\n",
       "      <td>BANCO DO BRASIL SA</td>\n",
       "      <td>0101 - FCPC</td>\n",
       "      <td>2017-01-13</td>\n",
       "      <td>6.694,90</td>\n",
       "      <td>0101</td>\n",
       "    </tr>\n",
       "    <tr>\n",
       "      <th>1</th>\n",
       "      <td>***.00.071/****-21</td>\n",
       "      <td>LUREX DISTRIBUIDORA DE BATERIAS LTDA</td>\n",
       "      <td>0101 - FCPC</td>\n",
       "      <td>2017-01-06</td>\n",
       "      <td>453,00</td>\n",
       "      <td>0101</td>\n",
       "    </tr>\n",
       "    <tr>\n",
       "      <th>2</th>\n",
       "      <td>***.00.125/****-52</td>\n",
       "      <td>BONTEMPO REFRIGERACAO LTDA</td>\n",
       "      <td>3224 - TC SMART/UFC/FCPC - DESENVOLVIMENTO DE ...</td>\n",
       "      <td>2017-01-03</td>\n",
       "      <td>1.360,00</td>\n",
       "      <td>3224</td>\n",
       "    </tr>\n",
       "    <tr>\n",
       "      <th>3</th>\n",
       "      <td>***.00.204/****-20</td>\n",
       "      <td>NONO TABELIONATO DE NOTAS</td>\n",
       "      <td>0101 - FCPC</td>\n",
       "      <td>2017-02-01</td>\n",
       "      <td>396,27</td>\n",
       "      <td>0101</td>\n",
       "    </tr>\n",
       "    <tr>\n",
       "      <th>4</th>\n",
       "      <td>***.00.204/****-20</td>\n",
       "      <td>NONO TABELIONATO DE NOTAS</td>\n",
       "      <td>0101 - FCPC</td>\n",
       "      <td>2017-01-02</td>\n",
       "      <td>24,81</td>\n",
       "      <td>0101</td>\n",
       "    </tr>\n",
       "  </tbody>\n",
       "</table>\n",
       "</div>"
      ],
      "text/plain": [
       "                 CNPJ                                  NOME  \\\n",
       "0  ***.00.000/****-90                    BANCO DO BRASIL SA   \n",
       "1  ***.00.071/****-21  LUREX DISTRIBUIDORA DE BATERIAS LTDA   \n",
       "2  ***.00.125/****-52            BONTEMPO REFRIGERACAO LTDA   \n",
       "3  ***.00.204/****-20             NONO TABELIONATO DE NOTAS   \n",
       "4  ***.00.204/****-20             NONO TABELIONATO DE NOTAS   \n",
       "\n",
       "                                             PROJETO       DATA  VALOR (R$)  \\\n",
       "0                                        0101 - FCPC 2017-01-13    6.694,90   \n",
       "1                                        0101 - FCPC 2017-01-06      453,00   \n",
       "2  3224 - TC SMART/UFC/FCPC - DESENVOLVIMENTO DE ... 2017-01-03    1.360,00   \n",
       "3                                        0101 - FCPC 2017-02-01      396,27   \n",
       "4                                        0101 - FCPC 2017-01-02       24,81   \n",
       "\n",
       "  PROJETO_ID  \n",
       "0       0101  \n",
       "1       0101  \n",
       "2       3224  \n",
       "3       0101  \n",
       "4       0101  "
      ]
     },
     "execution_count": 37,
     "metadata": {},
     "output_type": "execute_result"
    }
   ],
   "source": [
    "fcpc.head()"
   ]
  },
  {
   "cell_type": "markdown",
   "metadata": {},
   "source": [
    "Soma de VALOR (R$) por PROJETO.\n",
    "\n",
    "```SQL\n",
    "    SELECT projeto, SUM(valor)\n",
    "    FROM fcpc\n",
    "    GROUP BY projeto\n",
    "```"
   ]
  },
  {
   "cell_type": "code",
   "execution_count": 51,
   "metadata": {
    "collapsed": false
   },
   "outputs": [
    {
     "data": {
      "text/plain": [
       "PROJETO\n",
       "2585 - CV.FINEP/UFC/FCPC-CTINFRA 09                                              471.982,89\n",
       "0101 - FCPC                                                                      441.964,26\n",
       "0104 - FCPC - 124.176-1 - ENCARGOS                                               253.635,02\n",
       "3143 - TC - LG/UFC/FCPC - MOBILE, TOOLS & CAS                                    107.069,01\n",
       "2978 - CT - UFC/FCPC - LACT - LABORATOIRO DE ANALISES CLINICAS E TOXICOLOGICAS    75.519,35\n",
       "Name: VALOR (R$), dtype: float64"
      ]
     },
     "execution_count": 51,
     "metadata": {},
     "output_type": "execute_result"
    }
   ],
   "source": [
    "# sum, mean, max, min, describe, size etc\n",
    "fcpc\\\n",
    ".groupby(\"PROJETO\")\\\n",
    "[\"VALOR (R$)\"]\\\n",
    ".sum()\\\n",
    ".nlargest(5) # apenas os 5 maiores"
   ]
  },
  {
   "cell_type": "markdown",
   "metadata": {},
   "source": [
    "Soma de VALOR (R$) por PROJETO, apenas valores > 200.000.\n",
    "\n",
    "```SQL\n",
    "    SELECT projeto, SUM(valor)\n",
    "    FROM fcpc\n",
    "    GROUP BY projeto\n",
    "    HAVING SUM(valor) > 200000\n",
    "```"
   ]
  },
  {
   "cell_type": "code",
   "execution_count": 52,
   "metadata": {
    "collapsed": false
   },
   "outputs": [
    {
     "data": {
      "text/plain": [
       "PROJETO\n",
       "0101 - FCPC                           441.964,26\n",
       "0104 - FCPC - 124.176-1 - ENCARGOS    253.635,02\n",
       "2585 - CV.FINEP/UFC/FCPC-CTINFRA 09   471.982,89\n",
       "Name: VALOR (R$), dtype: float64"
      ]
     },
     "execution_count": 52,
     "metadata": {},
     "output_type": "execute_result"
    }
   ],
   "source": [
    "fcpc\\\n",
    ".groupby(\"PROJETO\")\\\n",
    "[\"VALOR (R$)\"]\\\n",
    ".sum()\\\n",
    ".loc[lambda v: v > 200000]"
   ]
  },
  {
   "cell_type": "markdown",
   "metadata": {},
   "source": [
    "Os registros com maior VALOR (R\\$) por PROJETO"
   ]
  },
  {
   "cell_type": "code",
   "execution_count": 54,
   "metadata": {
    "collapsed": false
   },
   "outputs": [
    {
     "data": {
      "text/html": [
       "<div>\n",
       "<style>\n",
       "    .dataframe thead tr:only-child th {\n",
       "        text-align: right;\n",
       "    }\n",
       "\n",
       "    .dataframe thead th {\n",
       "        text-align: left;\n",
       "    }\n",
       "\n",
       "    .dataframe tbody tr th {\n",
       "        vertical-align: top;\n",
       "    }\n",
       "</style>\n",
       "<table border=\"1\" class=\"dataframe\">\n",
       "  <thead>\n",
       "    <tr style=\"text-align: right;\">\n",
       "      <th></th>\n",
       "      <th></th>\n",
       "      <th>CNPJ</th>\n",
       "      <th>NOME</th>\n",
       "      <th>PROJETO</th>\n",
       "      <th>DATA</th>\n",
       "      <th>VALOR (R$)</th>\n",
       "      <th>PROJETO_ID</th>\n",
       "    </tr>\n",
       "    <tr>\n",
       "      <th>PROJETO</th>\n",
       "      <th></th>\n",
       "      <th></th>\n",
       "      <th></th>\n",
       "      <th></th>\n",
       "      <th></th>\n",
       "      <th></th>\n",
       "      <th></th>\n",
       "    </tr>\n",
       "  </thead>\n",
       "  <tbody>\n",
       "    <tr>\n",
       "      <th>0101 - FCPC</th>\n",
       "      <th>354</th>\n",
       "      <td>***.07.272/****-31</td>\n",
       "      <td>UNIVERSIDADE FEDERAL DO CEARA</td>\n",
       "      <td>0101 - FCPC</td>\n",
       "      <td>2017-01-05</td>\n",
       "      <td>142.017,21</td>\n",
       "      <td>0101</td>\n",
       "    </tr>\n",
       "    <tr>\n",
       "      <th>0104 - FCPC - 124.176-1 - ENCARGOS</th>\n",
       "      <th>729</th>\n",
       "      <td>***.69.034/****-56</td>\n",
       "      <td>SODEXO PASS DO BRASIL SERVICOS E COMERCIO S.A</td>\n",
       "      <td>0104 - FCPC - 124.176-1 - ENCARGOS</td>\n",
       "      <td>2017-01-25</td>\n",
       "      <td>98.817,64</td>\n",
       "      <td>0104</td>\n",
       "    </tr>\n",
       "    <tr>\n",
       "      <th>1016 - CARTA -  UFC/FCPC RADIO UNIVERSITARIA FM</th>\n",
       "      <th>206</th>\n",
       "      <td>***.00.474/****-62</td>\n",
       "      <td>ECAD - ESCRITORIO CENTRAL DE ARRECADACAO E DIS...</td>\n",
       "      <td>1016 - CARTA -  UFC/FCPC RADIO UNIVERSITARIA FM</td>\n",
       "      <td>2017-02-02</td>\n",
       "      <td>6.955,60</td>\n",
       "      <td>1016</td>\n",
       "    </tr>\n",
       "  </tbody>\n",
       "</table>\n",
       "</div>"
      ],
      "text/plain": [
       "                                                                   CNPJ  \\\n",
       "PROJETO                                                                   \n",
       "0101 - FCPC                                     354  ***.07.272/****-31   \n",
       "0104 - FCPC - 124.176-1 - ENCARGOS              729  ***.69.034/****-56   \n",
       "1016 - CARTA -  UFC/FCPC RADIO UNIVERSITARIA FM 206  ***.00.474/****-62   \n",
       "\n",
       "                                                                                                  NOME  \\\n",
       "PROJETO                                                                                                  \n",
       "0101 - FCPC                                     354                      UNIVERSIDADE FEDERAL DO CEARA   \n",
       "0104 - FCPC - 124.176-1 - ENCARGOS              729      SODEXO PASS DO BRASIL SERVICOS E COMERCIO S.A   \n",
       "1016 - CARTA -  UFC/FCPC RADIO UNIVERSITARIA FM 206  ECAD - ESCRITORIO CENTRAL DE ARRECADACAO E DIS...   \n",
       "\n",
       "                                                                                             PROJETO  \\\n",
       "PROJETO                                                                                                \n",
       "0101 - FCPC                                     354                                      0101 - FCPC   \n",
       "0104 - FCPC - 124.176-1 - ENCARGOS              729               0104 - FCPC - 124.176-1 - ENCARGOS   \n",
       "1016 - CARTA -  UFC/FCPC RADIO UNIVERSITARIA FM 206  1016 - CARTA -  UFC/FCPC RADIO UNIVERSITARIA FM   \n",
       "\n",
       "                                                          DATA  VALOR (R$)  \\\n",
       "PROJETO                                                                      \n",
       "0101 - FCPC                                     354 2017-01-05  142.017,21   \n",
       "0104 - FCPC - 124.176-1 - ENCARGOS              729 2017-01-25   98.817,64   \n",
       "1016 - CARTA -  UFC/FCPC RADIO UNIVERSITARIA FM 206 2017-02-02    6.955,60   \n",
       "\n",
       "                                                    PROJETO_ID  \n",
       "PROJETO                                                         \n",
       "0101 - FCPC                                     354       0101  \n",
       "0104 - FCPC - 124.176-1 - ENCARGOS              729       0104  \n",
       "1016 - CARTA -  UFC/FCPC RADIO UNIVERSITARIA FM 206       1016  "
      ]
     },
     "execution_count": 54,
     "metadata": {},
     "output_type": "execute_result"
    }
   ],
   "source": [
    "fcpc\\\n",
    ".groupby(\"PROJETO\")\\\n",
    ".apply(lambda g: g.nlargest(1, \"VALOR (R$)\"))\\\n",
    ".head(3)"
   ]
  },
  {
   "cell_type": "markdown",
   "metadata": {},
   "source": [
    "Soma de valores por PROJETO e NOME\n",
    "\n",
    "```SQL\n",
    "    SELECT projeto, nome, SUM(valor)\n",
    "    FROM fcpc\n",
    "    GROUP BY projeto, nome\n",
    "```"
   ]
  },
  {
   "cell_type": "code",
   "execution_count": 55,
   "metadata": {
    "collapsed": false
   },
   "outputs": [
    {
     "data": {
      "text/html": [
       "<div>\n",
       "<style>\n",
       "    .dataframe thead tr:only-child th {\n",
       "        text-align: right;\n",
       "    }\n",
       "\n",
       "    .dataframe thead th {\n",
       "        text-align: left;\n",
       "    }\n",
       "\n",
       "    .dataframe tbody tr th {\n",
       "        vertical-align: top;\n",
       "    }\n",
       "</style>\n",
       "<table border=\"1\" class=\"dataframe\">\n",
       "  <thead>\n",
       "    <tr style=\"text-align: right;\">\n",
       "      <th>NOME</th>\n",
       "      <th>A &amp; C COMERCIO DE ARTIGOS DE PESCA E LAZER LTDA - EPP</th>\n",
       "      <th>A C Q COMERCIO E REP.LTDA ME</th>\n",
       "      <th>ALEXANDRE DA SILVA RIBEIRO-ME</th>\n",
       "      <th>ALTERNATE SISTEMAS E INFOMATICA LTDA</th>\n",
       "      <th>APA COMERCIO DE PRODUTOS MED. HOSP. E LAB. LTDA. EPP</th>\n",
       "      <th>APEFERR COM DE FERRAMENTAS EPIS E MAQUINAS LTDA ME</th>\n",
       "      <th>APIGUANA MAQUINAS E FERRAMENTAS LTDA</th>\n",
       "      <th>AQUATIK INTELIGENCIA E SERVICO ESPEC EM AQUATICULTURA LTDA</th>\n",
       "      <th>ASSOC LOJ  SHONPPING ALDEOTA</th>\n",
       "      <th>ASSOCI BRASILEIRA DAS EDIT UNIVERSITARI</th>\n",
       "      <th>...</th>\n",
       "      <th>UNIVERSIDADE FEDERAL DO CEARA</th>\n",
       "      <th>UPS DO BRASIL REM. EXP. LTDA</th>\n",
       "      <th>VALKA INDUSTRIA E COMERCIO DE CERCS LTDA-ME</th>\n",
       "      <th>VALMIR PONTES ALCIMOR ROCHA SOCIEDADE SOCIEDADE DE ADVOGADOS</th>\n",
       "      <th>VICTOR BRUNO RODRIGUES PARENTE</th>\n",
       "      <th>VIDEOMAR REDE NORDESTE S/A</th>\n",
       "      <th>W&amp;M PUBLICIDADE LTDA - EPP</th>\n",
       "      <th>WAMA PRODUTOS PARA LABORATORIO LTDA</th>\n",
       "      <th>WF XIMENES - ME</th>\n",
       "      <th>ZARARTE TURISMO, AGENCIAMENTO, EVENTOS E CONSULTORIA LTDA -ME</th>\n",
       "    </tr>\n",
       "    <tr>\n",
       "      <th>PROJETO</th>\n",
       "      <th></th>\n",
       "      <th></th>\n",
       "      <th></th>\n",
       "      <th></th>\n",
       "      <th></th>\n",
       "      <th></th>\n",
       "      <th></th>\n",
       "      <th></th>\n",
       "      <th></th>\n",
       "      <th></th>\n",
       "      <th></th>\n",
       "      <th></th>\n",
       "      <th></th>\n",
       "      <th></th>\n",
       "      <th></th>\n",
       "      <th></th>\n",
       "      <th></th>\n",
       "      <th></th>\n",
       "      <th></th>\n",
       "      <th></th>\n",
       "      <th></th>\n",
       "    </tr>\n",
       "  </thead>\n",
       "  <tbody>\n",
       "    <tr>\n",
       "      <th>0101 - FCPC</th>\n",
       "      <td>nan</td>\n",
       "      <td>nan</td>\n",
       "      <td>900,00</td>\n",
       "      <td>nan</td>\n",
       "      <td>nan</td>\n",
       "      <td>nan</td>\n",
       "      <td>542,00</td>\n",
       "      <td>nan</td>\n",
       "      <td>21,40</td>\n",
       "      <td>nan</td>\n",
       "      <td>...</td>\n",
       "      <td>147.018,95</td>\n",
       "      <td>nan</td>\n",
       "      <td>nan</td>\n",
       "      <td>10.000,00</td>\n",
       "      <td>nan</td>\n",
       "      <td>381,45</td>\n",
       "      <td>nan</td>\n",
       "      <td>nan</td>\n",
       "      <td>nan</td>\n",
       "      <td>nan</td>\n",
       "    </tr>\n",
       "    <tr>\n",
       "      <th>0104 - FCPC - 124.176-1 - ENCARGOS</th>\n",
       "      <td>nan</td>\n",
       "      <td>nan</td>\n",
       "      <td>nan</td>\n",
       "      <td>nan</td>\n",
       "      <td>nan</td>\n",
       "      <td>nan</td>\n",
       "      <td>nan</td>\n",
       "      <td>nan</td>\n",
       "      <td>nan</td>\n",
       "      <td>nan</td>\n",
       "      <td>...</td>\n",
       "      <td>nan</td>\n",
       "      <td>nan</td>\n",
       "      <td>nan</td>\n",
       "      <td>nan</td>\n",
       "      <td>nan</td>\n",
       "      <td>nan</td>\n",
       "      <td>nan</td>\n",
       "      <td>nan</td>\n",
       "      <td>nan</td>\n",
       "      <td>nan</td>\n",
       "    </tr>\n",
       "  </tbody>\n",
       "</table>\n",
       "<p>2 rows × 132 columns</p>\n",
       "</div>"
      ],
      "text/plain": [
       "NOME                                A & C COMERCIO DE ARTIGOS DE PESCA E LAZER LTDA - EPP  \\\n",
       "PROJETO                                                                                     \n",
       "0101 - FCPC                                                                       nan       \n",
       "0104 - FCPC - 124.176-1 - ENCARGOS                                                nan       \n",
       "\n",
       "NOME                                A C Q COMERCIO E REP.LTDA ME  \\\n",
       "PROJETO                                                            \n",
       "0101 - FCPC                                                  nan   \n",
       "0104 - FCPC - 124.176-1 - ENCARGOS                           nan   \n",
       "\n",
       "NOME                                ALEXANDRE DA SILVA RIBEIRO-ME  \\\n",
       "PROJETO                                                             \n",
       "0101 - FCPC                                                900,00   \n",
       "0104 - FCPC - 124.176-1 - ENCARGOS                            nan   \n",
       "\n",
       "NOME                                ALTERNATE SISTEMAS E INFOMATICA LTDA  \\\n",
       "PROJETO                                                                    \n",
       "0101 - FCPC                                                          nan   \n",
       "0104 - FCPC - 124.176-1 - ENCARGOS                                   nan   \n",
       "\n",
       "NOME                                APA COMERCIO DE PRODUTOS MED. HOSP. E LAB. LTDA. EPP  \\\n",
       "PROJETO                                                                                    \n",
       "0101 - FCPC                                                                       nan      \n",
       "0104 - FCPC - 124.176-1 - ENCARGOS                                                nan      \n",
       "\n",
       "NOME                                APEFERR COM DE FERRAMENTAS EPIS E MAQUINAS LTDA ME  \\\n",
       "PROJETO                                                                                  \n",
       "0101 - FCPC                                                                       nan    \n",
       "0104 - FCPC - 124.176-1 - ENCARGOS                                                nan    \n",
       "\n",
       "NOME                                APIGUANA MAQUINAS E FERRAMENTAS LTDA  \\\n",
       "PROJETO                                                                    \n",
       "0101 - FCPC                                                       542,00   \n",
       "0104 - FCPC - 124.176-1 - ENCARGOS                                   nan   \n",
       "\n",
       "NOME                                AQUATIK INTELIGENCIA E SERVICO ESPEC EM AQUATICULTURA LTDA  \\\n",
       "PROJETO                                                                                          \n",
       "0101 - FCPC                                                                       nan            \n",
       "0104 - FCPC - 124.176-1 - ENCARGOS                                                nan            \n",
       "\n",
       "NOME                                ASSOC LOJ  SHONPPING ALDEOTA  \\\n",
       "PROJETO                                                            \n",
       "0101 - FCPC                                                21,40   \n",
       "0104 - FCPC - 124.176-1 - ENCARGOS                           nan   \n",
       "\n",
       "NOME                                ASSOCI BRASILEIRA DAS EDIT UNIVERSITARI  \\\n",
       "PROJETO                                                                       \n",
       "0101 - FCPC                                                             nan   \n",
       "0104 - FCPC - 124.176-1 - ENCARGOS                                      nan   \n",
       "\n",
       "NOME                                                            ...                                \\\n",
       "PROJETO                                                         ...                                 \n",
       "0101 - FCPC                                                     ...                                 \n",
       "0104 - FCPC - 124.176-1 - ENCARGOS                              ...                                 \n",
       "\n",
       "NOME                                UNIVERSIDADE FEDERAL DO CEARA  \\\n",
       "PROJETO                                                             \n",
       "0101 - FCPC                                            147.018,95   \n",
       "0104 - FCPC - 124.176-1 - ENCARGOS                            nan   \n",
       "\n",
       "NOME                                UPS DO BRASIL REM. EXP. LTDA  \\\n",
       "PROJETO                                                            \n",
       "0101 - FCPC                                                  nan   \n",
       "0104 - FCPC - 124.176-1 - ENCARGOS                           nan   \n",
       "\n",
       "NOME                                VALKA INDUSTRIA E COMERCIO DE CERCS LTDA-ME  \\\n",
       "PROJETO                                                                           \n",
       "0101 - FCPC                                                                 nan   \n",
       "0104 - FCPC - 124.176-1 - ENCARGOS                                          nan   \n",
       "\n",
       "NOME                                VALMIR PONTES ALCIMOR ROCHA SOCIEDADE SOCIEDADE DE ADVOGADOS  \\\n",
       "PROJETO                                                                                            \n",
       "0101 - FCPC                                                                 10.000,00              \n",
       "0104 - FCPC - 124.176-1 - ENCARGOS                                                nan              \n",
       "\n",
       "NOME                                VICTOR BRUNO RODRIGUES PARENTE  \\\n",
       "PROJETO                                                              \n",
       "0101 - FCPC                                                    nan   \n",
       "0104 - FCPC - 124.176-1 - ENCARGOS                             nan   \n",
       "\n",
       "NOME                                VIDEOMAR REDE NORDESTE S/A  \\\n",
       "PROJETO                                                          \n",
       "0101 - FCPC                                             381,45   \n",
       "0104 - FCPC - 124.176-1 - ENCARGOS                         nan   \n",
       "\n",
       "NOME                                W&M PUBLICIDADE LTDA - EPP  \\\n",
       "PROJETO                                                          \n",
       "0101 - FCPC                                                nan   \n",
       "0104 - FCPC - 124.176-1 - ENCARGOS                         nan   \n",
       "\n",
       "NOME                                WAMA PRODUTOS PARA LABORATORIO LTDA  \\\n",
       "PROJETO                                                                   \n",
       "0101 - FCPC                                                         nan   \n",
       "0104 - FCPC - 124.176-1 - ENCARGOS                                  nan   \n",
       "\n",
       "NOME                                WF XIMENES - ME  \\\n",
       "PROJETO                                               \n",
       "0101 - FCPC                                     nan   \n",
       "0104 - FCPC - 124.176-1 - ENCARGOS              nan   \n",
       "\n",
       "NOME                                ZARARTE TURISMO, AGENCIAMENTO, EVENTOS E CONSULTORIA LTDA -ME  \n",
       "PROJETO                                                                                            \n",
       "0101 - FCPC                                                                       nan              \n",
       "0104 - FCPC - 124.176-1 - ENCARGOS                                                nan              \n",
       "\n",
       "[2 rows x 132 columns]"
      ]
     },
     "execution_count": 55,
     "metadata": {},
     "output_type": "execute_result"
    }
   ],
   "source": [
    "# NaNs quando não há valores para a combinação\n",
    "#    lembrar que sum tem skipna=True por default\n",
    "\n",
    "# o método .unstack() passa o nível mais interno de um index\n",
    "#    para a outra dimensão\n",
    "# no exemplo, o nível mais interno após o group by é NOME(último elemento do .groupby)\n",
    "#    ao executar .unstack(), ele passa a ser utilizado nas colunas\n",
    "fcpc\\\n",
    ".groupby([\"PROJETO\", \"NOME\"])\\\n",
    "[\"VALOR (R$)\"]\\\n",
    ".sum()\\\n",
    ".unstack()\\\n",
    ".head(2)"
   ]
  },
  {
   "cell_type": "code",
   "execution_count": 57,
   "metadata": {
    "collapsed": false
   },
   "outputs": [
    {
     "data": {
      "text/html": [
       "<div>\n",
       "<style>\n",
       "    .dataframe thead tr:only-child th {\n",
       "        text-align: right;\n",
       "    }\n",
       "\n",
       "    .dataframe thead th {\n",
       "        text-align: left;\n",
       "    }\n",
       "\n",
       "    .dataframe tbody tr th {\n",
       "        vertical-align: top;\n",
       "    }\n",
       "</style>\n",
       "<table border=\"1\" class=\"dataframe\">\n",
       "  <thead>\n",
       "    <tr style=\"text-align: right;\">\n",
       "      <th>NOME</th>\n",
       "      <th>A &amp; C COMERCIO DE ARTIGOS DE PESCA E LAZER LTDA - EPP</th>\n",
       "      <th>A C Q COMERCIO E REP.LTDA ME</th>\n",
       "      <th>ALEXANDRE DA SILVA RIBEIRO-ME</th>\n",
       "      <th>ALTERNATE SISTEMAS E INFOMATICA LTDA</th>\n",
       "      <th>APA COMERCIO DE PRODUTOS MED. HOSP. E LAB. LTDA. EPP</th>\n",
       "      <th>APEFERR COM DE FERRAMENTAS EPIS E MAQUINAS LTDA ME</th>\n",
       "      <th>APIGUANA MAQUINAS E FERRAMENTAS LTDA</th>\n",
       "      <th>AQUATIK INTELIGENCIA E SERVICO ESPEC EM AQUATICULTURA LTDA</th>\n",
       "      <th>ASSOC LOJ  SHONPPING ALDEOTA</th>\n",
       "      <th>ASSOCI BRASILEIRA DAS EDIT UNIVERSITARI</th>\n",
       "      <th>...</th>\n",
       "      <th>UNIVERSIDADE FEDERAL DO CEARA</th>\n",
       "      <th>UPS DO BRASIL REM. EXP. LTDA</th>\n",
       "      <th>VALKA INDUSTRIA E COMERCIO DE CERCS LTDA-ME</th>\n",
       "      <th>VALMIR PONTES ALCIMOR ROCHA SOCIEDADE SOCIEDADE DE ADVOGADOS</th>\n",
       "      <th>VICTOR BRUNO RODRIGUES PARENTE</th>\n",
       "      <th>VIDEOMAR REDE NORDESTE S/A</th>\n",
       "      <th>W&amp;M PUBLICIDADE LTDA - EPP</th>\n",
       "      <th>WAMA PRODUTOS PARA LABORATORIO LTDA</th>\n",
       "      <th>WF XIMENES - ME</th>\n",
       "      <th>ZARARTE TURISMO, AGENCIAMENTO, EVENTOS E CONSULTORIA LTDA -ME</th>\n",
       "    </tr>\n",
       "    <tr>\n",
       "      <th>PROJETO</th>\n",
       "      <th></th>\n",
       "      <th></th>\n",
       "      <th></th>\n",
       "      <th></th>\n",
       "      <th></th>\n",
       "      <th></th>\n",
       "      <th></th>\n",
       "      <th></th>\n",
       "      <th></th>\n",
       "      <th></th>\n",
       "      <th></th>\n",
       "      <th></th>\n",
       "      <th></th>\n",
       "      <th></th>\n",
       "      <th></th>\n",
       "      <th></th>\n",
       "      <th></th>\n",
       "      <th></th>\n",
       "      <th></th>\n",
       "      <th></th>\n",
       "      <th></th>\n",
       "    </tr>\n",
       "  </thead>\n",
       "  <tbody>\n",
       "    <tr>\n",
       "      <th>0101 - FCPC</th>\n",
       "      <td>nan</td>\n",
       "      <td>nan</td>\n",
       "      <td>900,00</td>\n",
       "      <td>nan</td>\n",
       "      <td>nan</td>\n",
       "      <td>nan</td>\n",
       "      <td>542,00</td>\n",
       "      <td>nan</td>\n",
       "      <td>21,40</td>\n",
       "      <td>nan</td>\n",
       "      <td>...</td>\n",
       "      <td>147.018,95</td>\n",
       "      <td>nan</td>\n",
       "      <td>nan</td>\n",
       "      <td>10.000,00</td>\n",
       "      <td>nan</td>\n",
       "      <td>381,45</td>\n",
       "      <td>nan</td>\n",
       "      <td>nan</td>\n",
       "      <td>nan</td>\n",
       "      <td>nan</td>\n",
       "    </tr>\n",
       "    <tr>\n",
       "      <th>0104 - FCPC - 124.176-1 - ENCARGOS</th>\n",
       "      <td>nan</td>\n",
       "      <td>nan</td>\n",
       "      <td>nan</td>\n",
       "      <td>nan</td>\n",
       "      <td>nan</td>\n",
       "      <td>nan</td>\n",
       "      <td>nan</td>\n",
       "      <td>nan</td>\n",
       "      <td>nan</td>\n",
       "      <td>nan</td>\n",
       "      <td>...</td>\n",
       "      <td>nan</td>\n",
       "      <td>nan</td>\n",
       "      <td>nan</td>\n",
       "      <td>nan</td>\n",
       "      <td>nan</td>\n",
       "      <td>nan</td>\n",
       "      <td>nan</td>\n",
       "      <td>nan</td>\n",
       "      <td>nan</td>\n",
       "      <td>nan</td>\n",
       "    </tr>\n",
       "  </tbody>\n",
       "</table>\n",
       "<p>2 rows × 132 columns</p>\n",
       "</div>"
      ],
      "text/plain": [
       "NOME                                A & C COMERCIO DE ARTIGOS DE PESCA E LAZER LTDA - EPP  \\\n",
       "PROJETO                                                                                     \n",
       "0101 - FCPC                                                                       nan       \n",
       "0104 - FCPC - 124.176-1 - ENCARGOS                                                nan       \n",
       "\n",
       "NOME                                A C Q COMERCIO E REP.LTDA ME  \\\n",
       "PROJETO                                                            \n",
       "0101 - FCPC                                                  nan   \n",
       "0104 - FCPC - 124.176-1 - ENCARGOS                           nan   \n",
       "\n",
       "NOME                                ALEXANDRE DA SILVA RIBEIRO-ME  \\\n",
       "PROJETO                                                             \n",
       "0101 - FCPC                                                900,00   \n",
       "0104 - FCPC - 124.176-1 - ENCARGOS                            nan   \n",
       "\n",
       "NOME                                ALTERNATE SISTEMAS E INFOMATICA LTDA  \\\n",
       "PROJETO                                                                    \n",
       "0101 - FCPC                                                          nan   \n",
       "0104 - FCPC - 124.176-1 - ENCARGOS                                   nan   \n",
       "\n",
       "NOME                                APA COMERCIO DE PRODUTOS MED. HOSP. E LAB. LTDA. EPP  \\\n",
       "PROJETO                                                                                    \n",
       "0101 - FCPC                                                                       nan      \n",
       "0104 - FCPC - 124.176-1 - ENCARGOS                                                nan      \n",
       "\n",
       "NOME                                APEFERR COM DE FERRAMENTAS EPIS E MAQUINAS LTDA ME  \\\n",
       "PROJETO                                                                                  \n",
       "0101 - FCPC                                                                       nan    \n",
       "0104 - FCPC - 124.176-1 - ENCARGOS                                                nan    \n",
       "\n",
       "NOME                                APIGUANA MAQUINAS E FERRAMENTAS LTDA  \\\n",
       "PROJETO                                                                    \n",
       "0101 - FCPC                                                       542,00   \n",
       "0104 - FCPC - 124.176-1 - ENCARGOS                                   nan   \n",
       "\n",
       "NOME                                AQUATIK INTELIGENCIA E SERVICO ESPEC EM AQUATICULTURA LTDA  \\\n",
       "PROJETO                                                                                          \n",
       "0101 - FCPC                                                                       nan            \n",
       "0104 - FCPC - 124.176-1 - ENCARGOS                                                nan            \n",
       "\n",
       "NOME                                ASSOC LOJ  SHONPPING ALDEOTA  \\\n",
       "PROJETO                                                            \n",
       "0101 - FCPC                                                21,40   \n",
       "0104 - FCPC - 124.176-1 - ENCARGOS                           nan   \n",
       "\n",
       "NOME                                ASSOCI BRASILEIRA DAS EDIT UNIVERSITARI  \\\n",
       "PROJETO                                                                       \n",
       "0101 - FCPC                                                             nan   \n",
       "0104 - FCPC - 124.176-1 - ENCARGOS                                      nan   \n",
       "\n",
       "NOME                                                            ...                                \\\n",
       "PROJETO                                                         ...                                 \n",
       "0101 - FCPC                                                     ...                                 \n",
       "0104 - FCPC - 124.176-1 - ENCARGOS                              ...                                 \n",
       "\n",
       "NOME                                UNIVERSIDADE FEDERAL DO CEARA  \\\n",
       "PROJETO                                                             \n",
       "0101 - FCPC                                            147.018,95   \n",
       "0104 - FCPC - 124.176-1 - ENCARGOS                            nan   \n",
       "\n",
       "NOME                                UPS DO BRASIL REM. EXP. LTDA  \\\n",
       "PROJETO                                                            \n",
       "0101 - FCPC                                                  nan   \n",
       "0104 - FCPC - 124.176-1 - ENCARGOS                           nan   \n",
       "\n",
       "NOME                                VALKA INDUSTRIA E COMERCIO DE CERCS LTDA-ME  \\\n",
       "PROJETO                                                                           \n",
       "0101 - FCPC                                                                 nan   \n",
       "0104 - FCPC - 124.176-1 - ENCARGOS                                          nan   \n",
       "\n",
       "NOME                                VALMIR PONTES ALCIMOR ROCHA SOCIEDADE SOCIEDADE DE ADVOGADOS  \\\n",
       "PROJETO                                                                                            \n",
       "0101 - FCPC                                                                 10.000,00              \n",
       "0104 - FCPC - 124.176-1 - ENCARGOS                                                nan              \n",
       "\n",
       "NOME                                VICTOR BRUNO RODRIGUES PARENTE  \\\n",
       "PROJETO                                                              \n",
       "0101 - FCPC                                                    nan   \n",
       "0104 - FCPC - 124.176-1 - ENCARGOS                             nan   \n",
       "\n",
       "NOME                                VIDEOMAR REDE NORDESTE S/A  \\\n",
       "PROJETO                                                          \n",
       "0101 - FCPC                                             381,45   \n",
       "0104 - FCPC - 124.176-1 - ENCARGOS                         nan   \n",
       "\n",
       "NOME                                W&M PUBLICIDADE LTDA - EPP  \\\n",
       "PROJETO                                                          \n",
       "0101 - FCPC                                                nan   \n",
       "0104 - FCPC - 124.176-1 - ENCARGOS                         nan   \n",
       "\n",
       "NOME                                WAMA PRODUTOS PARA LABORATORIO LTDA  \\\n",
       "PROJETO                                                                   \n",
       "0101 - FCPC                                                         nan   \n",
       "0104 - FCPC - 124.176-1 - ENCARGOS                                  nan   \n",
       "\n",
       "NOME                                WF XIMENES - ME  \\\n",
       "PROJETO                                               \n",
       "0101 - FCPC                                     nan   \n",
       "0104 - FCPC - 124.176-1 - ENCARGOS              nan   \n",
       "\n",
       "NOME                                ZARARTE TURISMO, AGENCIAMENTO, EVENTOS E CONSULTORIA LTDA -ME  \n",
       "PROJETO                                                                                            \n",
       "0101 - FCPC                                                                       nan              \n",
       "0104 - FCPC - 124.176-1 - ENCARGOS                                                nan              \n",
       "\n",
       "[2 rows x 132 columns]"
      ]
     },
     "execution_count": 57,
     "metadata": {},
     "output_type": "execute_result"
    }
   ],
   "source": [
    "# mesmo resultado com pd.pivot_table\n",
    "# data\n",
    "# index -> informa o que deve ser utilizado como index de linhas\n",
    "# columns -> informa o que deve ser utilizado como index de colunas\n",
    "# values -> informa o que deve ser utilizado para gerar os valores\n",
    "# aggfunc -> informa que função deve ser utilizada para agregar os values\n",
    "\n",
    "pd.pivot_table(fcpc,\n",
    "               index=\"PROJETO\", \n",
    "               columns=\"NOME\", \n",
    "               values=\"VALOR (R$)\", \n",
    "               aggfunc=\"sum\")\\\n",
    ".head(2)"
   ]
  },
  {
   "cell_type": "markdown",
   "metadata": {
    "deletable": true,
    "editable": true
   },
   "source": [
    "# Operações de conjuntos"
   ]
  },
  {
   "cell_type": "code",
   "execution_count": 58,
   "metadata": {
    "collapsed": false,
    "deletable": true,
    "editable": true
   },
   "outputs": [
    {
     "data": {
      "text/plain": [
       "0       Brasil\n",
       "1          USA\n",
       "2           UK\n",
       "3    Argentina\n",
       "4       Brasil\n",
       "dtype: object"
      ]
     },
     "execution_count": 58,
     "metadata": {},
     "output_type": "execute_result"
    }
   ],
   "source": [
    "n = pd.Series(['Brasil', \"USA\", \"UK\", \"Argentina\", \"Brasil\"])\n",
    "\n",
    "n"
   ]
  },
  {
   "cell_type": "code",
   "execution_count": 350,
   "metadata": {
    "collapsed": false,
    "deletable": true,
    "editable": true
   },
   "outputs": [
    {
     "data": {
      "text/plain": [
       "array(['Brasil', 'USA', 'UK', 'Argentina'], dtype=object)"
      ]
     },
     "execution_count": 350,
     "metadata": {},
     "output_type": "execute_result"
    }
   ],
   "source": [
    "# retorna um array contendo os valores únicos para a Series\n",
    "n.unique()"
   ]
  },
  {
   "cell_type": "code",
   "execution_count": 352,
   "metadata": {
    "collapsed": false,
    "deletable": true,
    "editable": true
   },
   "outputs": [
    {
     "data": {
      "text/plain": [
       "0     True\n",
       "1    False\n",
       "2    False\n",
       "3     True\n",
       "4     True\n",
       "dtype: bool"
      ]
     },
     "execution_count": 352,
     "metadata": {},
     "output_type": "execute_result"
    }
   ],
   "source": [
    "# retorna uma Series booleana indicando para cada índice de n\n",
    "#    se ele está contido ou não na lista passada\n",
    "n.isin(['Brasil', 'Argentina'])"
   ]
  },
  {
   "cell_type": "code",
   "execution_count": 61,
   "metadata": {
    "collapsed": false
   },
   "outputs": [
    {
     "data": {
      "text/plain": [
       "0       Brasil\n",
       "3    Argentina\n",
       "4       Brasil\n",
       "dtype: object"
      ]
     },
     "execution_count": 61,
     "metadata": {},
     "output_type": "execute_result"
    }
   ],
   "source": [
    "# filtrando os registros cujos valores estejam no conjunto\n",
    "n[n.isin(['Brasil', 'Argentina'])]"
   ]
  },
  {
   "cell_type": "markdown",
   "metadata": {},
   "source": [
    "# Exercício 9"
   ]
  }
 ],
 "metadata": {
  "kernelspec": {
   "display_name": "Python 3",
   "language": "python",
   "name": "python3"
  },
  "language_info": {
   "codemirror_mode": {
    "name": "ipython",
    "version": 3
   },
   "file_extension": ".py",
   "mimetype": "text/x-python",
   "name": "python",
   "nbconvert_exporter": "python",
   "pygments_lexer": "ipython3",
   "version": "3.6.1"
  }
 },
 "nbformat": 4,
 "nbformat_minor": 2
}
