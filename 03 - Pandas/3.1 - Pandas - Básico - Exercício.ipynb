{
 "cells": [
  {
   "cell_type": "code",
   "execution_count": 9,
   "metadata": {
    "collapsed": true,
    "deletable": true,
    "editable": true
   },
   "outputs": [],
   "source": [
    "import pandas as pd\n",
    "import numpy as np\n",
    "np.random.seed(0)"
   ]
  },
  {
   "cell_type": "markdown",
   "metadata": {
    "deletable": true,
    "editable": true
   },
   "source": [
    "# Exercício 1\n",
    "\n",
    "1. Crie uma Series com os valores de 25 a 1405, de 2 em 2 - ex: [25, 27, 29, ... ,1405]\n",
    "\n",
    "2. Verifique qual é o seu centésimo elemento. Lembrar que o index default começa em 0\n",
    "\n",
    "3. Verifique que ela contém o valor 1231"
   ]
  },
  {
   "cell_type": "code",
   "execution_count": null,
   "metadata": {
    "collapsed": true,
    "deletable": true,
    "editable": true
   },
   "outputs": [],
   "source": []
  },
  {
   "cell_type": "code",
   "execution_count": null,
   "metadata": {
    "collapsed": true,
    "deletable": true,
    "editable": true
   },
   "outputs": [],
   "source": []
  },
  {
   "cell_type": "code",
   "execution_count": null,
   "metadata": {
    "collapsed": true,
    "deletable": true,
    "editable": true
   },
   "outputs": [],
   "source": []
  },
  {
   "cell_type": "markdown",
   "metadata": {
    "deletable": true,
    "editable": true
   },
   "source": [
    "# Exercício 2\n",
    "\n",
    "1. Verifique o valor para o index Z\n",
    "2. Gere uma Series contendo os valores para os indíces a, b, Z, t, x, nessa ordem\n",
    "3. Gere uma Series contendo os valores nas posições 2, 44, 13, 9, nessa ordem\n",
    "4. Gere uma Series contendo os valores para os indíces de 'a' a 't'\n",
    "5. Gere uma Series contendo todos os valores a partir do K, inclusive"
   ]
  },
  {
   "cell_type": "code",
   "execution_count": 31,
   "metadata": {
    "collapsed": false,
    "deletable": true,
    "editable": true
   },
   "outputs": [
    {
     "data": {
      "text/plain": [
       "A    65\n",
       "B    66\n",
       "C    67\n",
       "D    68\n",
       "E    69\n",
       "dtype: int64"
      ]
     },
     "execution_count": 31,
     "metadata": {},
     "output_type": "execute_result"
    }
   ],
   "source": [
    "s = pd.Series(data=range(65, 123), index=(chr(x) for x in range(65, 123)))\n",
    "\n",
    "s.head()"
   ]
  },
  {
   "cell_type": "markdown",
   "metadata": {
    "collapsed": true,
    "deletable": true,
    "editable": true
   },
   "source": [
    "# Exercício 3\n",
    "\n",
    "A Series **s** contém temperaturas em celsius.\n",
    "\n",
    "1. Gere uma Series com os valores em fahrenheit. F = C*1.8 + 32\n",
    "2. Gere uma Series contendo, para cada posição, True se o valor da temperatura em fahrenheit for menor que 50, False caso contrário\n",
    "3. Gere uma Series com os valores em fahrenheit multiplicados pelos respectivos valores em **z**\n",
    "4. Gere uma Series contendo apenas os valores em fahrenheit menores que 30"
   ]
  },
  {
   "cell_type": "code",
   "execution_count": 10,
   "metadata": {
    "collapsed": false
   },
   "outputs": [],
   "source": [
    "s = pd.Series(range(-30, 90))\n",
    "z = pd.Series(np.random.randn(len(s)))"
   ]
  },
  {
   "cell_type": "code",
   "execution_count": null,
   "metadata": {
    "collapsed": true
   },
   "outputs": [],
   "source": []
  },
  {
   "cell_type": "markdown",
   "metadata": {},
   "source": [
    "# Exercício 4\n",
    "\n",
    "As Series **jan** e **fev** contêm informações sobre remuneração nos meses janeiro e fevereiro, respectivamente.\n",
    "\n",
    "1. Gere uma Series contendo a soma das remunerações nos dois meses. Caso só exista remuneração em apenas um mês, o resultado deverá ser NaN.\n",
    "2. Gere uma Series contendo a soma das remunerações nos dois meses. Caso só exista remuneração em apenas um mês, o resultado deverá ser o valor nele. Olhar o método .add\n",
    "2. Calcule a soma de remunerações de janeiro e a soma de remunerações de fevereiro.\n",
    "3. Verifique qual mês possui a maior média de remuneração."
   ]
  },
  {
   "cell_type": "code",
   "execution_count": 11,
   "metadata": {
    "collapsed": true
   },
   "outputs": [],
   "source": [
    "jan = pd.Series(data=[10000, 3000, 4000],\n",
    "                index=[\"abe\", \"ze\", \"leo\"])\n",
    "fev = pd.Series(data=[2000, 1000, 40000],\n",
    "                index=[\"abe\", \"leo\", \"francisco\"])"
   ]
  },
  {
   "cell_type": "code",
   "execution_count": null,
   "metadata": {
    "collapsed": true
   },
   "outputs": [],
   "source": []
  },
  {
   "cell_type": "markdown",
   "metadata": {},
   "source": [
    "# Exercício 5\n",
    "\n"
   ]
  },
  {
   "cell_type": "code",
   "execution_count": null,
   "metadata": {
    "collapsed": true
   },
   "outputs": [],
   "source": []
  }
 ],
 "metadata": {
  "kernelspec": {
   "display_name": "Python 3",
   "language": "python",
   "name": "python3"
  },
  "language_info": {
   "codemirror_mode": {
    "name": "ipython",
    "version": 3
   },
   "file_extension": ".py",
   "mimetype": "text/x-python",
   "name": "python",
   "nbconvert_exporter": "python",
   "pygments_lexer": "ipython3",
   "version": "3.6.1"
  }
 },
 "nbformat": 4,
 "nbformat_minor": 2
}
