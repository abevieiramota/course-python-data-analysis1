{
 "cells": [
  {
   "cell_type": "code",
   "execution_count": 54,
   "metadata": {
    "collapsed": true,
    "deletable": true,
    "editable": true
   },
   "outputs": [],
   "source": [
    "import pandas as pd\n",
    "import numpy as np\n",
    "from datetime import datetime\n",
    "import seaborn as sns\n",
    "%matplotlib inline\n",
    "%run ../configura_display.py\n",
    "np.random.seed(0)"
   ]
  },
  {
   "cell_type": "markdown",
   "metadata": {
    "deletable": true,
    "editable": true
   },
   "source": [
    "# Exercício 1\n",
    "\n",
    "1. Crie uma Series com os valores de 25 a 1405, de 2 em 2 - ex: [25, 27, 29, ... ,1405]\n",
    "\n",
    "2. Verifique qual é o seu centésimo elemento. Lembrar que o index default começa em 0\n",
    "\n",
    "3. Verifique que ela contém o valor 1231"
   ]
  },
  {
   "cell_type": "code",
   "execution_count": null,
   "metadata": {
    "collapsed": true,
    "deletable": true,
    "editable": true
   },
   "outputs": [],
   "source": []
  },
  {
   "cell_type": "code",
   "execution_count": null,
   "metadata": {
    "collapsed": true,
    "deletable": true,
    "editable": true
   },
   "outputs": [],
   "source": []
  },
  {
   "cell_type": "code",
   "execution_count": null,
   "metadata": {
    "collapsed": true,
    "deletable": true,
    "editable": true
   },
   "outputs": [],
   "source": []
  },
  {
   "cell_type": "markdown",
   "metadata": {
    "deletable": true,
    "editable": true
   },
   "source": [
    "# Exercício 2\n",
    "\n",
    "1. Verifique o valor para o index Z\n",
    "2. Gere uma Series contendo os valores para os indíces a, b, Z, t, x, nessa ordem\n",
    "3. Gere uma Series contendo os valores nas posições 2, 44, 13, 9, nessa ordem\n",
    "4. Gere uma Series contendo os valores para os indíces de 'a' a 't'\n",
    "5. Gere uma Series contendo todos os valores a partir do K, inclusive"
   ]
  },
  {
   "cell_type": "code",
   "execution_count": 31,
   "metadata": {
    "collapsed": false,
    "deletable": true,
    "editable": true
   },
   "outputs": [
    {
     "data": {
      "text/plain": [
       "A    65\n",
       "B    66\n",
       "C    67\n",
       "D    68\n",
       "E    69\n",
       "dtype: int64"
      ]
     },
     "execution_count": 31,
     "metadata": {},
     "output_type": "execute_result"
    }
   ],
   "source": [
    "s = pd.Series(data=range(65, 123), index=(chr(x) for x in range(65, 123)))\n",
    "\n",
    "s.head()"
   ]
  },
  {
   "cell_type": "markdown",
   "metadata": {
    "collapsed": true,
    "deletable": true,
    "editable": true
   },
   "source": [
    "# Exercício 3\n",
    "\n",
    "A Series **s** contém temperaturas em celsius.\n",
    "\n",
    "1. Gere uma Series com os valores em fahrenheit. F = C*1.8 + 32\n",
    "2. Gere uma Series contendo, para cada posição, True se o valor da temperatura em fahrenheit for menor que 50, False caso contrário\n",
    "3. Gere uma Series com os valores em fahrenheit multiplicados pelos respectivos valores em **z**\n",
    "4. Gere uma Series contendo apenas os valores em fahrenheit menores que 30"
   ]
  },
  {
   "cell_type": "code",
   "execution_count": 10,
   "metadata": {
    "collapsed": false,
    "deletable": true,
    "editable": true
   },
   "outputs": [],
   "source": [
    "s = pd.Series(range(-30, 90))\n",
    "z = pd.Series(np.random.randn(len(s)))"
   ]
  },
  {
   "cell_type": "code",
   "execution_count": null,
   "metadata": {
    "collapsed": true,
    "deletable": true,
    "editable": true
   },
   "outputs": [],
   "source": []
  },
  {
   "cell_type": "markdown",
   "metadata": {
    "deletable": true,
    "editable": true
   },
   "source": [
    "# Exercício 4\n",
    "\n",
    "As Series **jan** e **fev** contêm informações sobre remuneração nos meses janeiro e fevereiro, respectivamente.\n",
    "\n",
    "1. Gere uma Series contendo a soma das remunerações nos dois meses. Caso só exista remuneração em apenas um mês, o resultado deverá ser NaN.\n",
    "2. Gere uma Series contendo a soma das remunerações nos dois meses. Caso só exista remuneração em apenas um mês, o resultado deverá ser o valor nele. Olhar o método .add\n",
    "2. Calcule a soma de remunerações de janeiro e a soma de remunerações de fevereiro.\n",
    "3. Verifique qual mês possui a maior média de remuneração."
   ]
  },
  {
   "cell_type": "code",
   "execution_count": 11,
   "metadata": {
    "collapsed": true,
    "deletable": true,
    "editable": true
   },
   "outputs": [],
   "source": [
    "jan = pd.Series(data=[10000, 3000, 4000],\n",
    "                index=[\"abe\", \"ze\", \"leo\"])\n",
    "fev = pd.Series(data=[2000, 1000, 40000],\n",
    "                index=[\"abe\", \"leo\", \"francisco\"])"
   ]
  },
  {
   "cell_type": "code",
   "execution_count": null,
   "metadata": {
    "collapsed": true,
    "deletable": true,
    "editable": true
   },
   "outputs": [],
   "source": []
  },
  {
   "cell_type": "markdown",
   "metadata": {
    "deletable": true,
    "editable": true
   },
   "source": [
    "# Exercício 5\n",
    "\n",
    "Utilizando o dataframe df\n",
    "\n",
    "1. Gere uma nova coluna contendo o IMC. IMC = peso / altura^2\n",
    "2. Gere um novo dataframe contendo apenas aqueles cujo IMC é menor que 30"
   ]
  },
  {
   "cell_type": "code",
   "execution_count": 8,
   "metadata": {
    "collapsed": false,
    "deletable": true,
    "editable": true
   },
   "outputs": [
    {
     "data": {
      "text/html": [
       "<div>\n",
       "<style>\n",
       "    .dataframe thead tr:only-child th {\n",
       "        text-align: right;\n",
       "    }\n",
       "\n",
       "    .dataframe thead th {\n",
       "        text-align: left;\n",
       "    }\n",
       "\n",
       "    .dataframe tbody tr th {\n",
       "        vertical-align: top;\n",
       "    }\n",
       "</style>\n",
       "<table border=\"1\" class=\"dataframe\">\n",
       "  <thead>\n",
       "    <tr style=\"text-align: right;\">\n",
       "      <th></th>\n",
       "      <th>altura</th>\n",
       "      <th>peso</th>\n",
       "    </tr>\n",
       "    <tr>\n",
       "      <th>nome</th>\n",
       "      <th></th>\n",
       "      <th></th>\n",
       "    </tr>\n",
       "  </thead>\n",
       "  <tbody>\n",
       "    <tr>\n",
       "      <th>abelardo</th>\n",
       "      <td>1.71</td>\n",
       "      <td>80</td>\n",
       "    </tr>\n",
       "    <tr>\n",
       "      <th>adornildo</th>\n",
       "      <td>1.92</td>\n",
       "      <td>120</td>\n",
       "    </tr>\n",
       "    <tr>\n",
       "      <th>josino</th>\n",
       "      <td>1.70</td>\n",
       "      <td>75</td>\n",
       "    </tr>\n",
       "    <tr>\n",
       "      <th>mariana</th>\n",
       "      <td>1.61</td>\n",
       "      <td>45</td>\n",
       "    </tr>\n",
       "  </tbody>\n",
       "</table>\n",
       "</div>"
      ],
      "text/plain": [
       "           altura  peso\n",
       "nome                   \n",
       "abelardo     1.71    80\n",
       "adornildo    1.92   120\n",
       "josino       1.70    75\n",
       "mariana      1.61    45"
      ]
     },
     "execution_count": 8,
     "metadata": {},
     "output_type": "execute_result"
    }
   ],
   "source": [
    "df = pd.DataFrame({\"nome\": [\"abelardo\", \"adornildo\", \"josino\", \"mariana\"],\n",
    "                   \"altura\": [1.71, 1.92, 1.7, 1.61],\n",
    "                   \"peso\": [80, 120, 75, 45]})\n",
    "\n",
    "df = df.set_index(\"nome\")\n",
    "df"
   ]
  },
  {
   "cell_type": "markdown",
   "metadata": {
    "deletable": true,
    "editable": true
   },
   "source": [
    "Utilizando o dataframe m\n",
    "\n",
    "1. Gere um dataframe contendo a soma de suas colunas\n",
    "2. Identifique quais 2 colunas possuem maior soma\n",
    "3. Gere um dataframe contendo a soma de suas linhas\n",
    "4. Identifique quais 2 linhas possuem menor soma\n",
    "\n",
    "Para a identificação das colunas/linhas com maiores/menores somas, ver:\n",
    "\n",
    "https://pandas.pydata.org/pandas-docs/stable/generated/pandas.Series.nlargest.html\n",
    "\n",
    "http://pandas.pydata.org/pandas-docs/stable/generated/pandas.Series.nsmallest.html"
   ]
  },
  {
   "cell_type": "code",
   "execution_count": 10,
   "metadata": {
    "collapsed": false,
    "deletable": true,
    "editable": true
   },
   "outputs": [
    {
     "data": {
      "text/html": [
       "<div>\n",
       "<style>\n",
       "    .dataframe thead tr:only-child th {\n",
       "        text-align: right;\n",
       "    }\n",
       "\n",
       "    .dataframe thead th {\n",
       "        text-align: left;\n",
       "    }\n",
       "\n",
       "    .dataframe tbody tr th {\n",
       "        vertical-align: top;\n",
       "    }\n",
       "</style>\n",
       "<table border=\"1\" class=\"dataframe\">\n",
       "  <thead>\n",
       "    <tr style=\"text-align: right;\">\n",
       "      <th></th>\n",
       "      <th>0</th>\n",
       "      <th>1</th>\n",
       "      <th>2</th>\n",
       "      <th>3</th>\n",
       "      <th>4</th>\n",
       "      <th>5</th>\n",
       "      <th>6</th>\n",
       "      <th>7</th>\n",
       "      <th>8</th>\n",
       "      <th>9</th>\n",
       "      <th>...</th>\n",
       "      <th>15</th>\n",
       "      <th>16</th>\n",
       "      <th>17</th>\n",
       "      <th>18</th>\n",
       "      <th>19</th>\n",
       "      <th>20</th>\n",
       "      <th>21</th>\n",
       "      <th>22</th>\n",
       "      <th>23</th>\n",
       "      <th>24</th>\n",
       "    </tr>\n",
       "  </thead>\n",
       "  <tbody>\n",
       "    <tr>\n",
       "      <th>0</th>\n",
       "      <td>684</td>\n",
       "      <td>559</td>\n",
       "      <td>629</td>\n",
       "      <td>192</td>\n",
       "      <td>835</td>\n",
       "      <td>763</td>\n",
       "      <td>707</td>\n",
       "      <td>359</td>\n",
       "      <td>9</td>\n",
       "      <td>723</td>\n",
       "      <td>...</td>\n",
       "      <td>472</td>\n",
       "      <td>600</td>\n",
       "      <td>396</td>\n",
       "      <td>314</td>\n",
       "      <td>705</td>\n",
       "      <td>486</td>\n",
       "      <td>551</td>\n",
       "      <td>87</td>\n",
       "      <td>174</td>\n",
       "      <td>600</td>\n",
       "    </tr>\n",
       "    <tr>\n",
       "      <th>1</th>\n",
       "      <td>849</td>\n",
       "      <td>677</td>\n",
       "      <td>537</td>\n",
       "      <td>845</td>\n",
       "      <td>72</td>\n",
       "      <td>777</td>\n",
       "      <td>916</td>\n",
       "      <td>115</td>\n",
       "      <td>976</td>\n",
       "      <td>755</td>\n",
       "      <td>...</td>\n",
       "      <td>99</td>\n",
       "      <td>984</td>\n",
       "      <td>177</td>\n",
       "      <td>755</td>\n",
       "      <td>797</td>\n",
       "      <td>659</td>\n",
       "      <td>147</td>\n",
       "      <td>910</td>\n",
       "      <td>423</td>\n",
       "      <td>288</td>\n",
       "    </tr>\n",
       "    <tr>\n",
       "      <th>2</th>\n",
       "      <td>961</td>\n",
       "      <td>265</td>\n",
       "      <td>697</td>\n",
       "      <td>639</td>\n",
       "      <td>544</td>\n",
       "      <td>543</td>\n",
       "      <td>714</td>\n",
       "      <td>244</td>\n",
       "      <td>151</td>\n",
       "      <td>675</td>\n",
       "      <td>...</td>\n",
       "      <td>802</td>\n",
       "      <td>128</td>\n",
       "      <td>128</td>\n",
       "      <td>932</td>\n",
       "      <td>53</td>\n",
       "      <td>901</td>\n",
       "      <td>550</td>\n",
       "      <td>488</td>\n",
       "      <td>756</td>\n",
       "      <td>273</td>\n",
       "    </tr>\n",
       "    <tr>\n",
       "      <th>3</th>\n",
       "      <td>335</td>\n",
       "      <td>388</td>\n",
       "      <td>617</td>\n",
       "      <td>42</td>\n",
       "      <td>442</td>\n",
       "      <td>543</td>\n",
       "      <td>888</td>\n",
       "      <td>257</td>\n",
       "      <td>321</td>\n",
       "      <td>999</td>\n",
       "      <td>...</td>\n",
       "      <td>779</td>\n",
       "      <td>430</td>\n",
       "      <td>82</td>\n",
       "      <td>91</td>\n",
       "      <td>896</td>\n",
       "      <td>398</td>\n",
       "      <td>611</td>\n",
       "      <td>565</td>\n",
       "      <td>908</td>\n",
       "      <td>633</td>\n",
       "    </tr>\n",
       "    <tr>\n",
       "      <th>4</th>\n",
       "      <td>938</td>\n",
       "      <td>84</td>\n",
       "      <td>203</td>\n",
       "      <td>324</td>\n",
       "      <td>774</td>\n",
       "      <td>964</td>\n",
       "      <td>47</td>\n",
       "      <td>639</td>\n",
       "      <td>131</td>\n",
       "      <td>972</td>\n",
       "      <td>...</td>\n",
       "      <td>227</td>\n",
       "      <td>954</td>\n",
       "      <td>791</td>\n",
       "      <td>719</td>\n",
       "      <td>909</td>\n",
       "      <td>373</td>\n",
       "      <td>853</td>\n",
       "      <td>560</td>\n",
       "      <td>305</td>\n",
       "      <td>581</td>\n",
       "    </tr>\n",
       "  </tbody>\n",
       "</table>\n",
       "<p>5 rows × 25 columns</p>\n",
       "</div>"
      ],
      "text/plain": [
       "    0    1    2    3    4    5    6    7    8    9  ...    15   16   17   18  \\\n",
       "0  684  559  629  192  835  763  707  359    9  723 ...   472  600  396  314   \n",
       "1  849  677  537  845   72  777  916  115  976  755 ...    99  984  177  755   \n",
       "2  961  265  697  639  544  543  714  244  151  675 ...   802  128  128  932   \n",
       "3  335  388  617   42  442  543  888  257  321  999 ...   779  430   82   91   \n",
       "4  938   84  203  324  774  964   47  639  131  972 ...   227  954  791  719   \n",
       "\n",
       "    19   20   21   22   23   24  \n",
       "0  705  486  551   87  174  600  \n",
       "1  797  659  147  910  423  288  \n",
       "2   53  901  550  488  756  273  \n",
       "3  896  398  611  565  908  633  \n",
       "4  909  373  853  560  305  581  \n",
       "\n",
       "[5 rows x 25 columns]"
      ]
     },
     "execution_count": 10,
     "metadata": {},
     "output_type": "execute_result"
    }
   ],
   "source": [
    "m = pd.DataFrame(np.random.randint(0, 1000, 1000).reshape(40, 25))\n",
    "\n",
    "m.head()"
   ]
  },
  {
   "cell_type": "code",
   "execution_count": null,
   "metadata": {
    "collapsed": true,
    "deletable": true,
    "editable": true
   },
   "outputs": [],
   "source": []
  },
  {
   "cell_type": "markdown",
   "metadata": {
    "deletable": true,
    "editable": true
   },
   "source": [
    "# Exercício 6\n",
    "\n",
    "Para o dataframe fcpc:\n",
    "\n",
    "1. Gere um novo dataframe contendo apenas os registros cujo NOME seja UNIVERSIDADE FEDERAL DO CEARA\n",
    "2. Calcule a soma de VALOR (R$) do dataframe gerado em 1."
   ]
  },
  {
   "cell_type": "code",
   "execution_count": 34,
   "metadata": {
    "collapsed": false,
    "deletable": true,
    "editable": true
   },
   "outputs": [
    {
     "data": {
      "text/html": [
       "<div>\n",
       "<style>\n",
       "    .dataframe thead tr:only-child th {\n",
       "        text-align: right;\n",
       "    }\n",
       "\n",
       "    .dataframe thead th {\n",
       "        text-align: left;\n",
       "    }\n",
       "\n",
       "    .dataframe tbody tr th {\n",
       "        vertical-align: top;\n",
       "    }\n",
       "</style>\n",
       "<table border=\"1\" class=\"dataframe\">\n",
       "  <thead>\n",
       "    <tr style=\"text-align: right;\">\n",
       "      <th></th>\n",
       "      <th>CNPJ</th>\n",
       "      <th>NOME</th>\n",
       "      <th>PROJETO</th>\n",
       "      <th>DATA</th>\n",
       "      <th>VALOR (R$)</th>\n",
       "    </tr>\n",
       "  </thead>\n",
       "  <tbody>\n",
       "    <tr>\n",
       "      <th>0</th>\n",
       "      <td>***.00.000/****-90</td>\n",
       "      <td>BANCO DO BRASIL SA</td>\n",
       "      <td>0101 - FCPC</td>\n",
       "      <td>2017-01-13</td>\n",
       "      <td>6.694,90</td>\n",
       "    </tr>\n",
       "    <tr>\n",
       "      <th>1</th>\n",
       "      <td>***.00.071/****-21</td>\n",
       "      <td>LUREX DISTRIBUIDORA DE BATERIAS LTDA</td>\n",
       "      <td>0101 - FCPC</td>\n",
       "      <td>2017-01-06</td>\n",
       "      <td>453,00</td>\n",
       "    </tr>\n",
       "    <tr>\n",
       "      <th>2</th>\n",
       "      <td>***.00.125/****-52</td>\n",
       "      <td>BONTEMPO REFRIGERACAO LTDA</td>\n",
       "      <td>3224 - TC SMART/UFC/FCPC - DESENVOLVIMENTO DE ...</td>\n",
       "      <td>2017-01-03</td>\n",
       "      <td>1.360,00</td>\n",
       "    </tr>\n",
       "    <tr>\n",
       "      <th>3</th>\n",
       "      <td>***.00.204/****-20</td>\n",
       "      <td>NONO TABELIONATO DE NOTAS</td>\n",
       "      <td>0101 - FCPC</td>\n",
       "      <td>2017-02-01</td>\n",
       "      <td>396,27</td>\n",
       "    </tr>\n",
       "    <tr>\n",
       "      <th>4</th>\n",
       "      <td>***.00.204/****-20</td>\n",
       "      <td>NONO TABELIONATO DE NOTAS</td>\n",
       "      <td>0101 - FCPC</td>\n",
       "      <td>2017-01-02</td>\n",
       "      <td>24,81</td>\n",
       "    </tr>\n",
       "  </tbody>\n",
       "</table>\n",
       "</div>"
      ],
      "text/plain": [
       "                 CNPJ                                  NOME  \\\n",
       "0  ***.00.000/****-90                    BANCO DO BRASIL SA   \n",
       "1  ***.00.071/****-21  LUREX DISTRIBUIDORA DE BATERIAS LTDA   \n",
       "2  ***.00.125/****-52            BONTEMPO REFRIGERACAO LTDA   \n",
       "3  ***.00.204/****-20             NONO TABELIONATO DE NOTAS   \n",
       "4  ***.00.204/****-20             NONO TABELIONATO DE NOTAS   \n",
       "\n",
       "                                             PROJETO       DATA  VALOR (R$)  \n",
       "0                                        0101 - FCPC 2017-01-13    6.694,90  \n",
       "1                                        0101 - FCPC 2017-01-06      453,00  \n",
       "2  3224 - TC SMART/UFC/FCPC - DESENVOLVIMENTO DE ... 2017-01-03    1.360,00  \n",
       "3                                        0101 - FCPC 2017-02-01      396,27  \n",
       "4                                        0101 - FCPC 2017-01-02       24,81  "
      ]
     },
     "execution_count": 34,
     "metadata": {},
     "output_type": "execute_result"
    }
   ],
   "source": [
    "fcpc = pd.read_csv(\"2017 - 19-02.csv\", \n",
    "                   thousands=\".\", \n",
    "                   decimal=\",\",\n",
    "                   parse_dates=[\"DATA\"],\n",
    "                   date_parser=lambda x: datetime.strptime(x, \"%d/%m/%Y\"))\n",
    "\n",
    "fcpc.head()"
   ]
  },
  {
   "cell_type": "code",
   "execution_count": null,
   "metadata": {
    "collapsed": true,
    "deletable": true,
    "editable": true
   },
   "outputs": [],
   "source": []
  },
  {
   "cell_type": "markdown",
   "metadata": {
    "deletable": true,
    "editable": true
   },
   "source": [
    "# Exercício 7\n",
    "\n",
    "Para o dataframe fcpc:\n",
    "\n",
    "1. Gere uma Series indicando, para cada registro em fcpc, se seu NOME termina com 'SA', 'LTDA' ou com outros valores(nesse caso, retornar 'OUTRO')\n",
    "2. Verifique quantos registros há em fcpc para cada valor retornado em 1. Utilizar o .value_counts()\n",
    "3. Gere um DataFrame contendo em cada célula o valor correspondente em fcpc, mas formatado da seguinte forma: \"Valor: {}\".format(valor)\n",
    "4. Ordene o DataFrame fcpc por VALOR (R$) e retorne os 5 primeiros registros. Utilizar o .head()"
   ]
  },
  {
   "cell_type": "code",
   "execution_count": null,
   "metadata": {
    "collapsed": true
   },
   "outputs": [],
   "source": []
  },
  {
   "cell_type": "markdown",
   "metadata": {},
   "source": [
    "# Exercício 8\n",
    "\n",
    "Para o dataframe fcpc:\n",
    "\n",
    "1. Calcule a soma de VALOR (R\\$)\n",
    "2. Calcule a média de VALOR (R\\$)\n",
    "3. Ordene o dataframe pela DATA, ascendente, calcule a soma cumulativa de VALOR (R\\$) e plotar(completar o código)\n",
    "4. Verifique se todos os registros possuem valor abaixo de 1e6. Utilizar .all()\n",
    "5. Filtrar o DataFrame fcpc"
   ]
  },
  {
   "cell_type": "code",
   "execution_count": null,
   "metadata": {
    "collapsed": true
   },
   "outputs": [],
   "source": []
  },
  {
   "cell_type": "code",
   "execution_count": null,
   "metadata": {
    "collapsed": false
   },
   "outputs": [],
   "source": [
    "# 3.\n",
    "# remover os comentários ao inserir o código\n",
    "\n",
    "fcpc\\\n",
    "# ordenar por DATA, ascendente\n",
    ".reset_index()\\\n",
    "# calcular a soma cumulativa de VALOR (R$)\n",
    ".plot.line()"
   ]
  },
  {
   "cell_type": "markdown",
   "metadata": {},
   "source": [
    "# Exercício 9\n",
    "\n",
    "Para o dataframe fcpc:\n",
    "\n",
    "1. Calcule a soma de VALOR (R\\$) por PROJETO\n",
    "2. Verifique quais os 5 PROJETO com maior valor de soma de VALOR (R\\$)\n",
    "3. Calcule a média de VALOR (R\\$) por NOME\n",
    "4. Verifique quais os 5 NOME com maior valor de média de VALOR (R\\$)\n",
    "5. > Descrição na célula"
   ]
  },
  {
   "cell_type": "code",
   "execution_count": null,
   "metadata": {
    "collapsed": true
   },
   "outputs": [],
   "source": []
  },
  {
   "cell_type": "code",
   "execution_count": null,
   "metadata": {
    "collapsed": false
   },
   "outputs": [],
   "source": [
    "# 5.\n",
    "# valores a serem utilizados para filtrar por NOME\n",
    "nomes = [\"BANCO DO BRASIL SA\",\n",
    "         \"UNIMED FORTALEZA\",\n",
    "         \"UNIVERSIDADE FEDERAL DO CEARA\",\n",
    "         \"CAIXA ECONOMICA FEDERAL\",\n",
    "         \"TELEFONICA BRASIL S.A\"]\n",
    "\n",
    "# valores a serem utilizados para filtrar por PROJETO\n",
    "projetos = [\"0101 - FCPC\",\n",
    "            \"3143 - TC - LG/UFC/FCPC - MOBILE, TOOLS & CAS\",\n",
    "            \"3216 - TC LENOVO/UFC/FCPC - DIAG CLOUD 2016\",\n",
    "            \"3191 - TC FURUKAWA/UFC/FCPC - SISTEMA DE GESTÃO DE PRODUÇÃO DE FIBRAS\"]\n",
    "\n",
    "# passe para sns.heatmap\n",
    "# um DataFrame que contenha PROJETO nas linhas\n",
    "#    NOME nas colunas\n",
    "#    e cujas células tenham como valor a soma de VALOR (R$)\n",
    "#    dos respectivos PROJETO e NOME\n",
    "sns.heatmap(\\\n",
    "# filtrar o dataframe por NOME e PROJETO utilizando\n",
    "#    os valores das variáveis nomes e projetos\n",
    ")"
   ]
  }
 ],
 "metadata": {
  "kernelspec": {
   "display_name": "Python 3",
   "language": "python",
   "name": "python3"
  },
  "language_info": {
   "codemirror_mode": {
    "name": "ipython",
    "version": 3
   },
   "file_extension": ".py",
   "mimetype": "text/x-python",
   "name": "python",
   "nbconvert_exporter": "python",
   "pygments_lexer": "ipython3",
   "version": "3.6.1"
  }
 },
 "nbformat": 4,
 "nbformat_minor": 2
}
