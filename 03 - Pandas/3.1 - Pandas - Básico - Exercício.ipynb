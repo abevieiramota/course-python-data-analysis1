{
 "cells": [
  {
   "cell_type": "code",
   "execution_count": 13,
   "metadata": {
    "collapsed": true
   },
   "outputs": [],
   "source": [
    "import pandas as pd\n",
    "import numpy as np"
   ]
  },
  {
   "cell_type": "markdown",
   "metadata": {},
   "source": [
    "# Exercício 1\n",
    "\n",
    "1. Crie uma Series com os valores de 25 a 1405, de 2 em 2 - ex: [25, 27, 29, ... ,1405]\n",
    "\n",
    "2. Verifique qual é o seu centésimo elemento. Lembrar que o index default começa em 0\n",
    "\n",
    "3. Verifique que ela contém o valor 1231"
   ]
  },
  {
   "cell_type": "code",
   "execution_count": null,
   "metadata": {
    "collapsed": true
   },
   "outputs": [],
   "source": []
  },
  {
   "cell_type": "code",
   "execution_count": null,
   "metadata": {
    "collapsed": true
   },
   "outputs": [],
   "source": []
  },
  {
   "cell_type": "code",
   "execution_count": null,
   "metadata": {
    "collapsed": true
   },
   "outputs": [],
   "source": []
  },
  {
   "cell_type": "markdown",
   "metadata": {},
   "source": [
    "# Exercício 2\n",
    "\n",
    "1. Verifique o valor para o index Z\n",
    "2. Gere uma Series contendo os valores para os indíces a, b, Z, t, x, nessa ordem\n",
    "3. Gere uma Series contendo os valores nas posições 2, 44, 13, 9, nessa ordem\n",
    "4. Gere uma Series contendo os valores para os indíces de 'a' a 't'\n",
    "5. Gere uma Series contendo todos os valores a partir do K, inclusive"
   ]
  },
  {
   "cell_type": "code",
   "execution_count": 31,
   "metadata": {
    "collapsed": false
   },
   "outputs": [
    {
     "data": {
      "text/plain": [
       "A    65\n",
       "B    66\n",
       "C    67\n",
       "D    68\n",
       "E    69\n",
       "dtype: int64"
      ]
     },
     "execution_count": 31,
     "metadata": {},
     "output_type": "execute_result"
    }
   ],
   "source": [
    "s = pd.Series(data=range(65, 123), index=(chr(x) for x in range(65, 123)))\n",
    "\n",
    "s.head()"
   ]
  },
  {
   "cell_type": "code",
   "execution_count": null,
   "metadata": {
    "collapsed": true
   },
   "outputs": [],
   "source": []
  }
 ],
 "metadata": {
  "kernelspec": {
   "display_name": "Python 3",
   "language": "python",
   "name": "python3"
  },
  "language_info": {
   "codemirror_mode": {
    "name": "ipython",
    "version": 3
   },
   "file_extension": ".py",
   "mimetype": "text/x-python",
   "name": "python",
   "nbconvert_exporter": "python",
   "pygments_lexer": "ipython3",
   "version": "3.6.1"
  }
 },
 "nbformat": 4,
 "nbformat_minor": 2
}
